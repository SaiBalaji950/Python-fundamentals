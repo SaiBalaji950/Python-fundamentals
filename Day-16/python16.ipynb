{
 "cells": [
  {
   "cell_type": "raw",
   "id": "7add6688-1047-45b8-b05a-38ab03e9a3ac",
   "metadata": {},
   "source": [
    "# Exceptions : Handling Errors in Python Program\n",
    "\"\"\"\n",
    "Error in Python can be of two types i.e. Syntax errors and Exceptions. Errors\n",
    "are problems in a program due to which the program will stop the execution. On\n",
    "the other hand, exceptions are raised when some internal events occur which\n",
    "change the normal flow of the program.\n",
    "\n",
    "Different types of exceptions in python:\n",
    "In Python, there are several built-in Python exceptions that can be raised\n",
    "when an error occurs during the execution of a program.\n",
    "\n",
    "1. SyntaxError\n",
    "2. TypeError\n",
    "3. NameError\n",
    "4. IndexError\n",
    "5. KeyError\n",
    "6. ValueError\n",
    "7. AttributeError\n",
    "8. FileNotFoundError\n",
    "9. ZeroDivisionError\n",
    "10. ImportError\n",
    "\n",
    "Instead of Program crash we can handle the situation & Print proper Error\n",
    "Message. To make this possible we use 'try' and 'except' blocks.\n",
    "\n",
    "Try and except statements are used to catch and handle exceptions in Python.\n",
    "Statements that can raise exceptions are kept inside the try clause and the\n",
    "statements that handle the exception are written inside except clause.\n",
    "\"\"\""
   ]
  },
  {
   "cell_type": "code",
   "execution_count": 1,
   "id": "2f24497c-21b8-4a6f-8426-c86765039e38",
   "metadata": {},
   "outputs": [
    {
     "name": "stdin",
     "output_type": "stream",
     "text": [
      "Enter your Age : 21\n"
     ]
    },
    {
     "name": "stdout",
     "output_type": "stream",
     "text": [
      "21\n"
     ]
    }
   ],
   "source": [
    "age=int(input(\"Enter your Age :\"))\n",
    "print(age)"
   ]
  },
  {
   "cell_type": "code",
   "execution_count": 2,
   "id": "d38d98c9-eac5-4d25-9756-7c458108b37a",
   "metadata": {},
   "outputs": [
    {
     "name": "stdin",
     "output_type": "stream",
     "text": [
      "Enter your Age : Twenty one\n"
     ]
    },
    {
     "ename": "ValueError",
     "evalue": "invalid literal for int() with base 10: 'Twenty one'",
     "output_type": "error",
     "traceback": [
      "\u001b[1;31m---------------------------------------------------------------------------\u001b[0m",
      "\u001b[1;31mValueError\u001b[0m                                Traceback (most recent call last)",
      "Cell \u001b[1;32mIn[2], line 1\u001b[0m\n\u001b[1;32m----> 1\u001b[0m age\u001b[38;5;241m=\u001b[39m\u001b[38;5;28;43mint\u001b[39;49m\u001b[43m(\u001b[49m\u001b[38;5;28;43minput\u001b[39;49m\u001b[43m(\u001b[49m\u001b[38;5;124;43m\"\u001b[39;49m\u001b[38;5;124;43mEnter your Age :\u001b[39;49m\u001b[38;5;124;43m\"\u001b[39;49m\u001b[43m)\u001b[49m\u001b[43m)\u001b[49m\n\u001b[0;32m      2\u001b[0m \u001b[38;5;28mprint\u001b[39m(age)\n",
      "\u001b[1;31mValueError\u001b[0m: invalid literal for int() with base 10: 'Twenty one'"
     ]
    }
   ],
   "source": [
    "age=int(input(\"Enter your Age :\"))\n",
    "print(age)"
   ]
  },
  {
   "cell_type": "code",
   "execution_count": 3,
   "id": "148c77b0-0cc6-4e15-ac0e-c51bbd9df130",
   "metadata": {},
   "outputs": [
    {
     "name": "stdin",
     "output_type": "stream",
     "text": [
      "Enter your Age : 21\n"
     ]
    },
    {
     "name": "stdout",
     "output_type": "stream",
     "text": [
      "21\n"
     ]
    }
   ],
   "source": [
    "try:\n",
    "    age=int(input(\"Enter your Age :\"))\n",
    "    print(age)\n",
    "except:\n",
    "    print(\"Invalid value!!!\")"
   ]
  },
  {
   "cell_type": "code",
   "execution_count": 4,
   "id": "df917327-7c1c-41e1-987d-838ec48e2504",
   "metadata": {},
   "outputs": [
    {
     "name": "stdin",
     "output_type": "stream",
     "text": [
      "Enter your Age : Twenty one\n"
     ]
    },
    {
     "name": "stdout",
     "output_type": "stream",
     "text": [
      "Invalid value!!!\n"
     ]
    }
   ],
   "source": [
    "try:\n",
    "    age=int(input(\"Enter your Age :\"))\n",
    "    print(age)\n",
    "except:\n",
    "    print(\"Invalid value!!!\")"
   ]
  },
  {
   "cell_type": "code",
   "execution_count": 7,
   "id": "94077028-462f-4f1e-82d7-5f5851cd2145",
   "metadata": {},
   "outputs": [
    {
     "ename": "NameError",
     "evalue": "name 'valueError' is not defined",
     "output_type": "error",
     "traceback": [
      "\u001b[1;31m---------------------------------------------------------------------------\u001b[0m",
      "\u001b[1;31mZeroDivisionError\u001b[0m                         Traceback (most recent call last)",
      "Cell \u001b[1;32mIn[7], line 2\u001b[0m\n\u001b[0;32m      1\u001b[0m \u001b[38;5;28;01mtry\u001b[39;00m:\n\u001b[1;32m----> 2\u001b[0m     a\u001b[38;5;241m=\u001b[39m\u001b[38;5;241;43m1\u001b[39;49m\u001b[38;5;241;43m/\u001b[39;49m\u001b[38;5;241;43m0\u001b[39;49m\n\u001b[0;32m      3\u001b[0m \u001b[38;5;28;01mexcept\u001b[39;00m valueError:\n",
      "\u001b[1;31mZeroDivisionError\u001b[0m: division by zero",
      "\nDuring handling of the above exception, another exception occurred:\n",
      "\u001b[1;31mNameError\u001b[0m                                 Traceback (most recent call last)",
      "Cell \u001b[1;32mIn[7], line 3\u001b[0m\n\u001b[0;32m      1\u001b[0m \u001b[38;5;28;01mtry\u001b[39;00m:\n\u001b[0;32m      2\u001b[0m     a\u001b[38;5;241m=\u001b[39m\u001b[38;5;241m1\u001b[39m\u001b[38;5;241m/\u001b[39m\u001b[38;5;241m0\u001b[39m\n\u001b[1;32m----> 3\u001b[0m \u001b[38;5;28;01mexcept\u001b[39;00m \u001b[43mvalueError\u001b[49m:\n\u001b[0;32m      4\u001b[0m     \u001b[38;5;28mprint\u001b[39m(\u001b[38;5;124m'\u001b[39m\u001b[38;5;124mincorrect\u001b[39m\u001b[38;5;124m'\u001b[39m)\n",
      "\u001b[1;31mNameError\u001b[0m: name 'valueError' is not defined"
     ]
    }
   ],
   "source": [
    "try:\n",
    "    a=1/0\n",
    "except valueError:\n",
    "    print('incorrect')"
   ]
  },
  {
   "cell_type": "code",
   "execution_count": 13,
   "id": "db6f7e91-1d08-48f5-af4a-c887e4f12f27",
   "metadata": {},
   "outputs": [
    {
     "name": "stdin",
     "output_type": "stream",
     "text": [
      "Enter numerator : 20\n",
      "Enter denominator : 10\n",
      "Enter your Age : 21\n"
     ]
    },
    {
     "name": "stdout",
     "output_type": "stream",
     "text": [
      "you are 21 old!\n",
      " The Result is correct 2.0\n"
     ]
    }
   ],
   "source": [
    "try:\n",
    "    a=int(input('Enter numerator :'))\n",
    "    b=int(input('Enter denominator :'))\n",
    "    c=int(input('Enter your Age :'))\n",
    "    d=a/b\n",
    "    print(f'you are {c} old!\\n The Result is correct {d}')\n",
    "except ValueError:\n",
    "    print(\"invalid\")\n",
    "except ZeroDivisionError:\n",
    "    print('b cannot be zero')"
   ]
  },
  {
   "cell_type": "code",
   "execution_count": 14,
   "id": "eeb7bbdc-79e3-4fdd-add6-8c1a49baef7b",
   "metadata": {},
   "outputs": [
    {
     "name": "stdin",
     "output_type": "stream",
     "text": [
      "Enter numerator : 21\n",
      "Enter denominator : 0\n",
      "Enter your Age : 21\n"
     ]
    },
    {
     "name": "stdout",
     "output_type": "stream",
     "text": [
      "b cannot be zero\n"
     ]
    }
   ],
   "source": [
    "try:\n",
    "    a=int(input('Enter numerator :'))\n",
    "    b=int(input('Enter denominator :'))\n",
    "    c=int(input('Enter your Age :'))\n",
    "    d=a/b\n",
    "    print(f'you are {c} old!\\n The Result is correct {d}')\n",
    "except ValueError:\n",
    "    print(\"invalid\")\n",
    "except ZeroDivisionError:\n",
    "    print('b cannot be zero')"
   ]
  },
  {
   "cell_type": "code",
   "execution_count": 15,
   "id": "b7b21cc9-085f-4f8a-9807-3702ad53f4ac",
   "metadata": {},
   "outputs": [
    {
     "name": "stdin",
     "output_type": "stream",
     "text": [
      "Enter numerator : 20\n",
      "Enter denominator : 10\n",
      "Enter your Age : twenty one\n"
     ]
    },
    {
     "name": "stdout",
     "output_type": "stream",
     "text": [
      "invalid\n"
     ]
    }
   ],
   "source": [
    "try:\n",
    "    a=int(input('Enter numerator :'))\n",
    "    b=int(input('Enter denominator :'))\n",
    "    c=int(input('Enter your Age :'))\n",
    "    d=a/b\n",
    "    print(f'you are {c} old!\\n The Result is correct {d}')\n",
    "except ValueError:\n",
    "    print(\"invalid\")\n",
    "except ZeroDivisionError:\n",
    "    print('b cannot be zero')"
   ]
  },
  {
   "cell_type": "code",
   "execution_count": 16,
   "id": "7a49f894-5fc5-4d92-85d6-62151546f53b",
   "metadata": {},
   "outputs": [
    {
     "name": "stdin",
     "output_type": "stream",
     "text": [
      "Enter numerator : 20\n",
      "Enter denominator : 10\n",
      "Enter your Age : 21\n"
     ]
    },
    {
     "name": "stdout",
     "output_type": "stream",
     "text": [
      "you are 21 old!\n",
      " The Result is correct 2.0\n"
     ]
    }
   ],
   "source": [
    "try:\n",
    "    a=int(input('Enter numerator :'))\n",
    "    b=int(input('Enter denominator :'))\n",
    "    c=int(input('Enter your Age :'))\n",
    "    d=a/b\n",
    "    print(f'you are {c} old!\\n The Result is correct {d}')\n",
    "except Exception:\n",
    "    print(\"Exception Occured\")"
   ]
  },
  {
   "cell_type": "code",
   "execution_count": 17,
   "id": "6f9f10d3-9ce9-4dc9-ac7f-a816fea696f3",
   "metadata": {},
   "outputs": [
    {
     "name": "stdin",
     "output_type": "stream",
     "text": [
      "Enter numerator : 20\n",
      "Enter denominator : 0\n",
      "Enter your Age : 21\n"
     ]
    },
    {
     "name": "stdout",
     "output_type": "stream",
     "text": [
      "Exception Occured\n"
     ]
    }
   ],
   "source": [
    "try:\n",
    "    a=int(input('Enter numerator :'))\n",
    "    b=int(input('Enter denominator :'))\n",
    "    c=int(input('Enter your Age :'))\n",
    "    d=a/b\n",
    "    print(f'you are {c} old!\\n The Result is correct {d}')\n",
    "except Exception:\n",
    "    print(\"Exception Occured\")"
   ]
  },
  {
   "cell_type": "code",
   "execution_count": 18,
   "id": "61b85950-f37e-42de-a1a7-1ff29a2fbc87",
   "metadata": {},
   "outputs": [
    {
     "name": "stdin",
     "output_type": "stream",
     "text": [
      "Enter numerator : 20\n",
      "Enter denominator : 10\n",
      "Enter your Age : Twenty one\n"
     ]
    },
    {
     "name": "stdout",
     "output_type": "stream",
     "text": [
      "Exception Occured\n"
     ]
    }
   ],
   "source": [
    "try:\n",
    "    a=int(input('Enter numerator :'))\n",
    "    b=int(input('Enter denominator :'))\n",
    "    c=int(input('Enter your Age :'))\n",
    "    d=a/b\n",
    "    print(f'you are {c} old!\\n The Result is correct {d}')\n",
    "except Exception:\n",
    "    print(\"Exception Occured\")"
   ]
  },
  {
   "cell_type": "code",
   "execution_count": 19,
   "id": "39ab2c44-f85f-40b2-9db1-5d58801fa124",
   "metadata": {},
   "outputs": [
    {
     "name": "stdin",
     "output_type": "stream",
     "text": [
      "Enter numerator : 20\n",
      "Enter denominator : 10\n",
      "Enter your Age : 21\n"
     ]
    },
    {
     "name": "stdout",
     "output_type": "stream",
     "text": [
      "you are 21 old!\n",
      " The Result is correct 2.0\n",
      "no exception occured\n"
     ]
    }
   ],
   "source": [
    "try:\n",
    "    a=int(input('Enter numerator :'))\n",
    "    b=int(input('Enter denominator :'))\n",
    "    c=int(input('Enter your Age :'))\n",
    "    d=a/b\n",
    "    print(f'you are {c} old!\\n The Result is correct {d}')\n",
    "except ZeroDivisionError:\n",
    "    print('b cannot be zero')\n",
    "else:\n",
    "    print('no exception occured')"
   ]
  },
  {
   "cell_type": "code",
   "execution_count": 20,
   "id": "a9c50ac7-c449-4fd8-a9bd-ed17d24305b4",
   "metadata": {},
   "outputs": [
    {
     "name": "stdin",
     "output_type": "stream",
     "text": [
      "Enter numerator : 20\n",
      "Enter denominator : 0\n",
      "Enter your Age : 21\n"
     ]
    },
    {
     "name": "stdout",
     "output_type": "stream",
     "text": [
      "b cannot be zero\n"
     ]
    }
   ],
   "source": [
    "try:\n",
    "    a=int(input('Enter numerator :'))\n",
    "    b=int(input('Enter denominator :'))\n",
    "    c=int(input('Enter your Age :'))\n",
    "    d=a/b\n",
    "    print(f'you are {c} old!\\n The Result is correct {d}')\n",
    "except ZeroDivisionError:\n",
    "    print('b cannot be zero')\n",
    "else:\n",
    "    print('no exception occured')"
   ]
  },
  {
   "cell_type": "code",
   "execution_count": 23,
   "id": "428e3a45-de3f-4bc3-89be-e98a38683baa",
   "metadata": {},
   "outputs": [
    {
     "name": "stdin",
     "output_type": "stream",
     "text": [
      "Enter numerator : 20\n",
      "Enter denominator : 10\n",
      "Enter your Age : 21\n"
     ]
    },
    {
     "name": "stdout",
     "output_type": "stream",
     "text": [
      "you are 21 old!\n",
      " The Result is correct 2.0\n",
      "no exception occured\n",
      "Finally it was executed\n"
     ]
    }
   ],
   "source": [
    "try:\n",
    "    a=int(input('Enter numerator :'))\n",
    "    b=int(input('Enter denominator :'))\n",
    "    c=int(input('Enter your Age :'))\n",
    "    d=a/b\n",
    "    print(f'you are {c} old!\\n The Result is correct {d}')\n",
    "except ZeroDivisionError:\n",
    "    print('b cannot be zero')\n",
    "else:\n",
    "    print('no exception occured')\n",
    "finally:\n",
    "    print(\"Finally it was executed\")"
   ]
  },
  {
   "cell_type": "code",
   "execution_count": 24,
   "id": "eb8042d7-3d22-478a-9472-ec4fc8fa057c",
   "metadata": {},
   "outputs": [
    {
     "name": "stdin",
     "output_type": "stream",
     "text": [
      "Enter numerator : 20\n",
      "Enter denominator : 0\n",
      "Enter your Age : 21\n"
     ]
    },
    {
     "name": "stdout",
     "output_type": "stream",
     "text": [
      "b cannot be zero\n",
      "Finally it was executed\n"
     ]
    }
   ],
   "source": [
    "try:\n",
    "    a=int(input('Enter numerator :'))\n",
    "    b=int(input('Enter denominator :'))\n",
    "    c=int(input('Enter your Age :'))\n",
    "    d=a/b\n",
    "    print(f'you are {c} old!\\n The Result is correct {d}')\n",
    "except ZeroDivisionError:\n",
    "    print('b cannot be zero')\n",
    "else:\n",
    "    print('no exception occured')\n",
    "finally:\n",
    "    print(\"Finally it was executed\")"
   ]
  },
  {
   "cell_type": "code",
   "execution_count": 26,
   "id": "084582e4-b843-4071-ad8b-58a6d11c8f7b",
   "metadata": {},
   "outputs": [
    {
     "name": "stdout",
     "output_type": "stream",
     "text": [
      "Error: An Exception occured.\n"
     ]
    }
   ],
   "source": [
    "try:\n",
    "    raise ZeroDivisionError(\"Raising an Exception...\")\n",
    "except ZeroDivisionError:\n",
    "    print(\"Error: An Exception occured.\")"
   ]
  },
  {
   "cell_type": "raw",
   "id": "a58eed1c-fc37-478f-83f5-9b3d12fbef95",
   "metadata": {},
   "source": [
    "try:\n",
    "    raise NameError(\"Raising an Exception\")\n",
    "except NameError:\n",
    "    print(\"Exception Block...\")\n",
    "    raise"
   ]
  },
  {
   "cell_type": "raw",
   "id": "42134beb-fe1f-45cc-9f42-b0bdb55594cf",
   "metadata": {},
   "source": [
    "print(dir(locals()['__builtins__']))"
   ]
  },
  {
   "cell_type": "raw",
   "id": "3a39dd70-4475-4314-8692-897caac0e910",
   "metadata": {},
   "source": [
    "Syntax error"
   ]
  },
  {
   "cell_type": "raw",
   "id": "edd9f423-1575-48d6-bc7e-5d01a7b87d94",
   "metadata": {},
   "source": [
    "# SyntaxError\n",
    "\"\"\"\n",
    "SyntaxError: This exception is raised when the interpreter encounters a\n",
    "             syntax error in the code, such as a misspelled keyword, a\n",
    "             missing colon, or an unbalanced parenthesis.\n",
    "\"\"\""
   ]
  },
  {
   "cell_type": "code",
   "execution_count": 29,
   "id": "a2e06be9-5616-40c3-b3e5-85c160b052a5",
   "metadata": {},
   "outputs": [
    {
     "ename": "SyntaxError",
     "evalue": "invalid syntax (363442688.py, line 2)",
     "output_type": "error",
     "traceback": [
      "\u001b[1;36m  Cell \u001b[1;32mIn[29], line 2\u001b[1;36m\u001b[0m\n\u001b[1;33m    in age>21:\u001b[0m\n\u001b[1;37m    ^\u001b[0m\n\u001b[1;31mSyntaxError\u001b[0m\u001b[1;31m:\u001b[0m invalid syntax\n"
     ]
    }
   ],
   "source": [
    "age=int(input(\"Enter your Age :\"))\n",
    "in age>21:\n",
    "    print(\"they are major\")"
   ]
  },
  {
   "cell_type": "code",
   "execution_count": 31,
   "id": "a4f87e1f-955f-49e7-9985-a4256d22644e",
   "metadata": {},
   "outputs": [
    {
     "ename": "SyntaxError",
     "evalue": "invalid syntax (3640814933.py, line 3)",
     "output_type": "error",
     "traceback": [
      "\u001b[1;36m  Cell \u001b[1;32mIn[31], line 3\u001b[1;36m\u001b[0m\n\u001b[1;33m    if age>21\u001b[0m\n\u001b[1;37m             ^\u001b[0m\n\u001b[1;31mSyntaxError\u001b[0m\u001b[1;31m:\u001b[0m invalid syntax\n"
     ]
    }
   ],
   "source": [
    "# Example-2 : Missing Colon.\n",
    "age=int(input(\"Enter your Age :\"))\n",
    "if age>21\n",
    "    print(\"they are major\")"
   ]
  },
  {
   "cell_type": "code",
   "execution_count": 32,
   "id": "ad6f66ce-6335-42af-afd3-4ebf879fc0ad",
   "metadata": {},
   "outputs": [
    {
     "ename": "SyntaxError",
     "evalue": "invalid syntax (1019158216.py, line 3)",
     "output_type": "error",
     "traceback": [
      "\u001b[1;36m  Cell \u001b[1;32mIn[32], line 3\u001b[1;36m\u001b[0m\n\u001b[1;33m    if (age>21:\u001b[0m\n\u001b[1;37m              ^\u001b[0m\n\u001b[1;31mSyntaxError\u001b[0m\u001b[1;31m:\u001b[0m invalid syntax\n"
     ]
    }
   ],
   "source": [
    "# Example-3 : An Unbalanced Parenthesis.\n",
    "age=int(input(\"Enter your Age :\"))\n",
    "if (age>21:\n",
    "    print(\"they are major\")"
   ]
  },
  {
   "cell_type": "code",
   "execution_count": 34,
   "id": "3c7d36a7-f843-4dbf-8d98-e901834f8c31",
   "metadata": {},
   "outputs": [
    {
     "name": "stdin",
     "output_type": "stream",
     "text": [
      "Enter your Age : 21\n"
     ]
    },
    {
     "name": "stdout",
     "output_type": "stream",
     "text": [
      "they are major\n"
     ]
    }
   ],
   "source": [
    "#these are all syntax errors\n",
    "age=int(input(\"Enter your Age :\"))\n",
    "if (age>18):\n",
    "    print(\"they are major\")"
   ]
  },
  {
   "cell_type": "raw",
   "id": "ea086c50-4eb1-4357-b8ee-b4a33d47a6b0",
   "metadata": {},
   "source": [
    "# TypeError\n",
    "\"\"\"\n",
    "TypeError: This exception is raised when an operation or function is applied\n",
    "           to an object of the wrong type, such as adding a string to an\n",
    "           integer.\n",
    "\"\"\""
   ]
  },
  {
   "cell_type": "code",
   "execution_count": 35,
   "id": "7172ef49-367d-46fb-8324-e20261aac2d6",
   "metadata": {},
   "outputs": [
    {
     "ename": "TypeError",
     "evalue": "unsupported operand type(s) for +: 'int' and 'str'",
     "output_type": "error",
     "traceback": [
      "\u001b[1;31m---------------------------------------------------------------------------\u001b[0m",
      "\u001b[1;31mTypeError\u001b[0m                                 Traceback (most recent call last)",
      "Cell \u001b[1;32mIn[35], line 3\u001b[0m\n\u001b[0;32m      1\u001b[0m a\u001b[38;5;241m=\u001b[39m\u001b[38;5;241m10\u001b[39m\n\u001b[0;32m      2\u001b[0m b\u001b[38;5;241m=\u001b[39m\u001b[38;5;124m'\u001b[39m\u001b[38;5;124mbalaji\u001b[39m\u001b[38;5;124m'\u001b[39m\n\u001b[1;32m----> 3\u001b[0m c\u001b[38;5;241m=\u001b[39m\u001b[43ma\u001b[49m\u001b[38;5;241;43m+\u001b[39;49m\u001b[43mb\u001b[49m\n\u001b[0;32m      4\u001b[0m \u001b[38;5;28mprint\u001b[39m(c)\n",
      "\u001b[1;31mTypeError\u001b[0m: unsupported operand type(s) for +: 'int' and 'str'"
     ]
    }
   ],
   "source": [
    "a=10\n",
    "b='balaji'\n",
    "c=a+b\n",
    "print(c)"
   ]
  },
  {
   "cell_type": "code",
   "execution_count": 36,
   "id": "7713916d-79b6-4f7b-bf03-7c937b4291fe",
   "metadata": {},
   "outputs": [
    {
     "name": "stdout",
     "output_type": "stream",
     "text": [
      "TypeError was Occured\n"
     ]
    }
   ],
   "source": [
    "try:\n",
    "    a=10\n",
    "    b='balaji'\n",
    "    c=a+b\n",
    "    print(c)\n",
    "except TypeError:\n",
    "    print('TypeError was Occured')"
   ]
  },
  {
   "cell_type": "code",
   "execution_count": 37,
   "id": "0195b2ff-53b3-4a26-9947-89f1e2f42caa",
   "metadata": {},
   "outputs": [
    {
     "ename": "TypeError",
     "evalue": "can't multiply sequence by non-int of type 'str'",
     "output_type": "error",
     "traceback": [
      "\u001b[1;31m---------------------------------------------------------------------------\u001b[0m",
      "\u001b[1;31mTypeError\u001b[0m                                 Traceback (most recent call last)",
      "Cell \u001b[1;32mIn[37], line 3\u001b[0m\n\u001b[0;32m      1\u001b[0m a\u001b[38;5;241m=\u001b[39m\u001b[38;5;124m'\u001b[39m\u001b[38;5;124msai\u001b[39m\u001b[38;5;124m'\u001b[39m\n\u001b[0;32m      2\u001b[0m b\u001b[38;5;241m=\u001b[39m\u001b[38;5;124m'\u001b[39m\u001b[38;5;124mbalaji\u001b[39m\u001b[38;5;124m'\u001b[39m\n\u001b[1;32m----> 3\u001b[0m c\u001b[38;5;241m=\u001b[39m\u001b[43ma\u001b[49m\u001b[38;5;241;43m*\u001b[39;49m\u001b[43mb\u001b[49m\n\u001b[0;32m      4\u001b[0m \u001b[38;5;28mprint\u001b[39m(c)\n",
      "\u001b[1;31mTypeError\u001b[0m: can't multiply sequence by non-int of type 'str'"
     ]
    }
   ],
   "source": [
    "a='sai'\n",
    "b='balaji'\n",
    "c=a*b\n",
    "print(c)"
   ]
  },
  {
   "cell_type": "code",
   "execution_count": 38,
   "id": "21aeedb6-55e7-48b7-9cb9-41f471cd16ed",
   "metadata": {},
   "outputs": [
    {
     "name": "stdout",
     "output_type": "stream",
     "text": [
      "TypeError was occured\n"
     ]
    }
   ],
   "source": [
    "try:\n",
    "    a='sai'\n",
    "    b='balaji'\n",
    "    c=a*b\n",
    "    print(c)\n",
    "except TypeError:\n",
    "    print('TypeError was occured')"
   ]
  },
  {
   "cell_type": "code",
   "execution_count": 39,
   "id": "4be8a8a9-3113-49e1-942e-ce4dd7184a7b",
   "metadata": {},
   "outputs": [
    {
     "ename": "TypeError",
     "evalue": "'int' object is not callable",
     "output_type": "error",
     "traceback": [
      "\u001b[1;31m---------------------------------------------------------------------------\u001b[0m",
      "\u001b[1;31mTypeError\u001b[0m                                 Traceback (most recent call last)",
      "Cell \u001b[1;32mIn[39], line 2\u001b[0m\n\u001b[0;32m      1\u001b[0m a\u001b[38;5;241m=\u001b[39m\u001b[38;5;241m10\u001b[39m\n\u001b[1;32m----> 2\u001b[0m \u001b[43ma\u001b[49m\u001b[43m(\u001b[49m\u001b[43m)\u001b[49m\n",
      "\u001b[1;31mTypeError\u001b[0m: 'int' object is not callable"
     ]
    }
   ],
   "source": [
    "a=10\n",
    "a()"
   ]
  },
  {
   "cell_type": "code",
   "execution_count": 40,
   "id": "b73547b8-3054-42f1-9faa-82e5d536d4fd",
   "metadata": {},
   "outputs": [
    {
     "name": "stdout",
     "output_type": "stream",
     "text": [
      "it was not callable due to typeerror\n"
     ]
    }
   ],
   "source": [
    "try:\n",
    "    a=10\n",
    "    a()\n",
    "except TypeError:\n",
    "    print(\"it was not callable due to typeerror\")"
   ]
  },
  {
   "cell_type": "code",
   "execution_count": 41,
   "id": "15292b9a-c1f1-4de8-94c6-4fbef0ac2cb6",
   "metadata": {},
   "outputs": [
    {
     "ename": "TypeError",
     "evalue": "list indices must be integers or slices, not str",
     "output_type": "error",
     "traceback": [
      "\u001b[1;31m---------------------------------------------------------------------------\u001b[0m",
      "\u001b[1;31mTypeError\u001b[0m                                 Traceback (most recent call last)",
      "Cell \u001b[1;32mIn[41], line 2\u001b[0m\n\u001b[0;32m      1\u001b[0m a\u001b[38;5;241m=\u001b[39m[\u001b[38;5;241m10\u001b[39m,\u001b[38;5;241m20\u001b[39m,\u001b[38;5;241m30\u001b[39m,\u001b[38;5;241m40\u001b[39m]\n\u001b[1;32m----> 2\u001b[0m \u001b[38;5;28mprint\u001b[39m(\u001b[43ma\u001b[49m\u001b[43m[\u001b[49m\u001b[38;5;124;43m'\u001b[39;49m\u001b[38;5;124;43m1\u001b[39;49m\u001b[38;5;124;43m'\u001b[39;49m\u001b[43m]\u001b[49m)\n",
      "\u001b[1;31mTypeError\u001b[0m: list indices must be integers or slices, not str"
     ]
    }
   ],
   "source": [
    "a=[10,20,30,40]\n",
    "print(a['1'])"
   ]
  },
  {
   "cell_type": "code",
   "execution_count": 42,
   "id": "345c41fc-614c-4aa8-964f-895b80f033ab",
   "metadata": {},
   "outputs": [
    {
     "name": "stdout",
     "output_type": "stream",
     "text": [
      "20\n"
     ]
    }
   ],
   "source": [
    "a=[10,20,30,40]\n",
    "print(a[1])"
   ]
  },
  {
   "cell_type": "code",
   "execution_count": 43,
   "id": "4441da8f-fe96-4cd6-ac63-042a98a9ee81",
   "metadata": {},
   "outputs": [
    {
     "name": "stdout",
     "output_type": "stream",
     "text": [
      "typeerror was occured\n"
     ]
    }
   ],
   "source": [
    "try:\n",
    "    a=[10,20,30,40]\n",
    "    print(a['1'])\n",
    "except TypeError:\n",
    "    print(\"typeerror was occured\")"
   ]
  },
  {
   "cell_type": "code",
   "execution_count": 44,
   "id": "bcf091cf-d57f-4a18-a4eb-6a7a9fd7deb3",
   "metadata": {},
   "outputs": [
    {
     "ename": "TypeError",
     "evalue": "a() missing 1 required positional argument: 'name'",
     "output_type": "error",
     "traceback": [
      "\u001b[1;31m---------------------------------------------------------------------------\u001b[0m",
      "\u001b[1;31mTypeError\u001b[0m                                 Traceback (most recent call last)",
      "Cell \u001b[1;32mIn[44], line 3\u001b[0m\n\u001b[0;32m      1\u001b[0m \u001b[38;5;28;01mdef\u001b[39;00m \u001b[38;5;21ma\u001b[39m(name):\n\u001b[0;32m      2\u001b[0m     \u001b[38;5;28mprint\u001b[39m(\u001b[38;5;124m\"\u001b[39m\u001b[38;5;124mHello \u001b[39m\u001b[38;5;132;01m{}\u001b[39;00m\u001b[38;5;124m\"\u001b[39m,\u001b[38;5;28mformat\u001b[39m(name))\n\u001b[1;32m----> 3\u001b[0m \u001b[43ma\u001b[49m\u001b[43m(\u001b[49m\u001b[43m)\u001b[49m\n",
      "\u001b[1;31mTypeError\u001b[0m: a() missing 1 required positional argument: 'name'"
     ]
    }
   ],
   "source": [
    "def a(name):\n",
    "    print(\"Hello {}\",format(name))\n",
    "a()"
   ]
  },
  {
   "cell_type": "code",
   "execution_count": 46,
   "id": "57199c9b-e106-495c-8c1e-a6b5f45c48a9",
   "metadata": {},
   "outputs": [
    {
     "name": "stdout",
     "output_type": "stream",
     "text": [
      "TypeError\n"
     ]
    }
   ],
   "source": [
    "try:\n",
    "    def a(name):\n",
    "        print(\"Hello {}\",format(name))\n",
    "    a()\n",
    "except TypeError:\n",
    "    print('TypeError')"
   ]
  },
  {
   "cell_type": "code",
   "execution_count": 48,
   "id": "c2fa9c3a-2e7d-4c44-b946-38b8b895ccdf",
   "metadata": {},
   "outputs": [
    {
     "name": "stdout",
     "output_type": "stream",
     "text": [
      "sai\n",
      "balaji\n",
      "typeerror\n"
     ]
    }
   ],
   "source": [
    "#Handling TypeErrors\n",
    "a=['sai','balaji','sai balaji']\n",
    "b=[0,1,'2']\n",
    "for i in range(len(b)):\n",
    "    try:\n",
    "        print(a[b[i]])\n",
    "    except TypeError:\n",
    "        print(\"typeerror\")"
   ]
  },
  {
   "cell_type": "raw",
   "id": "9f8d0cec-823e-4245-ae72-09ac0085aac8",
   "metadata": {},
   "source": [
    "# NameError\n",
    "\"\"\"\n",
    "NameError: This exception is raised when a variable or function name is not\n",
    "           found in the current scope.\n",
    "\"\"\""
   ]
  },
  {
   "cell_type": "code",
   "execution_count": 52,
   "id": "a92f2794-fd47-4151-b460-1a2efa8f2fd5",
   "metadata": {},
   "outputs": [
    {
     "ename": "NameError",
     "evalue": "name 'age1' is not defined",
     "output_type": "error",
     "traceback": [
      "\u001b[1;31m---------------------------------------------------------------------------\u001b[0m",
      "\u001b[1;31mNameError\u001b[0m                                 Traceback (most recent call last)",
      "Cell \u001b[1;32mIn[52], line 2\u001b[0m\n\u001b[0;32m      1\u001b[0m a\u001b[38;5;241m=\u001b[39m\u001b[38;5;124m'\u001b[39m\u001b[38;5;124msai balaji\u001b[39m\u001b[38;5;124m'\u001b[39m\n\u001b[1;32m----> 2\u001b[0m \u001b[38;5;28mprint\u001b[39m(\u001b[38;5;124mf\u001b[39m\u001b[38;5;124m'\u001b[39m\u001b[38;5;124mMy name is \u001b[39m\u001b[38;5;132;01m{\u001b[39;00ma\u001b[38;5;132;01m}\u001b[39;00m\u001b[38;5;124m and iam \u001b[39m\u001b[38;5;132;01m{\u001b[39;00mage1\u001b[38;5;132;01m}\u001b[39;00m\u001b[38;5;124m years old\u001b[39m\u001b[38;5;124m'\u001b[39m)\n",
      "\u001b[1;31mNameError\u001b[0m: name 'age1' is not defined"
     ]
    }
   ],
   "source": [
    "a='sai balaji'\n",
    "print(f'My name is {a} and iam {age1} years old')"
   ]
  },
  {
   "cell_type": "code",
   "execution_count": 54,
   "id": "e5af2ec0-7ab1-48e1-8b96-fe110e470015",
   "metadata": {},
   "outputs": [
    {
     "name": "stdout",
     "output_type": "stream",
     "text": [
      "My name is sai balaji and iam 21 years old\n"
     ]
    }
   ],
   "source": [
    "a='sai balaji'\n",
    "age1=21\n",
    "print(f'My name is {a} and iam {age1} years old')"
   ]
  },
  {
   "cell_type": "code",
   "execution_count": 55,
   "id": "bbb1b845-f646-4fef-bb80-db0a16095bee",
   "metadata": {},
   "outputs": [
    {
     "ename": "NameError",
     "evalue": "name 'A' is not defined",
     "output_type": "error",
     "traceback": [
      "\u001b[1;31m---------------------------------------------------------------------------\u001b[0m",
      "\u001b[1;31mNameError\u001b[0m                                 Traceback (most recent call last)",
      "Cell \u001b[1;32mIn[55], line 3\u001b[0m\n\u001b[0;32m      1\u001b[0m \u001b[38;5;28;01mdef\u001b[39;00m \u001b[38;5;21ma\u001b[39m():\n\u001b[0;32m      2\u001b[0m     \u001b[38;5;28mprint\u001b[39m(\u001b[38;5;124m\"\u001b[39m\u001b[38;5;124mHello Balaji\u001b[39m\u001b[38;5;124m\"\u001b[39m)\n\u001b[1;32m----> 3\u001b[0m \u001b[43mA\u001b[49m()\n",
      "\u001b[1;31mNameError\u001b[0m: name 'A' is not defined"
     ]
    }
   ],
   "source": [
    "def a():\n",
    "    print(\"Hello Balaji\")\n",
    "A()"
   ]
  },
  {
   "cell_type": "raw",
   "id": "523dc968-948c-457a-9300-3ce5e0600484",
   "metadata": {},
   "source": [
    "def a():\n",
    "    print(\"Hello Balaji\")\n",
    "a()"
   ]
  },
  {
   "cell_type": "code",
   "execution_count": 57,
   "id": "cc472104-e9a2-4f67-bbc9-c1fd7376aedf",
   "metadata": {},
   "outputs": [
    {
     "ename": "NameError",
     "evalue": "name 'math' is not defined",
     "output_type": "error",
     "traceback": [
      "\u001b[1;31m---------------------------------------------------------------------------\u001b[0m",
      "\u001b[1;31mNameError\u001b[0m                                 Traceback (most recent call last)",
      "Cell \u001b[1;32mIn[57], line 1\u001b[0m\n\u001b[1;32m----> 1\u001b[0m \u001b[38;5;28mprint\u001b[39m(\u001b[43mmath\u001b[49m\u001b[38;5;241m.\u001b[39mpi())\n",
      "\u001b[1;31mNameError\u001b[0m: name 'math' is not defined"
     ]
    }
   ],
   "source": [
    "print(math.pi())"
   ]
  },
  {
   "cell_type": "code",
   "execution_count": 59,
   "id": "e9e618f8-d58b-432a-8093-09fb9f18ec3b",
   "metadata": {},
   "outputs": [
    {
     "name": "stdout",
     "output_type": "stream",
     "text": [
      "3.141592653589793\n"
     ]
    }
   ],
   "source": [
    "import math\n",
    "print(math.pi)"
   ]
  },
  {
   "cell_type": "raw",
   "id": "955ad241-c35c-48a7-bfcc-75d9169cf135",
   "metadata": {},
   "source": [
    "# IndexError\n",
    "\"\"\"\n",
    "IndexError: This exception is raised when an index is out of range for a\n",
    "            list, tuple, or other sequence types.\n",
    "\"\"\""
   ]
  },
  {
   "cell_type": "code",
   "execution_count": 2,
   "id": "863992b4-04fe-4453-95ab-ace2f7c7a545",
   "metadata": {},
   "outputs": [
    {
     "name": "stdout",
     "output_type": "stream",
     "text": [
      "a =  [1, 2, 3, 4, 5, 6, 7, 8, 9, 10]\n"
     ]
    },
    {
     "ename": "IndexError",
     "evalue": "list index out of range",
     "output_type": "error",
     "traceback": [
      "\u001b[1;31m---------------------------------------------------------------------------\u001b[0m",
      "\u001b[1;31mIndexError\u001b[0m                                Traceback (most recent call last)",
      "Cell \u001b[1;32mIn[2], line 4\u001b[0m\n\u001b[0;32m      2\u001b[0m \u001b[38;5;28mprint\u001b[39m(\u001b[38;5;124m'\u001b[39m\u001b[38;5;124ma = \u001b[39m\u001b[38;5;124m'\u001b[39m,a)\n\u001b[0;32m      3\u001b[0m b\u001b[38;5;241m=\u001b[39m\u001b[38;5;241m10\u001b[39m\n\u001b[1;32m----> 4\u001b[0m c\u001b[38;5;241m=\u001b[39m\u001b[43ma\u001b[49m\u001b[43m[\u001b[49m\u001b[43mb\u001b[49m\u001b[43m]\u001b[49m\n\u001b[0;32m      5\u001b[0m \u001b[38;5;28mprint\u001b[39m(\u001b[38;5;124m\"\u001b[39m\u001b[38;5;124mElement at b \u001b[39m\u001b[38;5;132;01m{}\u001b[39;00m\u001b[38;5;124m is \u001b[39m\u001b[38;5;132;01m{}\u001b[39;00m\u001b[38;5;124m\"\u001b[39m\u001b[38;5;241m.\u001b[39mformat(b,c))\n",
      "\u001b[1;31mIndexError\u001b[0m: list index out of range"
     ]
    }
   ],
   "source": [
    "a=[1,2,3,4,5,6,7,8,9,10]\n",
    "print('a = ',a)\n",
    "b=10\n",
    "c=a[b]\n",
    "print(\"Element at b {} is {}\".format(b,c))"
   ]
  },
  {
   "cell_type": "code",
   "execution_count": 3,
   "id": "bd00389c-5ba5-45c4-9a95-92b6d8cd3ea5",
   "metadata": {},
   "outputs": [
    {
     "name": "stdout",
     "output_type": "stream",
     "text": [
      "a =  [1, 2, 3, 4, 5, 6, 7, 8, 9, 10]\n",
      "Element at b 9 is 10\n"
     ]
    }
   ],
   "source": [
    "a=[1,2,3,4,5,6,7,8,9,10]\n",
    "print('a = ',a)\n",
    "b=9\n",
    "c=a[b]\n",
    "print(\"Element at b {} is {}\".format(b,c))"
   ]
  },
  {
   "cell_type": "code",
   "execution_count": 10,
   "id": "74e52ecd-5cf4-4188-8b33-22433d731de1",
   "metadata": {},
   "outputs": [
    {
     "name": "stdout",
     "output_type": "stream",
     "text": [
      "a =  [1, 2, 3, 4, 5, 6, 7, 8, 9, 10]\n",
      "Index is out of range\n"
     ]
    }
   ],
   "source": [
    "a=[1,2,3,4,5,6,7,8,9,10]\n",
    "print('a = ',a)\n",
    "b=10\n",
    "if (b<len(a)):\n",
    "    c=b[a]\n",
    "    print(\"Element at b {} is {}\".format(b,c))\n",
    "else:\n",
    "    print(\"Index is out of range\")"
   ]
  },
  {
   "cell_type": "code",
   "execution_count": 11,
   "id": "9690980c-3855-4b3a-96b0-9c21d3a2372b",
   "metadata": {},
   "outputs": [
    {
     "name": "stdout",
     "output_type": "stream",
     "text": [
      "a =  [1, 2, 3, 4, 5, 6, 7, 8, 9, 10]\n",
      "index is out of range\n"
     ]
    }
   ],
   "source": [
    "try:\n",
    "    a=[1,2,3,4,5,6,7,8,9,10]\n",
    "    print('a = ',a)\n",
    "    b=10\n",
    "    c=a[b]\n",
    "    print(\"Element at b {} is {}\".format(b,c))\n",
    "except IndexError:\n",
    "    print(\"index is out of range\")"
   ]
  },
  {
   "cell_type": "code",
   "execution_count": 12,
   "id": "233f3593-f844-4f70-bdff-a33ca84683ba",
   "metadata": {},
   "outputs": [
    {
     "name": "stdout",
     "output_type": "stream",
     "text": [
      "a =  (1, 2, 3, 4, 5, 6, 7, 8, 9, 10)\n"
     ]
    },
    {
     "ename": "IndexError",
     "evalue": "tuple index out of range",
     "output_type": "error",
     "traceback": [
      "\u001b[1;31m---------------------------------------------------------------------------\u001b[0m",
      "\u001b[1;31mIndexError\u001b[0m                                Traceback (most recent call last)",
      "Cell \u001b[1;32mIn[12], line 4\u001b[0m\n\u001b[0;32m      2\u001b[0m \u001b[38;5;28mprint\u001b[39m(\u001b[38;5;124m'\u001b[39m\u001b[38;5;124ma = \u001b[39m\u001b[38;5;124m'\u001b[39m,a)\n\u001b[0;32m      3\u001b[0m b\u001b[38;5;241m=\u001b[39m\u001b[38;5;241m10\u001b[39m\n\u001b[1;32m----> 4\u001b[0m c\u001b[38;5;241m=\u001b[39m\u001b[43ma\u001b[49m\u001b[43m[\u001b[49m\u001b[43mb\u001b[49m\u001b[43m]\u001b[49m\n\u001b[0;32m      5\u001b[0m \u001b[38;5;28mprint\u001b[39m(\u001b[38;5;124m\"\u001b[39m\u001b[38;5;124mElement at b \u001b[39m\u001b[38;5;132;01m{}\u001b[39;00m\u001b[38;5;124m is \u001b[39m\u001b[38;5;132;01m{}\u001b[39;00m\u001b[38;5;124m\"\u001b[39m\u001b[38;5;241m.\u001b[39mformat(b,c))\n",
      "\u001b[1;31mIndexError\u001b[0m: tuple index out of range"
     ]
    }
   ],
   "source": [
    "a=(1,2,3,4,5,6,7,8,9,10)\n",
    "print('a = ',a)\n",
    "b=10\n",
    "c=a[b]\n",
    "print(\"Element at b {} is {}\".format(b,c))"
   ]
  },
  {
   "cell_type": "code",
   "execution_count": 13,
   "id": "a44eb82c-28f6-4dd7-bf5e-fa7109e47dba",
   "metadata": {},
   "outputs": [
    {
     "name": "stdout",
     "output_type": "stream",
     "text": [
      "a =  (1, 2, 3, 4, 5, 6, 7, 8, 9, 10)\n",
      "Element at b 9 is 10\n"
     ]
    }
   ],
   "source": [
    "a=(1,2,3,4,5,6,7,8,9,10)\n",
    "print('a = ',a)\n",
    "b=9\n",
    "c=a[b]\n",
    "print(\"Element at b {} is {}\".format(b,c))"
   ]
  },
  {
   "cell_type": "code",
   "execution_count": 14,
   "id": "a7d941c5-3607-4ed6-8a3d-e58b7ffe0bbd",
   "metadata": {},
   "outputs": [
    {
     "name": "stdout",
     "output_type": "stream",
     "text": [
      "a =  (1, 2, 3, 4, 5, 6, 7, 8, 9, 10)\n",
      "index is out of range\n"
     ]
    }
   ],
   "source": [
    "a=(1,2,3,4,5,6,7,8,9,10)\n",
    "print('a = ',a)\n",
    "b=10\n",
    "if(b<len(a)):\n",
    "    c=a[b]\n",
    "    print(\"Element at b {} is {}\".format(b,c))\n",
    "else:\n",
    "    print(\"index is out of range\")"
   ]
  },
  {
   "cell_type": "code",
   "execution_count": 15,
   "id": "6e4711ce-cbc3-42e5-86f6-66f31e9caf22",
   "metadata": {},
   "outputs": [
    {
     "name": "stdout",
     "output_type": "stream",
     "text": [
      "a =  (1, 2, 3, 4, 5, 6, 7, 8, 9, 10)\n",
      "index is out of range\n"
     ]
    }
   ],
   "source": [
    "try:\n",
    "    a=(1,2,3,4,5,6,7,8,9,10)\n",
    "    print('a = ',a)\n",
    "    b=10\n",
    "    c=a[b]\n",
    "    print(\"Element at b {} is {}\".format(b,c))\n",
    "except IndexError:\n",
    "    print(\"index is out of range\")"
   ]
  },
  {
   "cell_type": "raw",
   "id": "940555a1-9568-4f43-ae8c-3353a7d11632",
   "metadata": {},
   "source": [
    "# KeyError\n",
    "\"\"\"\n",
    "KeyError: This exception is raised when a key is not found in a dictionary.\n",
    "\"\"\"\n"
   ]
  },
  {
   "cell_type": "code",
   "execution_count": 16,
   "id": "cc8ffb38-cb9e-4d7d-9f1b-ae1424c9e71c",
   "metadata": {},
   "outputs": [
    {
     "name": "stdin",
     "output_type": "stream",
     "text": [
      "What Details do you want ? cgpa\n"
     ]
    },
    {
     "ename": "KeyError",
     "evalue": "'cgpa'",
     "output_type": "error",
     "traceback": [
      "\u001b[1;31m---------------------------------------------------------------------------\u001b[0m",
      "\u001b[1;31mKeyError\u001b[0m                                  Traceback (most recent call last)",
      "Cell \u001b[1;32mIn[16], line 3\u001b[0m\n\u001b[0;32m      1\u001b[0m a\u001b[38;5;241m=\u001b[39m{\u001b[38;5;124m'\u001b[39m\u001b[38;5;124mName\u001b[39m\u001b[38;5;124m'\u001b[39m:\u001b[38;5;124m'\u001b[39m\u001b[38;5;124mSai Balaji\u001b[39m\u001b[38;5;124m'\u001b[39m,\u001b[38;5;124m'\u001b[39m\u001b[38;5;124mid\u001b[39m\u001b[38;5;124m'\u001b[39m:\u001b[38;5;124m'\u001b[39m\u001b[38;5;124m5A3\u001b[39m\u001b[38;5;124m'\u001b[39m,\u001b[38;5;124m'\u001b[39m\u001b[38;5;124mpercentage\u001b[39m\u001b[38;5;124m'\u001b[39m:\u001b[38;5;241m69.3\u001b[39m}\n\u001b[0;32m      2\u001b[0m b\u001b[38;5;241m=\u001b[39m\u001b[38;5;28minput\u001b[39m(\u001b[38;5;124m\"\u001b[39m\u001b[38;5;124mWhat Details do you want ?\u001b[39m\u001b[38;5;124m\"\u001b[39m)\n\u001b[1;32m----> 3\u001b[0m \u001b[38;5;28mprint\u001b[39m(\u001b[43ma\u001b[49m\u001b[43m[\u001b[49m\u001b[43mb\u001b[49m\u001b[43m]\u001b[49m)\n",
      "\u001b[1;31mKeyError\u001b[0m: 'cgpa'"
     ]
    }
   ],
   "source": [
    "a={'Name':'Sai Balaji','id':'5A3','percentage':69.3}\n",
    "b=input(\"What Details do you want ?\")\n",
    "print(a[b])"
   ]
  },
  {
   "cell_type": "code",
   "execution_count": 17,
   "id": "00506ea1-9dfa-440a-bc85-2cd74a90defc",
   "metadata": {},
   "outputs": [
    {
     "name": "stdin",
     "output_type": "stream",
     "text": [
      "What Details do you want ? cgpa\n"
     ]
    },
    {
     "name": "stdout",
     "output_type": "stream",
     "text": [
      "there is no key attribute\n"
     ]
    }
   ],
   "source": [
    "a={'Name':'Sai Balaji','id':'5A3','percentage':69.3}\n",
    "b=input(\"What Details do you want ?\")\n",
    "if b in a:\n",
    "    print(a[b])\n",
    "else:\n",
    "    print(\"there is no key attribute\")"
   ]
  },
  {
   "cell_type": "code",
   "execution_count": 18,
   "id": "299354eb-99c1-4fa5-a7c7-15500ce3bc47",
   "metadata": {},
   "outputs": [
    {
     "name": "stdin",
     "output_type": "stream",
     "text": [
      "What Details do you want ? id\n"
     ]
    },
    {
     "name": "stdout",
     "output_type": "stream",
     "text": [
      "5A3\n"
     ]
    }
   ],
   "source": [
    "a={'Name':'Sai Balaji','id':'5A3','percentage':69.3}\n",
    "b=input(\"What Details do you want ?\")\n",
    "if b in a:\n",
    "    print(a[b])\n",
    "else:\n",
    "    print(\"there is no key attribute\")"
   ]
  },
  {
   "cell_type": "code",
   "execution_count": 19,
   "id": "eb6d8600-ad34-4191-8e09-bd109104fb4b",
   "metadata": {},
   "outputs": [
    {
     "name": "stdin",
     "output_type": "stream",
     "text": [
      "What Details do you want ? cgpa\n"
     ]
    },
    {
     "name": "stdout",
     "output_type": "stream",
     "text": [
      "there is no key attribute\n"
     ]
    }
   ],
   "source": [
    "try:\n",
    "    a={'Name':'Sai Balaji','id':'5A3','percentage':69.3}\n",
    "    b=input(\"What Details do you want ?\")\n",
    "    print(a[b])\n",
    "except KeyError:\n",
    "    print(\"there is no key attribute\")"
   ]
  },
  {
   "cell_type": "code",
   "execution_count": 21,
   "id": "2964d48e-9bae-4a3d-8192-ad2ed5a7ece5",
   "metadata": {},
   "outputs": [
    {
     "name": "stdin",
     "output_type": "stream",
     "text": [
      "What Details do you want ? Name\n"
     ]
    },
    {
     "name": "stdout",
     "output_type": "stream",
     "text": [
      "Sai Balaji\n"
     ]
    }
   ],
   "source": [
    "try:\n",
    "    a={'Name':'Sai Balaji','id':'5A3','percentage':69.3}\n",
    "    b=input(\"What Details do you want ?\")\n",
    "    print(a[b])\n",
    "except KeyError:\n",
    "    print(\"there is no key attribute\")"
   ]
  },
  {
   "cell_type": "raw",
   "id": "3ea98310-7378-43a2-b430-bdc4c5a3a522",
   "metadata": {},
   "source": [
    "# ValueError\n",
    "\"\"\"\n",
    "ValueError: This exception is raised when a function or method is called with\n",
    "            an invalid argument or input, such as trying to convert a string\n",
    "            to an integer when the string does not represent a valid integer.\n",
    "\"\"\""
   ]
  },
  {
   "cell_type": "code",
   "execution_count": 22,
   "id": "3d0bc2ec-d3d3-4b17-be0d-fca009914a67",
   "metadata": {},
   "outputs": [
    {
     "ename": "ValueError",
     "evalue": "invalid literal for int() with base 10: 'Twenty One'",
     "output_type": "error",
     "traceback": [
      "\u001b[1;31m---------------------------------------------------------------------------\u001b[0m",
      "\u001b[1;31mValueError\u001b[0m                                Traceback (most recent call last)",
      "Cell \u001b[1;32mIn[22], line 4\u001b[0m\n\u001b[0;32m      2\u001b[0m     \u001b[38;5;28mprint\u001b[39m(\u001b[38;5;28mint\u001b[39m(age))\n\u001b[0;32m      3\u001b[0m age\u001b[38;5;241m=\u001b[39m\u001b[38;5;124m\"\u001b[39m\u001b[38;5;124mTwenty One\u001b[39m\u001b[38;5;124m\"\u001b[39m\n\u001b[1;32m----> 4\u001b[0m \u001b[43ma\u001b[49m\u001b[43m(\u001b[49m\u001b[43mage\u001b[49m\u001b[43m)\u001b[49m\n",
      "Cell \u001b[1;32mIn[22], line 2\u001b[0m, in \u001b[0;36ma\u001b[1;34m(age)\u001b[0m\n\u001b[0;32m      1\u001b[0m \u001b[38;5;28;01mdef\u001b[39;00m \u001b[38;5;21ma\u001b[39m(age):\n\u001b[1;32m----> 2\u001b[0m     \u001b[38;5;28mprint\u001b[39m(\u001b[38;5;28;43mint\u001b[39;49m\u001b[43m(\u001b[49m\u001b[43mage\u001b[49m\u001b[43m)\u001b[49m)\n",
      "\u001b[1;31mValueError\u001b[0m: invalid literal for int() with base 10: 'Twenty One'"
     ]
    }
   ],
   "source": [
    "def a(age):\n",
    "    print(int(age))\n",
    "age=\"Twenty One\"\n",
    "a(age)"
   ]
  },
  {
   "cell_type": "code",
   "execution_count": 23,
   "id": "7c4a83e1-9f70-415e-ad4f-d34107ed0b4f",
   "metadata": {},
   "outputs": [
    {
     "name": "stdout",
     "output_type": "stream",
     "text": [
      "Twenty One\n"
     ]
    }
   ],
   "source": [
    "def a(age):\n",
    "    print(str(age))\n",
    "age=\"Twenty One\"\n",
    "a(age)"
   ]
  },
  {
   "cell_type": "code",
   "execution_count": 24,
   "id": "f4a104b5-ae50-4dcd-ac4f-957850df645a",
   "metadata": {},
   "outputs": [
    {
     "name": "stdout",
     "output_type": "stream",
     "text": [
      "int cant convert to str\n"
     ]
    }
   ],
   "source": [
    "try:\n",
    "    def a(age):\n",
    "        print(int(age))\n",
    "    age=\"Twenty one\"\n",
    "    a(age)\n",
    "except ValueError:\n",
    "    print(\"int cant convert to str\")"
   ]
  },
  {
   "cell_type": "code",
   "execution_count": 26,
   "id": "2ab4ce97-72bc-4af2-9e70-1be8b30984ea",
   "metadata": {},
   "outputs": [
    {
     "name": "stdin",
     "output_type": "stream",
     "text": [
      "Enter Positive Number : a\n"
     ]
    },
    {
     "ename": "ValueError",
     "evalue": "invalid literal for int() with base 10: 'a'",
     "output_type": "error",
     "traceback": [
      "\u001b[1;31m---------------------------------------------------------------------------\u001b[0m",
      "\u001b[1;31mValueError\u001b[0m                                Traceback (most recent call last)",
      "Cell \u001b[1;32mIn[26], line 2\u001b[0m\n\u001b[0;32m      1\u001b[0m \u001b[38;5;28;01mimport\u001b[39;00m \u001b[38;5;21;01mmath\u001b[39;00m\n\u001b[1;32m----> 2\u001b[0m a\u001b[38;5;241m=\u001b[39m\u001b[38;5;28;43mint\u001b[39;49m\u001b[43m(\u001b[49m\u001b[38;5;28;43minput\u001b[39;49m\u001b[43m(\u001b[49m\u001b[38;5;124;43m\"\u001b[39;49m\u001b[38;5;124;43mEnter Positive Number :\u001b[39;49m\u001b[38;5;124;43m\"\u001b[39;49m\u001b[43m)\u001b[49m\u001b[43m)\u001b[49m\n\u001b[0;32m      3\u001b[0m \u001b[38;5;28mprint\u001b[39m(\u001b[38;5;124mf\u001b[39m\u001b[38;5;124m\"\u001b[39m\u001b[38;5;124mSquare root of \u001b[39m\u001b[38;5;132;01m{\u001b[39;00ma\u001b[38;5;132;01m}\u001b[39;00m\u001b[38;5;124m is \u001b[39m\u001b[38;5;132;01m{\u001b[39;00mmath\u001b[38;5;241m.\u001b[39msqrt(a)\u001b[38;5;132;01m}\u001b[39;00m\u001b[38;5;124m\"\u001b[39m)\n",
      "\u001b[1;31mValueError\u001b[0m: invalid literal for int() with base 10: 'a'"
     ]
    }
   ],
   "source": [
    "import math\n",
    "a=int(input(\"Enter Positive Number :\"))\n",
    "print(f\"Square root of {a} is {math.sqrt(a)}\")"
   ]
  },
  {
   "cell_type": "code",
   "execution_count": 27,
   "id": "905d77c5-0f97-4689-837f-d982a2d74033",
   "metadata": {},
   "outputs": [
    {
     "name": "stdin",
     "output_type": "stream",
     "text": [
      "Enter Positive Number : 2500\n"
     ]
    },
    {
     "name": "stdout",
     "output_type": "stream",
     "text": [
      "Square root of 2500 is 50.0\n"
     ]
    }
   ],
   "source": [
    "import math\n",
    "a=int(input(\"Enter Positive Number :\"))\n",
    "print(f\"Square root of {a} is {math.sqrt(a)}\")"
   ]
  },
  {
   "cell_type": "code",
   "execution_count": 28,
   "id": "e4a85a14-ec1f-42ee-853d-dad89cede75c",
   "metadata": {},
   "outputs": [
    {
     "name": "stdin",
     "output_type": "stream",
     "text": [
      "Enter Positive Number : 100\n"
     ]
    },
    {
     "name": "stdout",
     "output_type": "stream",
     "text": [
      "Square root of 100 is 10.0\n"
     ]
    }
   ],
   "source": [
    "import math\n",
    "a=int(input(\"Enter Positive Number :\"))\n",
    "try:\n",
    "    print(f\"Square root of {a} is {math.sqrt(a)}\")\n",
    "except ValueError:\n",
    "    print(\"its not a positive number\")"
   ]
  },
  {
   "cell_type": "code",
   "execution_count": 29,
   "id": "12380e69-9c39-48ba-b81c-228c93016842",
   "metadata": {},
   "outputs": [
    {
     "name": "stdin",
     "output_type": "stream",
     "text": [
      "Enter Positive Number : -81\n"
     ]
    },
    {
     "name": "stdout",
     "output_type": "stream",
     "text": [
      "its not a positive number\n"
     ]
    }
   ],
   "source": [
    "import math\n",
    "a=int(input(\"Enter Positive Number :\"))\n",
    "try:\n",
    "    print(f\"Square root of {a} is {math.sqrt(a)}\")\n",
    "except ValueError:\n",
    "    print(\"its not a positive number\")"
   ]
  },
  {
   "cell_type": "raw",
   "id": "ae597294-c7ab-425e-93b4-89d197482578",
   "metadata": {},
   "source": [
    "# AttributeError\n",
    "\"\"\"\n",
    "AttributeError: This exception is raised when an attribute or method is not\n",
    "                found on an object, such as trying to access a non-existent\n",
    "                attribute of a class instance.\n",
    "\"\"\""
   ]
  },
  {
   "cell_type": "code",
   "execution_count": 30,
   "id": "25ebbe97-7466-4a08-baed-1ef82c21fc8f",
   "metadata": {},
   "outputs": [
    {
     "ename": "AttributeError",
     "evalue": "'int' object has no attribute 'append'",
     "output_type": "error",
     "traceback": [
      "\u001b[1;31m---------------------------------------------------------------------------\u001b[0m",
      "\u001b[1;31mAttributeError\u001b[0m                            Traceback (most recent call last)",
      "Cell \u001b[1;32mIn[30], line 2\u001b[0m\n\u001b[0;32m      1\u001b[0m a\u001b[38;5;241m=\u001b[39m\u001b[38;5;241m10\u001b[39m\n\u001b[1;32m----> 2\u001b[0m \u001b[43ma\u001b[49m\u001b[38;5;241;43m.\u001b[39;49m\u001b[43mappend\u001b[49m(\u001b[38;5;124m'\u001b[39m\u001b[38;5;124msai balaji\u001b[39m\u001b[38;5;124m'\u001b[39m)\n\u001b[0;32m      3\u001b[0m \u001b[38;5;28mprint\u001b[39m(a)\n",
      "\u001b[1;31mAttributeError\u001b[0m: 'int' object has no attribute 'append'"
     ]
    }
   ],
   "source": [
    "a=10\n",
    "a.append('sai balaji')\n",
    "print(a)"
   ]
  },
  {
   "cell_type": "code",
   "execution_count": 31,
   "id": "08684a55-40ab-4aa5-b37a-f2493dbb9934",
   "metadata": {},
   "outputs": [
    {
     "ename": "AttributeError",
     "evalue": "'int' object has no attribute 'append'",
     "output_type": "error",
     "traceback": [
      "\u001b[1;31m---------------------------------------------------------------------------\u001b[0m",
      "\u001b[1;31mAttributeError\u001b[0m                            Traceback (most recent call last)",
      "Cell \u001b[1;32mIn[31], line 2\u001b[0m\n\u001b[0;32m      1\u001b[0m a\u001b[38;5;241m=\u001b[39m\u001b[38;5;241m10\u001b[39m\n\u001b[1;32m----> 2\u001b[0m \u001b[43ma\u001b[49m\u001b[38;5;241;43m.\u001b[39;49m\u001b[43mappend\u001b[49m(\u001b[38;5;241m20\u001b[39m)\n\u001b[0;32m      3\u001b[0m \u001b[38;5;28mprint\u001b[39m(a)\n",
      "\u001b[1;31mAttributeError\u001b[0m: 'int' object has no attribute 'append'"
     ]
    }
   ],
   "source": [
    "a=10\n",
    "a.append(20)\n",
    "print(a)"
   ]
  },
  {
   "cell_type": "code",
   "execution_count": 32,
   "id": "e0cc889a-c720-4343-a6f5-4ef3e0442504",
   "metadata": {},
   "outputs": [
    {
     "name": "stdout",
     "output_type": "stream",
     "text": [
      "[10, 'sai balaji']\n"
     ]
    }
   ],
   "source": [
    "a=[10]\n",
    "a.append('sai balaji')\n",
    "print(a)"
   ]
  },
  {
   "cell_type": "code",
   "execution_count": 34,
   "id": "bd5ce6a8-84f6-4e69-8625-eae71d105e01",
   "metadata": {},
   "outputs": [
    {
     "name": "stdout",
     "output_type": "stream",
     "text": [
      "[10, 20]\n"
     ]
    }
   ],
   "source": [
    "a=[10]\n",
    "a.append(20)\n",
    "print(a)"
   ]
  },
  {
   "cell_type": "code",
   "execution_count": 35,
   "id": "baf4379e-2557-43ad-a89a-7dd3fbd8680b",
   "metadata": {},
   "outputs": [
    {
     "name": "stdout",
     "output_type": "stream",
     "text": [
      "Attribute Error was occured\n"
     ]
    }
   ],
   "source": [
    "try:\n",
    "    a=10\n",
    "    a.append('sai balaji')\n",
    "except AttributeError:\n",
    "    print(\"Attribute Error was occured\")"
   ]
  },
  {
   "cell_type": "code",
   "execution_count": 37,
   "id": "cc23d100-861b-4e1d-98c6-466111ba9876",
   "metadata": {},
   "outputs": [
    {
     "ename": "AttributeError",
     "evalue": "'str' object has no attribute 'fst'",
     "output_type": "error",
     "traceback": [
      "\u001b[1;31m---------------------------------------------------------------------------\u001b[0m",
      "\u001b[1;31mAttributeError\u001b[0m                            Traceback (most recent call last)",
      "Cell \u001b[1;32mIn[37], line 1\u001b[0m\n\u001b[1;32m----> 1\u001b[0m a\u001b[38;5;241m=\u001b[39m\u001b[38;5;124;43m\"\u001b[39;49m\u001b[38;5;124;43mMy Name is \u001b[39;49m\u001b[38;5;132;43;01m{}\u001b[39;49;00m\u001b[38;5;124;43m\"\u001b[39;49m\u001b[38;5;241;43m.\u001b[39;49m\u001b[43mfst\u001b[49m(\u001b[38;5;124m'\u001b[39m\u001b[38;5;124msai balaji\u001b[39m\u001b[38;5;124m'\u001b[39m)\n\u001b[0;32m      2\u001b[0m \u001b[38;5;28mprint\u001b[39m(a)\n",
      "\u001b[1;31mAttributeError\u001b[0m: 'str' object has no attribute 'fst'"
     ]
    }
   ],
   "source": [
    "a=\"My Name is {}\".fst('sai balaji')\n",
    "print(a)"
   ]
  },
  {
   "cell_type": "code",
   "execution_count": 41,
   "id": "6c270d6a-b359-4a59-9d40-a5c00a036832",
   "metadata": {},
   "outputs": [
    {
     "name": "stdout",
     "output_type": "stream",
     "text": [
      "Attribute Error was Occured\n"
     ]
    }
   ],
   "source": [
    "try:\n",
    "    a=\"My Name is {}\".fst('sai balaji')\n",
    "    print(a)\n",
    "except AttributeError:\n",
    "    print(\"Attribute Error was Occured\")"
   ]
  },
  {
   "cell_type": "code",
   "execution_count": 47,
   "id": "f38a74a6-acd4-403d-ab2b-24959271dd34",
   "metadata": {},
   "outputs": [
    {
     "ename": "AttributeError",
     "evalue": "type object 'a' has no attribute 'name'",
     "output_type": "error",
     "traceback": [
      "\u001b[1;31m---------------------------------------------------------------------------\u001b[0m",
      "\u001b[1;31mAttributeError\u001b[0m                            Traceback (most recent call last)",
      "Cell \u001b[1;32mIn[47], line 4\u001b[0m\n\u001b[0;32m      2\u001b[0m     \u001b[38;5;28;01mdef\u001b[39;00m \u001b[38;5;21m__init__\u001b[39m(\u001b[38;5;28mself\u001b[39m,name):\n\u001b[0;32m      3\u001b[0m         \u001b[38;5;28mself\u001b[39m\u001b[38;5;241m.\u001b[39mname\u001b[38;5;241m=\u001b[39mname\n\u001b[1;32m----> 4\u001b[0m \u001b[38;5;28mprint\u001b[39m(\u001b[38;5;124m\"\u001b[39m\u001b[38;5;124mName of the Employee is \u001b[39m\u001b[38;5;124m'\u001b[39m\u001b[38;5;132;01m{}\u001b[39;00m\u001b[38;5;124m'\u001b[39m\u001b[38;5;124m\"\u001b[39m\u001b[38;5;241m.\u001b[39mformat(\u001b[43ma\u001b[49m\u001b[38;5;241;43m.\u001b[39;49m\u001b[43mname\u001b[49m))\n\u001b[0;32m      5\u001b[0m a()\n",
      "\u001b[1;31mAttributeError\u001b[0m: type object 'a' has no attribute 'name'"
     ]
    }
   ],
   "source": [
    "class a:\n",
    "    def __init__(self,name):\n",
    "        self.name=name\n",
    "print(\"Name of the Employee is '{}'\".format(a.name))\n",
    "a()"
   ]
  },
  {
   "cell_type": "code",
   "execution_count": 50,
   "id": "9e3c9c2b-b870-4a2a-b6ab-5234bbbe5c3d",
   "metadata": {},
   "outputs": [
    {
     "name": "stdout",
     "output_type": "stream",
     "text": [
      "Attribute Error was occured\n"
     ]
    }
   ],
   "source": [
    "try:\n",
    "    class a:\n",
    "        def __init__(self,name):\n",
    "            self.name=name\n",
    "        print(\"Name of the Employee is '{}'\".format(a.name))\n",
    "        a()\n",
    "except AttributeError:\n",
    "    print(\"Attribute Error was occured\")"
   ]
  },
  {
   "cell_type": "raw",
   "id": "fe3f1d94-6400-4626-9d13-136e5c6d8276",
   "metadata": {},
   "source": [
    "# FileNotFoundError\n",
    "\"\"\"\n",
    "FileNotFoundError: FileNotFoundError is an exception in Python that is raised\n",
    "                   when a program tries to access a file that doesn't exist.\n",
    "                   This error typically occurs when you attempt to perform file\n",
    "                   operations like opening, reading, writing, or deleting a\n",
    "                   file. Python cannot find the specified file at the provided\n",
    "                   path or location.\n",
    "\"\"\""
   ]
  },
  {
   "cell_type": "code",
   "execution_count": 52,
   "id": "eb14aa81-280a-42d4-847f-74a2ffd9a5d2",
   "metadata": {},
   "outputs": [
    {
     "ename": "FileNotFoundError",
     "evalue": "[Errno 2] No such file or directory: 'old.txt'",
     "output_type": "error",
     "traceback": [
      "\u001b[1;31m---------------------------------------------------------------------------\u001b[0m",
      "\u001b[1;31mFileNotFoundError\u001b[0m                         Traceback (most recent call last)",
      "Cell \u001b[1;32mIn[52], line 1\u001b[0m\n\u001b[1;32m----> 1\u001b[0m file\u001b[38;5;241m=\u001b[39m\u001b[38;5;28;43mopen\u001b[39;49m\u001b[43m(\u001b[49m\u001b[38;5;124;43m'\u001b[39;49m\u001b[38;5;124;43mold.txt\u001b[39;49m\u001b[38;5;124;43m'\u001b[39;49m\u001b[43m)\u001b[49m\n",
      "File \u001b[1;32mc:\\users\\dell\\appdata\\local\\programs\\python\\python38\\lib\\site-packages\\IPython\\core\\interactiveshell.py:284\u001b[0m, in \u001b[0;36m_modified_open\u001b[1;34m(file, *args, **kwargs)\u001b[0m\n\u001b[0;32m    277\u001b[0m \u001b[38;5;28;01mif\u001b[39;00m file \u001b[38;5;129;01min\u001b[39;00m {\u001b[38;5;241m0\u001b[39m, \u001b[38;5;241m1\u001b[39m, \u001b[38;5;241m2\u001b[39m}:\n\u001b[0;32m    278\u001b[0m     \u001b[38;5;28;01mraise\u001b[39;00m \u001b[38;5;167;01mValueError\u001b[39;00m(\n\u001b[0;32m    279\u001b[0m         \u001b[38;5;124mf\u001b[39m\u001b[38;5;124m\"\u001b[39m\u001b[38;5;124mIPython won\u001b[39m\u001b[38;5;124m'\u001b[39m\u001b[38;5;124mt let you open fd=\u001b[39m\u001b[38;5;132;01m{\u001b[39;00mfile\u001b[38;5;132;01m}\u001b[39;00m\u001b[38;5;124m by default \u001b[39m\u001b[38;5;124m\"\u001b[39m\n\u001b[0;32m    280\u001b[0m         \u001b[38;5;124m\"\u001b[39m\u001b[38;5;124mas it is likely to crash IPython. If you know what you are doing, \u001b[39m\u001b[38;5;124m\"\u001b[39m\n\u001b[0;32m    281\u001b[0m         \u001b[38;5;124m\"\u001b[39m\u001b[38;5;124myou can use builtins\u001b[39m\u001b[38;5;124m'\u001b[39m\u001b[38;5;124m open.\u001b[39m\u001b[38;5;124m\"\u001b[39m\n\u001b[0;32m    282\u001b[0m     )\n\u001b[1;32m--> 284\u001b[0m \u001b[38;5;28;01mreturn\u001b[39;00m \u001b[43mio_open\u001b[49m\u001b[43m(\u001b[49m\u001b[43mfile\u001b[49m\u001b[43m,\u001b[49m\u001b[43m \u001b[49m\u001b[38;5;241;43m*\u001b[39;49m\u001b[43margs\u001b[49m\u001b[43m,\u001b[49m\u001b[43m \u001b[49m\u001b[38;5;241;43m*\u001b[39;49m\u001b[38;5;241;43m*\u001b[39;49m\u001b[43mkwargs\u001b[49m\u001b[43m)\u001b[49m\n",
      "\u001b[1;31mFileNotFoundError\u001b[0m: [Errno 2] No such file or directory: 'old.txt'"
     ]
    }
   ],
   "source": [
    "file=open('old.txt')"
   ]
  },
  {
   "cell_type": "code",
   "execution_count": 53,
   "id": "33a994e5-1540-498d-a5ba-fa99e2282292",
   "metadata": {},
   "outputs": [
    {
     "name": "stdout",
     "output_type": "stream",
     "text": [
      "File was not Founded\n"
     ]
    }
   ],
   "source": [
    "try:\n",
    "    file=open('old.txt')\n",
    "except FileNotFoundError:\n",
    "    print(\"File was not Founded\")"
   ]
  },
  {
   "cell_type": "code",
   "execution_count": 54,
   "id": "408ab7da-3f38-4735-829d-6a80eaac9492",
   "metadata": {},
   "outputs": [
    {
     "ename": "FileNotFoundError",
     "evalue": "[Errno 2] No such file or directory: 'path/to/directory'",
     "output_type": "error",
     "traceback": [
      "\u001b[1;31m---------------------------------------------------------------------------\u001b[0m",
      "\u001b[1;31mFileNotFoundError\u001b[0m                         Traceback (most recent call last)",
      "Cell \u001b[1;32mIn[54], line 1\u001b[0m\n\u001b[1;32m----> 1\u001b[0m file \u001b[38;5;241m=\u001b[39m \u001b[38;5;28;43mopen\u001b[39;49m\u001b[43m(\u001b[49m\u001b[38;5;124;43m\"\u001b[39;49m\u001b[38;5;124;43mpath/to/directory\u001b[39;49m\u001b[38;5;124;43m\"\u001b[39;49m\u001b[43m)\u001b[49m\n",
      "File \u001b[1;32mc:\\users\\dell\\appdata\\local\\programs\\python\\python38\\lib\\site-packages\\IPython\\core\\interactiveshell.py:284\u001b[0m, in \u001b[0;36m_modified_open\u001b[1;34m(file, *args, **kwargs)\u001b[0m\n\u001b[0;32m    277\u001b[0m \u001b[38;5;28;01mif\u001b[39;00m file \u001b[38;5;129;01min\u001b[39;00m {\u001b[38;5;241m0\u001b[39m, \u001b[38;5;241m1\u001b[39m, \u001b[38;5;241m2\u001b[39m}:\n\u001b[0;32m    278\u001b[0m     \u001b[38;5;28;01mraise\u001b[39;00m \u001b[38;5;167;01mValueError\u001b[39;00m(\n\u001b[0;32m    279\u001b[0m         \u001b[38;5;124mf\u001b[39m\u001b[38;5;124m\"\u001b[39m\u001b[38;5;124mIPython won\u001b[39m\u001b[38;5;124m'\u001b[39m\u001b[38;5;124mt let you open fd=\u001b[39m\u001b[38;5;132;01m{\u001b[39;00mfile\u001b[38;5;132;01m}\u001b[39;00m\u001b[38;5;124m by default \u001b[39m\u001b[38;5;124m\"\u001b[39m\n\u001b[0;32m    280\u001b[0m         \u001b[38;5;124m\"\u001b[39m\u001b[38;5;124mas it is likely to crash IPython. If you know what you are doing, \u001b[39m\u001b[38;5;124m\"\u001b[39m\n\u001b[0;32m    281\u001b[0m         \u001b[38;5;124m\"\u001b[39m\u001b[38;5;124myou can use builtins\u001b[39m\u001b[38;5;124m'\u001b[39m\u001b[38;5;124m open.\u001b[39m\u001b[38;5;124m\"\u001b[39m\n\u001b[0;32m    282\u001b[0m     )\n\u001b[1;32m--> 284\u001b[0m \u001b[38;5;28;01mreturn\u001b[39;00m \u001b[43mio_open\u001b[49m\u001b[43m(\u001b[49m\u001b[43mfile\u001b[49m\u001b[43m,\u001b[49m\u001b[43m \u001b[49m\u001b[38;5;241;43m*\u001b[39;49m\u001b[43margs\u001b[49m\u001b[43m,\u001b[49m\u001b[43m \u001b[49m\u001b[38;5;241;43m*\u001b[39;49m\u001b[38;5;241;43m*\u001b[39;49m\u001b[43mkwargs\u001b[49m\u001b[43m)\u001b[49m\n",
      "\u001b[1;31mFileNotFoundError\u001b[0m: [Errno 2] No such file or directory: 'path/to/directory'"
     ]
    }
   ],
   "source": [
    "file = open(\"path/to/directory\")"
   ]
  },
  {
   "cell_type": "raw",
   "id": "cbc4dbba-08d4-45ec-ba24-72c03a62c333",
   "metadata": {},
   "source": [
    "# ZeroDivisionError\n",
    "\"\"\"\n",
    "ZeroDivisionError: This exception is raised when an attempt is made to\n",
    "                   divide a number by zero.\n",
    "\"\"\""
   ]
  },
  {
   "cell_type": "code",
   "execution_count": 55,
   "id": "995e6fa4-dd5b-436b-9740-d34cb1436e92",
   "metadata": {},
   "outputs": [
    {
     "name": "stdin",
     "output_type": "stream",
     "text": [
      "Enter Numerator : 10\n",
      "Enter Denominator : 2\n"
     ]
    },
    {
     "name": "stdout",
     "output_type": "stream",
     "text": [
      "5.0\n"
     ]
    }
   ],
   "source": [
    "a=int(input(\"Enter Numerator :\"))\n",
    "b=int(input(\"Enter Denominator :\"))\n",
    "c=a/b\n",
    "print(c)"
   ]
  },
  {
   "cell_type": "code",
   "execution_count": 56,
   "id": "4396ed10-9c74-4b39-aaa5-65d53cc84af7",
   "metadata": {},
   "outputs": [
    {
     "name": "stdin",
     "output_type": "stream",
     "text": [
      "Enter Numerator : 100\n",
      "Enter Denominator : 0\n"
     ]
    },
    {
     "ename": "ZeroDivisionError",
     "evalue": "division by zero",
     "output_type": "error",
     "traceback": [
      "\u001b[1;31m---------------------------------------------------------------------------\u001b[0m",
      "\u001b[1;31mZeroDivisionError\u001b[0m                         Traceback (most recent call last)",
      "Cell \u001b[1;32mIn[56], line 3\u001b[0m\n\u001b[0;32m      1\u001b[0m a\u001b[38;5;241m=\u001b[39m\u001b[38;5;28mint\u001b[39m(\u001b[38;5;28minput\u001b[39m(\u001b[38;5;124m\"\u001b[39m\u001b[38;5;124mEnter Numerator :\u001b[39m\u001b[38;5;124m\"\u001b[39m))\n\u001b[0;32m      2\u001b[0m b\u001b[38;5;241m=\u001b[39m\u001b[38;5;28mint\u001b[39m(\u001b[38;5;28minput\u001b[39m(\u001b[38;5;124m\"\u001b[39m\u001b[38;5;124mEnter Denominator :\u001b[39m\u001b[38;5;124m\"\u001b[39m))\n\u001b[1;32m----> 3\u001b[0m c\u001b[38;5;241m=\u001b[39m\u001b[43ma\u001b[49m\u001b[38;5;241;43m/\u001b[39;49m\u001b[43mb\u001b[49m\n\u001b[0;32m      4\u001b[0m \u001b[38;5;28mprint\u001b[39m(c)\n",
      "\u001b[1;31mZeroDivisionError\u001b[0m: division by zero"
     ]
    }
   ],
   "source": [
    "a=int(input(\"Enter Numerator :\"))\n",
    "b=int(input(\"Enter Denominator :\"))\n",
    "c=a/b\n",
    "print(c)"
   ]
  },
  {
   "cell_type": "code",
   "execution_count": 61,
   "id": "68f89708-ac45-451e-8d37-1b735ecfa1f8",
   "metadata": {},
   "outputs": [
    {
     "name": "stdin",
     "output_type": "stream",
     "text": [
      "Enter Numerator : 10\n",
      "Enter Denominator : 2\n"
     ]
    },
    {
     "name": "stdout",
     "output_type": "stream",
     "text": [
      "5.0\n"
     ]
    }
   ],
   "source": [
    "a=int(input(\"Enter Numerator :\"))\n",
    "b=int(input(\"Enter Denominator :\"))\n",
    "if(a%b==0):\n",
    "    print(a/b)\n",
    "else:\n",
    "    print(\"Zero division error was Occured\")"
   ]
  },
  {
   "cell_type": "code",
   "execution_count": 62,
   "id": "19dc2c8c-1850-4ace-8d19-6aaa6426196b",
   "metadata": {},
   "outputs": [
    {
     "name": "stdin",
     "output_type": "stream",
     "text": [
      "Enter Numerator : 100\n",
      "Enter Denominator : 0\n"
     ]
    },
    {
     "ename": "ZeroDivisionError",
     "evalue": "integer division or modulo by zero",
     "output_type": "error",
     "traceback": [
      "\u001b[1;31m---------------------------------------------------------------------------\u001b[0m",
      "\u001b[1;31mZeroDivisionError\u001b[0m                         Traceback (most recent call last)",
      "Cell \u001b[1;32mIn[62], line 3\u001b[0m\n\u001b[0;32m      1\u001b[0m a\u001b[38;5;241m=\u001b[39m\u001b[38;5;28mint\u001b[39m(\u001b[38;5;28minput\u001b[39m(\u001b[38;5;124m\"\u001b[39m\u001b[38;5;124mEnter Numerator :\u001b[39m\u001b[38;5;124m\"\u001b[39m))\n\u001b[0;32m      2\u001b[0m b\u001b[38;5;241m=\u001b[39m\u001b[38;5;28mint\u001b[39m(\u001b[38;5;28minput\u001b[39m(\u001b[38;5;124m\"\u001b[39m\u001b[38;5;124mEnter Denominator :\u001b[39m\u001b[38;5;124m\"\u001b[39m))\n\u001b[1;32m----> 3\u001b[0m \u001b[38;5;28;01mif\u001b[39;00m(\u001b[43ma\u001b[49m\u001b[38;5;241;43m%\u001b[39;49m\u001b[43mb\u001b[49m\u001b[38;5;241m==\u001b[39m\u001b[38;5;241m0\u001b[39m):\n\u001b[0;32m      4\u001b[0m     \u001b[38;5;28mprint\u001b[39m(a\u001b[38;5;241m/\u001b[39mb)\n\u001b[0;32m      5\u001b[0m \u001b[38;5;28;01melse\u001b[39;00m:\n",
      "\u001b[1;31mZeroDivisionError\u001b[0m: integer division or modulo by zero"
     ]
    }
   ],
   "source": [
    "a=int(input(\"Enter Numerator :\"))\n",
    "b=int(input(\"Enter Denominator :\"))\n",
    "if(a%b==0):\n",
    "    print(a/b)\n",
    "else:\n",
    "    print(\"Zero division error was Occured\")"
   ]
  },
  {
   "cell_type": "code",
   "execution_count": 64,
   "id": "b6673be5-4db3-45b7-8192-820ebe2cfb98",
   "metadata": {},
   "outputs": [
    {
     "name": "stdin",
     "output_type": "stream",
     "text": [
      "Enter Numerator : 10\n",
      "Enter Denominator : 0\n"
     ]
    },
    {
     "name": "stdout",
     "output_type": "stream",
     "text": [
      "denominator cant be zero\n",
      "None\n"
     ]
    }
   ],
   "source": [
    "def x(a,b):\n",
    "    if(b!=0):\n",
    "        c=a/b\n",
    "    else:\n",
    "        print(\"denominator cant be zero\")\n",
    "a=int(input(\"Enter Numerator :\"))\n",
    "b=int(input(\"Enter Denominator :\"))\n",
    "print(x(a,b))"
   ]
  },
  {
   "cell_type": "code",
   "execution_count": 65,
   "id": "21adeeda-2bac-492c-ad40-ad313725a99c",
   "metadata": {},
   "outputs": [
    {
     "name": "stdin",
     "output_type": "stream",
     "text": [
      "Enter Numerator : 100\n",
      "Enter Denominator : 20\n"
     ]
    },
    {
     "name": "stdout",
     "output_type": "stream",
     "text": [
      "Result is 5.0\n"
     ]
    }
   ],
   "source": [
    "def x(a,b):\n",
    "    c=a/b\n",
    "    return f\"Result is {c}\"\n",
    "a=int(input(\"Enter Numerator :\"))\n",
    "b=int(input(\"Enter Denominator :\"))\n",
    "try:\n",
    "    print(x(a,b))\n",
    "except ZeroDivisionError:\n",
    "    print(\"Zero Division Error was Occured\")"
   ]
  },
  {
   "cell_type": "code",
   "execution_count": 66,
   "id": "6efd9b80-5bf9-4b83-bc0a-c73b19ddeb8b",
   "metadata": {},
   "outputs": [
    {
     "name": "stdin",
     "output_type": "stream",
     "text": [
      "Enter Numerator : 50\n",
      "Enter Denominator : 0\n"
     ]
    },
    {
     "name": "stdout",
     "output_type": "stream",
     "text": [
      "Zero Division Error was Occured\n"
     ]
    }
   ],
   "source": [
    "def x(a,b):\n",
    "    c=a/b\n",
    "    return f\"Result is {c}\"\n",
    "a=int(input(\"Enter Numerator :\"))\n",
    "b=int(input(\"Enter Denominator :\"))\n",
    "try:\n",
    "    print(x(a,b))\n",
    "except ZeroDivisionError:\n",
    "    print(\"Zero Division Error was Occured\")"
   ]
  },
  {
   "cell_type": "code",
   "execution_count": 68,
   "id": "48d19663-0372-4cd9-ba10-e83b80d03aa6",
   "metadata": {},
   "outputs": [
    {
     "name": "stdin",
     "output_type": "stream",
     "text": [
      "Enter Numerator : 10\n",
      "Enter Denominator : 2\n"
     ]
    },
    {
     "name": "stdout",
     "output_type": "stream",
     "text": [
      "5.0\n",
      "None\n"
     ]
    }
   ],
   "source": [
    "def x(a,b):\n",
    "    c=a/b\n",
    "    if b!=0:\n",
    "        print(c)\n",
    "    else:\n",
    "        print(\"Denominator cant be zero\")\n",
    "a=int(input(\"Enter Numerator :\"))\n",
    "b=int(input(\"Enter Denominator :\"))\n",
    "print(x(a,b))"
   ]
  },
  {
   "cell_type": "code",
   "execution_count": 76,
   "id": "c70869e9-568e-4765-a18f-b220c0cd62c5",
   "metadata": {},
   "outputs": [
    {
     "name": "stdin",
     "output_type": "stream",
     "text": [
      "Enter Numerator : 100\n",
      "Enter Denominator : 0\n"
     ]
    },
    {
     "name": "stdout",
     "output_type": "stream",
     "text": [
      "Denominator cant be zero\n"
     ]
    }
   ],
   "source": [
    "def x(a,b):\n",
    "    if b!=0:\n",
    "        c=a/b\n",
    "        print(c)\n",
    "    else:\n",
    "        print(\"Denominator cant be zero\")\n",
    "a=int(input(\"Enter Numerator :\"))\n",
    "b=int(input(\"Enter Denominator :\"))\n",
    "x(a,b)"
   ]
  },
  {
   "cell_type": "raw",
   "id": "51f4f6d1-c636-4565-81a1-e5b3982cc22c",
   "metadata": {},
   "source": [
    "# ImportError\n",
    "\"\"\"\n",
    "ImportError: This exception is raised when an import statement fails to\n",
    "             find or load a module.\n",
    "Reasons :\n",
    "1. Incorrect Module or Package Name\n",
    "2. Missing Dependencies\n",
    "3. Issues with Python Path\n",
    "\"\"\""
   ]
  },
  {
   "cell_type": "code",
   "execution_count": 80,
   "id": "347337ce-bd09-4a49-9c53-76b2498a2afb",
   "metadata": {},
   "outputs": [
    {
     "ename": "ModuleNotFoundError",
     "evalue": "No module named 'maths'",
     "output_type": "error",
     "traceback": [
      "\u001b[1;31m---------------------------------------------------------------------------\u001b[0m",
      "\u001b[1;31mModuleNotFoundError\u001b[0m                       Traceback (most recent call last)",
      "Cell \u001b[1;32mIn[80], line 1\u001b[0m\n\u001b[1;32m----> 1\u001b[0m \u001b[38;5;28;01mimport\u001b[39;00m \u001b[38;5;21;01mmaths\u001b[39;00m\n",
      "\u001b[1;31mModuleNotFoundError\u001b[0m: No module named 'maths'"
     ]
    }
   ],
   "source": [
    "import maths"
   ]
  },
  {
   "cell_type": "code",
   "execution_count": 81,
   "id": "ecb183f3-3a96-45e9-85b9-3b2e6860d55c",
   "metadata": {},
   "outputs": [],
   "source": [
    "# Solution : Check Module Names and \n",
    "\"\"\"\n",
    "Ensure that the module or package names specified in the import statements are\n",
    "correct. Double-check the spelling and the case of the names. If the module is\n",
    "part of a package, verify the directory structure and package hierarchy.\n",
    "\"\"\"\n",
    "import math"
   ]
  },
  {
   "cell_type": "code",
   "execution_count": 83,
   "id": "f93a791c-a212-4a9f-a45e-df7374c21327",
   "metadata": {},
   "outputs": [],
   "source": [
    "# Solution : Install Missing Dependencies\n",
    "\"\"\"Use the appropriate package manager (e.g., pip) to install any missing dependencies. Make sure that all required packages are installed \"\"\"\n",
    "import tensorflow"
   ]
  },
  {
   "cell_type": "code",
   "execution_count": 84,
   "id": "82072782-cb71-4158-9e72-3e74a4156ee1",
   "metadata": {},
   "outputs": [
    {
     "ename": "ModuleNotFoundError",
     "evalue": "No module named 'mypackage'",
     "output_type": "error",
     "traceback": [
      "\u001b[1;31m---------------------------------------------------------------------------\u001b[0m",
      "\u001b[1;31mModuleNotFoundError\u001b[0m                       Traceback (most recent call last)",
      "Cell \u001b[1;32mIn[84], line 7\u001b[0m\n\u001b[0;32m      1\u001b[0m \u001b[38;5;66;03m# Solution : Activate and Verify Virtual Environment\u001b[39;00m\n\u001b[0;32m      2\u001b[0m \u001b[38;5;124;03m\"\"\"\u001b[39;00m\n\u001b[0;32m      3\u001b[0m \u001b[38;5;124;03mIf you are using a virtual environment, activate it before running the\u001b[39;00m\n\u001b[0;32m      4\u001b[0m \u001b[38;5;124;03mscript. Ensure that the virtual environment is properly set up and contains\u001b[39;00m\n\u001b[0;32m      5\u001b[0m \u001b[38;5;124;03mall necessary dependencies.\u001b[39;00m\n\u001b[0;32m      6\u001b[0m \u001b[38;5;124;03m\"\"\"\u001b[39;00m\n\u001b[1;32m----> 7\u001b[0m \u001b[38;5;28;01mfrom\u001b[39;00m \u001b[38;5;21;01mmypackage\u001b[39;00m \u001b[38;5;28;01mimport\u001b[39;00m mymodule\n",
      "\u001b[1;31mModuleNotFoundError\u001b[0m: No module named 'mypackage'"
     ]
    }
   ],
   "source": [
    "# Solution : Activate and Verify Virtual Environment\n",
    "\"\"\"\n",
    "If you are using a virtual environment, activate it before running the\n",
    "script. Ensure that the virtual environment is properly set up and contains\n",
    "all necessary dependencies.\n",
    "\"\"\"\n",
    "from mypackage import mymodule"
   ]
  },
  {
   "cell_type": "code",
   "execution_count": null,
   "id": "75ef05f5-1800-4aea-a71e-5278afd230d1",
   "metadata": {},
   "outputs": [],
   "source": [
    "\"\"\"\n",
    "The ''ImportError: Unknown Location'' in Python can be frustrating, but by\n",
    "understanding the reasons behind it and following the appropriate approaches,\n",
    "you can effectively troubleshoot and resolve the issue. Double-checking module\n",
    "names, installing missing dependencies, verifying virtual environment setups,\n",
    "and examining the Python path are crucial steps in debugging and fixing import\n",
    "errors.\n",
    "\"\"\""
   ]
  }
 ],
 "metadata": {
  "kernelspec": {
   "display_name": "Python 3 (ipykernel)",
   "language": "python",
   "name": "python3"
  },
  "language_info": {
   "codemirror_mode": {
    "name": "ipython",
    "version": 3
   },
   "file_extension": ".py",
   "mimetype": "text/x-python",
   "name": "python",
   "nbconvert_exporter": "python",
   "pygments_lexer": "ipython3",
   "version": "3.8.2"
  }
 },
 "nbformat": 4,
 "nbformat_minor": 5
}
