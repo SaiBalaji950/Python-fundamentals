{
 "cells": [
  {
   "cell_type": "code",
   "execution_count": null,
   "id": "1e01e2a4-a1ba-40c5-96cb-1d7e2f4eb4de",
   "metadata": {},
   "outputs": [],
   "source": [
    "OPERATORS"
   ]
  },
  {
   "cell_type": "code",
   "execution_count": 2,
   "id": "cdeb5a3f-98df-4b3f-9452-f56fdf51e5b3",
   "metadata": {},
   "outputs": [
    {
     "name": "stdout",
     "output_type": "stream",
     "text": [
      "4\n",
      "0\n",
      "4\n",
      "1.0\n",
      "0\n",
      "8\n",
      "2\n",
      "2.5\n"
     ]
    }
   ],
   "source": [
    "print(2+2)\n",
    "print(2-2)\n",
    "print(2*2)\n",
    "print(2/2)\n",
    "print(2%2)\n",
    "print(2**3)\n",
    "print(5//2)\n",
    "print(5/2)"
   ]
  },
  {
   "cell_type": "code",
   "execution_count": 3,
   "id": "6241eace-de05-461b-8725-cc94d6fff579",
   "metadata": {},
   "outputs": [
    {
     "name": "stdout",
     "output_type": "stream",
     "text": [
      "301.0\n"
     ]
    }
   ],
   "source": [
    "print((6+4)**2*3/1+2-1)"
   ]
  },
  {
   "cell_type": "code",
   "execution_count": 6,
   "id": "645dd545-deae-4781-b2f1-de0abafc8619",
   "metadata": {},
   "outputs": [
    {
     "name": "stdin",
     "output_type": "stream",
     "text": [
      "are you 25 years old young man? no\n"
     ]
    },
    {
     "name": "stdout",
     "output_type": "stream",
     "text": [
      "No Iam  4 old\n"
     ]
    }
   ],
   "source": [
    "age=21\n",
    "a=input(\"are you 25 years old young man?\")\n",
    "a=str(a)\n",
    "print('No Iam ',25-age,'old') "
   ]
  },
  {
   "cell_type": "code",
   "execution_count": 7,
   "id": "1155a447-2def-44e9-a6a4-ee7a5d0bf943",
   "metadata": {},
   "outputs": [
    {
     "name": "stdin",
     "output_type": "stream",
     "text": [
      "Enter First Number : 60\n",
      "Enter Second Number : 10\n"
     ]
    },
    {
     "name": "stdout",
     "output_type": "stream",
     "text": [
      "0\n",
      "if number is divisible by(0) then  60 is divisible by 10\n"
     ]
    }
   ],
   "source": [
    "a=input(\"Enter First Number :\")\n",
    "b=input(\"Enter Second Number :\")\n",
    "print(int(a)%int(b))\n",
    "print('if number is divisible by(0) then ',a ,'is divisible by',b)"
   ]
  },
  {
   "cell_type": "code",
   "execution_count": 9,
   "id": "1e1e2dda-d9e5-4390-8418-19ee3f9443bd",
   "metadata": {},
   "outputs": [
    {
     "name": "stdout",
     "output_type": "stream",
     "text": [
      "30\n",
      "10\n",
      "200\n",
      "2.0\n",
      "2\n",
      "0\n",
      "10240000000000\n",
      "8\n"
     ]
    }
   ],
   "source": [
    "#Arthimetic operators\n",
    "a,b=20,10\n",
    "print(a+b)\n",
    "print(a-b)\n",
    "print(a*b)\n",
    "print(a/b)\n",
    "print(a//b)\n",
    "print(a%b)\n",
    "print(a**b)\n",
    "print(2**3)"
   ]
  },
  {
   "cell_type": "code",
   "execution_count": 13,
   "id": "92c52350-29ca-4606-b659-fad8438513e8",
   "metadata": {},
   "outputs": [
    {
     "name": "stdout",
     "output_type": "stream",
     "text": [
      "True\n",
      "True\n",
      "False\n",
      "False\n",
      "False\n",
      "True\n"
     ]
    }
   ],
   "source": [
    "#Relational Operators\n",
    "a,b=20,10\n",
    "print(a>b)\n",
    "print(a>=b)\n",
    "print(a<b)\n",
    "print(a<=b)\n",
    "print(a==b)\n",
    "print(a!=b)"
   ]
  },
  {
   "cell_type": "code",
   "execution_count": 20,
   "id": "81b52035-2c60-4823-8001-3544970b11b4",
   "metadata": {},
   "outputs": [
    {
     "name": "stdout",
     "output_type": "stream",
     "text": [
      "False\n",
      "True\n",
      "False\n",
      "True\n"
     ]
    }
   ],
   "source": [
    "#Logical Operators\n",
    "a,b=True,False\n",
    "print(a and b)\n",
    "print(a or b)\n",
    "print(not a is a)\n",
    "print(not a is not a)"
   ]
  },
  {
   "cell_type": "code",
   "execution_count": 23,
   "id": "3e8a2809-cf1b-4141-ab86-020315c62a48",
   "metadata": {},
   "outputs": [
    {
     "name": "stdout",
     "output_type": "stream",
     "text": [
      "60\n",
      "50\n",
      "500\n",
      "50.0\n",
      "25.0\n",
      "1.0\n"
     ]
    }
   ],
   "source": [
    "#Assignment Operators\n",
    "a=50\n",
    "a+=10\n",
    "print(a)\n",
    "a-=10\n",
    "print(a)\n",
    "a*=10\n",
    "print(a)\n",
    "a/=10\n",
    "print(a)\n",
    "a//=2\n",
    "print(a)\n",
    "a%=2\n",
    "print(a)"
   ]
  },
  {
   "cell_type": "code",
   "execution_count": 25,
   "id": "da17ee8d-0cec-4b50-938d-d6b5286f5ce4",
   "metadata": {},
   "outputs": [
    {
     "name": "stdout",
     "output_type": "stream",
     "text": [
      "140729331209952\n",
      "140729331209920\n",
      "False\n",
      "True\n"
     ]
    }
   ],
   "source": [
    "#Identity Operators\n",
    "a,b=3,2\n",
    "print(id(a))\n",
    "print(id(b))\n",
    "print(a is b)\n",
    "print(a is not b)"
   ]
  },
  {
   "cell_type": "code",
   "execution_count": 26,
   "id": "eea5eb3d-f595-4d0a-b350-a2e85b09acea",
   "metadata": {},
   "outputs": [
    {
     "name": "stdout",
     "output_type": "stream",
     "text": [
      "False\n",
      "True\n",
      "False\n",
      "True\n"
     ]
    }
   ],
   "source": [
    "a=3\n",
    "b=2\n",
    "x=a\n",
    "y=b\n",
    "z=a\n",
    "print(x is b)\n",
    "print(x is a)\n",
    "print(x is not a)\n",
    "print(z is x)"
   ]
  },
  {
   "cell_type": "code",
   "execution_count": 34,
   "id": "46da3483-dbfb-4111-9113-d940a5e3038b",
   "metadata": {},
   "outputs": [
    {
     "name": "stdout",
     "output_type": "stream",
     "text": [
      "True\n",
      "False\n",
      "False\n",
      "False\n"
     ]
    }
   ],
   "source": [
    "#Membership Operators\n",
    "str1='balaji12'\n",
    "str2='balu34'\n",
    "str3='balaji'\n",
    "str4='Super balu'\n",
    "print(str3 in str1)\n",
    "print(str4 in str2)\n",
    "print(str4 in str1)\n",
    "print(str2 is str4)"
   ]
  },
  {
   "cell_type": "code",
   "execution_count": 35,
   "id": "d5d85c3c-3834-4d62-8f27-4060435e6813",
   "metadata": {},
   "outputs": [
    {
     "name": "stdout",
     "output_type": "stream",
     "text": [
      "2\n",
      "7\n",
      "-3\n",
      "0\n",
      "12\n"
     ]
    }
   ],
   "source": [
    "#Bitwise Operators\n",
    "print(2&7)\n",
    "print(2|7)\n",
    "print(~2)\n",
    "print(3>>2)\n",
    "print(3<<2)"
   ]
  }
 ],
 "metadata": {
  "kernelspec": {
   "display_name": "Python 3 (ipykernel)",
   "language": "python",
   "name": "python3"
  },
  "language_info": {
   "codemirror_mode": {
    "name": "ipython",
    "version": 3
   },
   "file_extension": ".py",
   "mimetype": "text/x-python",
   "name": "python",
   "nbconvert_exporter": "python",
   "pygments_lexer": "ipython3",
   "version": "3.8.2"
  }
 },
 "nbformat": 4,
 "nbformat_minor": 5
}
