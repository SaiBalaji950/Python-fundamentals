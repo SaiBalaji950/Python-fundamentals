{
 "cells": [
  {
   "cell_type": "code",
   "execution_count": null,
   "id": "e6f96efd-f348-4f82-9a59-0f9c6da93da7",
   "metadata": {},
   "outputs": [],
   "source": [
    "# Class Inheritance :\n",
    "\n",
    "\"\"\" Instead of starting from scratch, you can create a class by deriving it\n",
    "from a pre-existing class by listing the parent class in parentheses after the\n",
    "new class name.\n",
    "The child class inherits the attributes of its parent class and you can use\n",
    "those attributes as if they were defined in the child class. A child class can\n",
    "also override data members and methods from the parent.\n",
    "Syntax :\n",
    "class SubClass(ParentClass1, ..., ParentClassn):\n",
    "    'Optional class documentation string'\n",
    "    class_suite\n",
    "\"\"\""
   ]
  },
  {
   "cell_type": "code",
   "execution_count": 7,
   "id": "6f36cf9e-5cf3-4742-943f-bc06a50aa171",
   "metadata": {},
   "outputs": [
    {
     "name": "stdout",
     "output_type": "stream",
     "text": [
      "Balaji Constructor\n",
      "Sai Method\n",
      "Balaji Method\n",
      "The Attribute is : 200\n",
      "The Attribute is : 2000\n"
     ]
    }
   ],
   "source": [
    "class Sai:\n",
    "    def __init__(self):\n",
    "        print(\"Sai Constructor\")\n",
    "    def saimethod(self):\n",
    "        print(\"Sai Method\")\n",
    "    def setAttr(self,attr):\n",
    "        Sai.saiAttr=attr\n",
    "    def getAttr(self):\n",
    "        print(\"The Attribute is :\" ,Sai.saiAttr)\n",
    "class Balaji(Sai):\n",
    "    def __init__(self):\n",
    "        print(\"Balaji Constructor\")\n",
    "    def balajimethod(self):\n",
    "        print(\"Balaji Method\")\n",
    "c=Balaji()\n",
    "c.saimethod()\n",
    "c.balajimethod()\n",
    "c.setAttr(200)\n",
    "c.getAttr()\n",
    "c.setAttr(2000)\n",
    "c.getAttr()"
   ]
  },
  {
   "cell_type": "code",
   "execution_count": null,
   "id": "6f172470-5d73-4b6d-bb02-c23c3e3626d3",
   "metadata": {},
   "outputs": [],
   "source": [
    "# Data Hiding :\n",
    "\"\"\"\n",
    "An object's attributes may or may not be visible outside the class definition.\n",
    "You need to name attributes with a double underscore prefix, and then those\n",
    "attributes are not be visible to outsiders directly. \"\"\"\n",
    "# Example : Program to illustrate the concept 'Data Hiding'."
   ]
  },
  {
   "cell_type": "code",
   "execution_count": 23,
   "id": "cb1c5b64-7729-4215-83a5-382ce807528a",
   "metadata": {},
   "outputs": [
    {
     "name": "stdout",
     "output_type": "stream",
     "text": [
      "1\n",
      "2\n",
      "2\n"
     ]
    },
    {
     "ename": "AttributeError",
     "evalue": "'sai' object has no attribute '__balaji'",
     "output_type": "error",
     "traceback": [
      "\u001b[1;31m---------------------------------------------------------------------------\u001b[0m",
      "\u001b[1;31mAttributeError\u001b[0m                            Traceback (most recent call last)",
      "Cell \u001b[1;32mIn[23], line 10\u001b[0m\n\u001b[0;32m      8\u001b[0m d\u001b[38;5;241m.\u001b[39mc()\n\u001b[0;32m      9\u001b[0m \u001b[38;5;28mprint\u001b[39m(d\u001b[38;5;241m.\u001b[39m_sai__balaji)\n\u001b[1;32m---> 10\u001b[0m \u001b[38;5;28mprint\u001b[39m(\u001b[43md\u001b[49m\u001b[38;5;241;43m.\u001b[39;49m\u001b[43m__balaji\u001b[49m)\n",
      "\u001b[1;31mAttributeError\u001b[0m: 'sai' object has no attribute '__balaji'"
     ]
    }
   ],
   "source": [
    "class sai:\n",
    "    __balaji=0\n",
    "    def c(self):\n",
    "        self.__balaji +=1\n",
    "        print(self.__balaji)\n",
    "d=sai()\n",
    "d.c()\n",
    "d.c()\n",
    "print(d._sai__balaji)\n",
    "print(d.__balaji)"
   ]
  },
  {
   "cell_type": "code",
   "execution_count": null,
   "id": "0051d790-b3f6-4f8e-b8c7-d445866bd081",
   "metadata": {},
   "outputs": [],
   "source": [
    "# Base Overloading Methods :\n",
    "\"\"\"\n",
    "Some generic functionalities that we can override in our own classes :\n",
    "1. __init__(self, [args]): - Constructor (with any optional arguements).\n",
    "   Sample call : obj = className(args)\n",
    "\n",
    "2. __del__(self): - Destructor, Deletes an object.\n",
    "   Sample call : del obj\n",
    "\n",
    "3. __repr__(self): - Evaluating String representation.\n",
    "   Sample call : repr(obj)\n",
    "\n",
    "4. __str__(self): - Printable String representation.\n",
    "   Sample call : str(obj)\n",
    "\n",
    "5. __cmp__(self, x): - Object Comparison.\n",
    "   Sample call : cmp(obj, x)\n",
    "\"\"\"\n",
    "\n",
    "# Overloading Operators :\n",
    "\"\"\"\n",
    "When we have created a Vector class to represent two-dimensional vectors and\n",
    "want to perform addition operation using plus (+) operation will results some\n",
    "exceptions.\n",
    "We can define the __add__() methodin our class to perform vector addition and\n",
    "then the plus (+) operator would behave as per expectation. \"\"\""
   ]
  },
  {
   "cell_type": "code",
   "execution_count": 27,
   "id": "cac4d3c3-ffef-4f38-b153-8eb72464a53e",
   "metadata": {},
   "outputs": [
    {
     "name": "stdout",
     "output_type": "stream",
     "text": [
      "overload(15,120)\n"
     ]
    }
   ],
   "source": [
    "class overload:\n",
    "    def __init__(self,a,b):\n",
    "        self.a=a\n",
    "        self.b=b\n",
    "    def __str__(self):\n",
    "        return f\"overload({self.a},{self.b})\"\n",
    "    def __add__(self,b):\n",
    "        return overload(self.a+b.a,self.b+b.b)\n",
    "x1=overload(10,20)\n",
    "x2=overload(5,100)\n",
    "print(x1+x2)"
   ]
  },
  {
   "cell_type": "code",
   "execution_count": 28,
   "id": "62388f2f-f14c-43fc-a9e3-92acd6d510f6",
   "metadata": {},
   "outputs": [
    {
     "name": "stdout",
     "output_type": "stream",
     "text": [
      "overload(15,-80)\n"
     ]
    }
   ],
   "source": [
    "x1=overload(10,20)\n",
    "x2=overload(5,-100)\n",
    "print(x1+x2)"
   ]
  },
  {
   "cell_type": "code",
   "execution_count": null,
   "id": "54c75ea6-0eac-4203-b130-349602626fb1",
   "metadata": {},
   "outputs": [],
   "source": [
    "# Overriding Methods :\n",
    "\"\"\" We can always override parent class methods. One reason for overriding\n",
    "parent's methods is because you may want special or different functionality\n",
    "in our subclass. \"\"\""
   ]
  },
  {
   "cell_type": "code",
   "execution_count": 29,
   "id": "8db48dfe-c772-4fcc-adc4-bccaf1aa986d",
   "metadata": {},
   "outputs": [
    {
     "name": "stdout",
     "output_type": "stream",
     "text": [
      "balaji method\n"
     ]
    }
   ],
   "source": [
    "class sai:\n",
    "    def a(self):\n",
    "        print('sai method')\n",
    "class balaji(sai):\n",
    "    def a(self):\n",
    "        print('balaji method')\n",
    "b=balaji()\n",
    "b.a()"
   ]
  }
 ],
 "metadata": {
  "kernelspec": {
   "display_name": "Python 3 (ipykernel)",
   "language": "python",
   "name": "python3"
  },
  "language_info": {
   "codemirror_mode": {
    "name": "ipython",
    "version": 3
   },
   "file_extension": ".py",
   "mimetype": "text/x-python",
   "name": "python",
   "nbconvert_exporter": "python",
   "pygments_lexer": "ipython3",
   "version": "3.8.2"
  }
 },
 "nbformat": 4,
 "nbformat_minor": 5
}
