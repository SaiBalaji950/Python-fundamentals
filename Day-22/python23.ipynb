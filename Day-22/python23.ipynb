{
 "cells": [
  {
   "cell_type": "code",
   "execution_count": null,
   "id": "67ab09a2-3a4d-4599-bd9e-8baa781fc6b4",
   "metadata": {},
   "outputs": [],
   "source": [
    "Constructors are generally used for instantiating an object. The task of constructors is to initialize(assign values) to the \n",
    "data members of the class when an object of the class is created. In Python the __init__() method is called the constructor \n",
    "    and is always called when an object is created.\n",
    "Syntax of constructor declaration : \n",
    "\n",
    "def __init__(self):\n",
    "    # body of the constructor\n",
    "\n",
    "Types of constructors : \n",
    "\n",
    "default constructor: The default constructor is a simple constructor which doesn’t accept any arguments. \n",
    "    Its definition has only one argument which is a reference to the instance being constructed.\n",
    "parameterized constructor: constructor with parameters is known as parameterized constructor. \n",
    "    The parameterized constructor takes its first argument as a reference to the instance being constructed known as self\n",
    "    and the rest of the arguments are provided by the programmer.\n"
   ]
  },
  {
   "cell_type": "code",
   "execution_count": 1,
   "id": "22477089-d66f-49c2-aaef-9428c85694ff",
   "metadata": {},
   "outputs": [
    {
     "name": "stdout",
     "output_type": "stream",
     "text": [
      "Sai Balaji\n"
     ]
    }
   ],
   "source": [
    "#Example for Default Constructor\n",
    "class balaji:\n",
    "    def __init__(self):\n",
    "        self.name=\"Sai Balaji\"\n",
    "    def a(self):\n",
    "        print(self.name)\n",
    "b=balaji()\n",
    "b.a()"
   ]
  },
  {
   "cell_type": "code",
   "execution_count": 4,
   "id": "8dd12ec9-39cc-4dd1-b74c-88bb42452c9a",
   "metadata": {},
   "outputs": [
    {
     "name": "stdout",
     "output_type": "stream",
     "text": [
      "First Number = 2500\n",
      "Second Number = 2500\n",
      "Addition Result is :5000\n",
      "First Number = 63\n",
      "Second Number = 37\n",
      "Addition Result is :100\n"
     ]
    }
   ],
   "source": [
    "#Example For Parameterized Constructor\n",
    "class Addition:\n",
    "    a=0\n",
    "    b=0\n",
    "    c=0\n",
    "    def __init__(self,d,e):\n",
    "        self.a=d\n",
    "        self.b=e\n",
    "    def f(self):\n",
    "        print(\"First Number = \" +str(self.a))\n",
    "        print(\"Second Number = \" +str(self.b))\n",
    "        print(\"Addition Result is :\"+str(self.c))\n",
    "    def g(self):\n",
    "        self.c = self.a + self.b\n",
    "h=Addition(2500,2500)\n",
    "i=Addition(63,37)\n",
    "h.g()\n",
    "i.g()\n",
    "h.f()\n",
    "i.f()"
   ]
  },
  {
   "cell_type": "code",
   "execution_count": 5,
   "id": "193a4ec3-bf1a-4563-841c-f792827565d3",
   "metadata": {},
   "outputs": [
    {
     "name": "stdout",
     "output_type": "stream",
     "text": [
      "Default Constructor Called\n",
      "has attribute has no name\n",
      "Parameterized Constructor called  Sai Balaji\n",
      "has attribute calls Sai Balaji\n"
     ]
    }
   ],
   "source": [
    "class a:\n",
    "    def __init__(self,name=None):\n",
    "        if name is None:\n",
    "            print(\"Default Constructor Called\")\n",
    "        else:\n",
    "            self.name=name\n",
    "            print(\"Parameterized Constructor called \",self.name)\n",
    "    def b(self):\n",
    "        if hasattr(self,'name'):\n",
    "            print(\"has attribute calls\",self.name)\n",
    "        else:\n",
    "            print(\"has attribute has no name\")\n",
    "c=a()\n",
    "c.b()\n",
    "d=a(\"Sai Balaji\")\n",
    "d.b()"
   ]
  },
  {
   "cell_type": "code",
   "execution_count": null,
   "id": "17caa088-d90c-44e5-b8a4-cdd7196186d3",
   "metadata": {},
   "outputs": [],
   "source": [
    "Destructors are called when an object gets destroyed. In Python, destructors are not needed as much as in C++ because Python has a garbage collector \n",
    "that handles memory management automatically. \n",
    "The __del__() method is a known as a destructor method in Python. It is called when all references to the object have been deleted i.e \n",
    "when an object is garbage collected. \n",
    "Syntax of destructor declaration : \n",
    " \n",
    "\n",
    "def __del__(self):\n",
    "  # body of destructor"
   ]
  },
  {
   "cell_type": "code",
   "execution_count": 6,
   "id": "58abfe88-08b6-4a27-ba35-877fb84c3c23",
   "metadata": {},
   "outputs": [
    {
     "name": "stdout",
     "output_type": "stream",
     "text": [
      "Class Balaji was created\n",
      "Class Balaji was Deleted\n"
     ]
    }
   ],
   "source": [
    "class Balaji:\n",
    "    def __init__(self):\n",
    "        print(\"Class Balaji was created\")\n",
    "    def __del__(self):\n",
    "        print(\"Class Balaji was Deleted\")\n",
    "c=Balaji()\n",
    "del c"
   ]
  },
  {
   "cell_type": "code",
   "execution_count": 7,
   "id": "7cf6195b-43ab-472c-8cdb-5261751ab7a1",
   "metadata": {},
   "outputs": [
    {
     "name": "stdout",
     "output_type": "stream",
     "text": [
      "Calling a Function\n",
      "starting\n",
      "Class Balaji was created\n",
      "stopping\n",
      "Program Ends\n"
     ]
    }
   ],
   "source": [
    "class Balaji:\n",
    "    def __init__(self):\n",
    "        print(\"Class Balaji was created\")\n",
    "    def __del__(self):\n",
    "        print(\"Class Balaji was Deleted\")\n",
    "def a():\n",
    "    print(\"starting\")\n",
    "    b=Balaji()\n",
    "    print(\"stopping\")\n",
    "    return b\n",
    "print(\"Calling a Function\")\n",
    "b=a()\n",
    "print(\"Program Ends\")"
   ]
  },
  {
   "cell_type": "code",
   "execution_count": 20,
   "id": "3facfa9f-b5da-4ff1-b371-9d01c5f09b9c",
   "metadata": {},
   "outputs": [
    {
     "name": "stdout",
     "output_type": "stream",
     "text": [
      "Live Yourself\n"
     ]
    }
   ],
   "source": [
    "class Balaji:\n",
    "    def __init__(self,aa):\n",
    "        self.a=aa\n",
    "class SaiBalaji:\n",
    "    def __init__(self):\n",
    "        self.b=Balaji(\"self\")\n",
    "    def __del__(self):\n",
    "        print(\"Live Yourself\")\n",
    "def c():\n",
    "    c=SaiBalaji()\n",
    "c()"
   ]
  },
  {
   "cell_type": "code",
   "execution_count": null,
   "id": "a6abe788-76ba-4881-809a-352626d7d2e2",
   "metadata": {},
   "outputs": [],
   "source": [
    "Example: Destruction in recursion\n",
    "In Python, you can define a destructor for a class using the __del__() method. \n",
    "This method is called automatically when the object is about to be destroyed by the garbage collector. \n",
    "Here’s an example of how to use a destructor in a recursive function:"
   ]
  },
  {
   "cell_type": "code",
   "execution_count": 22,
   "id": "38bd559b-820a-42fb-b2f5-d5f6a2f2e628",
   "metadata": {},
   "outputs": [
    {
     "name": "stdout",
     "output_type": "stream",
     "text": [
      "recursive function initialized with a 10\n",
      "Recursive Function Running with a 10\n",
      "Recursive Function Running with a 9\n",
      "Recursive Function Running with a 8\n",
      "Recursive Function Running with a 7\n",
      "Recursive Function Running with a 6\n",
      "Recursive Function Running with a 5\n",
      "Recursive Function Running with a 4\n",
      "Recursive Function Running with a 3\n",
      "Recursive Function Running with a 2\n",
      "Recursive Function Running with a 1\n",
      "Recursive function was destroyed\n"
     ]
    }
   ],
   "source": [
    "class A:\n",
    "    def __init__(self,a):\n",
    "        self.a=a\n",
    "        print(\"recursive function initialized with a\",a)\n",
    "    def b(self,a=None):\n",
    "        if a is None:\n",
    "            a=self.a\n",
    "        if a<=0:\n",
    "            return\n",
    "        print(\"Recursive Function Running with a\",a)\n",
    "        self.b(a-1)\n",
    "    def __del__(self):\n",
    "        print(\"Recursive function was destroyed\")\n",
    "c=A(10)\n",
    "c.b()\n",
    "del c"
   ]
  }
 ],
 "metadata": {
  "kernelspec": {
   "display_name": "Python 3 (ipykernel)",
   "language": "python",
   "name": "python3"
  },
  "language_info": {
   "codemirror_mode": {
    "name": "ipython",
    "version": 3
   },
   "file_extension": ".py",
   "mimetype": "text/x-python",
   "name": "python",
   "nbconvert_exporter": "python",
   "pygments_lexer": "ipython3",
   "version": "3.8.2"
  }
 },
 "nbformat": 4,
 "nbformat_minor": 5
}
