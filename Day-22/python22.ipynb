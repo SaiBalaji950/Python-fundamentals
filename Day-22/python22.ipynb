{
 "cells": [
  {
   "cell_type": "code",
   "execution_count": null,
   "id": "54e4a471-34de-48bf-8bc4-ca12447ccfba",
   "metadata": {},
   "outputs": [],
   "source": [
    "Encapsulation is one of the fundamental concepts in object-oriented programming (OOP). \n",
    "It describes the idea of wrapping data and the methods that work on data within one unit. \n",
    "This puts restrictions on accessing variables and methods directly and can prevent the accidental modification of data. \n",
    "To prevent accidental change, an object’s variable can only be changed by an object’s method. Those types of variables are known as private variables.\n",
    "\n",
    "A class is an example of encapsulation as it encapsulates all the data that is member functions, variables, etc. \n",
    "The goal of information hiding is to ensure that an object’s state is always valid by controlling access to attributes that are hidden from the\n",
    "outside world."
   ]
  },
  {
   "cell_type": "code",
   "execution_count": null,
   "id": "e227309d-e465-42e2-807f-d028d5b2d2f2",
   "metadata": {},
   "outputs": [],
   "source": [
    "Protected members\n",
    "->Protected members (in C++ and JAVA) are those members of the class that cannot be accessed outside the class \n",
    "->but can be accessed from within the class and its subclasses. To accomplish this in Python, just follow the convention by prefixing \n",
    "the name of the member by a single underscore “_”.\n",
    "Although the protected variable can be accessed out of the class as well as in the derived class (modified too in derived class), \n",
    "it is customary(convention not a rule) to not access the protected out the class body.\n",
    "Note: The __init__ method is a constructor and runs as soon as an object of a class is instantiated.  "
   ]
  },
  {
   "cell_type": "code",
   "execution_count": 7,
   "id": "8cba67df-874d-4b9d-807f-3d9fa52bd845",
   "metadata": {},
   "outputs": [
    {
     "name": "stdout",
     "output_type": "stream",
     "text": [
      "calling protected memeber : 20\n",
      "calling the modified protected member : 10\n",
      "Accessing protected number is : 10\n",
      "Accessing protected number is : 20\n"
     ]
    }
   ],
   "source": [
    "class A:\n",
    "    def __init__(self):\n",
    "        self.a=20\n",
    "class B(A):\n",
    "    def __init__(self):\n",
    "        A.__init__(self)\n",
    "        print(\"calling protected memeber :\",self.a)\n",
    "        self.a=10\n",
    "        print(\"calling the modified protected member :\",self.a)\n",
    "b=B()\n",
    "c=A()\n",
    "print(\"Accessing protected number is :\",b.a)\n",
    "print(\"Accessing protected number is :\",c.a)"
   ]
  },
  {
   "cell_type": "code",
   "execution_count": null,
   "id": "51087aa3-7755-45c6-872f-c3dde25bc3f0",
   "metadata": {},
   "outputs": [],
   "source": [
    "Private members\n",
    "Private members are similar to protected members, the difference is that the class members declared private should neither be accessed \n",
    "outside the class nor by any base class. In Python, there is no existence of Private instance variables that cannot be accessed except inside a class.\n",
    "\n",
    "However, to define a private member prefix the member name with double underscore “__”.\n",
    "\n",
    "Note: Python’s private and protected members can be accessed outside the class through python name mangling. "
   ]
  },
  {
   "cell_type": "code",
   "execution_count": 11,
   "id": "b6ba2b87-757c-405d-85ec-eeb3c4348400",
   "metadata": {},
   "outputs": [
    {
     "name": "stdout",
     "output_type": "stream",
     "text": [
      "balaji\n"
     ]
    },
    {
     "ename": "AttributeError",
     "evalue": "'A' object has no attribute 'c'",
     "output_type": "error",
     "traceback": [
      "\u001b[1;31m---------------------------------------------------------------------------\u001b[0m",
      "\u001b[1;31mAttributeError\u001b[0m                            Traceback (most recent call last)",
      "Cell \u001b[1;32mIn[11], line 19\u001b[0m\n\u001b[0;32m     11\u001b[0m \u001b[38;5;28mprint\u001b[39m(c\u001b[38;5;241m.\u001b[39ma)\n\u001b[0;32m     12\u001b[0m \u001b[38;5;66;03m# Uncommenting print(obj1.c) will \u001b[39;00m\n\u001b[0;32m     13\u001b[0m \u001b[38;5;66;03m# raise an AttributeError \u001b[39;00m\n\u001b[0;32m     14\u001b[0m   \n\u001b[1;32m   (...)\u001b[0m\n\u001b[0;32m     17\u001b[0m \u001b[38;5;66;03m# private member of base class \u001b[39;00m\n\u001b[0;32m     18\u001b[0m \u001b[38;5;66;03m# is called inside derived class \u001b[39;00m\n\u001b[1;32m---> 19\u001b[0m \u001b[38;5;28mprint\u001b[39m(\u001b[43mc\u001b[49m\u001b[38;5;241;43m.\u001b[39;49m\u001b[43mc\u001b[49m)\n",
      "\u001b[1;31mAttributeError\u001b[0m: 'A' object has no attribute 'c'"
     ]
    }
   ],
   "source": [
    "class A:\n",
    "    def __init__(self):\n",
    "        self.a='balaji'\n",
    "        self.b='balaji'\n",
    "class B:\n",
    "    def __init__(self):\n",
    "        A.__init__(self)\n",
    "        print(\"calling Private members\")\n",
    "        print(self.c)\n",
    "c=A()\n",
    "print(c.a)\n",
    "# Uncommenting print(obj1.c) will \n",
    "# raise an AttributeError \n",
    "  \n",
    "# Uncommenting obj2 = Derived() will \n",
    "# also raise an AttributeError as \n",
    "# private member of base class \n",
    "# is called inside derived class \n",
    "print(c.c)"
   ]
  },
  {
   "cell_type": "code",
   "execution_count": 16,
   "id": "1c654ae0-1ce0-43c7-bec5-81e960d80081",
   "metadata": {},
   "outputs": [
    {
     "name": "stdout",
     "output_type": "stream",
     "text": [
      "balaji\n",
      "Calling private members\n",
      "balaji\n"
     ]
    }
   ],
   "source": [
    "class A:\n",
    "    def __init__(self):\n",
    "        self.a = 'balaji'\n",
    "        self.b = 'balaji'\n",
    "        self.__c = 'balaji'  \n",
    "class B(A):  \n",
    "    def __init__(self):\n",
    "        super().__init__()  \n",
    "        print(\"Calling private members\")\n",
    "        print(self._A__c)  \n",
    "c = A()\n",
    "print(c.a)\n",
    "b = B()"
   ]
  },
  {
   "cell_type": "code",
   "execution_count": null,
   "id": "dff0e514-9582-4b82-9a1c-f88eb383d5c3",
   "metadata": {},
   "outputs": [],
   "source": [
    "An abstract class can be considered a blueprint for other classes. \n",
    "It allows you to create a set of methods that must be created within any child classes built from the abstract class.\n",
    "\n",
    "A class that contains one or more abstract methods is called an abstract class. \n",
    "An abstract method is a method that has a declaration but does not have an implementation.\n",
    "\n",
    "By defining an abstract base class, you can define a common Application Program Interface(API) for a set of subclasses"
   ]
  },
  {
   "cell_type": "code",
   "execution_count": 21,
   "id": "05afe179-4f7d-4ff0-9362-b1ee149a5f23",
   "metadata": {},
   "outputs": [
    {
     "name": "stdout",
     "output_type": "stream",
     "text": [
      "I am Calculating the Average of the Data\n",
      "I am Calculating the Middle value of the Data\n",
      "I am Calculating the most repeated values\n"
     ]
    }
   ],
   "source": [
    "from abc import ABC, abstractmethod\n",
    "class Statistics(ABC):\n",
    "    @abstractmethod\n",
    "    def maths(self):\n",
    "        pass\n",
    "class mean(Statistics):\n",
    "    def maths(self):\n",
    "        print(\"I am Calculating the Average of the Data\")\n",
    "class median(Statistics):\n",
    "    def maths(self):\n",
    "        print(\"I am Calculating the Middle value of the Data\")\n",
    "class mode(Statistics):\n",
    "    def maths(self):\n",
    "        print(\"I am Calculating the most repeated values\")\n",
    "a=mean()\n",
    "a.maths()\n",
    "b=median()\n",
    "b.maths()\n",
    "c=mode()\n",
    "c.maths()"
   ]
  },
  {
   "cell_type": "code",
   "execution_count": 22,
   "id": "db1cce27-2362-4885-a0f4-14f4d4768cf9",
   "metadata": {},
   "outputs": [
    {
     "name": "stdout",
     "output_type": "stream",
     "text": [
      "I have 3 sides\n",
      "I have 4 sides\n",
      "I have 5 sides\n",
      "I have 6 sides\n"
     ]
    }
   ],
   "source": [
    "from abc import ABC, abstractmethod\n",
    "class Polygon(ABC):\n",
    "    @abstractmethod\n",
    "    def noofsides(self):\n",
    "        pass\n",
    "class Triangle(Polygon):\n",
    "    def noofsides(self):\n",
    "        print(\"I have 3 sides\")\n",
    "class Pentagon(Polygon):\n",
    "    def noofsides(self):\n",
    "        print(\"I have 5 sides\")\n",
    "class Hexagon(Polygon):\n",
    "    def noofsides(self):\n",
    "        print(\"I have 6 sides\")\n",
    "class Quadrilateral(Polygon):\n",
    "    def noofsides(self):\n",
    "        print(\"I have 4 sides\")\n",
    "R = Triangle()\n",
    "R.noofsides()\n",
    "K = Quadrilateral()\n",
    "K.noofsides()\n",
    "R = Pentagon()\n",
    "R.noofsides()\n",
    "K = Hexagon()\n",
    "K.noofsides()"
   ]
  },
  {
   "cell_type": "code",
   "execution_count": 26,
   "id": "63810d22-d3dc-4483-852e-41d101f2b96e",
   "metadata": {},
   "outputs": [
    {
     "name": "stdout",
     "output_type": "stream",
     "text": [
      "Teacher Work is to Teach the Students.\n",
      "Student Work is Learning and Enjoying.\n",
      "Principal Work is to build the Management Properly\n",
      "labfaculty work is check the lab equipment work\n"
     ]
    }
   ],
   "source": [
    "from abc import ABC, abstractmethod\n",
    "class campus():\n",
    "    def work(self):\n",
    "        pass\n",
    "class Teacher(campus):\n",
    "    def work(self):\n",
    "        print(\"Teacher Work is to Teach the Students.\")\n",
    "class Student(campus):\n",
    "    def work(self):\n",
    "        print(\"Student Work is Learning and Enjoying.\")\n",
    "class Principal(campus):\n",
    "    def work(self):\n",
    "        print(\"Principal Work is to build the Management Properly\")\n",
    "class labfaculty(campus):\n",
    "    def work(self):\n",
    "        print(\"labfaculty work is check the lab equipment work\")\n",
    "a=Teacher()\n",
    "a.work()\n",
    "b=Student()\n",
    "b.work()\n",
    "c=Principal()\n",
    "c.work()\n",
    "d=labfaculty()\n",
    "d.work()"
   ]
  },
  {
   "cell_type": "code",
   "execution_count": null,
   "id": "5f60cb9e-ca97-4ba0-923f-106d0e0bde68",
   "metadata": {},
   "outputs": [],
   "source": [
    "Implementation of Abstract through Subclass\n",
    "By subclassing directly from the base, we can avoid the need to register the class explicitly. \n",
    "In this case, the Python class management is used to recognize Plugin implementation as implementing the abstract PluginBase."
   ]
  },
  {
   "cell_type": "code",
   "execution_count": 33,
   "id": "4acbfb6f-28cd-4ea1-aded-bca2968cdf5d",
   "metadata": {},
   "outputs": [
    {
     "name": "stdout",
     "output_type": "stream",
     "text": [
      "True\n",
      "True\n",
      "False\n"
     ]
    }
   ],
   "source": [
    "from abc import ABC\n",
    "class A:\n",
    "    def a(self):\n",
    "        pass\n",
    "class B(A):\n",
    "    def a(self):\n",
    "        print(\"This is B class\")\n",
    "b=B()\n",
    "print(issubclass(B,A))\n",
    "print(isinstance(B(),A))\n",
    "print(isinstance(B,A))"
   ]
  },
  {
   "cell_type": "code",
   "execution_count": null,
   "id": "bc650b46-6f2a-41cc-a0e3-0e5794a80ce2",
   "metadata": {},
   "outputs": [],
   "source": [
    "Concrete Methods in Abstract Base Classes\n",
    "Concrete classes contain only concrete (normal) methods whereas abstract classes may contain both concrete methods and abstract methods.\n",
    "\n",
    "The concrete class provides an implementation of abstract methods, the abstract base class can also provide an implementation \n",
    "by invoking the methods via super(). Let look over the example to invoke the method using super():"
   ]
  },
  {
   "cell_type": "code",
   "execution_count": 34,
   "id": "c5d3675b-cd12-4c6b-901d-e1accbf31f40",
   "metadata": {},
   "outputs": [
    {
     "name": "stdout",
     "output_type": "stream",
     "text": [
      "This is Abstarct class\n",
      "This is Subclass\n"
     ]
    }
   ],
   "source": [
    "from abc import ABC\n",
    "class a(ABC):\n",
    "    def b(self):\n",
    "        print(\"This is Abstarct class\")\n",
    "class c(a):\n",
    "    def b(self):\n",
    "        super().b()\n",
    "        print(\"This is Subclass\")\n",
    "d=c()\n",
    "d.b()"
   ]
  },
  {
   "cell_type": "code",
   "execution_count": null,
   "id": "5d9318cf-cc80-41c3-9ea5-df41184d485a",
   "metadata": {},
   "outputs": [],
   "source": [
    "Abstract Properties in Python\n",
    "Abstract classes include attributes in addition to methods, you can require the attributes in concrete classes by defining them with @abstractproperty. "
   ]
  },
  {
   "cell_type": "code",
   "execution_count": 37,
   "id": "4c7328b2-061e-4bf3-b79e-664af6619273",
   "metadata": {},
   "outputs": [
    {
     "name": "stdout",
     "output_type": "stream",
     "text": [
      "Can't instantiate abstract class a with abstract methods b\n",
      "b class\n"
     ]
    }
   ],
   "source": [
    "import abc\n",
    "from abc import ABC,abstractmethod\n",
    "class a(ABC):\n",
    "    @abc.abstractproperty\n",
    "    def b(self):\n",
    "        return \"a class\"\n",
    "class c(a):\n",
    "    @property\n",
    "    def b(self):\n",
    "        return \"b class\"\n",
    "try:\n",
    "    d=a()\n",
    "    print(r.b)\n",
    "except Exception as err:\n",
    "    print(err)\n",
    "d=c()\n",
    "print(d.b)"
   ]
  },
  {
   "cell_type": "code",
   "execution_count": null,
   "id": "4a0c61ec-fb9d-410e-9a77-9c6ac242b7e0",
   "metadata": {},
   "outputs": [],
   "source": [
    "Abstract classes are incomplete because they have methods that have nobody. \n",
    "If Python allows creating an object for abstract classes then using that object if anyone calls the abstract method, \n",
    "but there is no actual implementation to invoke.\n",
    "\n",
    "So, we use an abstract class as a template and according to the need, we extend it and build on it before we can use it. \n",
    "Due to the fact, an abstract class is not a concrete class, it cannot be instantiated. \n",
    "When we create an object for the abstract class it raises an error. "
   ]
  },
  {
   "cell_type": "code",
   "execution_count": 42,
   "id": "7e39faac-ab46-4c66-ac34-c5a6d239d0f6",
   "metadata": {},
   "outputs": [
    {
     "ename": "TypeError",
     "evalue": "Can't instantiate abstract class campus with abstract methods work",
     "output_type": "error",
     "traceback": [
      "\u001b[1;31m---------------------------------------------------------------------------\u001b[0m",
      "\u001b[1;31mTypeError\u001b[0m                                 Traceback (most recent call last)",
      "Cell \u001b[1;32mIn[42], line 18\u001b[0m\n\u001b[0;32m     16\u001b[0m     \u001b[38;5;28;01mdef\u001b[39;00m \u001b[38;5;21mwork\u001b[39m(\u001b[38;5;28mself\u001b[39m):\n\u001b[0;32m     17\u001b[0m         \u001b[38;5;28mprint\u001b[39m(\u001b[38;5;124m\"\u001b[39m\u001b[38;5;124mlabfaculty work is check the lab equipment work\u001b[39m\u001b[38;5;124m\"\u001b[39m)\n\u001b[1;32m---> 18\u001b[0m c\u001b[38;5;241m=\u001b[39m\u001b[43mcampus\u001b[49m\u001b[43m(\u001b[49m\u001b[43m)\u001b[49m\n",
      "\u001b[1;31mTypeError\u001b[0m: Can't instantiate abstract class campus with abstract methods work"
     ]
    }
   ],
   "source": [
    "from abc import ABC, abstractmethod\n",
    "class campus(ABC):\n",
    "    @abstractmethod\n",
    "    def work(self):\n",
    "        pass\n",
    "class Teacher(campus):\n",
    "    def work(self):\n",
    "        print(\"Teacher Work is to Teach the Students.\")\n",
    "class Student(campus):\n",
    "    def work(self):\n",
    "        print(\"Student Work is Learning and Enjoying.\")\n",
    "class Principal(campus):\n",
    "    def work(self):\n",
    "        print(\"Principal Work is to build the Management Properly\")\n",
    "class labfaculty(campus):\n",
    "    def work(self):\n",
    "        print(\"labfaculty work is check the lab equipment work\")\n",
    "c=campus()"
   ]
  }
 ],
 "metadata": {
  "kernelspec": {
   "display_name": "Python 3 (ipykernel)",
   "language": "python",
   "name": "python3"
  },
  "language_info": {
   "codemirror_mode": {
    "name": "ipython",
    "version": 3
   },
   "file_extension": ".py",
   "mimetype": "text/x-python",
   "name": "python",
   "nbconvert_exporter": "python",
   "pygments_lexer": "ipython3",
   "version": "3.8.2"
  }
 },
 "nbformat": 4,
 "nbformat_minor": 5
}
