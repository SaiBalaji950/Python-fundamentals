{
 "cells": [
  {
   "cell_type": "raw",
   "id": "adea98ef-4c7d-4687-a3f8-e62f2a00a05a",
   "metadata": {},
   "source": [
   "Basics of Python"
   ]
  },
  {
   "cell_type": "code",
   "execution_count": 1,
   "id": "3ac140b7-b2b2-426c-b76a-b2c0c620b88b",
   "metadata": {},
   "outputs": [
    {
     "name": "stdout",
     "output_type": "stream",
     "text": [
      "Hello Balaji\n"
     ]
    }
   ],
   "source": [
    "print(\"Hello Balaji\")"
   ]
  },
  {
   "cell_type": "raw",
   "id": "a8dc25c3-7df0-4c30-b614-8fcd9081f9e8",
   "metadata": {},
   "source": [
    "python variables"
   ]
  },
  {
   "cell_type": "code",
   "execution_count": 2,
   "id": "6ae344a1-db1b-4358-9ec7-92ad1d3176d0",
   "metadata": {},
   "outputs": [
    {
     "name": "stdout",
     "output_type": "stream",
     "text": [
      "100\n",
      "2.3\n",
      "Balaji\n"
     ]
    }
   ],
   "source": [
    "integer=100\n",
    "floating=2.3\n",
    "string=\"Balaji\"\n",
    "print(integer)\n",
    "print(floating)\n",
    "print(string)"
   ]
  },
  {
   "cell_type": "code",
   "execution_count": 5,
   "id": "08816df6-3ad9-4143-80ab-cbe3f7f7274f",
   "metadata": {},
   "outputs": [
    {
     "name": "stdout",
     "output_type": "stream",
     "text": [
      "Balaji Balaji Balaji\n"
     ]
    }
   ],
   "source": [
    "a=b=c=\"Balaji\"\n",
    "print(a,b,c)"
   ]
  },
  {
   "cell_type": "code",
   "execution_count": 6,
   "id": "182c2952-c31e-431c-b1bf-f48b49b7a70a",
   "metadata": {},
   "outputs": [
    {
     "name": "stdout",
     "output_type": "stream",
     "text": [
      "Balaji 99 50\n"
     ]
    }
   ],
   "source": [
    "a,b,c=\"Balaji\",99,50\n",
    "print(a,b,c)"
   ]
  },
  {
   "cell_type": "raw",
   "id": "9d7b5151-8ed7-46c5-b1ee-92d0f5e06c27",
   "metadata": {},
   "source": [
    "output operation"
   ]
  },
  {
   "cell_type": "code",
   "execution_count": 7,
   "id": "2b09de09-c584-4e3e-a64b-fe91fe0f3e3e",
   "metadata": {},
   "outputs": [
    {
     "name": "stdout",
     "output_type": "stream",
     "text": [
      "Sai Balaji is very coolest person in the world\n"
     ]
    }
   ],
   "source": [
    "print(\"Sai Balaji is very coolest person in the world\")"
   ]
  },
  {
   "cell_type": "code",
   "execution_count": 8,
   "id": "3678ba4d-5e75-4dfe-9f96-3ce6ab615ee2",
   "metadata": {},
   "outputs": [
    {
     "name": "stdout",
     "output_type": "stream",
     "text": [
      "The Value of a is 50\n"
     ]
    }
   ],
   "source": [
    "a=50\n",
    "print(\"The Value of a is\", a)"
   ]
  },
  {
   "cell_type": "code",
   "execution_count": 9,
   "id": "9a7f1e8d-4070-423c-a920-7e303951d195",
   "metadata": {},
   "outputs": [
    {
     "name": "stdout",
     "output_type": "stream",
     "text": [
      "a= 50\n"
     ]
    }
   ],
   "source": [
    "a=50\n",
    "print(\"a=\",a)"
   ]
  },
  {
   "cell_type": "code",
   "execution_count": 12,
   "id": "eb1e4a10-093c-4e79-a3da-a336abd5c424",
   "metadata": {},
   "outputs": [
    {
     "name": "stdout",
     "output_type": "stream",
     "text": [
      "a = 50 = b\n"
     ]
    }
   ],
   "source": [
    "a=50\n",
    "b=a\n",
    "print(\"a =\",a,\"= b\")"
   ]
  },
  {
   "cell_type": "code",
   "execution_count": 14,
   "id": "26e3f059-077c-4eba-b932-ef7e37eed964",
   "metadata": {},
   "outputs": [
    {
     "name": "stdout",
     "output_type": "stream",
     "text": [
      "Sai Balaji\n",
      "\n",
      "CSE\n"
     ]
    }
   ],
   "source": [
    "print(\"Sai Balaji\")\n",
    "print() #without any arguments\n",
    "print(\"CSE\")"
   ]
  },
  {
   "cell_type": "code",
   "execution_count": 15,
   "id": "6ecd5b86-c037-4923-b6ee-256821320d1c",
   "metadata": {},
   "outputs": [
    {
     "name": "stdout",
     "output_type": "stream",
     "text": [
      "Hello\tBalaji\n"
     ]
    }
   ],
   "source": [
    "print('Hello\\tBalaji')"
   ]
  },
  {
   "cell_type": "code",
   "execution_count": 17,
   "id": "e879252b-2487-4a05-8ba4-d7a1509ed920",
   "metadata": {},
   "outputs": [
    {
     "name": "stdout",
     "output_type": "stream",
     "text": [
      "Hello\n",
      "Balaji\n"
     ]
    }
   ],
   "source": [
    "print('Hello\\nBalaji')"
   ]
  },
  {
   "cell_type": "code",
   "execution_count": 18,
   "id": "b2a52b32-82d8-49ba-b5e3-5021066602c2",
   "metadata": {},
   "outputs": [
    {
     "name": "stdout",
     "output_type": "stream",
     "text": [
      "HelloBalaji\n"
     ]
    }
   ],
   "source": [
    "print('Hello'+'Balaji')"
   ]
  },
  {
   "cell_type": "code",
   "execution_count": 19,
   "id": "b3dd4f7e-5a0f-43bf-a739-4e054e35d038",
   "metadata": {},
   "outputs": [
    {
     "name": "stdout",
     "output_type": "stream",
     "text": [
      "Hello\tBalaji\n"
     ]
    }
   ],
   "source": [
    "print('Hello'+'\\tBalaji')"
   ]
  },
  {
   "cell_type": "code",
   "execution_count": 20,
   "id": "6d0ee7f7-3c59-4227-9535-4d8ab77f6f09",
   "metadata": {},
   "outputs": [
    {
     "name": "stdout",
     "output_type": "stream",
     "text": [
      "Hello Balaji\n"
     ]
    }
   ],
   "source": [
    "print('Hello','Balaji')"
   ]
  },
  {
   "cell_type": "code",
   "execution_count": 22,
   "id": "8b6c84c6-fa4b-4b2f-9af1-570cf65ab44c",
   "metadata": {},
   "outputs": [
    {
     "name": "stdout",
     "output_type": "stream",
     "text": [
      "Sai BalajiSai BalajiSai BalajiSai BalajiSai BalajiSai BalajiSai BalajiSai BalajiSai BalajiSai BalajiSai BalajiSai BalajiSai BalajiSai BalajiSai Balaji\n",
      "Sai Balaji\tSai Balaji\tSai Balaji\tSai Balaji\tSai Balaji\tSai Balaji\tSai Balaji\tSai Balaji\tSai Balaji\tSai Balaji\tSai Balaji\tSai Balaji\tSai Balaji\tSai Balaji\tSai Balaji\t\n",
      "\n",
      "Sai Balaji\n",
      "Sai Balaji\n",
      "Sai Balaji\n",
      "Sai Balaji\n",
      "Sai Balaji\n",
      "Sai Balaji\n",
      "Sai Balaji\n",
      "Sai Balaji\n",
      "Sai Balaji\n",
      "Sai Balaji\n",
      "Sai Balaji\n",
      "Sai Balaji\n",
      "Sai Balaji\n",
      "Sai Balaji\n",
      "Sai Balaji\n"
     ]
    }
   ],
   "source": [
    "print(15*'Sai Balaji')\n",
    "print(15*'Sai Balaji\\t')\n",
    "print(15*'\\nSai Balaji')"
   ]
  },
  {
   "cell_type": "code",
   "execution_count": 23,
   "id": "05b35bae-739c-4207-b91e-3d06b02eba71",
   "metadata": {},
   "outputs": [
    {
     "name": "stdout",
     "output_type": "stream",
     "text": [
      "values of a,b,c = 10 20 30\n"
     ]
    }
   ],
   "source": [
    "a,b,c=10,20,30\n",
    "print(\"values of a,b,c =\",a,b,c)"
   ]
  },
  {
   "cell_type": "code",
   "execution_count": 27,
   "id": "525356c5-e7cb-462a-94ba-169ddbe58c1b",
   "metadata": {},
   "outputs": [
    {
     "name": "stdout",
     "output_type": "stream",
     "text": [
      "values are :,10,20,30\n",
      "values are ::10:20:30\n"
     ]
    }
   ],
   "source": [
    "print('values are :',10,20,30,sep=',')\n",
    "print('values are :',10,20,30,sep=':')"
   ]
  },
  {
   "cell_type": "code",
   "execution_count": 29,
   "id": "35fe8818-5e3e-4975-b12d-0bc85d1e1ce6",
   "metadata": {},
   "outputs": [
    {
     "name": "stdout",
     "output_type": "stream",
     "text": [
      "saibalaji@vennelakanti$cse\n"
     ]
    }
   ],
   "source": [
    "print('saibalaji',end='@')\n",
    "print('vennelakanti',end='$')\n",
    "print('cse') #end attribute"
   ]
  },
  {
   "cell_type": "code",
   "execution_count": 30,
   "id": "b0be587f-363f-4f3a-aa0a-2b82f6a444f2",
   "metadata": {},
   "outputs": [
    {
     "name": "stdout",
     "output_type": "stream",
     "text": [
      "10,20,30@@@@40,50\n",
      "60:70:80####90:100\n"
     ]
    }
   ],
   "source": [
    "print(10,20,30,sep=',',end='@@@@')\n",
    "print(40,50,sep=',')\n",
    "print(60,70,80,sep=':',end='####')\n",
    "print(90,100,sep=':')"
   ]
  },
  {
   "cell_type": "code",
   "execution_count": 31,
   "id": "de4c6ed0-c2e1-4801-86e2-ed44ac3f4e38",
   "metadata": {},
   "outputs": [
    {
     "name": "stdout",
     "output_type": "stream",
     "text": [
      "integer:99, float:20.300000\n"
     ]
    }
   ],
   "source": [
    "print(\"integer:%2d, float:%2f\" %(99, 20.3))"
   ]
  },
  {
   "cell_type": "code",
   "execution_count": 32,
   "id": "e074c4e1-b0da-4676-8b61-5423d78f24bd",
   "metadata": {},
   "outputs": [
    {
     "name": "stdout",
     "output_type": "stream",
     "text": [
      "Total Hostels:360, Boys Hostel:240, Girls Hostel:120\n"
     ]
    }
   ],
   "source": [
    "print(\"Total Hostels:%3d, Boys Hostel:%2d, Girls Hostel:%1d\" %(360,240,120))"
   ]
  },
  {
   "cell_type": "code",
   "execution_count": 33,
   "id": "0a0d0785-51c4-4591-81e5-feb39fc15f87",
   "metadata": {},
   "outputs": [
    {
     "name": "stdout",
     "output_type": "stream",
     "text": [
      "    024\n"
     ]
    }
   ],
   "source": [
    "print(\"%7.3o\" %(20))"
   ]
  },
  {
   "cell_type": "code",
   "execution_count": 39,
   "id": "496dbbc5-3a98-486f-b1e8-6b1b51dd1e7b",
   "metadata": {},
   "outputs": [
    {
     "name": "stdout",
     "output_type": "stream",
     "text": [
      " 1.000E+01\n"
     ]
    }
   ],
   "source": [
    "print(\"%10.3E\" %(10))"
   ]
  },
  {
   "cell_type": "code",
   "execution_count": 42,
   "id": "b25084fe-0e2f-47ea-bb4d-e93b4de6e1d8",
   "metadata": {},
   "outputs": [
    {
     "name": "stdout",
     "output_type": "stream",
     "text": [
      "value = 50\n",
      "value = 50\n",
      "value = 50.000000\n"
     ]
    }
   ],
   "source": [
    "a=50\n",
    "print('value = %i' %a)\n",
    "print('value = %d' %a)\n",
    "print('value = %f' %a)"
   ]
  },
  {
   "cell_type": "code",
   "execution_count": 43,
   "id": "5ca66a00-b014-4791-adbe-9688f9be0e58",
   "metadata": {},
   "outputs": [
    {
     "name": "stdout",
     "output_type": "stream",
     "text": [
      "a value = 10 ,b value = 20.000000,c value = 30\n"
     ]
    }
   ],
   "source": [
    "a,b,c=10,20,30\n",
    "print('a value = %d ,b value = %f,c value = %d' %(a,b,c))"
   ]
  },
  {
   "cell_type": "code",
   "execution_count": 49,
   "id": "73f9c67d-09d8-4daa-a13a-c9075a11b6a5",
   "metadata": {},
   "outputs": [
    {
     "name": "stdout",
     "output_type": "stream",
     "text": [
      "my name is \"balaji\" and my no is \"50\"\n",
      "my name is balaji and my no is 50\n",
      "my name is \"balaji\" and my no is \"50\"\n",
      "my name is \"balaji\" and my no is \"50\"\n",
      "my name is \"balaji\" and my no is \"50\"\n",
      "my name is \"balaji\" and my no is \"50\"\n"
     ]
    }
   ],
   "source": [
    "name='balaji'\n",
    "no=50\n",
    "print('my name is \"{}\" and my no is \"{}\"'.format(name,no))\n",
    "print('my name is {} and my no is {}'.format(name,no))\n",
    "print('my name is \"{0}\" and my no is \"{1}\"'.format(name,no))\n",
    "print('my name is \"{1}\" and my no is \"{0}\"'.format(no,name))\n",
    "print('my name is \"{n}\" and my no is \"{s}\"'.format(n=name,s=no))\n",
    "print('my name is \"{n}\" and my no is \"{s}\"'.format(s=no,n=name))"
   ]
  },
  {
   "cell_type": "raw",
   "id": "40da4e6a-d06a-4249-a452-440101041e3d",
   "metadata": {},
   "source": [
    "input operation"
   ]
  },
  {
   "cell_type": "code",
   "execution_count": 50,
   "id": "900368ef-6c39-43ed-833d-f084ee802a52",
   "metadata": {},
   "outputs": [
    {
     "name": "stdin",
     "output_type": "stream",
     "text": [
      "enter student name :  Sai Balaji\n",
      "enter no :  103\n",
      "enter branch :  cse\n"
     ]
    },
    {
     "name": "stdout",
     "output_type": "stream",
     "text": [
      "Displaying Candidate Details\n",
      "name     no branch\n",
      "Sai Balaji 103 cse\n"
     ]
    }
   ],
   "source": [
    "name=input(\"enter student name : \")\n",
    "no=input(\"enter no : \")\n",
    "branch=input(\"enter branch : \")\n",
    "print(\"Displaying Candidate Details\")\n",
    "print(\"name    \",\"no\",\"branch\")\n",
    "print(name,no,branch)"
   ]
  },
  {
   "cell_type": "code",
   "execution_count": 51,
   "id": "0b38c567-8755-40ca-a590-f16d01ae3101",
   "metadata": {},
   "outputs": [
    {
     "name": "stdin",
     "output_type": "stream",
     "text": [
      "Enter First Number :  10\n",
      "Enter Second Number:  20\n"
     ]
    },
    {
     "name": "stdout",
     "output_type": "stream",
     "text": [
      "First Number : 10\n",
      "Second Number: 20\n",
      "sum is : 30\n"
     ]
    }
   ],
   "source": [
    "first=int(input(\"Enter First Number : \"))\n",
    "second=int(input(\"Enter Second Number: \"))\n",
    "print(\"First Number :\",first)\n",
    "print(\"Second Number:\",second)\n",
    "sum=first+second\n",
    "print(\"sum is :\",sum)"
   ]
  },
  {
   "cell_type": "code",
   "execution_count": 54,
   "id": "a1a817bd-f7a1-494b-8bf9-a2b6c358b151",
   "metadata": {},
   "outputs": [
    {
     "name": "stdin",
     "output_type": "stream",
     "text": [
      "Enter your name,no,percentage Vennelakanti Sai Balaji,103,69.3\n"
     ]
    },
    {
     "name": "stdout",
     "output_type": "stream",
     "text": [
      "user details: Vennelakanti Sai Balaji,103,69.3\n"
     ]
    }
   ],
   "source": [
    "a,b,c=input(\"Enter your name,no,percentage\").split()\n",
    "print(\"user details:\",a,b,c)"
   ]
  }
 ],
 "metadata": {
  "kernelspec": {
   "display_name": "Python 3 (ipykernel)",
   "language": "python",
   "name": "python3"
  },
  "language_info": {
   "codemirror_mode": {
    "name": "ipython",
    "version": 3
   },
   "file_extension": ".py",
   "mimetype": "text/x-python",
   "name": "python",
   "nbconvert_exporter": "python",
   "pygments_lexer": "ipython3",
   "version": "3.8.2"
  }
 },
 "nbformat": 4,
 "nbformat_minor": 5
}
