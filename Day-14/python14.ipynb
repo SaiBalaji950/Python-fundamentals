{
 "cells": [
  {
   "cell_type": "code",
   "execution_count": null,
   "id": "531a3b26-00e5-43e4-afe1-5c785e6042ae",
   "metadata": {},
   "outputs": [],
   "source": [
    "# Inheritance :\n",
    "\"\"\"\n",
    "Inheritance is a powerful feature in object-oriented programming. It refer to\n",
    "defining a new class with little or no modification to an existing class. The\n",
    "new class is called derived (or child) class and the one from which it inherits\n",
    "is called the base (or parent) class.\n",
    "Inheritance is the capacity of one class that inherits all the methods and\n",
    "properties from another class.\n",
    "1. Parent class : is the class being inherited from, also called Base class.\n",
    "2. Child class : is the class that inherits from another class, also called\n",
    "   Derived class.\n",
    "\"\"\""
   ]
  },
  {
   "cell_type": "code",
   "execution_count": 10,
   "id": "e321b71f-8170-4a50-909a-4a0bc55101c0",
   "metadata": {},
   "outputs": [
    {
     "name": "stdout",
     "output_type": "stream",
     "text": [
      "sai False\n",
      "Balaji True\n"
     ]
    }
   ],
   "source": [
    "class sai(object):\n",
    "    def __init__(self,name):\n",
    "        self.name=name\n",
    "    def getname(self):\n",
    "        return self.name\n",
    "    def isEmployee(self):\n",
    "        return False\n",
    "class Balaji(sai):\n",
    "    def isEmployee(self):\n",
    "        return True\n",
    "c=sai('sai')\n",
    "print(c.getname(),c.isEmployee())\n",
    "d=Balaji('Balaji')\n",
    "print(d.getname(),d.isEmployee())"
   ]
  },
  {
   "cell_type": "code",
   "execution_count": 25,
   "id": "12be843b-16ac-4095-b6b6-3b4a42f27af2",
   "metadata": {},
   "outputs": [
    {
     "name": "stdout",
     "output_type": "stream",
     "text": [
      "sai balaji\n",
      "103\n",
      "100\n",
      "21\n"
     ]
    }
   ],
   "source": [
    "class sai(object):\n",
    "    def __init__(self,name,id):\n",
    "        self.name=name\n",
    "        self.id=id\n",
    "    def display(self):\n",
    "        print(self.name)\n",
    "        print(self.id)\n",
    "class balaji(sai):\n",
    "    def __init__(self,name,id,salary,age):\n",
    "        super().__init__(name,id)\n",
    "        self.salary=salary\n",
    "        self.age=age\n",
    "    def display(self):\n",
    "        super().display()\n",
    "        print(self.salary)\n",
    "        print(self.age)\n",
    "a=balaji('sai balaji',103,100,21)\n",
    "a.display()"
   ]
  },
  {
   "cell_type": "code",
   "execution_count": null,
   "id": "0d1a0168-51f6-4fd6-be63-352ef5ce99e2",
   "metadata": {},
   "outputs": [],
   "source": [
    "\"\"\"\n",
    "Different forms of Inheritance :\n",
    "Types of Inheritance depends upon the number of child and parent classes\n",
    "involved. There are five types of Inheritance in Python.\n",
    "1. Single Inheritance\n",
    "2. Multiple Inheritance\n",
    "3. Multi-level Inheritance\n",
    "4. Hierarchical Inheritance\n",
    "5. Hybrid Inheritance\n",
    "\"\"\""
   ]
  },
  {
   "cell_type": "code",
   "execution_count": null,
   "id": "591bd293-5a1b-4f0c-9463-c90bc6f8473e",
   "metadata": {},
   "outputs": [],
   "source": [
    "# Single Inheritance :\n",
    "\"\"\"\n",
    "Single Inheritance enables a derived class to inherit properties from a single\n",
    "parent class, thus enabling code reusability and addition of new features to\n",
    "existing code.\n",
    "When a child class inherits properties from only one parent class, it is called\n",
    "Single Inheritance.\n",
    "\"\"\""
   ]
  },
  {
   "cell_type": "code",
   "execution_count": 1,
   "id": "8473ec3b-f574-426e-8547-48fd7e360133",
   "metadata": {},
   "outputs": [
    {
     "name": "stdout",
     "output_type": "stream",
     "text": [
      "this is sai class\n",
      "this is balaji class\n"
     ]
    }
   ],
   "source": [
    "class sai:\n",
    "    def a(self):\n",
    "        print(\"this is sai class\")\n",
    "class balaji(sai):\n",
    "    def b(self):\n",
    "        print(\"this is balaji class\")\n",
    "c=balaji()\n",
    "c.a()\n",
    "c.b()"
   ]
  },
  {
   "cell_type": "code",
   "execution_count": null,
   "id": "fe411a94-b223-4a8f-8c31-99d3291e14a1",
   "metadata": {},
   "outputs": [],
   "source": [
    "# Hierarchical Inheritance :\n",
    "\"\"\"\n",
    "When more than one derived classes are created from a single Base Class, this\n",
    "type of inheritance is called Hierarchical Inheritance. In this Program, we\n",
    "have a parent (base) class and two child (derived) classes.\n",
    "\"\"\""
   ]
  },
  {
   "cell_type": "code",
   "execution_count": 3,
   "id": "c3d50982-eeef-4504-8afe-1a84a588f9f0",
   "metadata": {},
   "outputs": [
    {
     "name": "stdout",
     "output_type": "stream",
     "text": [
      "this is vennelakanti class\n",
      "this is sai class\n",
      "this is vennelakanti class\n",
      "this is balaji class\n"
     ]
    }
   ],
   "source": [
    "class vennelakanti:\n",
    "    def a(self):\n",
    "        print(\"this is vennelakanti class\")\n",
    "class sai(vennelakanti):\n",
    "    def b(self):\n",
    "        print(\"this is sai class\")\n",
    "class balaji(vennelakanti):\n",
    "    def c(self):\n",
    "        print(\"this is balaji class\")\n",
    "d=sai()\n",
    "e=balaji()\n",
    "d.a()\n",
    "d.b()\n",
    "e.a()\n",
    "e.c()"
   ]
  },
  {
   "cell_type": "code",
   "execution_count": null,
   "id": "0c2ef2e6-0665-437c-93b3-0b6158bacab8",
   "metadata": {},
   "outputs": [],
   "source": [
    "# Hybrid Inheritance :\n",
    "\"\"\"\n",
    "Inheritance consisting of multiple types of Inheritance is called Hybrid\n",
    "Inheritance.\n",
    "\"\"\""
   ]
  },
  {
   "cell_type": "code",
   "execution_count": 6,
   "id": "575138d2-7513-450e-9426-d017ad2283ef",
   "metadata": {},
   "outputs": [
    {
     "name": "stdout",
     "output_type": "stream",
     "text": [
      "this is vennelakanti class\n",
      "this is my father class\n",
      "this is my mother class\n",
      "this is my rule\n"
     ]
    }
   ],
   "source": [
    "class vennelakanti:\n",
    "    def a(self):\n",
    "        print(\"this is vennelakanti class\")\n",
    "class srihariprasad(vennelakanti):\n",
    "    def b(self):\n",
    "        print(\"this is my father class\")\n",
    "class swathi(vennelakanti):\n",
    "    def c(self):\n",
    "        print(\"this is my mother class\")\n",
    "class saibalaji(srihariprasad,swathi,vennelakanti):\n",
    "    def d(self):\n",
    "        print(\"this is my rule\")\n",
    "e=saibalaji()\n",
    "e.a()\n",
    "e.b()\n",
    "e.c()\n",
    "e.d()"
   ]
  },
  {
   "cell_type": "code",
   "execution_count": null,
   "id": "35ae7491-b6c1-477b-b586-d9287ce10423",
   "metadata": {},
   "outputs": [],
   "source": [
    "# Multi-level Inheritance :\n",
    "\"\"\"\n",
    "In Multi-level Inheritance, features of the base class and the derived class\n",
    "are further inherited into the new derived class. This is similar to a\n",
    "relationship representing a child and grandfather.\n",
    "\"\"\""
   ]
  },
  {
   "cell_type": "code",
   "execution_count": 30,
   "id": "60e56f2e-004e-4ffb-9784-f2546ee4fa7f",
   "metadata": {
    "scrolled": true
   },
   "outputs": [
    {
     "name": "stdout",
     "output_type": "stream",
     "text": [
      "My Father Name : Sri Hari Prasad\n",
      "My Mother Name : Swathi\n"
     ]
    }
   ],
   "source": [
    "class Father:\n",
    "    father=\"\"\n",
    "    def dad(self):\n",
    "        print(self.father)\n",
    "class Mother(Father):\n",
    "    mother=\"\"\n",
    "    def mom(self):\n",
    "        print(self.mother)\n",
    "class Son(Father):\n",
    "    def me(self):\n",
    "        print(\"My Father Name :\",self.father)\n",
    "        print(\"My Mother Name :\",self.mother)\n",
    "a=Son()\n",
    "a.father='Sri Hari Prasad'\n",
    "a.mother='Swathi'\n",
    "a.me()"
   ]
  },
  {
   "cell_type": "code",
   "execution_count": 31,
   "id": "fad3c8d9-2db2-4786-8620-3d68e459ed43",
   "metadata": {},
   "outputs": [
    {
     "name": "stdout",
     "output_type": "stream",
     "text": [
      "My name: Sai Balaji\n",
      "My Father's name: Sri Hari Prasad\n",
      "My Mother's name: Swathi\n"
     ]
    }
   ],
   "source": [
    "class FamilyMember:\n",
    "    def __init__(self):\n",
    "        self.father = \"\"\n",
    "        self.mother = \"\"\n",
    "\n",
    "class Father(FamilyMember):\n",
    "    def dad(self):\n",
    "        print(self.father)\n",
    "\n",
    "class Mother(FamilyMember):\n",
    "    def mom(self):\n",
    "        print(self.mother)\n",
    "\n",
    "class Son(Father, Mother):\n",
    "    def __init__(self, name):\n",
    "        super().__init__()\n",
    "        self.name = name\n",
    "    \n",
    "    def me(self):\n",
    "        print(\"My name:\", self.name)\n",
    "        print(\"My Father's name:\", self.father)\n",
    "        print(\"My Mother's name:\", self.mother)\n",
    "\n",
    "a = Son('Sai Balaji')\n",
    "a.father = 'Sri Hari Prasad'\n",
    "a.mother = 'Swathi'\n",
    "a.me()"
   ]
  },
  {
   "cell_type": "code",
   "execution_count": null,
   "id": "ccf23580-066c-4f33-93cd-4aa11e4c176b",
   "metadata": {},
   "outputs": [],
   "source": [
    "# Multiple Inheritance :\n",
    "\"\"\"\n",
    "When a child class inherits from multiple parent classes, it is called Multiple\n",
    "Inheritance. Unlike Java and C++, Python supports Multiple Inheritance. We\n",
    "specify all parent classes as a comma-separated list in the bracket.\n",
    "When a class can be derived from more than one base classes this type of\n",
    "inheritance is called Multiple Inheritance. In Multiple Inheritance, all the\n",
    "features of the base classes are inherited into the derived class.\n",
    "\"\"\""
   ]
  },
  {
   "cell_type": "code",
   "execution_count": 33,
   "id": "a4943796-74fc-4dc1-a863-10a8b15cede7",
   "metadata": {},
   "outputs": [
    {
     "name": "stdout",
     "output_type": "stream",
     "text": [
      "my father name : Sri Hari Prasad\n",
      "my mother name : Swathi\n"
     ]
    }
   ],
   "source": [
    "class Father:\n",
    "    father=\"\"\n",
    "    def dad(self):\n",
    "        print(self.father)\n",
    "class Mother:\n",
    "    mother=\"\"\n",
    "    def mom(self):\n",
    "        print(self.mother)\n",
    "class Son(Father,Mother):\n",
    "    def me(self):\n",
    "        print(\"my father name :\",self.father)\n",
    "        print(\"my mother name :\",self.mother)\n",
    "a=Son()\n",
    "a.father='Sri Hari Prasad'\n",
    "a.mother='Swathi'\n",
    "a.me()"
   ]
  }
 ],
 "metadata": {
  "kernelspec": {
   "display_name": "Python 3 (ipykernel)",
   "language": "python",
   "name": "python3"
  },
  "language_info": {
   "codemirror_mode": {
    "name": "ipython",
    "version": 3
   },
   "file_extension": ".py",
   "mimetype": "text/x-python",
   "name": "python",
   "nbconvert_exporter": "python",
   "pygments_lexer": "ipython3",
   "version": "3.8.2"
  }
 },
 "nbformat": 4,
 "nbformat_minor": 5
}
