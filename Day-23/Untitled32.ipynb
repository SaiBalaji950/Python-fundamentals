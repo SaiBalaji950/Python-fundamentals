{
 "cells": [
  {
   "cell_type": "code",
   "execution_count": null,
   "id": "c35ac3fc-7f5f-402a-8b81-4f803ad586c9",
   "metadata": {},
   "outputs": [],
   "source": [
    "For simplicity, we can think of a Python array as a fleet of stairs where on each step is placed a value (let’s say one of your friends). \n",
    "Here, you can identify the location of any of your friends by simply knowing the count of the steps they are on. \n",
    "The array can be handled in Python by a module named array. They can be useful when we have to manipulate only specific data type values. \n",
    "A user can treat lists as arrays. However, the user cannot constrain the type of elements stored in a list. If you create Python arrays \n",
    "using the array module, all elements of the array in Python must be of the same type. \n",
    "Create an Array in Python\n",
    "Array in Python can be created by importing an array module. array(data_type, value_list) is used to \n",
    "create array in Python with data type and value list specified in its arguments. \n",
    "In below code Python create array : one of integers and one of doubles. It then prints the contents of each array to the console."
   ]
  },
  {
   "cell_type": "code",
   "execution_count": 5,
   "id": "423efbe2-2744-40ad-a6e7-5cf5e9a355a7",
   "metadata": {},
   "outputs": [
    {
     "name": "stdout",
     "output_type": "stream",
     "text": [
      "Array of a is : 1 2 3 4 5 \n",
      "Array of b is : 2.3 3.6 1.1 2.5 6.9 \n"
     ]
    },
    {
     "ename": "ValueError",
     "evalue": "bad typecode (must be b, B, u, h, H, i, I, l, L, q, Q, f or d)",
     "output_type": "error",
     "traceback": [
      "\u001b[1;31m---------------------------------------------------------------------------\u001b[0m",
      "\u001b[1;31mValueError\u001b[0m                                Traceback (most recent call last)",
      "Cell \u001b[1;32mIn[5], line 12\u001b[0m\n\u001b[0;32m     10\u001b[0m     \u001b[38;5;28mprint\u001b[39m(b[c],end\u001b[38;5;241m=\u001b[39m\u001b[38;5;124m\"\u001b[39m\u001b[38;5;124m \u001b[39m\u001b[38;5;124m\"\u001b[39m)\n\u001b[0;32m     11\u001b[0m \u001b[38;5;28mprint\u001b[39m()\n\u001b[1;32m---> 12\u001b[0m d\u001b[38;5;241m=\u001b[39m\u001b[43marray\u001b[49m\u001b[38;5;241;43m.\u001b[39;49m\u001b[43marray\u001b[49m\u001b[43m(\u001b[49m\u001b[38;5;124;43m'\u001b[39;49m\u001b[38;5;124;43ms\u001b[39;49m\u001b[38;5;124;43m'\u001b[39;49m\u001b[43m,\u001b[49m\u001b[43m[\u001b[49m\u001b[38;5;124;43m'\u001b[39;49m\u001b[38;5;124;43mbalaji\u001b[39;49m\u001b[38;5;124;43m'\u001b[39;49m\u001b[43m,\u001b[49m\u001b[38;5;124;43m'\u001b[39;49m\u001b[38;5;124;43msai\u001b[39;49m\u001b[38;5;124;43m'\u001b[39;49m\u001b[43m]\u001b[49m\u001b[43m)\u001b[49m\n\u001b[0;32m     13\u001b[0m \u001b[38;5;28mprint\u001b[39m(\u001b[38;5;124m\"\u001b[39m\u001b[38;5;124mArray of c is :\u001b[39m\u001b[38;5;124m\"\u001b[39m,end\u001b[38;5;241m=\u001b[39m\u001b[38;5;124m\"\u001b[39m\u001b[38;5;124m \u001b[39m\u001b[38;5;124m\"\u001b[39m)\n\u001b[0;32m     14\u001b[0m \u001b[38;5;28;01mfor\u001b[39;00m c \u001b[38;5;129;01min\u001b[39;00m \u001b[38;5;28mrange\u001b[39m():\n",
      "\u001b[1;31mValueError\u001b[0m: bad typecode (must be b, B, u, h, H, i, I, l, L, q, Q, f or d)"
     ]
    }
   ],
   "source": [
    "import array\n",
    "a=array.array('i',[1,2,3,4,5])\n",
    "print(\"Array of a is :\",end=\" \")\n",
    "for c in range(0,5):\n",
    "    print(a[c],end=\" \")\n",
    "print()\n",
    "b=array.array('d',[2.3,3.6,1.1,2.5,6.9])\n",
    "print(\"Array of b is :\",end=\" \")\n",
    "for c in range(0,5):\n",
    "    print(b[c],end=\" \")\n",
    "print()\n",
    "d=array.array('s',['balaji','sai'])\n",
    "print(\"Array of c is :\",end=\" \")\n",
    "for c in range():\n",
    "    print(d[c],end=\" \")"
   ]
  },
  {
   "cell_type": "code",
   "execution_count": 6,
   "id": "3e54f33f-7abc-4f51-96d0-06dc5aea8e94",
   "metadata": {},
   "outputs": [
    {
     "name": "stdout",
     "output_type": "stream",
     "text": [
      "Array of a is : 1 2 3 4 5 \n",
      "Array of b is : 2.3 3.6 1.1 2.5 6.9 \n",
      "List of d is : balaji sai \n"
     ]
    }
   ],
   "source": [
    "import array\n",
    "a = array.array('i', [1, 2, 3, 4, 5])\n",
    "print(\"Array of a is :\", end=\" \")\n",
    "for c in range(len(a)):\n",
    "    print(a[c], end=\" \")\n",
    "print()\n",
    "b = array.array('d', [2.3, 3.6, 1.1, 2.5, 6.9])\n",
    "print(\"Array of b is :\", end=\" \")\n",
    "for c in range(len(b)):\n",
    "    print(b[c], end=\" \")\n",
    "print()\n",
    "d = ['balaji', 'sai']\n",
    "print(\"List of d is :\", end=\" \")\n",
    "for c in range(len(d)):\n",
    "    print(d[c], end=\" \")\n",
    "print()"
   ]
  },
  {
   "cell_type": "code",
   "execution_count": null,
   "id": "b97c633d-b383-49e4-a4b9-5271f427a5ad",
   "metadata": {},
   "outputs": [],
   "source": [
    "Adding Elements to a Array\n",
    "Elements can be added to the Python Array by using built-in insert() function. Insert is used to insert one or more data elements into an array. \n",
    "Based on the requirement, a new element can be added at the beginning, end, or any given index of array. \n",
    "append() is also used to add the value mentioned in its arguments at the end of the Python array. "
   ]
  },
  {
   "cell_type": "code",
   "execution_count": 13,
   "id": "e26e175a-51ee-40ec-a4dd-83e6ed121697",
   "metadata": {},
   "outputs": [
    {
     "name": "stdout",
     "output_type": "stream",
     "text": [
      "Before insertion : 1 2 3 4 5 \n",
      "After Insertion : 1 2 3 4 5 6 \n",
      "Before Insertion : 3.6 3.6 3.6 3.6 3.6 \n"
     ]
    },
    {
     "ename": "TypeError",
     "evalue": "integer argument expected, got float",
     "output_type": "error",
     "traceback": [
      "\u001b[1;31m---------------------------------------------------------------------------\u001b[0m",
      "\u001b[1;31mTypeError\u001b[0m                                 Traceback (most recent call last)",
      "Cell \u001b[1;32mIn[13], line 17\u001b[0m\n\u001b[0;32m     15\u001b[0m     \u001b[38;5;28mprint\u001b[39m(b[c], end\u001b[38;5;241m=\u001b[39m\u001b[38;5;124m\"\u001b[39m\u001b[38;5;124m \u001b[39m\u001b[38;5;124m\"\u001b[39m)\n\u001b[0;32m     16\u001b[0m \u001b[38;5;28mprint\u001b[39m()\n\u001b[1;32m---> 17\u001b[0m \u001b[43mb\u001b[49m\u001b[38;5;241;43m.\u001b[39;49m\u001b[43minsert\u001b[49m\u001b[43m(\u001b[49m\u001b[38;5;241;43m2.5\u001b[39;49m\u001b[43m,\u001b[49m\u001b[38;5;241;43m5.3\u001b[39;49m\u001b[43m)\u001b[49m\n\u001b[0;32m     18\u001b[0m \u001b[38;5;28mprint\u001b[39m(\u001b[38;5;124m\"\u001b[39m\u001b[38;5;124mAfter Insertion :\u001b[39m\u001b[38;5;124m\"\u001b[39m,end\u001b[38;5;241m=\u001b[39m\u001b[38;5;124m\"\u001b[39m\u001b[38;5;124m \u001b[39m\u001b[38;5;124m\"\u001b[39m)\n\u001b[0;32m     19\u001b[0m \u001b[38;5;28;01mfor\u001b[39;00m i \u001b[38;5;129;01min\u001b[39;00m b:\n",
      "\u001b[1;31mTypeError\u001b[0m: integer argument expected, got float"
     ]
    }
   ],
   "source": [
    "import array\n",
    "a=array.array('i',[1,2,3,4,5])\n",
    "print(\"Before insertion :\",end=\" \")\n",
    "for i in range(0,5):\n",
    "    print(a[i],end=\" \")\n",
    "print()\n",
    "a.insert(5,6)\n",
    "print(\"After Insertion :\",end=\" \")\n",
    "for i in a:\n",
    "    print(i,end=\" \")\n",
    "print()\n",
    "b = array.array('d', [2.3, 3.6, 1.1, 2.5, 6.9])\n",
    "print(\"Before Insertion :\", end=\" \")\n",
    "for i in range(len(b)):\n",
    "    print(b[c], end=\" \")\n",
    "print()\n",
    "b.insert(2.5,5.3)\n",
    "print(\"After Insertion :\",end=\" \")\n",
    "for i in b:\n",
    "    print(i,end=\" \")\n",
    "print()"
   ]
  },
  {
   "cell_type": "code",
   "execution_count": 10,
   "id": "79d0dc03-28b6-4eb9-9cf9-95578370fdab",
   "metadata": {},
   "outputs": [
    {
     "name": "stdout",
     "output_type": "stream",
     "text": [
      "Before insertion : 1 2 3 4 5 \n",
      "After Insertion : 1 2 3 4 5 6 \n"
     ]
    }
   ],
   "source": [
    "import array\n",
    "a=array.array('i',[1,2,3,4,5])\n",
    "print(\"Before insertion :\",end=\" \")\n",
    "for i in range(0,5):\n",
    "    print(a[i],end=\" \")\n",
    "print()\n",
    "a.append(6)\n",
    "print(\"After Insertion :\",end=\" \")\n",
    "for i in a:\n",
    "    print(i,end=\" \")\n",
    "print()"
   ]
  },
  {
   "cell_type": "code",
   "execution_count": 15,
   "id": "d648f732-c35b-4071-ba57-89d749ae73b5",
   "metadata": {},
   "outputs": [
    {
     "name": "stdout",
     "output_type": "stream",
     "text": [
      "Before insertion : 1 2 3 4 5 \n",
      "After Insertion : 1 2 3 4 5 6 \n",
      "Before Insertion : 3.6 3.6 3.6 3.6 3.6 \n",
      "After Insertion : 2.3 3.6 1.1 2.5 5.3 6.9 \n"
     ]
    }
   ],
   "source": [
    "import array\n",
    "a=array.array('i',[1,2,3,4,5])\n",
    "print(\"Before insertion :\",end=\" \")\n",
    "for i in range(0,5):\n",
    "    print(a[i],end=\" \")\n",
    "print()\n",
    "a.insert(5,6)\n",
    "print(\"After Insertion :\",end=\" \")\n",
    "for i in a:\n",
    "    print(i,end=\" \")\n",
    "print()\n",
    "b = array.array('d', [2.3, 3.6, 1.1, 2.5, 6.9])\n",
    "print(\"Before Insertion :\", end=\" \")\n",
    "for i in range(len(b)):\n",
    "    print(b[c], end=\" \")\n",
    "print()\n",
    "b.insert(4,5.3)\n",
    "print(\"After Insertion :\",end=\" \")\n",
    "for i in b:\n",
    "    print(i,end=\" \")\n",
    "print()"
   ]
  },
  {
   "cell_type": "code",
   "execution_count": 16,
   "id": "6ba734ab-bf88-434f-8860-309afa44ac6c",
   "metadata": {},
   "outputs": [
    {
     "name": "stdout",
     "output_type": "stream",
     "text": [
      "Before insertion : 1 2 3 4 5 \n",
      "After Insertion : 1 2 3 4 5 6 \n",
      "Before Insertion : 3.6 3.6 3.6 3.6 3.6 \n",
      "After Insertion : 2.3 3.6 1.1 2.5 6.9 5.3 \n"
     ]
    }
   ],
   "source": [
    "import array\n",
    "a=array.array('i',[1,2,3,4,5])\n",
    "print(\"Before insertion :\",end=\" \")\n",
    "for i in range(0,5):\n",
    "    print(a[i],end=\" \")\n",
    "print()\n",
    "a.insert(5,6)\n",
    "print(\"After Insertion :\",end=\" \")\n",
    "for i in a:\n",
    "    print(i,end=\" \")\n",
    "print()\n",
    "b = array.array('d', [2.3, 3.6, 1.1, 2.5, 6.9])\n",
    "print(\"Before Insertion :\", end=\" \")\n",
    "for i in range(len(b)):\n",
    "    print(b[c], end=\" \")\n",
    "print()\n",
    "b.append(5.3)\n",
    "print(\"After Insertion :\",end=\" \")\n",
    "for i in b:\n",
    "    print(i,end=\" \")\n",
    "print()"
   ]
  },
  {
   "cell_type": "code",
   "execution_count": null,
   "id": "b499baeb-ddc1-4f27-b231-5942d9a53c29",
   "metadata": {},
   "outputs": [],
   "source": [
    "complexities for Adding elements to the Arrays\n",
    "Time Complexity: O(1)/O(n) \n",
    "( O(1) – for inserting elements at the end of the array, O(n) – for inserting elements at the beginning of the array and to the full array\n",
    "Auxiliary Space: O(1)\n",
    "\n",
    "Accessing Elements from the Array\n",
    "In order to access the array items refer to the index number. \n",
    "Use the index operator [ ] to access an item in a array in Python. The index must be an integer. "
   ]
  },
  {
   "cell_type": "code",
   "execution_count": 17,
   "id": "2268d913-5c74-4dad-8f8f-90d4170f31d6",
   "metadata": {},
   "outputs": [
    {
     "name": "stdout",
     "output_type": "stream",
     "text": [
      "Accessing Elements : 1\n",
      "Accessing Elements : 2\n",
      "Accessing Elements : 5\n",
      "Accessing Elements : 2.3\n",
      "Accessing Elements : 6.9\n"
     ]
    }
   ],
   "source": [
    "import array\n",
    "a=array.array('i',[1,2,3,4,5])\n",
    "print(\"Accessing Elements :\",a[0])\n",
    "print(\"Accessing Elements :\",a[1])\n",
    "print(\"Accessing Elements :\",a[4])\n",
    "b = array.array('d', [2.3, 3.6, 1.1, 2.5, 6.9])\n",
    "print(\"Accessing Elements :\",b[0])\n",
    "print(\"Accessing Elements :\",b[4])"
   ]
  },
  {
   "cell_type": "code",
   "execution_count": null,
   "id": "1697a7db-b19d-4d7a-9ba5-349ab8c09ec0",
   "metadata": {},
   "outputs": [],
   "source": [
    "Removing Elements from the Array\n",
    "Elements can be removed from the Python array by using built-in remove() function but an Error arises if element doesn’t exist in the set. \n",
    "Remove() method only removes one element at a time, to remove range of elements, iterator is used. pop() function can also be used to remove \n",
    "and return an element from the array, but by default it removes only the last element of the array, \n",
    "to remove element from a specific position of the array, index of the element is passed as an argument to the pop() method."
   ]
  },
  {
   "cell_type": "code",
   "execution_count": 18,
   "id": "388029b8-a210-4829-8016-49f20ff436d9",
   "metadata": {},
   "outputs": [
    {
     "name": "stdout",
     "output_type": "stream",
     "text": [
      "array of a is : 1 2 3 4 5 \n",
      "pop element is : 4\n",
      "after Popping the element is : 1 2 3 5 \n",
      "Removed Element is : 1 3 5 \n"
     ]
    }
   ],
   "source": [
    "import array\n",
    "a=array.array('i',[1,2,3,4,5])\n",
    "print(\"array of a is :\",end=\" \")\n",
    "for i in range(0,5):\n",
    "    print(a[i],end=\" \")\n",
    "print()\n",
    "print(\"pop element is :\",end=\" \")\n",
    "print(a.pop(3))\n",
    "print(\"after Popping the element is :\",end=\" \")\n",
    "for i in range(0,4):\n",
    "    print(a[i],end=\" \")\n",
    "print()\n",
    "a.remove(2)\n",
    "print(\"Removed Element is :\",end=\" \")\n",
    "for i in range(0,3):\n",
    "    print(a[i],end=\" \")\n",
    "print()"
   ]
  },
  {
   "cell_type": "code",
   "execution_count": null,
   "id": "77fd0c89-b060-48b5-8a29-a01ef68bc069",
   "metadata": {},
   "outputs": [],
   "source": [
    "Slicing of an Array\n",
    "In Python array, there are multiple ways to print the whole array with all the elements, \n",
    "but to print a specific range of elements from the array, we use Slice operation. Slice operation is performed on array with the use of colon(:).\n",
    "To print elements from beginning to a range use [:Index], to print elements from end use [:-Index],\n",
    "to print elements from specific Index till the end use [Index:], to print elements within a range, use [Start Index:End Index] \n",
    "and to print whole List with the use of slicing operation, use [:]. Further, to print whole array in reverse order, use [::-1]. "
   ]
  },
  {
   "cell_type": "code",
   "execution_count": 23,
   "id": "ec2402a0-a869-41f8-b06b-070b6708c00a",
   "metadata": {},
   "outputs": [
    {
     "name": "stdout",
     "output_type": "stream",
     "text": [
      "Initial Array :\n",
      "1 2 3 4 5 6 7 8 9 10 \n",
      "slicing one by one\n",
      "array('i', [1, 2, 3, 4, 5, 6, 7, 8, 9, 10])\n",
      "array('i', [1, 2, 3, 4, 5, 6, 7, 8, 9])\n",
      "array('i', [6, 7, 8, 9, 10])\n"
     ]
    }
   ],
   "source": [
    "import array\n",
    "a=[1,2,3,4,5,6,7,8,9,10]\n",
    "b=array.array('i',a)\n",
    "print(\"Initial Array :\")\n",
    "for i in (a):\n",
    "    print(i,end=\" \")\n",
    "print(\"\\nslicing one by one\")\n",
    "c=b[0:]\n",
    "print(c)\n",
    "c=b[0:9]\n",
    "print(c)\n",
    "c=b[5:]\n",
    "print(c)"
   ]
  },
  {
   "cell_type": "code",
   "execution_count": null,
   "id": "323812bd-b3eb-46c5-950c-34c9aac52619",
   "metadata": {},
   "outputs": [],
   "source": [
    "Searching Element in an Array\n",
    "In order to search an element in the array we use a python in-built index() method. \n",
    "This function returns the index of the first occurrence of value mentioned in arguments. "
   ]
  },
  {
   "cell_type": "code",
   "execution_count": 29,
   "id": "7cd42fd4-2711-49c3-97b0-775273a5fb3e",
   "metadata": {},
   "outputs": [
    {
     "name": "stdout",
     "output_type": "stream",
     "text": [
      "Before Searching the Element we have :\n",
      " 1 3 2 5 4 50 \n",
      "After Searching Element is\n",
      "3\n",
      "1\n",
      "5\n"
     ]
    }
   ],
   "source": [
    "import array\n",
    "a=array.array('i',[1,3,2,5,4,50])\n",
    "print(\"Before Searching the Element we have :\\n\",end=\" \")\n",
    "for i in range(0,6):\n",
    "    print(a[i],end=\" \")\n",
    "print()\n",
    "print(\"After Searching Element is\")\n",
    "print(a.index(5))\n",
    "print(a.index(3))\n",
    "print(a.index(50))"
   ]
  },
  {
   "cell_type": "code",
   "execution_count": null,
   "id": "32773216-9d51-462d-a2dc-b61869cb7a4d",
   "metadata": {},
   "outputs": [],
   "source": [
    "Updating Elements in a Array\n",
    "In order to update an element in the array we simply reassign a new value to the desired index we want to update. "
   ]
  },
  {
   "cell_type": "code",
   "execution_count": 30,
   "id": "1920cb28-5ee9-49aa-b497-bdceda1ea532",
   "metadata": {},
   "outputs": [
    {
     "name": "stdout",
     "output_type": "stream",
     "text": [
      "Before Updating the Element : 1 3 2 5 4 50 \n",
      "After Updating the element : 1  3  3  5  4  50  \n",
      "After Updating the element : 1 2 3 5 4 50 \n"
     ]
    }
   ],
   "source": [
    "import array\n",
    "a=array.array('i',[1,3,2,5,4,50])\n",
    "print(\"Before Updating the Element :\",end=\" \")\n",
    "for i in range(0,6):\n",
    "    print(a[i],end=\" \")\n",
    "print()\n",
    "a[2]=3\n",
    "print(\"After Updating the element :\",end=\" \")\n",
    "for i in range(0,6):\n",
    "    print(a[i],end=\"  \")\n",
    "print()\n",
    "a[1]=2\n",
    "print(\"After Updating the element :\",end= \" \")\n",
    "for i in range(0,6):\n",
    "    print(a[i],end=\" \")\n",
    "print()"
   ]
  },
  {
   "cell_type": "code",
   "execution_count": null,
   "id": "480f22a3-7e8d-4a1e-bd4f-ef9834208050",
   "metadata": {},
   "outputs": [],
   "source": [
    "Counting Elements in a Array\n",
    "In order to count elements in an array we need to use count method."
   ]
  },
  {
   "cell_type": "code",
   "execution_count": 33,
   "id": "12ca2cfd-7a04-41cd-98f7-ef5168ec2ac0",
   "metadata": {},
   "outputs": [
    {
     "name": "stdout",
     "output_type": "stream",
     "text": [
      "No of 50's are : 2\n",
      "No of 2's are : 3\n"
     ]
    }
   ],
   "source": [
    "import array\n",
    "a=array.array('i',[1,3,2,5,4,50,60,50,2,3,2])\n",
    "b=a.count(50)\n",
    "print(\"No of 50's are :\",b)\n",
    "b=a.count(2)\n",
    "print(\"No of 2's are :\",b)"
   ]
  },
  {
   "cell_type": "code",
   "execution_count": null,
   "id": "fbe29a90-75da-475b-89a6-42122468d6d2",
   "metadata": {},
   "outputs": [],
   "source": [
    "Reversing Elements in a Array\n",
    "In order to reverse elements of an array we need to simply use reverse method."
   ]
  },
  {
   "cell_type": "code",
   "execution_count": 35,
   "id": "f9d94cba-0c2f-4578-b711-a0de03745f4a",
   "metadata": {},
   "outputs": [
    {
     "name": "stdout",
     "output_type": "stream",
     "text": [
      "given element is : array('i', [1, 2, 3, 4, 5])\n",
      "reverse element is : array('i', [5, 4, 3, 2, 1])\n"
     ]
    }
   ],
   "source": [
    "import array\n",
    "a=array.array('i',[1,2,3,4,5])\n",
    "print(\"given element is :\",a)\n",
    "a.reverse()\n",
    "print(\"reverse element is :\",a)"
   ]
  },
  {
   "cell_type": "code",
   "execution_count": 36,
   "id": "0d0e5669-6d8a-407c-af76-97f010e32543",
   "metadata": {},
   "outputs": [
    {
     "name": "stdout",
     "output_type": "stream",
     "text": [
      "given element is : 1 2 3 4 5\n",
      "reverse element is : 5 4 3 2 1\n"
     ]
    }
   ],
   "source": [
    "import array\n",
    "a=array.array('i',[1,2,3,4,5])\n",
    "print(\"given element is :\",*a)\n",
    "a.reverse()\n",
    "print(\"reverse element is :\",*a)"
   ]
  },
  {
   "cell_type": "code",
   "execution_count": null,
   "id": "50bc17e1-3430-48e8-bb50-3b4e3bb008c6",
   "metadata": {},
   "outputs": [],
   "source": [
    "Syntax of list extend()\n",
    "The syntax of the extend() method:\n",
    "\n",
    "list.extend(iterable)"
   ]
  },
  {
   "cell_type": "code",
   "execution_count": 37,
   "id": "4c20649b-d9d0-4a18-aa54-7d40455eaed7",
   "metadata": {},
   "outputs": [
    {
     "name": "stdout",
     "output_type": "stream",
     "text": [
      "given element is : array('i', [1, 2, 3, 4, 5])\n",
      "1 2 3 4 5 \n",
      "The extended version is : array('i', [1, 2, 3, 4, 5, 6, 7, 8, 9, 10])\n",
      "1 2 3 4 5 6 7 8 9 10 \n"
     ]
    }
   ],
   "source": [
    "import array\n",
    "a=array.array('i',[1,2,3,4,5])\n",
    "print(\"given element is :\",a)\n",
    "for i in range(0,5):\n",
    "    print(a[i],end=\" \")\n",
    "print()\n",
    "a.extend([6,7,8,9,10])\n",
    "print(\"The extended version is :\",a)\n",
    "for i in range(0,10):\n",
    "    print(a[i],end=\" \")\n",
    "print()"
   ]
  },
  {
   "cell_type": "code",
   "execution_count": 38,
   "id": "507614ba-afaf-42dc-aea5-41298176ee85",
   "metadata": {},
   "outputs": [
    {
     "name": "stdout",
     "output_type": "stream",
     "text": [
      "given element is : 1 2 3 4 5\n",
      "1 2 3 4 5 \n",
      "The extended version is : 1 2 3 4 5 6 7 8 9 10\n",
      "1 2 3 4 5 6 7 8 9 10 \n"
     ]
    }
   ],
   "source": [
    "import array\n",
    "a=array.array('i',[1,2,3,4,5])\n",
    "print(\"given element is :\",*a)\n",
    "for i in range(0,5):\n",
    "    print(a[i],end=\" \")\n",
    "print()\n",
    "a.extend([6,7,8,9,10])\n",
    "print(\"The extended version is :\",*a)\n",
    "for i in range(0,10):\n",
    "    print(a[i],end=\" \")\n",
    "print()"
   ]
  },
  {
   "cell_type": "code",
   "execution_count": 39,
   "id": "9185136b-e6da-4f6c-bd13-962d9a971e19",
   "metadata": {},
   "outputs": [
    {
     "name": "stdout",
     "output_type": "stream",
     "text": [
      "given element is :\n",
      "1 2 3 4 5 \n",
      "The extended version is :\n",
      "1 2 3 4 5 6 7 8 9 10 \n"
     ]
    }
   ],
   "source": [
    "import array\n",
    "a=array.array('i',[1,2,3,4,5])\n",
    "print(\"given element is :\")\n",
    "for i in range(0,5):\n",
    "    print(a[i],end=\" \")\n",
    "print()\n",
    "a.extend([6,7,8,9,10])\n",
    "print(\"The extended version is :\")\n",
    "for i in range(0,10):\n",
    "    print(a[i],end=\" \")\n",
    "print()"
   ]
  }
 ],
 "metadata": {
  "kernelspec": {
   "display_name": "Python 3 (ipykernel)",
   "language": "python",
   "name": "python3"
  },
  "language_info": {
   "codemirror_mode": {
    "name": "ipython",
    "version": 3
   },
   "file_extension": ".py",
   "mimetype": "text/x-python",
   "name": "python",
   "nbconvert_exporter": "python",
   "pygments_lexer": "ipython3",
   "version": "3.8.2"
  }
 },
 "nbformat": 4,
 "nbformat_minor": 5
}
