{
 "cells": [
  {
   "cell_type": "code",
   "execution_count": null,
   "id": "83391c0f-352e-42d2-8858-b1b2710ebcaa",
   "metadata": {},
   "outputs": [],
   "source": [
    "# Python Calendar Module\n",
    "\"\"\"\n",
    "Python Calendar Module allows us to output calendars like the program and\n",
    "provides additional useful functions related to the calendar.\n",
    "\"\"\"\n",
    "\n",
    "# To display the Python Calendar of a given Month"
   ]
  },
  {
   "cell_type": "code",
   "execution_count": 3,
   "id": "cf5fb8e5-6caf-48a5-af6e-f3ec6d4b7818",
   "metadata": {},
   "outputs": [
    {
     "name": "stdout",
     "output_type": "stream",
     "text": [
      "   December 2024\n",
      "Mo Tu We Th Fr Sa Su\n",
      "                   1\n",
      " 2  3  4  5  6  7  8\n",
      " 9 10 11 12 13 14 15\n",
      "16 17 18 19 20 21 22\n",
      "23 24 25 26 27 28 29\n",
      "30 31\n",
      "\n"
     ]
    }
   ],
   "source": [
    "import calendar\n",
    "yy=2024\n",
    "mm=12\n",
    "print(calendar.month(yy,mm))"
   ]
  },
  {
   "cell_type": "code",
   "execution_count": 4,
   "id": "254304a7-af18-4bbe-97b1-ee0cc98e047c",
   "metadata": {},
   "outputs": [
    {
     "name": "stdout",
     "output_type": "stream",
     "text": [
      "Present Year is 2024:\n",
      "                                  2024\n",
      "\n",
      "      January                   February                   March\n",
      "Mo Tu We Th Fr Sa Su      Mo Tu We Th Fr Sa Su      Mo Tu We Th Fr Sa Su\n",
      " 1  2  3  4  5  6  7                1  2  3  4                   1  2  3\n",
      " 8  9 10 11 12 13 14       5  6  7  8  9 10 11       4  5  6  7  8  9 10\n",
      "15 16 17 18 19 20 21      12 13 14 15 16 17 18      11 12 13 14 15 16 17\n",
      "22 23 24 25 26 27 28      19 20 21 22 23 24 25      18 19 20 21 22 23 24\n",
      "29 30 31                  26 27 28 29               25 26 27 28 29 30 31\n",
      "\n",
      "       April                      May                       June\n",
      "Mo Tu We Th Fr Sa Su      Mo Tu We Th Fr Sa Su      Mo Tu We Th Fr Sa Su\n",
      " 1  2  3  4  5  6  7             1  2  3  4  5                      1  2\n",
      " 8  9 10 11 12 13 14       6  7  8  9 10 11 12       3  4  5  6  7  8  9\n",
      "15 16 17 18 19 20 21      13 14 15 16 17 18 19      10 11 12 13 14 15 16\n",
      "22 23 24 25 26 27 28      20 21 22 23 24 25 26      17 18 19 20 21 22 23\n",
      "29 30                     27 28 29 30 31            24 25 26 27 28 29 30\n",
      "\n",
      "        July                     August                  September\n",
      "Mo Tu We Th Fr Sa Su      Mo Tu We Th Fr Sa Su      Mo Tu We Th Fr Sa Su\n",
      " 1  2  3  4  5  6  7                1  2  3  4                         1\n",
      " 8  9 10 11 12 13 14       5  6  7  8  9 10 11       2  3  4  5  6  7  8\n",
      "15 16 17 18 19 20 21      12 13 14 15 16 17 18       9 10 11 12 13 14 15\n",
      "22 23 24 25 26 27 28      19 20 21 22 23 24 25      16 17 18 19 20 21 22\n",
      "29 30 31                  26 27 28 29 30 31         23 24 25 26 27 28 29\n",
      "                                                    30\n",
      "\n",
      "      October                   November                  December\n",
      "Mo Tu We Th Fr Sa Su      Mo Tu We Th Fr Sa Su      Mo Tu We Th Fr Sa Su\n",
      "    1  2  3  4  5  6                   1  2  3                         1\n",
      " 7  8  9 10 11 12 13       4  5  6  7  8  9 10       2  3  4  5  6  7  8\n",
      "14 15 16 17 18 19 20      11 12 13 14 15 16 17       9 10 11 12 13 14 15\n",
      "21 22 23 24 25 26 27      18 19 20 21 22 23 24      16 17 18 19 20 21 22\n",
      "28 29 30 31               25 26 27 28 29 30         23 24 25 26 27 28 29\n",
      "                                                    30 31\n",
      "\n"
     ]
    }
   ],
   "source": [
    "import calendar\n",
    "print(\"Present Year is 2024:\")\n",
    "print(calendar.calendar(2024))"
   ]
  },
  {
   "cell_type": "code",
   "execution_count": null,
   "id": "23dc3937-277d-4a2b-9b3c-46b01318046b",
   "metadata": {},
   "outputs": [],
   "source": [
    "# class calendar.Calendar :\n",
    "\"\"\"\n",
    "class calendar.Calendar methods are used for preparing the calendar data for\n",
    "formatting.\n",
    "\"\"\"\n",
    "\n",
    "# 1. iterweekdays() - Iterator for weekday numbers used in a week.\n",
    "# 5. itermonthdays3() - Iterator with tuples year, month, day, weekday number.\n",
    "# 6. itermonthdays4() - Similar to itermonthdays3(), restricted to a datetime\n",
    "#                       date range."
   ]
  },
  {
   "cell_type": "code",
   "execution_count": 9,
   "id": "d98e156f-330b-4ba7-8f52-eeebdd84eae3",
   "metadata": {},
   "outputs": [
    {
     "name": "stdout",
     "output_type": "stream",
     "text": [
      "1\n",
      "2\n",
      "3\n",
      "4\n",
      "5\n",
      "6\n",
      "0\n"
     ]
    }
   ],
   "source": [
    "import calendar\n",
    "a=calendar.Calendar(firstweekday=1)\n",
    "for b in a.iterweekdays():\n",
    "    print(b)"
   ]
  },
  {
   "cell_type": "code",
   "execution_count": 7,
   "id": "5155d0d1-fd3e-4109-a5da-48f729159967",
   "metadata": {},
   "outputs": [
    {
     "name": "stdout",
     "output_type": "stream",
     "text": [
      "0\n",
      "1\n",
      "2\n",
      "3\n",
      "4\n",
      "5\n",
      "6\n"
     ]
    }
   ],
   "source": [
    "import calendar\n",
    "\n",
    "obj = calendar.Calendar(firstweekday=0)     # 0 - starting weekday number\n",
    "\n",
    "for day in obj.iterweekdays():\n",
    "    print(day)"
   ]
  },
  {
   "cell_type": "code",
   "execution_count": 17,
   "id": "3b012c15-b639-4b19-ba6b-b8b53b4ab280",
   "metadata": {},
   "outputs": [
    {
     "name": "stdout",
     "output_type": "stream",
     "text": [
      "2024-11-29\n",
      "2024-11-30\n",
      "2024-12-01\n",
      "2024-12-02\n",
      "2024-12-03\n",
      "2024-12-04\n",
      "2024-12-05\n",
      "2024-12-06\n",
      "2024-12-07\n",
      "2024-12-08\n",
      "2024-12-09\n",
      "2024-12-10\n",
      "2024-12-11\n",
      "2024-12-12\n",
      "2024-12-13\n",
      "2024-12-14\n",
      "2024-12-15\n",
      "2024-12-16\n",
      "2024-12-17\n",
      "2024-12-18\n",
      "2024-12-19\n",
      "2024-12-20\n",
      "2024-12-21\n",
      "2024-12-22\n",
      "2024-12-23\n",
      "2024-12-24\n",
      "2024-12-25\n",
      "2024-12-26\n",
      "2024-12-27\n",
      "2024-12-28\n",
      "2024-12-29\n",
      "2024-12-30\n",
      "2024-12-31\n",
      "2025-01-01\n",
      "2025-01-02\n"
     ]
    }
   ],
   "source": [
    "from calendar import Calendar\n",
    "a=Calendar(firstweekday=4)\n",
    "for b in a.itermonthdates(2024,12):\n",
    "    print(b)"
   ]
  },
  {
   "cell_type": "code",
   "execution_count": 21,
   "id": "17d46e21-9813-45e3-8d68-7dbd26d11252",
   "metadata": {},
   "outputs": [
    {
     "name": "stdout",
     "output_type": "stream",
     "text": [
      "0 0 0 0 0 0 1 2 3 4 5 6 7 8 9 10 11 12 13 14 15 16 17 18 19 20 21 22 23 24 25 26 27 28 29 30 31 0 0 0 0 0 "
     ]
    }
   ],
   "source": [
    "from calendar import Calendar\n",
    "a=Calendar()\n",
    "for b in a.itermonthdays(2024,12):\n",
    "    print(b,end=\" \")"
   ]
  },
  {
   "cell_type": "code",
   "execution_count": 22,
   "id": "ccd6a59b-23f0-4740-b6b0-8ba0fad5f6ed",
   "metadata": {},
   "outputs": [
    {
     "name": "stdout",
     "output_type": "stream",
     "text": [
      "(0, 4) (0, 5) (1, 6) (2, 0) (3, 1) (4, 2) (5, 3) (6, 4) (7, 5) (8, 6) (9, 0) (10, 1) (11, 2) (12, 3) (13, 4) (14, 5) (15, 6) (16, 0) (17, 1) (18, 2) (19, 3) (20, 4) (21, 5) (22, 6) (23, 0) (24, 1) (25, 2) (26, 3) (27, 4) (28, 5) (29, 6) (30, 0) (31, 1) (0, 2) (0, 3) "
     ]
    }
   ],
   "source": [
    "from calendar import Calendar\n",
    "a=Calendar(firstweekday=4)\n",
    "for b in a.itermonthdays2(2024,12):\n",
    "    print(b,end=\" \")"
   ]
  },
  {
   "cell_type": "code",
   "execution_count": 23,
   "id": "6de5b790-69f0-49b9-9d67-ed76a3784e37",
   "metadata": {},
   "outputs": [
    {
     "name": "stdout",
     "output_type": "stream",
     "text": [
      "(2024, 11, 29) (2024, 11, 30) (2024, 12, 1) (2024, 12, 2) (2024, 12, 3) (2024, 12, 4) (2024, 12, 5) (2024, 12, 6) (2024, 12, 7) (2024, 12, 8) (2024, 12, 9) (2024, 12, 10) (2024, 12, 11) (2024, 12, 12) (2024, 12, 13) (2024, 12, 14) (2024, 12, 15) (2024, 12, 16) (2024, 12, 17) (2024, 12, 18) (2024, 12, 19) (2024, 12, 20) (2024, 12, 21) (2024, 12, 22) (2024, 12, 23) (2024, 12, 24) (2024, 12, 25) (2024, 12, 26) (2024, 12, 27) (2024, 12, 28) (2024, 12, 29) (2024, 12, 30) (2024, 12, 31) (2025, 1, 1) (2025, 1, 2) "
     ]
    }
   ],
   "source": [
    "from calendar import Calendar\n",
    "a=Calendar(firstweekday=4)\n",
    "for b in a.itermonthdays3(2024,12):\n",
    "    print(b,end=\" \")"
   ]
  },
  {
   "cell_type": "code",
   "execution_count": 24,
   "id": "f77a7f90-d9c4-4b3c-a50a-9944c596106e",
   "metadata": {},
   "outputs": [
    {
     "name": "stdout",
     "output_type": "stream",
     "text": [
      "(2024, 11, 29, 4) (2024, 11, 30, 5) (2024, 12, 1, 6) (2024, 12, 2, 0) (2024, 12, 3, 1) (2024, 12, 4, 2) (2024, 12, 5, 3) (2024, 12, 6, 4) (2024, 12, 7, 5) (2024, 12, 8, 6) (2024, 12, 9, 0) (2024, 12, 10, 1) (2024, 12, 11, 2) (2024, 12, 12, 3) (2024, 12, 13, 4) (2024, 12, 14, 5) (2024, 12, 15, 6) (2024, 12, 16, 0) (2024, 12, 17, 1) (2024, 12, 18, 2) (2024, 12, 19, 3) (2024, 12, 20, 4) (2024, 12, 21, 5) (2024, 12, 22, 6) (2024, 12, 23, 0) (2024, 12, 24, 1) (2024, 12, 25, 2) (2024, 12, 26, 3) (2024, 12, 27, 4) (2024, 12, 28, 5) (2024, 12, 29, 6) (2024, 12, 30, 0) (2024, 12, 31, 1) (2025, 1, 1, 2) (2025, 1, 2, 3) "
     ]
    }
   ],
   "source": [
    "from calendar import Calendar\n",
    "a=Calendar(firstweekday=4)\n",
    "for b in a.itermonthdays4(2024,12):\n",
    "    print(b,end=\" \")"
   ]
  },
  {
   "cell_type": "code",
   "execution_count": 25,
   "id": "d63aacf1-a867-4848-8c98-641c3035a98e",
   "metadata": {},
   "outputs": [
    {
     "name": "stdout",
     "output_type": "stream",
     "text": [
      "[[datetime.date(2024, 11, 29), datetime.date(2024, 11, 30), datetime.date(2024, 12, 1), datetime.date(2024, 12, 2), datetime.date(2024, 12, 3), datetime.date(2024, 12, 4), datetime.date(2024, 12, 5)], [datetime.date(2024, 12, 6), datetime.date(2024, 12, 7), datetime.date(2024, 12, 8), datetime.date(2024, 12, 9), datetime.date(2024, 12, 10), datetime.date(2024, 12, 11), datetime.date(2024, 12, 12)], [datetime.date(2024, 12, 13), datetime.date(2024, 12, 14), datetime.date(2024, 12, 15), datetime.date(2024, 12, 16), datetime.date(2024, 12, 17), datetime.date(2024, 12, 18), datetime.date(2024, 12, 19)], [datetime.date(2024, 12, 20), datetime.date(2024, 12, 21), datetime.date(2024, 12, 22), datetime.date(2024, 12, 23), datetime.date(2024, 12, 24), datetime.date(2024, 12, 25), datetime.date(2024, 12, 26)], [datetime.date(2024, 12, 27), datetime.date(2024, 12, 28), datetime.date(2024, 12, 29), datetime.date(2024, 12, 30), datetime.date(2024, 12, 31), datetime.date(2025, 1, 1), datetime.date(2025, 1, 2)]]\n"
     ]
    }
   ],
   "source": [
    "# 7. monthdatescalendar() - List of weeks in a specified month.\n",
    "from calendar import Calendar\n",
    "a=Calendar(firstweekday=4)\n",
    "print(a.monthdatescalendar(2024,12))"
   ]
  },
  {
   "cell_type": "code",
   "execution_count": 26,
   "id": "2c1fad01-ca6e-4cec-a277-b8cfd995ce3d",
   "metadata": {},
   "outputs": [
    {
     "name": "stdout",
     "output_type": "stream",
     "text": [
      "[[0, 0, 1, 2, 3, 4, 5], [6, 7, 8, 9, 10, 11, 12], [13, 14, 15, 16, 17, 18, 19], [20, 21, 22, 23, 24, 25, 26], [27, 28, 29, 30, 31, 0, 0]]\n"
     ]
    }
   ],
   "source": [
    "# 8. monthdayscalendar() - List of weeks in a month.\n",
    "from calendar import Calendar\n",
    "a=Calendar(firstweekday=4)\n",
    "print(a.monthdayscalendar(2024,12))"
   ]
  },
  {
   "cell_type": "code",
   "execution_count": 27,
   "id": "84833dfc-1dec-40c6-a254-1860711ac463",
   "metadata": {},
   "outputs": [
    {
     "name": "stdout",
     "output_type": "stream",
     "text": [
      "[[(0, 4), (0, 5), (1, 6), (2, 0), (3, 1), (4, 2), (5, 3)], [(6, 4), (7, 5), (8, 6), (9, 0), (10, 1), (11, 2), (12, 3)], [(13, 4), (14, 5), (15, 6), (16, 0), (17, 1), (18, 2), (19, 3)], [(20, 4), (21, 5), (22, 6), (23, 0), (24, 1), (25, 2), (26, 3)], [(27, 4), (28, 5), (29, 6), (30, 0), (31, 1), (0, 2), (0, 3)]]\n"
     ]
    }
   ],
   "source": [
    "# 9. monthdays2calendar() - List of weeks with full weeks in a specific month.\n",
    "from calendar import Calendar\n",
    "a=Calendar(firstweekday=4)\n",
    "print(a.monthdays2calendar(2024,12))"
   ]
  },
  {
   "cell_type": "code",
   "execution_count": 30,
   "id": "398cba30-2a3b-4a80-89af-c496a640ef29",
   "metadata": {},
   "outputs": [
    {
     "name": "stdout",
     "output_type": "stream",
     "text": [
      "[[[[datetime.date(2024, 1, 1), datetime.date(2024, 1, 2), datetime.date(2024, 1, 3), datetime.date(2024, 1, 4), datetime.date(2024, 1, 5), datetime.date(2024, 1, 6), datetime.date(2024, 1, 7)], [datetime.date(2024, 1, 8), datetime.date(2024, 1, 9), datetime.date(2024, 1, 10), datetime.date(2024, 1, 11), datetime.date(2024, 1, 12), datetime.date(2024, 1, 13), datetime.date(2024, 1, 14)], [datetime.date(2024, 1, 15), datetime.date(2024, 1, 16), datetime.date(2024, 1, 17), datetime.date(2024, 1, 18), datetime.date(2024, 1, 19), datetime.date(2024, 1, 20), datetime.date(2024, 1, 21)], [datetime.date(2024, 1, 22), datetime.date(2024, 1, 23), datetime.date(2024, 1, 24), datetime.date(2024, 1, 25), datetime.date(2024, 1, 26), datetime.date(2024, 1, 27), datetime.date(2024, 1, 28)], [datetime.date(2024, 1, 29), datetime.date(2024, 1, 30), datetime.date(2024, 1, 31), datetime.date(2024, 2, 1), datetime.date(2024, 2, 2), datetime.date(2024, 2, 3), datetime.date(2024, 2, 4)]]], [[[datetime.date(2024, 1, 29), datetime.date(2024, 1, 30), datetime.date(2024, 1, 31), datetime.date(2024, 2, 1), datetime.date(2024, 2, 2), datetime.date(2024, 2, 3), datetime.date(2024, 2, 4)], [datetime.date(2024, 2, 5), datetime.date(2024, 2, 6), datetime.date(2024, 2, 7), datetime.date(2024, 2, 8), datetime.date(2024, 2, 9), datetime.date(2024, 2, 10), datetime.date(2024, 2, 11)], [datetime.date(2024, 2, 12), datetime.date(2024, 2, 13), datetime.date(2024, 2, 14), datetime.date(2024, 2, 15), datetime.date(2024, 2, 16), datetime.date(2024, 2, 17), datetime.date(2024, 2, 18)], [datetime.date(2024, 2, 19), datetime.date(2024, 2, 20), datetime.date(2024, 2, 21), datetime.date(2024, 2, 22), datetime.date(2024, 2, 23), datetime.date(2024, 2, 24), datetime.date(2024, 2, 25)], [datetime.date(2024, 2, 26), datetime.date(2024, 2, 27), datetime.date(2024, 2, 28), datetime.date(2024, 2, 29), datetime.date(2024, 3, 1), datetime.date(2024, 3, 2), datetime.date(2024, 3, 3)]]], [[[datetime.date(2024, 2, 26), datetime.date(2024, 2, 27), datetime.date(2024, 2, 28), datetime.date(2024, 2, 29), datetime.date(2024, 3, 1), datetime.date(2024, 3, 2), datetime.date(2024, 3, 3)], [datetime.date(2024, 3, 4), datetime.date(2024, 3, 5), datetime.date(2024, 3, 6), datetime.date(2024, 3, 7), datetime.date(2024, 3, 8), datetime.date(2024, 3, 9), datetime.date(2024, 3, 10)], [datetime.date(2024, 3, 11), datetime.date(2024, 3, 12), datetime.date(2024, 3, 13), datetime.date(2024, 3, 14), datetime.date(2024, 3, 15), datetime.date(2024, 3, 16), datetime.date(2024, 3, 17)], [datetime.date(2024, 3, 18), datetime.date(2024, 3, 19), datetime.date(2024, 3, 20), datetime.date(2024, 3, 21), datetime.date(2024, 3, 22), datetime.date(2024, 3, 23), datetime.date(2024, 3, 24)], [datetime.date(2024, 3, 25), datetime.date(2024, 3, 26), datetime.date(2024, 3, 27), datetime.date(2024, 3, 28), datetime.date(2024, 3, 29), datetime.date(2024, 3, 30), datetime.date(2024, 3, 31)]]], [[[datetime.date(2024, 4, 1), datetime.date(2024, 4, 2), datetime.date(2024, 4, 3), datetime.date(2024, 4, 4), datetime.date(2024, 4, 5), datetime.date(2024, 4, 6), datetime.date(2024, 4, 7)], [datetime.date(2024, 4, 8), datetime.date(2024, 4, 9), datetime.date(2024, 4, 10), datetime.date(2024, 4, 11), datetime.date(2024, 4, 12), datetime.date(2024, 4, 13), datetime.date(2024, 4, 14)], [datetime.date(2024, 4, 15), datetime.date(2024, 4, 16), datetime.date(2024, 4, 17), datetime.date(2024, 4, 18), datetime.date(2024, 4, 19), datetime.date(2024, 4, 20), datetime.date(2024, 4, 21)], [datetime.date(2024, 4, 22), datetime.date(2024, 4, 23), datetime.date(2024, 4, 24), datetime.date(2024, 4, 25), datetime.date(2024, 4, 26), datetime.date(2024, 4, 27), datetime.date(2024, 4, 28)], [datetime.date(2024, 4, 29), datetime.date(2024, 4, 30), datetime.date(2024, 5, 1), datetime.date(2024, 5, 2), datetime.date(2024, 5, 3), datetime.date(2024, 5, 4), datetime.date(2024, 5, 5)]]], [[[datetime.date(2024, 4, 29), datetime.date(2024, 4, 30), datetime.date(2024, 5, 1), datetime.date(2024, 5, 2), datetime.date(2024, 5, 3), datetime.date(2024, 5, 4), datetime.date(2024, 5, 5)], [datetime.date(2024, 5, 6), datetime.date(2024, 5, 7), datetime.date(2024, 5, 8), datetime.date(2024, 5, 9), datetime.date(2024, 5, 10), datetime.date(2024, 5, 11), datetime.date(2024, 5, 12)], [datetime.date(2024, 5, 13), datetime.date(2024, 5, 14), datetime.date(2024, 5, 15), datetime.date(2024, 5, 16), datetime.date(2024, 5, 17), datetime.date(2024, 5, 18), datetime.date(2024, 5, 19)], [datetime.date(2024, 5, 20), datetime.date(2024, 5, 21), datetime.date(2024, 5, 22), datetime.date(2024, 5, 23), datetime.date(2024, 5, 24), datetime.date(2024, 5, 25), datetime.date(2024, 5, 26)], [datetime.date(2024, 5, 27), datetime.date(2024, 5, 28), datetime.date(2024, 5, 29), datetime.date(2024, 5, 30), datetime.date(2024, 5, 31), datetime.date(2024, 6, 1), datetime.date(2024, 6, 2)]]], [[[datetime.date(2024, 5, 27), datetime.date(2024, 5, 28), datetime.date(2024, 5, 29), datetime.date(2024, 5, 30), datetime.date(2024, 5, 31), datetime.date(2024, 6, 1), datetime.date(2024, 6, 2)], [datetime.date(2024, 6, 3), datetime.date(2024, 6, 4), datetime.date(2024, 6, 5), datetime.date(2024, 6, 6), datetime.date(2024, 6, 7), datetime.date(2024, 6, 8), datetime.date(2024, 6, 9)], [datetime.date(2024, 6, 10), datetime.date(2024, 6, 11), datetime.date(2024, 6, 12), datetime.date(2024, 6, 13), datetime.date(2024, 6, 14), datetime.date(2024, 6, 15), datetime.date(2024, 6, 16)], [datetime.date(2024, 6, 17), datetime.date(2024, 6, 18), datetime.date(2024, 6, 19), datetime.date(2024, 6, 20), datetime.date(2024, 6, 21), datetime.date(2024, 6, 22), datetime.date(2024, 6, 23)], [datetime.date(2024, 6, 24), datetime.date(2024, 6, 25), datetime.date(2024, 6, 26), datetime.date(2024, 6, 27), datetime.date(2024, 6, 28), datetime.date(2024, 6, 29), datetime.date(2024, 6, 30)]]], [[[datetime.date(2024, 7, 1), datetime.date(2024, 7, 2), datetime.date(2024, 7, 3), datetime.date(2024, 7, 4), datetime.date(2024, 7, 5), datetime.date(2024, 7, 6), datetime.date(2024, 7, 7)], [datetime.date(2024, 7, 8), datetime.date(2024, 7, 9), datetime.date(2024, 7, 10), datetime.date(2024, 7, 11), datetime.date(2024, 7, 12), datetime.date(2024, 7, 13), datetime.date(2024, 7, 14)], [datetime.date(2024, 7, 15), datetime.date(2024, 7, 16), datetime.date(2024, 7, 17), datetime.date(2024, 7, 18), datetime.date(2024, 7, 19), datetime.date(2024, 7, 20), datetime.date(2024, 7, 21)], [datetime.date(2024, 7, 22), datetime.date(2024, 7, 23), datetime.date(2024, 7, 24), datetime.date(2024, 7, 25), datetime.date(2024, 7, 26), datetime.date(2024, 7, 27), datetime.date(2024, 7, 28)], [datetime.date(2024, 7, 29), datetime.date(2024, 7, 30), datetime.date(2024, 7, 31), datetime.date(2024, 8, 1), datetime.date(2024, 8, 2), datetime.date(2024, 8, 3), datetime.date(2024, 8, 4)]]], [[[datetime.date(2024, 7, 29), datetime.date(2024, 7, 30), datetime.date(2024, 7, 31), datetime.date(2024, 8, 1), datetime.date(2024, 8, 2), datetime.date(2024, 8, 3), datetime.date(2024, 8, 4)], [datetime.date(2024, 8, 5), datetime.date(2024, 8, 6), datetime.date(2024, 8, 7), datetime.date(2024, 8, 8), datetime.date(2024, 8, 9), datetime.date(2024, 8, 10), datetime.date(2024, 8, 11)], [datetime.date(2024, 8, 12), datetime.date(2024, 8, 13), datetime.date(2024, 8, 14), datetime.date(2024, 8, 15), datetime.date(2024, 8, 16), datetime.date(2024, 8, 17), datetime.date(2024, 8, 18)], [datetime.date(2024, 8, 19), datetime.date(2024, 8, 20), datetime.date(2024, 8, 21), datetime.date(2024, 8, 22), datetime.date(2024, 8, 23), datetime.date(2024, 8, 24), datetime.date(2024, 8, 25)], [datetime.date(2024, 8, 26), datetime.date(2024, 8, 27), datetime.date(2024, 8, 28), datetime.date(2024, 8, 29), datetime.date(2024, 8, 30), datetime.date(2024, 8, 31), datetime.date(2024, 9, 1)]]], [[[datetime.date(2024, 8, 26), datetime.date(2024, 8, 27), datetime.date(2024, 8, 28), datetime.date(2024, 8, 29), datetime.date(2024, 8, 30), datetime.date(2024, 8, 31), datetime.date(2024, 9, 1)], [datetime.date(2024, 9, 2), datetime.date(2024, 9, 3), datetime.date(2024, 9, 4), datetime.date(2024, 9, 5), datetime.date(2024, 9, 6), datetime.date(2024, 9, 7), datetime.date(2024, 9, 8)], [datetime.date(2024, 9, 9), datetime.date(2024, 9, 10), datetime.date(2024, 9, 11), datetime.date(2024, 9, 12), datetime.date(2024, 9, 13), datetime.date(2024, 9, 14), datetime.date(2024, 9, 15)], [datetime.date(2024, 9, 16), datetime.date(2024, 9, 17), datetime.date(2024, 9, 18), datetime.date(2024, 9, 19), datetime.date(2024, 9, 20), datetime.date(2024, 9, 21), datetime.date(2024, 9, 22)], [datetime.date(2024, 9, 23), datetime.date(2024, 9, 24), datetime.date(2024, 9, 25), datetime.date(2024, 9, 26), datetime.date(2024, 9, 27), datetime.date(2024, 9, 28), datetime.date(2024, 9, 29)], [datetime.date(2024, 9, 30), datetime.date(2024, 10, 1), datetime.date(2024, 10, 2), datetime.date(2024, 10, 3), datetime.date(2024, 10, 4), datetime.date(2024, 10, 5), datetime.date(2024, 10, 6)]]], [[[datetime.date(2024, 9, 30), datetime.date(2024, 10, 1), datetime.date(2024, 10, 2), datetime.date(2024, 10, 3), datetime.date(2024, 10, 4), datetime.date(2024, 10, 5), datetime.date(2024, 10, 6)], [datetime.date(2024, 10, 7), datetime.date(2024, 10, 8), datetime.date(2024, 10, 9), datetime.date(2024, 10, 10), datetime.date(2024, 10, 11), datetime.date(2024, 10, 12), datetime.date(2024, 10, 13)], [datetime.date(2024, 10, 14), datetime.date(2024, 10, 15), datetime.date(2024, 10, 16), datetime.date(2024, 10, 17), datetime.date(2024, 10, 18), datetime.date(2024, 10, 19), datetime.date(2024, 10, 20)], [datetime.date(2024, 10, 21), datetime.date(2024, 10, 22), datetime.date(2024, 10, 23), datetime.date(2024, 10, 24), datetime.date(2024, 10, 25), datetime.date(2024, 10, 26), datetime.date(2024, 10, 27)], [datetime.date(2024, 10, 28), datetime.date(2024, 10, 29), datetime.date(2024, 10, 30), datetime.date(2024, 10, 31), datetime.date(2024, 11, 1), datetime.date(2024, 11, 2), datetime.date(2024, 11, 3)]]], [[[datetime.date(2024, 10, 28), datetime.date(2024, 10, 29), datetime.date(2024, 10, 30), datetime.date(2024, 10, 31), datetime.date(2024, 11, 1), datetime.date(2024, 11, 2), datetime.date(2024, 11, 3)], [datetime.date(2024, 11, 4), datetime.date(2024, 11, 5), datetime.date(2024, 11, 6), datetime.date(2024, 11, 7), datetime.date(2024, 11, 8), datetime.date(2024, 11, 9), datetime.date(2024, 11, 10)], [datetime.date(2024, 11, 11), datetime.date(2024, 11, 12), datetime.date(2024, 11, 13), datetime.date(2024, 11, 14), datetime.date(2024, 11, 15), datetime.date(2024, 11, 16), datetime.date(2024, 11, 17)], [datetime.date(2024, 11, 18), datetime.date(2024, 11, 19), datetime.date(2024, 11, 20), datetime.date(2024, 11, 21), datetime.date(2024, 11, 22), datetime.date(2024, 11, 23), datetime.date(2024, 11, 24)], [datetime.date(2024, 11, 25), datetime.date(2024, 11, 26), datetime.date(2024, 11, 27), datetime.date(2024, 11, 28), datetime.date(2024, 11, 29), datetime.date(2024, 11, 30), datetime.date(2024, 12, 1)]]], [[[datetime.date(2024, 11, 25), datetime.date(2024, 11, 26), datetime.date(2024, 11, 27), datetime.date(2024, 11, 28), datetime.date(2024, 11, 29), datetime.date(2024, 11, 30), datetime.date(2024, 12, 1)], [datetime.date(2024, 12, 2), datetime.date(2024, 12, 3), datetime.date(2024, 12, 4), datetime.date(2024, 12, 5), datetime.date(2024, 12, 6), datetime.date(2024, 12, 7), datetime.date(2024, 12, 8)], [datetime.date(2024, 12, 9), datetime.date(2024, 12, 10), datetime.date(2024, 12, 11), datetime.date(2024, 12, 12), datetime.date(2024, 12, 13), datetime.date(2024, 12, 14), datetime.date(2024, 12, 15)], [datetime.date(2024, 12, 16), datetime.date(2024, 12, 17), datetime.date(2024, 12, 18), datetime.date(2024, 12, 19), datetime.date(2024, 12, 20), datetime.date(2024, 12, 21), datetime.date(2024, 12, 22)], [datetime.date(2024, 12, 23), datetime.date(2024, 12, 24), datetime.date(2024, 12, 25), datetime.date(2024, 12, 26), datetime.date(2024, 12, 27), datetime.date(2024, 12, 28), datetime.date(2024, 12, 29)], [datetime.date(2024, 12, 30), datetime.date(2024, 12, 31), datetime.date(2025, 1, 1), datetime.date(2025, 1, 2), datetime.date(2025, 1, 3), datetime.date(2025, 1, 4), datetime.date(2025, 1, 5)]]]]\n"
     ]
    }
   ],
   "source": [
    "# 10. yeardatescalendar() - List of weeks for a specified month.\n",
    "from calendar import Calendar\n",
    "a=Calendar(firstweekday=0)\n",
    "print(a.yeardatescalendar(2024,12))"
   ]
  },
  {
   "cell_type": "code",
   "execution_count": 31,
   "id": "40912e5e-b3a6-4fd3-ac15-b1ec2748ca45",
   "metadata": {},
   "outputs": [
    {
     "name": "stdout",
     "output_type": "stream",
     "text": [
      "[[[[1, 2, 3, 4, 5, 6, 7], [8, 9, 10, 11, 12, 13, 14], [15, 16, 17, 18, 19, 20, 21], [22, 23, 24, 25, 26, 27, 28], [29, 30, 31, 0, 0, 0, 0]], [[0, 0, 0, 1, 2, 3, 4], [5, 6, 7, 8, 9, 10, 11], [12, 13, 14, 15, 16, 17, 18], [19, 20, 21, 22, 23, 24, 25], [26, 27, 28, 29, 0, 0, 0]], [[0, 0, 0, 0, 1, 2, 3], [4, 5, 6, 7, 8, 9, 10], [11, 12, 13, 14, 15, 16, 17], [18, 19, 20, 21, 22, 23, 24], [25, 26, 27, 28, 29, 30, 31]], [[1, 2, 3, 4, 5, 6, 7], [8, 9, 10, 11, 12, 13, 14], [15, 16, 17, 18, 19, 20, 21], [22, 23, 24, 25, 26, 27, 28], [29, 30, 0, 0, 0, 0, 0]], [[0, 0, 1, 2, 3, 4, 5], [6, 7, 8, 9, 10, 11, 12], [13, 14, 15, 16, 17, 18, 19], [20, 21, 22, 23, 24, 25, 26], [27, 28, 29, 30, 31, 0, 0]], [[0, 0, 0, 0, 0, 1, 2], [3, 4, 5, 6, 7, 8, 9], [10, 11, 12, 13, 14, 15, 16], [17, 18, 19, 20, 21, 22, 23], [24, 25, 26, 27, 28, 29, 30]], [[1, 2, 3, 4, 5, 6, 7], [8, 9, 10, 11, 12, 13, 14], [15, 16, 17, 18, 19, 20, 21], [22, 23, 24, 25, 26, 27, 28], [29, 30, 31, 0, 0, 0, 0]], [[0, 0, 0, 1, 2, 3, 4], [5, 6, 7, 8, 9, 10, 11], [12, 13, 14, 15, 16, 17, 18], [19, 20, 21, 22, 23, 24, 25], [26, 27, 28, 29, 30, 31, 0]], [[0, 0, 0, 0, 0, 0, 1], [2, 3, 4, 5, 6, 7, 8], [9, 10, 11, 12, 13, 14, 15], [16, 17, 18, 19, 20, 21, 22], [23, 24, 25, 26, 27, 28, 29], [30, 0, 0, 0, 0, 0, 0]], [[0, 1, 2, 3, 4, 5, 6], [7, 8, 9, 10, 11, 12, 13], [14, 15, 16, 17, 18, 19, 20], [21, 22, 23, 24, 25, 26, 27], [28, 29, 30, 31, 0, 0, 0]], [[0, 0, 0, 0, 1, 2, 3], [4, 5, 6, 7, 8, 9, 10], [11, 12, 13, 14, 15, 16, 17], [18, 19, 20, 21, 22, 23, 24], [25, 26, 27, 28, 29, 30, 0]], [[0, 0, 0, 0, 0, 0, 1], [2, 3, 4, 5, 6, 7, 8], [9, 10, 11, 12, 13, 14, 15], [16, 17, 18, 19, 20, 21, 22], [23, 24, 25, 26, 27, 28, 29], [30, 31, 0, 0, 0, 0, 0]]]]\n"
     ]
    }
   ],
   "source": [
    "# 11. yeardayscalendar() - List of day number for a specified year.\n",
    "from calendar import Calendar\n",
    "a=Calendar(firstweekday=0)\n",
    "print(a.yeardayscalendar(2024,12))"
   ]
  },
  {
   "cell_type": "code",
   "execution_count": 32,
   "id": "5ec36760-6ce6-468a-ac25-5c2e338cf9c2",
   "metadata": {},
   "outputs": [
    {
     "name": "stdout",
     "output_type": "stream",
     "text": [
      "[[[[1, 2, 3, 4, 5, 6, 7], [8, 9, 10, 11, 12, 13, 14], [15, 16, 17, 18, 19, 20, 21], [22, 23, 24, 25, 26, 27, 28], [29, 30, 31, 0, 0, 0, 0]], [[0, 0, 0, 1, 2, 3, 4], [5, 6, 7, 8, 9, 10, 11], [12, 13, 14, 15, 16, 17, 18], [19, 20, 21, 22, 23, 24, 25], [26, 27, 28, 29, 0, 0, 0]], [[0, 0, 0, 0, 1, 2, 3], [4, 5, 6, 7, 8, 9, 10], [11, 12, 13, 14, 15, 16, 17], [18, 19, 20, 21, 22, 23, 24], [25, 26, 27, 28, 29, 30, 31]], [[1, 2, 3, 4, 5, 6, 7], [8, 9, 10, 11, 12, 13, 14], [15, 16, 17, 18, 19, 20, 21], [22, 23, 24, 25, 26, 27, 28], [29, 30, 0, 0, 0, 0, 0]], [[0, 0, 1, 2, 3, 4, 5], [6, 7, 8, 9, 10, 11, 12], [13, 14, 15, 16, 17, 18, 19], [20, 21, 22, 23, 24, 25, 26], [27, 28, 29, 30, 31, 0, 0]], [[0, 0, 0, 0, 0, 1, 2], [3, 4, 5, 6, 7, 8, 9], [10, 11, 12, 13, 14, 15, 16], [17, 18, 19, 20, 21, 22, 23], [24, 25, 26, 27, 28, 29, 30]], [[1, 2, 3, 4, 5, 6, 7], [8, 9, 10, 11, 12, 13, 14], [15, 16, 17, 18, 19, 20, 21], [22, 23, 24, 25, 26, 27, 28], [29, 30, 31, 0, 0, 0, 0]], [[0, 0, 0, 1, 2, 3, 4], [5, 6, 7, 8, 9, 10, 11], [12, 13, 14, 15, 16, 17, 18], [19, 20, 21, 22, 23, 24, 25], [26, 27, 28, 29, 30, 31, 0]], [[0, 0, 0, 0, 0, 0, 1], [2, 3, 4, 5, 6, 7, 8], [9, 10, 11, 12, 13, 14, 15], [16, 17, 18, 19, 20, 21, 22], [23, 24, 25, 26, 27, 28, 29], [30, 0, 0, 0, 0, 0, 0]], [[0, 1, 2, 3, 4, 5, 6], [7, 8, 9, 10, 11, 12, 13], [14, 15, 16, 17, 18, 19, 20], [21, 22, 23, 24, 25, 26, 27], [28, 29, 30, 31, 0, 0, 0]], [[0, 0, 0, 0, 1, 2, 3], [4, 5, 6, 7, 8, 9, 10], [11, 12, 13, 14, 15, 16, 17], [18, 19, 20, 21, 22, 23, 24], [25, 26, 27, 28, 29, 30, 0]], [[0, 0, 0, 0, 0, 0, 1], [2, 3, 4, 5, 6, 7, 8], [9, 10, 11, 12, 13, 14, 15], [16, 17, 18, 19, 20, 21, 22], [23, 24, 25, 26, 27, 28, 29], [30, 31, 0, 0, 0, 0, 0]]]]\n"
     ]
    }
   ],
   "source": [
    "# 12. year2dayscalendar() - List of days with full months in a specified year.\n",
    "from calendar import Calendar\n",
    "a=Calendar(firstweekday=0)\n",
    "print(a.yeardayscalendar(2024,12))"
   ]
  },
  {
   "cell_type": "code",
   "execution_count": null,
   "id": "985c4038-232d-4202-a2ab-d881a434b74f",
   "metadata": {},
   "outputs": [],
   "source": [
    "# class calendar.TextCalendar :\n",
    "\"\"\"\n",
    "class calendar.TextCalendar is used to generate plain text calendar also it\n",
    "allows us to edit the calendar and use it as per our requirement.\n",
    "There are 4 methods in TextCalendar class :\n",
    "1. formatmonth()\n",
    "2. prmonth()\n",
    "3. formatyear()\n",
    "4. pryear()\n",
    "\"\"\"\n",
    "\n",
    "# 1. formatmonth() - Retrieve month's Calendar as a multi-line string.\n",
    "# Syntax: formatmonth(year, month, width=0, lines=0)\n",
    "# Example-1 :"
   ]
  },
  {
   "cell_type": "code",
   "execution_count": 36,
   "id": "ae2b2e97-c8d7-44ca-81ca-bb12b83159c9",
   "metadata": {},
   "outputs": [
    {
     "name": "stdout",
     "output_type": "stream",
     "text": [
      "   December 2024\n",
      "Mo Tu We Th Fr Sa Su\n",
      "                   1\n",
      " 2  3  4  5  6  7  8\n",
      " 9 10 11 12 13 14 15\n",
      "16 17 18 19 20 21 22\n",
      "23 24 25 26 27 28 29\n",
      "30 31\n",
      "\n"
     ]
    }
   ],
   "source": [
    "import calendar\n",
    "a=calendar.TextCalendar(firstweekday=0)\n",
    "print(a.formatmonth(2024,12))"
   ]
  },
  {
   "cell_type": "code",
   "execution_count": 42,
   "id": "394bae4d-7068-4469-9b98-667de942925e",
   "metadata": {},
   "outputs": [
    {
     "name": "stdout",
     "output_type": "stream",
     "text": [
      "          December 2024\n",
      "Mon  Tue  Wed  Thu  Fri  Sat  Sun\n",
      "                                1\n",
      "  2    3    4    5    6    7    8\n",
      "  9   10   11   12   13   14   15\n",
      " 16   17   18   19   20   21   22\n",
      " 23   24   25   26   27   28   29\n",
      " 30   31\n",
      "\n"
     ]
    }
   ],
   "source": [
    "import calendar\n",
    "a=calendar.TextCalendar(firstweekday=0)\n",
    "print(a.formatmonth(2024,12,w=4))"
   ]
  },
  {
   "cell_type": "code",
   "execution_count": 47,
   "id": "73cd1f11-4083-48c5-8f0b-d2d31a3b78f0",
   "metadata": {},
   "outputs": [
    {
     "name": "stdout",
     "output_type": "stream",
     "text": [
      "                     December 2024\n",
      "\n",
      "  Mon     Tue     Wed     Thu     Fri     Sat     Sun\n",
      "\n",
      "                                                    1\n",
      "\n",
      "    2       3       4       5       6       7       8\n",
      "\n",
      "    9      10      11      12      13      14      15\n",
      "\n",
      "   16      17      18      19      20      21      22\n",
      "\n",
      "   23      24      25      26      27      28      29\n",
      "\n",
      "   30      31\n",
      "\n",
      "\n"
     ]
    }
   ],
   "source": [
    "import calendar\n",
    "a=calendar.TextCalendar(firstweekday=0)\n",
    "print(a.formatmonth(2024,12,7,2))"
   ]
  },
  {
   "cell_type": "code",
   "execution_count": 48,
   "id": "8ab3dbdc-a476-41d4-9d85-19a626d035c6",
   "metadata": {},
   "outputs": [
    {
     "name": "stdout",
     "output_type": "stream",
     "text": [
      "   December 2024\n",
      "Mo Tu We Th Fr Sa Su\n",
      "                   1\n",
      " 2  3  4  5  6  7  8\n",
      " 9 10 11 12 13 14 15\n",
      "16 17 18 19 20 21 22\n",
      "23 24 25 26 27 28 29\n",
      "30 31\n",
      "None\n"
     ]
    }
   ],
   "source": [
    "# 2. prmonth() - Print the month's Calendar.\n",
    "# Syntax: prmonth(year, month, width=0, lines=0)\n",
    "import calendar\n",
    "a=calendar.TextCalendar(firstweekday=0)\n",
    "print(a.prmonth(2024,12))"
   ]
  },
  {
   "cell_type": "code",
   "execution_count": 49,
   "id": "f85125d4-8ad9-473a-8995-004d3f905938",
   "metadata": {},
   "outputs": [
    {
     "name": "stdout",
     "output_type": "stream",
     "text": [
      "          December 2024\n",
      "Mon  Tue  Wed  Thu  Fri  Sat  Sun\n",
      "                                1\n",
      "  2    3    4    5    6    7    8\n",
      "  9   10   11   12   13   14   15\n",
      " 16   17   18   19   20   21   22\n",
      " 23   24   25   26   27   28   29\n",
      " 30   31\n",
      "None\n"
     ]
    }
   ],
   "source": [
    "import calendar\n",
    "a=calendar.TextCalendar(firstweekday=0)\n",
    "print(a.prmonth(2024,12,w=4))"
   ]
  },
  {
   "cell_type": "code",
   "execution_count": 50,
   "id": "7e1dd81e-d75c-4030-86eb-85c29ee428a4",
   "metadata": {},
   "outputs": [
    {
     "name": "stdout",
     "output_type": "stream",
     "text": [
      "                     December 2024\n",
      "\n",
      "  Mon     Tue     Wed     Thu     Fri     Sat     Sun\n",
      "\n",
      "                                                    1\n",
      "\n",
      "    2       3       4       5       6       7       8\n",
      "\n",
      "    9      10      11      12      13      14      15\n",
      "\n",
      "   16      17      18      19      20      21      22\n",
      "\n",
      "   23      24      25      26      27      28      29\n",
      "\n",
      "   30      31\n",
      "\n",
      "None\n"
     ]
    }
   ],
   "source": [
    "import calendar\n",
    "a=calendar.TextCalendar(firstweekday=0)\n",
    "print(a.prmonth(2024,12,7,2))"
   ]
  },
  {
   "cell_type": "code",
   "execution_count": 5,
   "id": "c4d0b4ae-c5ae-407f-8885-ad9920a7d5b3",
   "metadata": {},
   "outputs": [
    {
     "name": "stdout",
     "output_type": "stream",
     "text": [
      "                                                                  2024\n",
      "\n",
      "                 January                                        February                                        March\n",
      " Mon   Tue   Wed   Thu   Fri   Sat   Sun        Mon   Tue   Wed   Thu   Fri   Sat   Sun        Mon   Tue   Wed   Thu   Fri   Sat   Sun\n",
      "   1     2     3     4     5     6     7                            1     2     3     4                                  1     2     3\n",
      "   8     9    10    11    12    13    14          5     6     7     8     9    10    11          4     5     6     7     8     9    10\n",
      "  15    16    17    18    19    20    21         12    13    14    15    16    17    18         11    12    13    14    15    16    17\n",
      "  22    23    24    25    26    27    28         19    20    21    22    23    24    25         18    19    20    21    22    23    24\n",
      "  29    30    31                                 26    27    28    29                           25    26    27    28    29    30    31\n",
      "\n",
      "                  April                                           May                                            June\n",
      " Mon   Tue   Wed   Thu   Fri   Sat   Sun        Mon   Tue   Wed   Thu   Fri   Sat   Sun        Mon   Tue   Wed   Thu   Fri   Sat   Sun\n",
      "   1     2     3     4     5     6     7                      1     2     3     4     5                                        1     2\n",
      "   8     9    10    11    12    13    14          6     7     8     9    10    11    12          3     4     5     6     7     8     9\n",
      "  15    16    17    18    19    20    21         13    14    15    16    17    18    19         10    11    12    13    14    15    16\n",
      "  22    23    24    25    26    27    28         20    21    22    23    24    25    26         17    18    19    20    21    22    23\n",
      "  29    30                                       27    28    29    30    31                     24    25    26    27    28    29    30\n",
      "\n",
      "                   July                                          August                                       September\n",
      " Mon   Tue   Wed   Thu   Fri   Sat   Sun        Mon   Tue   Wed   Thu   Fri   Sat   Sun        Mon   Tue   Wed   Thu   Fri   Sat   Sun\n",
      "   1     2     3     4     5     6     7                            1     2     3     4                                              1\n",
      "   8     9    10    11    12    13    14          5     6     7     8     9    10    11          2     3     4     5     6     7     8\n",
      "  15    16    17    18    19    20    21         12    13    14    15    16    17    18          9    10    11    12    13    14    15\n",
      "  22    23    24    25    26    27    28         19    20    21    22    23    24    25         16    17    18    19    20    21    22\n",
      "  29    30    31                                 26    27    28    29    30    31               23    24    25    26    27    28    29\n",
      "                                                                                                30\n",
      "\n",
      "                 October                                        November                                       December\n",
      " Mon   Tue   Wed   Thu   Fri   Sat   Sun        Mon   Tue   Wed   Thu   Fri   Sat   Sun        Mon   Tue   Wed   Thu   Fri   Sat   Sun\n",
      "         1     2     3     4     5     6                                  1     2     3                                              1\n",
      "   7     8     9    10    11    12    13          4     5     6     7     8     9    10          2     3     4     5     6     7     8\n",
      "  14    15    16    17    18    19    20         11    12    13    14    15    16    17          9    10    11    12    13    14    15\n",
      "  21    22    23    24    25    26    27         18    19    20    21    22    23    24         16    17    18    19    20    21    22\n",
      "  28    29    30    31                           25    26    27    28    29    30               23    24    25    26    27    28    29\n",
      "                                                                                                30    31\n",
      "\n"
     ]
    }
   ],
   "source": [
    "# 3. formatyear() - Retrieve year's calendar as a multi-line String.\n",
    "# Syntax: formatyear(year, width=2, lines=1, c=6, m=3)\n",
    "# c - No. of spaces between month columns\n",
    "# m - No. of months in a row\n",
    "import calendar\n",
    "a=calendar.TextCalendar(firstweekday=0)\n",
    "b=(a.formatyear(2024,5))\n",
    "print(b)"
   ]
  },
  {
   "cell_type": "code",
   "execution_count": 11,
   "id": "4b61cdb8-9007-4387-a963-53273a2af658",
   "metadata": {},
   "outputs": [
    {
     "name": "stdout",
     "output_type": "stream",
     "text": [
      "                                                              2024\n",
      "\n",
      "                 January                                    February                                    March\n",
      " Mon   Tue   Wed   Thu   Fri   Sat   Sun    Mon   Tue   Wed   Thu   Fri   Sat   Sun    Mon   Tue   Wed   Thu   Fri   Sat   Sun\n",
      "   1     2     3     4     5     6     7                        1     2     3     4                              1     2     3\n",
      "   8     9    10    11    12    13    14      5     6     7     8     9    10    11      4     5     6     7     8     9    10\n",
      "  15    16    17    18    19    20    21     12    13    14    15    16    17    18     11    12    13    14    15    16    17\n",
      "  22    23    24    25    26    27    28     19    20    21    22    23    24    25     18    19    20    21    22    23    24\n",
      "  29    30    31                             26    27    28    29                       25    26    27    28    29    30    31\n",
      "\n",
      "                  April                                       May                                        June\n",
      " Mon   Tue   Wed   Thu   Fri   Sat   Sun    Mon   Tue   Wed   Thu   Fri   Sat   Sun    Mon   Tue   Wed   Thu   Fri   Sat   Sun\n",
      "   1     2     3     4     5     6     7                  1     2     3     4     5                                    1     2\n",
      "   8     9    10    11    12    13    14      6     7     8     9    10    11    12      3     4     5     6     7     8     9\n",
      "  15    16    17    18    19    20    21     13    14    15    16    17    18    19     10    11    12    13    14    15    16\n",
      "  22    23    24    25    26    27    28     20    21    22    23    24    25    26     17    18    19    20    21    22    23\n",
      "  29    30                                   27    28    29    30    31                 24    25    26    27    28    29    30\n",
      "\n",
      "                   July                                      August                                   September\n",
      " Mon   Tue   Wed   Thu   Fri   Sat   Sun    Mon   Tue   Wed   Thu   Fri   Sat   Sun    Mon   Tue   Wed   Thu   Fri   Sat   Sun\n",
      "   1     2     3     4     5     6     7                        1     2     3     4                                          1\n",
      "   8     9    10    11    12    13    14      5     6     7     8     9    10    11      2     3     4     5     6     7     8\n",
      "  15    16    17    18    19    20    21     12    13    14    15    16    17    18      9    10    11    12    13    14    15\n",
      "  22    23    24    25    26    27    28     19    20    21    22    23    24    25     16    17    18    19    20    21    22\n",
      "  29    30    31                             26    27    28    29    30    31           23    24    25    26    27    28    29\n",
      "                                                                                        30\n",
      "\n",
      "                 October                                    November                                   December\n",
      " Mon   Tue   Wed   Thu   Fri   Sat   Sun    Mon   Tue   Wed   Thu   Fri   Sat   Sun    Mon   Tue   Wed   Thu   Fri   Sat   Sun\n",
      "         1     2     3     4     5     6                              1     2     3                                          1\n",
      "   7     8     9    10    11    12    13      4     5     6     7     8     9    10      2     3     4     5     6     7     8\n",
      "  14    15    16    17    18    19    20     11    12    13    14    15    16    17      9    10    11    12    13    14    15\n",
      "  21    22    23    24    25    26    27     18    19    20    21    22    23    24     16    17    18    19    20    21    22\n",
      "  28    29    30    31                       25    26    27    28    29    30           23    24    25    26    27    28    29\n",
      "                                                                                        30    31\n",
      "\n"
     ]
    }
   ],
   "source": [
    "import calendar\n",
    "a=calendar.TextCalendar(firstweekday=0)\n",
    "b=(a.formatyear(2024,5,c=2,m=3))\n",
    "print(b)"
   ]
  },
  {
   "cell_type": "code",
   "execution_count": 12,
   "id": "7a2a1ec4-67e0-4587-a111-6fbaed822f8d",
   "metadata": {},
   "outputs": [
    {
     "name": "stdout",
     "output_type": "stream",
     "text": [
      "                                                       2024\n",
      "\n",
      "             January                                 February                                 March\n",
      "Mon  Tue  Wed  Thu  Fri  Sat  Sun       Mon  Tue  Wed  Thu  Fri  Sat  Sun       Mon  Tue  Wed  Thu  Fri  Sat  Sun\n",
      "  1    2    3    4    5    6    7                        1    2    3    4                             1    2    3\n",
      "  8    9   10   11   12   13   14         5    6    7    8    9   10   11         4    5    6    7    8    9   10\n",
      " 15   16   17   18   19   20   21        12   13   14   15   16   17   18        11   12   13   14   15   16   17\n",
      " 22   23   24   25   26   27   28        19   20   21   22   23   24   25        18   19   20   21   22   23   24\n",
      " 29   30   31                            26   27   28   29                       25   26   27   28   29   30   31\n",
      "\n",
      "              April                                    May                                     June\n",
      "Mon  Tue  Wed  Thu  Fri  Sat  Sun       Mon  Tue  Wed  Thu  Fri  Sat  Sun       Mon  Tue  Wed  Thu  Fri  Sat  Sun\n",
      "  1    2    3    4    5    6    7                   1    2    3    4    5                                  1    2\n",
      "  8    9   10   11   12   13   14         6    7    8    9   10   11   12         3    4    5    6    7    8    9\n",
      " 15   16   17   18   19   20   21        13   14   15   16   17   18   19        10   11   12   13   14   15   16\n",
      " 22   23   24   25   26   27   28        20   21   22   23   24   25   26        17   18   19   20   21   22   23\n",
      " 29   30                                 27   28   29   30   31                  24   25   26   27   28   29   30\n",
      "\n",
      "               July                                   August                                September\n",
      "Mon  Tue  Wed  Thu  Fri  Sat  Sun       Mon  Tue  Wed  Thu  Fri  Sat  Sun       Mon  Tue  Wed  Thu  Fri  Sat  Sun\n",
      "  1    2    3    4    5    6    7                        1    2    3    4                                       1\n",
      "  8    9   10   11   12   13   14         5    6    7    8    9   10   11         2    3    4    5    6    7    8\n",
      " 15   16   17   18   19   20   21        12   13   14   15   16   17   18         9   10   11   12   13   14   15\n",
      " 22   23   24   25   26   27   28        19   20   21   22   23   24   25        16   17   18   19   20   21   22\n",
      " 29   30   31                            26   27   28   29   30   31             23   24   25   26   27   28   29\n",
      "                                                                                 30\n",
      "\n",
      "             October                                 November                                December\n",
      "Mon  Tue  Wed  Thu  Fri  Sat  Sun       Mon  Tue  Wed  Thu  Fri  Sat  Sun       Mon  Tue  Wed  Thu  Fri  Sat  Sun\n",
      "       1    2    3    4    5    6                             1    2    3                                       1\n",
      "  7    8    9   10   11   12   13         4    5    6    7    8    9   10         2    3    4    5    6    7    8\n",
      " 14   15   16   17   18   19   20        11   12   13   14   15   16   17         9   10   11   12   13   14   15\n",
      " 21   22   23   24   25   26   27        18   19   20   21   22   23   24        16   17   18   19   20   21   22\n",
      " 28   29   30   31                       25   26   27   28   29   30             23   24   25   26   27   28   29\n",
      "                                                                                 30   31\n"
     ]
    }
   ],
   "source": [
    "# 4. pryear() - Print the year's Calendar.\n",
    "# Syntax: pryear(year, width=2, lines=1, c=6, m=3)\n",
    "import calendar\n",
    "a=calendar.TextCalendar(firstweekday=0)\n",
    "b=(a.pryear(2024,4))"
   ]
  },
  {
   "cell_type": "code",
   "execution_count": 16,
   "id": "6f5546c1-4898-4f74-9d99-de55be6313dc",
   "metadata": {},
   "outputs": [
    {
     "name": "stdout",
     "output_type": "stream",
     "text": [
      "                                                                          2024\n",
      "\n",
      "             January                                February                                March                                  April\n",
      "Mon  Tue  Wed  Thu  Fri  Sat  Sun      Mon  Tue  Wed  Thu  Fri  Sat  Sun      Mon  Tue  Wed  Thu  Fri  Sat  Sun      Mon  Tue  Wed  Thu  Fri  Sat  Sun\n",
      "  1    2    3    4    5    6    7                       1    2    3    4                            1    2    3        1    2    3    4    5    6    7\n",
      "  8    9   10   11   12   13   14        5    6    7    8    9   10   11        4    5    6    7    8    9   10        8    9   10   11   12   13   14\n",
      " 15   16   17   18   19   20   21       12   13   14   15   16   17   18       11   12   13   14   15   16   17       15   16   17   18   19   20   21\n",
      " 22   23   24   25   26   27   28       19   20   21   22   23   24   25       18   19   20   21   22   23   24       22   23   24   25   26   27   28\n",
      " 29   30   31                           26   27   28   29                      25   26   27   28   29   30   31       29   30\n",
      "\n",
      "               May                                    June                                   July                                  August\n",
      "Mon  Tue  Wed  Thu  Fri  Sat  Sun      Mon  Tue  Wed  Thu  Fri  Sat  Sun      Mon  Tue  Wed  Thu  Fri  Sat  Sun      Mon  Tue  Wed  Thu  Fri  Sat  Sun\n",
      "            1    2    3    4    5                                 1    2        1    2    3    4    5    6    7                       1    2    3    4\n",
      "  6    7    8    9   10   11   12        3    4    5    6    7    8    9        8    9   10   11   12   13   14        5    6    7    8    9   10   11\n",
      " 13   14   15   16   17   18   19       10   11   12   13   14   15   16       15   16   17   18   19   20   21       12   13   14   15   16   17   18\n",
      " 20   21   22   23   24   25   26       17   18   19   20   21   22   23       22   23   24   25   26   27   28       19   20   21   22   23   24   25\n",
      " 27   28   29   30   31                 24   25   26   27   28   29   30       29   30   31                           26   27   28   29   30   31\n",
      "\n",
      "            September                               October                                November                               December\n",
      "Mon  Tue  Wed  Thu  Fri  Sat  Sun      Mon  Tue  Wed  Thu  Fri  Sat  Sun      Mon  Tue  Wed  Thu  Fri  Sat  Sun      Mon  Tue  Wed  Thu  Fri  Sat  Sun\n",
      "                                1             1    2    3    4    5    6                            1    2    3                                      1\n",
      "  2    3    4    5    6    7    8        7    8    9   10   11   12   13        4    5    6    7    8    9   10        2    3    4    5    6    7    8\n",
      "  9   10   11   12   13   14   15       14   15   16   17   18   19   20       11   12   13   14   15   16   17        9   10   11   12   13   14   15\n",
      " 16   17   18   19   20   21   22       21   22   23   24   25   26   27       18   19   20   21   22   23   24       16   17   18   19   20   21   22\n",
      " 23   24   25   26   27   28   29       28   29   30   31                      25   26   27   28   29   30            23   24   25   26   27   28   29\n",
      " 30                                                                                                                   30   31\n",
      "None\n"
     ]
    }
   ],
   "source": [
    "import calendar\n",
    "a=calendar.TextCalendar(firstweekday=0)\n",
    "b=(a.pryear(2024,4,c=5,m=4))\n",
    "print(b)"
   ]
  },
  {
   "cell_type": "code",
   "execution_count": 27,
   "id": "5bef6e8e-6fb6-4edd-b69e-7110ba2ee2ac",
   "metadata": {},
   "outputs": [
    {
     "name": "stdout",
     "output_type": "stream",
     "text": [
      "None\n"
     ]
    }
   ],
   "source": [
    "# Additional Functions of calendar module\n",
    "\n",
    "# 1. setfirstweekday(weekday) - Set the first day of the week.\n",
    "import calendar\n",
    "a=calendar.setfirstweekday(calendar.SATURDAY)\n",
    "print(a)"
   ]
  },
  {
   "cell_type": "code",
   "execution_count": 32,
   "id": "eb9f43d2-03f5-4b5f-bfc0-85a0de4a2c8b",
   "metadata": {},
   "outputs": [
    {
     "name": "stdout",
     "output_type": "stream",
     "text": [
      "6\n",
      "0\n",
      "1\n",
      "2\n",
      "3\n",
      "4\n",
      "5\n"
     ]
    }
   ],
   "source": [
    "# 2. firstweekday() - Returns the first weekday number.\n",
    "import calendar\n",
    "calendar.setfirstweekday(calendar.SUNDAY)\n",
    "print(calendar.firstweekday())\n",
    "calendar.setfirstweekday(calendar.MONDAY)\n",
    "print(calendar.firstweekday())\n",
    "calendar.setfirstweekday(calendar.TUESDAY)\n",
    "print(calendar.firstweekday())\n",
    "calendar.setfirstweekday(calendar.WEDNESDAY)\n",
    "print(calendar.firstweekday())\n",
    "calendar.setfirstweekday(calendar.THURSDAY)\n",
    "print(calendar.firstweekday())\n",
    "calendar.setfirstweekday(calendar.FRIDAY)\n",
    "print(calendar.firstweekday())\n",
    "calendar.setfirstweekday(calendar.SATURDAY)\n",
    "print(calendar.firstweekday())"
   ]
  },
  {
   "cell_type": "code",
   "execution_count": 33,
   "id": "36eb9be7-fbaf-4b4f-8ef7-8408e2ffcd09",
   "metadata": {},
   "outputs": [
    {
     "name": "stdout",
     "output_type": "stream",
     "text": [
      "True\n",
      "True\n",
      "True\n",
      "False\n"
     ]
    }
   ],
   "source": [
    "# 3. isleap(year) - Checks if the year is a leap year.\n",
    "import calendar\n",
    "print(calendar.isleap(2024))\n",
    "print(calendar.isleap(2004))\n",
    "print(calendar.isleap(2016))\n",
    "print(calendar.isleap(2023))"
   ]
  },
  {
   "cell_type": "code",
   "execution_count": 35,
   "id": "8d81efe4-b083-42eb-aabe-f314b1327d60",
   "metadata": {},
   "outputs": [
    {
     "name": "stdout",
     "output_type": "stream",
     "text": [
      "6\n"
     ]
    }
   ],
   "source": [
    "# 4. leapdays(year1, year2) - Returns the no. of leap days between years.\n",
    "import calendar\n",
    "print(calendar.leapdays(2004,2028))"
   ]
  },
  {
   "cell_type": "code",
   "execution_count": 36,
   "id": "44137b70-5375-4e64-8674-564a0fe59796",
   "metadata": {},
   "outputs": [
    {
     "name": "stdout",
     "output_type": "stream",
     "text": [
      "2\n"
     ]
    }
   ],
   "source": [
    "# 5. weekday(year, month, day) - Returns the weekday number for a date.\n",
    "import calendar\n",
    "print(calendar.weekday(2002,12,11))"
   ]
  },
  {
   "cell_type": "code",
   "execution_count": 42,
   "id": "7a6cf34a-700b-4cf5-97ed-6822f6d3fc4c",
   "metadata": {},
   "outputs": [
    {
     "name": "stdout",
     "output_type": "stream",
     "text": [
      "   Saturday        Sunday         Monday        Tuesday       Wednesday       Thursday        Friday    \n"
     ]
    }
   ],
   "source": [
    "# 6. weekheader(n) - Returns a header with abbreviated weekday names.\n",
    "import calendar\n",
    "print(calendar.weekheader(14))"
   ]
  },
  {
   "cell_type": "code",
   "execution_count": 43,
   "id": "3c95ab50-d01e-4409-9318-05bdd25decf2",
   "metadata": {},
   "outputs": [
    {
     "name": "stdout",
     "output_type": "stream",
     "text": [
      "(6, 31)\n"
     ]
    }
   ],
   "source": [
    "# 7. monthrange(year, month) - Returns the starting weekday number and no. of\n",
    "#                              days in the month.\n",
    "import calendar\n",
    "print(calendar.monthrange(2024,12))"
   ]
  },
  {
   "cell_type": "code",
   "execution_count": 44,
   "id": "71223cf3-87ce-4e63-be3d-a202cd65830d",
   "metadata": {},
   "outputs": [
    {
     "name": "stdout",
     "output_type": "stream",
     "text": [
      "[[0, 1, 2, 3, 4, 5, 6], [7, 8, 9, 10, 11, 12, 13], [14, 15, 16, 17, 18, 19, 20], [21, 22, 23, 24, 25, 26, 27], [28, 29, 30, 31, 0, 0, 0]]\n"
     ]
    }
   ],
   "source": [
    "# 8. monthcalendar(year, month) - Returns a matrix representing the month's\n",
    "#                                 calendar.\n",
    "import calendar\n",
    "print(calendar.monthcalendar(2024,12))"
   ]
  },
  {
   "cell_type": "code",
   "execution_count": 45,
   "id": "098e9e5b-c7fa-4e53-a336-223a8d869d97",
   "metadata": {},
   "outputs": [
    {
     "name": "stdout",
     "output_type": "stream",
     "text": [
      "   December 2024\n",
      "Sa Su Mo Tu We Th Fr\n",
      "    1  2  3  4  5  6\n",
      " 7  8  9 10 11 12 13\n",
      "14 15 16 17 18 19 20\n",
      "21 22 23 24 25 26 27\n",
      "28 29 30 31\n",
      "None\n"
     ]
    }
   ],
   "source": [
    "# 9. prmonth(year, month) - Prints the Calendar month.\n",
    "# Syntax : prmonth(theyear, themonth, w=0, l=0)\n",
    "import calendar\n",
    "print(calendar.prmonth(2024,12))"
   ]
  },
  {
   "cell_type": "code",
   "execution_count": 47,
   "id": "aea56e3d-c218-44cb-9312-e0c5cc62698a",
   "metadata": {},
   "outputs": [
    {
     "name": "stdout",
     "output_type": "stream",
     "text": [
      "                                  2024\n",
      "\n",
      "      January                   February                   March\n",
      "Sa Su Mo Tu We Th Fr      Sa Su Mo Tu We Th Fr      Sa Su Mo Tu We Th Fr\n",
      "       1  2  3  4  5                      1  2                         1\n",
      " 6  7  8  9 10 11 12       3  4  5  6  7  8  9       2  3  4  5  6  7  8\n",
      "13 14 15 16 17 18 19      10 11 12 13 14 15 16       9 10 11 12 13 14 15\n",
      "20 21 22 23 24 25 26      17 18 19 20 21 22 23      16 17 18 19 20 21 22\n",
      "27 28 29 30 31            24 25 26 27 28 29         23 24 25 26 27 28 29\n",
      "                                                    30 31\n",
      "\n",
      "       April                      May                       June\n",
      "Sa Su Mo Tu We Th Fr      Sa Su Mo Tu We Th Fr      Sa Su Mo Tu We Th Fr\n",
      "       1  2  3  4  5                   1  2  3       1  2  3  4  5  6  7\n",
      " 6  7  8  9 10 11 12       4  5  6  7  8  9 10       8  9 10 11 12 13 14\n",
      "13 14 15 16 17 18 19      11 12 13 14 15 16 17      15 16 17 18 19 20 21\n",
      "20 21 22 23 24 25 26      18 19 20 21 22 23 24      22 23 24 25 26 27 28\n",
      "27 28 29 30               25 26 27 28 29 30 31      29 30\n",
      "\n",
      "        July                     August                  September\n",
      "Sa Su Mo Tu We Th Fr      Sa Su Mo Tu We Th Fr      Sa Su Mo Tu We Th Fr\n",
      "       1  2  3  4  5                      1  2          1  2  3  4  5  6\n",
      " 6  7  8  9 10 11 12       3  4  5  6  7  8  9       7  8  9 10 11 12 13\n",
      "13 14 15 16 17 18 19      10 11 12 13 14 15 16      14 15 16 17 18 19 20\n",
      "20 21 22 23 24 25 26      17 18 19 20 21 22 23      21 22 23 24 25 26 27\n",
      "27 28 29 30 31            24 25 26 27 28 29 30      28 29 30\n",
      "                          31\n",
      "\n",
      "      October                   November                  December\n",
      "Sa Su Mo Tu We Th Fr      Sa Su Mo Tu We Th Fr      Sa Su Mo Tu We Th Fr\n",
      "          1  2  3  4                         1          1  2  3  4  5  6\n",
      " 5  6  7  8  9 10 11       2  3  4  5  6  7  8       7  8  9 10 11 12 13\n",
      "12 13 14 15 16 17 18       9 10 11 12 13 14 15      14 15 16 17 18 19 20\n",
      "19 20 21 22 23 24 25      16 17 18 19 20 21 22      21 22 23 24 25 26 27\n",
      "26 27 28 29 30 31         23 24 25 26 27 28 29      28 29 30 31\n",
      "                          30\n",
      "None\n"
     ]
    }
   ],
   "source": [
    "# 10. prcal(year) - Prints the calendar for a year.\n",
    "# prcal(year, w=0, l=0, c=6, m=3)\n",
    "import calendar\n",
    "print(calendar.prcal(2024,))"
   ]
  },
  {
   "cell_type": "code",
   "execution_count": 50,
   "id": "e0831bad-d460-4b95-bc93-dc9729d7cf23",
   "metadata": {},
   "outputs": [
    {
     "name": "stdout",
     "output_type": "stream",
     "text": [
      "   December 2024\n",
      "\n",
      "Sa Su Mo Tu We Th Fr\n",
      "\n",
      "    1  2  3  4  5  6\n",
      "\n",
      " 7  8  9 10 11 12 13\n",
      "\n",
      "14 15 16 17 18 19 20\n",
      "\n",
      "21 22 23 24 25 26 27\n",
      "\n",
      "28 29 30 31\n",
      "\n",
      "\n"
     ]
    }
   ],
   "source": [
    "# 11. month(year, month) - Prints the month of a specific year.\n",
    "# Syntax : month(theyear, themonth, w=0, l=0)\n",
    "import calendar\n",
    "print(calendar.month(2024,12,w=2,l=2))"
   ]
  },
  {
   "cell_type": "code",
   "execution_count": 54,
   "id": "478c0dae-1d8e-40bb-a6c4-89ad84643e38",
   "metadata": {},
   "outputs": [
    {
     "name": "stdout",
     "output_type": "stream",
     "text": [
      "                                                                  2024\n",
      "\n",
      "\n",
      "\n",
      "      January                February                March                  April                   May                    June\n",
      "\n",
      "Sa Su Mo Tu We Th Fr   Sa Su Mo Tu We Th Fr   Sa Su Mo Tu We Th Fr   Sa Su Mo Tu We Th Fr   Sa Su Mo Tu We Th Fr   Sa Su Mo Tu We Th Fr\n",
      "\n",
      "       1  2  3  4  5                   1  2                      1          1  2  3  4  5                1  2  3    1  2  3  4  5  6  7\n",
      "\n",
      " 6  7  8  9 10 11 12    3  4  5  6  7  8  9    2  3  4  5  6  7  8    6  7  8  9 10 11 12    4  5  6  7  8  9 10    8  9 10 11 12 13 14\n",
      "\n",
      "13 14 15 16 17 18 19   10 11 12 13 14 15 16    9 10 11 12 13 14 15   13 14 15 16 17 18 19   11 12 13 14 15 16 17   15 16 17 18 19 20 21\n",
      "\n",
      "20 21 22 23 24 25 26   17 18 19 20 21 22 23   16 17 18 19 20 21 22   20 21 22 23 24 25 26   18 19 20 21 22 23 24   22 23 24 25 26 27 28\n",
      "\n",
      "27 28 29 30 31         24 25 26 27 28 29      23 24 25 26 27 28 29   27 28 29 30            25 26 27 28 29 30 31   29 30\n",
      "\n",
      "                                              30 31\n",
      "\n",
      "\n",
      "\n",
      "        July                  August               September               October                November               December\n",
      "\n",
      "Sa Su Mo Tu We Th Fr   Sa Su Mo Tu We Th Fr   Sa Su Mo Tu We Th Fr   Sa Su Mo Tu We Th Fr   Sa Su Mo Tu We Th Fr   Sa Su Mo Tu We Th Fr\n",
      "\n",
      "       1  2  3  4  5                   1  2       1  2  3  4  5  6             1  2  3  4                      1       1  2  3  4  5  6\n",
      "\n",
      " 6  7  8  9 10 11 12    3  4  5  6  7  8  9    7  8  9 10 11 12 13    5  6  7  8  9 10 11    2  3  4  5  6  7  8    7  8  9 10 11 12 13\n",
      "\n",
      "13 14 15 16 17 18 19   10 11 12 13 14 15 16   14 15 16 17 18 19 20   12 13 14 15 16 17 18    9 10 11 12 13 14 15   14 15 16 17 18 19 20\n",
      "\n",
      "20 21 22 23 24 25 26   17 18 19 20 21 22 23   21 22 23 24 25 26 27   19 20 21 22 23 24 25   16 17 18 19 20 21 22   21 22 23 24 25 26 27\n",
      "\n",
      "27 28 29 30 31         24 25 26 27 28 29 30   28 29 30               26 27 28 29 30 31      23 24 25 26 27 28 29   28 29 30 31\n",
      "\n",
      "                       31                                                                   30\n",
      "\n",
      "\n"
     ]
    }
   ],
   "source": [
    "# 12. calendar(year) - Displays the calendar for the given year.\n",
    "# Syntax : calendar(year, w=2, l=1, c=6, m=3)\n",
    "import calendar\n",
    "print(calendar.calendar(2024,w=2,l=2,c=3,m=6))"
   ]
  }
 ],
 "metadata": {
  "kernelspec": {
   "display_name": "Python 3 (ipykernel)",
   "language": "python",
   "name": "python3"
  },
  "language_info": {
   "codemirror_mode": {
    "name": "ipython",
    "version": 3
   },
   "file_extension": ".py",
   "mimetype": "text/x-python",
   "name": "python",
   "nbconvert_exporter": "python",
   "pygments_lexer": "ipython3",
   "version": "3.8.2"
  }
 },
 "nbformat": 4,
 "nbformat_minor": 5
}
