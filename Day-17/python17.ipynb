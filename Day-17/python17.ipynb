{
 "cells": [
  {
   "cell_type": "raw",
   "id": "00cbe35e-ba0f-485a-804c-0a02067b7736",
   "metadata": {},
   "source": [
    "# DateTime Module\n",
    "\"\"\"\n",
    "DateTime Module is a built-in module that supplies class to work with Date\n",
    "and Time.\n",
    "These classes provides several functions to deal with dates, times and time\n",
    "intervals.\n",
    "This module is categorized into 6 main classes :\n",
    "1. date\n",
    "2. time\n",
    "3. datetime\n",
    "4. timedelta\n",
    "5. tzinfo\n",
    "6. timezone\n",
    "\"\"\"\n",
    "# 1. Date Class from DateTime module\n",
    "\"\"\"\n",
    "Date Class : An idealized naive date, assuming the current Gregorian Calendar\n",
    "always was and always will be. It's attributes are year, month & day.\n",
    "This class represents date in the format of 'YYYY-MM-DD'. The Constructor of\n",
    "this class needs 3 mandatory arguements : 1. year\n",
    "                                          2. month\n",
    "                                          3. date\n",
    "Syntax : class datetime.date(year, month, date)\n",
    "Range of arguements :\n",
    "for year  - 1 <= year <= MAXYEAR\n",
    "for month - 1 <= month <= 12\n",
    "for date  - 1 <= day <= no. of days in the given month/year.\n",
    "\n",
    "If range exceeds it will cause 'TypeError'.\n",
    "\"\"\""
   ]
  },
  {
   "cell_type": "code",
   "execution_count": 1,
   "id": "bdf37921-0d8e-4216-80c1-94294cd5b3fd",
   "metadata": {},
   "outputs": [
    {
     "name": "stdout",
     "output_type": "stream",
     "text": [
      "2002-12-11\n"
     ]
    }
   ],
   "source": [
    "from datetime import date\n",
    "a=date(2002,12,11)\n",
    "print(a)"
   ]
  },
  {
   "cell_type": "code",
   "execution_count": 2,
   "id": "4d347d56-5a36-4515-9ab2-cf6641fc9e20",
   "metadata": {},
   "outputs": [
    {
     "name": "stdout",
     "output_type": "stream",
     "text": [
      "2024-07-20\n"
     ]
    }
   ],
   "source": [
    "from datetime import date\n",
    "a=date.today()\n",
    "print(a)"
   ]
  },
  {
   "cell_type": "code",
   "execution_count": 4,
   "id": "6b0fa1d4-73e6-4d79-ba48-65ed5f24ebd1",
   "metadata": {},
   "outputs": [
    {
     "name": "stdout",
     "output_type": "stream",
     "text": [
      "year: 2024\n",
      "Month: 7\n",
      "day: 20\n"
     ]
    }
   ],
   "source": [
    "from datetime import date\n",
    "a=date.today()\n",
    "print(\"year:\",a.year)\n",
    "print(\"Month:\",a.month)\n",
    "print(\"day:\",a.day)"
   ]
  },
  {
   "cell_type": "raw",
   "id": "dcd1f434-21f4-46df-9fda-b1380c26ba3d",
   "metadata": {},
   "source": [
    "# To get date from TimeStamp\n",
    "\"\"\"\n",
    "We can create date objects from timestamps using the fromtimestamp() method.\n",
    "The timestamp is the no. of seconds from 1st January 1970 at UTC (Coordinated\n",
    "Universal Time) to a particular Date.\n",
    "\"\"\""
   ]
  },
  {
   "cell_type": "code",
   "execution_count": 7,
   "id": "4f738be7-3ace-4437-a9e7-668a58fd1ad8",
   "metadata": {},
   "outputs": [
    {
     "name": "stdout",
     "output_type": "stream",
     "text": [
      "1970-08-21 13:03:44\n"
     ]
    }
   ],
   "source": [
    "from datetime import datetime\n",
    "a=datetime.fromtimestamp(20072024)\n",
    "print(a)"
   ]
  },
  {
   "cell_type": "code",
   "execution_count": 8,
   "id": "4c758289-c99f-47ca-95db-ecde8ed776e4",
   "metadata": {},
   "outputs": [
    {
     "name": "stdout",
     "output_type": "stream",
     "text": [
      "DateTime from timestamp : 2029-10-25 21:47:48\n"
     ]
    }
   ],
   "source": [
    "from datetime import datetime\n",
    "\n",
    "date_time = datetime.fromtimestamp(1887639468)\n",
    "print(\"DateTime from timestamp :\", date_time)\n"
   ]
  },
  {
   "cell_type": "raw",
   "id": "4573fa2a-932f-440f-8197-bacce226b19d",
   "metadata": {},
   "source": [
    "# To convert Date to String\n",
    "\"\"\"\n",
    "We can convert date object to a string representation using 2 functions :\n",
    "1. isoformat()\n",
    "2. strftime()\n",
    "\"\"\""
   ]
  },
  {
   "cell_type": "code",
   "execution_count": 10,
   "id": "1cf96547-56a3-4584-b374-0816b6a542a7",
   "metadata": {},
   "outputs": [
    {
     "name": "stdout",
     "output_type": "stream",
     "text": [
      "2024-07-20\n",
      "<class 'str'>\n"
     ]
    }
   ],
   "source": [
    "from datetime import date\n",
    "a=date.today()\n",
    "stra=date.isoformat(a)\n",
    "print(stra)\n",
    "print(type(stra))"
   ]
  },
  {
   "cell_type": "raw",
   "id": "f7f3c2ca-7b20-4b10-a3cb-b3461d900acb",
   "metadata": {},
   "source": [
    "# 2. Time Class from DateTime Module\n",
    "\"\"\"\n",
    "An idealized time, independent of any particular day, assuming that every day\n",
    "has exactly 24*60*60. It's attributes are hour, minute, second, microsecond &\n",
    "tzinfo.\n",
    "\n",
    "Python Time Class : It creates time object which represent local time,\n",
    "independent of any day.\n",
    "Constructor Syntax : class datetime.time(hour=0, minute=0, second=0,\n",
    "microsecond=0, tzinfo=None, *, fold=0)\n",
    "\n",
    "All the arguements are Optional. tzinfo can be None. Otherwise all the\n",
    "attributes must be integer in the following Range :\n",
    "0 <= hour < 24\n",
    "0 <= minute < 60\n",
    "0 <= second < 60\n",
    "0 <= microsecond < 1000000\n",
    "fold in [0, 1]\n",
    "\"\"\"\n"
   ]
  },
  {
   "cell_type": "code",
   "execution_count": 4,
   "id": "ce28d2f9-9aa7-40e1-a635-21a74148d5f9",
   "metadata": {},
   "outputs": [
    {
     "name": "stdout",
     "output_type": "stream",
     "text": [
      "time is : 18:18:24\n",
      "time is : 00:55:00\n",
      "00:00:00\n"
     ]
    }
   ],
   "source": [
    "from datetime import time\n",
    "a=time(18,18,24)\n",
    "print(\"time is :\",a)\n",
    "a=time(minute=55)\n",
    "print(\"time is :\",a)\n",
    "a=time()\n",
    "print(a)"
   ]
  },
  {
   "cell_type": "code",
   "execution_count": 10,
   "id": "cce1ff40-516a-466c-aafd-d73c199114aa",
   "metadata": {},
   "outputs": [
    {
     "name": "stdout",
     "output_type": "stream",
     "text": [
      "19:05:09.686915\n"
     ]
    }
   ],
   "source": [
    "from datetime import datetime\n",
    "a=datetime.now().time()\n",
    "print(a)"
   ]
  },
  {
   "cell_type": "code",
   "execution_count": 15,
   "id": "c47d698f-b15c-41a2-bc30-c68e1f30cd55",
   "metadata": {},
   "outputs": [
    {
     "name": "stdout",
     "output_type": "stream",
     "text": [
      "Hour: 19\n",
      "Minute: 50\n",
      "Seconds: 11\n",
      "Milliseconds: 20\n"
     ]
    }
   ],
   "source": [
    "from datetime import time\n",
    "a=time(19,50,11,20)\n",
    "print(\"Hour:\",a.hour)\n",
    "print(\"Minute:\",a.minute)\n",
    "print(\"Seconds:\",a.second)\n",
    "print(\"Milliseconds:\",a.microsecond)"
   ]
  },
  {
   "cell_type": "code",
   "execution_count": 16,
   "id": "56b85dcf-a51e-4b38-a06a-77017a24ace5",
   "metadata": {},
   "outputs": [
    {
     "name": "stdout",
     "output_type": "stream",
     "text": [
      "String Representation : 12:24:36.001212\n",
      "<class 'type'>\n"
     ]
    }
   ],
   "source": [
    "from datetime import time\n",
    "\n",
    "Time = time(12, 24, 36, 1212)\n",
    "str_time = Time.isoformat()\n",
    "\n",
    "print(\"String Representation :\", str_time)\n",
    "print(type(str))"
   ]
  },
  {
   "cell_type": "raw",
   "id": "5c268ab6-011c-43ac-95e7-e977112dba36",
   "metadata": {},
   "source": [
    "# 3. DateTime class from DataTime Module\n",
    "\"\"\"\n",
    "DateTime Class : It is a combination of date & time along with the attributes\n",
    "year, month, day, hour, minute, second, microsecond & tzinfo.\n",
    "\n",
    "DateTime class contains information on both date & time. Like a date object,\n",
    "datetime assumes the current Gregorian Calendar extended in both directions,\n",
    "Like a time object, datetime assumes there are exactly 3600*24 seconds in every\n",
    "day.\n",
    "Constructor Syntax : class datetime.datetime(year, month, day, hour=0, minute=0,\n",
    "second=0, microsecond=0, tzinfo=None, *, fold=0)\n",
    "Here, year, month & day arguements are mandatory. tzinfo can be None, rest\n",
    "attributes must be an integer in the following range :\n",
    "MINYEAR <= year <= MAXYEAR\n",
    "1 <= month <= 12\n",
    "1 <= day <= no. of days in the given month & year\n",
    "0 <= hour < 24\n",
    "0 <= minute < 60\n",
    "0 <= second < 60\n",
    "0 <= microsecond < 1000000\n",
    "fold in [0, 1]\n",
    "\n",
    "Otherthan integer type results 'TypeError'\n",
    "Out of Range results 'ValueError'\n",
    "\"\"\""
   ]
  },
  {
   "cell_type": "code",
   "execution_count": 29,
   "id": "20fec71a-b5ac-4554-a33b-6b25de536916",
   "metadata": {},
   "outputs": [
    {
     "name": "stdout",
     "output_type": "stream",
     "text": [
      "2002-12-11 00:00:00\n",
      "2002-12-11 03:30:12.025000\n"
     ]
    }
   ],
   "source": [
    "from datetime import datetime\n",
    "a=datetime(2002,12,11)\n",
    "print(a)\n",
    "b=datetime(2002,12,11,3,30,12,25000)\n",
    "print(b)"
   ]
  },
  {
   "cell_type": "code",
   "execution_count": 30,
   "id": "f1084b00-1981-4d11-9dd8-0fea3ee6e761",
   "metadata": {},
   "outputs": [
    {
     "name": "stdout",
     "output_type": "stream",
     "text": [
      "Year : 2002\n",
      "Month : 12\n",
      "Day : 11\n",
      "Timestamp : 1039557612.0\n"
     ]
    }
   ],
   "source": [
    "from datetime import datetime\n",
    "a=datetime(2002,12,11,3,30,12)\n",
    "print(\"Year :\",a.year)\n",
    "print(\"Month :\",a.month)\n",
    "print(\"Day :\",a.day)\n",
    "print(\"Timestamp :\",a.timestamp())"
   ]
  },
  {
   "cell_type": "code",
   "execution_count": 31,
   "id": "3dfdd22b-c348-43f2-9d6e-8399334caa17",
   "metadata": {},
   "outputs": [
    {
     "name": "stdout",
     "output_type": "stream",
     "text": [
      "today date and current time is : 2024-07-21 19:17:29.488053\n"
     ]
    }
   ],
   "source": [
    "from datetime import datetime\n",
    "a=datetime.now()\n",
    "print(\"today date and current time is :\",a)"
   ]
  },
  {
   "cell_type": "code",
   "execution_count": 32,
   "id": "748e2299-60a7-4975-8420-d11ff3ce697d",
   "metadata": {},
   "outputs": [
    {
     "name": "stdout",
     "output_type": "stream",
     "text": [
      "2024-07-21T19:19:35.717008\n",
      "<class 'str'>\n"
     ]
    }
   ],
   "source": [
    "from datetime import datetime\n",
    "a=datetime.now()\n",
    "stra=datetime.isoformat(a)\n",
    "print(stra)\n",
    "print(type(stra))"
   ]
  },
  {
   "cell_type": "raw",
   "id": "d580c955-3e91-48be-abf8-573e44d52290",
   "metadata": {},
   "source": [
    "\"\"\"\n",
    "In different countries the format of date is of different like date canbe of\n",
    "format either 'dd-mm-yyyy' or can also be 'yyyy-mm-dd'.\n",
    "To format datetime we have 2 functions : 1. strftime()\n",
    "                                         2. strptime()\n",
    "\"\"\"\n",
    "# 1. Python DateTime strftime\n",
    "\"\"\"\n",
    "strftime() method converts the given date, time or datetime object to the\n",
    "string representation of the given format.\n",
    "\"\"\"\n"
   ]
  },
  {
   "cell_type": "code",
   "execution_count": 34,
   "id": "fbecd781-ddb3-460b-9e51-6356c76f4373",
   "metadata": {},
   "outputs": [
    {
     "name": "stdout",
     "output_type": "stream",
     "text": [
      "2024-07-21 19:27:08.387690\n",
      "Sunday 27 2024\n",
      "Sun 07 24\n",
      "07 PM 08\n",
      "19 27 08\n"
     ]
    }
   ],
   "source": [
    "from datetime import datetime\n",
    "a=datetime.now()\n",
    "print(a)\n",
    "b=a.strftime(\"%A %M %Y\")\n",
    "print(b)\n",
    "b=a.strftime(\"%a %m %y\")\n",
    "print(b)\n",
    "b=a.strftime(\"%I %p %S\")\n",
    "print(b)\n",
    "b=a.strftime(\"%H %M %S\")\n",
    "print(b)"
   ]
  },
  {
   "cell_type": "raw",
   "id": "cf474431-394f-4635-b8f9-05a67f02dd47",
   "metadata": {},
   "source": [
    "# 2. Python DateTime strptime\n",
    "\"\"\"\n",
    "strptime() method creates a DateTime Object from the given String.\n",
    "\"\"\""
   ]
  },
  {
   "cell_type": "code",
   "execution_count": 50,
   "id": "f869eb37-e225-4fc3-b120-74106c3bb24b",
   "metadata": {},
   "outputs": [
    {
     "name": "stdout",
     "output_type": "stream",
     "text": [
      "2002-12-11 02:35:08.023000\n",
      "2002-12-12 12:45:00.003000\n",
      "2002-12-13 07:35:05.523000\n",
      "2002-12-14 05:15:55.523000\n"
     ]
    }
   ],
   "source": [
    "from datetime import datetime\n",
    "a=[\"11/12/02 02:35:8.023\",\"12/12/02 12:45:0.003\",\"13/12/02 07:35:5.523\",\"14/12/02 05:15:55.523\"]\n",
    "b=\"%d/%m/%y %H:%M:%S.%f\"\n",
    "for c in a:\n",
    "    print(datetime.strptime(c,b))"
   ]
  },
  {
   "cell_type": "raw",
   "id": "4c27a162-3eb1-4aca-839f-0fcd3e90656a",
   "metadata": {},
   "source": [
    "# 4. TimeDelta Class from DateTime Module\n",
    "\"\"\"\n",
    "TimeDelta Class : A duration expressing the difference between two date, time\n",
    "or datetime instances to microsecond resolution.\n",
    "\n",
    "Python timedelta class is used for calculating differences in dates and also\n",
    "can be used for date manipulations in Python. It is one of the easiest ways to\n",
    "perform date manipulations.\n",
    "Constructor Syntax : class datetime.timedelta(days=0, seconds=0,\n",
    "microseconds=0, milliseconds=0, minutes=0, hours=0, weeks=0)\n",
    "Returns Date.\n",
    "\"\"\""
   ]
  },
  {
   "cell_type": "code",
   "execution_count": 51,
   "id": "2f5c063d-8442-44f6-9736-3af4c26d77a0",
   "metadata": {},
   "outputs": [
    {
     "name": "stdout",
     "output_type": "stream",
     "text": [
      "2024-07-21 19:59:27.431458\n",
      "2026-07-21 19:59:27.431458\n",
      "2024-07-25 19:59:27.431458\n"
     ]
    }
   ],
   "source": [
    "from datetime import datetime,timedelta\n",
    "a=datetime.now()\n",
    "print(a)\n",
    "a_after_2years=a+timedelta(730)\n",
    "a_after_4days=a+timedelta(4)\n",
    "print(a_after_2years)\n",
    "print(a_after_4days)"
   ]
  },
  {
   "cell_type": "code",
   "execution_count": 57,
   "id": "1e3d8bcf-a1d2-4163-a156-eb9ec432f9b9",
   "metadata": {},
   "outputs": [
    {
     "name": "stdout",
     "output_type": "stream",
     "text": [
      "current time : 2024-07-21 20:07:01.886886\n",
      "Future time : 2024-07-23 20:07:01.886886\n",
      "Time Difference : 2 days, 0:00:00\n"
     ]
    }
   ],
   "source": [
    "from datetime import datetime,timedelta\n",
    "a=datetime.now()\n",
    "print(\"current time :\",str(a))\n",
    "b=a + timedelta(days=2)\n",
    "print(\"Future time :\",str(b))\n",
    "print(\"Time Difference :\",str(b-a))"
   ]
  },
  {
   "cell_type": "code",
   "execution_count": 55,
   "id": "ca095209-576e-4d9c-aba0-819fc71b746d",
   "metadata": {},
   "outputs": [
    {
     "name": "stdout",
     "output_type": "stream",
     "text": [
      "Initial Date : 2024-07-21 20:04:17.358115\n",
      "New Final time : 2024-07-23 20:04:17.358115\n",
      "Time Difference : 2 days, 0:00:00\n"
     ]
    }
   ],
   "source": [
    "from datetime import datetime, timedelta\n",
    "\n",
    "ini_time_for_now = datetime.now()\n",
    "print(\"Initial Date :\", str(ini_time_for_now))\n",
    "\n",
    "new_final_time = ini_time_for_now + \\\n",
    "    timedelta(days=2)\n",
    "print(\"New Final time :\", str(new_final_time))\n",
    "print(\"Time Difference :\", str(new_final_time - ini_time_for_now))\n"
   ]
  },
  {
   "cell_type": "raw",
   "id": "378b3e66-8249-4de4-982c-d414e5ccacd8",
   "metadata": {},
   "source": [
    "# 7. tzinfo class from DateTime Module\n",
    "\"\"\"\n",
    "tzinfo - It provides timezone information objects.\n",
    "\n",
    "DateTime.tzinfo() : datetime.now() contains no information regarding timezones.\n",
    "It only makes use of the current System time. tzinfo is an abstract base class\n",
    "in Python. It cannot be directly instantiated. A concrete subclass must derive\n",
    "from this abstract class and implement the methods offered by it.\n",
    "\n",
    "The tzinfo class instance can be provided to the DateTime and time object\n",
    "constructors. It is used in scenarios such as converting local time to UTC or\n",
    "accounting for daylight savings time.\n",
    "\"\"\""
   ]
  },
  {
   "cell_type": "code",
   "execution_count": 2,
   "id": "335c8ee4-6b34-439d-b139-20f9312b2325",
   "metadata": {},
   "outputs": [
    {
     "name": "stdout",
     "output_type": "stream",
     "text": [
      "datetime.now() : India Standard Time\n",
      "Naive Object : None\n",
      "Aware Object : None\n"
     ]
    }
   ],
   "source": [
    "import datetime as dt\n",
    "from dateutil import tz\n",
    "\n",
    "tz_string = dt.datetime.now(dt.timezone.utc).astimezone().tzname()\n",
    "\n",
    "print(\"datetime.now() :\", tz_string)\n",
    "NYC = tz.gettz(\"Europe / Berlin\")\n",
    "dt1 = dt.datetime(2022, 5, 21, 12, 0)\n",
    "dt2 = dt.datetime(2022, 12, 21, 12, 0, tzinfo=NYC)\n",
    "\n",
    "print(\"Naive Object :\", dt1.tzname())\n",
    "print(\"Aware Object :\", dt2.tzname())"
   ]
  },
  {
   "cell_type": "raw",
   "id": "0c6429c9-d7e2-4840-ad85-913962546007",
   "metadata": {},
   "source": [
    "# 6. TimeZone class from DateTime Module\n",
    "\"\"\"\n",
    "TimeZone Class : A class that implements the tzinfo abstract base class as a\n",
    "fixed offset from the UTC (Coordinated Universal Time).\n",
    "\n",
    "Time Zones in DateTime can be  used in the case where one might want to display\n",
    "time according to the time zone of a specific region. This can be done using\n",
    "the pytz module of Python. This module serves the date-time conversion\n",
    "functionalities and helps users serving international client bases.\n",
    "\"\"\""
   ]
  },
  {
   "cell_type": "code",
   "execution_count": 6,
   "id": "0bdc2610-feb8-4ad3-93da-4fe187540e7f",
   "metadata": {},
   "outputs": [
    {
     "name": "stdout",
     "output_type": "stream",
     "text": [
      "2024-07-21 14:52:58 UTC+0000\n",
      "2024-07-21 20:22:58 IST+0530\n",
      "2024-07-21 17:52:58 EEST+0300\n",
      "2024-07-21 10:52:58 EDT-0400\n"
     ]
    }
   ],
   "source": [
    "from datetime import datetime\n",
    "from pytz import timezone\n",
    "a=\"%Y-%m-%d %H:%M:%S %Z%z\"\n",
    "b=datetime.now(timezone(\"UTC\"))\n",
    "print(b.strftime(a))\n",
    "c=['Asia/kolkata','Europe/kiev','America/New_York']\n",
    "for d in c:\n",
    "    e=b.astimezone(timezone(d))\n",
    "    print(e.strftime(a))"
   ]
  },
  {
   "cell_type": "code",
   "execution_count": null,
   "id": "f0a03450-adf0-4998-81fb-52fb5c4ccd3e",
   "metadata": {},
   "outputs": [],
   "source": []
  }
 ],
 "metadata": {
  "kernelspec": {
   "display_name": "Python 3 (ipykernel)",
   "language": "python",
   "name": "python3"
  },
  "language_info": {
   "codemirror_mode": {
    "name": "ipython",
    "version": 3
   },
   "file_extension": ".py",
   "mimetype": "text/x-python",
   "name": "python",
   "nbconvert_exporter": "python",
   "pygments_lexer": "ipython3",
   "version": "3.8.2"
  }
 },
 "nbformat": 4,
 "nbformat_minor": 5
}
