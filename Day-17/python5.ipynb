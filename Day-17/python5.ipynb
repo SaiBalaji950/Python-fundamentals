{
 "cells": [
  {
   "cell_type": "code",
   "execution_count": 3,
   "id": "6fc9e2a0-3a60-4a07-a04a-e46fb54ea435",
   "metadata": {},
   "outputs": [
    {
     "name": "stdout",
     "output_type": "stream",
     "text": [
      "1\n",
      "2\n",
      "3\n",
      "4\n",
      "5\n",
      "6\n",
      "7\n",
      "8\n",
      "9\n",
      "11\n",
      "12\n",
      "13\n",
      "14\n"
     ]
    }
   ],
   "source": [
    "a = 1\n",
    "while a <= 14:\n",
    "    if a == 10:\n",
    "        a += 1\n",
    "        continue\n",
    "    print(a)\n",
    "    a += 1"
   ]
  },
  {
   "cell_type": "code",
   "execution_count": null,
   "id": "f1250acb-a572-46f7-bc19-691949250600",
   "metadata": {},
   "outputs": [],
   "source": [
    "#bulit-in functions and modules\n",
    "The Python interpreter has a number of built-in functions.\n",
    "They are loaded automatically as interpreter starts and are always available.\n",
    "For Example : print() and input() for I/O, number conversion functions int(),\n",
    "float() & complex(), data type conversions list(), tuple(), set() etc.,\n",
    "In addition to built-in functions, a large number of pre-defined functions are\n",
    "also available as a part of libraries bundled with Python distributions.\n",
    "These functions are defined as 'modules'.\n",
    "A 'Module' is a file containing definitions of functions, classes, variables,\n",
    "constants or any other Python Objects. Contents of this file can be made for\n",
    "the availability to any other Program. The standard library also contains many\n",
    "Python scripts(with the '.py' extention) containing useful utilities.\n",
    "To check the bult-in modules open python command prompt and type\n",
    ">>> help('modules')"
   ]
  },
  {
   "cell_type": "code",
   "execution_count": null,
   "id": "d84822e2-91f4-4d2e-9b4b-8aae32054e07",
   "metadata": {},
   "outputs": [],
   "source": [
    "#math module\n",
    "Some of the most popular mathematical functions are defined in the 'math'\n",
    "module.\n",
    "This module includes trigonometric functions, representation functions,\n",
    "logarithmic functions, angle conversion functions, etc.,\n",
    "In addition, two mathematical constants are also defined in this module\n",
    "1. Pie (𝜋) - defined as the ratio of the circumference to the diameter of a\n",
    "circle and it's value is 3.141592653589793\n",
    "2. e (Euler's number) - It is a base of the natural logarithm and it's\n",
    "value is 2.718281828459045"
   ]
  },
  {
   "cell_type": "code",
   "execution_count": 9,
   "id": "ab4678c5-f018-4742-a267-28b9d663be17",
   "metadata": {},
   "outputs": [
    {
     "name": "stdout",
     "output_type": "stream",
     "text": [
      "3.141592653589793\n",
      "2.718281828459045\n"
     ]
    }
   ],
   "source": [
    "import math\n",
    "print(math.pi)\n",
    "print(math.e)"
   ]
  },
  {
   "cell_type": "code",
   "execution_count": 12,
   "id": "6fdee128-bf92-43e2-a9a3-e4fc16d057e6",
   "metadata": {},
   "outputs": [
    {
     "name": "stdout",
     "output_type": "stream",
     "text": [
      "0.0\n",
      "0.5235987755982988\n",
      "0.7853981633974483\n",
      "1.0471975511965976\n",
      "1.5707963267948966\n"
     ]
    }
   ],
   "source": [
    "import math\n",
    "print(math.radians(0))\n",
    "print(math.radians(30))\n",
    "print(math.radians(45))\n",
    "print(math.radians(60))\n",
    "print(math.radians(90))"
   ]
  },
  {
   "cell_type": "code",
   "execution_count": 15,
   "id": "d31bf4c1-9596-4f67-956a-a955f210f114",
   "metadata": {},
   "outputs": [
    {
     "name": "stdout",
     "output_type": "stream",
     "text": [
      "90.0\n",
      "59.99999999999999\n",
      "29.999999999999996\n"
     ]
    }
   ],
   "source": [
    "import math\n",
    "print(math.degrees(math.pi/2))\n",
    "print(math.degrees(math.pi/3))\n",
    "print(math.degrees(math.pi/6))"
   ]
  },
  {
   "cell_type": "code",
   "execution_count": 16,
   "id": "14eb9fbc-1067-4db2-956a-70cd9a173d76",
   "metadata": {},
   "outputs": [
    {
     "name": "stdout",
     "output_type": "stream",
     "text": [
      "0.0\n",
      "0.49999999999999994\n",
      "0.7071067811865476\n",
      "0.8660254037844386\n",
      "1.0\n"
     ]
    }
   ],
   "source": [
    "print(math.sin(0.0))\n",
    "print(math.sin(0.5235987755982988))\n",
    "print(math.sin(0.7853981633974483))\n",
    "print(math.sin(1.0471975511965976))\n",
    "print(math.sin(1.5707963267948966))"
   ]
  },
  {
   "cell_type": "code",
   "execution_count": 18,
   "id": "bcc63b3c-71ee-4533-aebe-e3b482622b12",
   "metadata": {},
   "outputs": [
    {
     "name": "stdout",
     "output_type": "stream",
     "text": [
      "4.605170185988092\n",
      "2.0\n"
     ]
    }
   ],
   "source": [
    "print(math.log(100))\n",
    "print(math.log10(100))"
   ]
  },
  {
   "cell_type": "code",
   "execution_count": 19,
   "id": "378ff5ba-6035-414d-b6e6-ca24eb271b43",
   "metadata": {},
   "outputs": [
    {
     "name": "stdout",
     "output_type": "stream",
     "text": [
      "22026.465794806718\n",
      "22026.465794806703\n"
     ]
    }
   ],
   "source": [
    "print(math.exp(10))\n",
    "print(math.e**10)"
   ]
  },
  {
   "cell_type": "code",
   "execution_count": 20,
   "id": "b0b3eaa8-a013-4cd9-9b4f-d64ed85aef3f",
   "metadata": {},
   "outputs": [
    {
     "name": "stdout",
     "output_type": "stream",
     "text": [
      "8.0\n",
      "8\n"
     ]
    }
   ],
   "source": [
    "print(math.pow(2,3))\n",
    "print(2**3)"
   ]
  },
  {
   "cell_type": "code",
   "execution_count": 21,
   "id": "a61d4fa7-0713-427f-8bea-f4feeaa14c87",
   "metadata": {},
   "outputs": [
    {
     "name": "stdout",
     "output_type": "stream",
     "text": [
      "50.0\n"
     ]
    }
   ],
   "source": [
    "print(math.sqrt(2500))"
   ]
  },
  {
   "cell_type": "code",
   "execution_count": 23,
   "id": "a4c1f469-0d06-4a0a-8dbe-9210a1f46786",
   "metadata": {},
   "outputs": [
    {
     "name": "stdout",
     "output_type": "stream",
     "text": [
      "9\n",
      "3\n"
     ]
    }
   ],
   "source": [
    "print(math.ceil(8.678))\n",
    "print(math.floor(3.667))"
   ]
  },
  {
   "cell_type": "code",
   "execution_count": 25,
   "id": "ac306a6a-606c-4751-acc9-a207dd3b4537",
   "metadata": {},
   "outputs": [
    {
     "name": "stdout",
     "output_type": "stream",
     "text": [
      "5.5\n",
      "5.5\n",
      "1\n"
     ]
    }
   ],
   "source": [
    "#statistics module\n",
    "import statistics\n",
    "print(statistics.mean([1,2,3,4,5,6,7,8,9,10]))\n",
    "print(statistics.median([1,2,3,4,5,6,7,8,9,10]))\n",
    "print(statistics.mode([1,2,3,1,5,6,5,4,2,1,1,9]))"
   ]
  },
  {
   "cell_type": "code",
   "execution_count": 26,
   "id": "a93d2a8c-6a4f-4db5-8369-0dc7f386ad4c",
   "metadata": {},
   "outputs": [
    {
     "name": "stdout",
     "output_type": "stream",
     "text": [
      "2.9368350311176825\n"
     ]
    }
   ],
   "source": [
    "#standard deviation\n",
    "print(statistics.stdev([1,1.5,2,2.5,3,3.5,6,6.5,10]))"
   ]
  },
  {
   "cell_type": "raw",
   "id": "fc6e9d36-8aa6-4384-ac1d-ca60291eb7fd",
   "metadata": {},
   "source": [
    "RANDOM MODULE"
   ]
  },
  {
   "cell_type": "code",
   "execution_count": 29,
   "id": "92f2042c-0b64-464a-86fc-9e894d981c8e",
   "metadata": {},
   "outputs": [
    {
     "name": "stdout",
     "output_type": "stream",
     "text": [
      "0.37364277828167436\n",
      "11\n",
      "20\n"
     ]
    }
   ],
   "source": [
    "import random\n",
    "print(random.random())\n",
    "print(random.randint(1,20))\n",
    "print(random.randint(1,20))"
   ]
  },
  {
   "cell_type": "code",
   "execution_count": 34,
   "id": "b4986f8b-f533-4513-b03f-20e99a49cbb1",
   "metadata": {},
   "outputs": [
    {
     "name": "stdout",
     "output_type": "stream",
     "text": [
      "5\n",
      "1\n",
      "0\n",
      "40\n"
     ]
    }
   ],
   "source": [
    "print(random.randrange(1,20))\n",
    "print(random.randrange(1,20,40))\n",
    "print(random.randrange(1))\n",
    "print(random.randrange(40,80,120))"
   ]
  },
  {
   "cell_type": "code",
   "execution_count": 40,
   "id": "1050d3ed-00cc-45f7-9efb-e08e69881e39",
   "metadata": {},
   "outputs": [
    {
     "name": "stdout",
     "output_type": "stream",
     "text": [
      "a\n",
      "80\n",
      "60\n"
     ]
    }
   ],
   "source": [
    "print(random.choice('balaji'))\n",
    "print(random.choice([20,40,60,80,100]))\n",
    "print(random.choice([20,40,60,80,100]))"
   ]
  },
  {
   "cell_type": "code",
   "execution_count": 41,
   "id": "94f31f59-4587-467b-bd91-536518be879d",
   "metadata": {},
   "outputs": [
    {
     "name": "stdout",
     "output_type": "stream",
     "text": [
      "[2, 1, 4, 3, 5]\n",
      "[1, 3, 2, 4, 5]\n"
     ]
    }
   ],
   "source": [
    "a=[1,2,3,4,5]\n",
    "random.shuffle(a)\n",
    "print(a)\n",
    "random.shuffle(a)\n",
    "print(a)"
   ]
  }
 ],
 "metadata": {
  "kernelspec": {
   "display_name": "Python 3 (ipykernel)",
   "language": "python",
   "name": "python3"
  },
  "language_info": {
   "codemirror_mode": {
    "name": "ipython",
    "version": 3
   },
   "file_extension": ".py",
   "mimetype": "text/x-python",
   "name": "python",
   "nbconvert_exporter": "python",
   "pygments_lexer": "ipython3",
   "version": "3.8.2"
  }
 },
 "nbformat": 4,
 "nbformat_minor": 5
}
