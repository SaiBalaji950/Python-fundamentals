{
 "cells": [
  {
   "cell_type": "code",
   "execution_count": null,
   "id": "f4f9caca-b08a-4a2b-86b1-cc654e5e456f",
   "metadata": {},
   "outputs": [],
   "source": [
    "Python Threading concepts\n",
    "python standard library provides two main modules for managing Threads:\n",
    "_thread\n",
    "threading\n",
    "\n",
    "_thread module :\n",
    "The _thread module, also known as the low-level thread module, has been a part of Python's standard library since version 2.\n",
    "It offers a basic API for thread management, supporting concurrent execution of threads within a shared global data space. \n",
    "The module includes simple locks (mutexes) for synchronization purposes.\n",
    "\n",
    "threading module :\n",
    "The threading module, introduced in Python 2.4, builds upon _thread to provide a higher-level and more comprehensive threading API. \n",
    "It offers powerful tools for managing threads, making it easier to work with threads in Python applications."
   ]
  },
  {
   "cell_type": "code",
   "execution_count": 1,
   "id": "b1c3f750-8013-4d36-ae91-dd1fc89eccdc",
   "metadata": {},
   "outputs": [
    {
     "data": {
      "text/plain": [
       "12696"
      ]
     },
     "execution_count": 1,
     "metadata": {},
     "output_type": "execute_result"
    },
    {
     "name": "stdout",
     "output_type": "stream",
     "text": [
      "Sai Balaji 1\n",
      "Sai Balaji 1 200\n"
     ]
    }
   ],
   "source": [
    "import _thread\n",
    "def a(name,*arg):\n",
    "    print(name,*arg)\n",
    "b='Sai Balaji'\n",
    "_thread.start_new_thread(a,(b,1))\n",
    "_thread.start_new_thread(a,(b,1,200))"
   ]
  },
  {
   "cell_type": "code",
   "execution_count": 2,
   "id": "7259c7b8-375b-4adb-ab2e-210c5c2c6bf1",
   "metadata": {},
   "outputs": [
    {
     "name": "stdout",
     "output_type": "stream",
     "text": [
      "Sai Balaji 1 2\n",
      "Sai Balaji 1\n"
     ]
    }
   ],
   "source": [
    "import _thread\n",
    "import time\n",
    "def a(name,*arg):\n",
    "    print(name,*arg)\n",
    "b='Sai Balaji'\n",
    "_thread.start_new_thread(a,(b,1))\n",
    "_thread.start_new_thread(a,(b,1,2))\n",
    "time.sleep(3)"
   ]
  },
  {
   "cell_type": "code",
   "execution_count": 7,
   "id": "31f336ea-30b8-4499-bbeb-7356f0df0a54",
   "metadata": {},
   "outputs": [
    {
     "name": "stdout",
     "output_type": "stream",
     "text": [
      "Sai Balaji 1\n",
      "Sai Balaji 1 2\n"
     ]
    }
   ],
   "source": [
    "import threading\n",
    "import time\n",
    "def a(name,*arg):\n",
    "    print(name,*arg)\n",
    "b='Sai Balaji'\n",
    "b1=threading.Thread(target=a,args=(b,1))\n",
    "b2=threading.Thread(target=a,args=(b,1,2))\n",
    "b1.start()\n",
    "b2.start()\n",
    "b1.join()\n",
    "b2.join()"
   ]
  },
  {
   "cell_type": "code",
   "execution_count": 11,
   "id": "3cf82044-2c53-4cc8-86de-a8df0f835b7a",
   "metadata": {},
   "outputs": [
    {
     "name": "stdout",
     "output_type": "stream",
     "text": [
      "Starting thread-1\n",
      "Starting thread-2\n",
      "thread-1: Tue Aug 13 12:41:03 2024\n",
      "thread-1: Tue Aug 13 12:41:04 2024\n",
      "thread-1: Tue Aug 13 12:41:05 2024\n",
      "thread-2: Tue Aug 13 12:41:07 2024\n",
      "thread-2: Tue Aug 13 12:41:09 2024\n",
      "thread-2: Tue Aug 13 12:41:11 2024\n",
      "Existing main thread\n"
     ]
    }
   ],
   "source": [
    "import threading\n",
    "import time\n",
    "class A(threading.Thread):\n",
    "    def __init__(self,threadId,name,counter):\n",
    "        threading.Thread.__init__(self)\n",
    "        self.threadId=threadId\n",
    "        self.name=name\n",
    "        self.counter=counter\n",
    "    def run(self):\n",
    "        print(\"Starting \"+self.name)\n",
    "        threadLock.acquire()\n",
    "        print_time(self.name,self.counter,3)\n",
    "        threadLock.release()\n",
    "    def print_name(threadName,time,counter):\n",
    "        while counter:\n",
    "            time.sleep(delay)\n",
    "            print(\"%s: %s\" %(threadName,time.ctime(time.time())))\n",
    "            counter -=1\n",
    "threadLock=threading.Lock()\n",
    "threads=[]\n",
    "a1=A(1,\"thread-1\",1)\n",
    "a2=A(2,\"thread-2\",2)\n",
    "a1.start()\n",
    "a2.start()\n",
    "threads.append(a1)\n",
    "threads.append(a2)\n",
    "for i in threads:\n",
    "    i.join()\n",
    "print(\"Existing main thread\")"
   ]
  },
  {
   "cell_type": "code",
   "execution_count": 14,
   "id": "256f66e6-7b3f-4560-868e-e410698a9b55",
   "metadata": {},
   "outputs": [
    {
     "name": "stdout",
     "output_type": "stream",
     "text": [
      "Cube : 512\n",
      "Square : 64\n"
     ]
    }
   ],
   "source": [
    "import threading\n",
    "def cube(num):\n",
    "    print(\"Cube : {}\".format(num*num*num))\n",
    "def square(num):\n",
    "    print(\"Square : {}\".format(num*num))\n",
    "if __name__=='__main__':\n",
    "    a=threading.Thread(target=cube,args=(8,))\n",
    "    b=threading.Thread(target=square,args=(8,))\n",
    "    a.start()\n",
    "    b.start()\n",
    "    a.join()\n",
    "    b.join()"
   ]
  },
  {
   "cell_type": "code",
   "execution_count": 18,
   "id": "554c25a1-7432-47e3-bd7d-8bab9130c045",
   "metadata": {},
   "outputs": [
    {
     "name": "stdout",
     "output_type": "stream",
     "text": [
      "ID of Two Task is : 7960\n",
      "Main Thread Name : MainThread\n",
      "Task1 : a1\n",
      "ID of Task1 is : 7960\n",
      "Task2 :a2\n",
      "ID of Task2 is : 7960\n",
      "Done\n"
     ]
    }
   ],
   "source": [
    "import threading\n",
    "import os\n",
    "def a():\n",
    "    print(\"Task1 : {}\".format(threading.current_thread().name))\n",
    "    print(\"ID of Task1 is : {}\".format(os.getpid()))\n",
    "def b():\n",
    "    print(\"Task2 :{}\".format(threading.current_thread().name))\n",
    "    print(\"ID of Task2 is : {}\".format(os.getpid()))\n",
    "if __name__=='__main__':\n",
    "    print(\"ID of Two Task is : {}\".format(os.getpid()))\n",
    "    print(\"Main Thread Name : {}\".format(threading.current_thread().name))\n",
    "    a1=threading.Thread(target=a,name='a1')\n",
    "    a2=threading.Thread(target=b,name='a2')\n",
    "    a1.start()\n",
    "    a2.start()\n",
    "    a1.join()\n",
    "    a2.join()\n",
    "    print(\"Done\")"
   ]
  },
  {
   "cell_type": "code",
   "execution_count": 22,
   "id": "02e6aa0d-2cd3-4ba5-98fe-13cbcc616c70",
   "metadata": {},
   "outputs": [
    {
     "name": "stdout",
     "output_type": "stream",
     "text": [
      "Worker Thread Running\n",
      "Worker Thread Running\n",
      "Worker Thread Running\n",
      "Worker Thread Running\n",
      "Worker Thread Running\n",
      "Worker runs out\n"
     ]
    }
   ],
   "source": [
    "import concurrent.futures\n",
    "def a():\n",
    "    print(\"Worker Thread Running\")\n",
    "b=concurrent.futures.ThreadPoolExecutor(max_workers=5)\n",
    "b.submit(a)\n",
    "b.submit(a)\n",
    "b.submit(a)\n",
    "b.submit(a)\n",
    "b.submit(a)\n",
    "b.shutdown(wait=True)\n",
    "print(\"Worker runs out\")"
   ]
  },
  {
   "cell_type": "code",
   "execution_count": 26,
   "id": "4437ec78-65ca-4cf8-8a8e-6b57e1d3b2d6",
   "metadata": {},
   "outputs": [
    {
     "name": "stdout",
     "output_type": "stream",
     "text": [
      "[1, 0, 1, 1, 2, 3, 5, 8, 13, 21, 34, 55, 89, 144, 233, 377, 610, 987, 1597, 2584]\n"
     ]
    }
   ],
   "source": [
    "def a(n):\n",
    "    a,b=1,0\n",
    "    c=[]\n",
    "    for _ in range(n):\n",
    "        c.append(a)\n",
    "        a,b=b,a+b\n",
    "    return c\n",
    "print(a(20))"
   ]
  },
  {
   "cell_type": "code",
   "execution_count": 35,
   "id": "400d7dbd-3224-4881-bd30-11015ed32c90",
   "metadata": {},
   "outputs": [
    {
     "name": "stdout",
     "output_type": "stream",
     "text": [
      "[1, 0, 1, 1, 2, 3, 5, 8, 13, 21, 34, 55, 89, 144, 233, 377, 610, 987, 1597, 2584]\n"
     ]
    }
   ],
   "source": [
    "def a(n):\n",
    "    if n<=0:\n",
    "        return []\n",
    "    elif n==1:\n",
    "        return [0]\n",
    "    elif n==2:\n",
    "        return [1,0]\n",
    "    else:\n",
    "        c=a(n-1)\n",
    "        c.append(c[-1]+c[-2])\n",
    "        return c\n",
    "print(a(20))"
   ]
  },
  {
   "cell_type": "code",
   "execution_count": null,
   "id": "1cd61e75-a285-43e8-9605-8e1f5935c479",
   "metadata": {},
   "outputs": [],
   "source": []
  }
 ],
 "metadata": {
  "kernelspec": {
   "display_name": "Python 3 (ipykernel)",
   "language": "python",
   "name": "python3"
  },
  "language_info": {
   "codemirror_mode": {
    "name": "ipython",
    "version": 3
   },
   "file_extension": ".py",
   "mimetype": "text/x-python",
   "name": "python",
   "nbconvert_exporter": "python",
   "pygments_lexer": "ipython3",
   "version": "3.9.0"
  }
 },
 "nbformat": 4,
 "nbformat_minor": 5
}
