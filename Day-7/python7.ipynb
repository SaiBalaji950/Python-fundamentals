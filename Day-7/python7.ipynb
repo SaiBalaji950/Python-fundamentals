{
 "cells": [
  {
   "cell_type": "code",
   "execution_count": 1,
   "id": "6783bbc9-3f3b-4a4c-814d-f3629edee5ac",
   "metadata": {},
   "outputs": [
    {
     "name": "stdin",
     "output_type": "stream",
     "text": [
      "Enter Decimal Number: 10\n"
     ]
    },
    {
     "name": "stdout",
     "output_type": "stream",
     "text": [
      "Quotient Remaider Binary\n",
      "    5       0           0\n",
      "    2       1          10\n",
      "    1       0         010\n",
      "    0       1        1010\n",
      "Binary Number : 1010\n"
     ]
    }
   ],
   "source": [
    "a=int(input(\"Enter Decimal Number:\"))\n",
    "if(a==0):\n",
    "    print(0)\n",
    "\n",
    "else:\n",
    "    print(\"Quotient Remaider Binary\")\n",
    "    b=\"\"\n",
    "    while(a>0):\n",
    "        remainder=a % 2\n",
    "        a=a // 2\n",
    "        b=str(remainder)+b\n",
    "        print(\"%5d%8d%12s\" % (a,remainder,b))\n",
    "print('Binary Number :',b)"
   ]
  },
  {
   "cell_type": "code",
   "execution_count": 3,
   "id": "0797f9dd-bf4d-44be-b0d8-fb77d66572e5",
   "metadata": {},
   "outputs": [
    {
     "name": "stdin",
     "output_type": "stream",
     "text": [
      "Enter Decimal Number: 103\n"
     ]
    },
    {
     "name": "stdout",
     "output_type": "stream",
     "text": [
      "Quotient Remaider Binary\n",
      "   51       1           1\n",
      "   25       1          11\n",
      "   12       1         111\n",
      "    6       0        0111\n",
      "    3       0       00111\n",
      "    1       1      100111\n",
      "    0       1     1100111\n",
      "Binary Number : 1100111\n"
     ]
    }
   ],
   "source": [
    "a=int(input(\"Enter Decimal Number:\"))\n",
    "if(a==0):\n",
    "    print(0)\n",
    "\n",
    "else:\n",
    "    print(\"Quotient Remaider Binary\")\n",
    "    b=\"\"\n",
    "    while(a>0):\n",
    "        remainder=a % 2\n",
    "        a=a // 2\n",
    "        b=str(remainder)+b\n",
    "        print(\"%5d%8d%12s\" % (a,remainder,b))\n",
    "print('Binary Number :',b)"
   ]
  },
  {
   "cell_type": "code",
   "execution_count": 7,
   "id": "6ab84b88-0b7a-4fe0-afc7-a29903316db9",
   "metadata": {},
   "outputs": [
    {
     "name": "stdout",
     "output_type": "stream",
     "text": [
      "Balaji is a good boy\n",
      "balaji is a good boy\n"
     ]
    }
   ],
   "source": [
    "a=\"balaji is a good boy\"\n",
    "print(a.capitalize())\n",
    "b=\"Balaji Is A Good Boy\"\n",
    "print(b.casefold())"
   ]
  },
  {
   "cell_type": "code",
   "execution_count": 9,
   "id": "dd64c8dc-9d8c-411f-878e-78ab2aaff210",
   "metadata": {},
   "outputs": [
    {
     "name": "stdout",
     "output_type": "stream",
     "text": [
      "a is correct\n"
     ]
    }
   ],
   "source": [
    "a=\"Balaji\"\n",
    "b=\"balaji\"\n",
    "if a.casefold()==b.casefold():\n",
    "    print('a is correct')\n",
    "else:\n",
    "    print('b is correct')"
   ]
  },
  {
   "cell_type": "code",
   "execution_count": 14,
   "id": "5e2e1373-07ec-4286-8bc0-094cf7721689",
   "metadata": {},
   "outputs": [
    {
     "name": "stdout",
     "output_type": "stream",
     "text": [
      "        Engineering         \n",
      "                                                                     Engineering                                                                      \n",
      "aaaaaaaaaaaaaaaaaaaEngineeringaaaaaaaaaaaaaaaaaaaa\n",
      "bbbbEngineeringbbbbb\n"
     ]
    }
   ],
   "source": [
    "#center\n",
    "a='Engineering'\n",
    "print(a.center(28))\n",
    "print(a.center(150))\n",
    "print(a.center(50,'a'))\n",
    "print(a.center(20,'b'))"
   ]
  },
  {
   "cell_type": "code",
   "execution_count": 15,
   "id": "d188e729-500e-4be2-b395-628344b9b0ea",
   "metadata": {},
   "outputs": [
    {
     "name": "stdout",
     "output_type": "stream",
     "text": [
      "1\n",
      "3\n",
      "1\n"
     ]
    }
   ],
   "source": [
    "#count\n",
    "a='I am good Boy and I am innocent and is am i Wrong ?'\n",
    "print(a.count('good'))\n",
    "print(a.count('am'))\n",
    "print(a.count('?'))"
   ]
  },
  {
   "cell_type": "raw",
   "id": "097f7753-638b-4afa-a8b1-e0c6933c2b05",
   "metadata": {},
   "source": [
    "# 5. encode() - Returns an encoded version of the string\n",
    "\"\"\" The encode() method encodes the string, using the specified encoding.\n",
    "If no encoding is specified, UTF-8 will be used.\n",
    "Syntax : string.encode(encoding=encoding, errors=errors)\n",
    "1. encoding - Optional. A string specifying the encoding to use.\n",
    "Default is UTF-8.\n",
    "2. errors - Optional. A string specifying the error method.\n",
    "Legal values are :\n",
    " i) 'backslashreplace' - Uses a backslash instead of the character that\n",
    "could not be encoded.\n",
    " ii) 'ignore' - Ignores the characters that cannot be encoded.\n",
    " iii) 'namereplace' - Replaces the character with a text explaining the\n",
    "character.\n",
    " iv) 'strict' - Default, raises an error on failure.\n",
    " v) 'replace' - Replaces the character with a questionmark.\n",
    " vi) 'xmlcharrefreplace' - Replaces the character with an xml character. \"\"\""
   ]
  },
  {
   "cell_type": "code",
   "execution_count": 16,
   "id": "fbdd4293-6296-43d5-babc-60c0154ee8cf",
   "metadata": {},
   "outputs": [
    {
     "name": "stdout",
     "output_type": "stream",
     "text": [
      "b'My Name is Vennelakanti Sai Balaji'\n",
      "b'My Name is Vennelakanti Sai Balaji'\n",
      "b'My Name is Vennelakanti Sai Balaji'\n",
      "b'My Name is Vennelakanti Sai Balaji'\n",
      "b'My Name is Vennelakanti Sai Balaji'\n",
      "b'My Name is Vennelakanti Sai Balaji'\n"
     ]
    }
   ],
   "source": [
    "a='My Name is Vennelakanti Sai Balaji'\n",
    "print(a.encode(encoding='ascii',errors='backlashreplace'))\n",
    "print(a.encode(encoding='ascii',errors='ignore'))\n",
    "print(a.encode(encoding='ascii',errors='namereplace'))\n",
    "print(a.encode(encoding='ascii',errors='strict'))\n",
    "print(a.encode(encoding='ascii',errors='replace'))\n",
    "print(a.encode(encoding='ascii',errors='xmlcharrefreplace'))"
   ]
  },
  {
   "cell_type": "raw",
   "id": "41ca6af2-a6f4-4787-9f57-8188686851df",
   "metadata": {},
   "source": [
    "# 6. endswith() - Returns True if the string ends with the specified value,\n",
    "# Otherwise False\n",
    "\"\"\" Syntax : string.endswith(value, start, end)\n",
    " 1. value - Required. The value to check if the string ends with.\n",
    " 2. start - Optional. An integer specifying at which position to start\n",
    "the search.\n",
    " 3. end - Optional. An integer specifying at which position to end the search.\n",
    "\"\"\""
   ]
  },
  {
   "cell_type": "code",
   "execution_count": 17,
   "id": "643ac907-ee87-4921-82db-f8bfeb03e126",
   "metadata": {},
   "outputs": [
    {
     "name": "stdout",
     "output_type": "stream",
     "text": [
      "True\n",
      "False\n"
     ]
    }
   ],
   "source": [
    "a='balaji'\n",
    "print(a.endswith('ji'))\n",
    "print(a.endswith('b'))"
   ]
  },
  {
   "cell_type": "raw",
   "id": "88a28cb0-81a1-4c16-90f2-fbce2b1fe7a5",
   "metadata": {},
   "source": [
    "expandtabs() - Sets the tab size to the number of specified number of\n",
    "# whitespaces.\n",
    "\"\"\" string.exandtabs(tabsize)\n",
    "tabsize - Optional. A number specifying the tabsize.\n",
    "Default tabsize is 8. "
   ]
  },
  {
   "cell_type": "code",
   "execution_count": 19,
   "id": "c3ab8957-7aef-438b-91a6-ba75e7bfc791",
   "metadata": {},
   "outputs": [
    {
     "name": "stdout",
     "output_type": "stream",
     "text": [
      "b       a       l       a       j       i\n",
      "b a l a j i\n",
      "b         a         l         a         j         i\n",
      "b              a              l              a              j              i\n"
     ]
    }
   ],
   "source": [
    "a='b\\ta\\tl\\ta\\tj\\ti'\n",
    "print(a.expandtabs())\n",
    "print(a.expandtabs(2))\n",
    "print(a.expandtabs(10))\n",
    "print(a.expandtabs(15))"
   ]
  },
  {
   "cell_type": "raw",
   "id": "c30fb68c-3612-47c9-b347-810ef776d92a",
   "metadata": {},
   "source": [
    "# 8. find() - Searches the string  for a specified value and returns the\n",
    "# position of where it was found.\n",
    "\"\"\" The find() method finds the first occurrence of the specified value.\n",
    "The find() method returns -1 if the value is not found.\n",
    "The find() method is almost the same as the index() method, the only\n",
    "difference is that the index() method raises an exception if the value\n",
    "is not found.\n",
    "Syntax : string.find(value, start, end)\n",
    "1. value - Required. The value to search for.\n",
    "2. start - Optional. Where to start the search. Default is 0.\n",
    "3. end - Optional. Where to end the search. Default is the end of the string."
   ]
  },
  {
   "cell_type": "code",
   "execution_count": 28,
   "id": "201ca1c0-33ff-49fd-a3bb-117e1563dcf9",
   "metadata": {},
   "outputs": [
    {
     "name": "stdout",
     "output_type": "stream",
     "text": [
      "1\n",
      "1\n",
      "5\n",
      "7\n"
     ]
    }
   ],
   "source": [
    "a='sai balaji'\n",
    "print(a.find('a'))\n",
    "print(a.find('a',0,8))\n",
    "print(a.find('a',3,8))\n",
    "print(a.find('a',6,8))"
   ]
  },
  {
   "cell_type": "raw",
   "id": "2cc760c3-c5b0-4605-9765-264bcaf58667",
   "metadata": {},
   "source": [
    " 9. index() - Searches the string for a specified value and returns the\n",
    "# position of where it was found.\n",
    "\"\"\" The index() method finds the first occurrence of the specified value.\n",
    "The index() method raises an exception if the value is not found.\n",
    "The index() method is almost the same as the find() method, the only difference\n",
    "is that the find() method returns -1 if the value is not found.\n",
    "Syntax : string.index(value, start, end)\n",
    "1. value - Required. The value to search for.\n",
    "2. start - Optional. Where to start the search. Default is 0.\n",
    "3. end - Optional. Where to end the search. Default is to the end of the\n",
    "string. \"\"\""
   ]
  },
  {
   "cell_type": "code",
   "execution_count": 29,
   "id": "a0c5b42c-f0ca-4238-a2e7-9d73df700fda",
   "metadata": {},
   "outputs": [
    {
     "name": "stdout",
     "output_type": "stream",
     "text": [
      "1\n",
      "7\n"
     ]
    }
   ],
   "source": [
    "a='sai balaji'\n",
    "print(a.index('a'))\n",
    "print(a.index('a',6,8))"
   ]
  },
  {
   "cell_type": "raw",
   "id": "da19fd28-fb26-449c-b051-ec837d34caae",
   "metadata": {},
   "source": [
    " isalnum() - Returns True if all characters in the string are\n",
    "# alphanumeric (combination of both alphabets & numbers).\n",
    "\"\"\" The isalnum() method returns True if all the characters are alphanumeric,\n",
    "meaning alphabet letter (a-z) and numbers (0-9).\n",
    "Example of characters that are not alphanumeric:(space)!#%&? etc.,\n",
    "Syntax : string.isalnum() \"\"\""
   ]
  },
  {
   "cell_type": "code",
   "execution_count": 40,
   "id": "bfe1071b-97dd-433a-84c9-71e525523090",
   "metadata": {},
   "outputs": [
    {
     "name": "stdout",
     "output_type": "stream",
     "text": [
      "True\n",
      "False\n",
      "False\n"
     ]
    }
   ],
   "source": [
    "a='balaji950'\n",
    "print(a.isalnum())\n",
    "b='balaji 950'\n",
    "print(b.isalnum())\n",
    "c='balaji@950'\n",
    "print(c.isalnum())"
   ]
  },
  {
   "cell_type": "raw",
   "id": "f0e6dcab-b3d1-4167-bf03-b11a6ca3cb2e",
   "metadata": {},
   "source": [
    "11. isalpha() - Returns True if all characters in the string are in the\n",
    "# alphabet.\n",
    "\"\"\" The isalpha() method returns True if all the characters are alphabet\n",
    "letters(a-z).\n",
    "Example of characters that are not alphabet letters:(space)!#%&? etc.,\n",
    "Syntax : string.alpha() \"\"\""
   ]
  },
  {
   "cell_type": "code",
   "execution_count": 41,
   "id": "704bf950-682d-411c-8eb2-7f91bf2c4aff",
   "metadata": {},
   "outputs": [
    {
     "name": "stdout",
     "output_type": "stream",
     "text": [
      "True\n",
      "False\n"
     ]
    }
   ],
   "source": [
    "a='balaji'\n",
    "print(a.isalpha())\n",
    "b='balaji 950'\n",
    "print(b.isalpha())"
   ]
  },
  {
   "cell_type": "raw",
   "id": "57bbed37-62c0-4c21-8f94-c9f22586bb00",
   "metadata": {},
   "source": [
    "# 12. isdecimal() - Returns True if all characters in the string are decimals\n",
    "\"\"\" The isdecimal() method returns True if all the characters are decimals(0-9)\n",
    "This method is used on unicode objects.\n",
    "Syntax : string.isdecimal() \"\"\""
   ]
  },
  {
   "cell_type": "code",
   "execution_count": 44,
   "id": "11b1edb7-3adb-411f-854f-eebe479ed6d2",
   "metadata": {},
   "outputs": [
    {
     "name": "stdout",
     "output_type": "stream",
     "text": [
      "True\n"
     ]
    }
   ],
   "source": [
    "a='10'\n",
    "print(a.isdecimal())"
   ]
  },
  {
   "cell_type": "code",
   "execution_count": 45,
   "id": "fd983fb0-edea-4de0-9ab4-a0870bc21cab",
   "metadata": {},
   "outputs": [
    {
     "name": "stdout",
     "output_type": "stream",
     "text": [
      "True\n"
     ]
    }
   ],
   "source": [
    "word_decimal = \"\\u0033\"\n",
    "print(word_decimal.isdecimal())  "
   ]
  },
  {
   "cell_type": "raw",
   "id": "938c0e67-a75f-48ad-b264-439f71a1a92f",
   "metadata": {},
   "source": [
    "# 13. isdigit() - Returns True if all characters in the string are digits\n",
    "\"\"\" The isdigit() method returns True if all the characters are digits,\n",
    "Otherwise False.\n",
    "Exponents like ² are also considered to be a digit.\n",
    "Syntax : string.isdigit() \"\"\""
   ]
  },
  {
   "cell_type": "code",
   "execution_count": 47,
   "id": "3e4611d3-c879-461a-99f5-90dbdccd892c",
   "metadata": {},
   "outputs": [
    {
     "name": "stdout",
     "output_type": "stream",
     "text": [
      "True\n",
      "True\n"
     ]
    }
   ],
   "source": [
    "zero_unicode = \"\\u0030\"             \n",
    "square_unicode = \"\\u00B2\"           \n",
    "print(zero_unicode.isdigit())       \n",
    "print(square_unicode.isdigit())     "
   ]
  },
  {
   "cell_type": "code",
   "execution_count": 49,
   "id": "fe60f1cf-5f63-430f-ba67-aee452930b00",
   "metadata": {},
   "outputs": [
    {
     "name": "stdout",
     "output_type": "stream",
     "text": [
      "True\n",
      "False\n"
     ]
    }
   ],
   "source": [
    "a='10'\n",
    "print(a.isdigit())\n",
    "b='sai'\n",
    "print(b.isdigit())"
   ]
  },
  {
   "cell_type": "raw",
   "id": "f5b49b26-cf9a-4f6e-acc5-c0bdf7c6cffd",
   "metadata": {},
   "source": [
    "14. isidentifier() - Returns True if the string is an identifier\n",
    "\"\"\" A string is considered a valid identifier if it only contains alphanumeric\n",
    "letters (a-z) and (0-9) or underscores (_).\n",
    "A valid identifier cannot start with a number, or contain any spaces.\n",
    "Syntax : string.isidentifier() \"\"\""
   ]
  },
  {
   "cell_type": "code",
   "execution_count": 51,
   "id": "4c543c8a-e28f-4822-8d0c-68a7688bde18",
   "metadata": {},
   "outputs": [
    {
     "name": "stdout",
     "output_type": "stream",
     "text": [
      "True\n",
      "False\n",
      "True\n",
      "False\n"
     ]
    }
   ],
   "source": [
    "a='balaji123'\n",
    "b='123balaji'\n",
    "c='sai_balaji'\n",
    "d=' saibalaji'\n",
    "print(a.isidentifier())\n",
    "print(b.isidentifier())\n",
    "print(c.isidentifier())\n",
    "print(d.isidentifier())"
   ]
  },
  {
   "cell_type": "raw",
   "id": "0150da8d-9d17-46a3-9d80-ebd214249f28",
   "metadata": {},
   "source": [
    "# 15. islower() - Returns True if all characters in the string are lower case\n",
    "\"\"\" The islower() method returns True if all the characters are in lower case\n",
    "Otherwise False.\n",
    "Numbers, Symbols and Spaces are not checked, only alphabet characters.\n",
    "Syntax : string.islower() \"\"\""
   ]
  },
  {
   "cell_type": "code",
   "execution_count": 53,
   "id": "0b8c4b5c-6cc2-4823-a8f4-3c7344173210",
   "metadata": {},
   "outputs": [
    {
     "name": "stdout",
     "output_type": "stream",
     "text": [
      "True\n",
      "False\n"
     ]
    }
   ],
   "source": [
    "a='balaji'\n",
    "print(a.islower())\n",
    "b='Balaji'\n",
    "print(b.islower())"
   ]
  },
  {
   "cell_type": "raw",
   "id": "11d68671-6343-4555-b467-73b15fa82e08",
   "metadata": {},
   "source": [
    "# 16. isnumeric() - Returns True if all the characters in the string\n",
    "# are numeric, Otherwise False.\n",
    "\"\"\" The isnumeric() method returns True if all the characters are numeric\n",
    "(0-9), Otherwise False.\n",
    "Exponents, like ² and ¾ are also considered to be numeric values.\n",
    "Syntax : string.numeric() \"\"\""
   ]
  },
  {
   "cell_type": "code",
   "execution_count": 54,
   "id": "671f6f80-81fd-4621-acd8-36656025dcf1",
   "metadata": {},
   "outputs": [
    {
     "name": "stdout",
     "output_type": "stream",
     "text": [
      "True\n",
      "True\n",
      "False\n"
     ]
    }
   ],
   "source": [
    "x = \"\\u0030\"        # Unicode for 0\n",
    "y = \"\\u00B2\"        # Unicode for ²\n",
    "z = \"10km2\"\n",
    "print(x.isnumeric())                    # True\n",
    "print(y.isnumeric())                    # True\n",
    "print(z.isnumeric())                    # False"
   ]
  },
  {
   "cell_type": "code",
   "execution_count": 57,
   "id": "73e8d2f9-05f4-4a10-9657-9c27930de2b3",
   "metadata": {},
   "outputs": [
    {
     "name": "stdout",
     "output_type": "stream",
     "text": [
      "True\n",
      "True\n",
      "False\n"
     ]
    }
   ],
   "source": [
    "a='16'\n",
    "b='81'\n",
    "d='8z'\n",
    "print(a.isnumeric())\n",
    "print(b.isnumeric())\n",
    "print(d.isnumeric())"
   ]
  },
  {
   "cell_type": "raw",
   "id": "3c44537b-faf3-44a7-9756-84606af4a024",
   "metadata": {},
   "source": [
    "# 17. isprintable()- Returns True if all characters in the string are printable\n",
    "\"\"\" The isprintable() method returns True if all the characters are printable,\n",
    "Otherwise False.\n",
    "Example of non-printable character can be carriage return and line feed.\n",
    "Syntax : string.isprintable() \"\"\""
   ]
  },
  {
   "cell_type": "code",
   "execution_count": 60,
   "id": "e4cce8b7-4090-4f7d-b266-e470c0e964d4",
   "metadata": {},
   "outputs": [
    {
     "name": "stdout",
     "output_type": "stream",
     "text": [
      "True\n",
      "False\n"
     ]
    }
   ],
   "source": [
    "a='balaji!'\n",
    "b='b\\na\\t'\n",
    "print(a.isprintable())\n",
    "print(b.isprintable())"
   ]
  },
  {
   "cell_type": "raw",
   "id": "dbea859e-2dd3-4f9a-b557-3fab4c8c6a9f",
   "metadata": {},
   "source": [
    "8. isspace() - Returns True if all characters in the string are whitespaces\n",
    "\"\"\" The isspace() method returns True if all the characters in a string are\n",
    "whitespaces, Otherwise False.\n",
    "Syntax : string.isspace() \"\"\""
   ]
  },
  {
   "cell_type": "code",
   "execution_count": 79,
   "id": "b36902a0-6b38-4d0e-9fc0-56c7af711ff3",
   "metadata": {},
   "outputs": [
    {
     "name": "stdout",
     "output_type": "stream",
     "text": [
      "False\n"
     ]
    }
   ],
   "source": [
    "a='sai balaji'\n",
    "print(a.isspace())"
   ]
  },
  {
   "cell_type": "code",
   "execution_count": 78,
   "id": "3cfa0354-da3e-4133-a31c-e75d4eff92c9",
   "metadata": {},
   "outputs": [
    {
     "name": "stdout",
     "output_type": "stream",
     "text": [
      "True\n"
     ]
    }
   ],
   "source": [
    "a = \" \"\n",
    "print(a.isspace()) "
   ]
  },
  {
   "cell_type": "code",
   "execution_count": 81,
   "id": "2d1a6d9f-cb83-4dfe-ad7f-30fd2a47d5a0",
   "metadata": {},
   "outputs": [
    {
     "name": "stdout",
     "output_type": "stream",
     "text": [
      "True\n"
     ]
    }
   ],
   "source": [
    "a=' '\n",
    "print(a.isspace())"
   ]
  },
  {
   "cell_type": "raw",
   "id": "804c2155-9425-464a-b6d1-d03229e5b9c9",
   "metadata": {},
   "source": [
    "# 19. istitle() - Returns True if the string follows the rules of a title\n",
    "\"\"\" The istitle() method returns True if all words in the string start with a\n",
    "upper case letter, and the rest of the word are lower case letters,\n",
    "Otherwise False.\n",
    "Symbols and numbers are ignored.\n",
    "Syntax : string.istitle() \"\"\""
   ]
  },
  {
   "cell_type": "code",
   "execution_count": 85,
   "id": "697594c1-7dac-42c5-84de-e9935aec27c9",
   "metadata": {},
   "outputs": [
    {
     "name": "stdout",
     "output_type": "stream",
     "text": [
      "True\n",
      "False\n"
     ]
    }
   ],
   "source": [
    "a='Balaji'\n",
    "print(a.istitle())\n",
    "b='balaji'\n",
    "print(b.istitle())"
   ]
  },
  {
   "cell_type": "raw",
   "id": "62831f37-ee15-4416-8caa-38a9fca25651",
   "metadata": {},
   "source": [
    "# 20. isupper() - Returns True if all characters in the string are uppercase\n",
    "\"\"\" The isupper() method returns True if all the characters are in upper case,\n",
    "Othewise False.\n",
    "Numbers, Symbols & Spaces are not checked, only alphabet characters.\n",
    "Syntax : string.isupper() \"\"\""
   ]
  },
  {
   "cell_type": "code",
   "execution_count": 87,
   "id": "7d74a1fd-d7f9-4752-8b6e-d5594bb65865",
   "metadata": {},
   "outputs": [
    {
     "name": "stdout",
     "output_type": "stream",
     "text": [
      "True\n",
      "False\n"
     ]
    }
   ],
   "source": [
    "a='BALAJI'\n",
    "print(a.isupper())\n",
    "a='balaji'\n",
    "print(a.isupper())"
   ]
  },
  {
   "cell_type": "code",
   "execution_count": 89,
   "id": "5735f8aa-8514-4c0a-85b9-5707073d4cf6",
   "metadata": {},
   "outputs": [
    {
     "name": "stdout",
     "output_type": "stream",
     "text": [
      "True\n"
     ]
    }
   ],
   "source": [
    "a='SAI_BALAJI'\n",
    "print(a.isupper())"
   ]
  },
  {
   "cell_type": "raw",
   "id": "59590bab-9bd3-434b-9175-eef16a4a23fd",
   "metadata": {},
   "source": [
    "# 21. join() - Joins the elements of an iterable to the end of the string\n",
    "\"\"\" The join() method takes all items in an iterable and joins them into\n",
    "one string.\n",
    "A string must be specified as the separator.\n",
    "Syntax : string.join(iterable)\n",
    "iterable - Required. Any iterable object where all the returned values\n",
    " are strings.\"\"\""
   ]
  },
  {
   "cell_type": "code",
   "execution_count": 92,
   "id": "03b2f249-032e-49a3-9054-cf8926b5a978",
   "metadata": {},
   "outputs": [
    {
     "name": "stdout",
     "output_type": "stream",
     "text": [
      "balaji,sai,vennelakanti\n"
     ]
    }
   ],
   "source": [
    "a=('balaji','sai','vennelakanti')\n",
    "print(','.join(a))"
   ]
  },
  {
   "cell_type": "raw",
   "id": "fc9a151d-94ab-4711-9198-0733ed25de1e",
   "metadata": {},
   "source": [
    "# 22. ljust() - Returns a left justified version of the string\n",
    "\"\"\" The ljust() method will left align the string, using a specified\n",
    "character (space is default) as the fill character.\n",
    "Syntax : string.ljust(length, character)\n",
    "1. length - Required. The length of the returned string.\n",
    "2. Optional - A character to fill the missing space (to the right of the\n",
    "string). Default is ' ' (space). \"\"\""
   ]
  },
  {
   "cell_type": "code",
   "execution_count": 95,
   "id": "caedac5b-7293-4ac8-96df-f276394056f4",
   "metadata": {},
   "outputs": [
    {
     "name": "stdout",
     "output_type": "stream",
     "text": [
      "mahesh babu               is Super Star Forever\n"
     ]
    }
   ],
   "source": [
    "a='mahesh babu'\n",
    "print(a.ljust(25),\"is Super Star Forever\")"
   ]
  },
  {
   "cell_type": "raw",
   "id": "90d72df2-36c3-4d27-98c3-f990d9dc9292",
   "metadata": {},
   "source": [
    "# 23. lower() - Converts a string into lower case\n",
    "\"\"\" The lower() method returns a string where all characters are lowercase.\n",
    "Symbols and Numbers are ignored.\n",
    "Syntax : string.lower() \"\"\""
   ]
  },
  {
   "cell_type": "code",
   "execution_count": 96,
   "id": "7d5f0ed9-9802-4644-9426-df5b98abf38b",
   "metadata": {},
   "outputs": [
    {
     "name": "stdout",
     "output_type": "stream",
     "text": [
      "balaji\n"
     ]
    }
   ],
   "source": [
    "a='BALAJI'\n",
    "print(a.lower())"
   ]
  },
  {
   "cell_type": "raw",
   "id": "9cb63a33-ec1e-4573-a766-c4b03c544392",
   "metadata": {},
   "source": [
    "# 24. replace() - Returns a string where a specified value is replaced with a\n",
    "# specified value.\n",
    "\"\"\" The replace() method replaces a specified phrase with another specified\n",
    "phrase.\n",
    "Note : All occurrences of the specified phrase will be replaced, if nothing\n",
    "else is specified.\n",
    "Syntax : string.replace(oldValue, newValue, count)\n",
    "1. oldValue - Required. The string to search for.\n",
    "2. newValue - Required. The string to replace the old value with.\n",
    "3. count - Optional. A number specifying how many occurrences of the old value\n",
    "you want to replace. Default is all occurrences. \"\"\""
   ]
  },
  {
   "cell_type": "code",
   "execution_count": 98,
   "id": "2ac55d37-01f5-475c-bafc-b7c8bef4e645",
   "metadata": {},
   "outputs": [
    {
     "name": "stdout",
     "output_type": "stream",
     "text": [
      "Mahesh Babu is Global Super Star\n"
     ]
    }
   ],
   "source": [
    "a='Mahesh Babu is Super Star'\n",
    "print(a.replace('Super','Global Super'))"
   ]
  },
  {
   "cell_type": "code",
   "execution_count": 102,
   "id": "921f03f5-1445-4ddb-b6e6-70871a9dc784",
   "metadata": {},
   "outputs": [
    {
     "name": "stdout",
     "output_type": "stream",
     "text": [
      "Ravikiran is Suffered with sadism he needs some mental treatment other it is tuff to college because the college will die\n"
     ]
    }
   ],
   "source": [
    "a='Ravikiran is Suffered with sadism'\n",
    "print(a.replace('sadism', 'sadism he needs some mental treatment other it is tuff to college because the college will die'))"
   ]
  },
  {
   "cell_type": "raw",
   "id": "2ca1b179-a1b3-4d90-88f1-d96dba48ef74",
   "metadata": {},
   "source": [
    "25. split() - Splits the string at the specified separator, and\n",
    "# returns a list.\n",
    "\"\"\" The split() method splits a string into a list.\n",
    "You can specify the separator, default separator is any whitespace.\n",
    "Note : When maxsplit is specified, the list will contain the specified number\n",
    "of elements plus one.\n",
    "Syntax : string.split(separator, maxsplit)\n",
    "1. separator - Optional. Specifies the separator to use when splitting the\n",
    "string. By default any whitespace is a separator.\n",
    "2. maxsplit - Optional. Specifies how many splits to do. Default value is -1,\n",
    "which is 'all occurrences'. \"\"\""
   ]
  },
  {
   "cell_type": "code",
   "execution_count": 103,
   "id": "9c2071b2-022c-4414-900d-f841f585ef1b",
   "metadata": {},
   "outputs": [
    {
     "name": "stdout",
     "output_type": "stream",
     "text": [
      "['Ravikiran', 'is', 'a', 'mental', 'patient']\n"
     ]
    }
   ],
   "source": [
    "a='Ravikiran is a mental patient'\n",
    "print(a.split())"
   ]
  },
  {
   "cell_type": "raw",
   "id": "23d277cd-9afd-46d7-a885-41a8575bebc7",
   "metadata": {},
   "source": [
    "# 26. startswith() - Returns True if the string starts with the specified value\n",
    "\"\"\" The startswith() method returns True if the string starts with the\n",
    "specified value, Otherwise False.\n",
    "Syntax : string.startswith(value, start, end)\n",
    "1. value - Required. The value to check if the string starts with.\n",
    "2. start - Optional. An integer specifying at which position to start\n",
    " the search.\n",
    "3. end - Optional. An integer specifying at which position to end the search."
   ]
  },
  {
   "cell_type": "code",
   "execution_count": 105,
   "id": "2bbd4657-8bee-4a37-a681-e589648cd5aa",
   "metadata": {},
   "outputs": [
    {
     "name": "stdout",
     "output_type": "stream",
     "text": [
      "True\n",
      "False\n"
     ]
    }
   ],
   "source": [
    "a='welcome to my world'\n",
    "print(a.startswith('welcome'))\n",
    "print(a.startswith('wel',0,1))"
   ]
  },
  {
   "cell_type": "raw",
   "id": "0a3ea825-4585-4823-b644-83f07a37beda",
   "metadata": {},
   "source": [
    "# 27. strip() - Returns a trimmed version of the string\n",
    "\"\"\" The strip() method removes any leading (spaces at the beginning) and\n",
    "trailing (spaces at the end) characters (space is the default leading\n",
    "character to remove).\n",
    "Syntax : string.strip(characters)\n",
    "characters - Optional. A set of characters to remove as leading/trailing\n",
    "characters.\"\"\""
   ]
  },
  {
   "cell_type": "code",
   "execution_count": 107,
   "id": "5f81e13d-ede1-4fda-a95f-aefad08eabea",
   "metadata": {},
   "outputs": [
    {
     "name": "stdout",
     "output_type": "stream",
     "text": [
      "Mahesh Babu is Global Super Star\n",
      "all of banana is my favourite\n"
     ]
    }
   ],
   "source": [
    "a='Mahesh Babu  '\n",
    "print(a.strip(),\"is Global Super Star\")\n",
    "b='     banana    '\n",
    "print('all of',b.strip(),'is my favourite')"
   ]
  },
  {
   "cell_type": "raw",
   "id": "367edd84-b176-4192-ac72-ef23e1abe050",
   "metadata": {},
   "source": [
    "# 28. swapcase() - Swaps cases, lowercases becomes upper case and vice versa\n",
    "\"\"\" The swapcase() method returns a string where all the upper case letters are\n",
    "lower case and vice versa.\n",
    "Syntax : string.swapcase() \"\"\""
   ]
  },
  {
   "cell_type": "code",
   "execution_count": 109,
   "id": "29754ba6-2d06-401a-a375-bca5c839db93",
   "metadata": {},
   "outputs": [
    {
     "name": "stdout",
     "output_type": "stream",
     "text": [
      "wELCOME TO MY wORLD\n",
      "BALAJI\n"
     ]
    }
   ],
   "source": [
    "a=\"Welcome to my World\"\n",
    "print(a.swapcase())\n",
    "b='balaji'\n",
    "print(b.swapcase())"
   ]
  },
  {
   "cell_type": "raw",
   "id": "6ff0b2e7-10d1-4e66-8274-e3daeb96f37d",
   "metadata": {},
   "source": [
    "# 29. title() - Converts the first character of each word to upper case\n",
    "\"\"\" The title() method returns a string where the first character in every\n",
    "word is uppercase. Like a header, or title.\n",
    "If the word contains a number or a symbol, the first letter after that will be\n",
    "converted to upper case."
   ]
  },
  {
   "cell_type": "code",
   "execution_count": 110,
   "id": "9785ccb3-6222-455e-aebe-22f533abe08e",
   "metadata": {},
   "outputs": [
    {
     "name": "stdout",
     "output_type": "stream",
     "text": [
      "Sai Balaji Is Bad Human\n"
     ]
    }
   ],
   "source": [
    "a=\"sai balaji is bad human\"\n",
    "print(a.title())"
   ]
  },
  {
   "cell_type": "raw",
   "id": "2d7717a6-b84e-4666-9c40-39950d24be5e",
   "metadata": {},
   "source": [
    "# 30. upper() - Converts a string into upper case\n",
    "\"\"\" The upper() method returns a string where all characters are in upper case.\n",
    "Symbols and Numbers are ignored.\n",
    "Syntax : string.upper() \"\"\""
   ]
  },
  {
   "cell_type": "code",
   "execution_count": 111,
   "id": "a9368696-c474-41f1-9848-6dac9be635fa",
   "metadata": {},
   "outputs": [
    {
     "name": "stdout",
     "output_type": "stream",
     "text": [
      "BALAJI\n"
     ]
    }
   ],
   "source": [
    "a='balaji'\n",
    "print(a.upper())"
   ]
  },
  {
   "cell_type": "raw",
   "id": "7685c5dd-3127-42ae-91d8-3b5b64bda9cf",
   "metadata": {},
   "source": [
    "# 31. rfind() - Searches the string for a specified value and returns the last\n",
    "# position of where it was found.\n",
    "\"\"\" The rfind() method finds the last occurrence of the specified value.\n",
    "The rfind() method returns -1 if the value is not found.\n",
    "The rfind() method is almost the same as the rindex() method.\n",
    "Syntax : string.rfind(value, start, end)\n",
    "1. value - Required. The value to search for.\n",
    "2. start - Optional. Where to start the search. Default is 0.\n",
    "3. end - Optional. Where to end the search. Default is to the end of the\n",
    " string. \"\"\""
   ]
  },
  {
   "cell_type": "code",
   "execution_count": 113,
   "id": "a3283ae4-ba95-4739-a2c0-06ecc79cd6d9",
   "metadata": {},
   "outputs": [
    {
     "name": "stdout",
     "output_type": "stream",
     "text": [
      "8\n",
      "15\n",
      "4\n",
      "9\n"
     ]
    }
   ],
   "source": [
    "a=\"Welcome To My World\"\n",
    "print(a.rfind('To'))\n",
    "print(a.rfind('o',2,16))\n",
    "print(a.rfind('o',2,5))\n",
    "print(a.rfind('o',2,11))"
   ]
  },
  {
   "cell_type": "raw",
   "id": "f94b0eb0-ebec-4420-acc7-c2abe4ca133a",
   "metadata": {},
   "source": [
    "# 32. rindex() - Searches the string for a specified value and returns the last\n",
    "# position of where it was found.\n",
    "\"\"\" The rindex() method finds the last occurrences of the specified value.\n",
    "The rindex() method raises an exception if the value is not found.\n",
    "The rindex() method is almost the same as the rfind() method.\n",
    "Syntax : string.rindex(value, start, end)\n",
    "1. value - Required. The value to search for.\n",
    "2. start - Optional. Where to start the search. Default is 0.\n",
    "3. end - Optional. Where to end the search. Default is to the end of the string\n",
    "\"\"\""
   ]
  },
  {
   "cell_type": "code",
   "execution_count": 114,
   "id": "0e93e0f2-1717-4614-9909-22b0d5df4218",
   "metadata": {},
   "outputs": [
    {
     "name": "stdout",
     "output_type": "stream",
     "text": [
      "8\n",
      "15\n",
      "4\n",
      "9\n"
     ]
    }
   ],
   "source": [
    "a=\"Welcome To My World\"\n",
    "print(a.rindex('To'))\n",
    "print(a.rindex('o',2,16))\n",
    "print(a.rindex('o',2,5))\n",
    "print(a.rindex('o',2,11))"
   ]
  },
  {
   "cell_type": "raw",
   "id": "6f6c3ff8-96a5-4dc5-835f-813abcf8c084",
   "metadata": {},
   "source": [
    "# 33. rjust() - Returns a right justified version of the string\n",
    "\"\"\" The rjust() method will right align the string, using a specified character\n",
    "(space is default) as the fill character.\n",
    "Syntax : string.rjust(length, character)\n",
    "1. length - Required. The length of the returned string.\n",
    "2. character - Optional. A character to fill the missing space (to the left of\n",
    "the string). Default is ' ' (space). \"\"\""
   ]
  },
  {
   "cell_type": "code",
   "execution_count": 119,
   "id": "e19f2959-320b-49b0-9743-55404ca46c6d",
   "metadata": {},
   "outputs": [
    {
     "name": "stdout",
     "output_type": "stream",
     "text": [
      "Mahesh Babu   is my die-hard fan\n",
      "            Mahesh Babu   is my die-hard fan\n",
      "                                                                        Mahesh Babu   is my die-hard fan\n"
     ]
    }
   ],
   "source": [
    "a='Mahesh Babu  '\n",
    "print(a.rjust(5),'is my die-hard fan')\n",
    "print(a.rjust(25),'is my die-hard fan')\n",
    "print(a.rjust(85),'is my die-hard fan')"
   ]
  },
  {
   "cell_type": "raw",
   "id": "16f904d2-7d58-4b02-8d8f-a81ba197b277",
   "metadata": {},
   "source": [
    "# 34. rsplit() - Splits the string at the specified separator, and\n",
    "# returns a list\n",
    "\"\"\" The rsplit() method splits a string into a list, starting from the right.\n",
    "If no 'max' is specified, this method will return the same as the\n",
    "split() method.\n",
    "Note : When maxsplit is specified, the list will contain the specified number\n",
    "of elements plus one.\n",
    "Syntax : string.rsplit(separator, maxsplit)\n",
    "1. separator - Optional. Specifies the separator to use when splitting the\n",
    " string. By default any whitespace is a separator.\n",
    "2. maxsplit - Optional. Specifies how many splits to do. Default value is -1,\n",
    " which is 'all occurrences'. \"\"\""
   ]
  },
  {
   "cell_type": "code",
   "execution_count": 120,
   "id": "5a8989fa-5624-443e-a91b-b126811e9837",
   "metadata": {},
   "outputs": [
    {
     "name": "stdout",
     "output_type": "stream",
     "text": [
      "['ravikiran', 'is', 'mental', 'patient']\n"
     ]
    }
   ],
   "source": [
    "a='ravikiran is mental patient'\n",
    "print(a.rsplit())"
   ]
  },
  {
   "cell_type": "raw",
   "id": "6c741c54-092b-43b1-b430-9b6d135248de",
   "metadata": {},
   "source": [
    "# 35. rstrip() - Returns a right trim version of the string\n",
    "\"\"\" The rstrip() method removes any trailing characters (characters at the end\n",
    "of a string), space is the default trailing character to remove.\n",
    "Syntax : string.rstrip(characters)\n",
    "characters - Optional. A set of characters to remove as trailing characters.\"\"\""
   ]
  },
  {
   "cell_type": "code",
   "execution_count": 121,
   "id": "a154c128-49b4-4105-8588-6ca1cfb26334",
   "metadata": {},
   "outputs": [
    {
     "name": "stdout",
     "output_type": "stream",
     "text": [
      "of all    banana is my favourite\n"
     ]
    }
   ],
   "source": [
    "a='   banana   '\n",
    "print('of all',a.rstrip(),'is my favourite')"
   ]
  },
  {
   "cell_type": "raw",
   "id": "df845f77-97de-45a6-ace7-86496ea5b6b7",
   "metadata": {},
   "source": [
    "# 36. splitlines() - Splits the string at line breaks and returns a list\n",
    "\"\"\" The splitlines() method splits a string into a list. The splitting is done\n",
    "at line breaks.\n",
    "Syntax : string.splilines(keeplinebreaks) \"\"\""
   ]
  },
  {
   "cell_type": "code",
   "execution_count": 122,
   "id": "634bfde2-1ef1-47d9-8374-10366054d67c",
   "metadata": {},
   "outputs": [
    {
     "name": "stdout",
     "output_type": "stream",
     "text": [
      "['sai\\n', 'balaji']\n"
     ]
    }
   ],
   "source": [
    "a='sai\\nbalaji'\n",
    "print(a.splitlines(True))"
   ]
  },
  {
   "cell_type": "raw",
   "id": "8bd9f211-8b28-4583-8911-07bd539990a9",
   "metadata": {},
   "source": [
    "# 37. translate() - Returns a translated string\n",
    "\"\"\" The translate() method returns a string where some specified characters are\n",
    "replaced with the character described in a dictionary, or in a mapping table.\n",
    "Use the maketrans() method to create a mapping table.\n",
    "If a character is not specified in the dictionary/table, the character will not\n",
    "be replaced.\n",
    "If you use a dictionary, you must use ascii codes instead of characters.\n",
    "Syntax : string.translate(table)\n",
    "table - Required. Either a dictionary, or a mapping table describing how to\n",
    " perform the replace. \"\"\""
   ]
  },
  {
   "cell_type": "code",
   "execution_count": 129,
   "id": "69756a1c-002d-4b5f-9c0e-a809811b0d71",
   "metadata": {},
   "outputs": [
    {
     "name": "stdout",
     "output_type": "stream",
     "text": [
      "Hello good\n"
     ]
    }
   ],
   "source": [
    "a='Hello food'\n",
    "b=a.maketrans('f','g')\n",
    "print(a.translate(b))"
   ]
  },
  {
   "cell_type": "raw",
   "id": "7af452c3-4904-41c8-a5f7-40bc09208340",
   "metadata": {},
   "source": [
    "# 38. zfill() - Fills the string with a specified number of 0 values\n",
    "# at the beginning\n",
    "\"\"\" The zfill() method adds zero(s) at the beginning of the string, untill\n",
    "it reaches the specified length.\n",
    "If the value of the len parameter is less than the length of the string, no\n",
    "filling is done.\n",
    "Syntax : string.zfill(len)\n",
    "len - Required. A number specifying the position of the element you want\n",
    "to remove. \"\"\""
   ]
  },
  {
   "cell_type": "code",
   "execution_count": 132,
   "id": "5d7db68a-2019-44b3-8736-bb5a4f20e0cc",
   "metadata": {},
   "outputs": [
    {
     "name": "stdout",
     "output_type": "stream",
     "text": [
      "0000000020\n",
      "000000000000000000000000000020\n"
     ]
    }
   ],
   "source": [
    "a='20'\n",
    "print(a.zfill(10))\n",
    "print(a.zfill(30))"
   ]
  }
 ],
 "metadata": {
  "kernelspec": {
   "display_name": "Python 3 (ipykernel)",
   "language": "python",
   "name": "python3"
  },
  "language_info": {
   "codemirror_mode": {
    "name": "ipython",
    "version": 3
   },
   "file_extension": ".py",
   "mimetype": "text/x-python",
   "name": "python",
   "nbconvert_exporter": "python",
   "pygments_lexer": "ipython3",
   "version": "3.8.2"
  }
 },
 "nbformat": 4,
 "nbformat_minor": 5
}
