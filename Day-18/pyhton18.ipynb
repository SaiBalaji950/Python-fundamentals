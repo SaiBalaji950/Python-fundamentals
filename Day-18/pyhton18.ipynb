{
 "cells": [
  {
   "cell_type": "raw",
   "id": "3a1a7a48-0116-487c-8efe-726eaa108224",
   "metadata": {},
   "source": [
    "# Functions of Time Module\n",
    "\"\"\"\n",
    "Time Module has struct_time Class :\n",
    "time.struct_class Class - struct_class helps to access local time.\n",
    "i.e, non-epochal timestamps. It returns a named tuple whose value can be\n",
    "accessed by both index & attribute name.\n",
    "Syntax : time.struct_time(tm_year=1970, tm_mon=1, tm_mday=1, tm_hour=0,\n",
    "                            tm_min=0, tm_sec=0, tm_wday=3, tm_yday=1,\n",
    "                            tm_isdst=0)\n",
    "-------------------------------------------------\n",
    "Index   Attribute_Name      Values\n",
    "-------------------------------------------------\n",
    "0       tm_year             0000, ...., 9999\n",
    "1       tm_mon              1, 2, ..., 11, 12\n",
    "2       tm_mday             1, 2, ..., 30, 31\n",
    "3       tm_hour             0, 1, ..., 22, 23\n",
    "4       tm_min              0, 1, ..., 58, 59\n",
    "5       tm_sec              0, 1, ..., 60, 61\n",
    "6       tm_wday             0, 1, ..., 6, sun-6\n",
    "7       tm_yday             1, 2, ..., 365, 366\n",
    "8       tm_isdst            0, 1 or -1\n",
    "-------------------------------------------------\n",
    "\n",
    "This class contains various functions. They are:\n",
    "\"\"\"\n",
    "\n",
    "# 1. time.localtime() method :\n",
    "\"\"\"\n",
    "This method returns the struct_time object in localtime. It takes epoch as an\n",
    "arguement (no. of seconds), Default it takes current time as an arguement.\n",
    "\"\"\""
   ]
  },
  {
   "cell_type": "code",
   "execution_count": 1,
   "id": "658dfe40-d6e7-460e-a381-75eb55b3d9d1",
   "metadata": {},
   "outputs": [
    {
     "name": "stdout",
     "output_type": "stream",
     "text": [
      "time.struct_time(tm_year=1970, tm_mon=1, tm_mday=1, tm_hour=5, tm_min=30, tm_sec=20, tm_wday=3, tm_yday=1, tm_isdst=0)\n"
     ]
    }
   ],
   "source": [
    "import time\n",
    "a=time.localtime(20)\n",
    "print(a)"
   ]
  },
  {
   "cell_type": "code",
   "execution_count": 2,
   "id": "bfccabeb-0b5c-4471-989e-184acbfed653",
   "metadata": {},
   "outputs": [
    {
     "name": "stdout",
     "output_type": "stream",
     "text": [
      "time.struct_time(tm_year=1970, tm_mon=1, tm_mday=1, tm_hour=6, tm_min=3, tm_sec=20, tm_wday=3, tm_yday=1, tm_isdst=0)\n"
     ]
    }
   ],
   "source": [
    "import time\n",
    "a=time.localtime(2000.02365)\n",
    "print(a)"
   ]
  },
  {
   "cell_type": "raw",
   "id": "be59b704-cd20-41a8-89cd-190808713268",
   "metadata": {},
   "source": [
    "import time\n",
    "\n",
    "obj = time.localtime(1721218853.523072)\n",
    "print(obj)"
   ]
  },
  {
   "cell_type": "raw",
   "id": "69ab76d6-79f2-4679-a640-8451c4f841dd",
   "metadata": {},
   "source": [
    "# 2. time.mktime() method :\n",
    "\"\"\"\n",
    "It is inverse function of 'time.localtime()'. It converts thr epoch value into\n",
    "seconds.\n",
    "\"\"\""
   ]
  },
  {
   "cell_type": "code",
   "execution_count": 7,
   "id": "9409936e-2af1-4ea9-b566-98eee3b4124c",
   "metadata": {},
   "outputs": [
    {
     "name": "stdout",
     "output_type": "stream",
     "text": [
      "Local time in seconds : 1980651.0\n"
     ]
    }
   ],
   "source": [
    "import time\n",
    "a=time.gmtime(2000451.36598)\n",
    "b=time.mktime(a)\n",
    "print(\"Local time in seconds :\",b)"
   ]
  },
  {
   "cell_type": "code",
   "execution_count": 5,
   "id": "898a70d2-9f58-4e3a-90ea-75655cf9379a",
   "metadata": {},
   "outputs": [
    {
     "name": "stdout",
     "output_type": "stream",
     "text": [
      "Local Time (in seconds) : 1721199053.0\n"
     ]
    }
   ],
   "source": [
    "import time\n",
    "\n",
    "obj1 = time.gmtime(1721218853.523072)\n",
    "time_sec = time.mktime(obj1)\n",
    "print(\"Local Time (in seconds) :\", time_sec)"
   ]
  },
  {
   "cell_type": "raw",
   "id": "0179253e-66ff-4401-9891-6813b851c5bd",
   "metadata": {},
   "source": [
    "# 3. time.gmtime() method :\n",
    "\"\"\"\n",
    "time.gmtime() Converts a specified timestamp into a 'time.struct_time' object\n",
    "representing the corresponding date & time in the GMT (Greenwich Mean Time)\n",
    "timezone.\n",
    "\"\"\""
   ]
  },
  {
   "cell_type": "code",
   "execution_count": 8,
   "id": "12027256-7414-4485-9426-38f4e40c935a",
   "metadata": {},
   "outputs": [
    {
     "name": "stdout",
     "output_type": "stream",
     "text": [
      "time.struct_time(tm_year=1970, tm_mon=1, tm_mday=24, tm_hour=3, tm_min=40, tm_sec=51, tm_wday=5, tm_yday=24, tm_isdst=0)\n"
     ]
    }
   ],
   "source": [
    "import time\n",
    "a=time.gmtime(2000451.36598)\n",
    "print(a)"
   ]
  },
  {
   "cell_type": "code",
   "execution_count": 9,
   "id": "4104c95b-1b17-4a24-8a72-972069ccd8ba",
   "metadata": {},
   "outputs": [
    {
     "name": "stdout",
     "output_type": "stream",
     "text": [
      "time.struct_time(tm_year=2024, tm_mon=7, tm_mday=17, tm_hour=12, tm_min=20, tm_sec=53, tm_wday=2, tm_yday=199, tm_isdst=0)\n"
     ]
    }
   ],
   "source": [
    "import time\n",
    "\n",
    "obj = time.gmtime(1721218853.523072)\n",
    "print(obj)\n"
   ]
  },
  {
   "cell_type": "code",
   "execution_count": 10,
   "id": "8869c8e4-eb10-4bcf-b90d-933ffe66254e",
   "metadata": {},
   "outputs": [
    {
     "name": "stdout",
     "output_type": "stream",
     "text": [
      "Sat, 24 Jan 1970 03:40:51\n"
     ]
    }
   ],
   "source": [
    "# 4. time.strftime() method :\n",
    "# This method converts struct_time object to a string.\n",
    "from time import gmtime,strftime\n",
    "s=strftime(\"%a, %d %b %Y %H:%M:%S\",gmtime(2000451.36598))\n",
    "print(s)"
   ]
  },
  {
   "cell_type": "code",
   "execution_count": 11,
   "id": "92ba082a-b8f8-4381-97c9-be522c0fd3cc",
   "metadata": {},
   "outputs": [
    {
     "name": "stdout",
     "output_type": "stream",
     "text": [
      "Wed, 17 Jul 2024 12:20:53\n"
     ]
    }
   ],
   "source": [
    "from time import gmtime, strftime\n",
    "\n",
    "s = strftime(\"%a, %d %b %Y %H:%M:%S\", gmtime(1721218853.523072))\n",
    "print(s)\n"
   ]
  },
  {
   "cell_type": "raw",
   "id": "7439dbbc-88fb-4209-8ae2-1ca1b059c2d1",
   "metadata": {},
   "source": [
    "# 5. time.asctime() method :\n",
    "\"\"\"\n",
    "This method used for converting tuple to 'time.struct_time' object to string.\n",
    "Sample : Day Mon Date  Hour:Min:Sec Year\n",
    "\"\"\""
   ]
  },
  {
   "cell_type": "code",
   "execution_count": 13,
   "id": "eee14926-9989-48a5-9a2a-cf938d2f8d66",
   "metadata": {},
   "outputs": [
    {
     "name": "stdout",
     "output_type": "stream",
     "text": [
      "Sat Jan 24 03:40:51 1970\n",
      "time.struct_time(tm_year=1970, tm_mon=1, tm_mday=24, tm_hour=9, tm_min=10, tm_sec=51, tm_wday=5, tm_yday=24, tm_isdst=0)\n"
     ]
    }
   ],
   "source": [
    "import time \n",
    "a=time.gmtime(2000451.36598)\n",
    "a_str=time.asctime(a)\n",
    "print(a_str)\n",
    "a=time.localtime(2000451.36598)\n",
    "a_str=time.asctime(a)\n",
    "print(a)"
   ]
  },
  {
   "cell_type": "code",
   "execution_count": 18,
   "id": "4d53b086-d5c6-4464-bf3e-a1ab288053ae",
   "metadata": {},
   "outputs": [
    {
     "name": "stdout",
     "output_type": "stream",
     "text": [
      "time.struct_time(tm_year=2024, tm_mon=7, tm_mday=21, tm_hour=20, tm_min=42, tm_sec=55, tm_wday=6, tm_yday=203, tm_isdst=-1)\n"
     ]
    }
   ],
   "source": [
    "import time\n",
    "a=\"Sun, 21 Jul 2024 20:42:55\"\n",
    "obj = time.strptime(a, \"%a, %d %b %Y %H:%M:%S\")\n",
    "print(obj)"
   ]
  },
  {
   "cell_type": "code",
   "execution_count": 17,
   "id": "beb32c08-dd06-4d21-8337-5105121f53e2",
   "metadata": {},
   "outputs": [
    {
     "name": "stdout",
     "output_type": "stream",
     "text": [
      "time.struct_time(tm_year=2024, tm_mon=7, tm_mday=17, tm_hour=17, tm_min=50, tm_sec=53, tm_wday=2, tm_yday=199, tm_isdst=-1)\n"
     ]
    }
   ],
   "source": [
    "import time\n",
    "\n",
    "string = \"Wed, 17 Jul 2024 17:50:53\"\n",
    "obj = time.strptime(string, \"%a, %d %b %Y %H:%M:%S\")\n",
    "print(obj)"
   ]
  },
  {
   "cell_type": "raw",
   "id": "b30d9086-0052-49e0-beb2-7460989f5774",
   "metadata": {},
   "source": [
    "# Python Time Module\n",
    "\"\"\"\n",
    "Time Module allows us to work with time in Python. It allows functionality like\n",
    "getting the current time, pausing the program from executing.\n",
    "\n",
    "The time module comes with Python's Standard Utility module, so there is no\n",
    "need to install it externally.\n",
    "Syntax : import time\n",
    "\n",
    "Epoch - The epoch is the point where the time starts and is platform-dependent.\n",
    "        On windows and most unix systems, the epoch is January 1, 1970, 00:00:\n",
    "        00 (UTC), and leap seconds are not counted towards the time in seconds\n",
    "        since the epoch.\n",
    "\"\"\"\n",
    "\"\"\"\n",
    "Note : The time before the epoch can still be represented in seconds but it\n",
    "       will be negative. For example, 31 December 1969 will be represented as\n",
    "       -86400 seconds.\n",
    "\"\"\"\n",
    "# To get time string from seconds\n",
    "\"\"\"\n",
    "time.ctime() - returns a 24 character time string but takes seconds as\n",
    "arguement and computes time till mentioned seconds. If no arguement is passed,\n",
    "time is calculated till the present.\n",
    "\"\"\"\n",
    "# Delaying Execution of Programs\n",
    "\"\"\"\n",
    "Execution can be delayed using 'time.sleep()' method. This method is used to\n",
    "halt the program execution for the time specified in the arguements.\n",
    "\"\"\""
   ]
  },
  {
   "cell_type": "code",
   "execution_count": 19,
   "id": "fe52426e-cca7-4e09-ac6c-d52960144e73",
   "metadata": {},
   "outputs": [
    {
     "name": "stdout",
     "output_type": "stream",
     "text": [
      "time.struct_time(tm_year=1970, tm_mon=1, tm_mday=1, tm_hour=0, tm_min=0, tm_sec=0, tm_wday=3, tm_yday=1, tm_isdst=0)\n"
     ]
    }
   ],
   "source": [
    "import time\n",
    "print(time.gmtime(0))"
   ]
  },
  {
   "cell_type": "code",
   "execution_count": 20,
   "id": "f17d9f81-b38c-4c1b-ae56-3470db0ae0bf",
   "metadata": {},
   "outputs": [
    {
     "name": "stdout",
     "output_type": "stream",
     "text": [
      "1721574947.3934853\n"
     ]
    }
   ],
   "source": [
    "import time\n",
    "a=time.time()\n",
    "print(a)"
   ]
  },
  {
   "cell_type": "code",
   "execution_count": 21,
   "id": "6583a3de-598a-4730-b46c-0cc0101b53ae",
   "metadata": {},
   "outputs": [
    {
     "name": "stdout",
     "output_type": "stream",
     "text": [
      "Sun Jul 21 20:45:47 2024\n"
     ]
    }
   ],
   "source": [
    "import time\n",
    "a=time.ctime(1721574947.3934853)\n",
    "print(a)"
   ]
  },
  {
   "cell_type": "code",
   "execution_count": 1,
   "id": "1e54a20c-c9db-4e6a-8683-b1c8fd21be00",
   "metadata": {},
   "outputs": [
    {
     "name": "stdout",
     "output_type": "stream",
     "text": [
      "0\n",
      "1\n",
      "2\n",
      "3\n",
      "4\n"
     ]
    }
   ],
   "source": [
    "import time\n",
    "for a in range(5):\n",
    "    time.sleep(1)\n",
    "    print(a)"
   ]
  }
 ],
 "metadata": {
  "kernelspec": {
   "display_name": "Python 3 (ipykernel)",
   "language": "python",
   "name": "python3"
  },
  "language_info": {
   "codemirror_mode": {
    "name": "ipython",
    "version": 3
   },
   "file_extension": ".py",
   "mimetype": "text/x-python",
   "name": "python",
   "nbconvert_exporter": "python",
   "pygments_lexer": "ipython3",
   "version": "3.8.2"
  }
 },
 "nbformat": 4,
 "nbformat_minor": 5
}
