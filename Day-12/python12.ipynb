{
 "cells": [
  {
   "cell_type": "raw",
   "id": "a2cbc89f-2d08-452c-8a6a-b8274311203e",
   "metadata": {},
   "source": [
    "# To add, modify and remove attributes from a class using functions.\n",
    "\"\"\" Instead of using the normal statements to access attributes from the class\n",
    "We can use functions given below :\n",
    "1. getattr() - To access the attribute of object.\n",
    "2. hasattr() - To check if an attribute exists or not.\n",
    "3. setattr() - To set an attribute. If attribute does not exist, then it would\n",
    "   be created.\n",
    "4. delattr() - To delete an attribute. \"\"\""
   ]
  },
  {
   "cell_type": "code",
   "execution_count": 14,
   "id": "d414f9c2-1cde-45c0-9142-068db5b61b50",
   "metadata": {},
   "outputs": [
    {
     "name": "stdout",
     "output_type": "stream",
     "text": [
      "Sai Balaji\n",
      "5A3\n",
      "True\n",
      "True\n",
      "None\n",
      "100\n",
      "None\n",
      "Name : Sai Balaji ,rollno : 5A3\n"
     ]
    }
   ],
   "source": [
    "class Student:\n",
    "    studcount=0\n",
    "    def __init__(self,name,rollno):\n",
    "        self.name=name\n",
    "        self.rollno=rollno\n",
    "        Student.studcount +=1\n",
    "    def dispalycount(self):\n",
    "        print(f\"Total Number of Students {Student.studcount}\")\n",
    "    def displayStudent(self):\n",
    "        print(\"Name :\",self.name,\",rollno :\",self.rollno)\n",
    "stud1=Student('Sai Balaji','5A3')\n",
    "print(getattr(stud1,'name'))\n",
    "print(getattr(stud1,'rollno'))\n",
    "print(hasattr(stud1,'name'))\n",
    "print(hasattr(stud1,'rollno'))\n",
    "print(setattr(stud1,'attendance',100))\n",
    "print(getattr(stud1,'attendance'))\n",
    "print(delattr(stud1,'attendance'))\n",
    "stud1.displayStudent()"
   ]
  },
  {
   "cell_type": "raw",
   "id": "5f81b0b9-3bcc-48cd-9a11-d3e17d07d01c",
   "metadata": {},
   "source": [
    "# Built-in Class Attributes :\n",
    "\"\"\" Every Python class keeps following built-in attributes and they can be\n",
    "accessed using dot (.) operator like any other attribute-\n",
    "1. __dict__ : Dictionary containing the class's namespace.\n",
    "2. __doc__ : Class Documentation String or none, if undefined.\n",
    "3. __name__ : Class name.\n",
    "4. __module__ : Module name in which the class is defined. This attribute is\n",
    "   '__main__' in interactive mode.\n",
    "5. __bases__ : A possibly empty tuple containing the base classes in the order\n",
    "   of their occurrence in the base class list. \"\"\""
   ]
  },
  {
   "cell_type": "code",
   "execution_count": 13,
   "id": "65af3ca7-0aeb-44ab-9102-ca9a36d05e65",
   "metadata": {},
   "outputs": [
    {
     "name": "stdout",
     "output_type": "stream",
     "text": [
      "Student.__doc__ common base for all students\n",
      "Student.__dict__ {'__module__': '__main__', '__doc__': 'common base for all students', 'studcount': 0, '__init__': <function Student.__init__ at 0x0000028D631A3310>, 'displaycount': <function Student.displaycount at 0x0000028D6321E5E0>, 'displayStudent': <function Student.displayStudent at 0x0000028D6321E9D0>, '__dict__': <attribute '__dict__' of 'Student' objects>, '__weakref__': <attribute '__weakref__' of 'Student' objects>}\n",
      "Student.__name__ Student\n",
      "Student.__module__ __main__\n",
      "Student.__bases__ (<class 'object'>,)\n"
     ]
    }
   ],
   "source": [
    "class Student:\n",
    "    'common base for all students'\n",
    "    studcount=0\n",
    "    def __init__(self,name,rollno):\n",
    "        self.name=name\n",
    "        self.rollno=rollno\n",
    "        Student.studcount +=1\n",
    "    def displaycount(self):\n",
    "        print(\"Total No of Students {Student.studcount}\")\n",
    "    def displayStudent(self):\n",
    "        print('name :',self.name,',rollno:',self.rollno)\n",
    "print(\"Student.__doc__\",Student.__doc__)\n",
    "print(\"Student.__dict__\",Student.__dict__)\n",
    "print(\"Student.__name__\",Student.__name__)\n",
    "print(\"Student.__module__\",Student.__module__)\n",
    "print(\"Student.__bases__\",Student.__bases__)"
   ]
  },
  {
   "cell_type": "raw",
   "id": "4c556e83-b7f0-4671-9ff9-534f40064ec0",
   "metadata": {},
   "source": [
    "# Creating Classes :\n",
    "\"\"\" The class statement creates a new class definition. The name of the class\n",
    "immediately follows the keyword 'class' followed by a colon as follows :\n",
    "class ClassName:\n",
    "    'Optional class documentation string'\n",
    "    class_suite\n",
    "1. The class has a documentation string, which can be accessed via\n",
    "   'ClassName.__doc__'.\n",
    "2. The 'class_suite' consists of all the component statements defining class\n",
    "   members, data members and functions. \"\"\""
   ]
  },
  {
   "cell_type": "code",
   "execution_count": 18,
   "id": "a3cfb689-784a-4502-85d0-fcebb747de92",
   "metadata": {},
   "outputs": [
    {
     "name": "stdout",
     "output_type": "stream",
     "text": [
      "Name : Sai Balaji ,rollno : 5a3\n",
      "Name : sai ,rollno : 41\n",
      "Total No of Students {Student.studcount}\n",
      "Age was added in stud1\n",
      " Student age is :  20\n",
      "Age was modified in stud1\n",
      " Student age is :  21\n"
     ]
    },
    {
     "ename": "AttributeError",
     "evalue": "'Student' object has no attribute 'age'",
     "output_type": "error",
     "traceback": [
      "\u001b[1;31m---------------------------------------------------------------------------\u001b[0m",
      "\u001b[1;31mAttributeError\u001b[0m                            Traceback (most recent call last)",
      "Cell \u001b[1;32mIn[18], line 22\u001b[0m\n\u001b[0;32m     20\u001b[0m \u001b[38;5;28mprint\u001b[39m(\u001b[38;5;124m\"\u001b[39m\u001b[38;5;124mAge was modified in stud1\u001b[39m\u001b[38;5;130;01m\\n\u001b[39;00m\u001b[38;5;124m Student age is : \u001b[39m\u001b[38;5;124m\"\u001b[39m,stud1\u001b[38;5;241m.\u001b[39mage)\n\u001b[0;32m     21\u001b[0m \u001b[38;5;28;01mdel\u001b[39;00m stud1\u001b[38;5;241m.\u001b[39mage\n\u001b[1;32m---> 22\u001b[0m \u001b[38;5;28mprint\u001b[39m(\u001b[43mstud1\u001b[49m\u001b[38;5;241;43m.\u001b[39;49m\u001b[43mage\u001b[49m)\n",
      "\u001b[1;31mAttributeError\u001b[0m: 'Student' object has no attribute 'age'"
     ]
    }
   ],
   "source": [
    "class Student:\n",
    "    'common base for all students'\n",
    "    studcount=0\n",
    "    def __init__(self,name,rollno):\n",
    "        self.name=name\n",
    "        self.rollno=rollno\n",
    "        Student.studcount +=1\n",
    "    def displaycount(self):\n",
    "        print(\"Total No of Students {Student.studcount}\")\n",
    "    def displayStudent(self):\n",
    "        print(\"Name :\",self.name,\",rollno :\",self.rollno)\n",
    "stud1=Student('Sai Balaji','5a3')\n",
    "stud2=Student('sai',41)\n",
    "stud1.displayStudent()\n",
    "stud2.displayStudent()\n",
    "print(\"Total No of Students {Student.studcount}\")\n",
    "stud1.age=20\n",
    "print(\"Age was added in stud1\\n Student age is : \",stud1.age)\n",
    "stud1.age=21\n",
    "print(\"Age was modified in stud1\\n Student age is : \",stud1.age)\n",
    "del stud1.age\n",
    "print(stud1.age)"
   ]
  },
  {
   "cell_type": "raw",
   "id": "fbe0a8d2-890c-4d60-a9aa-1fba49abf6b0",
   "metadata": {},
   "source": [
    "# Destroying Object's (Garbage Collection) :\n",
    "\n",
    "\"\"\" Python deletes unneeded object's (built-in types or class instance)\n",
    "automatically to free the memory space. The process by which Python\n",
    "periodically reclaims blocks of memory that no longer are in use is termed as\n",
    "Garbage Collection.\n",
    "\n",
    "Python's Garbage Collector runs during program execution and is triggered when\n",
    "an object's referrence count reaches zero. An object's referrence count changes\n",
    "as the number of aliases that point to it changes.\n",
    "\n",
    "An Object's referrence count increases when it is assigned a new name or placed\n",
    "in a container (list, tuple or dictionary). The object's referrence count\n",
    "decreases when it is deleted with del, its referrence is reassigned, or its\n",
    "referrence goes out of scope, when an object's referrence count reaches zero,\n",
    "Python collects it automatically.\n",
    "a = 40    # Create object <40>\n",
    "b = a     # Increases ref. count of <40>\n",
    "c = [b]   # Increases ref. count of <40>\n",
    "\n",
    "del a     # Decreases ref. count of <40>\n",
    "b = 100   # Decreases ref. count of <40>\n",
    "c[0] = -1 # Decreases ref. count of <40>\n",
    "\n",
    "We normally will not notice when the garbage collector destroys an orphaned\n",
    "instance and reclaims its space. But a class can implement the special method\n",
    "__del__(), called a destructor, that is invoked when the instance is about to\n",
    "be destroyed. This method might be used to clean up any non-memory resources\n",
    "used by an instance. \"\"\""
   ]
  },
  {
   "cell_type": "code",
   "execution_count": 26,
   "id": "0cf6aba1-6eae-4595-9cdd-e4bc8f4653e6",
   "metadata": {},
   "outputs": [
    {
     "name": "stdout",
     "output_type": "stream",
     "text": [
      "2806274483104 2806274483104 2806274483104\n",
      "pointer it was deleted\n"
     ]
    }
   ],
   "source": [
    "class pointer:\n",
    "    def __init__(self,x=0,y=0):\n",
    "        self.x=x\n",
    "        self.y=y\n",
    "    def __del__(self):\n",
    "        class_name=self.__class__.__name__\n",
    "        print(class_name,\"it was deleted\")\n",
    "p=pointer()\n",
    "p1=p\n",
    "p2=p\n",
    "print(id(p),id(p1),id(p2))\n",
    "del p\n",
    "del p1\n",
    "del p2"
   ]
  }
 ],
 "metadata": {
  "kernelspec": {
   "display_name": "Python 3 (ipykernel)",
   "language": "python",
   "name": "python3"
  },
  "language_info": {
   "codemirror_mode": {
    "name": "ipython",
    "version": 3
   },
   "file_extension": ".py",
   "mimetype": "text/x-python",
   "name": "python",
   "nbconvert_exporter": "python",
   "pygments_lexer": "ipython3",
   "version": "3.8.2"
  }
 },
 "nbformat": 4,
 "nbformat_minor": 5
}
