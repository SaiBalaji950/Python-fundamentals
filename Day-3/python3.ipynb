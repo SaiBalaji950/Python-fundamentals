{
 "cells": [
  {
   "cell_type": "raw",
   "id": "e8b9e155-337d-414d-bd27-1efd072a2376",
   "metadata": {},
   "source": [
    "Data Types- int, Float, Complex, Boolean, String, List, Tuple, Dictionary and set"
   ]
  },
  {
   "cell_type": "code",
   "execution_count": 1,
   "id": "14da5afa-53f8-4e3b-9d33-78b68bde1dc1",
   "metadata": {},
   "outputs": [
    {
     "name": "stdout",
     "output_type": "stream",
     "text": [
      "<class 'int'>\n"
     ]
    }
   ],
   "source": [
    "a=50\n",
    "print(type(a))"
   ]
  },
  {
   "cell_type": "code",
   "execution_count": 2,
   "id": "5daf0d82-9d60-4664-ab89-d77591839c69",
   "metadata": {},
   "outputs": [
    {
     "name": "stdout",
     "output_type": "stream",
     "text": [
      "<class 'float'>\n"
     ]
    }
   ],
   "source": [
    "a=50.0\n",
    "print(type(a))"
   ]
  },
  {
   "cell_type": "code",
   "execution_count": 3,
   "id": "bbb21bee-6f0b-4445-810c-57381e7d9d75",
   "metadata": {},
   "outputs": [
    {
     "name": "stdout",
     "output_type": "stream",
     "text": [
      "<class 'complex'>\n"
     ]
    }
   ],
   "source": [
    "a=9+50j\n",
    "print(type(a))"
   ]
  },
  {
   "cell_type": "code",
   "execution_count": 4,
   "id": "e59e3457-67fe-44ac-af61-d0f5d751dd25",
   "metadata": {},
   "outputs": [
    {
     "name": "stdout",
     "output_type": "stream",
     "text": [
      "<class 'str'>\n"
     ]
    }
   ],
   "source": [
    "a='balaji'\n",
    "print(type(a))"
   ]
  },
  {
   "cell_type": "code",
   "execution_count": 6,
   "id": "d61dfd0f-071c-4805-acbf-783374aae5ad",
   "metadata": {},
   "outputs": [
    {
     "name": "stdout",
     "output_type": "stream",
     "text": [
      "<class 'bool'>\n",
      "<class 'bool'>\n"
     ]
    }
   ],
   "source": [
    "a=True\n",
    "b=False\n",
    "print(type(a))\n",
    "print(type(b))"
   ]
  },
  {
   "cell_type": "raw",
   "id": "e8459078-f09f-479f-b0e6-1c9ea4e1e24f",
   "metadata": {},
   "source": [
    "binary datatype is used to represent bytes,bytearray and memory view "
   ]
  },
  {
   "cell_type": "code",
   "execution_count": 9,
   "id": "10855f5c-2103-4f61-8f9b-a0e9187d94e8",
   "metadata": {},
   "outputs": [
    {
     "name": "stdout",
     "output_type": "stream",
     "text": [
      "1\n",
      "<class 'bytes'>\n"
     ]
    }
   ],
   "source": [
    "b=bytes([1,2,3])\n",
    "print(b[0])\n",
    "print(type(b))#byte"
   ]
  },
  {
   "cell_type": "code",
   "execution_count": 10,
   "id": "a5661a77-f95b-4df2-8a19-6f7f0d745259",
   "metadata": {},
   "outputs": [
    {
     "name": "stdout",
     "output_type": "stream",
     "text": [
      "bytearray(b'\\x01\\x02\\x03')\n",
      "bytearray(b'\\x04\\x02\\x03')\n",
      "<class 'bytearray'>\n"
     ]
    }
   ],
   "source": [
    "ba=bytearray([1,2,3])\n",
    "print(ba)\n",
    "ba[0]=4\n",
    "print(ba)\n",
    "print(type(ba))"
   ]
  },
  {
   "cell_type": "code",
   "execution_count": 11,
   "id": "f000e8ce-68c7-475d-aa62-41494cc1830e",
   "metadata": {},
   "outputs": [
    {
     "name": "stdout",
     "output_type": "stream",
     "text": [
      "<memory at 0x00000183E12A5C40>\n",
      "<class 'memoryview'>\n"
     ]
    }
   ],
   "source": [
    "a=memoryview(bytes([2,4,6]))\n",
    "print(a)\n",
    "print(type(a))"
   ]
  },
  {
   "cell_type": "raw",
   "id": "da0588b6-e5cc-43a3-b7a7-0c54ae5edbda",
   "metadata": {},
   "source": [
    "Lists are group of heterogeneous objects in sequence and it is mutable which is allowed to change and it is represented by []."
   ]
  },
  {
   "cell_type": "code",
   "execution_count": 12,
   "id": "038e1b10-18cd-4890-bb43-6726d8ec2381",
   "metadata": {},
   "outputs": [
    {
     "name": "stdout",
     "output_type": "stream",
     "text": [
      "[10, 20, 'balaji', (2+1j), True]\n",
      "<class 'list'>\n"
     ]
    }
   ],
   "source": [
    "a=[10,20,'balaji',2+1j,True]\n",
    "print(a)\n",
    "print(type(a))"
   ]
  },
  {
   "cell_type": "raw",
   "id": "cff1e1d6-eec9-40b9-b0d1-51472e48504d",
   "metadata": {},
   "source": [
    "tuples are also group of heterogeneous objects in sequence and it is immutable which is not allows to change and it is represented by ()."
   ]
  },
  {
   "cell_type": "code",
   "execution_count": 13,
   "id": "fa45f78b-6d11-4c7a-af3e-f748ec23d028",
   "metadata": {},
   "outputs": [
    {
     "name": "stdout",
     "output_type": "stream",
     "text": [
      "(10, 20, 'balaji', (2+1j), True, False)\n",
      "<class 'tuple'>\n"
     ]
    }
   ],
   "source": [
    "a=(10,20,'balaji',2+1j,True,False)\n",
    "print(a)\n",
    "print(type(a))"
   ]
  },
  {
   "cell_type": "raw",
   "id": "c2efc26f-de1b-4bbf-bdd1-7347fd69167b",
   "metadata": {},
   "source": [
    "Sets are group of heterogeneous objects in unoreder and it is mutable and it is represented by {}."
   ]
  },
  {
   "cell_type": "code",
   "execution_count": 14,
   "id": "23e0d3f4-4661-45e7-ade9-68188cf8f006",
   "metadata": {},
   "outputs": [
    {
     "name": "stdout",
     "output_type": "stream",
     "text": [
      "{False, True, (2+1j), 'balaji', 10, 20}\n",
      "<class 'set'>\n"
     ]
    }
   ],
   "source": [
    "a={10,20,'balaji',2+1j,True,False}\n",
    "print(a)\n",
    "print(type(a))"
   ]
  },
  {
   "cell_type": "code",
   "execution_count": 15,
   "id": "a531efee-83fa-4ffe-a51f-9db9dca0c9b2",
   "metadata": {},
   "outputs": [
    {
     "name": "stdout",
     "output_type": "stream",
     "text": [
      "{'February', 'August', 'January', 'May', 'September', 'October', 'April', 'June', 'December', 'November', 'March', 'July'}\n",
      "<class 'set'>\n"
     ]
    }
   ],
   "source": [
    "a={'January','February','March','April','May','June','July','August','September','October','November','December'}\n",
    "print(a)\n",
    "print(type(a))"
   ]
  },
  {
   "cell_type": "raw",
   "id": "5da94155-ca2f-43a3-9704-66a42c30357e",
   "metadata": {},
   "source": [
    "Dictionaries are stored in Data in key-value formats and it is mutable and it is represented by {}."
   ]
  },
  {
   "cell_type": "code",
   "execution_count": 21,
   "id": "fac8a641-152b-4b1e-923b-04355ff335ee",
   "metadata": {},
   "outputs": [
    {
     "name": "stdout",
     "output_type": "stream",
     "text": [
      "{'Name': 'Vennelakanti Sai Balaji', 'Age': '21', 'Course': 'Btech', 'Experience': 'Fresher'}\n",
      "<class 'dict'>\n"
     ]
    }
   ],
   "source": [
    "a={'Name':'Vennelakanti Sai Balaji','Age':'21', 'Course':'Btech', 'Experience':'Fresher'}\n",
    "print(a)\n",
    "print(type(a))"
   ]
  },
  {
   "cell_type": "raw",
   "id": "e7f8cbfa-7322-4621-9345-ab3120becb5a",
   "metadata": {},
   "source": [
    "STRINGS"
   ]
  },
  {
   "cell_type": "code",
   "execution_count": 24,
   "id": "4f2a1d8f-e6ae-484e-97b2-13b1b58fa46d",
   "metadata": {},
   "outputs": [
    {
     "name": "stdout",
     "output_type": "stream",
     "text": [
      "balaji Balaji balaji\n",
      "<class 'str'>\n",
      "<class 'str'>\n",
      "<class 'str'>\n"
     ]
    }
   ],
   "source": [
    "a,b,c='balaji',\"Balaji\",'''balaji'''\n",
    "print(a,b,c)\n",
    "print(type(a))\n",
    "print(type(b))\n",
    "print(type(c))"
   ]
  },
  {
   "cell_type": "code",
   "execution_count": 30,
   "id": "7dd0ab35-460d-4dd2-90cb-a420ecb4448c",
   "metadata": {},
   "outputs": [
    {
     "name": "stdout",
     "output_type": "stream",
     "text": [
      "10 <class 'str'>\n",
      "10.5 <class 'str'>\n",
      "(20+10j) <class 'str'>\n",
      "True <class 'str'>\n",
      "balaji <class 'str'>\n"
     ]
    }
   ],
   "source": [
    "a=10\n",
    "str1=str(a)\n",
    "b=10.5\n",
    "str2=str(b)\n",
    "c=20+10j\n",
    "str3=str(c)\n",
    "d=True\n",
    "str4=str(d)\n",
    "e='balaji'\n",
    "str5=str(e)\n",
    "print(str1,type(str1))\n",
    "print(str2,type(str2))\n",
    "print(str3,type(str3))\n",
    "print(str4,type(str4))\n",
    "print(str5,type(str5))"
   ]
  },
  {
   "cell_type": "code",
   "execution_count": 33,
   "id": "c977205d-6b62-4e44-9a30-5f6743e89146",
   "metadata": {},
   "outputs": [
    {
     "name": "stdout",
     "output_type": "stream",
     "text": [
      "a\n",
      "balaj\n"
     ]
    }
   ],
   "source": [
    "a='balaji'\n",
    "print(a[-3])\n",
    "print(a[0:5])#indexing"
   ]
  },
  {
   "cell_type": "code",
   "execution_count": 34,
   "id": "9878c1f2-e3c7-40d7-a74f-f948e67d7fc8",
   "metadata": {},
   "outputs": [
    {
     "name": "stdout",
     "output_type": "stream",
     "text": [
      "My Name is sai balaji\n"
     ]
    }
   ],
   "source": [
    "a=\"     My Name is sai balaji        \"\n",
    "print(a.strip())"
   ]
  },
  {
   "cell_type": "code",
   "execution_count": 36,
   "id": "f43be54f-f73a-4aeb-a0df-caeb83bd4426",
   "metadata": {},
   "outputs": [
    {
     "name": "stdout",
     "output_type": "stream",
     "text": [
      "SAI BALAJI\n",
      "sai balaji\n",
      "False\n",
      "True\n",
      "True\n"
     ]
    }
   ],
   "source": [
    "a='sai balaji'\n",
    "print(a.upper())\n",
    "b='SAI BALAJI'\n",
    "print(b.lower())\n",
    "print(a.startswith('balaji'))\n",
    "print(a.startswith('sai'))\n",
    "print(a.endswith('ji'))"
   ]
  },
  {
   "cell_type": "code",
   "execution_count": 37,
   "id": "c06f039e-540d-4798-bc05-9f03455aeb85",
   "metadata": {},
   "outputs": [
    {
     "name": "stdout",
     "output_type": "stream",
     "text": [
      "10\n",
      "0\n",
      "s,a,i\n",
      "balu\n",
      "True\n"
     ]
    }
   ],
   "source": [
    "print(len('sai balaji'))\n",
    "print('balaji'.find('bal'))\n",
    "print(','.join(['s','a','i']))\n",
    "print('balaji'.replace('aji','u'))\n",
    "print('bal' in 'balaji')"
   ]
  },
  {
   "cell_type": "raw",
   "id": "18e0b8a2-9e73-4b3e-bffe-5686ba695ae1",
   "metadata": {},
   "source": [
    "Lists"
   ]
  },
  {
   "cell_type": "code",
   "execution_count": 47,
   "id": "e0aec27c-58b8-4027-925d-d1f4e7dfa2da",
   "metadata": {},
   "outputs": [
    {
     "name": "stdout",
     "output_type": "stream",
     "text": [
      "[1, 2, 3, 4]\n",
      "[1, 2, 3, 4, 5]\n",
      "[1]\n",
      "5\n",
      "['vennelakanti', 'sai', 'balaji']\n",
      "['vennelakanti']\n",
      "balaji\n",
      "sai\n"
     ]
    }
   ],
   "source": [
    "a=[1,2,3,4,5]\n",
    "print(a[0:4])\n",
    "print(a[0:])\n",
    "print(a[0:1])\n",
    "print(a[-1])\n",
    "b=['vennelakanti','sai','balaji']\n",
    "print(b[0:])\n",
    "print(b[0:1])\n",
    "print(b[-1])\n",
    "print(b[-2])"
   ]
  },
  {
   "cell_type": "code",
   "execution_count": 49,
   "id": "654c843f-3e7d-416a-b9a7-fcea29b9f9ed",
   "metadata": {},
   "outputs": [
    {
     "name": "stdout",
     "output_type": "stream",
     "text": [
      "[1, 2, 3, 4, 5]\n",
      "[1, 99, 2, 3, 4, 5]\n"
     ]
    }
   ],
   "source": [
    "a=[1,2,3,4]\n",
    "a.append(5)\n",
    "print(a)\n",
    "a.insert(1,99)\n",
    "print(a)"
   ]
  },
  {
   "cell_type": "code",
   "execution_count": 53,
   "id": "bc96469f-4df1-41bc-957f-50c1104c6509",
   "metadata": {},
   "outputs": [
    {
     "name": "stdout",
     "output_type": "stream",
     "text": [
      "[1, 2, 3, 4, 5]\n"
     ]
    }
   ],
   "source": [
    "a=[1,2,3,4]+[5]\n",
    "print(a)#concatenation of list"
   ]
  },
  {
   "cell_type": "code",
   "execution_count": 55,
   "id": "40725600-1da3-4695-b5f9-cd726df6566d",
   "metadata": {},
   "outputs": [
    {
     "name": "stdout",
     "output_type": "stream",
     "text": [
      "[1, 2, 4, 5, 6]\n",
      "[6, 5, 4, 2, 1]\n"
     ]
    }
   ],
   "source": [
    "a=[1,2,3,4,5,6]\n",
    "a.remove(3)\n",
    "print(a)\n",
    "a.reverse()\n",
    "print(a)"
   ]
  },
  {
   "cell_type": "code",
   "execution_count": 59,
   "id": "c25b9a9b-eecd-4644-a9ab-662378122b6e",
   "metadata": {},
   "outputs": [
    {
     "name": "stdout",
     "output_type": "stream",
     "text": [
      "[1, 2, 3, 4, 5]\n",
      "1\n",
      "1\n"
     ]
    }
   ],
   "source": [
    "a=[1,2,3,4,5]\n",
    "a.sort()\n",
    "print(a)\n",
    "print(a.index(2))\n",
    "print(a.index(2,1))"
   ]
  },
  {
   "cell_type": "code",
   "execution_count": 62,
   "id": "2b689067-b854-40d6-965b-e8aec89bd59a",
   "metadata": {},
   "outputs": [
    {
     "name": "stdout",
     "output_type": "stream",
     "text": [
      "None\n",
      "[1, 2, 3, 4, 5, 6]\n",
      "6\n",
      "5\n",
      "4\n",
      "3\n",
      "[1, 2]\n"
     ]
    }
   ],
   "source": [
    "a=[1,2,3,4,5]\n",
    "print(a.append(6))\n",
    "print(a)\n",
    "print(a.pop())\n",
    "print(a.pop())\n",
    "print(a.pop())\n",
    "print(a.pop())\n",
    "print(a)"
   ]
  },
  {
   "cell_type": "raw",
   "id": "f8958740-2b39-49b5-88cb-ffa51a7aab57",
   "metadata": {},
   "source": [
    "Tuple"
   ]
  },
  {
   "cell_type": "code",
   "execution_count": 79,
   "id": "760c44e5-c9f0-4abb-aa2a-bbd2442fbe7e",
   "metadata": {},
   "outputs": [
    {
     "name": "stdout",
     "output_type": "stream",
     "text": [
      "(10, 20, 'balaji', (2+3j), True) <class 'tuple'>\n",
      "10 <class 'int'>\n",
      "(10,) <class 'tuple'>\n",
      "6\n",
      "1\n"
     ]
    }
   ],
   "source": [
    "a=(10,20,'balaji',2+3j,True)\n",
    "print(a,type(a))\n",
    "A=(10)\n",
    "print(A,type(A))\n",
    "B=(10,)\n",
    "print(B,type(B))\n",
    "b=(10,2,3,4,5,10,10,10,10,10)\n",
    "print(b.count(10))\n",
    "print(b.count(5))"
   ]
  },
  {
   "cell_type": "code",
   "execution_count": 91,
   "id": "ba4cda4f-05af-4bb7-be1c-4d56fc3f3311",
   "metadata": {},
   "outputs": [
    {
     "name": "stdout",
     "output_type": "stream",
     "text": [
      "5\n"
     ]
    }
   ],
   "source": [
    "a=(1,2,3,4,5,4)\n",
    "print(a.index(4,4))"
   ]
  },
  {
   "cell_type": "code",
   "execution_count": 96,
   "id": "894cb471-3af4-44fe-ab8a-1d2c4da0c41d",
   "metadata": {},
   "outputs": [
    {
     "name": "stdout",
     "output_type": "stream",
     "text": [
      "unpacking :1234\n"
     ]
    }
   ],
   "source": [
    "a=(1,2,3,4)\n",
    "x,y,z,b=a\n",
    "print('unpacking :', end='')\n",
    "print(x,y,z,b,sep='')"
   ]
  },
  {
   "cell_type": "raw",
   "id": "72da0618-003b-4e26-9e87-804499a5164a",
   "metadata": {},
   "source": [
    "Sets"
   ]
  },
  {
   "cell_type": "code",
   "execution_count": 101,
   "id": "e67bbe02-101c-4303-b6a8-dca8ef6d9499",
   "metadata": {},
   "outputs": [
    {
     "name": "stdout",
     "output_type": "stream",
     "text": [
      "{False, 1, 2, 'balaji'} <class 'set'>\n"
     ]
    }
   ],
   "source": [
    "a={1,2,'balaji', True,False}\n",
    "print(a,type(a))"
   ]
  },
  {
   "cell_type": "code",
   "execution_count": 108,
   "id": "d41c2a77-53af-4a78-b911-5af00623fff6",
   "metadata": {},
   "outputs": [
    {
     "name": "stdout",
     "output_type": "stream",
     "text": [
      "set()\n",
      "<class 'set'>\n"
     ]
    }
   ],
   "source": [
    "a=set()\n",
    "print(a)\n",
    "print(type(a))"
   ]
  },
  {
   "cell_type": "code",
   "execution_count": 109,
   "id": "313180dc-05b1-413b-80fe-a08290a8cd64",
   "metadata": {},
   "outputs": [
    {
     "name": "stdout",
     "output_type": "stream",
     "text": [
      "{1.0, (1, 2, 3), 'balaji'}\n"
     ]
    }
   ],
   "source": [
    "a={1.0,'balaji',(1,2,3)}\n",
    "print(a)"
   ]
  },
  {
   "cell_type": "code",
   "execution_count": 110,
   "id": "52dbeacb-edeb-4b84-b1c3-f97efec5c714",
   "metadata": {},
   "outputs": [
    {
     "name": "stdout",
     "output_type": "stream",
     "text": [
      "{1, 3, 4, 5.5, 6, 12}\n"
     ]
    }
   ],
   "source": [
    "a={1,1,12,3,4,4,5.5,6}\n",
    "print(a)#it does not allow repeat values"
   ]
  },
  {
   "cell_type": "code",
   "execution_count": 111,
   "id": "218714aa-abc2-4f37-883d-68cc017a7f1d",
   "metadata": {},
   "outputs": [
    {
     "name": "stdout",
     "output_type": "stream",
     "text": [
      "{1, 2, 3, 50}\n"
     ]
    }
   ],
   "source": [
    "a={1,2,3}\n",
    "a.add(50)\n",
    "print(a)"
   ]
  },
  {
   "cell_type": "code",
   "execution_count": 112,
   "id": "e2a83915-3215-4cfd-b52f-998b0c31e16b",
   "metadata": {},
   "outputs": [
    {
     "name": "stdout",
     "output_type": "stream",
     "text": [
      "{1, 2, 3, 100, 50}\n"
     ]
    }
   ],
   "source": [
    "a={1,2,3}\n",
    "a.update([50,100])\n",
    "print(a)"
   ]
  },
  {
   "cell_type": "code",
   "execution_count": 119,
   "id": "eb5a9341-161b-4d96-b370-cf7eb1fca8f8",
   "metadata": {},
   "outputs": [
    {
     "name": "stdout",
     "output_type": "stream",
     "text": [
      "{1, 2, 3, 4, 5, 7, 8}\n",
      "{2, 3, 4, 5, 7, 8}\n",
      "{3, 4, 5, 7, 8}\n",
      "3\n",
      "{4, 5, 7, 8}\n",
      "set()\n"
     ]
    }
   ],
   "source": [
    "a={1,2,3,4,5,6,7,8}\n",
    "a.discard(6)\n",
    "print(a)\n",
    "a.remove(1)\n",
    "print(a)\n",
    "a.pop()\n",
    "print(a)\n",
    "print(a.pop())\n",
    "print(a)\n",
    "a.clear()\n",
    "print(a)"
   ]
  },
  {
   "cell_type": "code",
   "execution_count": 121,
   "id": "f16909a0-82e4-43b8-b79c-757e95e47dfe",
   "metadata": {},
   "outputs": [
    {
     "name": "stdout",
     "output_type": "stream",
     "text": [
      "{'Monday', 'Sataurday', 'Wednesday', 'Tuesday', 'Sunday', 'Friday', 'Thursday'}\n",
      "{'Monday'}\n"
     ]
    }
   ],
   "source": [
    "#UNION OPERATOR USING WITH '|' SYMBOL\n",
    "a={'Monday','Tuesday','Wednesday','Thursday'}\n",
    "b={'Monday','Friday','Sataurday','Sunday'}\n",
    "print(a|b)\n",
    "#intersection opertaor using with '&' symbol\n",
    "print(a&b)"
   ]
  },
  {
   "cell_type": "code",
   "execution_count": 124,
   "id": "b620d8c2-682f-44ad-a4b4-19e0076bd277",
   "metadata": {},
   "outputs": [
    {
     "name": "stdout",
     "output_type": "stream",
     "text": [
      "{8, 10, 6}\n",
      "{5, 6, 7, 8, 9, 10}\n"
     ]
    }
   ],
   "source": [
    "#difference operator is used with '-' symbol\n",
    "a={2,4,6,8,10}\n",
    "b={2,4,5,7,9}\n",
    "print(a-b)\n",
    "#Symmetric difference is used with '^' symbol\n",
    "print(a^b)"
   ]
  },
  {
   "cell_type": "code",
   "execution_count": 125,
   "id": "6b034cb1-5088-4741-bb0f-f5d2b5401f21",
   "metadata": {},
   "outputs": [
    {
     "name": "stdout",
     "output_type": "stream",
     "text": [
      "frozenset({1, 2, 3, 4, 5}) <class 'frozenset'>\n"
     ]
    }
   ],
   "source": [
    "#FrozenSet - It is a new class that has the characteristics of a set,But it's elements cannot be changed once assigned.\n",
    "#While Tuples are immutable Lists, frozensets are immutable sets.They can be created using the function frozenset()\n",
    "a=frozenset([1,2,3,4,5])\n",
    "print(a,type(a))"
   ]
  },
  {
   "cell_type": "raw",
   "id": "eadf58a8-8faf-4253-b147-c008192c43a3",
   "metadata": {},
   "source": [
    "DICTIONARIES"
   ]
  },
  {
   "cell_type": "code",
   "execution_count": 136,
   "id": "739c014e-8254-45a5-b371-99c50ad425f9",
   "metadata": {},
   "outputs": [
    {
     "name": "stdout",
     "output_type": "stream",
     "text": [
      "{'Vennelakanti': 1234567890, 'sai': 9874563210, 'balaji': 9876543210, 1: 'mahesh babu', 2: 'sl'}\n",
      "{'Vennelakanti': 1234567890, 'sai': 9874563210, 'balaji': 9876543210, 1: 'mahesh babu'} <class 'dict'>\n"
     ]
    }
   ],
   "source": [
    "a={}\n",
    "a['Vennelakanti']=1234567890\n",
    "a['sai']=9874563210\n",
    "a['balaji']=9876543210\n",
    "a[1]='mahesh babu'\n",
    "a[2]='sl'\n",
    "print(a)\n",
    "a.pop(2)\n",
    "print(a,type(a))"
   ]
  },
  {
   "cell_type": "code",
   "execution_count": 138,
   "id": "e3d34a55-60ec-4e20-b379-7e387f409931",
   "metadata": {},
   "outputs": [
    {
     "name": "stdout",
     "output_type": "stream",
     "text": [
      "{'Name': 'Sai Balaji', 'Age': 21, 'Experience': 'Fresher'}\n",
      "dict_keys(['Name', 'Age', 'Experience'])\n",
      "dict_values(['Sai Balaji', 21, 'Fresher'])\n",
      "{'Name': 'Sai Balaji', 'Experience': 'Fresher'}\n",
      "2\n",
      "{}\n"
     ]
    }
   ],
   "source": [
    "a={'Name':'Sai Balaji','Age':21,'Experience':'Fresher'}\n",
    "print(a)\n",
    "print(a.keys())\n",
    "print(a.values())\n",
    "del a['Age']\n",
    "print(a)\n",
    "print(len(a))\n",
    "a.clear()\n",
    "print(a)"
   ]
  },
  {
   "cell_type": "code",
   "execution_count": 144,
   "id": "7bf0461e-d282-4338-838e-0d7b4ba58532",
   "metadata": {},
   "outputs": [
    {
     "name": "stdout",
     "output_type": "stream",
     "text": [
      "{'Vennelakanti': 1234567890, 'sai': 9874563210, 'balaji': 9876543210, 1: 'mahesh babu', 2: 'sl'}\n",
      "9874563210\n",
      "None\n",
      "{'Vennelakanti': 1234567890, 'sai': 9874563210, 'balaji': 9876543210, 1: 'SB', 2: 'sl'}\n"
     ]
    }
   ],
   "source": [
    "a={'Vennelakanti': 1234567890, 'sai': 9874563210, 'balaji': 9876543210, 1: 'mahesh babu', 2: 'sl'}\n",
    "b=a.copy()\n",
    "print(b)\n",
    "print(a.get('sai'))\n",
    "print(a.update({1:'SB'}))\n",
    "print(a)"
   ]
  }
 ],
 "metadata": {
  "kernelspec": {
   "display_name": "Python 3 (ipykernel)",
   "language": "python",
   "name": "python3"
  },
  "language_info": {
   "codemirror_mode": {
    "name": "ipython",
    "version": 3
   },
   "file_extension": ".py",
   "mimetype": "text/x-python",
   "name": "python",
   "nbconvert_exporter": "python",
   "pygments_lexer": "ipython3",
   "version": "3.8.2"
  }
 },
 "nbformat": 4,
 "nbformat_minor": 5
}
