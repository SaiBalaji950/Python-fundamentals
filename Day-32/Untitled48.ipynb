{
 "cells": [
  {
   "cell_type": "code",
   "execution_count": null,
   "id": "f70b69d3-1711-4f2e-b917-9ab76d7a12ea",
   "metadata": {},
   "outputs": [],
   "source": [
    "Python Sqlite3"
   ]
  },
  {
   "cell_type": "code",
   "execution_count": null,
   "id": "ac2524d0-0ae2-464b-870b-6f339cad8771",
   "metadata": {},
   "outputs": [],
   "source": [
    "SQLite is an in-process library that implements a self-contained, serverless, zero-configuration, transactional SQL database engine. \n",
    "It is a database, which is zero-configured, which means like other databases you do not need to configure it in your system.\n",
    "\n",
    "SQLite engine is not a standalone process like other databases, you can link it statically or dynamically as per your requirement with your application. \n",
    "SQLite accesses its storage files directly."
   ]
  },
  {
   "cell_type": "code",
   "execution_count": 1,
   "id": "42df03fe-8a19-4d77-9452-58931aa416ba",
   "metadata": {},
   "outputs": [],
   "source": [
    "import sqlite3"
   ]
  },
  {
   "cell_type": "code",
   "execution_count": 2,
   "id": "ec544f99-c2a6-4ca3-99cc-4b3fb4057fb1",
   "metadata": {},
   "outputs": [
    {
     "name": "stdout",
     "output_type": "stream",
     "text": [
      "Opened Database Successfully\n"
     ]
    }
   ],
   "source": [
    "import sqlite3\n",
    "connection=sqlite3.connect('Python.db')\n",
    "print(\"Opened Database Successfully\");"
   ]
  },
  {
   "cell_type": "code",
   "execution_count": null,
   "id": "88ecc547-2f06-4691-bd91-af8a4ef96c6c",
   "metadata": {},
   "outputs": [],
   "source": [
    "Create a Table"
   ]
  },
  {
   "cell_type": "code",
   "execution_count": 3,
   "id": "35766d56-74f5-4b8f-baae-63cf4f27b621",
   "metadata": {},
   "outputs": [
    {
     "name": "stdout",
     "output_type": "stream",
     "text": [
      "Opened Database Successfully\n",
      "Tables Created Successfully\n"
     ]
    }
   ],
   "source": [
    "import sqlite3\n",
    "connection=sqlite3.connect('Python.db')\n",
    "print(\"Opened Database Successfully\");\n",
    "connection.execute(\"CREATE TABLE Employee(NAME TEXT NOT NULL, ID INT PRIMARY KEY NOT NULL, AGE INT NOT NULL, ADDRESS CHAR(50), SALARY REAL);\")\n",
    "connection.execute('CREATE TABLE Department(Dept_Id int(20) PRIMARY KEY NOT NULL,DEPT_Name VARCHAR(20) NOT NULL)')\n",
    "print(\"Tables Created Successfully\");\n",
    "connection.close()"
   ]
  },
  {
   "cell_type": "code",
   "execution_count": null,
   "id": "89228436-ed87-43ed-9806-3c4beb597c1b",
   "metadata": {},
   "outputs": [],
   "source": [
    "Insert Records\n",
    "Insert some records in \"Employees\" table."
   ]
  },
  {
   "cell_type": "code",
   "execution_count": 4,
   "id": "25b3b5d3-cdbc-418c-9350-aa01eeae3662",
   "metadata": {},
   "outputs": [
    {
     "name": "stdout",
     "output_type": "stream",
     "text": [
      "opened Database Successfully\n",
      "Table Inserted Successfully\n"
     ]
    }
   ],
   "source": [
    "import sqlite3\n",
    "connection=sqlite3.connect('Python.db')\n",
    "print(\"opened Database Successfully\");\n",
    "connection.execute(\"INSERT INTO Employee(NAME,ID,AGE,ADDRESS,SALARY)VALUES('mi',199,22,'rjy',15000)\")\n",
    "connection.execute(\"INSERT INTO Employee(NAME,ID,AGE,ADDRESS,SALARY)VALUES('Sai Balaji',200,23,'rjy',15000)\")\n",
    "connection.execute(\"INSERT INTO Employee(NAME,ID,AGE,ADDRESS,SALARY)VALUES('chathanya',201,22,'hyd',14000)\")\n",
    "connection.execute(\"INSERT INTO Employee(NAME,ID,AGE,ADDRESS,SALARY)VALUES('upendra',202,23,'ban',13000)\")\n",
    "connection.execute('INSERT INTO Department(Dept_Id,Dept_Name)VALUES(199,\"CSE\")')\n",
    "connection.execute('INSERT INTO Department(Dept_Id,Dept_Name)VALUES(200,\"CSE\")')\n",
    "connection.execute('INSERT INTO Department(Dept_Id,Dept_Name)VALUES(201,\"ECE\")')\n",
    "connection.commit()\n",
    "print(\"Table Inserted Successfully\")\n",
    "connection.close()"
   ]
  },
  {
   "cell_type": "code",
   "execution_count": null,
   "id": "d42f7c43-806b-41c8-9967-80c406a2ccd6",
   "metadata": {},
   "outputs": [],
   "source": [
    "Select Records\n",
    "Now you can fetch and display your records from the table \"Employees\" by using SELECT statement."
   ]
  },
  {
   "cell_type": "code",
   "execution_count": 5,
   "id": "78031090-505d-4abb-ad99-0003a3cba2b0",
   "metadata": {},
   "outputs": [
    {
     "name": "stdout",
     "output_type": "stream",
     "text": [
      "opened Database Successfully\n",
      "NAME=  mi\n",
      "ID=  199\n",
      "AGE=  22\n",
      "ADDRESS=  rjy\n",
      "SALARY=  15000.0\n",
      "NAME=  Sai Balaji\n",
      "ID=  200\n",
      "AGE=  23\n",
      "ADDRESS=  rjy\n",
      "SALARY=  15000.0\n",
      "NAME=  chathanya\n",
      "ID=  201\n",
      "AGE=  22\n",
      "ADDRESS=  hyd\n",
      "SALARY=  14000.0\n",
      "NAME=  upendra\n",
      "ID=  202\n",
      "AGE=  23\n",
      "ADDRESS=  ban\n",
      "SALARY=  13000.0\n"
     ]
    }
   ],
   "source": [
    "import sqlite3\n",
    "connection=sqlite3.connect('Python.db')\n",
    "print('opened Database Successfully')\n",
    "result = connection.execute('SELECT * FROM Employee')\n",
    "for row in result:\n",
    "    print(\"NAME= \",row[0])\n",
    "    print(\"ID= \",row[1])\n",
    "    print(\"AGE= \",row[2])\n",
    "    print(\"ADDRESS= \",row[3])\n",
    "    print(\"SALARY= \",row[4]),\"\\n\"\n",
    "connection.close()"
   ]
  },
  {
   "cell_type": "code",
   "execution_count": 6,
   "id": "0766edf9-6993-4a52-ab85-11a65e0a4ce5",
   "metadata": {},
   "outputs": [
    {
     "name": "stdout",
     "output_type": "stream",
     "text": [
      "opened Database Successfully\n",
      "Dept_Id=  199\n",
      "Depe_Name=  CSE\n",
      "Dept_Id=  200\n",
      "Depe_Name=  CSE\n",
      "Dept_Id=  201\n",
      "Depe_Name=  ECE\n"
     ]
    }
   ],
   "source": [
    "import sqlite3\n",
    "connection=sqlite3.connect('Python.db')\n",
    "print('opened Database Successfully')\n",
    "result = connection.execute('SELECT * FROM Department')\n",
    "for row in result:\n",
    "    print(\"Dept_Id= \",row[0])\n",
    "    print(\"Depe_Name= \",row[1]),\"\\n\"\n",
    "connection.close()"
   ]
  },
  {
   "cell_type": "code",
   "execution_count": 7,
   "id": "ad2eeb48-b179-41a2-8700-bd4f237b75cf",
   "metadata": {},
   "outputs": [
    {
     "name": "stdout",
     "output_type": "stream",
     "text": [
      "opened Database Successfully\n",
      "('mi', 199, 22, 'rjy', 15000.0)\n",
      "('Sai Balaji', 200, 23, 'rjy', 15000.0)\n",
      "('chathanya', 201, 22, 'hyd', 14000.0)\n",
      "('upendra', 202, 23, 'ban', 13000.0)\n"
     ]
    }
   ],
   "source": [
    "import sqlite3\n",
    "connection=sqlite3.connect('Python.db')\n",
    "cursor=connection.cursor()\n",
    "print('opened Database Successfully')\n",
    "result = cursor.execute('SELECT * FROM Employee')\n",
    "for row in cursor.fetchall():\n",
    "    print(row)\n",
    "connection.close()"
   ]
  },
  {
   "cell_type": "code",
   "execution_count": 8,
   "id": "2d8ea776-bd5f-40d0-b868-6bbf5f467748",
   "metadata": {},
   "outputs": [
    {
     "name": "stdout",
     "output_type": "stream",
     "text": [
      "(199, 'CSE')\n",
      "(200, 'CSE')\n",
      "(201, 'ECE')\n"
     ]
    }
   ],
   "source": [
    "import sqlite3\n",
    "connection=sqlite3.connect('Pythondb')\n",
    "cursor=connection.cursor()\n",
    "cursor.execute('SELECT * FROM Department')\n",
    "for row in cursor.fetchall():\n",
    "    print(row)\n",
    "connection.close()"
   ]
  },
  {
   "cell_type": "code",
   "execution_count": null,
   "id": "538ab6fd-3b65-4ce3-b596-17cda2049c58",
   "metadata": {},
   "outputs": [],
   "source": [
    "Update Operation"
   ]
  },
  {
   "cell_type": "code",
   "execution_count": 9,
   "id": "5e214bd4-bd97-4fb9-aa0c-c180ab41e19b",
   "metadata": {},
   "outputs": [
    {
     "name": "stdout",
     "output_type": "stream",
     "text": [
      "opened Database Successfully\n",
      "('mi', 199, 22, 'rjy', 15000.0)\n",
      "('Sai Balaji', 200, 23, 'rjy', 15000.0)\n",
      "('Chaithanya', 201, 22, 'hyd', 14000.0)\n",
      "('upendra', 202, 23, 'ban', 13000.0)\n"
     ]
    }
   ],
   "source": [
    "import sqlite3\n",
    "connection=sqlite3.connect('Python.db')\n",
    "cursor=connection.cursor()\n",
    "print('opened Database Successfully')\n",
    "cursor.execute(\"UPDATE Employee set NAME='Chaithanya' where id=201\")\n",
    "connection.commit()\n",
    "result=cursor.execute('SELECT * FROM Employee')\n",
    "for row in cursor.fetchall():\n",
    "    print(row)\n",
    "connection.close()"
   ]
  },
  {
   "cell_type": "code",
   "execution_count": null,
   "id": "e2c2f28c-40c2-4195-b9c4-942ceb4aa601",
   "metadata": {},
   "outputs": [],
   "source": [
    "Delete Operation"
   ]
  },
  {
   "cell_type": "code",
   "execution_count": 10,
   "id": "646cee6e-fa69-4c93-a3fe-d4decd433ebb",
   "metadata": {},
   "outputs": [
    {
     "name": "stdout",
     "output_type": "stream",
     "text": [
      "opened Database Successfully\n",
      "('mi', 199, 22, 'rjy', 15000.0)\n",
      "('Sai Balaji', 200, 23, 'rjy', 15000.0)\n",
      "('Chaithanya', 201, 22, 'hyd', 14000.0)\n"
     ]
    }
   ],
   "source": [
    "import sqlite3\n",
    "connection=sqlite3.connect('Python.db')\n",
    "cursor=connection.cursor()\n",
    "print('opened Database Successfully')\n",
    "cursor.execute('DELETE FROM Employee where id=202')\n",
    "connection.commit()\n",
    "result=cursor.execute(\"SELECT * FROM Employee\")\n",
    "for row in cursor.fetchall():\n",
    "    print(row)\n",
    "connection.close()"
   ]
  },
  {
   "cell_type": "code",
   "execution_count": null,
   "id": "eaad2746-f77a-4b11-801e-53908962185c",
   "metadata": {},
   "outputs": [],
   "source": [
    "Join Operation"
   ]
  },
  {
   "cell_type": "code",
   "execution_count": 13,
   "id": "6f6c1973-6a9a-4d39-9270-970ff268ef06",
   "metadata": {},
   "outputs": [
    {
     "name": "stdout",
     "output_type": "stream",
     "text": [
      "('mi', 22, 'rjy', 15000.0, 199, 'CSE')\n",
      "('Sai Balaji', 23, 'rjy', 15000.0, 200, 'CSE')\n",
      "('Chaithanya', 22, 'hyd', 14000.0, 201, 'ECE')\n"
     ]
    }
   ],
   "source": [
    "import sqlite3\n",
    "connection=sqlite3.connect(\"Python.db\")\n",
    "cursor=connection.cursor()\n",
    "try:\n",
    "    cursor.execute('SELECT Employee.NAME,Employee.AGE,Employee.ADDRESS,Employee.SALARY,Department.Dept_Id,Department.Dept_Name FROM Department left join Employee on Department.Dept_Id=Employee.ID')\n",
    "    connection.commit()\n",
    "    result=cursor.fetchall()\n",
    "    for row in result:\n",
    "        print(row)\n",
    "except Exception as e:\n",
    "    print(\"Error:\", e)\n",
    "    connection.rollback()\n",
    "connection.close()"
   ]
  },
  {
   "cell_type": "code",
   "execution_count": null,
   "id": "c6760023-a6f5-4d98-8f2a-d371564ac8b2",
   "metadata": {},
   "outputs": [],
   "source": []
  }
 ],
 "metadata": {
  "kernelspec": {
   "display_name": "Python 3 (ipykernel)",
   "language": "python",
   "name": "python3"
  },
  "language_info": {
   "codemirror_mode": {
    "name": "ipython",
    "version": 3
   },
   "file_extension": ".py",
   "mimetype": "text/x-python",
   "name": "python",
   "nbconvert_exporter": "python",
   "pygments_lexer": "ipython3",
   "version": "3.9.12"
  }
 },
 "nbformat": 4,
 "nbformat_minor": 5
}
