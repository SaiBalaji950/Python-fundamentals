{
 "cells": [
  {
   "cell_type": "code",
   "execution_count": 1,
   "id": "101fadbc-acfd-47f9-be71-408554586d37",
   "metadata": {},
   "outputs": [],
   "source": [
    "import sqlite3"
   ]
  },
  {
   "cell_type": "code",
   "execution_count": 2,
   "id": "37d69b7d-3110-4950-b7ed-2f0ecf7fb7e1",
   "metadata": {},
   "outputs": [
    {
     "name": "stdout",
     "output_type": "stream",
     "text": [
      "Database created successfully\n"
     ]
    }
   ],
   "source": [
    "import sqlite3\n",
    "connection=sqlite3.connect('abc.db')\n",
    "print(\"Database created successfully\")"
   ]
  },
  {
   "cell_type": "code",
   "execution_count": 2,
   "id": "7eb7e6e5-cb3c-472d-bd2f-bb6eab7bd998",
   "metadata": {},
   "outputs": [
    {
     "name": "stdout",
     "output_type": "stream",
     "text": [
      "Database created successfully\n"
     ]
    }
   ],
   "source": [
    "import sqlite3\n",
    "connection=sqlite3.connect('java.db')\n",
    "print(\"Database created successfully\")"
   ]
  },
  {
   "cell_type": "code",
   "execution_count": null,
   "id": "8918a779-f276-4997-8bd2-040967e9398a",
   "metadata": {},
   "outputs": [],
   "source": [
    "Attach Database\n",
    "\n",
    "Assume a condition where you have multiple databases available and you have to use only one of them at a time. \n",
    "Thats why ATTACH DATABASE statement is used. It facilitates you to select a particular database and after using this command, \n",
    "all SQLite statements will be executed under the attached database."
   ]
  },
  {
   "cell_type": "code",
   "execution_count": 3,
   "id": "182f2ce2-bc42-4075-8e83-5e492772e377",
   "metadata": {},
   "outputs": [
    {
     "name": "stdout",
     "output_type": "stream",
     "text": [
      "Database was attached\n"
     ]
    }
   ],
   "source": [
    "import sqlite3\n",
    "connection=sqlite3.connect('abc.db')\n",
    "cursor=connection.cursor()\n",
    "try:\n",
    "    cursor.execute(\"ATTACH DATABASE 'abc.db' AS 'java.db'\")\n",
    "    connection.commit()\n",
    "except:\n",
    "    connection.rollback()\n",
    "print(\"Database was attached\")\n",
    "connection.close()"
   ]
  },
  {
   "cell_type": "code",
   "execution_count": null,
   "id": "6a6c7252-49d3-444f-b8f0-2b66e3db2cf8",
   "metadata": {},
   "outputs": [],
   "source": [
    "Detach Database"
   ]
  },
  {
   "cell_type": "code",
   "execution_count": 4,
   "id": "112e8bf6-097d-459b-8c17-aca8f4833ffd",
   "metadata": {},
   "outputs": [
    {
     "name": "stdout",
     "output_type": "stream",
     "text": [
      "Database was detached\n"
     ]
    }
   ],
   "source": [
    "import sqlite3\n",
    "connection=sqlite3.connect('abc.db')\n",
    "cursor=connection.cursor()\n",
    "try:\n",
    "    cursor.execute(\"DETACH DATABASE 'java.db'\")\n",
    "    connection.commit()\n",
    "except:\n",
    "    connection.rollback()\n",
    "print(\"Database was detached\")\n",
    "connection.close()"
   ]
  },
  {
   "cell_type": "code",
   "execution_count": null,
   "id": "f5c7edb1-ec1f-4edb-b505-233d4db392dd",
   "metadata": {},
   "outputs": [],
   "source": [
    "DROP Table"
   ]
  },
  {
   "cell_type": "code",
   "execution_count": 5,
   "id": "6c077679-de6a-437c-8ab3-2bf50e8eae13",
   "metadata": {},
   "outputs": [
    {
     "name": "stdout",
     "output_type": "stream",
     "text": [
      "Company Table was Deleted\n"
     ]
    }
   ],
   "source": [
    "import sqlite3\n",
    "connection=sqlite3.connect(\"Python.db\")\n",
    "cursor=connection.cursor()\n",
    "try:\n",
    "    cursor.execute(\"DROP TABLE Company\")\n",
    "    connection.commit()\n",
    "except:\n",
    "    connection.rollback()\n",
    "print(\"Company Table was Deleted\")\n",
    "connection.close()"
   ]
  },
  {
   "cell_type": "code",
   "execution_count": 6,
   "id": "15537f84-74f9-4886-9f52-a911baf64f18",
   "metadata": {},
   "outputs": [
    {
     "name": "stdout",
     "output_type": "stream",
     "text": [
      "('mi', 199, 22, 'rjy', 15000.0)\n",
      "('Sai Balaji', 200, 23, 'rjy', 15000.0)\n",
      "('Chaithanya', 201, 22, 'hyd', 14000.0)\n"
     ]
    }
   ],
   "source": [
    "import sqlite3\n",
    "connection=sqlite3.connect(\"Python.db\")\n",
    "cursor=connection.cursor()\n",
    "try:\n",
    "    cursor.execute(\"SELECT * FROM Employee\")\n",
    "    for row in cursor.fetchall():\n",
    "        print(row)\n",
    "except:\n",
    "    connection.rollback()\n",
    "connection.close()"
   ]
  },
  {
   "cell_type": "code",
   "execution_count": null,
   "id": "3a784517-27f0-4a4c-85f6-1252c41ee336",
   "metadata": {},
   "outputs": [],
   "source": [
    "Clauses \n",
    "\n",
    "Where Clause"
   ]
  },
  {
   "cell_type": "code",
   "execution_count": 7,
   "id": "e5ad5d15-6b82-4e0e-8ce4-bcf5f064263f",
   "metadata": {},
   "outputs": [
    {
     "name": "stdout",
     "output_type": "stream",
     "text": [
      "('mi', 199, 22, 'rjy', 15000.0)\n",
      "('Sai Balaji', 200, 23, 'rjy', 15000.0)\n"
     ]
    }
   ],
   "source": [
    "import sqlite3\n",
    "connection=sqlite3.connect(\"Python.db\")\n",
    "cursor=connection.cursor()\n",
    "try:\n",
    "    cursor.execute(\"DELETE FROM Employee where id=201\")\n",
    "    connection.commit()\n",
    "    cursor.execute(\"SELECT * FROM Employee\")\n",
    "    for row in cursor.fetchall():\n",
    "        print(row)\n",
    "except:\n",
    "    connection.rollback()\n",
    "connection.close()"
   ]
  },
  {
   "cell_type": "code",
   "execution_count": null,
   "id": "475493a2-8438-4c5b-9b85-48f8d1b7f390",
   "metadata": {},
   "outputs": [],
   "source": [
    "Where Clause By using AND OR operators"
   ]
  },
  {
   "cell_type": "code",
   "execution_count": 8,
   "id": "0ff350dc-fd4f-47f1-9487-13da2f35e7c3",
   "metadata": {},
   "outputs": [
    {
     "name": "stdout",
     "output_type": "stream",
     "text": [
      "('mi', 199, 22, 'rjy', 15000.0)\n",
      "('Sai Balaji', 200, 23, 'rjy', 15000.0)\n"
     ]
    }
   ],
   "source": [
    "import sqlite3\n",
    "connection=sqlite3.connect(\"Python.db\")\n",
    "cursor=connection.cursor()\n",
    "try:\n",
    "    cursor.execute(\"SELECT * FROM Employee WHERE id>=198 AND Age>=20\")\n",
    "    for row in cursor.fetchall():\n",
    "        print(row)\n",
    "except:\n",
    "    connection.rollback()\n",
    "connection.close()"
   ]
  },
  {
   "cell_type": "code",
   "execution_count": 14,
   "id": "5edf0a79-5acd-46ad-b825-c7293f324e9c",
   "metadata": {},
   "outputs": [
    {
     "name": "stdout",
     "output_type": "stream",
     "text": [
      "('mi', 199, 22, 'rjy', 15000.0)\n",
      "('Sai Balaji', 200, 23, 'rjy', 15000.0)\n"
     ]
    }
   ],
   "source": [
    "import sqlite3\n",
    "connection=sqlite3.connect(\"Python.db\")\n",
    "cursor=connection.cursor()\n",
    "try:\n",
    "    cursor.execute(\"SELECT * FROM Employee WHERE id<=198 OR Age>=20\")\n",
    "    for row in cursor.fetchall():\n",
    "        print(row)\n",
    "except:\n",
    "    connection.rollback()\n",
    "connection.close()"
   ]
  },
  {
   "cell_type": "code",
   "execution_count": null,
   "id": "80f254b5-c13b-46b2-adc9-c638166efe16",
   "metadata": {},
   "outputs": [],
   "source": [
    "Using Like in WHERE Clause"
   ]
  },
  {
   "cell_type": "code",
   "execution_count": 9,
   "id": "a9da9f99-0b4f-4311-a394-28ce19ece4c7",
   "metadata": {},
   "outputs": [
    {
     "name": "stdout",
     "output_type": "stream",
     "text": [
      "('Sai Balaji', 200, 23, 'rjy', 15000.0)\n"
     ]
    }
   ],
   "source": [
    "import sqlite3\n",
    "connection=sqlite3.connect(\"Python.db\")\n",
    "cursor=connection.cursor()\n",
    "try:\n",
    "    cursor.execute(\"SELECT * FROM Employee WHERE NAME LIKE 'S%'\")\n",
    "    for row in cursor.fetchall():\n",
    "        print(row)\n",
    "except:\n",
    "    connection.rollback()\n",
    "connection.close()"
   ]
  },
  {
   "cell_type": "code",
   "execution_count": 10,
   "id": "0fb5c6cb-8694-4e5b-a641-121b3b3ca76e",
   "metadata": {},
   "outputs": [
    {
     "name": "stdout",
     "output_type": "stream",
     "text": [
      "('mi', 199, 22, 'rjy', 15000.0)\n"
     ]
    }
   ],
   "source": [
    "import sqlite3\n",
    "connection=sqlite3.connect(\"Python.db\")\n",
    "cursor=connection.cursor()\n",
    "try:\n",
    "    cursor.execute(\"SELECT * FROM Employee WHERE NAME LIKE 'm%'\")\n",
    "    for row in cursor.fetchall():\n",
    "        print(row)\n",
    "except:\n",
    "    connection.rollback()\n",
    "connection.close()"
   ]
  },
  {
   "cell_type": "code",
   "execution_count": null,
   "id": "144d9546-91cc-4df0-a0b7-d356731e4b6a",
   "metadata": {},
   "outputs": [],
   "source": [
    "LIMIT and OFFSET Clause"
   ]
  },
  {
   "cell_type": "code",
   "execution_count": 19,
   "id": "7a81e1d1-6923-4129-83af-141d1792f4e1",
   "metadata": {},
   "outputs": [
    {
     "name": "stdout",
     "output_type": "stream",
     "text": [
      "('mi', 199, 22, 'rjy', 15000.0)\n"
     ]
    }
   ],
   "source": [
    "import sqlite3\n",
    "connection=sqlite3.connect(\"Python.db\")\n",
    "cursor=connection.cursor()\n",
    "try:\n",
    "    cursor.execute(\"SELECT * FROM Employee LIMIT 1\")\n",
    "    for row in cursor.fetchall():\n",
    "        print(row)\n",
    "except:\n",
    "    connection.rollback()\n",
    "connection.close()"
   ]
  },
  {
   "cell_type": "code",
   "execution_count": 21,
   "id": "ec9cca8e-2916-473a-8fae-4e4c864b7959",
   "metadata": {},
   "outputs": [
    {
     "name": "stdout",
     "output_type": "stream",
     "text": [
      "('Sai Balaji', 200, 23, 'rjy', 15000.0)\n"
     ]
    }
   ],
   "source": [
    "import sqlite3\n",
    "connection=sqlite3.connect(\"Python.db\")\n",
    "cursor=connection.cursor()\n",
    "try:\n",
    "    cursor.execute(\"SELECT * FROM Employee LIMIT 1 OFFSET 1\")\n",
    "    for row in cursor.fetchall():\n",
    "        print(row)\n",
    "except:\n",
    "    connection.rollback()\n",
    "connection.close()"
   ]
  },
  {
   "cell_type": "code",
   "execution_count": 22,
   "id": "83151d57-c1bb-44cd-ac22-37cf19662099",
   "metadata": {},
   "outputs": [
    {
     "name": "stdout",
     "output_type": "stream",
     "text": [
      "('mi', 199, 22, 'rjy', 15000.0)\n"
     ]
    }
   ],
   "source": [
    "import sqlite3\n",
    "connection=sqlite3.connect(\"Python.db\")\n",
    "cursor=connection.cursor()\n",
    "try:\n",
    "    cursor.execute(\"SELECT * FROM Employee LIMIT 1 OFFSET 0\")\n",
    "    for row in cursor.fetchall():\n",
    "        print(row)\n",
    "except:\n",
    "    connection.rollback()\n",
    "connection.close()"
   ]
  },
  {
   "cell_type": "code",
   "execution_count": null,
   "id": "2e432f37-549f-4d67-b731-1a371cd30645",
   "metadata": {},
   "outputs": [],
   "source": [
    "Using Order By Clause by using Ascending and Descending orders."
   ]
  },
  {
   "cell_type": "code",
   "execution_count": 25,
   "id": "efbe33c7-3fab-447f-bd8b-975c78840dcb",
   "metadata": {},
   "outputs": [
    {
     "name": "stdout",
     "output_type": "stream",
     "text": [
      "('Sai Balaji', 200, 23, 'rjy', 15000.0)\n",
      "('mi', 199, 22, 'rjy', 15000.0)\n"
     ]
    }
   ],
   "source": [
    "import sqlite3\n",
    "connection=sqlite3.connect(\"Python.db\")\n",
    "cursor=connection.cursor()\n",
    "try:\n",
    "    cursor.execute(\"SELECT * FROM Employee ORDER BY NAME ASC\")\n",
    "    for row in cursor.fetchall():\n",
    "        print(row)\n",
    "except:\n",
    "    connection.rollback()\n",
    "connection.close()"
   ]
  },
  {
   "cell_type": "code",
   "execution_count": 26,
   "id": "2106e2ca-7078-4e54-8d94-fcd59a2da526",
   "metadata": {},
   "outputs": [
    {
     "name": "stdout",
     "output_type": "stream",
     "text": [
      "('mi', 199, 22, 'rjy', 15000.0)\n",
      "('Sai Balaji', 200, 23, 'rjy', 15000.0)\n"
     ]
    }
   ],
   "source": [
    "import sqlite3\n",
    "connection=sqlite3.connect(\"Python.db\")\n",
    "cursor=connection.cursor()\n",
    "try:\n",
    "    cursor.execute(\"SELECT * FROM Employee ORDER BY NAME DESC\")\n",
    "    for row in cursor.fetchall():\n",
    "        print(row)\n",
    "except:\n",
    "    connection.rollback()\n",
    "connection.close()"
   ]
  },
  {
   "cell_type": "code",
   "execution_count": null,
   "id": "ca77d240-5d9e-4076-8109-72e43846398f",
   "metadata": {},
   "outputs": [],
   "source": [
    "GROUP By Clause"
   ]
  },
  {
   "cell_type": "code",
   "execution_count": 29,
   "id": "e34634a7-9f73-4783-85e1-f497611d8b65",
   "metadata": {},
   "outputs": [
    {
     "name": "stdout",
     "output_type": "stream",
     "text": [
      "('Sai Balaji', 15000.0)\n",
      "('mi', 15000.0)\n"
     ]
    }
   ],
   "source": [
    "import sqlite3\n",
    "connection=sqlite3.connect(\"Python.db\")\n",
    "cursor=connection.cursor()\n",
    "try:\n",
    "    cursor.execute(\"SELECT NAME,SUM(SALARY) FROM Employee GROUP BY NAME\")\n",
    "    for row in cursor.fetchall():\n",
    "        print(row)\n",
    "except:\n",
    "    connection.rollback()\n",
    "connection.close()"
   ]
  },
  {
   "cell_type": "code",
   "execution_count": 33,
   "id": "e45057ff-abd5-4d4c-aa0b-bf8aba56870b",
   "metadata": {},
   "outputs": [
    {
     "name": "stdout",
     "output_type": "stream",
     "text": [
      "('Sai Balaji', 23)\n",
      "('mi', 22)\n"
     ]
    }
   ],
   "source": [
    "import sqlite3\n",
    "connection=sqlite3.connect(\"Python.db\")\n",
    "cursor=connection.cursor()\n",
    "try:\n",
    "    cursor.execute(\"SELECT NAME,SUM(AGE) FROM Employee GROUP BY NAME\")\n",
    "    for row in cursor.fetchall():\n",
    "        print(row)\n",
    "except:\n",
    "    connection.rollback()\n",
    "connection.close()"
   ]
  },
  {
   "cell_type": "code",
   "execution_count": 34,
   "id": "d1925d53-4521-4ad6-aea3-8f91262b47a9",
   "metadata": {},
   "outputs": [
    {
     "name": "stdout",
     "output_type": "stream",
     "text": [
      "('mi', 45)\n"
     ]
    }
   ],
   "source": [
    "import sqlite3\n",
    "connection=sqlite3.connect(\"Python.db\")\n",
    "cursor=connection.cursor()\n",
    "try:\n",
    "    cursor.execute(\"SELECT NAME,SUM(AGE) FROM Employee ORDER BY NAME DESC\")\n",
    "    for row in cursor.fetchall():\n",
    "        print(row)\n",
    "except:\n",
    "    connection.rollback()\n",
    "connection.close()"
   ]
  },
  {
   "cell_type": "code",
   "execution_count": 35,
   "id": "ad1abba4-7f47-470d-9cf0-355237345082",
   "metadata": {},
   "outputs": [
    {
     "name": "stdout",
     "output_type": "stream",
     "text": [
      "('mi', 45)\n"
     ]
    }
   ],
   "source": [
    "import sqlite3\n",
    "connection=sqlite3.connect(\"Python.db\")\n",
    "cursor=connection.cursor()\n",
    "try:\n",
    "    cursor.execute(\"SELECT NAME,SUM(AGE) FROM Employee ORDER BY NAME ASC\")\n",
    "    for row in cursor.fetchall():\n",
    "        print(row)\n",
    "except:\n",
    "    connection.rollback()\n",
    "connection.close()"
   ]
  },
  {
   "cell_type": "code",
   "execution_count": null,
   "id": "89a8ac8c-0e02-4e89-9dfd-4883e6c7917d",
   "metadata": {},
   "outputs": [],
   "source": [
    "above two codes we used group by clause age was summed so thats why it giving one row."
   ]
  },
  {
   "cell_type": "code",
   "execution_count": null,
   "id": "e38c64c2-072b-4dbe-87db-973bb6be816d",
   "metadata": {},
   "outputs": [],
   "source": [
    "Having Clause"
   ]
  },
  {
   "cell_type": "code",
   "execution_count": 40,
   "id": "370c5734-dbfe-46d8-9b85-0a6550b17c48",
   "metadata": {},
   "outputs": [
    {
     "name": "stdout",
     "output_type": "stream",
     "text": [
      "('Sai Balaji', 200, 23, 'rjy', 15000.0)\n",
      "('mi', 199, 22, 'rjy', 15000.0)\n"
     ]
    }
   ],
   "source": [
    "import sqlite3\n",
    "connection=sqlite3.connect(\"Python.db\")\n",
    "cursor=connection.cursor()\n",
    "try:\n",
    "    cursor.execute(\"SELECT * FROM Employee GROUP BY NAME HAVING COUNT(NAME)<2\")\n",
    "    for row in cursor.fetchall():\n",
    "        print(row)\n",
    "except:\n",
    "    connection.rollback()\n",
    "connection.close()"
   ]
  },
  {
   "cell_type": "code",
   "execution_count": null,
   "id": "7df90651-0505-4298-8566-e13987d5ef70",
   "metadata": {},
   "outputs": [],
   "source": [
    "Name and Distinct Name Clause"
   ]
  },
  {
   "cell_type": "code",
   "execution_count": 44,
   "id": "12e5122a-0749-431a-8bf7-0c4a9bc1fd74",
   "metadata": {},
   "outputs": [
    {
     "name": "stdout",
     "output_type": "stream",
     "text": [
      "('mi',)\n",
      "('Sai Balaji',)\n"
     ]
    }
   ],
   "source": [
    "import sqlite3\n",
    "connection=sqlite3.connect(\"Python.db\")\n",
    "cursor=connection.cursor()\n",
    "try:\n",
    "    cursor.execute(\"SELECT NAME FROM Employee\")\n",
    "    for row in cursor.fetchall():\n",
    "        print(row)\n",
    "except:\n",
    "    connection.rollback()\n",
    "connection.close()"
   ]
  },
  {
   "cell_type": "code",
   "execution_count": 45,
   "id": "a376dcc7-3607-44cb-a319-1b5c931d2f8d",
   "metadata": {},
   "outputs": [
    {
     "name": "stdout",
     "output_type": "stream",
     "text": [
      "('mi',)\n",
      "('Sai Balaji',)\n"
     ]
    }
   ],
   "source": [
    "import sqlite3\n",
    "connection=sqlite3.connect(\"Python.db\")\n",
    "cursor=connection.cursor()\n",
    "try:\n",
    "    cursor.execute(\"SELECT DISTINCT NAME FROM Employee\")\n",
    "    for row in cursor.fetchall():\n",
    "        print(row)\n",
    "except:\n",
    "    connection.rollback()\n",
    "connection.close()"
   ]
  },
  {
   "cell_type": "code",
   "execution_count": null,
   "id": "79b5850f-0994-4e55-93fe-fcd1e4660c3f",
   "metadata": {},
   "outputs": [],
   "source": [
    "UNION Operation"
   ]
  },
  {
   "cell_type": "code",
   "execution_count": 49,
   "id": "940c13ca-d1e8-4133-8821-b8db9251cbd1",
   "metadata": {},
   "outputs": [
    {
     "name": "stdout",
     "output_type": "stream",
     "text": [
      "('CSE',)\n",
      "('ECE',)\n",
      "('Sai Balaji',)\n",
      "('mi',)\n"
     ]
    }
   ],
   "source": [
    "import sqlite3\n",
    "connection=sqlite3.connect('Python.db')\n",
    "cursor=connection.cursor()\n",
    "try:\n",
    "    cursor.execute(\"SELECT NAME FROM Employee UNION SELECT Dept_Name FROM Department\")\n",
    "    for row in cursor.fetchall():\n",
    "        print(row)\n",
    "except:\n",
    "    connection.rollback()\n",
    "connection.close()"
   ]
  },
  {
   "cell_type": "code",
   "execution_count": 51,
   "id": "60b2b4c0-96c6-427f-98af-4f5f5d0b4136",
   "metadata": {},
   "outputs": [
    {
     "name": "stdout",
     "output_type": "stream",
     "text": [
      "(199, 'CSE')\n",
      "(200, 'CSE')\n",
      "(201, 'ECE')\n",
      "('Sai Balaji', 23)\n",
      "('mi', 22)\n"
     ]
    }
   ],
   "source": [
    "import sqlite3\n",
    "connection=sqlite3.connect('Python.db')\n",
    "cursor=connection.cursor()\n",
    "try:\n",
    "    cursor.execute(\"SELECT NAME,AGE FROM Employee UNION SELECT * FROM Department\")\n",
    "    for row in cursor.fetchall():\n",
    "        print(row)\n",
    "except:\n",
    "    connection.rollback()\n",
    "connection.close()"
   ]
  },
  {
   "cell_type": "code",
   "execution_count": 56,
   "id": "cdbdeef7-926d-4e05-be44-24f00c1e30da",
   "metadata": {},
   "outputs": [
    {
     "name": "stdout",
     "output_type": "stream",
     "text": [
      "('Sai Balaji', 200, 23, 'rjy', 15000.0)\n",
      "('mi', 199, 22, 'rjy', 15000.0)\n"
     ]
    }
   ],
   "source": [
    "import sqlite3\n",
    "connection=sqlite3.connect('Python.db')\n",
    "cursor=connection.cursor()\n",
    "try:\n",
    "    cursor.execute(\"SELECT Employee.NAME,Employee.ID,Employee.AGE,Employee.ADDRESS,Employee.SALARY FROM Employee Join Department on Employee.ID=Department.Dept_Id UNION SELECT Employee.NAME,Employee.ID,Employee.AGE,Employee.ADDRESS,Employee.SALARY FROM Employee LEFT OUTER Join Department on Employee.ID=Department.Dept_Id\")\n",
    "    for row in cursor.fetchall():\n",
    "        print(row)\n",
    "except:\n",
    "    connection.rollback()\n",
    "connection.close()"
   ]
  },
  {
   "cell_type": "code",
   "execution_count": null,
   "id": "6d901a4a-de60-44cc-a5d7-76401d9ef0e8",
   "metadata": {},
   "outputs": [],
   "source": [
    "UNION ALL"
   ]
  },
  {
   "cell_type": "code",
   "execution_count": 61,
   "id": "cc2cfea7-69b2-4ddd-a4f0-a689433633e3",
   "metadata": {},
   "outputs": [
    {
     "name": "stdout",
     "output_type": "stream",
     "text": [
      "('mi',)\n",
      "('Sai Balaji',)\n",
      "('CSE',)\n",
      "('CSE',)\n",
      "('ECE',)\n"
     ]
    }
   ],
   "source": [
    "import sqlite3\n",
    "connection=sqlite3.connect('Python.db')\n",
    "cursor=connection.cursor()\n",
    "try:\n",
    "    cursor.execute('SELECT NAME FROM Employee UNION ALL SELECT Dept_Name FROM DEPARTMENT')\n",
    "    for row in cursor.fetchall():\n",
    "        print(row)\n",
    "except:\n",
    "    connection.rollback()\n",
    "connection.close()"
   ]
  },
  {
   "cell_type": "code",
   "execution_count": 63,
   "id": "a137b6b5-3127-43e9-bde3-a9be35b7e5ee",
   "metadata": {},
   "outputs": [
    {
     "name": "stdout",
     "output_type": "stream",
     "text": [
      "('mi', 22)\n",
      "('Sai Balaji', 23)\n",
      "(199, 'CSE')\n",
      "(200, 'CSE')\n",
      "(201, 'ECE')\n"
     ]
    }
   ],
   "source": [
    "import sqlite3\n",
    "connection=sqlite3.connect('Python.db')\n",
    "cursor=connection.cursor()\n",
    "try:\n",
    "    cursor.execute('SELECT NAME,AGE FROM Employee UNION ALL SELECT Dept_Id,Dept_Name FROM DEPARTMENT')\n",
    "    for row in cursor.fetchall():\n",
    "        print(row)\n",
    "except:\n",
    "    connection.rollback()\n",
    "connection.close()"
   ]
  },
  {
   "cell_type": "code",
   "execution_count": 64,
   "id": "22d8f164-6d2a-4a98-adb5-ab66226d5675",
   "metadata": {},
   "outputs": [
    {
     "name": "stdout",
     "output_type": "stream",
     "text": [
      "('mi', 22)\n",
      "('Sai Balaji', 23)\n",
      "('CSE', None)\n",
      "('CSE', None)\n",
      "('ECE', None)\n"
     ]
    }
   ],
   "source": [
    "import sqlite3\n",
    "connection=sqlite3.connect('Python.db')\n",
    "cursor=connection.cursor()\n",
    "try:\n",
    "    cursor.execute('SELECT NAME,AGE FROM Employee UNION ALL SELECT Dept_Name,NULL FROM DEPARTMENT')\n",
    "    for row in cursor.fetchall():\n",
    "        print(row)\n",
    "except:\n",
    "    connection.rollback()\n",
    "connection.close()"
   ]
  },
  {
   "cell_type": "code",
   "execution_count": 65,
   "id": "33e9bda8-5b8b-4ef9-8189-297606a76c48",
   "metadata": {},
   "outputs": [
    {
     "name": "stdout",
     "output_type": "stream",
     "text": [
      "('mi', None)\n",
      "('Sai Balaji', None)\n",
      "(199, 'CSE')\n",
      "(200, 'CSE')\n",
      "(201, 'ECE')\n"
     ]
    }
   ],
   "source": [
    "import sqlite3\n",
    "connection=sqlite3.connect('Python.db')\n",
    "cursor=connection.cursor()\n",
    "try:\n",
    "    cursor.execute('SELECT NAME,NULL FROM Employee UNION ALL SELECT Dept_Id,Dept_Name FROM DEPARTMENT')\n",
    "    for row in cursor.fetchall():\n",
    "        print(row)\n",
    "except:\n",
    "    connection.rollback()\n",
    "connection.close()"
   ]
  },
  {
   "cell_type": "code",
   "execution_count": 66,
   "id": "a32a5570-9ad7-4b86-a367-dfaccb8e2699",
   "metadata": {},
   "outputs": [
    {
     "name": "stdout",
     "output_type": "stream",
     "text": [
      "('mi', 199, 22, 'rjy', 15000.0)\n",
      "('Sai Balaji', 200, 23, 'rjy', 15000.0)\n",
      "('mi', 199, 22, 'rjy', 15000.0)\n",
      "('Sai Balaji', 200, 23, 'rjy', 15000.0)\n"
     ]
    }
   ],
   "source": [
    "import sqlite3\n",
    "connection=sqlite3.connect('Python.db')\n",
    "cursor=connection.cursor()\n",
    "try:\n",
    "    cursor.execute(\"SELECT Employee.NAME,Employee.ID,Employee.AGE,Employee.ADDRESS,Employee.SALARY FROM Employee Join Department on Employee.ID=Department.Dept_Id UNION ALL SELECT Employee.NAME,Employee.ID,Employee.AGE,Employee.ADDRESS,Employee.SALARY FROM Employee LEFT OUTER Join Department on Employee.ID=Department.Dept_Id\")\n",
    "    for row in cursor.fetchall():\n",
    "        print(row)\n",
    "except:\n",
    "    connection.rollback()\n",
    "connection.close()"
   ]
  },
  {
   "cell_type": "code",
   "execution_count": null,
   "id": "414bfc8e-2add-4d29-a599-d44a701fa66c",
   "metadata": {},
   "outputs": [],
   "source": [
    "INNER Join"
   ]
  },
  {
   "cell_type": "code",
   "execution_count": 67,
   "id": "9f45e339-6504-426b-ac84-cbcb6547f543",
   "metadata": {},
   "outputs": [
    {
     "name": "stdout",
     "output_type": "stream",
     "text": [
      "('mi', 199, 22, 'rjy', 15000.0)\n",
      "('Sai Balaji', 200, 23, 'rjy', 15000.0)\n"
     ]
    }
   ],
   "source": [
    "import sqlite3\n",
    "connection=sqlite3.connect('Python.db')\n",
    "cursor=connection.cursor()\n",
    "try:\n",
    "    cursor.execute(\"SELECT Employee.NAME,Employee.ID,Employee.AGE,Employee.ADDRESS,Employee.SALARY FROM Employee INNER Join Department on Employee.ID=Department.Dept_Id\")\n",
    "    for row in cursor.fetchall():\n",
    "        print(row)\n",
    "except:\n",
    "    connection.rollback()\n",
    "connection.close()"
   ]
  },
  {
   "cell_type": "code",
   "execution_count": null,
   "id": "f61cbb55-f3e3-41eb-ab44-69e2edc7f21a",
   "metadata": {},
   "outputs": [],
   "source": [
    "Outer Join"
   ]
  },
  {
   "cell_type": "code",
   "execution_count": 68,
   "id": "e99e40ca-57ab-472e-a8ae-5b3b98a5dd89",
   "metadata": {},
   "outputs": [
    {
     "name": "stdout",
     "output_type": "stream",
     "text": [
      "('mi', 199, 22, 'rjy', 15000.0)\n",
      "('Sai Balaji', 200, 23, 'rjy', 15000.0)\n"
     ]
    }
   ],
   "source": [
    "import sqlite3\n",
    "connection=sqlite3.connect('Python.db')\n",
    "cursor=connection.cursor()\n",
    "try:\n",
    "    cursor.execute(\"SELECT Employee.NAME,Employee.ID,Employee.AGE,Employee.ADDRESS,Employee.SALARY FROM Employee LEFT OUTER Join Department on Employee.ID=Department.Dept_Id\")\n",
    "    for row in cursor.fetchall():\n",
    "        print(row)\n",
    "except:\n",
    "    connection.rollback()\n",
    "connection.close()"
   ]
  },
  {
   "cell_type": "code",
   "execution_count": null,
   "id": "88038a16-7305-44ea-adfd-964d0c05fcf3",
   "metadata": {},
   "outputs": [],
   "source": [
    "Cross Join"
   ]
  },
  {
   "cell_type": "code",
   "execution_count": 69,
   "id": "4fd6c70f-7fe7-4b19-aa38-feb659d3cb2a",
   "metadata": {},
   "outputs": [
    {
     "name": "stdout",
     "output_type": "stream",
     "text": [
      "('mi', 199, 22, 'rjy', 15000.0, 199, 'CSE')\n",
      "('mi', 199, 22, 'rjy', 15000.0, 200, 'CSE')\n",
      "('mi', 199, 22, 'rjy', 15000.0, 201, 'ECE')\n",
      "('Sai Balaji', 200, 23, 'rjy', 15000.0, 199, 'CSE')\n",
      "('Sai Balaji', 200, 23, 'rjy', 15000.0, 200, 'CSE')\n",
      "('Sai Balaji', 200, 23, 'rjy', 15000.0, 201, 'ECE')\n"
     ]
    }
   ],
   "source": [
    "import sqlite3\n",
    "connection=sqlite3.connect('Python.db')\n",
    "cursor=connection.cursor()\n",
    "try:\n",
    "    cursor.execute(\"SELECT * FROM Employee CROSS JOIN Department\")\n",
    "    for row in cursor.fetchall():\n",
    "        print(row)\n",
    "except:\n",
    "    connection.rollback()\n",
    "connection.close()"
   ]
  },
  {
   "cell_type": "code",
   "execution_count": 72,
   "id": "2a520375-7df8-44d0-a47b-d3d5f03d2cd1",
   "metadata": {},
   "outputs": [],
   "source": [
    "import sqlite3\n",
    "connection=sqlite3.connect('Python.db')\n",
    "cursor=connection.cursor()\n",
    "try:\n",
    "    cursor.execute(\"INSERT INTO Employee(NAME,ID,AGE,ADDRESS,SALARY)VALUES('Chaithanya',201,21,'Hyderabad',14000)\")\n",
    "    connection.commit()\n",
    "except:\n",
    "    connection.rollback()\n",
    "connection.close()"
   ]
  },
  {
   "cell_type": "code",
   "execution_count": 73,
   "id": "733c8748-82a3-4994-a51f-4bd63e523bd1",
   "metadata": {},
   "outputs": [
    {
     "name": "stdout",
     "output_type": "stream",
     "text": [
      "('mi', 199, 22, 'rjy', 15000.0)\n",
      "('Sai Balaji', 200, 23, 'rjy', 15000.0)\n",
      "('Chaithanya', 201, 21, 'Hyderabad', 14000.0)\n"
     ]
    }
   ],
   "source": [
    "import sqlite3\n",
    "connection=sqlite3.connect('Python.db')\n",
    "cursor=connection.cursor()\n",
    "try:\n",
    "    cursor.execute('SELECT * FROM Employee')\n",
    "    for row in cursor.fetchall():\n",
    "        print(row)\n",
    "except:\n",
    "    connection.rollback()\n",
    "connection.close()"
   ]
  },
  {
   "cell_type": "code",
   "execution_count": 74,
   "id": "09b02b20-fdaa-4f95-8736-efda2c78c5f8",
   "metadata": {},
   "outputs": [
    {
     "name": "stdout",
     "output_type": "stream",
     "text": [
      "('mi', 199, 22, 'rjy', 15000.0, 199, 'CSE')\n",
      "('mi', 199, 22, 'rjy', 15000.0, 200, 'CSE')\n",
      "('mi', 199, 22, 'rjy', 15000.0, 201, 'ECE')\n",
      "('Sai Balaji', 200, 23, 'rjy', 15000.0, 199, 'CSE')\n",
      "('Sai Balaji', 200, 23, 'rjy', 15000.0, 200, 'CSE')\n",
      "('Sai Balaji', 200, 23, 'rjy', 15000.0, 201, 'ECE')\n",
      "('Chaithanya', 201, 21, 'Hyderabad', 14000.0, 199, 'CSE')\n",
      "('Chaithanya', 201, 21, 'Hyderabad', 14000.0, 200, 'CSE')\n",
      "('Chaithanya', 201, 21, 'Hyderabad', 14000.0, 201, 'ECE')\n"
     ]
    }
   ],
   "source": [
    "import sqlite3\n",
    "connection=sqlite3.connect('Python.db')\n",
    "cursor=connection.cursor()\n",
    "try:\n",
    "    cursor.execute(\"SELECT * FROM Employee CROSS JOIN Department\")\n",
    "    for row in cursor.fetchall():\n",
    "        print(row)\n",
    "except:\n",
    "    connection.rollback()\n",
    "connection.close()"
   ]
  },
  {
   "cell_type": "code",
   "execution_count": 76,
   "id": "0aeb6c67-8d83-475e-89c2-3425ee93d64c",
   "metadata": {},
   "outputs": [
    {
     "name": "stdout",
     "output_type": "stream",
     "text": [
      "(199, 'CSE', 'mi', 199, 22, 'rjy', 15000.0)\n",
      "(199, 'CSE', 'Sai Balaji', 200, 23, 'rjy', 15000.0)\n",
      "(199, 'CSE', 'Chaithanya', 201, 21, 'Hyderabad', 14000.0)\n",
      "(200, 'CSE', 'mi', 199, 22, 'rjy', 15000.0)\n",
      "(200, 'CSE', 'Sai Balaji', 200, 23, 'rjy', 15000.0)\n",
      "(200, 'CSE', 'Chaithanya', 201, 21, 'Hyderabad', 14000.0)\n",
      "(201, 'ECE', 'mi', 199, 22, 'rjy', 15000.0)\n",
      "(201, 'ECE', 'Sai Balaji', 200, 23, 'rjy', 15000.0)\n",
      "(201, 'ECE', 'Chaithanya', 201, 21, 'Hyderabad', 14000.0)\n"
     ]
    }
   ],
   "source": [
    "import sqlite3\n",
    "connection=sqlite3.connect('Python.db')\n",
    "cursor=connection.cursor()\n",
    "try:\n",
    "    cursor.execute(\"SELECT * FROM Department CROSS JOIN Employee\")\n",
    "    for row in cursor.fetchall():\n",
    "        print(row)\n",
    "except:\n",
    "    connection.rollback()\n",
    "connection.close()"
   ]
  },
  {
   "cell_type": "code",
   "execution_count": null,
   "id": "5aaa9c26-0691-4718-9bba-98033364671d",
   "metadata": {},
   "outputs": [],
   "source": [
    "Date Function"
   ]
  },
  {
   "cell_type": "code",
   "execution_count": 79,
   "id": "985bb026-e00d-4d70-adf3-db45bc1a643b",
   "metadata": {},
   "outputs": [
    {
     "name": "stdout",
     "output_type": "stream",
     "text": [
      "Current_Date: 2025-01-28\n"
     ]
    }
   ],
   "source": [
    "import sqlite3\n",
    "connection=sqlite3.connect('Python.db')\n",
    "cursor=connection.cursor()\n",
    "cursor.execute(\"SELECT date('now')\")    \n",
    "current_date=cursor.fetchone()[0]\n",
    "print(\"Current_Date:\",current_date)"
   ]
  },
  {
   "cell_type": "code",
   "execution_count": 89,
   "id": "96dd3bf4-9462-47e1-b042-724d3d28f1df",
   "metadata": {},
   "outputs": [
    {
     "name": "stdout",
     "output_type": "stream",
     "text": [
      "Start_Month: 2024-12-01\n"
     ]
    }
   ],
   "source": [
    "import sqlite3\n",
    "connection=sqlite3.connect('Python.db')\n",
    "cursor=connection.cursor()\n",
    "cursor.execute(\"SELECT date('2024-12-11','start of month')\")\n",
    "start_month=cursor.fetchone()[0]\n",
    "print(\"Start_Month:\",start_month)"
   ]
  },
  {
   "cell_type": "code",
   "execution_count": 91,
   "id": "ff2876a0-2123-4502-8326-db11c736b602",
   "metadata": {},
   "outputs": [
    {
     "name": "stdout",
     "output_type": "stream",
     "text": [
      "Start_Month: 2024-01-01\n"
     ]
    }
   ],
   "source": [
    "import sqlite3\n",
    "connection=sqlite3.connect('Python.db')\n",
    "cursor=connection.cursor()\n",
    "cursor.execute(\"SELECT date('2024-01-10','start of month')\")\n",
    "start_month=cursor.fetchone()[0]\n",
    "print(\"Start_Month:\",start_month)"
   ]
  },
  {
   "cell_type": "code",
   "execution_count": 92,
   "id": "7db6f4d6-72d3-450c-9fd0-4e88e6a91146",
   "metadata": {},
   "outputs": [
    {
     "name": "stdout",
     "output_type": "stream",
     "text": [
      "Start_Month: 2024-09-01\n"
     ]
    }
   ],
   "source": [
    "import sqlite3\n",
    "connection=sqlite3.connect('Python.db')\n",
    "cursor=connection.cursor()\n",
    "cursor.execute(\"SELECT date('2024-09-10','start of month')\")\n",
    "start_month=cursor.fetchone()[0]\n",
    "print(\"Start_Month:\",start_month)"
   ]
  },
  {
   "cell_type": "code",
   "execution_count": 95,
   "id": "c6104bdc-af74-4845-b622-f91fa5023a4a",
   "metadata": {},
   "outputs": [
    {
     "name": "stdout",
     "output_type": "stream",
     "text": [
      "before 15 days date: 2022-12-26\n"
     ]
    }
   ],
   "source": [
    "import sqlite3\n",
    "connection=sqlite3.connect('Python.db')\n",
    "cursor=connection.cursor()\n",
    "cursor.execute(\"SELECT date('2023-01-10','-15 days')\")\n",
    "calculate=cursor.fetchone()[0]\n",
    "print(\"before 15 days date:\",calculate)"
   ]
  },
  {
   "cell_type": "code",
   "execution_count": 96,
   "id": "bc262186-ed14-4aab-8d6e-c04c2d9c1225",
   "metadata": {},
   "outputs": [
    {
     "name": "stdout",
     "output_type": "stream",
     "text": [
      "before 15 days date: 2023-11-26\n"
     ]
    }
   ],
   "source": [
    "import sqlite3\n",
    "connection=sqlite3.connect('Python.db')\n",
    "cursor=connection.cursor()\n",
    "cursor.execute(\"SELECT date('2023-12-11','-15 days')\")\n",
    "calculate=cursor.fetchone()[0]\n",
    "print(\"before 15 days date:\",calculate)"
   ]
  },
  {
   "cell_type": "code",
   "execution_count": 98,
   "id": "47843610-d404-431e-b4cb-03189feaba71",
   "metadata": {},
   "outputs": [
    {
     "name": "stdout",
     "output_type": "stream",
     "text": [
      "before 20 days date: 2023-12-11\n"
     ]
    }
   ],
   "source": [
    "import sqlite3\n",
    "connection=sqlite3.connect('Python.db')\n",
    "cursor=connection.cursor()\n",
    "cursor.execute(\"SELECT date('2023-12-31','-20 days')\")\n",
    "calculate=cursor.fetchone()[0]\n",
    "print(\"before 20 days date:\",calculate)"
   ]
  },
  {
   "cell_type": "code",
   "execution_count": 99,
   "id": "717597ae-e171-4e4c-839f-ac234abd2962",
   "metadata": {},
   "outputs": [
    {
     "name": "stdout",
     "output_type": "stream",
     "text": [
      "before 15 days date: 2025-01-13\n"
     ]
    }
   ],
   "source": [
    "import sqlite3\n",
    "connection=sqlite3.connect('Python.db')\n",
    "cursor=connection.cursor()\n",
    "cursor.execute(\"SELECT date('now','-15 days')\")\n",
    "calculate=cursor.fetchone()[0]\n",
    "print(\"before 15 days date:\",calculate)"
   ]
  },
  {
   "cell_type": "code",
   "execution_count": 100,
   "id": "8c3110ea-c1f3-4362-8b5c-06a8b5aad989",
   "metadata": {},
   "outputs": [
    {
     "name": "stdout",
     "output_type": "stream",
     "text": [
      "after 15 days date: 2024-12-26\n"
     ]
    }
   ],
   "source": [
    "import sqlite3\n",
    "connection=sqlite3.connect('Python.db')\n",
    "cursor=connection.cursor()\n",
    "cursor.execute(\"SELECT date('2024-12-11','+15 days')\")\n",
    "calculate=cursor.fetchone()[0]\n",
    "print(\"after 15 days date:\",calculate)"
   ]
  },
  {
   "cell_type": "code",
   "execution_count": 102,
   "id": "cdb9a3b4-0813-48a0-9dde-41caaeba4a47",
   "metadata": {},
   "outputs": [
    {
     "name": "stdout",
     "output_type": "stream",
     "text": [
      "after 2 months + 15 days : 2025-02-26\n"
     ]
    }
   ],
   "source": [
    "import sqlite3\n",
    "connection=sqlite3.connect('Python.db')\n",
    "cursor=connection.cursor()\n",
    "cursor.execute(\"SELECT date('2024-12-11','+2 months','+15 days')\")\n",
    "calculate=cursor.fetchone()[0]\n",
    "print(\"after 2 months + 15 days :\",calculate)"
   ]
  },
  {
   "cell_type": "code",
   "execution_count": 103,
   "id": "59b52b4a-a90e-469f-a0f3-8e1adde52fc5",
   "metadata": {},
   "outputs": [
    {
     "name": "stdout",
     "output_type": "stream",
     "text": [
      "after 2 months - 15 days : 2025-01-22\n"
     ]
    }
   ],
   "source": [
    "import sqlite3\n",
    "connection=sqlite3.connect('Python.db')\n",
    "cursor=connection.cursor()\n",
    "cursor.execute(\"SELECT date('2024-12-11','+2 months','-20 days')\")\n",
    "calculate=cursor.fetchone()[0]\n",
    "print(\"after 2 months - 15 days :\",calculate)"
   ]
  },
  {
   "cell_type": "code",
   "execution_count": 104,
   "id": "6069a3dc-c92e-4348-bbe4-20aa46545d06",
   "metadata": {},
   "outputs": [
    {
     "name": "stdout",
     "output_type": "stream",
     "text": [
      "after 5 years : 2030-01-28\n"
     ]
    }
   ],
   "source": [
    "import sqlite3\n",
    "connection=sqlite3.connect('Python.db')\n",
    "cursor=connection.cursor()\n",
    "cursor.execute(\"SELECT date('now','+5 years')\")\n",
    "calculate=cursor.fetchone()[0]\n",
    "print(\"after 5 years :\",calculate)"
   ]
  },
  {
   "cell_type": "code",
   "execution_count": 105,
   "id": "1ac0892c-0d7f-4334-94d3-2122f45a9f4e",
   "metadata": {},
   "outputs": [
    {
     "name": "stdout",
     "output_type": "stream",
     "text": [
      "after 5 years : 2029-12-11\n"
     ]
    }
   ],
   "source": [
    "import sqlite3\n",
    "connection=sqlite3.connect('Python.db')\n",
    "cursor=connection.cursor()\n",
    "cursor.execute(\"SELECT date('2024-12-11','+5 years')\")\n",
    "calculate=cursor.fetchone()[0]\n",
    "print(\"after 5 years :\",calculate)"
   ]
  },
  {
   "cell_type": "code",
   "execution_count": 106,
   "id": "928754d4-a526-46b2-9d35-1e82daf20a01",
   "metadata": {},
   "outputs": [
    {
     "name": "stdout",
     "output_type": "stream",
     "text": [
      "after 5 years : 2008-12-11\n"
     ]
    }
   ],
   "source": [
    "import sqlite3\n",
    "connection=sqlite3.connect('Python.db')\n",
    "cursor=connection.cursor()\n",
    "cursor.execute(\"SELECT date('2013-12-11','-5 years')\")\n",
    "calculate=cursor.fetchone()[0]\n",
    "print(\"after 5 years :\",calculate)"
   ]
  },
  {
   "cell_type": "code",
   "execution_count": 107,
   "id": "2335e7c1-fa16-4d2e-bfeb-84792098b036",
   "metadata": {},
   "outputs": [
    {
     "name": "stdout",
     "output_type": "stream",
     "text": [
      "after 5 years : 2014-12-11\n"
     ]
    }
   ],
   "source": [
    "import sqlite3\n",
    "connection=sqlite3.connect('Python.db')\n",
    "cursor=connection.cursor()\n",
    "cursor.execute(\"SELECT date('2013-12-11','-5 years','+6 years')\")\n",
    "calculate=cursor.fetchone()[0]\n",
    "print(\"after 5 years :\",calculate)"
   ]
  },
  {
   "cell_type": "code",
   "execution_count": null,
   "id": "ea5c9541-b224-4009-9156-49ca5936f668",
   "metadata": {},
   "outputs": [],
   "source": [
    "datetime"
   ]
  },
  {
   "cell_type": "code",
   "execution_count": 109,
   "id": "5b0c3ab7-499e-4fea-9d28-260877903a3a",
   "metadata": {},
   "outputs": [
    {
     "name": "stdout",
     "output_type": "stream",
     "text": [
      "Current_Date_time: 2025-01-28 08:39:35\n"
     ]
    }
   ],
   "source": [
    "import sqlite3\n",
    "connection=sqlite3.connect('Python.db')\n",
    "cursor=connection.cursor()\n",
    "cursor.execute(\"SELECT datetime('now')\")    \n",
    "current_date_time=cursor.fetchone()[0]\n",
    "print(\"Current_Date_time:\",current_date_time)"
   ]
  },
  {
   "cell_type": "code",
   "execution_count": 111,
   "id": "05d56fea-7162-46c9-8907-82aa72623450",
   "metadata": {},
   "outputs": [
    {
     "name": "stdout",
     "output_type": "stream",
     "text": [
      "datetime: 2001-12-11 00:00:00\n"
     ]
    }
   ],
   "source": [
    "import sqlite3\n",
    "connection=sqlite3.connect('Python.db')\n",
    "cursor=connection.cursor()\n",
    "cursor.execute(\"SELECT datetime('2001-12-11')\")    \n",
    "datetime=cursor.fetchone()[0]\n",
    "print(\"datetime:\",datetime)"
   ]
  },
  {
   "cell_type": "code",
   "execution_count": 112,
   "id": "19ec0f37-059b-4dbf-97a1-cb0402ca44a8",
   "metadata": {},
   "outputs": [
    {
     "name": "stdout",
     "output_type": "stream",
     "text": [
      "Current_Date_time: 2030-01-28 08:41:27\n"
     ]
    }
   ],
   "source": [
    "import sqlite3\n",
    "connection=sqlite3.connect('Python.db')\n",
    "cursor=connection.cursor()\n",
    "cursor.execute(\"SELECT datetime('now','+5 years')\")    \n",
    "current_date_time=cursor.fetchone()[0]\n",
    "print(\"Current_Date_time:\",current_date_time)"
   ]
  },
  {
   "cell_type": "code",
   "execution_count": null,
   "id": "1ac390ea-aefc-44f9-8064-865a0a4f8f6a",
   "metadata": {},
   "outputs": [],
   "source": [
    "SQLite Julianday Function\n",
    "The SQLite julianday function facilitates you to apply modifiers and then returns the date as a Julian Day after taking the date as an input.\n",
    "\n",
    "A Julian Day is the number of days since Nov 24, 4714 BC 12:00pm Greenwich time in the Gregorian calendar. \n",
    "The julianday function returns the date as a floating point number."
   ]
  },
  {
   "cell_type": "code",
   "execution_count": 113,
   "id": "a03c0bbb-05aa-4e19-b81a-9e009289a81c",
   "metadata": {},
   "outputs": [
    {
     "name": "stdout",
     "output_type": "stream",
     "text": [
      "Julian Day: 2460703.9154685647\n"
     ]
    }
   ],
   "source": [
    "import sqlite3\n",
    "connection=sqlite3.connect('Python.db')\n",
    "cursor=connection.cursor()\n",
    "cursor.execute(\"SELECT julianday('now')\")\n",
    "julian=cursor.fetchone()[0]\n",
    "print(\"Julian Day:\",julian)"
   ]
  },
  {
   "cell_type": "code",
   "execution_count": 114,
   "id": "9c7459d2-bb5d-4dc0-aed9-5359771825d0",
   "metadata": {},
   "outputs": [
    {
     "name": "stdout",
     "output_type": "stream",
     "text": [
      "Julian Day: 2452254.5\n"
     ]
    }
   ],
   "source": [
    "import sqlite3\n",
    "connection=sqlite3.connect('Python.db')\n",
    "cursor=connection.cursor()\n",
    "cursor.execute(\"SELECT julianday('2001-12-11')\")\n",
    "julian=cursor.fetchone()[0]\n",
    "print(\"Julian Day:\",julian)"
   ]
  },
  {
   "cell_type": "code",
   "execution_count": 115,
   "id": "dd375a88-7167-42c7-9f9a-30071d90f968",
   "metadata": {},
   "outputs": [
    {
     "name": "stdout",
     "output_type": "stream",
     "text": [
      "Julian Day: 2452255.1880555553\n"
     ]
    }
   ],
   "source": [
    "import sqlite3\n",
    "connection=sqlite3.connect('Python.db')\n",
    "cursor=connection.cursor()\n",
    "cursor.execute(\"SELECT julianday('2001-12-11 16:30:48')\")\n",
    "julian=cursor.fetchone()[0]\n",
    "print(\"Julian Day:\",julian)"
   ]
  },
  {
   "cell_type": "code",
   "execution_count": 116,
   "id": "b617b0f2-a188-4ed7-ae93-66ad939ddb40",
   "metadata": {},
   "outputs": [
    {
     "name": "stdout",
     "output_type": "stream",
     "text": [
      "Julian Day: 2452244.5\n"
     ]
    }
   ],
   "source": [
    "import sqlite3\n",
    "connection=sqlite3.connect('Python.db')\n",
    "cursor=connection.cursor()\n",
    "cursor.execute(\"SELECT julianday('2001-12-11','start of month')\")\n",
    "julian=cursor.fetchone()[0]\n",
    "print(\"Julian Day:\",julian)"
   ]
  },
  {
   "cell_type": "code",
   "execution_count": 117,
   "id": "603f5ef1-5978-462f-bfaf-22cb97bfaaee",
   "metadata": {},
   "outputs": [
    {
     "name": "stdout",
     "output_type": "stream",
     "text": [
      "Julian Day: 2460676.5\n"
     ]
    }
   ],
   "source": [
    "import sqlite3\n",
    "connection=sqlite3.connect('Python.db')\n",
    "cursor=connection.cursor()\n",
    "cursor.execute(\"SELECT julianday('now','start of month')\")\n",
    "julian=cursor.fetchone()[0]\n",
    "print(\"Julian Day:\",julian)"
   ]
  },
  {
   "cell_type": "code",
   "execution_count": 118,
   "id": "28be5496-1bb2-4bee-be5f-be5813a60775",
   "metadata": {},
   "outputs": [
    {
     "name": "stdout",
     "output_type": "stream",
     "text": [
      "Julian Day: 2460697.9181447686\n"
     ]
    }
   ],
   "source": [
    "import sqlite3\n",
    "connection=sqlite3.connect('Python.db')\n",
    "cursor=connection.cursor()\n",
    "cursor.execute(\"SELECT julianday('now','-6 days')\")\n",
    "julian=cursor.fetchone()[0]\n",
    "print(\"Julian Day:\",julian)"
   ]
  },
  {
   "cell_type": "code",
   "execution_count": 119,
   "id": "7e485a3a-e862-440f-a198-f812fbaac29d",
   "metadata": {},
   "outputs": [
    {
     "name": "stdout",
     "output_type": "stream",
     "text": [
      "Julian Day: 2451883.5\n"
     ]
    }
   ],
   "source": [
    "import sqlite3\n",
    "connection=sqlite3.connect('Python.db')\n",
    "cursor=connection.cursor()\n",
    "cursor.execute(\"SELECT julianday('2000-12-11','-6 days')\")\n",
    "julian=cursor.fetchone()[0]\n",
    "print(\"Julian Day:\",julian)"
   ]
  },
  {
   "cell_type": "code",
   "execution_count": 123,
   "id": "34bd622f-9571-4f5c-9b91-e25ca8f59735",
   "metadata": {},
   "outputs": [
    {
     "name": "stdout",
     "output_type": "stream",
     "text": [
      "present: 2025-01-28\n"
     ]
    }
   ],
   "source": [
    "import sqlite3\n",
    "connection=sqlite3.connect('Python.db')\n",
    "cursor=connection.cursor()\n",
    "cursor.execute(\"SELECT date('now')\")\n",
    "present=cursor.fetchone()[0]\n",
    "print(\"present:\",present)"
   ]
  },
  {
   "cell_type": "code",
   "execution_count": 122,
   "id": "85e88bb8-a783-4c49-a2c5-c1723a73a148",
   "metadata": {},
   "outputs": [
    {
     "name": "stdout",
     "output_type": "stream",
     "text": [
      "present: 10:04:48\n"
     ]
    }
   ],
   "source": [
    "import sqlite3\n",
    "connection=sqlite3.connect('Python.db')\n",
    "cursor=connection.cursor()\n",
    "cursor.execute(\"SELECT time('now')\")\n",
    "present=cursor.fetchone()[0]\n",
    "print(\"present:\",present)"
   ]
  },
  {
   "cell_type": "code",
   "execution_count": 124,
   "id": "c8cb4b51-2ec7-452e-a00d-d9cd27839355",
   "metadata": {},
   "outputs": [
    {
     "name": "stdout",
     "output_type": "stream",
     "text": [
      "strftime: 2025-01-28\n"
     ]
    }
   ],
   "source": [
    "import sqlite3\n",
    "connection=sqlite3.connect('Python.db')\n",
    "cursor=connection.cursor()\n",
    "cursor.execute(\"SELECT strftime('%Y-%m-%d','now')\")\n",
    "strf=cursor.fetchone()[0]\n",
    "print(\"strftime:\",strf)"
   ]
  },
  {
   "cell_type": "code",
   "execution_count": 125,
   "id": "9931a235-5247-4948-8686-4110184139da",
   "metadata": {},
   "outputs": [
    {
     "name": "stdout",
     "output_type": "stream",
     "text": [
      "strftime: 2025-01-28 10:09:38\n"
     ]
    }
   ],
   "source": [
    "import sqlite3\n",
    "connection=sqlite3.connect('Python.db')\n",
    "cursor=connection.cursor()\n",
    "cursor.execute(\"SELECT strftime('%Y-%m-%d %H:%M:%S','now')\")\n",
    "strf=cursor.fetchone()[0]\n",
    "print(\"strftime:\",strf)"
   ]
  },
  {
   "cell_type": "code",
   "execution_count": 128,
   "id": "ab93127b-f675-43a2-b0d5-3bf952db7cb8",
   "metadata": {},
   "outputs": [
    {
     "name": "stdout",
     "output_type": "stream",
     "text": [
      "strftime: 2025-01-01 00:00:00\n"
     ]
    }
   ],
   "source": [
    "import sqlite3\n",
    "connection=sqlite3.connect('Python.db')\n",
    "cursor=connection.cursor()\n",
    "cursor.execute(\"SELECT strftime('%Y-%m-%d %H:%M:%S','now','start of month')\")\n",
    "strf=cursor.fetchone()[0]\n",
    "print(\"strftime:\",strf)"
   ]
  },
  {
   "cell_type": "code",
   "execution_count": 126,
   "id": "57bda9d4-b489-4e23-8976-b03b0197d120",
   "metadata": {},
   "outputs": [
    {
     "name": "stdout",
     "output_type": "stream",
     "text": [
      "strftime: 2001-12-01 00:00:00\n"
     ]
    }
   ],
   "source": [
    "import sqlite3\n",
    "connection=sqlite3.connect('Python.db')\n",
    "cursor=connection.cursor()\n",
    "cursor.execute(\"SELECT strftime('%Y-%m-%d %H:%M:%S','2001-12-11','start of month')\")\n",
    "strf=cursor.fetchone()[0]\n",
    "print(\"strftime:\",strf)"
   ]
  },
  {
   "cell_type": "code",
   "execution_count": 127,
   "id": "19087995-1f06-441d-aa6f-e3e3dd48aac2",
   "metadata": {},
   "outputs": [
    {
     "name": "stdout",
     "output_type": "stream",
     "text": [
      "strftime: 2001-12-11 00:00:00\n"
     ]
    }
   ],
   "source": [
    "import sqlite3\n",
    "connection=sqlite3.connect('Python.db')\n",
    "cursor=connection.cursor()\n",
    "cursor.execute(\"SELECT strftime('%Y-%m-%d %H:%M:%S','2001-12-11')\")\n",
    "strf=cursor.fetchone()[0]\n",
    "print(\"strftime:\",strf)"
   ]
  },
  {
   "cell_type": "code",
   "execution_count": 130,
   "id": "a082268c-f5ad-4bdc-8adf-c7c9d2f805cb",
   "metadata": {},
   "outputs": [
    {
     "name": "stdout",
     "output_type": "stream",
     "text": [
      "strftime: 01:43:02\n"
     ]
    }
   ],
   "source": [
    "import sqlite3\n",
    "connection=sqlite3.connect('Python.db')\n",
    "cursor=connection.cursor()\n",
    "cursor.execute(\"SELECT time('03:43:02','-2 hours')\")\n",
    "strf=cursor.fetchone()[0]\n",
    "print(\"strftime:\",strf)"
   ]
  },
  {
   "cell_type": "code",
   "execution_count": 131,
   "id": "834758d9-8509-476a-ae4b-56bf6ca3000f",
   "metadata": {},
   "outputs": [
    {
     "name": "stdout",
     "output_type": "stream",
     "text": [
      "strftime: 03:43:02\n"
     ]
    }
   ],
   "source": [
    "import sqlite3\n",
    "connection=sqlite3.connect('Python.db')\n",
    "cursor=connection.cursor()\n",
    "cursor.execute(\"SELECT time('03:43:02','+24 hours')\")\n",
    "strf=cursor.fetchone()[0]\n",
    "print(\"strftime:\",strf)"
   ]
  },
  {
   "cell_type": "code",
   "execution_count": 132,
   "id": "474aa670-7e5c-43ae-9c89-994aa2ba9a24",
   "metadata": {},
   "outputs": [
    {
     "name": "stdout",
     "output_type": "stream",
     "text": [
      "strftime: 03:44:02\n"
     ]
    }
   ],
   "source": [
    "import sqlite3\n",
    "connection=sqlite3.connect('Python.db')\n",
    "cursor=connection.cursor()\n",
    "cursor.execute(\"SELECT time('03:43:02','60 seconds')\")\n",
    "strf=cursor.fetchone()[0]\n",
    "print(\"strftime:\",strf)"
   ]
  },
  {
   "cell_type": "code",
   "execution_count": null,
   "id": "675cf2fa-3a23-4db2-9294-f747bd55b205",
   "metadata": {},
   "outputs": [],
   "source": [
    "Min Function"
   ]
  },
  {
   "cell_type": "code",
   "execution_count": 133,
   "id": "d6f1124e-4cd9-46a8-a9b5-57be7b42f838",
   "metadata": {},
   "outputs": [
    {
     "name": "stdout",
     "output_type": "stream",
     "text": [
      "('mi', 199, 22, 'rjy', 15000.0)\n",
      "('Sai Balaji', 200, 23, 'rjy', 15000.0)\n",
      "('Chaithanya', 201, 21, 'Hyderabad', 14000.0)\n"
     ]
    }
   ],
   "source": [
    "import sqlite3\n",
    "connection=sqlite3.connect('Python.db')\n",
    "cursor=connection.cursor()\n",
    "try:\n",
    "    cursor.execute(\"SELECT * FROM Employee\")\n",
    "    for row in cursor.fetchall():\n",
    "        print(row)\n",
    "except:\n",
    "    connection.rollback()\n",
    "connection.close()"
   ]
  },
  {
   "cell_type": "code",
   "execution_count": 134,
   "id": "8888281a-9d91-4bfd-9e08-040a5c81124f",
   "metadata": {},
   "outputs": [
    {
     "name": "stdout",
     "output_type": "stream",
     "text": [
      "(199,)\n"
     ]
    }
   ],
   "source": [
    "import sqlite3\n",
    "connection=sqlite3.connect('Python.db')\n",
    "cursor=connection.cursor()\n",
    "try:\n",
    "    cursor.execute('SELECT MIN(ID) AS \"Lowest ID\" FROM Employee')\n",
    "    for row in cursor.fetchall():\n",
    "        print(row)\n",
    "except:\n",
    "    connection.rollback()\n",
    "connection.close()"
   ]
  },
  {
   "cell_type": "code",
   "execution_count": 140,
   "id": "1e77d677-9f51-499c-bfae-30197fa1fb29",
   "metadata": {},
   "outputs": [
    {
     "name": "stdout",
     "output_type": "stream",
     "text": [
      "(21,)\n"
     ]
    }
   ],
   "source": [
    "import sqlite3\n",
    "connection=sqlite3.connect('Python.db')\n",
    "cursor=connection.cursor()\n",
    "try:\n",
    "    cursor.execute('SELECT MIN(AGE) AS \"Lowest AGE\" FROM Employee')\n",
    "    for row in cursor.fetchall():\n",
    "        print(row)\n",
    "except:\n",
    "    connection.rollback()\n",
    "connection.close()"
   ]
  },
  {
   "cell_type": "code",
   "execution_count": 141,
   "id": "51bb5ae0-3648-46ad-bf02-fcb4bc998b24",
   "metadata": {},
   "outputs": [
    {
     "name": "stdout",
     "output_type": "stream",
     "text": [
      "('Chaithanya',)\n"
     ]
    }
   ],
   "source": [
    "import sqlite3\n",
    "connection=sqlite3.connect('Python.db')\n",
    "cursor=connection.cursor()\n",
    "try:\n",
    "    cursor.execute('SELECT MIN(NAME) AS \"Lowest Name\" FROM Employee')\n",
    "    for row in cursor.fetchall():\n",
    "        print(row)\n",
    "except:\n",
    "    connection.rollback()\n",
    "connection.close()"
   ]
  },
  {
   "cell_type": "code",
   "execution_count": 142,
   "id": "6df63b8b-fa11-420d-9daf-4de4f62d99d5",
   "metadata": {},
   "outputs": [
    {
     "name": "stdout",
     "output_type": "stream",
     "text": [
      "('Hyderabad',)\n"
     ]
    }
   ],
   "source": [
    "import sqlite3\n",
    "connection=sqlite3.connect('Python.db')\n",
    "cursor=connection.cursor()\n",
    "try:\n",
    "    cursor.execute('SELECT MIN(ADDRESS) AS \"Lowest ADDRESS\" FROM Employee')\n",
    "    for row in cursor.fetchall():\n",
    "        print(row)\n",
    "except:\n",
    "    connection.rollback()\n",
    "connection.close()"
   ]
  },
  {
   "cell_type": "code",
   "execution_count": 143,
   "id": "92efe55a-e0bb-419d-9bb8-0ce2d2289d9c",
   "metadata": {},
   "outputs": [
    {
     "name": "stdout",
     "output_type": "stream",
     "text": [
      "(21,)\n",
      "(23,)\n",
      "(22,)\n"
     ]
    }
   ],
   "source": [
    "import sqlite3\n",
    "connection=sqlite3.connect('Python.db')\n",
    "cursor=connection.cursor()\n",
    "try:\n",
    "    cursor.execute('SELECT MIN(AGE) AS \"Lowest AGE\" FROM Employee WHERE ID>=5 GROUP BY NAME')\n",
    "    for row in cursor.fetchall():\n",
    "        print(row)\n",
    "except:\n",
    "    connection.rollback()\n",
    "connection.close()"
   ]
  },
  {
   "cell_type": "code",
   "execution_count": null,
   "id": "0bd594ec-ce53-4f4f-9933-466f9510f24e",
   "metadata": {},
   "outputs": [],
   "source": [
    "MAX Function"
   ]
  },
  {
   "cell_type": "code",
   "execution_count": 151,
   "id": "c6f6c229-1968-49df-a8a6-edd533e2dcd4",
   "metadata": {},
   "outputs": [
    {
     "name": "stdout",
     "output_type": "stream",
     "text": [
      "(201,)\n"
     ]
    }
   ],
   "source": [
    "import sqlite3\n",
    "connection=sqlite3.connect('Python.db')\n",
    "cursor=connection.cursor()\n",
    "try:\n",
    "    cursor.execute('SELECT MAX(ID) AS \"HIGHEST ID\" FROM Employee')\n",
    "    for row in cursor.fetchall():\n",
    "        print(row)\n",
    "except:\n",
    "    connection.rollback()\n",
    "connection.close()"
   ]
  },
  {
   "cell_type": "code",
   "execution_count": 154,
   "id": "80272ec1-e470-43e7-be48-bc7d11ae0044",
   "metadata": {},
   "outputs": [
    {
     "name": "stdout",
     "output_type": "stream",
     "text": [
      "('mi',)\n"
     ]
    }
   ],
   "source": [
    "import sqlite3\n",
    "connection=sqlite3.connect('Python.db')\n",
    "cursor=connection.cursor()\n",
    "try:\n",
    "    cursor.execute('SELECT MAX(NAME) AS \"LARGE NAME\" FROM Employee')\n",
    "    for row in cursor.fetchall():\n",
    "        print(row)\n",
    "except:\n",
    "    connection.rollback()\n",
    "connection.close()"
   ]
  },
  {
   "cell_type": "code",
   "execution_count": 155,
   "id": "75e5536a-3b2c-4114-902a-5ebd1dfecec0",
   "metadata": {},
   "outputs": [
    {
     "name": "stdout",
     "output_type": "stream",
     "text": [
      "(23,)\n"
     ]
    }
   ],
   "source": [
    "import sqlite3\n",
    "connection=sqlite3.connect('Python.db')\n",
    "cursor=connection.cursor()\n",
    "try:\n",
    "    cursor.execute('SELECT MAX(AGE) AS \"Highest Age\" FROM Employee')\n",
    "    for row in cursor.fetchall():\n",
    "        print(row)\n",
    "except:\n",
    "    connection.rollback()\n",
    "connection.close()"
   ]
  },
  {
   "cell_type": "code",
   "execution_count": 168,
   "id": "75a6ae22-42c6-44cd-ae0a-dcbc04565f92",
   "metadata": {},
   "outputs": [
    {
     "name": "stdout",
     "output_type": "stream",
     "text": [
      "(21,)\n",
      "(23,)\n",
      "(22,)\n"
     ]
    }
   ],
   "source": [
    "import sqlite3\n",
    "connection=sqlite3.connect('Python.db')\n",
    "cursor=connection.cursor()\n",
    "try:\n",
    "    cursor.execute('SELECT MAX(AGE) AS \"Maximium AGE\" FROM Employee WHERE AGE<=25 GROUP BY NAME')\n",
    "    for row in cursor.fetchall():\n",
    "        print(row)\n",
    "except:\n",
    "    connection.rollback()\n",
    "connection.close()"
   ]
  },
  {
   "cell_type": "code",
   "execution_count": null,
   "id": "f1d85eaf-e96d-4f28-ad7b-a570e28237c9",
   "metadata": {},
   "outputs": [],
   "source": [
    "Average Function"
   ]
  },
  {
   "cell_type": "code",
   "execution_count": 159,
   "id": "ddf21ec3-a0c8-46aa-8f16-5f71471a2fdb",
   "metadata": {},
   "outputs": [
    {
     "name": "stdout",
     "output_type": "stream",
     "text": [
      "(200.0,)\n"
     ]
    }
   ],
   "source": [
    "import sqlite3\n",
    "connection=sqlite3.connect('Python.db')\n",
    "cursor=connection.cursor()\n",
    "try:\n",
    "    cursor.execute(\"SELECT AVG(ID) AS 'AVERAGE ID' FROM Employee\")\n",
    "    for row in cursor.fetchall():\n",
    "        print(row)\n",
    "except:\n",
    "    connection.rollback()\n",
    "connection.close()"
   ]
  },
  {
   "cell_type": "code",
   "execution_count": 161,
   "id": "d953b212-7890-4d8a-87bf-006b83ce1650",
   "metadata": {},
   "outputs": [
    {
     "name": "stdout",
     "output_type": "stream",
     "text": [
      "(0.0,)\n"
     ]
    }
   ],
   "source": [
    "import sqlite3\n",
    "connection=sqlite3.connect('Python.db')\n",
    "cursor=connection.cursor()\n",
    "try:\n",
    "    cursor.execute(\"SELECT AVG(NAME) AS 'AVERAGE NAME' FROM Employee\")\n",
    "    for row in cursor.fetchall():\n",
    "        print(row)\n",
    "except:\n",
    "    connection.rollback()\n",
    "connection.close()"
   ]
  },
  {
   "cell_type": "code",
   "execution_count": 162,
   "id": "a69640f5-2cbd-4cf6-b473-0daed23560f9",
   "metadata": {},
   "outputs": [
    {
     "name": "stdout",
     "output_type": "stream",
     "text": [
      "(22.0,)\n"
     ]
    }
   ],
   "source": [
    "import sqlite3\n",
    "connection=sqlite3.connect('Python.db')\n",
    "cursor=connection.cursor()\n",
    "try:\n",
    "    cursor.execute(\"SELECT AVG(AGE) AS 'AVERAGE AGE' FROM Employee\")\n",
    "    for row in cursor.fetchall():\n",
    "        print(row)\n",
    "except:\n",
    "    connection.rollback()\n",
    "connection.close()"
   ]
  },
  {
   "cell_type": "code",
   "execution_count": 165,
   "id": "5037902b-7c9e-4519-aaa2-a5e9f044af9d",
   "metadata": {},
   "outputs": [
    {
     "name": "stdout",
     "output_type": "stream",
     "text": [
      "(22.0,)\n"
     ]
    }
   ],
   "source": [
    "import sqlite3\n",
    "connection=sqlite3.connect('Python.db')\n",
    "cursor=connection.cursor()\n",
    "try:\n",
    "    cursor.execute(\"SELECT AVG(AGE) AS 'AVERAGE AGE' FROM Employee WHERE AGE<=25\")\n",
    "    for row in cursor.fetchall():\n",
    "        print(row)\n",
    "except:\n",
    "    connection.rollback()\n",
    "connection.close()"
   ]
  },
  {
   "cell_type": "code",
   "execution_count": 166,
   "id": "25fb7790-2682-4e01-8e50-729bbac5396b",
   "metadata": {},
   "outputs": [
    {
     "name": "stdout",
     "output_type": "stream",
     "text": [
      "(200.0,)\n"
     ]
    }
   ],
   "source": [
    "import sqlite3\n",
    "connection=sqlite3.connect('Python.db')\n",
    "cursor=connection.cursor()\n",
    "try:\n",
    "    cursor.execute(\"SELECT AVG(ID) AS 'AVERAGE ID' FROM Employee WHERE ID>=5\")\n",
    "    for row in cursor.fetchall():\n",
    "        print(row)\n",
    "except:\n",
    "    connection.rollback()\n",
    "connection.close()"
   ]
  },
  {
   "cell_type": "code",
   "execution_count": 169,
   "id": "0ebd35e5-651a-4703-9052-e860c327957a",
   "metadata": {},
   "outputs": [
    {
     "name": "stdout",
     "output_type": "stream",
     "text": [
      "(99.66666666666667,)\n"
     ]
    }
   ],
   "source": [
    "import sqlite3\n",
    "connection=sqlite3.connect('Python.db')\n",
    "cursor=connection.cursor()\n",
    "try:\n",
    "    cursor.execute(\"SELECT AVG(ID/2) AS 'AVERAGE ID By NAME' FROM Employee\")\n",
    "    for row in cursor.fetchall():\n",
    "        print(row)\n",
    "except:\n",
    "    connection.rollback()\n",
    "connection.close()"
   ]
  },
  {
   "cell_type": "code",
   "execution_count": 170,
   "id": "e87e8956-3ab0-4617-96a4-c1df3b653aee",
   "metadata": {},
   "outputs": [
    {
     "name": "stdout",
     "output_type": "stream",
     "text": [
      "(10.666666666666666,)\n"
     ]
    }
   ],
   "source": [
    "import sqlite3\n",
    "connection=sqlite3.connect('Python.db')\n",
    "cursor=connection.cursor()\n",
    "try:\n",
    "    cursor.execute(\"SELECT AVG(AGE/2) AS 'AVERAGE AGE By NAME' FROM Employee\")\n",
    "    for row in cursor.fetchall():\n",
    "        print(row)\n",
    "except:\n",
    "    connection.rollback()\n",
    "connection.close()"
   ]
  },
  {
   "cell_type": "code",
   "execution_count": null,
   "id": "f87a467b-2236-4c31-8e4f-fba03abb5dfc",
   "metadata": {},
   "outputs": [],
   "source": [
    "Count Function"
   ]
  },
  {
   "cell_type": "code",
   "execution_count": 171,
   "id": "a6dcd22b-f9a9-43b8-8e9d-4be30abce573",
   "metadata": {},
   "outputs": [
    {
     "name": "stdout",
     "output_type": "stream",
     "text": [
      "(3,)\n"
     ]
    }
   ],
   "source": [
    "import sqlite3\n",
    "connection=sqlite3.connect('Python.db')\n",
    "cursor=connection.cursor()\n",
    "try:\n",
    "    cursor.execute(\"SELECT COUNT(*) FROM Employee\")\n",
    "    for row in cursor.fetchall():\n",
    "        print(row)\n",
    "except:\n",
    "    connection.rollback()\n",
    "connection.close()"
   ]
  },
  {
   "cell_type": "code",
   "execution_count": 173,
   "id": "05431e20-1c1b-4f87-82fa-1ab11b684dbd",
   "metadata": {},
   "outputs": [
    {
     "name": "stdout",
     "output_type": "stream",
     "text": [
      "(2,)\n"
     ]
    }
   ],
   "source": [
    "import sqlite3\n",
    "connection=sqlite3.connect('Python.db')\n",
    "cursor=connection.cursor()\n",
    "try:\n",
    "    cursor.execute(\"SELECT COUNT(*) FROM Employee WHERE ID<201\")\n",
    "    for row in cursor.fetchall():\n",
    "        print(row)\n",
    "except:\n",
    "    connection.rollback()\n",
    "connection.close()"
   ]
  },
  {
   "cell_type": "code",
   "execution_count": 174,
   "id": "f934962e-5ad2-426e-b43a-d434d7ffdda1",
   "metadata": {},
   "outputs": [
    {
     "name": "stdout",
     "output_type": "stream",
     "text": [
      "(1,)\n",
      "(1,)\n"
     ]
    }
   ],
   "source": [
    "import sqlite3\n",
    "connection=sqlite3.connect('Python.db')\n",
    "cursor=connection.cursor()\n",
    "try:\n",
    "    cursor.execute(\"SELECT COUNT(*) FROM Employee WHERE ID<201 GROUP BY NAME\")\n",
    "    for row in cursor.fetchall():\n",
    "        print(row)\n",
    "except:\n",
    "    connection.rollback()\n",
    "connection.close()"
   ]
  },
  {
   "cell_type": "code",
   "execution_count": null,
   "id": "9864b5e7-e10c-447d-894a-0c7f3239ef9c",
   "metadata": {},
   "outputs": [],
   "source": [
    "SUM"
   ]
  },
  {
   "cell_type": "code",
   "execution_count": 175,
   "id": "d4fb6fc0-2bb8-4c4e-b5ef-ec6963eeb74e",
   "metadata": {},
   "outputs": [
    {
     "name": "stdout",
     "output_type": "stream",
     "text": [
      "(600,)\n"
     ]
    }
   ],
   "source": [
    "import sqlite3\n",
    "connection=sqlite3.connect('Python.db')\n",
    "cursor=connection.cursor()\n",
    "try:\n",
    "    cursor.execute('SELECT SUM(ID) FROM Employee')\n",
    "    for row in cursor.fetchall():\n",
    "        print(row)\n",
    "except:\n",
    "    connection.rollback()\n",
    "connection.close()"
   ]
  },
  {
   "cell_type": "code",
   "execution_count": 177,
   "id": "272cdfce-b73c-47ad-8731-b69333711d4e",
   "metadata": {},
   "outputs": [
    {
     "name": "stdout",
     "output_type": "stream",
     "text": [
      "(1200,)\n"
     ]
    }
   ],
   "source": [
    "import sqlite3\n",
    "connection=sqlite3.connect('Python.db')\n",
    "cursor=connection.cursor()\n",
    "try:\n",
    "    cursor.execute('SELECT SUM(ID+200) FROM Employee')\n",
    "    for row in cursor.fetchall():\n",
    "        print(row)\n",
    "except:\n",
    "    connection.rollback()\n",
    "connection.close()"
   ]
  },
  {
   "cell_type": "code",
   "execution_count": 179,
   "id": "466afaad-7e52-4654-91c1-691b10626217",
   "metadata": {},
   "outputs": [
    {
     "name": "stdout",
     "output_type": "stream",
     "text": [
      "(1200,)\n"
     ]
    }
   ],
   "source": [
    "import sqlite3\n",
    "connection=sqlite3.connect('Python.db')\n",
    "cursor=connection.cursor()\n",
    "try:\n",
    "    cursor.execute('SELECT SUM(ID*2) FROM Employee')\n",
    "    for row in cursor.fetchall():\n",
    "        print(row)\n",
    "except:\n",
    "    connection.rollback()\n",
    "connection.close()"
   ]
  },
  {
   "cell_type": "code",
   "execution_count": 180,
   "id": "532c02c4-92ed-479d-be50-8684e5849257",
   "metadata": {},
   "outputs": [
    {
     "name": "stdout",
     "output_type": "stream",
     "text": [
      "(399,)\n"
     ]
    }
   ],
   "source": [
    "import sqlite3\n",
    "connection=sqlite3.connect('Python.db')\n",
    "cursor=connection.cursor()\n",
    "try:\n",
    "    cursor.execute('SELECT SUM(ID) FROM Employee WHERE ID<201')\n",
    "    for row in cursor.fetchall():\n",
    "        print(row)\n",
    "except:\n",
    "    connection.rollback()\n",
    "connection.close()"
   ]
  },
  {
   "cell_type": "code",
   "execution_count": 182,
   "id": "b039d171-3bb6-4d2b-895d-9e020981241d",
   "metadata": {},
   "outputs": [
    {
     "name": "stdout",
     "output_type": "stream",
     "text": [
      "(799,)\n"
     ]
    }
   ],
   "source": [
    "import sqlite3\n",
    "connection=sqlite3.connect('Python.db')\n",
    "cursor=connection.cursor()\n",
    "try:\n",
    "    cursor.execute('SELECT SUM(ID+200) FROM Employee WHERE ID<201 GROUP BY ADDRESS')\n",
    "    for row in cursor.fetchall():\n",
    "        print(row)\n",
    "except:\n",
    "    connection.rollback()\n",
    "connection.close()"
   ]
  },
  {
   "cell_type": "code",
   "execution_count": null,
   "id": "54195e83-15d2-4682-95fe-d81709f419f2",
   "metadata": {},
   "outputs": [],
   "source": [
    "SQLite Triggers\n",
    "\n",
    "SQLite Trigger is an event-driven action or database callback function which is invoked automatically \n",
    "when an INSERT, UPDATE, and DELETE statement is performed on a specified table."
   ]
  },
  {
   "cell_type": "code",
   "execution_count": null,
   "id": "a8c37065-59d6-4360-b405-5a8e0a3965ce",
   "metadata": {},
   "outputs": [],
   "source": [
    "SQLite Triggers\n",
    "SQLite Trigger is an event-driven action or database callback function which is invoked automatically when an INSERT, UPDATE, and DELETE statement \n",
    "is performed on a specified table.\n",
    "\n",
    "Syntax:\n",
    "CREATE  TRIGGER trigger_name [BEFORE|AFTER] event_name   \n",
    "ON table_name  \n",
    "BEGIN  \n",
    " -- Trigger logic goes here....  \n",
    "END; "
   ]
  },
  {
   "cell_type": "code",
   "execution_count": 42,
   "id": "14ddc1ca-491e-4973-a7f3-dcbb18d3800b",
   "metadata": {},
   "outputs": [
    {
     "name": "stdout",
     "output_type": "stream",
     "text": [
      "New Table Created\n"
     ]
    }
   ],
   "source": [
    "import sqlite3\n",
    "connection = sqlite3.connect('Python.db')\n",
    "cursor = connection.cursor()\n",
    "try:\n",
    "    cursor.execute('CREATE TABLE Company(ID INT PRIMARY KEY NOT NULL,NAME TEXT NOT NULL,AGE INT NOT NULL,ADDRESS CHAR(50),SALARY REAL);')\n",
    "    connection.commit()\n",
    "    print(\"New Table Created\")\n",
    "except Exception as e:\n",
    "    print(\"Error:\", e)\n",
    "    connection.rollback()\n",
    "connection.close()"
   ]
  },
  {
   "cell_type": "code",
   "execution_count": null,
   "id": "6032b0c9-1d44-43b8-bd74-9972f452aca2",
   "metadata": {},
   "outputs": [],
   "source": [
    "create Trigger After Insert"
   ]
  },
  {
   "cell_type": "code",
   "execution_count": 43,
   "id": "a367308b-42ec-4e8c-9af5-e9e1f0fd537d",
   "metadata": {},
   "outputs": [
    {
     "name": "stdout",
     "output_type": "stream",
     "text": [
      "Trigger was created\n"
     ]
    }
   ],
   "source": [
    "import sqlite3\n",
    "connection=sqlite3.connect('Python.db')\n",
    "cursor=connection.cursor()\n",
    "try:\n",
    "    cursor.execute(\"CREATE TRIGGER audit_log AFTER INSERT ON Company BEGIN INSERT INTO AUDIT(EMP_ID, ENTRY_DATE) VALUES (new.ID, DATETIME('now'));END\")\n",
    "    connection.commit()\n",
    "    print(\"Trigger was created\")\n",
    "except Exception as err:\n",
    "    print(f\"Error as {err}\")\n",
    "connection.close()"
   ]
  },
  {
   "cell_type": "code",
   "execution_count": 45,
   "id": "eebad365-a640-4225-863c-905f9b56231f",
   "metadata": {},
   "outputs": [],
   "source": [
    "import sqlite3\n",
    "connection=sqlite3.connect('Python.db')\n",
    "cursor=connection.cursor()\n",
    "try:\n",
    "    cursor.execute(\"INSERT INTO Company(ID,NAME,AGE,ADDRESS,SALARY)VALUES(1,'Balaji',23,'Hyderabad',15000)\")\n",
    "    connection.commit()\n",
    "except:\n",
    "    connection.rollback()\n",
    "connection.close()"
   ]
  },
  {
   "cell_type": "code",
   "execution_count": 46,
   "id": "8740a3cf-8cec-41ef-915b-d30c11ee5a20",
   "metadata": {},
   "outputs": [
    {
     "name": "stdout",
     "output_type": "stream",
     "text": [
      "(1, 'Balaji', 23, 'Hyderabad', 15000.0)\n"
     ]
    }
   ],
   "source": [
    "import sqlite3\n",
    "connection=sqlite3.connect('Python.db')\n",
    "cursor=connection.cursor()\n",
    "try:\n",
    "    cursor.execute(\"SELECT * FROM Company\")\n",
    "    for row in cursor.fetchall():\n",
    "        print(row)\n",
    "except Exception as err:\n",
    "    print(f\"Error: {err}\")\n",
    "connection.close()"
   ]
  },
  {
   "cell_type": "code",
   "execution_count": 47,
   "id": "09260ff1-64d3-4772-a2f9-3fd255a11f67",
   "metadata": {},
   "outputs": [
    {
     "name": "stdout",
     "output_type": "stream",
     "text": [
      "(1, '2025-01-30 11:30:41')\n"
     ]
    }
   ],
   "source": [
    "import sqlite3\n",
    "connection=sqlite3.connect('Python.db')\n",
    "cursor=connection.cursor()\n",
    "try:\n",
    "    cursor.execute(\"SELECT * FROM AUDIT\")\n",
    "    for row in cursor.fetchall():\n",
    "        print(row)\n",
    "except Exception as err:\n",
    "    print(f\"Error: {err}\")\n",
    "connection.close()"
   ]
  },
  {
   "cell_type": "code",
   "execution_count": null,
   "id": "ab5b0606-c42d-41bb-a54b-cf56c8d65a18",
   "metadata": {},
   "outputs": [],
   "source": [
    "At the same time a record will be created in AUDIT table. This is just because of trigger, which we have created on INSERT operation on COMPANY table. "
   ]
  },
  {
   "cell_type": "code",
   "execution_count": null,
   "id": "87d821ee-83d5-4e1d-b7eb-52fb722001dd",
   "metadata": {},
   "outputs": [],
   "source": [
    "How to list the triggers\n",
    "\n",
    "You can list down triggers by using sqlite_master statement."
   ]
  },
  {
   "cell_type": "code",
   "execution_count": 48,
   "id": "b647f20e-e224-44b7-8855-08efe3a5685d",
   "metadata": {},
   "outputs": [
    {
     "name": "stdout",
     "output_type": "stream",
     "text": [
      "('audit_log',)\n"
     ]
    }
   ],
   "source": [
    "import sqlite3\n",
    "connection=sqlite3.connect('Python.db')\n",
    "cursor=connection.cursor()\n",
    "try:\n",
    "    cursor.execute(\"SELECT name FROM sqlite_master WHERE type='trigger';\")\n",
    "    for row in cursor.fetchall():\n",
    "        print(row)\n",
    "except:\n",
    "    connection.rollback()\n",
    "connection.close()"
   ]
  },
  {
   "cell_type": "code",
   "execution_count": 49,
   "id": "0a8e7d05-2d03-42a3-9d31-cb1afa7cef9d",
   "metadata": {},
   "outputs": [
    {
     "name": "stdout",
     "output_type": "stream",
     "text": [
      "('audit_log',)\n"
     ]
    }
   ],
   "source": [
    "import sqlite3\n",
    "connection=sqlite3.connect('Python.db')\n",
    "cursor=connection.cursor()\n",
    "try:\n",
    "    cursor.execute(\"SELECT name FROM sqlite_master WHERE type='trigger' AND tbl_name='Company';\")\n",
    "    for row in cursor.fetchall():\n",
    "        print(row)\n",
    "except:\n",
    "    connection.rollback()\n",
    "connection.close()"
   ]
  },
  {
   "cell_type": "code",
   "execution_count": null,
   "id": "03165339-1264-44ce-b89b-a8ac7a8fbf70",
   "metadata": {},
   "outputs": [],
   "source": [
    "Before Insert"
   ]
  },
  {
   "cell_type": "code",
   "execution_count": 50,
   "id": "9cd29e9b-b29e-4d4e-8cfe-5e89de45c4cc",
   "metadata": {},
   "outputs": [
    {
     "name": "stdout",
     "output_type": "stream",
     "text": [
      "Before Insert Trigger was Implemented\n"
     ]
    }
   ],
   "source": [
    "import sqlite3\n",
    "connection=sqlite3.connect('Python.db')\n",
    "cursor=connection.cursor()\n",
    "try:\n",
    "    cursor.execute(\"CREATE TRIGGER before_insert BEFORE INSERT ON Company BEGIN INSERT INTO AUDIT(EMP_ID,ENTRY_DATE)VALUES(new.ID,datetime('now'));END\")\n",
    "    connection.commit()\n",
    "    print(\"Before Insert Trigger was Implemented\")\n",
    "except:\n",
    "    connection.rollback()\n",
    "connection.close()"
   ]
  },
  {
   "cell_type": "code",
   "execution_count": 94,
   "id": "76b42bac-ec5f-48e4-8142-9f80053c7e95",
   "metadata": {},
   "outputs": [],
   "source": [
    "import sqlite3\n",
    "connection=sqlite3.connect('Python.db')\n",
    "cursor=connection.cursor()\n",
    "try:\n",
    "    cursor.execute(\"INSERT INTO Company(ID,NAME,AGE,ADDRESS,SALARY)VALUES(2,'mi',22,'Rajahmundry',15000)\")\n",
    "    connection.commit()\n",
    "except Exception as err:\n",
    "    print(f\"Error: {err}\")\n",
    "connection.close()"
   ]
  },
  {
   "cell_type": "code",
   "execution_count": 95,
   "id": "592724b2-76f8-488e-9347-8584f02d26ab",
   "metadata": {},
   "outputs": [
    {
     "name": "stdout",
     "output_type": "stream",
     "text": [
      "(1, '2025-01-30 11:30:41')\n",
      "(2, '2025-01-30 12:00:21')\n",
      "(2, '2025-01-30 12:00:21')\n",
      "(3, '2025-01-30 12:05:02')\n",
      "(3, '2025-01-30 12:05:02')\n",
      "(1, '2025-01-30 12:14:57')\n",
      "(2, '2025-01-30 12:20:59')\n",
      "(2, '2025-01-30 12:20:59')\n",
      "(1, '2025-01-30 12:23:08')\n",
      "(1, '2025-01-30 12:23:08')\n",
      "(2, '2025-01-30 12:26:25')\n",
      "(2, '2025-01-30 12:26:25')\n"
     ]
    }
   ],
   "source": [
    "import sqlite3\n",
    "connection=sqlite3.connect('Python.db')\n",
    "cursor=connection.cursor()\n",
    "try:\n",
    "    cursor.execute(\"SELECT * FROM AUDIT\")\n",
    "    for row in cursor.fetchall():\n",
    "        print(row)\n",
    "except Exception as err:\n",
    "    print(f\"Error: {err}\")\n",
    "connection.close()"
   ]
  },
  {
   "cell_type": "code",
   "execution_count": 96,
   "id": "2d2a92a4-afb7-4dfa-b0f2-5130bc05aa4b",
   "metadata": {},
   "outputs": [
    {
     "name": "stdout",
     "output_type": "stream",
     "text": [
      "(1, 'Balaji', 23, 'Khairathabad', 15000.0)\n",
      "(3, 'mi', 20, '10000', 'Rajahmundry')\n",
      "(2, 'mi', 22, 'Rajahmundry', 15000.0)\n"
     ]
    }
   ],
   "source": [
    "import sqlite3\n",
    "connection=sqlite3.connect('Python.db')\n",
    "cursor=connection.cursor()\n",
    "try:\n",
    "    cursor.execute(\"SELECT * FROM Company\")\n",
    "    for row in cursor.fetchall():\n",
    "        print(row)\n",
    "except Exception as err:\n",
    "    print(f\"Error: {err}\")\n",
    "connection.close()"
   ]
  },
  {
   "cell_type": "code",
   "execution_count": 75,
   "id": "b64daabb-4205-49fa-bd90-0437766315f9",
   "metadata": {},
   "outputs": [
    {
     "name": "stdout",
     "output_type": "stream",
     "text": [
      "('audit_log',)\n",
      "('before_insert',)\n",
      "('after_update',)\n",
      "('before_update',)\n"
     ]
    }
   ],
   "source": [
    "import sqlite3\n",
    "connection=sqlite3.connect('Python.db')\n",
    "cursor=connection.cursor()\n",
    "try:\n",
    "    cursor.execute(\"SELECT name from sqlite_master WHERE type='trigger';\")\n",
    "    for row in cursor.fetchall():\n",
    "        print(row)\n",
    "except:\n",
    "    connection.rollback()\n",
    "connection.close()"
   ]
  },
  {
   "cell_type": "code",
   "execution_count": 76,
   "id": "50fe2311-e5fc-458f-8dda-93c9273f1ec9",
   "metadata": {},
   "outputs": [],
   "source": [
    "import sqlite3\n",
    "connection=sqlite3.connect('Python.db')\n",
    "cursor=connection.cursor()\n",
    "try:\n",
    "    cursor.execute(\"CREATE TRIGGER audit_log BEFORE INSERT ON Company BEGIN INSERT INTO AUDIT(EMP_ID,ENTRY_DATE)VALUES(new.ID,datetime('now'));END\")\n",
    "    connection.commit()\n",
    "    print(\"Before Insert Trigger was Implemented\")\n",
    "except:\n",
    "    connection.rollback()\n",
    "connection.close()"
   ]
  },
  {
   "cell_type": "code",
   "execution_count": null,
   "id": "f90b76a4-7098-477d-9682-9a5bfef35ae6",
   "metadata": {},
   "outputs": [],
   "source": [
    "Here no changes was there."
   ]
  },
  {
   "cell_type": "code",
   "execution_count": 97,
   "id": "acfea278-f379-4dc4-80ee-aff4772bfe7e",
   "metadata": {},
   "outputs": [],
   "source": [
    "import sqlite3\n",
    "connection=sqlite3.connect('Python.db')\n",
    "cursor=connection.cursor()\n",
    "try:\n",
    "    cursor.execute(\"INSERT INTO Company(ID,NAME,AGE,ADDRESS,SALARY)VALUES(3,'mi',20,'Rajahmundry',10000)\")\n",
    "    connection.commit()\n",
    "except:\n",
    "    connection.rollback()\n",
    "connection.close()"
   ]
  },
  {
   "cell_type": "code",
   "execution_count": 98,
   "id": "67b381ce-cfec-41b0-813c-3605a0523a3d",
   "metadata": {},
   "outputs": [
    {
     "name": "stdout",
     "output_type": "stream",
     "text": [
      "(1, '2025-01-30 11:30:41')\n",
      "(2, '2025-01-30 12:00:21')\n",
      "(2, '2025-01-30 12:00:21')\n",
      "(3, '2025-01-30 12:05:02')\n",
      "(3, '2025-01-30 12:05:02')\n",
      "(1, '2025-01-30 12:14:57')\n",
      "(2, '2025-01-30 12:20:59')\n",
      "(2, '2025-01-30 12:20:59')\n",
      "(1, '2025-01-30 12:23:08')\n",
      "(1, '2025-01-30 12:23:08')\n",
      "(2, '2025-01-30 12:26:25')\n",
      "(2, '2025-01-30 12:26:25')\n",
      "(3, '2025-01-30 12:27:22')\n",
      "(3, '2025-01-30 12:27:22')\n"
     ]
    }
   ],
   "source": [
    "import sqlite3\n",
    "connection=sqlite3.connect('Python.db')\n",
    "cursor=connection.cursor()\n",
    "try:\n",
    "    cursor.execute(\"SELECT * FROM AUDIT\")\n",
    "    for row in cursor.fetchall():\n",
    "        print(row)\n",
    "except Exception as err:\n",
    "    print(f\"Error: {err}\")\n",
    "connection.close()"
   ]
  },
  {
   "cell_type": "code",
   "execution_count": null,
   "id": "43922a81-00e4-4c14-b51d-21a010f4eec3",
   "metadata": {},
   "outputs": [],
   "source": [
    "Trigger Update"
   ]
  },
  {
   "cell_type": "code",
   "execution_count": 79,
   "id": "f1c97ecf-8b7c-4025-b5ed-64268ee3967c",
   "metadata": {},
   "outputs": [],
   "source": [
    "import sqlite3\n",
    "connection=sqlite3.connect('Python.db')\n",
    "cursor=connection.cursor()\n",
    "try:\n",
    "    cursor.execute(\"CREATE TRIGGER after_update AFTER UPDATE ON Company BEGIN INSERT INTO AUDIT(EMP_ID,ENTRY_DATE)VALUES(new.ID,datetime('now'));END;\")\n",
    "    connection.commit()\n",
    "    print(\"update trigger was created\")\n",
    "except:\n",
    "    connection.rollback()\n",
    "connection.close()"
   ]
  },
  {
   "cell_type": "code",
   "execution_count": 80,
   "id": "de36db8e-3643-44cf-96c8-4b1b88b865dc",
   "metadata": {},
   "outputs": [],
   "source": [
    "import sqlite3\n",
    "connection=sqlite3.connect('Python.db')\n",
    "cursor=connection.cursor()\n",
    "try:\n",
    "    cursor.execute(\"UPDATE Company SET ADDRESS='Khairathabad' WHERE ID=1\")\n",
    "    connection.commit()\n",
    "except Exception as err:\n",
    "    print(f\"Error: {err}\")\n",
    "connection.close()"
   ]
  },
  {
   "cell_type": "code",
   "execution_count": 99,
   "id": "e65cee35-5fe4-47ff-a6de-6cb93fc6a241",
   "metadata": {},
   "outputs": [
    {
     "name": "stdout",
     "output_type": "stream",
     "text": [
      "(1, 'Balaji', 23, 'Khairathabad', 15000.0)\n",
      "(2, 'mi', 22, 'Rajahmundry', 15000.0)\n",
      "(3, 'mi', 20, 'Rajahmundry', 10000.0)\n"
     ]
    }
   ],
   "source": [
    "import sqlite3\n",
    "connection=sqlite3.connect('Python.db')\n",
    "cursor=connection.cursor()\n",
    "try:\n",
    "    cursor.execute(\"SELECT * FROM Company\")\n",
    "    for row in cursor.fetchall():\n",
    "        print(row)\n",
    "except Exception as err:\n",
    "    print(f\"Error: {err}\")\n",
    "connection.close()"
   ]
  },
  {
   "cell_type": "code",
   "execution_count": 87,
   "id": "48f056cf-160b-4bdb-b365-1e238f54fed6",
   "metadata": {},
   "outputs": [],
   "source": [
    "import sqlite3\n",
    "connection=sqlite3.connect('Python.db')\n",
    "cursor=connection.cursor()\n",
    "try:\n",
    "    cursor.execute(\"CREATE TRIGGER before_update BEFORE UPDATE ON Company BEGIN INSERT INTO AUDIT(EMP_ID,ENTRY_DATE)VALUES(new.ID,DATETIME('now'));END\")\n",
    "    connection.commit()\n",
    "    print(\"before update trigger was updated\")\n",
    "except:\n",
    "    connection.rollback()\n",
    "connection.close()"
   ]
  },
  {
   "cell_type": "code",
   "execution_count": 100,
   "id": "6624d666-c13e-4980-af0d-c09a8bcc7481",
   "metadata": {},
   "outputs": [],
   "source": [
    "import sqlite3\n",
    "connection=sqlite3.connect('Python.db')\n",
    "cursor=connection.cursor()\n",
    "try:\n",
    "    cursor.execute(\"UPDATE Company SET ADDRESS='RJY' WHERE ID=2\")\n",
    "    connection.commit()\n",
    "except Exception as err:\n",
    "    print(f\"Error: {err}\")\n",
    "connection.close()"
   ]
  },
  {
   "cell_type": "code",
   "execution_count": 101,
   "id": "64905b03-4548-4672-ab69-02edf0b8bf63",
   "metadata": {},
   "outputs": [
    {
     "name": "stdout",
     "output_type": "stream",
     "text": [
      "(1, 'Balaji', 23, 'Khairathabad', 15000.0)\n",
      "(2, 'mi', 22, 'RJY', 15000.0)\n",
      "(3, 'mi', 20, 'Rajahmundry', 10000.0)\n"
     ]
    }
   ],
   "source": [
    "import sqlite3\n",
    "connection=sqlite3.connect('Python.db')\n",
    "cursor=connection.cursor()\n",
    "try:\n",
    "    cursor.execute(\"SELECT * FROM Company\")\n",
    "    for row in cursor.fetchall():\n",
    "        print(row)\n",
    "except Exception as err:\n",
    "    print(f\"Error: {err}\")\n",
    "connection.close()"
   ]
  },
  {
   "cell_type": "code",
   "execution_count": null,
   "id": "646a28b6-e2c3-415a-9691-31c95a8c0787",
   "metadata": {},
   "outputs": [],
   "source": [
    "Trigger DELETE"
   ]
  },
  {
   "cell_type": "code",
   "execution_count": 102,
   "id": "5435f051-5493-4c58-ae80-c5749cb7777e",
   "metadata": {},
   "outputs": [
    {
     "name": "stdout",
     "output_type": "stream",
     "text": [
      "before update trigger was deleted\n"
     ]
    }
   ],
   "source": [
    "import sqlite3\n",
    "connection=sqlite3.connect('Python.db')\n",
    "cursor=connection.cursor()\n",
    "try:\n",
    "    cursor.execute(\"CREATE TRIGGER after_delete AFTER DELETE ON Company BEGIN INSERT INTO AUDIT(EMP_ID,ENTRY_DATE)VALUES(new.ID,DATETIME('now'));END\")\n",
    "    connection.commit()\n",
    "    print(\"before update trigger was deleted\")\n",
    "except:\n",
    "    connection.rollback()\n",
    "connection.close()"
   ]
  },
  {
   "cell_type": "code",
   "execution_count": 103,
   "id": "fdb410c3-1da1-4d2f-ae1f-9126ee9ed5da",
   "metadata": {},
   "outputs": [],
   "source": [
    "import sqlite3\n",
    "connection=sqlite3.connect('Python.db')\n",
    "cursor=connection.cursor()\n",
    "try:\n",
    "    cursor.execute(\"DELETE FROM Company WHERE ID=3\")\n",
    "    connection.commit()\n",
    "except:\n",
    "    connection.rollback()\n",
    "connection.close()"
   ]
  },
  {
   "cell_type": "code",
   "execution_count": 104,
   "id": "e086c477-a6f2-4968-8012-da2f96187a3e",
   "metadata": {},
   "outputs": [],
   "source": [
    "import sqlite3\n",
    "connection=sqlite3.connect('Python.db')\n",
    "cursor=connection.cursor()\n",
    "try:\n",
    "    cursor.execute(\"DROP TRIGGER trigger_name\")\n",
    "    connection.commit()\n",
    "    print(\"before update trigger was deleted\")\n",
    "except:\n",
    "    connection.rollback()\n",
    "connection.close()"
   ]
  },
  {
   "cell_type": "code",
   "execution_count": 106,
   "id": "7ce183ac-9aad-4e79-b1d5-01fcc3dda712",
   "metadata": {},
   "outputs": [
    {
     "name": "stdout",
     "output_type": "stream",
     "text": [
      "('audit_log',)\n",
      "('before_insert',)\n",
      "('after_update',)\n",
      "('before_update',)\n",
      "('after_delete',)\n"
     ]
    }
   ],
   "source": [
    "import sqlite3\n",
    "connection=sqlite3.connect('Python.db')\n",
    "cursor=connection.cursor()\n",
    "try:\n",
    "    cursor.execute(\"SELECT name from sqlite_master WHERE type='trigger';\")\n",
    "    for row in cursor.fetchall():\n",
    "        print(row)\n",
    "except:\n",
    "    connection.rollback()\n",
    "connection.close()"
   ]
  },
  {
   "cell_type": "code",
   "execution_count": null,
   "id": "592e23b6-0c01-49c3-a660-247dac1d03ac",
   "metadata": {},
   "outputs": [],
   "source": [
    "Primary Key\n",
    "\n",
    "SQLite primary key is a simple field or a combination of fields which is used to uniquely define a record. A table can have only one primary key.\n",
    "A primary key should not be a NULL value."
   ]
  },
  {
   "cell_type": "code",
   "execution_count": null,
   "id": "bcad7ccf-a3ad-4e6b-aaf5-c045c76e3d61",
   "metadata": {},
   "outputs": [],
   "source": [
    "Create Primary Key\n",
    "\n",
    "Primary key is generally created at the time of creating the table. We define the primary key while executing CREATE TABLE statement.\n",
    "\n",
    "Syntax:\n",
    "CREATE TABLE table_name  \n",
    "(  \n",
    "column1 datatype [ NULL | NOT NULL ],  \n",
    "column2 datatype [ NULL | NOT NULL ],  \n",
    "......  \n",
    "CONSTRAINT constraint_name PRIMARY KEY (pk_col1, pk_col2, ... pk_col_n)  \n",
    ");  \n",
    "\n",
    "Parameter explanation:\n",
    "table_name: It specifies the name of the table that you want to create.\n",
    "column1, column2: It specifies the columns that you want to create in the table.\n",
    "constraint_name: It specifies the name of the primary key.\n",
    "pk_col1, pk_col2, ... pk_col_n: It specifies the columns that make up the primary key."
   ]
  },
  {
   "cell_type": "code",
   "execution_count": null,
   "id": "09230cb0-b01c-4296-9ae0-98264ed9b622",
   "metadata": {},
   "outputs": [],
   "source": [
    "Add Primary Key\n",
    "It is used when you have not defined primary key at CREATE TABLE statement and you have to add a primary key later.\n",
    "\n",
    "You cannot use ALTER TABLE statement to create a primary key. Instead you have to create a new table with primary key and copy all data from old table.\n",
    "\n",
    "Syntax:\n",
    "PRAGMA foreign_keys=off;  \n",
    "BEGIN TRANSACTION;  \n",
    "ALTER TABLE table_name RENAME TO old_table;  \n",
    "CREATE TABLE table_name  \n",
    "(  \n",
    "column1 datatype [ NULL | NOT NULL ],  \n",
    "column2 datatype [ NULL | NOT NULL ],  \n",
    "...  \n",
    "CONSTRAINT constraint_name PRIMARY KEY (pk_col1, pk_col2, ... pk_col_n)  \n",
    ");  \n",
    "INSERT INTO table_name SELECT * FROM old_table;  \n",
    "COMMIT;  \n",
    "PRAGMA foreign_keys=on;   \n",
    "\n",
    "Parameter explanation:\n",
    "Table_name: It specifies a new table in which includes the primary key.\n",
    "Old_table: It species the table which has to be changed.\n",
    "Constraint_name: It specifies the name of the primary_key.\n",
    "pk_col1, pk_col2, ... pk_col_n: Specifies the name of the columns which makes the primary key."
   ]
  },
  {
   "cell_type": "code",
   "execution_count": 1,
   "id": "bf86b534-454d-462b-94f0-e4914c4874c5",
   "metadata": {},
   "outputs": [
    {
     "name": "stdout",
     "output_type": "stream",
     "text": [
      "Workers Table Created\n"
     ]
    }
   ],
   "source": [
    "import sqlite3\n",
    "connection=sqlite3.connect('Python.db')\n",
    "cursor=connection.cursor()\n",
    "try:\n",
    "    cursor.execute(\"CREATE TABLE Workers(worker_id INTEGER Varchar(100), last_name Varchar(20) NOT NUll, First_Name Varchar(20), hiring DATE)\")\n",
    "    connection.commit()\n",
    "    print(\"Workers Table Created\")\n",
    "except Exception as err:\n",
    "    print(f\"Error: {err}\")\n",
    "connection.close()"
   ]
  },
  {
   "cell_type": "code",
   "execution_count": null,
   "id": "0bf28faf-c8b5-4729-8296-25d786809e8b",
   "metadata": {},
   "outputs": [],
   "source": [
    "in Workers Table we did not add primary key now we want to add primary key."
   ]
  },
  {
   "cell_type": "code",
   "execution_count": 4,
   "id": "9c8ff02a-e528-4736-ba64-a80cd0655f03",
   "metadata": {},
   "outputs": [
    {
     "name": "stdout",
     "output_type": "stream",
     "text": [
      "Table altered successfully.\n"
     ]
    }
   ],
   "source": [
    "import sqlite3\n",
    "\n",
    "connection = sqlite3.connect('Python.db')\n",
    "cursor = connection.cursor()\n",
    "\n",
    "try:\n",
    "    cursor.execute(\"PRAGMA foreign_keys=OFF\")\n",
    "    cursor.execute(\"BEGIN TRANSACTION\")\n",
    "    cursor.execute(\"ALTER TABLE Workers RENAME TO old_workers\")\n",
    "    cursor.execute(\"\"\"\n",
    "        CREATE TABLE Workers (\n",
    "            worker_id INTEGER PRIMARY KEY, \n",
    "            last_name VARCHAR(20) NOT NULL, \n",
    "            first_name VARCHAR(20), \n",
    "            hiring DATE\n",
    "        )\n",
    "    \"\"\")\n",
    "    cursor.execute(\"\"\"\n",
    "        INSERT INTO Workers (worker_id, last_name, first_name, hiring)\n",
    "        SELECT worker_id, last_name, first_name, hiring FROM old_workers\n",
    "    \"\"\")\n",
    "    connection.commit()\n",
    "    cursor.execute(\"PRAGMA foreign_keys=ON\")\n",
    "    print(\"Table altered successfully.\")\n",
    "except Exception as err:\n",
    "    print(f\"Error: {err}\")\n",
    "    connection.rollback()\n",
    "connection.close()"
   ]
  },
  {
   "cell_type": "code",
   "execution_count": 5,
   "id": "9ea0ee99-1519-4af4-96a8-21078f45a54c",
   "metadata": {},
   "outputs": [
    {
     "name": "stdout",
     "output_type": "stream",
     "text": [
      "old_workers are deleted\n"
     ]
    }
   ],
   "source": [
    "import sqlite3\n",
    "connection=sqlite3.connect('Python.db')\n",
    "cursor=connection.cursor()\n",
    "try:\n",
    "    cursor.execute(\"DROP TABLE old_workers\")\n",
    "    connection.commit()\n",
    "    print(\"old_workers are deleted\")\n",
    "except Exception as err:\n",
    "    print(f\"Error: {err}\")\n",
    "connection.close()"
   ]
  },
  {
   "cell_type": "code",
   "execution_count": 8,
   "id": "bd50cd4a-b9ec-4ee0-a2a3-3525b227ca4a",
   "metadata": {},
   "outputs": [
    {
     "name": "stdout",
     "output_type": "stream",
     "text": [
      "Workers Rows was Inserted\n"
     ]
    }
   ],
   "source": [
    "import sqlite3\n",
    "connection=sqlite3.connect('Python.db')\n",
    "cursor=connection.cursor()\n",
    "try:\n",
    "    cursor.execute(\"INSERT INTO Workers(worker_id,last_name,first_name,hiring)VALUES(1057,'Sai Balaji','Vennelakanti','01-08-2024')\")\n",
    "    connection.commit()\n",
    "    print(\"Workers Rows was Inserted\")\n",
    "except Exception as err:\n",
    "    print(f\"Error: {err}\")\n",
    "connection.close()"
   ]
  },
  {
   "cell_type": "code",
   "execution_count": 9,
   "id": "84e6a9d1-f399-4e15-9407-84f6a442147f",
   "metadata": {},
   "outputs": [
    {
     "name": "stdout",
     "output_type": "stream",
     "text": [
      "(1057, 'Sai Balaji', 'Vennelakanti', '01-08-2024')\n"
     ]
    }
   ],
   "source": [
    "import sqlite3\n",
    "connection=sqlite3.connect('Python.db')\n",
    "cursor=connection.cursor()\n",
    "try:\n",
    "    cursor.execute(\"SELECT * FROM Workers\")\n",
    "    for row in cursor.fetchall():\n",
    "        print(row)\n",
    "except Exception as err:\n",
    "    print(f\"Error: {err}\")\n",
    "connection.close()"
   ]
  },
  {
   "cell_type": "code",
   "execution_count": null,
   "id": "28247423-547d-4083-a6ac-bf0bb9626210",
   "metadata": {},
   "outputs": [],
   "source": [
    "Foreign Key\n",
    "\n",
    "SQLite Foreign Key is used to specify that values in one table also appear in another table. \n",
    "It enforces referential integrity within SQLite database. The referenced table is known as parent table \n",
    "while the table with the foreign key is known as child table. The foreign key in the child table will generally reference a \n",
    "primary key in the parent table."
   ]
  },
  {
   "cell_type": "code",
   "execution_count": null,
   "id": "a247e025-4620-410a-85fd-10199439ce60",
   "metadata": {},
   "outputs": [],
   "source": [
    "Create Foreign Key\n",
    "Syntax:\n",
    "\n",
    "CREATE TABLE table_name  \n",
    "(  \n",
    "column1 datatype [ NULL | NOT NULL ],  \n",
    "column2 datatype [ NULL | NOT NULL ],  \n",
    "...  \n",
    "CONSTRAINT fk_column  \n",
    "FOREIGN KEY (column1, column2, ... column_n)  \n",
    "REFERENCES parent_table (column1, column2, ... column_n)  \n",
    ");   "
   ]
  },
  {
   "cell_type": "code",
   "execution_count": 12,
   "id": "1b6f02ec-8cf2-4b44-a5aa-37a3dacf26f0",
   "metadata": {},
   "outputs": [
    {
     "name": "stdout",
     "output_type": "stream",
     "text": [
      "Branch Table was created\n"
     ]
    }
   ],
   "source": [
    "import sqlite3\n",
    "connection=sqlite3.connect('Python.db')\n",
    "cursor=connection.cursor()\n",
    "try:\n",
    "    cursor.execute(\"CREATE TABLE Branch(branch_id INTEGER PRIMARY KEY AUTOINCREMENT,branch_name Varchar(20))\")\n",
    "    connection.commit()\n",
    "    print(\"Branch Table was created\")\n",
    "except Exception as err:\n",
    "    print(f\"Error: {err}\")\n",
    "connection.close()"
   ]
  },
  {
   "cell_type": "code",
   "execution_count": 22,
   "id": "68607bed-cc61-4ec3-909b-f3c80b56f383",
   "metadata": {},
   "outputs": [
    {
     "name": "stdout",
     "output_type": "stream",
     "text": [
      "Table was Created with Foreign keys\n"
     ]
    }
   ],
   "source": [
    "import sqlite3\n",
    "\n",
    "connection = sqlite3.connect('Python.db')\n",
    "cursor = connection.cursor()\n",
    "\n",
    "try:\n",
    "    cursor.execute(\"CREATE TABLE Workers(worker_id INTEGER PRIMARY KEY,last_name VARCHAR(20) NOT NULL,first_name VARCHAR(20),hiring DATE,branch_id INTEGER,CONSTRAINT fk_Branch FOREIGN KEY (branch_id) REFERENCES Branch(branch_id))\")\n",
    "    connection.commit()\n",
    "    print(\"Table was Created with Foreign keys\")\n",
    "except Exception as err:\n",
    "    print(f\"Error: {err}\")\n",
    "connection.close()"
   ]
  },
  {
   "cell_type": "code",
   "execution_count": 18,
   "id": "37240e88-e6a1-4e7e-b916-daeb22f84bae",
   "metadata": {},
   "outputs": [
    {
     "name": "stdout",
     "output_type": "stream",
     "text": [
      "Branch records inserted.\n"
     ]
    }
   ],
   "source": [
    "import sqlite3\n",
    "connection = sqlite3.connect('Python.db')\n",
    "cursor = connection.cursor()\n",
    "try:\n",
    "    cursor.execute(\"INSERT INTO Branch (branch_id, branch_name) VALUES (1, 'Engineering')\")\n",
    "    cursor.execute(\"INSERT INTO Branch (branch_id, branch_name) VALUES (2, 'HR')\")\n",
    "    cursor.execute(\"INSERT INTO Branch (branch_id, branch_name) VALUES (3, 'Sales')\")\n",
    "    connection.commit()\n",
    "    print(\"Branch records inserted.\")\n",
    "except Exception as err:\n",
    "    print(f\"Error: {err}\")\n",
    "connection.close()"
   ]
  },
  {
   "cell_type": "code",
   "execution_count": 23,
   "id": "423e9eac-87fb-482e-9a06-0ffe66ac5a3e",
   "metadata": {},
   "outputs": [
    {
     "name": "stdout",
     "output_type": "stream",
     "text": [
      "Workers Rows was Inserted\n"
     ]
    }
   ],
   "source": [
    "import sqlite3\n",
    "connection=sqlite3.connect('Python.db')\n",
    "cursor=connection.cursor()\n",
    "try:\n",
    "    cursor.execute(\"INSERT INTO Workers(worker_id,last_name,first_name,hiring,branch_id)VALUES(1057,'Sai Balaji','Vennelakanti','01-08-2024',1)\")\n",
    "    cursor.execute(\"INSERT INTO Workers(worker_id,last_name,first_name,hiring,branch_id)VALUES(1058,'mi','tmt','02-08-2024',2)\")\n",
    "    cursor.execute(\"INSERT INTO Workers(worker_id,last_name,first_name,hiring,branch_id)VALUES(1059,'chaithanya','abc','03-08-2024',3)\")\n",
    "    connection.commit()\n",
    "    print(\"Workers Rows was Inserted\")\n",
    "except Exception as err:\n",
    "    print(f\"Error: {err}\")\n",
    "connection.close()"
   ]
  },
  {
   "cell_type": "code",
   "execution_count": 24,
   "id": "2f5cae9b-a398-4067-a893-c67375be96c7",
   "metadata": {},
   "outputs": [
    {
     "name": "stdout",
     "output_type": "stream",
     "text": [
      "(1057, 'Sai Balaji', 'Vennelakanti', '01-08-2024', 1)\n",
      "(1058, 'mi', 'tmt', '02-08-2024', 2)\n",
      "(1059, 'chaithanya', 'abc', '03-08-2024', 3)\n"
     ]
    }
   ],
   "source": [
    "import sqlite3\n",
    "connection=sqlite3.connect('Python.db')\n",
    "cursor=connection.cursor()\n",
    "try:\n",
    "    cursor.execute(\"SELECT * FROM Workers\")\n",
    "    for row in cursor.fetchall():\n",
    "        print(row)\n",
    "except Exception as err:\n",
    "    print(f\"Error: {err}\")\n",
    "connection.close()"
   ]
  },
  {
   "cell_type": "code",
   "execution_count": null,
   "id": "3180d723-57f1-4ab1-ac30-9b67fbb90a62",
   "metadata": {},
   "outputs": [],
   "source": [
    "SQLITE IMPORT"
   ]
  },
  {
   "cell_type": "code",
   "execution_count": 26,
   "id": "98c4d562-67e2-4db9-a5fb-1ba9bda1876e",
   "metadata": {},
   "outputs": [
    {
     "data": {
      "image/png": "[encoded data removed]",
      "text/plain": [
       "<IPython.core.display.Image object>"
      ]
     },
     "metadata": {},
     "output_type": "display_data"
    }
   ],
   "source": [
    "from IPython.display import Image,display\n",
    "a=r\"C:/Users/PythonTeam/Pictures/screenshots/Screenshot 2025-01-31 181105.png\"\n",
    "display(Image(a))"
   ]
  },
  {
   "cell_type": "code",
   "execution_count": 27,
   "id": "275d4872-f0f4-431a-a899-003591f1a3f9",
   "metadata": {},
   "outputs": [
    {
     "name": "stderr",
     "output_type": "stream",
     "text": [
      "C:\\Users\\PythonTeam\\anaconda3\\envs\\python39\\lib\\site-packages\\numpy\\_distributor_init.py:30: UserWarning: loaded more than 1 DLL from .libs:\n",
      "C:\\Users\\PythonTeam\\anaconda3\\envs\\python39\\lib\\site-packages\\numpy\\.libs\\libopenblas.FB5AE2TYXYH2IJRDKGDGQ3XBKLKTF43H.gfortran-win_amd64.dll\n",
      "C:\\Users\\PythonTeam\\anaconda3\\envs\\python39\\lib\\site-packages\\numpy\\.libs\\libopenblas.GK7GX5KEQ4F6UYO3P26ULGBQYHGQO7J4.gfortran-win_amd64.dll\n",
      "  warnings.warn(\"loaded more than 1 DLL from .libs:\"\n"
     ]
    },
    {
     "data": {
      "text/html": [
       "<div>\n",
       "<style scoped>\n",
       "    .dataframe tbody tr th:only-of-type {\n",
       "        vertical-align: middle;\n",
       "    }\n",
       "\n",
       "    .dataframe tbody tr th {\n",
       "        vertical-align: top;\n",
       "    }\n",
       "\n",
       "    .dataframe thead th {\n",
       "        text-align: right;\n",
       "    }\n",
       "</style>\n",
       "<table border=\"1\" class=\"dataframe\">\n",
       "  <thead>\n",
       "    <tr style=\"text-align: right;\">\n",
       "      <th></th>\n",
       "      <th>199</th>\n",
       "      <th>CSE</th>\n",
       "    </tr>\n",
       "  </thead>\n",
       "  <tbody>\n",
       "    <tr>\n",
       "      <th>0</th>\n",
       "      <td>200</td>\n",
       "      <td>CSE</td>\n",
       "    </tr>\n",
       "    <tr>\n",
       "      <th>1</th>\n",
       "      <td>201</td>\n",
       "      <td>ECE</td>\n",
       "    </tr>\n",
       "  </tbody>\n",
       "</table>\n",
       "</div>"
      ],
      "text/plain": [
       "   199  CSE\n",
       "0  200  CSE\n",
       "1  201  ECE"
      ]
     },
     "metadata": {},
     "output_type": "display_data"
    }
   ],
   "source": [
    "import pandas as pd\n",
    "a=pd.read_csv('Department.csv')\n",
    "display(a)"
   ]
  },
  {
   "cell_type": "code",
   "execution_count": null,
   "id": "4115d8cd-4943-443f-85be-b7064aeff97a",
   "metadata": {},
   "outputs": [],
   "source": [
    "Export csv"
   ]
  },
  {
   "cell_type": "code",
   "execution_count": 28,
   "id": "2cf14d61-a33b-4424-8c84-70296b1b5cd1",
   "metadata": {},
   "outputs": [
    {
     "data": {
      "image/png": "[encoded data removed]",
      "text/plain": [
       "<IPython.core.display.Image object>"
      ]
     },
     "metadata": {},
     "output_type": "display_data"
    }
   ],
   "source": [
    "from IPython.display import Image,display\n",
    "a=r\"C:/Users/PythonTeam/Pictures/screenshots/Screenshot 2025-01-31 181639.png\"\n",
    "display(Image(a))"
   ]
  },
  {
   "cell_type": "code",
   "execution_count": 29,
   "id": "8d934703-c167-4e1f-a8cf-860520e61d3a",
   "metadata": {},
   "outputs": [
    {
     "data": {
      "text/html": [
       "<div>\n",
       "<style scoped>\n",
       "    .dataframe tbody tr th:only-of-type {\n",
       "        vertical-align: middle;\n",
       "    }\n",
       "\n",
       "    .dataframe tbody tr th {\n",
       "        vertical-align: top;\n",
       "    }\n",
       "\n",
       "    .dataframe thead th {\n",
       "        text-align: right;\n",
       "    }\n",
       "</style>\n",
       "<table border=\"1\" class=\"dataframe\">\n",
       "  <thead>\n",
       "    <tr style=\"text-align: right;\">\n",
       "      <th></th>\n",
       "      <th>worker_id</th>\n",
       "      <th>last_name</th>\n",
       "      <th>first_name</th>\n",
       "      <th>hiring</th>\n",
       "      <th>branch_id</th>\n",
       "    </tr>\n",
       "  </thead>\n",
       "  <tbody>\n",
       "    <tr>\n",
       "      <th>0</th>\n",
       "      <td>1057</td>\n",
       "      <td>Sai Balaji</td>\n",
       "      <td>Vennelakanti</td>\n",
       "      <td>01-08-2024</td>\n",
       "      <td>1</td>\n",
       "    </tr>\n",
       "    <tr>\n",
       "      <th>1</th>\n",
       "      <td>1058</td>\n",
       "      <td>mi</td>\n",
       "      <td>tmt</td>\n",
       "      <td>02-08-2024</td>\n",
       "      <td>2</td>\n",
       "    </tr>\n",
       "    <tr>\n",
       "      <th>2</th>\n",
       "      <td>1059</td>\n",
       "      <td>chaithanya</td>\n",
       "      <td>abc</td>\n",
       "      <td>03-08-2024</td>\n",
       "      <td>3</td>\n",
       "    </tr>\n",
       "  </tbody>\n",
       "</table>\n",
       "</div>"
      ],
      "text/plain": [
       "   worker_id   last_name    first_name      hiring  branch_id\n",
       "0       1057  Sai Balaji  Vennelakanti  01-08-2024          1\n",
       "1       1058          mi           tmt  02-08-2024          2\n",
       "2       1059  chaithanya           abc  03-08-2024          3"
      ]
     },
     "metadata": {},
     "output_type": "display_data"
    }
   ],
   "source": [
    "import pandas as pd\n",
    "a=pd.read_csv('Workers.csv')\n",
    "display(a)"
   ]
  },
  {
   "cell_type": "code",
   "execution_count": null,
   "id": "751291c9-a61a-44af-89e6-d347055f6e9b",
   "metadata": {},
   "outputs": [],
   "source": [
    "Hence it is the complete operations of python sqlite."
   ]
  }
 ],
 "metadata": {
  "kernelspec": {
   "display_name": "Python 3 (ipykernel)",
   "language": "python",
   "name": "python3"
  },
  "language_info": {
   "codemirror_mode": {
    "name": "ipython",
    "version": 3
   },
   "file_extension": ".py",
   "mimetype": "text/x-python",
   "name": "python",
   "nbconvert_exporter": "python",
   "pygments_lexer": "ipython3",
   "version": "3.9.12"
  }
 },
 "nbformat": 4,
 "nbformat_minor": 5
}
