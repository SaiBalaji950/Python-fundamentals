{
 "cells": [
  {
   "cell_type": "code",
   "execution_count": null,
   "id": "5ecab664-679d-4fed-a347-56e12eefe80d",
   "metadata": {},
   "outputs": [],
   "source": [
    "# There are various ways to import modules.\n",
    "\"\"\" They are :\n",
    "1. Python import Statement\n",
    "2. import with renaming\n",
    "3. Python from...import statement\n",
    "4. import all names \"\"\""
   ]
  },
  {
   "cell_type": "code",
   "execution_count": 2,
   "id": "fd9e31a0-bfce-45e5-9c86-fa9bdd929dab",
   "metadata": {},
   "outputs": [
    {
     "name": "stdout",
     "output_type": "stream",
     "text": [
      "pi value is: 3.141592653589793\n"
     ]
    }
   ],
   "source": [
    "import math\n",
    "import math as m\n",
    "from statistics import *\n",
    "from math import pi,e\n",
    "# 1. Python import Statement :\n",
    "#\"\"\" We can import a module using the import statement and access thedefinitions inside it using the dot (.) operator. \"\"\"\n",
    "print(\"pi value is:\",math.pi)"
   ]
  },
  {
   "cell_type": "code",
   "execution_count": 3,
   "id": "1d506670-cfd5-446d-89be-49c5a3a65300",
   "metadata": {},
   "outputs": [
    {
     "name": "stdout",
     "output_type": "stream",
     "text": [
      "pi value is: 3.141592653589793\n"
     ]
    }
   ],
   "source": [
    "# 2. import with renaming :\n",
    "#\"\"\" We can import a module by renaming it. We have renamed the math module as m. This can save us typing time in some cases.\n",
    "#Note : That the name math is not recognized in our scope. Hence, math.pi isinvalid, and m.pi is the correct implementation. \"\"\"\n",
    "print('pi value is:',m.pi)"
   ]
  },
  {
   "cell_type": "code",
   "execution_count": 4,
   "id": "d109a773-648e-4eb9-845c-1fce9344418a",
   "metadata": {},
   "outputs": [
    {
     "name": "stdout",
     "output_type": "stream",
     "text": [
      "pi value is: 3.141592653589793\n"
     ]
    }
   ],
   "source": [
    "# 3. Python from...import statement :\n",
    "#\"\"\" We can import specific names from a module without importing the module asa whole. Here, we imported only the pi attribute from the math module. \n",
    "#In such cases, we don't use the dot (.) operator. \"\"\"\n",
    "print('pi value is:',pi)"
   ]
  },
  {
   "cell_type": "code",
   "execution_count": 5,
   "id": "7e0a7f41-ee9c-42c3-ba80-176e5505cc2a",
   "metadata": {},
   "outputs": [
    {
     "name": "stdout",
     "output_type": "stream",
     "text": [
      "value is: 2.718281828459045\n"
     ]
    }
   ],
   "source": [
    "print('value is:',e)"
   ]
  },
  {
   "cell_type": "code",
   "execution_count": null,
   "id": "4f9f3410-064a-4180-846c-c1c0b2ad2793",
   "metadata": {},
   "outputs": [],
   "source": [
    "# 4. import all names :\n",
    "\"\"\" We can import all names (definitions) from a module. We can import all the\n",
    "definitions from the math module. This includes all names visible in our scope\n",
    "except those beginning with an underscore (private definitions).\n",
    "Importing everything with the asterisk (*) symbol is not a good programming\n",
    "practice. This can lead to duplicate definitions for an identifier. It also\n",
    "hampers the readability of our code. \"\"\""
   ]
  },
  {
   "cell_type": "code",
   "execution_count": 8,
   "id": "07747163-d4cf-4997-8e1a-c58e5c4329e8",
   "metadata": {},
   "outputs": [
    {
     "name": "stdout",
     "output_type": "stream",
     "text": [
      "6.25\n",
      "5.5\n",
      "5\n"
     ]
    }
   ],
   "source": [
    "a=[1,2,3,4,5,6,7,8,9,10,12,13,4,5,6,5]\n",
    "b=mean(a)\n",
    "c=median(a)\n",
    "d=mode(a)\n",
    "print(b)\n",
    "print(c)\n",
    "print(d)"
   ]
  },
  {
   "cell_type": "code",
   "execution_count": null,
   "id": "c37891c0-55ba-44a4-aaef-7ffcbae3157b",
   "metadata": {},
   "outputs": [],
   "source": [
    "\"\"\" This does not import the names of the functions defined in example directly\n",
    "in the current symbol table. It only imports the module name example there.\n",
    "Using the module name we can access the function using the dot (.) operator.\n",
    "\"\"\""
   ]
  },
  {
   "cell_type": "code",
   "execution_count": 2,
   "id": "e3e724bf-fd25-458b-9041-05da55d9267a",
   "metadata": {},
   "outputs": [
    {
     "name": "stdout",
     "output_type": "stream",
     "text": [
      "120\n",
      "80\n",
      "2000\n"
     ]
    }
   ],
   "source": [
    "import example\n",
    "sum=example.add(100,20)\n",
    "print(sum)\n",
    "difference=example.subtract(100,20)\n",
    "print(difference)\n",
    "multiplication=example.product(20,100)\n",
    "print(multiplication)"
   ]
  },
  {
   "cell_type": "code",
   "execution_count": null,
   "id": "386c5739-7af9-4ccb-bfd3-8c7c98058c84",
   "metadata": {},
   "outputs": [],
   "source": [
    "# Python Modules : User-defined\n",
    "\"\"\" Modules refer to a file containing Python statements and definitions. We\n",
    "use modules to break down large programs into small manageable and organized\n",
    "files. Furthermore, modules provide reusability of code.\n",
    "We can define our most used functions in a module and import it, instead of\n",
    "copying their definitions into different programs. \"\"\"\n",
    "# Example : Creating a module containg add function with the name 'example.py'"
   ]
  },
  {
   "cell_type": "code",
   "execution_count": null,
   "id": "0678baa5-9abe-4d7a-8380-c823b30cc5e1",
   "metadata": {},
   "outputs": [],
   "source": []
  }
 ],
 "metadata": {
  "kernelspec": {
   "display_name": "Python 3 (ipykernel)",
   "language": "python",
   "name": "python3"
  },
  "language_info": {
   "codemirror_mode": {
    "name": "ipython",
    "version": 3
   },
   "file_extension": ".py",
   "mimetype": "text/x-python",
   "name": "python",
   "nbconvert_exporter": "python",
   "pygments_lexer": "ipython3",
   "version": "3.8.2"
  }
 },
 "nbformat": 4,
 "nbformat_minor": 5
}
