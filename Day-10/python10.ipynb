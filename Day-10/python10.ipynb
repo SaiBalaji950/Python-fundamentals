{
 "cells": [
  {
   "cell_type": "raw",
   "id": "527448b4-4405-4e08-9ef3-52c0cfd25116",
   "metadata": {},
   "source": [
    "# Docstrings :\n",
    "\"\"\" The first string after the function header is called the docstring and is\n",
    "short for documentation string. It is briefly used to explain what a function\n",
    "does.\n",
    "Python docstrings are the string literals that appear after the definition of a\n",
    "method, class, or module also.\n",
    "We can access these docstrings using the __doc__ attribute. \"\"\""
   ]
  },
  {
   "cell_type": "code",
   "execution_count": 8,
   "id": "fad81255-6f77-419e-8dbd-efafa0f65f96",
   "metadata": {},
   "outputs": [
    {
     "name": "stdout",
     "output_type": "stream",
     "text": [
      "\n",
      "    the person greets another person.\n",
      "    \n"
     ]
    }
   ],
   "source": [
    "import pickle\n",
    "# Docstrings :\n",
    "\"\"\" The first string after the function header is called the docstring and is\n",
    "short for documentation string. It is briefly used to explain what a function\n",
    "does.\n",
    "Python docstrings are the string literals that appear after the definition of a\n",
    "method, class, or module also.\n",
    "We can access these docstrings using the __doc__ attribute. \"\"\"\n",
    "def a(name):\n",
    "    \"\"\"\n",
    "    the person greets another person.\n",
    "    \"\"\"\n",
    "    print(\"Hello !,\"+name+\".Good Evening\")\n",
    "    \n",
    "print(a.__doc__)"
   ]
  },
  {
   "cell_type": "code",
   "execution_count": 11,
   "id": "0f9d329e-e5ab-4065-a441-5c3c398d6e0c",
   "metadata": {},
   "outputs": [
    {
     "name": "stdout",
     "output_type": "stream",
     "text": [
      "take a number and square the number\n"
     ]
    }
   ],
   "source": [
    "def a(num):\n",
    "    '''take a number and square the number'''\n",
    "    return num**2\n",
    "print(a.__doc__)"
   ]
  },
  {
   "cell_type": "code",
   "execution_count": 13,
   "id": "46c28314-67ab-4512-9fad-7109b7191728",
   "metadata": {},
   "outputs": [
    {
     "name": "stdout",
     "output_type": "stream",
     "text": [
      " The first string after the function header is called the docstring and is\n",
      "short for documentation string. It is briefly used to explain what a function\n",
      "does.\n",
      "Python docstrings are the string literals that appear after the definition of a\n",
      "method, class, or module also.\n",
      "We can access these docstrings using the __doc__ attribute. \n"
     ]
    }
   ],
   "source": [
    "print(__doc__)\n",
    "# print(value, ..., sep=' ', end='\\n', file=sys.stdout, flush=False)\n",
    "\n",
    "# Prints the values to a stream, or to sys.stdout by default.\n",
    "# Optional keyword arguments:\n",
    "# file:  a file-like object (stream); defaults to the current sys.stdout.\n",
    "# sep:   string inserted between values, default a space.\n",
    "# end:   string appended after the last value, default a newline.\n",
    "# flush: whether to forcibly flush the stream.\n"
   ]
  },
  {
   "cell_type": "code",
   "execution_count": 15,
   "id": "835a994c-2759-46ef-989f-4adaf51e232f",
   "metadata": {},
   "outputs": [
    {
     "name": "stdout",
     "output_type": "stream",
     "text": [
      "Create portable serialized representations of Python objects.\n",
      "\n",
      "See module copyreg for a mechanism for registering custom picklers.\n",
      "See module pickletools source for extensive comments.\n",
      "\n",
      "Classes:\n",
      "\n",
      "    Pickler\n",
      "    Unpickler\n",
      "\n",
      "Functions:\n",
      "\n",
      "    dump(object, file)\n",
      "    dumps(object) -> string\n",
      "    load(file) -> object\n",
      "    loads(string) -> object\n",
      "\n",
      "Misc variables:\n",
      "\n",
      "    __version__\n",
      "    format_version\n",
      "    compatible_formats\n",
      "\n",
      "\n"
     ]
    }
   ],
   "source": [
    "import pickle\n",
    "print(pickle.__doc__)"
   ]
  },
  {
   "cell_type": "raw",
   "id": "16615faa-1394-4fd0-90d1-e7fd0adff5c0",
   "metadata": {},
   "source": [
    "# Docstrings for Python Classes :\n",
    "\"\"\" The docstrings for classes should summarize its behavior and list the\n",
    "public methods and instance variables.\n",
    "The subclasses, constructs and methods should each have their own docstrings.\n",
    "\"\"\""
   ]
  },
  {
   "cell_type": "code",
   "execution_count": 16,
   "id": "33cfea2a-9798-4c6a-8d61-1053058add57",
   "metadata": {},
   "outputs": [
    {
     "name": "stdout",
     "output_type": "stream",
     "text": [
      "\n",
      "    this is Computer science engineering student class\n",
      "    ...\n",
      "    Attributes\n",
      "    ------------\n",
      "    name:str\n",
      "     respond your names\n",
      "    age:int\n",
      "      tell me your age\n",
      "    \n"
     ]
    }
   ],
   "source": [
    "class cse:\n",
    "    \"\"\"\n",
    "    this is Computer science engineering student class\n",
    "    ...\n",
    "    Attributes\n",
    "    ------------\n",
    "    name:str\n",
    "     respond your names\n",
    "    age:int\n",
    "      tell me your age\n",
    "    \"\"\"\n",
    "    \"\"\"\n",
    "    Methods\n",
    "    ------------\n",
    "    info(additional=''):\n",
    "     prints the student name and age\n",
    "    \"\"\"\n",
    "print(cse.__doc__)"
   ]
  },
  {
   "cell_type": "code",
   "execution_count": 17,
   "id": "5c12cd3c-08e4-44ce-ba90-ee5873c21283",
   "metadata": {},
   "outputs": [
    {
     "name": "stdout",
     "output_type": "stream",
     "text": [
      "Help on class cse in module __main__:\n",
      "\n",
      "class cse(builtins.object)\n",
      " |  this is Computer science engineering student class\n",
      " |  ...\n",
      " |  Attributes\n",
      " |  ------------\n",
      " |  name:str\n",
      " |   respond your names\n",
      " |  age:int\n",
      " |    tell me your age\n",
      " |  \n",
      " |  Data descriptors defined here:\n",
      " |  \n",
      " |  __dict__\n",
      " |      dictionary for instance variables (if defined)\n",
      " |  \n",
      " |  __weakref__\n",
      " |      list of weak references to the object (if defined)\n",
      "\n",
      "None\n"
     ]
    }
   ],
   "source": [
    "# Using the help() Function for Docstrings :\n",
    "#\"\"\" We can also use the help() function to read the docstrings associated withvarious objects.\n",
    "#Here, we can see that the help() functtion retrieves the docstrings of the Person class along with the methods associated with that class. \"\"\"\n",
    "print(help(cse))"
   ]
  },
  {
   "cell_type": "raw",
   "id": "91bb4d78-8277-400d-b0b6-5aa41658c778",
   "metadata": {},
   "source": [
    "LAMDA FUNCTIONS"
   ]
  },
  {
   "cell_type": "raw",
   "id": "ed69e91d-3b05-4384-98ca-38c2a829938e",
   "metadata": {},
   "source": [
    "# Python Anonymous/Lambda Function :\n",
    "\"\"\" In Python, an anonymous function is a function that is defined without a\n",
    "name.\n",
    "While normal functions are defined using the def keyword in Python, anonymous\n",
    "functions are defined using the lambda keyword.\n",
    "Hence, anonymous functions are also called lambda functions.\n",
    "Lambda functions can have any number of arguements but only one expression. The\n",
    "expression is evaluated and returned. Lambda functions can be used wherever\n",
    "function objects are required.\n",
    "Syntax : lambda arguements: expression \"\"\""
   ]
  },
  {
   "cell_type": "code",
   "execution_count": 20,
   "id": "8949cb7c-220e-46fc-9069-a783f9f25910",
   "metadata": {},
   "outputs": [
    {
     "name": "stdout",
     "output_type": "stream",
     "text": [
      "25\n"
     ]
    }
   ],
   "source": [
    "a=lambda x:x*5\n",
    "print(a(5))"
   ]
  },
  {
   "cell_type": "code",
   "execution_count": 37,
   "id": "ce722086-6a5a-43e3-9a77-3ee362f1f581",
   "metadata": {},
   "outputs": [
    {
     "name": "stdout",
     "output_type": "stream",
     "text": [
      "900\n"
     ]
    }
   ],
   "source": [
    "b=lambda x:x*9\n",
    "print(b(100))"
   ]
  },
  {
   "cell_type": "code",
   "execution_count": 40,
   "id": "2496f565-23e5-410f-9d11-cf03293448a9",
   "metadata": {},
   "outputs": [
    {
     "name": "stdout",
     "output_type": "stream",
     "text": [
      "[2, 4, 6, 8, 10, 12, 14, 16, 18, 20]\n"
     ]
    }
   ],
   "source": [
    "# Use with filter() - The filter() function in Python takes in a function and\n",
    "# a list as arguements.\n",
    "# Example : Program to filter out only the even items from a list.\n",
    "a=[1,2,3,4,5,6,7,8,9,10,11,12,13,14,15,16,17,18,19,20]\n",
    "b=list(filter(lambda x:(x%2==0),a))\n",
    "print(b)"
   ]
  },
  {
   "cell_type": "code",
   "execution_count": 42,
   "id": "d2cd75d3-4daa-4e91-b0fb-d0f51f344575",
   "metadata": {},
   "outputs": [
    {
     "name": "stdout",
     "output_type": "stream",
     "text": [
      "[22, 4, 10, 12, 6, 14, 50, 24]\n",
      "[55, 10, 25, 30, 15, 35, 125, 60]\n"
     ]
    }
   ],
   "source": [
    "# Use with map() - The map() function in Python takes in a function and a list.\n",
    "# Example : Program to double each item in a list using map()\n",
    "a=[11,2,5,6,3,7,25,12]\n",
    "b=list(map(lambda x:(x*2),a))\n",
    "print(b)\n",
    "c=list(map(lambda x:(x*5),a))\n",
    "print(c)"
   ]
  },
  {
   "cell_type": "raw",
   "id": "7f0341c2-257c-42ac-bbe8-12611f8f0818",
   "metadata": {},
   "source": [
    "# Recursive Functions :\n",
    "\"\"\" A function that calls itself is known as Recursive Function.\n",
    "A Physical world example would be to place two parallel mirrors facing each\n",
    "other. Any object in between them would be reflected recursively.\n",
    "The following image shows the working of a recursive function called recurse.\n",
    "\"\"\""
   ]
  },
  {
   "cell_type": "code",
   "execution_count": 53,
   "id": "bb9d61d5-56cc-4a93-b7c1-99356fe387d2",
   "metadata": {},
   "outputs": [
    {
     "name": "stdout",
     "output_type": "stream",
     "text": [
      "The Factorial of 9 is 362880\n",
      "The Factorial of 6 is 720\n",
      "The Factorial of 2 is 2\n",
      "The Factorial of 3 is 6\n",
      "The Factorial of 4 is 24\n",
      "The Factorial of 5 is 120\n",
      "The Factorial of 7 is 5040\n",
      "The Factorial of 8 is 40320\n",
      "The Factorial of 20 is 2432902008176640000\n"
     ]
    }
   ],
   "source": [
    "def factorial(num):\n",
    "    if(num==1):\n",
    "        return 1\n",
    "    else:\n",
    "        return(num*factorial(num-1))\n",
    "num=9\n",
    "print(\"The Factorial of\",num,\"is\",factorial(num))\n",
    "num=6\n",
    "print(\"The Factorial of\",num,\"is\",factorial(num))\n",
    "num=2\n",
    "print(\"The Factorial of\",num,\"is\",factorial(num))\n",
    "num=3\n",
    "print(\"The Factorial of\",num,\"is\",factorial(num))\n",
    "num=4\n",
    "print(\"The Factorial of\",num,\"is\",factorial(num))\n",
    "num=5\n",
    "print(\"The Factorial of\",num,\"is\",factorial(num))\n",
    "num=7\n",
    "print(\"The Factorial of\",num,\"is\",factorial(num))\n",
    "num=8\n",
    "print(\"The Factorial of\",num,\"is\",factorial(num))\n",
    "num=20\n",
    "print(\"The Factorial of\",num,\"is\",factorial(num))"
   ]
  },
  {
   "cell_type": "raw",
   "id": "b34dc772-f659-466a-9d8b-996deb85f2df",
   "metadata": {},
   "source": [
    "# The return statement :\n",
    "\"\"\" The return statement is used to exit a function and go back to the place\n",
    "from where it was called.\n",
    "This statement can contain an expression that gets evaluated and the value is\n",
    "returned.\n",
    "If there is no expression in the statement or the return statement itself is\n",
    "not present inside a function, then the function will return the None object.\n",
    "Syntax of return : return [expression_list] \"\"\""
   ]
  },
  {
   "cell_type": "code",
   "execution_count": 54,
   "id": "c236c93a-3be3-4430-8e5e-dc9881c19cec",
   "metadata": {},
   "outputs": [
    {
     "name": "stdout",
     "output_type": "stream",
     "text": [
      "hello ! Sai BalajiGood evening\n",
      "None\n"
     ]
    }
   ],
   "source": [
    "def a(name):\n",
    "    print(\"hello ! \"+name+\"Good evening\")\n",
    "print(a('Sai Balaji'))"
   ]
  },
  {
   "cell_type": "code",
   "execution_count": 56,
   "id": "32688c46-adec-410a-983a-30b679dfbe26",
   "metadata": {},
   "outputs": [
    {
     "name": "stdout",
     "output_type": "stream",
     "text": [
      "2\n",
      "2\n",
      "10\n"
     ]
    }
   ],
   "source": [
    "def a(num):\n",
    "    if (num>0):\n",
    "        return num\n",
    "    else:\n",
    "        return -num\n",
    "print(a(2))\n",
    "print(a(-2))\n",
    "print(a(-10))"
   ]
  },
  {
   "cell_type": "code",
   "execution_count": 59,
   "id": "6aab5af3-31e7-4cff-bbd6-9ff3919416c4",
   "metadata": {},
   "outputs": [
    {
     "name": "stdout",
     "output_type": "stream",
     "text": [
      "9\n",
      "25\n",
      "2500\n",
      "625\n"
     ]
    }
   ],
   "source": [
    "def a(num):\n",
    "    return num*num\n",
    "result=a(3)\n",
    "print(result)\n",
    "print(a(5))\n",
    "print(a(50))\n",
    "print(a(25))"
   ]
  },
  {
   "cell_type": "raw",
   "id": "44d8bf28-79e1-4d81-b8fc-d566dc9664e7",
   "metadata": {},
   "source": [
    "# Scope & Lifetime of Variables :\n",
    "\"\"\" Scope of a variable is the portion of a program where the variable is\n",
    "recognized. Parameters and variables defined inside a function are not visible\n",
    "from outside the function. Hence, they have a local scope.\n",
    "The lifetime of a variable is the period throughout which the variable exists\n",
    "in the memory. The lifetime of variables inside a function is as long as the\n",
    "function executes.\n",
    "They are destroyed once we return from the function. Hence, a function does not\n",
    "remember the value of a variable from its previous calls. \"\"\""
   ]
  },
  {
   "cell_type": "code",
   "execution_count": 60,
   "id": "307fadcd-b04e-4181-9d33-f9e2f1719e9d",
   "metadata": {},
   "outputs": [
    {
     "name": "stdout",
     "output_type": "stream",
     "text": [
      "Inside Function : 10\n",
      "Outside Function : 50\n"
     ]
    }
   ],
   "source": [
    "def a():\n",
    "    b=10\n",
    "    print(\"Inside Function :\",b)\n",
    "b=50\n",
    "a()\n",
    "print(\"Outside Function :\",b)"
   ]
  },
  {
   "cell_type": "raw",
   "id": "dec4dc50-115b-4be4-9c59-616cee604fe0",
   "metadata": {},
   "source": [
    "# Python Global, Local & Nonlocal variables\n",
    "\"\"\" 1. Global Variables : In Python, a variable declared outside of the\n",
    "function or in global scope is known as a Global Scope. This means that a\n",
    "global variable can be accessed inside or outside of the function. \"\"\""
   ]
  },
  {
   "cell_type": "code",
   "execution_count": 65,
   "id": "64bb26e7-3b2c-42ad-aca3-71c94cbabe59",
   "metadata": {},
   "outputs": [
    {
     "name": "stdout",
     "output_type": "stream",
     "text": [
      "inside function : balaji\n",
      "Outside function : balaji\n"
     ]
    }
   ],
   "source": [
    "a=\"balaji\"\n",
    "def x():\n",
    "    print(\"inside function :\",a)\n",
    "x()\n",
    "print(\"Outside function :\",a)"
   ]
  },
  {
   "cell_type": "code",
   "execution_count": 66,
   "id": "76ecd187-8960-4c94-9338-039fd4f314d8",
   "metadata": {},
   "outputs": [
    {
     "ename": "UnboundLocalError",
     "evalue": "local variable 'a' referenced before assignment",
     "output_type": "error",
     "traceback": [
      "\u001b[1;31m---------------------------------------------------------------------------\u001b[0m",
      "\u001b[1;31mUnboundLocalError\u001b[0m                         Traceback (most recent call last)",
      "Cell \u001b[1;32mIn[66], line 5\u001b[0m\n\u001b[0;32m      3\u001b[0m     a\u001b[38;5;241m=\u001b[39ma\u001b[38;5;241m*\u001b[39m\u001b[38;5;241m2\u001b[39m\n\u001b[0;32m      4\u001b[0m     \u001b[38;5;28mprint\u001b[39m(a)\n\u001b[1;32m----> 5\u001b[0m \u001b[43mx\u001b[49m\u001b[43m(\u001b[49m\u001b[43m)\u001b[49m\n",
      "Cell \u001b[1;32mIn[66], line 3\u001b[0m, in \u001b[0;36mx\u001b[1;34m()\u001b[0m\n\u001b[0;32m      2\u001b[0m \u001b[38;5;28;01mdef\u001b[39;00m \u001b[38;5;21mx\u001b[39m():\n\u001b[1;32m----> 3\u001b[0m     a\u001b[38;5;241m=\u001b[39m\u001b[43ma\u001b[49m\u001b[38;5;241m*\u001b[39m\u001b[38;5;241m2\u001b[39m\n\u001b[0;32m      4\u001b[0m     \u001b[38;5;28mprint\u001b[39m(a)\n",
      "\u001b[1;31mUnboundLocalError\u001b[0m: local variable 'a' referenced before assignment"
     ]
    }
   ],
   "source": [
    "a=\"balaji\"\n",
    "def x():\n",
    "    a=a*2\n",
    "    print(a)\n",
    "x()"
   ]
  },
  {
   "cell_type": "code",
   "execution_count": 92,
   "id": "aa8544ea-3798-4909-9efe-36e0f3209b3d",
   "metadata": {},
   "outputs": [
    {
     "name": "stdout",
     "output_type": "stream",
     "text": [
      "before main: 68\n",
      "Inside Addition : 70\n",
      "Outside Addition : 70\n"
     ]
    }
   ],
   "source": [
    "def add():\n",
    "    global a\n",
    "    a=a+2\n",
    "    print(\"Inside Addition :\",a)\n",
    "print(\"before main:\",a)\n",
    "add()\n",
    "print(\"Outside Addition :\",a)"
   ]
  },
  {
   "cell_type": "raw",
   "id": "d9cf94d9-1162-47a4-b4a3-5247cc7014c1",
   "metadata": {},
   "source": [
    "\"\"\" 2. Local Variables : A variable declared inside the function's body or in\n",
    "the local scope is known as a local variable. \"\"\""
   ]
  },
  {
   "cell_type": "code",
   "execution_count": 97,
   "id": "19fdf5b5-777a-40be-83c4-ae8a211b85a9",
   "metadata": {},
   "outputs": [
    {
     "ename": "NameError",
     "evalue": "name 'z' is not defined",
     "output_type": "error",
     "traceback": [
      "\u001b[1;31m---------------------------------------------------------------------------\u001b[0m",
      "\u001b[1;31mNameError\u001b[0m                                 Traceback (most recent call last)",
      "Cell \u001b[1;32mIn[97], line 5\u001b[0m\n\u001b[0;32m      2\u001b[0m     z\u001b[38;5;241m=\u001b[39m\u001b[38;5;124m'\u001b[39m\u001b[38;5;124mbalaji\u001b[39m\u001b[38;5;124m'\u001b[39m\n\u001b[0;32m      4\u001b[0m a()\n\u001b[1;32m----> 5\u001b[0m \u001b[38;5;28mprint\u001b[39m(\u001b[43mz\u001b[49m)\n",
      "\u001b[1;31mNameError\u001b[0m: name 'z' is not defined"
     ]
    }
   ],
   "source": [
    "def a():\n",
    "    z='balaji'\n",
    "    \n",
    "a()\n",
    "print(z)"
   ]
  },
  {
   "cell_type": "code",
   "execution_count": 99,
   "id": "c2084521-2144-4bb7-a654-484cb139bf66",
   "metadata": {},
   "outputs": [
    {
     "name": "stdout",
     "output_type": "stream",
     "text": [
      "balaji\n"
     ]
    }
   ],
   "source": [
    "def a():\n",
    "    z='balaji'\n",
    "    print(z)\n",
    "a()    "
   ]
  },
  {
   "cell_type": "code",
   "execution_count": 103,
   "id": "c13b633f-d3bd-4169-ba28-255fce83abef",
   "metadata": {},
   "outputs": [
    {
     "name": "stdout",
     "output_type": "stream",
     "text": [
      "saisai\n",
      "balaji\n"
     ]
    }
   ],
   "source": [
    "a='sai'\n",
    "def x():\n",
    "    global a\n",
    "    b='balaji'\n",
    "    a=a * 2\n",
    "    print(a)\n",
    "    print(b)\n",
    "x()"
   ]
  },
  {
   "cell_type": "code",
   "execution_count": 104,
   "id": "3acc1ae0-d1dd-4c4b-8c42-18b57191a4e0",
   "metadata": {},
   "outputs": [
    {
     "name": "stdout",
     "output_type": "stream",
     "text": [
      "inside : balaji\n",
      "outside : sai\n"
     ]
    }
   ],
   "source": [
    "a='sai'\n",
    "def x():\n",
    "    a='balaji'\n",
    "    print('inside :',a)\n",
    "x()\n",
    "print('outside :',a)"
   ]
  },
  {
   "cell_type": "raw",
   "id": "62a62467-dfb8-4bf7-b0b7-0fe7bfe59e00",
   "metadata": {},
   "source": [
    "# User-defined Functions :\n",
    "\"\"\" Functions that we define ourselves to do a certain specific task are\n",
    "referred as user-defined functions.\n",
    "If we use functions written by others in the form of library, it can be termed\n",
    "as library functions.\n",
    "All the other functions that we write on our own fail under user-defined\n",
    "functions. So, our user-defined function could be a library function to someone\n",
    "else. \"\"\""
   ]
  },
  {
   "cell_type": "code",
   "execution_count": 105,
   "id": "c88ce3d8-91a5-478d-820e-ea7c1762220f",
   "metadata": {},
   "outputs": [
    {
     "name": "stdout",
     "output_type": "stream",
     "text": [
      "the sum is 14\n"
     ]
    }
   ],
   "source": [
    "def add(a,b):\n",
    "    sum=a+b\n",
    "    return sum\n",
    "a=5\n",
    "b=9\n",
    "print(\"the sum is\",add(a,b))"
   ]
  },
  {
   "cell_type": "code",
   "execution_count": 108,
   "id": "ed91eae4-c2bc-4106-bc62-d1b0492e21c4",
   "metadata": {},
   "outputs": [
    {
     "name": "stdout",
     "output_type": "stream",
     "text": [
      "the difference is -4\n"
     ]
    }
   ],
   "source": [
    "def diff(a,b):\n",
    "    difference=a-b\n",
    "    return difference\n",
    "a=5\n",
    "b=9\n",
    "print(\"the difference is\",diff(a,b))"
   ]
  },
  {
   "cell_type": "code",
   "execution_count": 109,
   "id": "f7327eeb-a1b8-47be-86d3-f88400a5a44c",
   "metadata": {},
   "outputs": [
    {
     "name": "stdout",
     "output_type": "stream",
     "text": [
      "the product is 45\n"
     ]
    }
   ],
   "source": [
    "def star(a,b):\n",
    "    mul=a*b\n",
    "    return mul\n",
    "a=5\n",
    "b=9\n",
    "print(\"the product is\",add(a,b))"
   ]
  },
  {
   "cell_type": "code",
   "execution_count": 114,
   "id": "776cf66c-0c64-47fc-8365-f5d1ecb26129",
   "metadata": {},
   "outputs": [
    {
     "name": "stdout",
     "output_type": "stream",
     "text": [
      "Hi Balaji,Are You Okay?\n",
      "None\n"
     ]
    }
   ],
   "source": [
    "def a(name,msg):\n",
    "    print(\"Hi\" ,name+','+msg)\n",
    "print(a(\"Balaji\", \"Are You Okay?\"))"
   ]
  },
  {
   "cell_type": "raw",
   "id": "d05bf44f-5da7-47f7-9490-74e742b82289",
   "metadata": {},
   "source": [
    "\"\"\" There are three different forms of Function arguements. They are :\n",
    "1. Default Arguements.\n",
    "2. Keyword Arguements.\n",
    "3. Arbitrary/Variable Length Arguements.\"\"\"\n",
    "\n",
    "# 1. Default Arguements :\n",
    "\"\"\" Function Arguements can have default values. We can provide a default\n",
    "value to an arguement by using the assigned operator. \"\"\""
   ]
  },
  {
   "cell_type": "code",
   "execution_count": 115,
   "id": "33c28866-717a-467a-a943-06ad7b4a0d5c",
   "metadata": {},
   "outputs": [
    {
     "name": "stdout",
     "output_type": "stream",
     "text": [
      "hi sai,Are you okay?\n",
      "hi balaji,Are you okay?\n"
     ]
    }
   ],
   "source": [
    "def a(name,msg='Are you okay?'):\n",
    "    print(\"hi\",name+','+msg)\n",
    "a('sai')\n",
    "a('balaji')"
   ]
  },
  {
   "cell_type": "raw",
   "id": "f2a8a065-6623-497f-b5e3-9139fd5d9adc",
   "metadata": {},
   "source": [
    "# 2. Keyword Arguements :\n",
    "\"\"\" Python allows functions to be called using keyword arguements. When we\n",
    "call functions in this way, the order (position) of the arguements can be\n",
    "changed.\n",
    "Following calls to the above function are all valid and produce the same\n",
    "result. \"\"\""
   ]
  },
  {
   "cell_type": "code",
   "execution_count": 116,
   "id": "1621f74f-a19f-4853-8658-e0ca31d9f986",
   "metadata": {},
   "outputs": [
    {
     "name": "stdout",
     "output_type": "stream",
     "text": [
      "hi sai balaji,Are you okay\n"
     ]
    }
   ],
   "source": [
    "a(name='sai balaji',msg='Are you okay')"
   ]
  },
  {
   "cell_type": "code",
   "execution_count": 117,
   "id": "ac2f0fcc-c462-4524-b6cb-dec527bffdbf",
   "metadata": {},
   "outputs": [
    {
     "name": "stdout",
     "output_type": "stream",
     "text": [
      "hi chaithanya,are you okay\n"
     ]
    }
   ],
   "source": [
    "a(msg='are you okay',name='chaithanya')"
   ]
  },
  {
   "cell_type": "code",
   "execution_count": 118,
   "id": "c9ba0a00-6ab9-426f-8340-1eff6ed3f3d2",
   "metadata": {},
   "outputs": [
    {
     "ename": "SyntaxError",
     "evalue": "positional argument follows keyword argument (52503450.py, line 1)",
     "output_type": "error",
     "traceback": [
      "\u001b[1;36m  Cell \u001b[1;32mIn[118], line 1\u001b[1;36m\u001b[0m\n\u001b[1;33m    a(name='upendra','are you okay')\u001b[0m\n\u001b[1;37m                     ^\u001b[0m\n\u001b[1;31mSyntaxError\u001b[0m\u001b[1;31m:\u001b[0m positional argument follows keyword argument\n"
     ]
    }
   ],
   "source": [
    "a(name='upendra','are you okay')"
   ]
  },
  {
   "cell_type": "code",
   "execution_count": 119,
   "id": "e656b20a-27cf-4701-98cc-53b451c01abd",
   "metadata": {},
   "outputs": [
    {
     "name": "stdout",
     "output_type": "stream",
     "text": [
      "hi upendra,are you okay\n"
     ]
    }
   ],
   "source": [
    "a(name='upendra',msg='are you okay')"
   ]
  },
  {
   "cell_type": "raw",
   "id": "b2669802-8848-40fa-9766-fd0eb9af5bf5",
   "metadata": {},
   "source": [
    "# 3. Arbitrary Arguements / Variable length Arguements :\n",
    "\"\"\" Sometimes, We do not know in advance the number of arguements that will be\n",
    "passed into a function.\n",
    "Python allows us to handle this kind of situation through function calls with\n",
    "an arbitrary number of arguements.\n",
    "In the function definition, we use an asterisk (*) before the parameter name to\n",
    "denote this kind of arguement. \"\"\""
   ]
  },
  {
   "cell_type": "code",
   "execution_count": 124,
   "id": "b28331ab-c0f4-42bb-9d4d-adc1a6899beb",
   "metadata": {},
   "outputs": [
    {
     "name": "stdout",
     "output_type": "stream",
     "text": [
      "hello balaji\n",
      "hello madam\n",
      "hello sai\n"
     ]
    }
   ],
   "source": [
    "def a(*names):\n",
    "    for b in names:\n",
    "        print('hello',b)\n",
    "a(\"balaji\",\"madam\",\"sai\")"
   ]
  }
 ],
 "metadata": {
  "kernelspec": {
   "display_name": "Python 3 (ipykernel)",
   "language": "python",
   "name": "python3"
  },
  "language_info": {
   "codemirror_mode": {
    "name": "ipython",
    "version": 3
   },
   "file_extension": ".py",
   "mimetype": "text/x-python",
   "name": "python",
   "nbconvert_exporter": "python",
   "pygments_lexer": "ipython3",
   "version": "3.8.2"
  }
 },
 "nbformat": 4,
 "nbformat_minor": 5
}
