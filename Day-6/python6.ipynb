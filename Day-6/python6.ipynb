{
 "cells": [
  {
   "cell_type": "code",
   "execution_count": 18,
   "id": "a86f12ef-e111-42d3-8a89-e29229111f08",
   "metadata": {},
   "outputs": [
    {
     "name": "stdout",
     "output_type": "stream",
     "text": [
      "Employee id: 1\n",
      "Employee name: balaji\n",
      "Employee salary: 10\n",
      "Employee id: 2\n",
      "Employee name: balaji\n",
      "Employee salary: 10\n",
      "Employee id: 3\n",
      "Employee name: chaithanya\n",
      "Employee salary: 200\n"
     ]
    }
   ],
   "source": [
    "def employeeDetails(eid=1,ename='balaji',esalary=10):\n",
    "    print('Employee id:',eid)\n",
    "    print('Employee name:',ename)\n",
    "    print('Employee salary:',esalary)\n",
    "employeeDetails()\n",
    "employeeDetails(2)\n",
    "employeeDetails(3,'chaithanya',200)"
   ]
  },
  {
   "cell_type": "code",
   "execution_count": 21,
   "id": "a9966525-8b75-4c49-873a-93374b454b7a",
   "metadata": {},
   "outputs": [
    {
     "name": "stdout",
     "output_type": "stream",
     "text": [
      "Hello\n",
      "Hello Balaji!\n",
      "Welcome to my World\n",
      "Hello chaithanya!\n",
      "Welcome to my World\n",
      "Bye\n"
     ]
    }
   ],
   "source": [
    "def a(name):\n",
    "    print(f\"Hello {name}!\")\n",
    "    print(\"Welcome to my World\")\n",
    "\n",
    "print(\"Hello\")\n",
    "a('Balaji')\n",
    "a('chaithanya')\n",
    "print(\"Bye\")"
   ]
  },
  {
   "cell_type": "code",
   "execution_count": 27,
   "id": "ac95f7c2-e9b7-460a-bce4-e30b425a5706",
   "metadata": {},
   "outputs": [
    {
     "name": "stdout",
     "output_type": "stream",
     "text": [
      "Hello\n",
      "Hello Vennelakanti Sai Balaji!\n",
      "Welcome to my World\n"
     ]
    }
   ],
   "source": [
    "def a(fname,lname):\n",
    "    print(f\"Hello {fname} {lname}!\")\n",
    "    print(\"Welcome to my World\")\n",
    "    \n",
    "print(\"Hello\")\n",
    "a(\"Vennelakanti\",\"Sai Balaji\")"
   ]
  },
  {
   "cell_type": "code",
   "execution_count": 28,
   "id": "e0501275-ebd7-44d8-8cb3-0d4325b816b1",
   "metadata": {},
   "outputs": [
    {
     "name": "stdout",
     "output_type": "stream",
     "text": [
      "30\n",
      "6.0\n",
      "saibalaji\n",
      "3.5\n"
     ]
    }
   ],
   "source": [
    "def add(a,b):\n",
    "    print(a+b)\n",
    "add(10,20)\n",
    "add(3.3,2.7)\n",
    "add(\"sai\",\"balaji\")\n",
    "add(1,2.5)"
   ]
  },
  {
   "cell_type": "code",
   "execution_count": 34,
   "id": "991ae756-7167-4661-a34c-f1cd2de32a95",
   "metadata": {},
   "outputs": [
    {
     "name": "stdout",
     "output_type": "stream",
     "text": [
      "id: 1\n",
      "name: sai\n",
      "id: 2\n",
      "name: balaji\n"
     ]
    }
   ],
   "source": [
    "def details(id,name):\n",
    "    print('id:',id)\n",
    "    print('name:',name)\n",
    "\n",
    "details(name='sai',id=1)\n",
    "details(id=2,name='balaji')"
   ]
  },
  {
   "cell_type": "code",
   "execution_count": 35,
   "id": "21c52845-35a0-41c7-b24d-e573f560efbf",
   "metadata": {},
   "outputs": [
    {
     "name": "stdout",
     "output_type": "stream",
     "text": [
      "hello vennelakanti Sai Balaji!\n",
      "Welcome\n",
      "Welcome\n",
      "hello v sb!\n",
      "Welcome\n"
     ]
    }
   ],
   "source": [
    "def a(fname,lname):\n",
    "    print(f\"hello {fname} {lname}!\")\n",
    "    print('Welcome')\n",
    "\n",
    "a(fname=\"vennelakanti\",lname=\"Sai Balaji\")\n",
    "print('Welcome')\n",
    "a(fname='v',lname='sb')"
   ]
  },
  {
   "cell_type": "code",
   "execution_count": 36,
   "id": "31354dad-117f-4f99-87f3-1c2ce77a7c02",
   "metadata": {},
   "outputs": [
    {
     "name": "stdout",
     "output_type": "stream",
     "text": [
      "variable: 10\n",
      "variable: 20\n",
      "variable: 30\n",
      "variable: 40\n",
      "variable: 50\n",
      "variable: balaji\n"
     ]
    }
   ],
   "source": [
    "def a(*var):\n",
    "    for i in var:\n",
    "        print(\"variable:\",i)\n",
    "\n",
    "a()\n",
    "a(10,20,30)\n",
    "a(40,50,'balaji')"
   ]
  },
  {
   "cell_type": "raw",
   "id": "5509ebb7-448e-480c-86fd-969db717bde6",
   "metadata": {},
   "source": [
    "#User Defined Functions - They are reusable code blocks, they only need to be\n",
    "# written once, then they can be used multiple times.\n",
    "# These functions are very useful, from writing common utilities to specific\n",
    "# business logic. The code is usually well organized, easy to maintain and\n",
    "# developer-friendly. The function can have diff types of arguements &\n",
    "# return value. To declare a function we need to use the keyword 'def'\n",
    "\n",
    "# There are two types of functions :\n",
    "# 1. Built-in Functions - Pre-defined functions\n",
    "# 2. User-defined Functions - defined by the users themselves"
   ]
  },
  {
   "cell_type": "code",
   "execution_count": 37,
   "id": "b4511487-1d76-46f3-b90a-9e83bfe42d9e",
   "metadata": {},
   "outputs": [
    {
     "name": "stdout",
     "output_type": "stream",
     "text": [
      "Hello Balaji !!\n",
      "Hello Balaji !!\n",
      "Hello Balaji !!\n"
     ]
    }
   ],
   "source": [
    "def display():\n",
    "    print(\"Hello Balaji !!\")\n",
    "display()\n",
    "display()\n",
    "display()"
   ]
  },
  {
   "cell_type": "code",
   "execution_count": 40,
   "id": "8874cfc6-ef7f-4f0c-b5c2-0304bc571b48",
   "metadata": {},
   "outputs": [
    {
     "name": "stdout",
     "output_type": "stream",
     "text": [
      "None\n"
     ]
    }
   ],
   "source": [
    "def display():\n",
    "    pass\n",
    "print(display())"
   ]
  },
  {
   "cell_type": "code",
   "execution_count": 45,
   "id": "9e10fc51-2064-43f4-8012-ac7a332f5061",
   "metadata": {},
   "outputs": [
    {
     "name": "stdout",
     "output_type": "stream",
     "text": [
      "Happy beating day Ravikiran sadist\n",
      "Happy beating day pyscho Haritha\n"
     ]
    }
   ],
   "source": [
    "def a(name):\n",
    "    print(\"Happy beating day\",name)\n",
    "    \n",
    "a(\"Ravikiran sadist\")\n",
    "a(\"pyscho Haritha\")"
   ]
  },
  {
   "cell_type": "code",
   "execution_count": 48,
   "id": "a157f169-e84c-477f-ab8b-b28fc919db31",
   "metadata": {},
   "outputs": [
    {
     "name": "stdout",
     "output_type": "stream",
     "text": [
      "welcome Balaji \n",
      "Scoundrel RaviKiran GetOut From College\n"
     ]
    }
   ],
   "source": [
    "def Outer_function():\n",
    "    print(\"welcome Balaji \")\n",
    "    def inner_function():\n",
    "        print(\"Scoundrel RaviKiran GetOut From College\")\n",
    "    inner_function()\n",
    "Outer_function()"
   ]
  },
  {
   "cell_type": "code",
   "execution_count": 51,
   "id": "bfd832b8-f276-4e7c-a992-5a8ee6635c8b",
   "metadata": {},
   "outputs": [
    {
     "name": "stdout",
     "output_type": "stream",
     "text": [
      "outer Ravikiran\n",
      "inner Balaji\n"
     ]
    }
   ],
   "source": [
    "def outer():\n",
    "    a='outer Ravikiran'\n",
    "    print(a)\n",
    "    def inner():\n",
    "        nonlocal a\n",
    "        a='inner Balaji'\n",
    "        print(a)\n",
    "    inner()\n",
    "outer() "
   ]
  },
  {
   "cell_type": "code",
   "execution_count": 57,
   "id": "9da4302b-cd40-4ea3-824e-59e8641ba4bf",
   "metadata": {},
   "outputs": [
    {
     "name": "stdout",
     "output_type": "stream",
     "text": [
      "outer Ravikiran\n",
      "sai balaji\n",
      "Vennelakanti Sai Balaji\n",
      "inner balaji\n"
     ]
    }
   ],
   "source": [
    "name='sai balaji'\n",
    "def outer():\n",
    "    a='outer Ravikiran'\n",
    "    print(a)\n",
    "    def inner():\n",
    "        nonlocal a\n",
    "        a='inner balaji'\n",
    "        global name\n",
    "        print(name)\n",
    "        name='Vennelakanti Sai Balaji'\n",
    "        print(name)\n",
    "        print(a)\n",
    "    inner()\n",
    "outer()"
   ]
  }
 ],
 "metadata": {
  "kernelspec": {
   "display_name": "Python 3 (ipykernel)",
   "language": "python",
   "name": "python3"
  },
  "language_info": {
   "codemirror_mode": {
    "name": "ipython",
    "version": 3
   },
   "file_extension": ".py",
   "mimetype": "text/x-python",
   "name": "python",
   "nbconvert_exporter": "python",
   "pygments_lexer": "ipython3",
   "version": "3.8.2"
  }
 },
 "nbformat": 4,
 "nbformat_minor": 5
}
