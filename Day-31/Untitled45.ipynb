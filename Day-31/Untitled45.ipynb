{
 "cells": [
  {
   "cell_type": "code",
   "execution_count": null,
   "id": "7cd81034-3585-4c95-bde4-b5704a860711",
   "metadata": {},
   "outputs": [],
   "source": [
    "Database Connection\n",
    "There are the following steps to connect a python application to our database.\n",
    "\n",
    "Import mysql.connector module\n",
    "Create the connection object.\n",
    "Create the cursor object\n",
    "Execute the query\n",
    "Creating the connection\n",
    "To create a connection between the MySQL database and the python application, the connect() method of mysql.connector module is used.\n",
    "Pass the database details like HostName, username, and the database password in the method call. The method returns the connection object.\n",
    "\n",
    "The syntax to use the connect() is given below.\n",
    "Connection-Object= mysql.connector.connect(host = <host-name> , user = <username> , passwd = <password> )"
   ]
  },
  {
   "cell_type": "code",
   "execution_count": null,
   "id": "c92f5529-656a-4d43-b76f-4882dac57826",
   "metadata": {},
   "outputs": [],
   "source": [
    "Python commit() method\n",
    "Python provides the commit() method which ensures the changes made to\n",
    "\n",
    "the database consistently take place.\n",
    "\n",
    "The syntax to use the commit() method is given below.\n",
    "\n",
    "\n",
    "conn.commit() #conn is the connection object   \n",
    "All the operations that modify the records of the database do not take place until the commit() is called.\n",
    "\n",
    "Python rollback() method\n",
    "The rollback() method is used to revert the changes that are done to the database. \n",
    "This method is useful in the sense that, if some error occurs during the database operations, \n",
    "we can rollback that transaction to maintain the database consistency.\n",
    "\n",
    "The syntax to use the rollback() is given below.\n",
    "\n",
    "Conn.rollback()  \n",
    "    \n",
    "Closing the connection\n",
    "We need to close the database connection once we have done all the operations regarding the database. Python provides the close() method. \n",
    "The syntax to use the close() method is given below.\n",
    "conn.close()   "
   ]
  },
  {
   "cell_type": "code",
   "execution_count": 1,
   "id": "7f9ca0ad-be9c-4ee9-9665-e9338855508c",
   "metadata": {},
   "outputs": [
    {
     "name": "stdout",
     "output_type": "stream",
     "text": [
      "Error: 1045 (28000): Access denied for user 'root'@'localhost' (using password: YES)\n"
     ]
    }
   ],
   "source": [
    "import mysql.connector\n",
    "try:\n",
    "    conn = mysql.connector.connect(\n",
    "        host=\"localhost\",\n",
    "        user=\"root\",  \n",
    "        password=\"balaji\"  \n",
    "    )\n",
    "    print(\"Connection successful:\", conn)\n",
    "    conn.close()\n",
    "except mysql.connector.Error as err:\n",
    "    print(\"Error:\", err)"
   ]
  },
  {
   "cell_type": "code",
   "execution_count": 2,
   "id": "f65c03fa-ca38-42ae-b660-1fbabfe5f862",
   "metadata": {},
   "outputs": [
    {
     "name": "stdout",
     "output_type": "stream",
     "text": [
      "Error: 1045 (28000): Access denied for user 'root'@'localhost' (using password: YES)\n"
     ]
    }
   ],
   "source": [
    "import mysql.connector\n",
    "try:\n",
    "    connection=mysql.connector.connect(\n",
    "        host='localhost',\n",
    "        user='root',\n",
    "        password='root')\n",
    "    print(\"Connection successful:\",connection)\n",
    "    connection.close()\n",
    "except mysql.connector.Error as err:\n",
    "    print(\"Error:\",err)"
   ]
  },
  {
   "cell_type": "code",
   "execution_count": 3,
   "id": "a9e0113d-d4e0-4373-b953-698dd2a16ac2",
   "metadata": {},
   "outputs": [
    {
     "ename": "ProgrammingError",
     "evalue": "1045 (28000): Access denied for user 'root'@'localhost' (using password: YES)",
     "output_type": "error",
     "traceback": [
      "\u001b[1;31m---------------------------------------------------------------------------\u001b[0m",
      "\u001b[1;31mMySQLInterfaceError\u001b[0m                       Traceback (most recent call last)",
      "File \u001b[1;32m~\\anaconda3\\envs\\python39\\lib\\site-packages\\mysql\\connector\\connection_cext.py:291\u001b[0m, in \u001b[0;36mCMySQLConnection._open_connection\u001b[1;34m(self)\u001b[0m\n\u001b[0;32m    290\u001b[0m \u001b[38;5;28;01mtry\u001b[39;00m:\n\u001b[1;32m--> 291\u001b[0m     \u001b[38;5;28mself\u001b[39m\u001b[38;5;241m.\u001b[39m_cmysql\u001b[38;5;241m.\u001b[39mconnect(\u001b[38;5;241m*\u001b[39m\u001b[38;5;241m*\u001b[39mcnx_kwargs)\n\u001b[0;32m    292\u001b[0m     \u001b[38;5;28mself\u001b[39m\u001b[38;5;241m.\u001b[39m_cmysql\u001b[38;5;241m.\u001b[39mconverter_str_fallback \u001b[38;5;241m=\u001b[39m \u001b[38;5;28mself\u001b[39m\u001b[38;5;241m.\u001b[39m_converter_str_fallback\n",
      "\u001b[1;31mMySQLInterfaceError\u001b[0m: Access denied for user 'root'@'localhost' (using password: YES)",
      "\nThe above exception was the direct cause of the following exception:\n",
      "\u001b[1;31mProgrammingError\u001b[0m                          Traceback (most recent call last)",
      "Cell \u001b[1;32mIn[3], line 2\u001b[0m\n\u001b[0;32m      1\u001b[0m \u001b[38;5;28;01mimport\u001b[39;00m \u001b[38;5;21;01mmysql\u001b[39;00m\u001b[38;5;21;01m.\u001b[39;00m\u001b[38;5;21;01mconnector\u001b[39;00m\n\u001b[1;32m----> 2\u001b[0m connection\u001b[38;5;241m=\u001b[39m\u001b[43mmysql\u001b[49m\u001b[38;5;241;43m.\u001b[39;49m\u001b[43mconnector\u001b[49m\u001b[38;5;241;43m.\u001b[39;49m\u001b[43mconnect\u001b[49m\u001b[43m(\u001b[49m\u001b[43mhost\u001b[49m\u001b[38;5;241;43m=\u001b[39;49m\u001b[38;5;124;43m'\u001b[39;49m\u001b[38;5;124;43mlocalhost\u001b[39;49m\u001b[38;5;124;43m'\u001b[39;49m\u001b[43m,\u001b[49m\u001b[43muser\u001b[49m\u001b[38;5;241;43m=\u001b[39;49m\u001b[38;5;124;43m'\u001b[39;49m\u001b[38;5;124;43mroot\u001b[39;49m\u001b[38;5;124;43m'\u001b[39;49m\u001b[43m,\u001b[49m\u001b[43mpasswd\u001b[49m\u001b[38;5;241;43m=\u001b[39;49m\u001b[38;5;124;43m'\u001b[39;49m\u001b[38;5;124;43mroot\u001b[39;49m\u001b[38;5;124;43m'\u001b[39;49m\u001b[43m)\u001b[49m\n\u001b[0;32m      3\u001b[0m \u001b[38;5;28mprint\u001b[39m(connection)\n",
      "File \u001b[1;32m~\\anaconda3\\envs\\python39\\lib\\site-packages\\mysql\\connector\\pooling.py:293\u001b[0m, in \u001b[0;36mconnect\u001b[1;34m(*args, **kwargs)\u001b[0m\n\u001b[0;32m    290\u001b[0m         \u001b[38;5;28;01mraise\u001b[39;00m \u001b[38;5;167;01mImportError\u001b[39;00m(ERROR_NO_CEXT)\n\u001b[0;32m    292\u001b[0m \u001b[38;5;28;01mif\u001b[39;00m CMySQLConnection \u001b[38;5;129;01mand\u001b[39;00m \u001b[38;5;129;01mnot\u001b[39;00m use_pure:\n\u001b[1;32m--> 293\u001b[0m     \u001b[38;5;28;01mreturn\u001b[39;00m CMySQLConnection(\u001b[38;5;241m*\u001b[39margs, \u001b[38;5;241m*\u001b[39m\u001b[38;5;241m*\u001b[39mkwargs)\n\u001b[0;32m    294\u001b[0m \u001b[38;5;28;01mreturn\u001b[39;00m MySQLConnection(\u001b[38;5;241m*\u001b[39margs, \u001b[38;5;241m*\u001b[39m\u001b[38;5;241m*\u001b[39mkwargs)\n",
      "File \u001b[1;32m~\\anaconda3\\envs\\python39\\lib\\site-packages\\mysql\\connector\\connection_cext.py:120\u001b[0m, in \u001b[0;36mCMySQLConnection.__init__\u001b[1;34m(self, **kwargs)\u001b[0m\n\u001b[0;32m    117\u001b[0m \u001b[38;5;28msuper\u001b[39m()\u001b[38;5;241m.\u001b[39m\u001b[38;5;21m__init__\u001b[39m()\n\u001b[0;32m    119\u001b[0m \u001b[38;5;28;01mif\u001b[39;00m kwargs:\n\u001b[1;32m--> 120\u001b[0m     \u001b[38;5;28mself\u001b[39m\u001b[38;5;241m.\u001b[39mconnect(\u001b[38;5;241m*\u001b[39m\u001b[38;5;241m*\u001b[39mkwargs)\n",
      "File \u001b[1;32m~\\anaconda3\\envs\\python39\\lib\\site-packages\\mysql\\connector\\abstracts.py:1181\u001b[0m, in \u001b[0;36mMySQLConnectionAbstract.connect\u001b[1;34m(self, **kwargs)\u001b[0m\n\u001b[0;32m   1178\u001b[0m     \u001b[38;5;28mself\u001b[39m\u001b[38;5;241m.\u001b[39mconfig(\u001b[38;5;241m*\u001b[39m\u001b[38;5;241m*\u001b[39mkwargs)\n\u001b[0;32m   1180\u001b[0m \u001b[38;5;28mself\u001b[39m\u001b[38;5;241m.\u001b[39mdisconnect()\n\u001b[1;32m-> 1181\u001b[0m \u001b[38;5;28;43mself\u001b[39;49m\u001b[38;5;241;43m.\u001b[39;49m\u001b[43m_open_connection\u001b[49m\u001b[43m(\u001b[49m\u001b[43m)\u001b[49m\n\u001b[0;32m   1182\u001b[0m \u001b[38;5;66;03m# Server does not allow to run any other statement different from ALTER\u001b[39;00m\n\u001b[0;32m   1183\u001b[0m \u001b[38;5;66;03m# when user's password has been expired.\u001b[39;00m\n\u001b[0;32m   1184\u001b[0m \u001b[38;5;28;01mif\u001b[39;00m \u001b[38;5;129;01mnot\u001b[39;00m \u001b[38;5;28mself\u001b[39m\u001b[38;5;241m.\u001b[39m_client_flags \u001b[38;5;241m&\u001b[39m ClientFlag\u001b[38;5;241m.\u001b[39mCAN_HANDLE_EXPIRED_PASSWORDS:\n",
      "File \u001b[1;32m~\\anaconda3\\envs\\python39\\lib\\site-packages\\mysql\\connector\\connection_cext.py:296\u001b[0m, in \u001b[0;36mCMySQLConnection._open_connection\u001b[1;34m(self)\u001b[0m\n\u001b[0;32m    294\u001b[0m         \u001b[38;5;28mself\u001b[39m\u001b[38;5;241m.\u001b[39mconverter\u001b[38;5;241m.\u001b[39mstr_fallback \u001b[38;5;241m=\u001b[39m \u001b[38;5;28mself\u001b[39m\u001b[38;5;241m.\u001b[39m_converter_str_fallback\n\u001b[0;32m    295\u001b[0m \u001b[38;5;28;01mexcept\u001b[39;00m MySQLInterfaceError \u001b[38;5;28;01mas\u001b[39;00m err:\n\u001b[1;32m--> 296\u001b[0m     \u001b[38;5;28;01mraise\u001b[39;00m get_mysql_exception(\n\u001b[0;32m    297\u001b[0m         msg\u001b[38;5;241m=\u001b[39merr\u001b[38;5;241m.\u001b[39mmsg, errno\u001b[38;5;241m=\u001b[39merr\u001b[38;5;241m.\u001b[39merrno, sqlstate\u001b[38;5;241m=\u001b[39merr\u001b[38;5;241m.\u001b[39msqlstate\n\u001b[0;32m    298\u001b[0m     ) \u001b[38;5;28;01mfrom\u001b[39;00m \u001b[38;5;21;01merr\u001b[39;00m\n\u001b[0;32m    300\u001b[0m \u001b[38;5;28mself\u001b[39m\u001b[38;5;241m.\u001b[39m_do_handshake()\n",
      "\u001b[1;31mProgrammingError\u001b[0m: 1045 (28000): Access denied for user 'root'@'localhost' (using password: YES)"
     ]
    }
   ],
   "source": [
    "import mysql.connector\n",
    "connection=mysql.connector.connect(host='localhost',user='root',passwd='root')\n",
    "print(connection)"
   ]
  },
  {
   "cell_type": "code",
   "execution_count": 4,
   "id": "34533d7e-be99-44cc-810e-4a8832a5e6c7",
   "metadata": {},
   "outputs": [
    {
     "name": "stdout",
     "output_type": "stream",
     "text": [
      "Error: 1045 (28000): Access denied for user 'root'@'localhost' (using password: YES)\n"
     ]
    }
   ],
   "source": [
    "import mysql.connector\n",
    "try:\n",
    "    connection=mysql.connector.connect(\n",
    "        host='localhost',\n",
    "        user='root',\n",
    "        password='root')\n",
    "    print(\"Connection successful:\",connection)\n",
    "    connection.close()\n",
    "except mysql.connector.Error as err:\n",
    "    print(\"Error:\",err)"
   ]
  },
  {
   "cell_type": "code",
   "execution_count": 5,
   "id": "46dbe193-d424-40e1-aec0-b00c30840496",
   "metadata": {},
   "outputs": [
    {
     "name": "stdout",
     "output_type": "stream",
     "text": [
      "<mysql.connector.connection_cext.CMySQLConnection object at 0x000001601A912FA0>\n"
     ]
    }
   ],
   "source": [
    "import mysql.connector\n",
    "connection=mysql.connector.connect(host='localhost',user='root',passwd='Balaji@9953')\n",
    "print(connection)"
   ]
  },
  {
   "cell_type": "code",
   "execution_count": 6,
   "id": "b6e9fd3e-23e6-4061-b83f-2342dd38ee62",
   "metadata": {},
   "outputs": [
    {
     "name": "stdout",
     "output_type": "stream",
     "text": [
      "Connection successful: <mysql.connector.connection_cext.CMySQLConnection object at 0x000001601AA8E970>\n"
     ]
    }
   ],
   "source": [
    "import mysql.connector\n",
    "try:\n",
    "    connection=mysql.connector.connect(\n",
    "        host='localhost',\n",
    "        user='root',\n",
    "        password='Balaji@9953')\n",
    "    print(\"Connection successful:\",connection)\n",
    "    connection.close()\n",
    "except mysql.connector.Error as err:\n",
    "    print(\"Error:\",err)"
   ]
  },
  {
   "cell_type": "code",
   "execution_count": null,
   "id": "70ba0cfa-5993-4a3e-8ec4-194a77e5ebc7",
   "metadata": {},
   "outputs": [],
   "source": [
    "Creating a cursor object\n",
    "The cursor object can be defined as an abstraction specified in the Python DB-API 2.0. \n",
    "It facilitates us to have multiple separate working environments through the same connection to the database. \n",
    "We can create the cursor object by calling the 'cursor' function of the connection object. \n",
    "The cursor object is an important aspect of executing queries to the databases.\n",
    "The syntax to create the cursor object is given below.\n",
    "<my_cur>  = conn.cursor()  "
   ]
  },
  {
   "cell_type": "code",
   "execution_count": 7,
   "id": "d6ab16ad-afa8-456d-acd4-1c6a712e5779",
   "metadata": {},
   "outputs": [
    {
     "name": "stdout",
     "output_type": "stream",
     "text": [
      "Connected to the DataBase\n"
     ]
    }
   ],
   "source": [
    "import mysql.connector\n",
    "connection=mysql.connector.connect(host='localhost',user='root',passwd='Balaji@9953',database=\"My Database\")\n",
    "cursor=connection.cursor()\n",
    "print(\"Connected to the DataBase\")"
   ]
  },
  {
   "cell_type": "code",
   "execution_count": null,
   "id": "7117c71e-22db-4786-83e5-95016c9d7043",
   "metadata": {},
   "outputs": [],
   "source": [
    "Because here no database was created"
   ]
  },
  {
   "cell_type": "code",
   "execution_count": null,
   "id": "a5c1d372-5cc5-4001-bdc3-05959befc040",
   "metadata": {},
   "outputs": [],
   "source": [
    "Now We can create Database by using the CRUD(create,read,update,delete) operations."
   ]
  },
  {
   "cell_type": "code",
   "execution_count": 8,
   "id": "31c559e3-ddbc-4ecd-be7e-703d825f5dba",
   "metadata": {},
   "outputs": [
    {
     "name": "stdout",
     "output_type": "stream",
     "text": [
      "Connected to the DataBase\n"
     ]
    }
   ],
   "source": [
    "import mysql.connector\n",
    "connection=mysql.connector.connect(host='localhost',user='root',passwd='Balaji@9953',database=\"My DataBase\")\n",
    "cursor=connection.cursor()\n",
    "print(\"Connected to the DataBase\")"
   ]
  },
  {
   "cell_type": "code",
   "execution_count": 9,
   "id": "6dcaa3d6-fcc7-47ec-9cb3-1ac3b276d35a",
   "metadata": {},
   "outputs": [
    {
     "name": "stdout",
     "output_type": "stream",
     "text": [
      "Connected to the DataBase\n"
     ]
    }
   ],
   "source": [
    "import mysql.connector\n",
    "connection=mysql.connector.connect(host='localhost',user='root',passwd='Balaji@9953',database=\"MyDB\")\n",
    "cursor=connection.cursor()\n",
    "print(\"Connected to the DataBase\")"
   ]
  },
  {
   "cell_type": "code",
   "execution_count": 10,
   "id": "c161070c-b0c8-4039-9416-f14be8b632c3",
   "metadata": {},
   "outputs": [
    {
     "name": "stdout",
     "output_type": "stream",
     "text": [
      "CMySQLCursor: (Nothing executed yet)\n"
     ]
    }
   ],
   "source": [
    "print(cursor)"
   ]
  },
  {
   "cell_type": "code",
   "execution_count": null,
   "id": "0f394230-3417-4245-ad67-c188a587e68c",
   "metadata": {},
   "outputs": [],
   "source": [
    "Lets go through with step by step"
   ]
  },
  {
   "cell_type": "code",
   "execution_count": null,
   "id": "e33ecfd4-9b99-434b-8087-eb1c542d9ff7",
   "metadata": {},
   "outputs": [],
   "source": [
    "Creating the Databases\n",
    "Getting the list of existing databases\n",
    "We can get the list of all the databases by using the following MySQL query.\n",
    "\n",
    ">  show databases;  "
   ]
  },
  {
   "cell_type": "code",
   "execution_count": 11,
   "id": "9e103b4d-475c-4987-8664-30ded5fe32d7",
   "metadata": {},
   "outputs": [],
   "source": [
    "import mysql.connector\n",
    "connection=mysql.connector.connect(host='localhost',user='root',passwd='Balaji@9953')\n",
    "cursor=connection.cursor()\n",
    "try:\n",
    "    cursor.execute(\"CREATE DATABASE PythonDB\")\n",
    "    dbs=cursor.execute('show databses')\n",
    "except:\n",
    "    connection.rollback()"
   ]
  },
  {
   "cell_type": "code",
   "execution_count": null,
   "id": "867c6135-6408-4e22-855d-1f94a78d190d",
   "metadata": {},
   "outputs": [],
   "source": [
    "check once PythonDB was executed or not."
   ]
  },
  {
   "cell_type": "code",
   "execution_count": 12,
   "id": "74579be5-857d-43a9-81bd-0b02545fb508",
   "metadata": {},
   "outputs": [
    {
     "name": "stdout",
     "output_type": "stream",
     "text": [
      "<mysql.connector.connection_cext.CMySQLConnection object at 0x000001601B389AC0>\n",
      "Connected to the Database\n",
      "CMySQLCursor: (Nothing executed yet)\n"
     ]
    }
   ],
   "source": [
    "import mysql.connector\n",
    "connection=mysql.connector.connect(host='localhost',user='root',passwd='Balaji@9953',database='PythonDB')\n",
    "print(connection)\n",
    "cursor=connection.cursor()\n",
    "print(\"Connected to the Database\")\n",
    "print(cursor)"
   ]
  },
  {
   "cell_type": "code",
   "execution_count": null,
   "id": "f924a899-0e2a-4468-a843-c0ef2b3d7c35",
   "metadata": {},
   "outputs": [],
   "source": [
    "this is the way to create the Database"
   ]
  },
  {
   "cell_type": "code",
   "execution_count": null,
   "id": "23496665-8b10-4672-858f-71dd6ea07cc8",
   "metadata": {},
   "outputs": [],
   "source": [
    "Creating the table"
   ]
  },
  {
   "cell_type": "code",
   "execution_count": null,
   "id": "a774ee59-2759-43c7-96a4-cd2575b3075f",
   "metadata": {},
   "outputs": [],
   "source": [
    "We can create the new table by using the CREATE TABLE statement of SQL. \n",
    "In our database PythonDB, the table Employee will have the four columns, i.e., name, id, salary, and department_id initially.\n",
    "\n",
    "The following query is used to create the new table Employee.\n",
    "\n",
    ">  create table Employee (name varchar(20) not null, id int primary key, salary float not null, Dept_Id int not null)  "
   ]
  },
  {
   "cell_type": "code",
   "execution_count": 22,
   "id": "696b5945-faf1-4771-90fa-9f675b622cfa",
   "metadata": {},
   "outputs": [],
   "source": [
    "import mysql.connector\n",
    "connection=mysql.connector.connect(host='localhost',user='root',passwd='Balaji@9953',database='PythonDB')\n",
    "cursor=connection.cursor()\n",
    "try:\n",
    "    dbs=cursor.execute(\"create table Employee(name Varchar(20) not null,id int(20) not null primary key,salary float not null,Dept_id int not null)\")\n",
    "except:\n",
    "    connection.rollback()\n",
    "connection.close()"
   ]
  },
  {
   "cell_type": "code",
   "execution_count": null,
   "id": "64494935-4c0d-4440-bee0-f22b9634f18c",
   "metadata": {},
   "outputs": [],
   "source": [
    "Table was created"
   ]
  },
  {
   "cell_type": "code",
   "execution_count": 23,
   "id": "f2897247-abab-4cc3-9643-cac7f30908a6",
   "metadata": {},
   "outputs": [
    {
     "data": {
      "text/plain": [
       "('name', b'varchar(20)', 'NO', '', None, '')"
      ]
     },
     "metadata": {},
     "output_type": "display_data"
    },
    {
     "data": {
      "text/plain": [
       "('id', b'int', 'NO', 'PRI', None, '')"
      ]
     },
     "metadata": {},
     "output_type": "display_data"
    },
    {
     "data": {
      "text/plain": [
       "('salary', b'float', 'NO', '', None, '')"
      ]
     },
     "metadata": {},
     "output_type": "display_data"
    },
    {
     "data": {
      "text/plain": [
       "('Dept_id', b'int', 'NO', '', None, '')"
      ]
     },
     "metadata": {},
     "output_type": "display_data"
    }
   ],
   "source": [
    "import mysql.connector\n",
    "connection=mysql.connector.connect(host='localhost',user='root',passwd='Balaji@9953',database='PythonDB')\n",
    "cursor=connection.cursor()\n",
    "try:\n",
    "    dbs=cursor.execute(\"DESCRIBE Employee\")\n",
    "    for row in cursor.fetchall():\n",
    "        display(row)\n",
    "except mysql.connector.Error as err:\n",
    "    print(f\"Error: {err}\")\n",
    "connection.close()"
   ]
  },
  {
   "cell_type": "code",
   "execution_count": null,
   "id": "6867bf64-3ecb-46a1-9c0a-6760f1b797ce",
   "metadata": {},
   "outputs": [],
   "source": [
    "These way we are creating the tables. Lets go through the ALTER the Table\n",
    "\n",
    "Alter Table\n",
    "Sometimes, we may forget to create some columns, or we may need to update the table schema. \n",
    "The alter statement used to alter the table schema if required. Here, we will add the column branch_name to the table Employee. \n",
    "The following SQL query is used for this purpose.\n",
    "\n",
    "alter table Employee add branch_name varchar(20) not null  "
   ]
  },
  {
   "cell_type": "code",
   "execution_count": 24,
   "id": "a9685315-d390-4167-96b1-f389c6b334ca",
   "metadata": {},
   "outputs": [],
   "source": [
    "import mysql.connector\n",
    "connection=mysql.connector.connect(host='localhost',user='root',passwd='Balaji@9953',database='PythonDB')\n",
    "cursor=connection.cursor()\n",
    "try:\n",
    "    cursor.execute(\"alter table Employee add Age int not null\")\n",
    "except:\n",
    "    connection.rollback()\n",
    "connection.close()"
   ]
  },
  {
   "cell_type": "code",
   "execution_count": null,
   "id": "4d461f56-861d-4eed-8396-73b80a9e1b5a",
   "metadata": {},
   "outputs": [],
   "source": [
    "Now Age is added on the Employee Table"
   ]
  },
  {
   "cell_type": "code",
   "execution_count": 26,
   "id": "6b289bd0-b61d-47b6-a2fd-5ec980311cdf",
   "metadata": {},
   "outputs": [
    {
     "data": {
      "text/plain": [
       "('name', b'varchar(20)', 'NO', '', None, '')"
      ]
     },
     "metadata": {},
     "output_type": "display_data"
    },
    {
     "data": {
      "text/plain": [
       "('id', b'int', 'NO', 'PRI', None, '')"
      ]
     },
     "metadata": {},
     "output_type": "display_data"
    },
    {
     "data": {
      "text/plain": [
       "('salary', b'float', 'NO', '', None, '')"
      ]
     },
     "metadata": {},
     "output_type": "display_data"
    },
    {
     "data": {
      "text/plain": [
       "('Dept_id', b'int', 'NO', '', None, '')"
      ]
     },
     "metadata": {},
     "output_type": "display_data"
    },
    {
     "data": {
      "text/plain": [
       "('Age', b'int', 'NO', '', None, '')"
      ]
     },
     "metadata": {},
     "output_type": "display_data"
    }
   ],
   "source": [
    "import mysql.connector\n",
    "connection=mysql.connector.connect(host='localhost',user='root',passwd='Balaji@9953',database='PythonDB')\n",
    "cursor=connection.cursor()\n",
    "try:\n",
    "    cursor.execute(\"DESCRIBE Employee\")\n",
    "    for row in cursor.fetchall():\n",
    "        display(row)\n",
    "except:\n",
    "    connection.rollback()\n",
    "connection.close()"
   ]
  },
  {
   "cell_type": "code",
   "execution_count": null,
   "id": "7f7bad46-d471-4431-a3b3-09c84b7d11d9",
   "metadata": {},
   "outputs": [],
   "source": [
    "Insert Operation\n",
    "Adding a record to the table\n",
    "The INSERT INTO statement is used to add a record to the table. In python, we can mention the format specifier (%s) in place of values.\n",
    "\n",
    "We provide the actual values in the form of tuple in the execute() method of the cursor.\n",
    "\n",
    "Consider the following example."
   ]
  },
  {
   "cell_type": "code",
   "execution_count": 41,
   "id": "5ddda7e3-f7b2-41fb-83b6-8d36258e2e5c",
   "metadata": {},
   "outputs": [
    {
     "name": "stdout",
     "output_type": "stream",
     "text": [
      "1 Rows Inserted\n"
     ]
    }
   ],
   "source": [
    "import mysql.connector\n",
    "connection=mysql.connector.connect(host='localhost',user='root',passwd='Balaji@9953',database='PythonDB')\n",
    "cursor=connection.cursor()\n",
    "sql=\"insert into Employee(name,id,salary,Dept_id,Age)values(%s,%s,%s,%s,%s)\"\n",
    "val=(\"Sai Balaji\",101,15000.50,200,21)\n",
    "try:\n",
    "    cursor.execute(sql,val)\n",
    "    connection.commit()\n",
    "except:\n",
    "    connection.rollback()\n",
    "print(cursor.rowcount,\"Rows Inserted\")\n",
    "connection.close()"
   ]
  },
  {
   "cell_type": "code",
   "execution_count": 43,
   "id": "5568356d-4053-413b-9923-d3c127cf0f29",
   "metadata": {},
   "outputs": [
    {
     "name": "stdout",
     "output_type": "stream",
     "text": [
      "('Sai Balaji', 101, 15000.5, 200, 21)\n"
     ]
    }
   ],
   "source": [
    "import mysql.connector\n",
    "connection=mysql.connector.connect(host='localhost',user='root',passwd='Balaji@9953',database='PythonDB')\n",
    "cursor=connection.cursor()\n",
    "try:\n",
    "    cursor.execute(\"SELECT * FROM Employee\")\n",
    "    rows=cursor.fetchall()\n",
    "    for row in rows:\n",
    "        print(row)\n",
    "except mysql.connector.Error as err:\n",
    "    print(f\"Error: {err}\")\n",
    "connection.close()"
   ]
  },
  {
   "cell_type": "code",
   "execution_count": null,
   "id": "e64e7022-39a9-4655-86d7-0b00e5c80b81",
   "metadata": {},
   "outputs": [],
   "source": [
    "Insert multiple rows\n",
    "We can also insert multiple rows at once using the python script. The multiple rows are mentioned as the list of various tuples.\n",
    "\n",
    "Each element of the list is treated as one particular row, whereas each element of the tuple is treated as one particular column value (attribute).\n",
    "to insert multiple rows into the Employee table using the execute() method. \n",
    "The execute() method is designed to execute a single query with one set of parameters.\n",
    "To insert multiple rows, you should use the executemany() method, which allows you to pass a list of tuples for bulk inserts."
   ]
  },
  {
   "cell_type": "code",
   "execution_count": 45,
   "id": "f333ddcd-1d2f-449c-88d0-8f23fda42e47",
   "metadata": {},
   "outputs": [
    {
     "name": "stdout",
     "output_type": "stream",
     "text": [
      "3 rows inserted\n"
     ]
    }
   ],
   "source": [
    "import mysql.connector\n",
    "connection=mysql.connector.connect(host='localhost',user='root',passwd='Balaji@9953',database='PythonDB')\n",
    "cursor=connection.cursor()\n",
    "sql=\"insert into Employee(name,id,salary,Dept_id,Age)values(%s,%s,%s,%s,%s)\"\n",
    "val=[('Sai Balaji',102,14000,201,22),('chaithanya',103,13000,202,20),('upendra',104,12000,203,23)]\n",
    "try:\n",
    "    cursor.executemany(sql,val)\n",
    "    connection.commit()\n",
    "except:\n",
    "    connection.rollback()\n",
    "print(cursor.rowcount,\"rows inserted\")\n",
    "connection.close()"
   ]
  },
  {
   "cell_type": "code",
   "execution_count": 47,
   "id": "2a7d82b2-dec1-41d7-b1be-019005364809",
   "metadata": {},
   "outputs": [
    {
     "name": "stdout",
     "output_type": "stream",
     "text": [
      "('Sai Balaji', 101, 15000.5, 200, 21)\n",
      "('Sai Balaji', 102, 14000.0, 201, 22)\n",
      "('chaithanya', 103, 13000.0, 202, 20)\n",
      "('upendra', 104, 12000.0, 203, 23)\n"
     ]
    }
   ],
   "source": [
    "import mysql.connector\n",
    "connection=mysql.connector.connect(host='localhost',user='root',passwd='Balaji@9953',database='PythonDB')\n",
    "cursor=connection.cursor()\n",
    "try:\n",
    "    cursor.execute(\"SELECT * FROM Employee\")\n",
    "    for row in cursor.fetchall():\n",
    "        print(row)\n",
    "except mysql.connector.Error as err:\n",
    "    print(f\"Error: {error}\")\n",
    "connection.close()"
   ]
  },
  {
   "cell_type": "code",
   "execution_count": null,
   "id": "f3983e6d-9c03-4af3-ac9c-e9c1485e2ed4",
   "metadata": {},
   "outputs": [],
   "source": [
    "Row ID\n",
    "In SQL, a particular row is represented by an insertion id which is known as row id. \n",
    "We can get the last inserted row id by using the attribute lastrowid of the cursor object."
   ]
  },
  {
   "cell_type": "code",
   "execution_count": 48,
   "id": "5eb2029b-eec5-47af-aeb1-d0ac17133e7c",
   "metadata": {},
   "outputs": [
    {
     "name": "stdout",
     "output_type": "stream",
     "text": [
      "1 rows Inserted! id: 0\n"
     ]
    }
   ],
   "source": [
    "import mysql.connector\n",
    "connection=mysql.connector.connect(host='localhost',user='root',passwd='Balaji@9953',database='PythonDB')\n",
    "cursor=connection.cursor()\n",
    "sql=\"insert into Employee(name,id,salary,Dept_id,Age)values(%s,%s,%s,%s,%s)\"\n",
    "val=('mi',100,20000,199,22)\n",
    "try:\n",
    "    cursor.execute(sql,val)\n",
    "    connection.commit()\n",
    "except:\n",
    "    connection.rollback()\n",
    "print(cursor.rowcount,\"rows Inserted! id:\",cursor.lastrowid)\n",
    "connection.close()"
   ]
  },
  {
   "cell_type": "code",
   "execution_count": 49,
   "id": "3f12ad84-4019-488e-bf7c-bd22decde99e",
   "metadata": {},
   "outputs": [
    {
     "name": "stdout",
     "output_type": "stream",
     "text": [
      "('mi', 100, 20000.0, 199, 22)\n",
      "('Sai Balaji', 101, 15000.5, 200, 21)\n",
      "('Sai Balaji', 102, 14000.0, 201, 22)\n",
      "('chaithanya', 103, 13000.0, 202, 20)\n",
      "('upendra', 104, 12000.0, 203, 23)\n"
     ]
    }
   ],
   "source": [
    "import mysql.connector\n",
    "connection=mysql.connector.connect(host='localhost',user='root',passwd='Balaji@9953',database='PythonDB')\n",
    "cursor=connection.cursor()\n",
    "try:\n",
    "    cursor.execute(\"SELECT * FROM Employee\")\n",
    "    for row in cursor.fetchall():\n",
    "        print(row)\n",
    "except mysql.connector.Error as err:\n",
    "    print(f\"Error: {error}\")\n",
    "connection.close()"
   ]
  },
  {
   "cell_type": "code",
   "execution_count": null,
   "id": "25d2f4fa-2a4c-4fdc-9311-a2c3f71d10fa",
   "metadata": {},
   "outputs": [],
   "source": [
    "Read Operation\n",
    "The SELECT statement is used to read the values from the databases. We can restrict the output of a select query by using various \n",
    "clause in SQL like where, limit, etc.\n",
    "\n",
    "Python provides the fetchall() method returns the data stored inside the table in the form of rows. \n",
    "We can iterate the result to get the individual rows.\n",
    "\n",
    "In this section of the tutorial, we will extract the data from the database by using the python script. \n",
    "We will also format the output to print it on the console."
   ]
  },
  {
   "cell_type": "code",
   "execution_count": 50,
   "id": "2e2fc0f7-719e-4aca-87aa-b7b233c76e2d",
   "metadata": {},
   "outputs": [
    {
     "name": "stdout",
     "output_type": "stream",
     "text": [
      "('mi', 100, 20000.0, 199, 22)\n",
      "('Sai Balaji', 101, 15000.5, 200, 21)\n",
      "('Sai Balaji', 102, 14000.0, 201, 22)\n",
      "('chaithanya', 103, 13000.0, 202, 20)\n",
      "('upendra', 104, 12000.0, 203, 23)\n"
     ]
    }
   ],
   "source": [
    "import mysql.connector\n",
    "connection=mysql.connector.connect(host='localhost',user='root',passwd='Balaji@9953',database='PythonDB')\n",
    "cursor=connection.cursor()\n",
    "try:\n",
    "    cursor.execute(\"SELECT * FROM Employee\")\n",
    "    for row in cursor.fetchall():\n",
    "        print(row)\n",
    "except mysql.connector.Error as err:\n",
    "    print(f\"Error: {error}\")\n",
    "connection.close()"
   ]
  },
  {
   "cell_type": "code",
   "execution_count": null,
   "id": "69db850a-6bba-4997-9d75-aec21a90a81b",
   "metadata": {},
   "outputs": [],
   "source": [
    "Reading specific columns\n",
    "We can read the specific columns by mentioning their names instead of using star (*).\n",
    "\n",
    "In the following example, we will read the name, id, and salary from the Employee table and print it on the console."
   ]
  },
  {
   "cell_type": "code",
   "execution_count": 53,
   "id": "13c38fd3-033d-41f7-af28-da76f9c8e564",
   "metadata": {},
   "outputs": [
    {
     "name": "stdout",
     "output_type": "stream",
     "text": [
      "('mi', 100, 20000.0)\n",
      "('Sai Balaji', 101, 15000.5)\n",
      "('Sai Balaji', 102, 14000.0)\n",
      "('chaithanya', 103, 13000.0)\n",
      "('upendra', 104, 12000.0)\n"
     ]
    }
   ],
   "source": [
    "import mysql.connector\n",
    "connection=mysql.connector.connect(host='localhost',user='root',passwd='Balaji@9953',database='PythonDB')\n",
    "cursor=connection.cursor()\n",
    "try:\n",
    "    cursor.execute(\"SELECT name,id,salary FROM Employee\")\n",
    "    for row in cursor.fetchall():\n",
    "        print(row)\n",
    "except mysql.connector.Error as err:\n",
    "    print(f\"Error: {err}\")\n",
    "connection.close()"
   ]
  },
  {
   "cell_type": "code",
   "execution_count": null,
   "id": "cf046edf-7a74-43f9-aca4-1f8f307296af",
   "metadata": {},
   "outputs": [],
   "source": [
    "The fetchone() method\n",
    "The fetchone() method is used to fetch only one row from the table. The fetchone() method returns the next row of the result-set."
   ]
  },
  {
   "cell_type": "code",
   "execution_count": 55,
   "id": "6833328c-1f19-4a9b-a00b-97e46cbf8712",
   "metadata": {},
   "outputs": [
    {
     "name": "stdout",
     "output_type": "stream",
     "text": [
      "('mi', 100)\n"
     ]
    }
   ],
   "source": [
    "import mysql.connector\n",
    "connection=mysql.connector.connect(host='localhost',user='root',passwd='Balaji@9953',database='PythonDB')\n",
    "cursor=connection.cursor()\n",
    "try:\n",
    "    cursor.execute(\"SELECT name,id FROM Employee\")\n",
    "    result=cursor.fetchone()\n",
    "    print(result)\n",
    "except mysql.connector.Error as err:\n",
    "    print(f\"Error: {err}\")\n",
    "connection.close()"
   ]
  },
  {
   "cell_type": "code",
   "execution_count": null,
   "id": "c514db50-6aec-43ac-ba73-c4d09895ed54",
   "metadata": {},
   "outputs": [],
   "source": [
    "Formatting the result\n",
    "We can format the result by iterating over the result produced by the fetchall() or fetchone() method of cursor \n",
    "object since the result exists as the tuple object which is not readable.\n",
    "\n",
    "Consider the following example."
   ]
  },
  {
   "cell_type": "code",
   "execution_count": 58,
   "id": "a61fb8cf-c6fe-4e55-bb96-777208fb6d15",
   "metadata": {},
   "outputs": [
    {
     "name": "stdout",
     "output_type": "stream",
     "text": [
      "Name         id    Salary\n",
      "mi       100    20000\n",
      "Sai Balaji       101    15000\n",
      "Sai Balaji       102    14000\n",
      "chaithanya       103    13000\n",
      "upendra       104    12000\n"
     ]
    }
   ],
   "source": [
    "import mysql.connector\n",
    "connection=mysql.connector.connect(host='localhost',user='root',passwd='Balaji@9953',database='PythonDB')\n",
    "cursor=connection.cursor()\n",
    "try:\n",
    "    cursor.execute(\"SELECT name,id,salary FROM Employee\")\n",
    "    result=cursor.fetchall()\n",
    "    print(\"Name         id    Salary\")\n",
    "    for row in result:\n",
    "        print(\"%s       %d    %d\"%(row[0],row[1],row[2]))\n",
    "except:\n",
    "    connection.rollback()\n",
    "connection.close()"
   ]
  },
  {
   "cell_type": "code",
   "execution_count": null,
   "id": "708f3190-8a01-4152-a4a7-e6a47feb6222",
   "metadata": {},
   "outputs": [],
   "source": [
    "Using where clause\n",
    "We can restrict the result produced by the select statement by using the where clause. \n",
    "This will extract only those columns which satisfy the where condition."
   ]
  },
  {
   "cell_type": "code",
   "execution_count": 59,
   "id": "d557e0f3-0e16-4613-a20c-7e89e1121c37",
   "metadata": {},
   "outputs": [
    {
     "name": "stdout",
     "output_type": "stream",
     "text": [
      "[('Sai Balaji', 101, 21), ('Sai Balaji', 102, 22)]\n"
     ]
    }
   ],
   "source": [
    "import mysql.connector\n",
    "connection=mysql.connector.connect(host='localhost',user='root',passwd='Balaji@9953',database='PythonDB')\n",
    "cursor=connection.cursor()\n",
    "try:\n",
    "    cursor.execute(\"SELECT name,id,Age FROM Employee where name like 'S%'\")\n",
    "    result=cursor.fetchall()\n",
    "    print(result)\n",
    "except:\n",
    "    connection.rollback()\n",
    "connection.close()"
   ]
  },
  {
   "cell_type": "code",
   "execution_count": 61,
   "id": "2584d785-bb39-410e-b4b8-7388b82920f2",
   "metadata": {},
   "outputs": [
    {
     "name": "stdout",
     "output_type": "stream",
     "text": [
      "Name        id        salary\n",
      "Sai Balaji      101      21\n",
      "Sai Balaji      102      22\n"
     ]
    }
   ],
   "source": [
    "import mysql.connector\n",
    "connection=mysql.connector.connect(host='localhost',user='root',passwd='Balaji@9953',database='PythonDB')\n",
    "cursor=connection.cursor()\n",
    "try:\n",
    "    cursor.execute(\"SELECT name,id,Age FROM Employee where name like 'S%'\")\n",
    "    result=cursor.fetchall()\n",
    "    print(\"Name        id        salary\")\n",
    "    for row in result:\n",
    "        print(\"%s      %d      %d\"%(row[0],row[1],row[2]))\n",
    "except:\n",
    "    connection.rollback()\n",
    "connection.close()"
   ]
  },
  {
   "cell_type": "code",
   "execution_count": 62,
   "id": "078d4e80-388a-4cbd-aed3-5dc7aaa306d7",
   "metadata": {},
   "outputs": [
    {
     "name": "stdout",
     "output_type": "stream",
     "text": [
      "[('mi', 100, 22), ('Sai Balaji', 101, 21), ('Sai Balaji', 102, 22)]\n"
     ]
    }
   ],
   "source": [
    "import mysql.connector\n",
    "connection=mysql.connector.connect(host='localhost',user='root',passwd='Balaji@9953',database='PythonDB')\n",
    "cursor=connection.cursor()\n",
    "try:\n",
    "    cursor.execute(\"SELECT name,id,Age FROM Employee where id in (100,101,102)\")\n",
    "    result=cursor.fetchall()\n",
    "    print(result)\n",
    "except:\n",
    "    connection.rollback()\n",
    "connection.close()"
   ]
  },
  {
   "cell_type": "code",
   "execution_count": null,
   "id": "7c71afce-83f1-46e6-bef4-31c1c8e89788",
   "metadata": {},
   "outputs": [],
   "source": [
    "Ordering the result\n",
    "The ORDER BY clause is used to order the result."
   ]
  },
  {
   "cell_type": "code",
   "execution_count": 63,
   "id": "542622f0-b69e-4f92-953d-ea520d2308c6",
   "metadata": {},
   "outputs": [
    {
     "name": "stdout",
     "output_type": "stream",
     "text": [
      "[('chaithanya', 103, 20), ('mi', 100, 22), ('Sai Balaji', 101, 21), ('Sai Balaji', 102, 22), ('upendra', 104, 23)]\n"
     ]
    }
   ],
   "source": [
    "import mysql.connector\n",
    "connection=mysql.connector.connect(host='localhost',user='root',passwd='Balaji@9953',database='PythonDB')\n",
    "cursor=connection.cursor()\n",
    "try:\n",
    "    cursor.execute(\"SELECT name,id,Age FROM Employee order by name\")\n",
    "    result=cursor.fetchall()\n",
    "    print(result)\n",
    "except:\n",
    "    connection.rollback()\n",
    "connection.close()"
   ]
  },
  {
   "cell_type": "code",
   "execution_count": null,
   "id": "c360e777-0991-4338-9a14-6ac026c69bf8",
   "metadata": {},
   "outputs": [],
   "source": [
    "Order by DESC\n",
    "This orders the result in the decreasing order of a particular column."
   ]
  },
  {
   "cell_type": "code",
   "execution_count": 64,
   "id": "f6316463-93b2-4a64-8d7c-e70465f79bb0",
   "metadata": {},
   "outputs": [
    {
     "name": "stdout",
     "output_type": "stream",
     "text": [
      "[('upendra', 104, 23), ('Sai Balaji', 101, 21), ('Sai Balaji', 102, 22), ('mi', 100, 22), ('chaithanya', 103, 20)]\n"
     ]
    }
   ],
   "source": [
    "import mysql.connector\n",
    "connection=mysql.connector.connect(host='localhost',user='root',passwd='Balaji@9953',database=\"PythonDB\")\n",
    "cursor=connection.cursor()\n",
    "try:\n",
    "    cursor.execute(\"SELECT name,id,Age From Employee order by name desc\")\n",
    "    result=cursor.fetchall()\n",
    "    print(result)\n",
    "except:\n",
    "    connection.rollback()\n",
    "connection.close()"
   ]
  },
  {
   "cell_type": "code",
   "execution_count": null,
   "id": "2fa1978f-0e7b-48fa-9045-bdb09ef00a83",
   "metadata": {},
   "outputs": [],
   "source": [
    "Update Operation\n",
    "The UPDATE-SET statement is used to update any column inside the table. The following SQL query is used to update a column.\n",
    "\n",
    ">  update Employee set name = 'alex' where id = 110  "
   ]
  },
  {
   "cell_type": "code",
   "execution_count": 9,
   "id": "b336474c-269e-4731-8eb2-b91505b186da",
   "metadata": {},
   "outputs": [
    {
     "name": "stdout",
     "output_type": "stream",
     "text": [
      "('mi', 100, 20000.0, 199, 22)\n",
      "('Sai Balaji', 101, 15000.5, 200, 21)\n",
      "('balaji', 102, 14000.0, 201, 22)\n",
      "('chaithanya', 103, 13000.0, 202, 20)\n",
      "('upendra', 104, 12000.0, 203, 23)\n"
     ]
    }
   ],
   "source": [
    "import mysql.connector\n",
    "connection=mysql.connector.connect(host='localhost',user='root',passwd='Balaji@9953',database=\"PythonDB\")\n",
    "cursor=connection.cursor()\n",
    "try:\n",
    "    cursor.execute(\"update Employee set name='balaji' where id=102\")\n",
    "    connection.commit()\n",
    "    cursor.execute('SELECT * FROM Employee')\n",
    "    result=cursor.fetchall()\n",
    "    for row in result:\n",
    "        print(row)\n",
    "except:\n",
    "    connection.rollback()\n",
    "connection.close()"
   ]
  },
  {
   "cell_type": "code",
   "execution_count": null,
   "id": "b6f97dc2-35e0-4c9c-b071-7ce7d3c0aab3",
   "metadata": {},
   "outputs": [],
   "source": [
    "Delete Operation\n",
    "The DELETE FROM statement is used to delete a specific record from the table. \n",
    "Here, we must impose a condition using WHERE clause otherwise all the records from the table will be removed.\n",
    "\n",
    "The following SQL query is used to delete the employee detail whose id is 110 from the table.\n",
    ">  delete from Employee where id = 110"
   ]
  },
  {
   "cell_type": "code",
   "execution_count": 16,
   "id": "01a22d89-9f7e-43e3-8eb0-056da91096af",
   "metadata": {},
   "outputs": [
    {
     "name": "stdout",
     "output_type": "stream",
     "text": [
      "('mi', 100, 20000.0, 199, 22)\n",
      "('Sai Balaji', 101, 15000.5, 200, 21)\n",
      "('chaithanya', 103, 13000.0, 202, 20)\n",
      "('upendra', 104, 12000.0, 203, 23)\n"
     ]
    }
   ],
   "source": [
    "import mysql.connector\n",
    "connection=mysql.connector.connect(host='localhost',user='root',passwd='Balaji@9953',database='PythonDB')\n",
    "cursor=connection.cursor()\n",
    "try:\n",
    "    cursor.execute(\"delete FROM Employee where id=102\")\n",
    "    connection.commit()\n",
    "    cursor.execute(\"SELECT * FROM Employee\")\n",
    "    result=cursor.fetchall()\n",
    "    for row in result:\n",
    "        print(row)\n",
    "except:\n",
    "    connection.rollback()\n",
    "connection.close()"
   ]
  },
  {
   "cell_type": "code",
   "execution_count": null,
   "id": "7623039d-1c38-4319-b7d4-4fb264b6fc6b",
   "metadata": {},
   "outputs": [],
   "source": [
    "Join Operation\n",
    "We can combine the columns from two or more tables by using some common column among them by using the join statement.\n",
    "We have only one table in our database, let's create one more table Departments with two columns department_id and department_name.\n",
    "create table Departments (Dept_id int(20) primary key not null, Dept_Name varchar(20) not null);  "
   ]
  },
  {
   "cell_type": "code",
   "execution_count": 12,
   "id": "0adc8da4-2df7-4350-a29d-8b5b21c92338",
   "metadata": {},
   "outputs": [],
   "source": [
    "import mysql.connector\n",
    "connection=mysql.connector.connect(host='localhost',user='root',passwd='Balaji@9953',database='PythonDB')\n",
    "cursor=connection.cursor()\n",
    "try:\n",
    "    cursor.execute(\"create table Departments (Dept_id int(20) primary key not null, Dept_Name varchar(20) not null)\")\n",
    "    connection.commit()\n",
    "except:\n",
    "    connection.rollback()\n",
    "connection.close()"
   ]
  },
  {
   "cell_type": "code",
   "execution_count": 13,
   "id": "ccbb8d83-c51c-4ac0-a0a7-1ad2f5939bbe",
   "metadata": {},
   "outputs": [
    {
     "name": "stdout",
     "output_type": "stream",
     "text": [
      "('Dept_id', b'int', 'NO', 'PRI', None, '')\n",
      "('Dept_Name', b'varchar(20)', 'NO', '', None, '')\n"
     ]
    }
   ],
   "source": [
    "import mysql.connector\n",
    "connection=mysql.connector.connect(host='localhost',user='root',passwd='Balaji@9953',database='PythonDB')\n",
    "cursor=connection.cursor()\n",
    "try:\n",
    "    cursor.execute('DESCRIBE Departments')\n",
    "    for row in cursor.fetchall():\n",
    "        print(row)\n",
    "except mysql.connector.Error as err:\n",
    "    print(f\"Error: {err}\")\n",
    "connection.close()"
   ]
  },
  {
   "cell_type": "code",
   "execution_count": 15,
   "id": "a0be0f0b-b7eb-4185-8285-4260859ab330",
   "metadata": {},
   "outputs": [
    {
     "name": "stdout",
     "output_type": "stream",
     "text": [
      "4 rows inserted\n"
     ]
    }
   ],
   "source": [
    "import mysql.connector\n",
    "\n",
    "connection = mysql.connector.connect(\n",
    "    host='localhost',\n",
    "    user='root',\n",
    "    passwd='Balaji@9953',\n",
    "    database='PythonDB'\n",
    ")\n",
    "cursor = connection.cursor()\n",
    "\n",
    "sql = \"INSERT INTO Departments (Dept_id, Dept_Name) VALUES (%s, %s)\"\n",
    "val = [(199, 'CSE'), (200, 'CSE'), (202, 'ECE'), (203, 'EEE')]\n",
    "\n",
    "try:\n",
    "    cursor.executemany(sql, val)\n",
    "    connection.commit()\n",
    "    print(cursor.rowcount, \"rows inserted\")\n",
    "except mysql.connector.Error as e:\n",
    "    connection.rollback()\n",
    "    print(\"Error:\", e)\n",
    "connection.close()"
   ]
  },
  {
   "cell_type": "code",
   "execution_count": 16,
   "id": "1d300e0b-eb5b-45ae-97ea-4c250ecdd99c",
   "metadata": {},
   "outputs": [
    {
     "name": "stdout",
     "output_type": "stream",
     "text": [
      "(199, 'CSE')\n",
      "(200, 'CSE')\n",
      "(202, 'ECE')\n",
      "(203, 'EEE')\n"
     ]
    }
   ],
   "source": [
    "import mysql.connector\n",
    "connection=mysql.connector.connect(host='localhost',user='root',passwd='Balaji@9953',database='PythonDB')\n",
    "cursor=connection.cursor()\n",
    "try:\n",
    "    cursor.execute(\"SELECT * FROM Departments\")\n",
    "    for row in cursor.fetchall():\n",
    "        print(row)\n",
    "except:\n",
    "    connection.rollback()\n",
    "connection.close()"
   ]
  },
  {
   "cell_type": "code",
   "execution_count": 17,
   "id": "b96a0540-1178-40b9-8e69-db7eb7a7d643",
   "metadata": {},
   "outputs": [
    {
     "name": "stdout",
     "output_type": "stream",
     "text": [
      "('mi', 100, 20000.0, 199, 22)\n",
      "('Sai Balaji', 101, 15000.5, 200, 21)\n",
      "('chaithanya', 103, 13000.0, 202, 20)\n",
      "('upendra', 104, 12000.0, 203, 23)\n"
     ]
    }
   ],
   "source": [
    "import mysql.connector\n",
    "connection=mysql.connector.connect(host='localhost',user='root',passwd='Balaji@9953',database='PythonDB')\n",
    "cursor=connection.cursor()\n",
    "try:\n",
    "    cursor.execute(\"SELECT * FROM Employee\")\n",
    "    for row in cursor.fetchall():\n",
    "        print(row)\n",
    "except:\n",
    "    connection.rollback()\n",
    "connection.close()"
   ]
  },
  {
   "cell_type": "code",
   "execution_count": 24,
   "id": "04add812-9066-411c-8f99-c8704006dc89",
   "metadata": {},
   "outputs": [
    {
     "name": "stdout",
     "output_type": "stream",
     "text": [
      "Name             ID              Salary           Age           Dept_Id    Dept_Name\n",
      "mi            100         20000.0            22              199              CSE\n",
      "Sai Balaji            101         15000.5            21              200              CSE\n",
      "chaithanya            103         13000.0            20              202              ECE\n",
      "upendra            104         12000.0            23              203              EEE\n"
     ]
    }
   ],
   "source": [
    "import mysql.connector\n",
    "connection=mysql.connector.connect(host='localhost',user='root',passwd='Balaji@9953',database='PythonDB')\n",
    "cursor=connection.cursor()\n",
    "try:\n",
    "    result=cursor.execute(\"select Employee.name,Employee.id,Employee.salary,Employee.Age,Departments.Dept_id,Departments.Dept_Name from Departments left join Employee on Departments.Dept_id=Employee.Dept_id\")\n",
    "    print(\"Name             ID              Salary           Age           Dept_Id    Dept_Name\")  \n",
    "    for row in cursor:\n",
    "        print(row[0],\"          \", row[1],\"       \",row[2],\"          \",row[3],\"            \",row[4],\"            \",row[5])\n",
    "except:\n",
    "    connection.rollback()\n",
    "connection.close()"
   ]
  },
  {
   "cell_type": "code",
   "execution_count": null,
   "id": "54ee6f61-ae0e-4e63-865f-15ed5b72e790",
   "metadata": {},
   "outputs": [],
   "source": [
    "Right Join\n",
    "\n",
    "Right join shows all the columns of the right-hand side table as we have two tables in the database PythonDB, i.e., \n",
    "Departments and Employee. We do not have any Employee in the table who is not working for any department (Employee for which department id is null)."
   ]
  },
  {
   "cell_type": "code",
   "execution_count": 31,
   "id": "ba6aa81b-a313-467e-883f-47e84e78ae28",
   "metadata": {},
   "outputs": [
    {
     "name": "stdout",
     "output_type": "stream",
     "text": [
      "1 rows inserted\n"
     ]
    }
   ],
   "source": [
    "import mysql.connector\n",
    "connection=mysql.connector.connect(host='localhost',user='root',passwd='Balaji@9953',database='PythonDB')\n",
    "cursor=connection.cursor()\n",
    "sql=\"insert into Employee(name,id,salary,Dept_id,Age)values(%s,%s,%s,%s,%s)\"\n",
    "values=('hi',105,10000.0,0,18)\n",
    "try:\n",
    "    cursor.execute(sql, values)\n",
    "    connection.commit()\n",
    "    print(cursor.rowcount, \"rows inserted\")\n",
    "except mysql.connector.Error as e:\n",
    "    connection.rollback()\n",
    "    print(\"Error:\", e)\n",
    "connection.close()"
   ]
  },
  {
   "cell_type": "code",
   "execution_count": 32,
   "id": "5250116a-8742-4788-a9f6-7a13e14b0b11",
   "metadata": {},
   "outputs": [
    {
     "name": "stdout",
     "output_type": "stream",
     "text": [
      "('mi', 100, 20000.0, 199, 22)\n",
      "('Sai Balaji', 101, 15000.5, 200, 21)\n",
      "('chaithanya', 103, 13000.0, 202, 20)\n",
      "('upendra', 104, 12000.0, 203, 23)\n",
      "('hi', 105, 10000.0, 0, 18)\n"
     ]
    }
   ],
   "source": [
    "import mysql.connector\n",
    "connection=mysql.connector.connect(host='localhost',user='root',passwd='Balaji@9953',database='PythonDB')\n",
    "cursor=connection.cursor()\n",
    "try:\n",
    "    cursor.execute(\"SELECT * FROM Employee\")\n",
    "    for row in cursor.fetchall():\n",
    "        print(row)\n",
    "except:\n",
    "    connection.rollback()\n",
    "connection.close()"
   ]
  },
  {
   "cell_type": "code",
   "execution_count": 33,
   "id": "29de31fa-727c-4ac8-aa5a-ed98fdc8abc5",
   "metadata": {},
   "outputs": [
    {
     "name": "stdout",
     "output_type": "stream",
     "text": [
      "Name             ID              Salary           Age           Dept_Id    Dept_Name\n",
      "mi            100         20000.0            22              199              CSE\n",
      "Sai Balaji            101         15000.5            21              200              CSE\n",
      "chaithanya            103         13000.0            20              202              ECE\n",
      "upendra            104         12000.0            23              203              EEE\n",
      "hi            105         10000.0            18              None              None\n"
     ]
    }
   ],
   "source": [
    "import mysql.connector\n",
    "connection=mysql.connector.connect(host='localhost',user='root',passwd='Balaji@9953',database='PythonDB')\n",
    "cursor=connection.cursor()\n",
    "try:\n",
    "    result=cursor.execute(\"select Employee.name,Employee.id,Employee.salary,Employee.Age,Departments.Dept_id,Departments.Dept_Name from Departments right join Employee on Departments.Dept_id=Employee.Dept_id\")\n",
    "    print(\"Name             ID              Salary           Age           Dept_Id    Dept_Name\")  \n",
    "    for row in cursor:\n",
    "        print(row[0],\"          \", row[1],\"       \",row[2],\"          \",row[3],\"            \",row[4],\"            \",row[5])\n",
    "except:\n",
    "    connection.rollback()\n",
    "connection.close()"
   ]
  },
  {
   "cell_type": "code",
   "execution_count": null,
   "id": "e7fcb330-eb4a-43dd-b679-f22814fb6fd7",
   "metadata": {},
   "outputs": [],
   "source": [
    "Left Join\n",
    "The left join covers all the data from the left-hand side table."
   ]
  },
  {
   "cell_type": "code",
   "execution_count": 34,
   "id": "d3a96388-324f-4a1f-abbd-cc4e0f4cecf3",
   "metadata": {},
   "outputs": [
    {
     "name": "stdout",
     "output_type": "stream",
     "text": [
      "Name             ID              Salary           Age           Dept_Id    Dept_Name\n",
      "mi            100         20000.0            22              199              CSE\n",
      "Sai Balaji            101         15000.5            21              200              CSE\n",
      "chaithanya            103         13000.0            20              202              ECE\n",
      "upendra            104         12000.0            23              203              EEE\n"
     ]
    }
   ],
   "source": [
    "import mysql.connector\n",
    "connection=mysql.connector.connect(host='localhost',user='root',passwd='Balaji@9953',database='PythonDB')\n",
    "cursor=connection.cursor()\n",
    "try:\n",
    "    result=cursor.execute(\"select Employee.name,Employee.id,Employee.salary,Employee.Age,Departments.Dept_id,Departments.Dept_Name from Departments left join Employee on Departments.Dept_id=Employee.Dept_id\")\n",
    "    print(\"Name             ID              Salary           Age           Dept_Id    Dept_Name\")  \n",
    "    for row in cursor:\n",
    "        print(row[0],\"          \", row[1],\"       \",row[2],\"          \",row[3],\"            \",row[4],\"            \",row[5])\n",
    "except:\n",
    "    connection.rollback()\n",
    "connection.close()"
   ]
  },
  {
   "cell_type": "code",
   "execution_count": null,
   "id": "348f407a-7bb8-4a3d-b109-cb6838bd09f4",
   "metadata": {},
   "outputs": [],
   "source": [
    "Performing Transactions\n",
    "\n",
    "Performing Transactions\n",
    "Transactions ensure the data consistency of the database. We have to make sure that more than one applications must not modify the \n",
    "records while performing the database operations. The transactions have the following properties.\n",
    "\n",
    "Atomicity\n",
    "Either the transaction completes, or nothing happens. If a transaction contains 4 queries then all these queries must be executed, \n",
    "or none of them must be executed.\n",
    "    \n",
    "Consistency\n",
    "The database must be consistent before the transaction starts and the database must also be consistent after the transaction is completed.\n",
    "\n",
    "Isolation\n",
    "Intermediate results of a transaction are not visible outside the current transaction.\n",
    "\n",
    "Durability\n",
    "Once a transaction was committed, the effects are persistent, even after a system failure."
   ]
  },
  {
   "cell_type": "code",
   "execution_count": 7,
   "id": "af29ebd8-bb1e-497c-9941-26c6752be923",
   "metadata": {},
   "outputs": [
    {
     "name": "stdout",
     "output_type": "stream",
     "text": [
      "row was deleted\n"
     ]
    }
   ],
   "source": [
    "import mysql.connector\n",
    "connection=mysql.connector.connect(host='localhost',user='root',passwd='Balaji@9953',database='PythonDB')\n",
    "cursor=connection.cursor()\n",
    "try:\n",
    "    cursor.execute('delete from Employee where id=103')\n",
    "    connection.commit()\n",
    "    print(\"row was deleted\")\n",
    "except Error as err:\n",
    "    print(\"can't delete\")\n",
    "    connection.rollback"
   ]
  },
  {
   "cell_type": "code",
   "execution_count": 9,
   "id": "10442b9c-ca75-491f-b716-79cfd712e477",
   "metadata": {},
   "outputs": [
    {
     "name": "stdout",
     "output_type": "stream",
     "text": [
      "('mi', 100, 20000.0, 22, 199, 'CSE')\n",
      "('Sai Balaji', 101, 15000.5, 21, 200, 'CSE')\n",
      "(None, None, None, None, 202, 'ECE')\n",
      "('upendra', 104, 12000.0, 23, 203, 'EEE')\n"
     ]
    }
   ],
   "source": [
    "import mysql.connector\n",
    "connection=mysql.connector.connect(host='localhost',user='root',passwd='Balaji@9953',database='PythonDB')\n",
    "cursor=connection.cursor()\n",
    "try:\n",
    "    cursor.execute('SELECT Employee.name,Employee.id,Employee.salary,Employee.Age,Departments.Dept_Id,Departments.Dept_Name FROM Departments left join Employee on Departments.Dept_Id=Employee.Dept_id')\n",
    "    result=cursor.fetchall()\n",
    "    for row in result:\n",
    "        print(row)\n",
    "except:\n",
    "    connection.rollback()\n",
    "connection.close()"
   ]
  },
  {
   "cell_type": "code",
   "execution_count": null,
   "id": "df638938-9f2e-4172-bed9-f406f4ad50b8",
   "metadata": {},
   "outputs": [],
   "source": []
  }
 ],
 "metadata": {
  "kernelspec": {
   "display_name": "Python 3 (ipykernel)",
   "language": "python",
   "name": "python3"
  },
  "language_info": {
   "codemirror_mode": {
    "name": "ipython",
    "version": 3
   },
   "file_extension": ".py",
   "mimetype": "text/x-python",
   "name": "python",
   "nbconvert_exporter": "python",
   "pygments_lexer": "ipython3",
   "version": "3.9.12"
  }
 },
 "nbformat": 4,
 "nbformat_minor": 5
}
