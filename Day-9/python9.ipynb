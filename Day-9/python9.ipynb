{
 "cells": [
  {
   "cell_type": "raw",
   "id": "4e3e451d-918c-4420-a5a7-75114d2a852c",
   "metadata": {},
   "source": [
    "# Python Dictionary Methods - Python has a set of built-in methods that you\n",
    "# can use on dictionaries.\n",
    "\n",
    "\n",
    "# 1. clear() - Removes all the elements from the dictionary\n",
    "\"\"\" The clear() method removes all the elements from a dictionary.\n",
    "Syntax : dictionary.clear() \"\"\""
   ]
  },
  {
   "cell_type": "code",
   "execution_count": 1,
   "id": "c7f0a2c0-2584-420c-9d9d-e62bb3a77504",
   "metadata": {},
   "outputs": [
    {
     "name": "stdout",
     "output_type": "stream",
     "text": [
      "{}\n"
     ]
    }
   ],
   "source": [
    "a={1:'Vennelakanti',2:'sai',3:'balaji'}\n",
    "a.clear()\n",
    "print(a)"
   ]
  },
  {
   "cell_type": "raw",
   "id": "186e0997-09ec-4853-a15f-8b7f3bf07c54",
   "metadata": {},
   "source": [
    "# 2. copy() - Returns a copy of the dictionary\n",
    "\"\"\" You cannot copy a dictionary simply by typing dict2 = dict1, because: dict2\n",
    "will only be a reference to dict1, and changes made in dict1 will automatically\n",
    "also be made in dict2.\n",
    "The copy() method returns a copy of the specified dictionary.\n",
    "Syntax : dictionary.copy() \"\"\""
   ]
  },
  {
   "cell_type": "code",
   "execution_count": 2,
   "id": "79f50513-3079-45ef-837c-d27d2b990445",
   "metadata": {},
   "outputs": [
    {
     "name": "stdout",
     "output_type": "stream",
     "text": [
      "{1: 'Vennelakanti', 2: 'sai', 3: 'balaji'}\n"
     ]
    }
   ],
   "source": [
    "a={1:'Vennelakanti',2:'sai',3:'balaji'}\n",
    "b=a.copy()\n",
    "print(b)"
   ]
  },
  {
   "cell_type": "raw",
   "id": "c6f1308e-c162-47cd-b268-eb268bcadf1f",
   "metadata": {},
   "source": [
    "# 3. fromkeys() - Returns a dictionary with the specified keys and value\n",
    "\"\"\" The fromkeys() method returns a dictionary with the specified keys and the\n",
    "specified value.\n",
    "Syntax : dictionary.fromkeys(keys, value)\n",
    "1. keys - Required. An iterable specifying the keys of the new dictionary.\n",
    "2. value - Optional. The value for all keys. Default value is None. \"\"\""
   ]
  },
  {
   "cell_type": "code",
   "execution_count": 10,
   "id": "1c24b5e9-dbbc-460c-b482-42fdd72dd01a",
   "metadata": {},
   "outputs": [
    {
     "name": "stdout",
     "output_type": "stream",
     "text": [
      "{1: ('vennelakanti', 'sai', 'balaji'), 2: ('vennelakanti', 'sai', 'balaji'), 3: ('vennelakanti', 'sai', 'balaji')}\n"
     ]
    }
   ],
   "source": [
    "a=(1,2,3)\n",
    "b=('vennelakanti','sai','balaji')\n",
    "c=dict.fromkeys(a,b)\n",
    "print(c)"
   ]
  },
  {
   "cell_type": "code",
   "execution_count": 11,
   "id": "53858c51-1d90-4f3c-ba88-efc0fafb28a9",
   "metadata": {},
   "outputs": [
    {
     "name": "stdout",
     "output_type": "stream",
     "text": [
      "{1: None, 2: None, 3: None}\n"
     ]
    }
   ],
   "source": [
    "a=(1,2,3)\n",
    "b=dict.fromkeys(a)\n",
    "print(b)"
   ]
  },
  {
   "cell_type": "raw",
   "id": "52168c9e-6ac2-4ece-b982-2410fa638129",
   "metadata": {},
   "source": [
    "# 4. get() - Returns the value of the specified key\n",
    "\"\"\" The get() method returns the value of the item with the specified key.\n",
    "Syntax : dictionary.get(keyname, value)\n",
    "1. keyname - Required. The keyname of the item you want to return the\n",
    " value from.\n",
    "2. value - Optional. A value to return if the specified key does not exist.\n",
    " Default value None. \"\"\""
   ]
  },
  {
   "cell_type": "raw",
   "id": "1f8058b3-491f-4b15-b549-fe747ddcf99c",
   "metadata": {},
   "source": [
    "a={'Name':'Sai Balaji','ID':1,'Percentage':100}\n",
    "b=a.get('rank')\n",
    "print(b)\n",
    "c={'Name':'Sai Balaji','ID':1,'Percentage':100}\n",
    "d=a.get('rank',1)\n",
    "print(d)"
   ]
  },
  {
   "cell_type": "code",
   "execution_count": 13,
   "id": "993f976c-3d44-4fdf-887e-1807fa263a6e",
   "metadata": {},
   "outputs": [
    {
     "name": "stdout",
     "output_type": "stream",
     "text": [
      "Mustang\n"
     ]
    }
   ],
   "source": [
    "carDict = {'brand': 'Ford','model': 'Mustang','year': 1964}\n",
    "d = carDict.get('model')\n",
    "print(d)               "
   ]
  },
  {
   "cell_type": "raw",
   "id": "e28ff017-f642-4e4a-9e78-7e3eadff24ee",
   "metadata": {},
   "source": [
    "# 5. items() - Returns a list containing a tuple for each key-value pair\n",
    "\"\"\" The items() method returns a view  object. The view object contains the\n",
    "key-value pairs of the dictionary, as tuples in a list.\n",
    "The view object will reflect any changes done to the dictionary.\n",
    "Syntax : dictionary.items() \"\"\""
   ]
  },
  {
   "cell_type": "code",
   "execution_count": 19,
   "id": "6e574f29-addd-4da0-b334-11e8f9c96300",
   "metadata": {},
   "outputs": [
    {
     "name": "stdout",
     "output_type": "stream",
     "text": [
      "dict_items([('Name', 'Sai Balaji'), ('ID', 1), ('Percentage', 100)])\n"
     ]
    }
   ],
   "source": [
    "a={'Name':'Sai Balaji','ID':1,'Percentage':100}\n",
    "b=a.items()\n",
    "print(b)"
   ]
  },
  {
   "cell_type": "code",
   "execution_count": 24,
   "id": "b84a78f6-f26f-4f5f-91be-ed557f7acf7e",
   "metadata": {},
   "outputs": [
    {
     "name": "stdout",
     "output_type": "stream",
     "text": [
      "{'Name': 'Sai Balaji', 'ID': 1, 'Percentage': 98}\n"
     ]
    }
   ],
   "source": [
    "a={'Name':'Sai Balaji','ID':1,'Percentage':100}\n",
    "b=a.items()\n",
    "a['Percentage']=98\n",
    "print(a)"
   ]
  },
  {
   "cell_type": "raw",
   "id": "100e3a39-835c-4385-bc99-9eda02b957cd",
   "metadata": {},
   "source": [
    "# 6. keys() - Returns a list containing the dictionaries keys\n",
    "\"\"\" The keys() method returns a view object. The view object contains the keys\n",
    "of the dictionary, as a list.\n",
    "The view object will reflect any changes done to the dictionary.\n",
    "Syntax : dictionary.keys() \"\"\""
   ]
  },
  {
   "cell_type": "code",
   "execution_count": 25,
   "id": "399bbd8a-f4b4-4ffb-8f82-04815eb40b39",
   "metadata": {},
   "outputs": [
    {
     "name": "stdout",
     "output_type": "stream",
     "text": [
      "dict_keys(['Name', 'ID', 'Percentage'])\n"
     ]
    }
   ],
   "source": [
    "a={'Name':'Sai Balaji','ID':1,'Percentage':100}\n",
    "b=a.keys()\n",
    "print(b)"
   ]
  },
  {
   "cell_type": "code",
   "execution_count": 26,
   "id": "d2ae6038-261f-4ff1-a0e1-f22fa8797d37",
   "metadata": {},
   "outputs": [
    {
     "name": "stdout",
     "output_type": "stream",
     "text": [
      "dict_keys(['Name', 'ID', 'Percentage', 'rank'])\n"
     ]
    }
   ],
   "source": [
    "a={'Name':'Sai Balaji','ID':1,'Percentage':100}\n",
    "b=a.keys()\n",
    "a['rank']=1\n",
    "print(b)"
   ]
  },
  {
   "cell_type": "raw",
   "id": "865d924a-79d4-4299-b352-682ad585507e",
   "metadata": {},
   "source": [
    "# 7. pop() - Removes the element with the specified key\n",
    "\"\"\" The pop() method removes the specified item from the dictionary.\n",
    "The value of the removed item is the return value of the pop() method.\n",
    "Syntax : dictionary.pop(keyname, defaultValue)\n",
    "1. keyname - Required. The keyname of the item you want to remove.\n",
    "2. defaultValue - Optional. A value to return if the specified key do not\n",
    " exist. If this parameter is not specified, and the no item with the specified\n",
    " key is not found, an error is raised. \"\"\"\n"
   ]
  },
  {
   "cell_type": "code",
   "execution_count": 28,
   "id": "e16d58a7-1b4c-42e2-928f-812b7a7dd1c8",
   "metadata": {},
   "outputs": [
    {
     "name": "stdout",
     "output_type": "stream",
     "text": [
      "{'Name': 'Sai Balaji', 'ID': 1}\n"
     ]
    }
   ],
   "source": [
    "a={'Name':'Sai Balaji','ID':1,'Percentage':100}\n",
    "a.pop('Percentage')\n",
    "print(a)"
   ]
  },
  {
   "cell_type": "raw",
   "id": "91d7d70e-9cac-4412-a226-1d0240763443",
   "metadata": {},
   "source": [
    "# 8. popitem() - Removes the last inserted key-value pair\n",
    "\"\"\" The popitem() method removes the item that was last inserted into the\n",
    "dictionary. In versions before 3.7, the popitem() method removes a random\n",
    "item.\n",
    "The removed item is the return value of the popitem() method, as a tuple.\n",
    "Syntax : dictionary.popitem() \"\"\""
   ]
  },
  {
   "cell_type": "code",
   "execution_count": 29,
   "id": "471a855e-6984-471f-a067-9cb981d5dfe0",
   "metadata": {},
   "outputs": [
    {
     "name": "stdout",
     "output_type": "stream",
     "text": [
      "{'Name': 'Sai Balaji', 'ID': 1}\n",
      "{'Name': 'Sai Balaji'}\n"
     ]
    }
   ],
   "source": [
    "a={'Name':'Sai Balaji','ID':1,'Percentage':100}\n",
    "a.popitem()\n",
    "print(a)\n",
    "a.popitem()\n",
    "print(a)"
   ]
  },
  {
   "cell_type": "raw",
   "id": "80d9a42d-5ff7-4758-a5c3-67118dd0f5f2",
   "metadata": {},
   "source": [
    "# 9. setdefault() - Returns the value of the specified key. If the key does\n",
    "# not exist: insert the key, with the specified value.\n",
    "\"\"\" The setdefault() method returns the value of the item with the specified\n",
    "key.\n",
    "If the key does not exist, insert the key, with the specified value.\n",
    "Syntax : dictionary.setdefault(keyname, value)\n",
    "1. keyname - Required. The keyname of the item you want to return the value\n",
    " from.\n",
    "2. value - Optional. If the key exists, this parameter has no effect. If the\n",
    " key does not exist, this value becomes the key's value. Default value None.\"\"\"\n",
    "#  Example-1 : Get the value of the 'model' item."
   ]
  },
  {
   "cell_type": "code",
   "execution_count": 31,
   "id": "9e9f116c-9f3d-49f7-ae18-457a4c82e925",
   "metadata": {},
   "outputs": [
    {
     "name": "stdout",
     "output_type": "stream",
     "text": [
      "{'Name': 'Sai Balaji', 'ID': 1, 'Percentage': 100}\n",
      "100\n"
     ]
    }
   ],
   "source": [
    "a={'Name':'Sai Balaji','ID':1,'Percentage':100}\n",
    "b=a.setdefault('Percentage',98)\n",
    "print(a)\n",
    "print(b)"
   ]
  },
  {
   "cell_type": "raw",
   "id": "bd3e3d8f-9b0b-4bcc-aa33-47ffa03892dd",
   "metadata": {},
   "source": [
    "# 10. update() - Updates the dictionary with the specified key-value pair\n",
    "\"\"\" The update() method inserts the specified items to the dictionary.\n",
    "The specified items can be a dictionary, or an iterable object with key-value\n",
    "pairs.\n",
    "Syntax : dictionary.update(iterable)\n",
    "iterable - A dictionary or an iterable object with key-value pairs, that will\n",
    " be inserted to the dictionary. \"\"\""
   ]
  },
  {
   "cell_type": "code",
   "execution_count": 33,
   "id": "a4d0c4de-64ce-44e0-9d06-355877a1b178",
   "metadata": {},
   "outputs": [
    {
     "name": "stdout",
     "output_type": "stream",
     "text": [
      "{'Name': 'Sai Balaji', 'ID': 1, 'Percentage': 100, 'rank': 1}\n"
     ]
    }
   ],
   "source": [
    "a={'Name':'Sai Balaji','ID':1,'Percentage':100}\n",
    "a.update({'rank':1})\n",
    "print(a)"
   ]
  },
  {
   "cell_type": "raw",
   "id": "c043dc0b-5edd-4e21-ac69-6b707b5b9f74",
   "metadata": {},
   "source": [
    "# 11. values() - Returns a list of all the values in the dictionary\n",
    "\"\"\" The values() method returns a view object. The view object contains the\n",
    "values of the dictionary as a list.\n",
    "The view object will reflect any changes done to the dictionary.\n",
    "Syntax : dictionary.values() \"\"\""
   ]
  },
  {
   "cell_type": "code",
   "execution_count": 34,
   "id": "8bb0ffbe-087e-4796-8cc0-5461a66fa860",
   "metadata": {},
   "outputs": [
    {
     "name": "stdout",
     "output_type": "stream",
     "text": [
      "dict_values(['Sai Balaji', 1, 100])\n"
     ]
    }
   ],
   "source": [
    "a={'Name':'Sai Balaji','ID':1,'Percentage':100}\n",
    "print(a.values())"
   ]
  },
  {
   "cell_type": "raw",
   "id": "eeab3900-3eec-45f0-896c-d99a3c45fd9a",
   "metadata": {},
   "source": [
    "# 12. del\n",
    "\"\"\" The del keyword removes the item with the specified key name. \"\"\""
   ]
  },
  {
   "cell_type": "code",
   "execution_count": 39,
   "id": "2df61f33-5199-47cf-a2f4-cc0f24d62d65",
   "metadata": {},
   "outputs": [
    {
     "name": "stdout",
     "output_type": "stream",
     "text": [
      "{'Name': 'Sai Balaji', 'ID': 1}\n"
     ]
    }
   ],
   "source": [
    "a={'Name':'Sai Balaji','ID':1,'Percentage':100}\n",
    "del a['Percentage']\n",
    "print(a)"
   ]
  },
  {
   "cell_type": "code",
   "execution_count": 41,
   "id": "f033a0ac-8641-46ad-b411-7b50f4f71f45",
   "metadata": {},
   "outputs": [
    {
     "name": "stdout",
     "output_type": "stream",
     "text": [
      "True\n",
      "False\n"
     ]
    }
   ],
   "source": [
    "a={'Name':'Sai Balaji','ID':1,'Percentage':100}\n",
    "if 'ID' in a:\n",
    "    print('True')\n",
    "if 'Id' in a:\n",
    "    print('True')\n",
    "else:\n",
    "    print('False')"
   ]
  },
  {
   "cell_type": "code",
   "execution_count": 42,
   "id": "820f5a48-2cb6-416e-b33d-39b09055c24c",
   "metadata": {},
   "outputs": [
    {
     "name": "stdout",
     "output_type": "stream",
     "text": [
      "3\n"
     ]
    }
   ],
   "source": [
    "a={'Name':'Sai Balaji','ID':1,'Percentage':100}\n",
    "print(len(a))"
   ]
  },
  {
   "cell_type": "raw",
   "id": "25068960-4158-45f0-88fa-74a2790a8c63",
   "metadata": {},
   "source": [
    "# Loop through a Dictionary :\n",
    "\"\"\" You can loop through a dictionary by using a for loop.\n",
    "When looping through a dictionary, the return values are the keys of the\n",
    "dictionary, but there are methods to return the values as well. \"\"\""
   ]
  },
  {
   "cell_type": "code",
   "execution_count": 45,
   "id": "c4246510-7d64-4202-8c7b-34a7fb8e4153",
   "metadata": {},
   "outputs": [
    {
     "name": "stdout",
     "output_type": "stream",
     "text": [
      "Name\n",
      "ID\n",
      "Percentage\n"
     ]
    }
   ],
   "source": [
    "a={'Name':'Sai Balaji','ID':1,'Percentage':100}\n",
    "for x in a:\n",
    "    print(x)"
   ]
  },
  {
   "cell_type": "code",
   "execution_count": 46,
   "id": "cd1aaec0-73a8-4e22-b484-95102843cb5b",
   "metadata": {},
   "outputs": [
    {
     "name": "stdout",
     "output_type": "stream",
     "text": [
      "Sai Balaji\n",
      "1\n",
      "100\n"
     ]
    }
   ],
   "source": [
    "a={'Name':'Sai Balaji','ID':1,'Percentage':100}\n",
    "for x in a:\n",
    "    print(a[x])"
   ]
  },
  {
   "cell_type": "code",
   "execution_count": 47,
   "id": "0de1d123-59fe-4dde-9c94-e4cfe6808c35",
   "metadata": {},
   "outputs": [
    {
     "name": "stdout",
     "output_type": "stream",
     "text": [
      "Name\n",
      "ID\n",
      "Percentage\n"
     ]
    }
   ],
   "source": [
    "a={'Name':'Sai Balaji','ID':1,'Percentage':100}\n",
    "for x in a.keys():\n",
    "    print(x)"
   ]
  },
  {
   "cell_type": "code",
   "execution_count": 48,
   "id": "98c6da61-c4f3-411f-9314-61fb32b7bf45",
   "metadata": {},
   "outputs": [
    {
     "name": "stdout",
     "output_type": "stream",
     "text": [
      "Sai Balaji\n",
      "1\n",
      "100\n"
     ]
    }
   ],
   "source": [
    "a={'Name':'Sai Balaji','ID':1,'Percentage':100}\n",
    "for x in a.values():\n",
    "    print(x)"
   ]
  },
  {
   "cell_type": "code",
   "execution_count": 49,
   "id": "e25e1fa7-893d-4622-b2db-74639447b17c",
   "metadata": {},
   "outputs": [
    {
     "name": "stdout",
     "output_type": "stream",
     "text": [
      "Name Sai Balaji\n",
      "ID 1\n",
      "Percentage 100\n"
     ]
    }
   ],
   "source": [
    "a={'Name':'Sai Balaji','ID':1,'Percentage':100}\n",
    "for x,y in a.items():\n",
    "    print(x,y)"
   ]
  },
  {
   "cell_type": "raw",
   "id": "27ba6836-65b2-4cc7-a2f7-e229b0ee3571",
   "metadata": {},
   "source": [
    "# Dictionaries - Dictionaries are used to store data values in key:value pairs.\n",
    "\"\"\" A dictionary is a collection which is unordered, it means that the items\n",
    "does not have a defined order, you cannot refer to an item by using an index.\n",
    "It is changeable, means that we can change, add or remove items after the\n",
    "dictionary has been created.\n",
    "It does not allow duplicates means cannot have two items with the same key.\n",
    "Dictionaries are written with curly brackets, and have keys and values.\n",
    "It can be referred by using the key name.\n",
    "The values in dictionary items can be of any data type. \"\"\""
   ]
  },
  {
   "cell_type": "code",
   "execution_count": 50,
   "id": "8ad7e896-566c-434f-bee6-0dd6bf47cfb7",
   "metadata": {},
   "outputs": [
    {
     "name": "stdout",
     "output_type": "stream",
     "text": [
      "{'Name': 'Sai Balaji', 'ID': 1, 'Percentage': 100}\n",
      "100\n"
     ]
    }
   ],
   "source": [
    "a={'Name':'Sai Balaji','ID':1,'Percentage':100}\n",
    "print(a)\n",
    "print(a['Percentage'])"
   ]
  },
  {
   "cell_type": "code",
   "execution_count": 51,
   "id": "34ce1846-c795-4ef0-8951-4be1126078b7",
   "metadata": {},
   "outputs": [
    {
     "name": "stdout",
     "output_type": "stream",
     "text": [
      "{'Name': 'Sai Balaji', 'ID': 1, 'Percentage': 98}\n"
     ]
    }
   ],
   "source": [
    "# Duplicate values will overwrite existing values.\n",
    "a={'Name':'Sai Balaji','ID':1,'Percentage':100,'Percentage':98}\n",
    "print(a)"
   ]
  },
  {
   "cell_type": "code",
   "execution_count": 52,
   "id": "dc7362bd-3044-40e6-9749-2ff05731ac28",
   "metadata": {},
   "outputs": [
    {
     "name": "stdout",
     "output_type": "stream",
     "text": [
      "{'num': 1, 'Profile': True, 1: 'balaji', 'id': 12.3}\n"
     ]
    }
   ],
   "source": [
    "a={'num':1,'Profile':True,1:'balaji','id':12.3}\n",
    "print(a)"
   ]
  },
  {
   "cell_type": "raw",
   "id": "93d4c33a-5487-401e-b26d-63a8ee9ac772",
   "metadata": {},
   "source": [
    "# Nested Dictionaries :\n",
    "\"\"\" A dictionary can contain dictionaries, this is called nested dictionaries.\n",
    "\"\"\""
   ]
  },
  {
   "cell_type": "code",
   "execution_count": 59,
   "id": "a84362ab-fa30-43d5-8a5b-ac7414fdd2ab",
   "metadata": {},
   "outputs": [
    {
     "name": "stdout",
     "output_type": "stream",
     "text": [
      "{'b': {'Name': 'Sai Balaji', 'Percentage': 69.3}, 'c': {'Name': 'chaithanya', 'Percentage': 69.6}, 'd': {'Name': 'upendra', 'Percentage': 65}}\n"
     ]
    }
   ],
   "source": [
    "a={\n",
    "    'b':{\n",
    "    'Name':'Sai Balaji',\n",
    "    'Percentage':69.3\n",
    "    },\n",
    "    'c':{\n",
    "    'Name':'chaithanya',\n",
    "    'Percentage':69.6\n",
    "    },\n",
    "    'd':{\n",
    "    'Name':'upendra',\n",
    "    'Percentage':65\n",
    "    }\n",
    "}\n",
    "print(a)"
   ]
  },
  {
   "cell_type": "code",
   "execution_count": 63,
   "id": "48cdcdfc-bc90-4b95-8b55-f4dd7c8c6a6d",
   "metadata": {},
   "outputs": [
    {
     "name": "stdout",
     "output_type": "stream",
     "text": [
      "{'b': {'Name': 'Sai Balaji', 'Percentage': 69.3}, 'c': {'Name': 'chaithanya', 'Percentage': 69.6}, 'd': {'Name': 'upendra', 'Percentage': 65}}\n"
     ]
    }
   ],
   "source": [
    "b={\n",
    "    'Name':'Sai Balaji',\n",
    "    'Percentage':69.3\n",
    "    }\n",
    "c={\n",
    "    'Name':'chaithanya',\n",
    "    'Percentage':69.6\n",
    "    }\n",
    "d={\n",
    "    'Name':'upendra',\n",
    "    'Percentage':65\n",
    "    }\n",
    "a={'b':b,'c':c,'d':d}\n",
    "print(a)"
   ]
  }
 ],
 "metadata": {
  "kernelspec": {
   "display_name": "Python 3 (ipykernel)",
   "language": "python",
   "name": "python3"
  },
  "language_info": {
   "codemirror_mode": {
    "name": "ipython",
    "version": 3
   },
   "file_extension": ".py",
   "mimetype": "text/x-python",
   "name": "python",
   "nbconvert_exporter": "python",
   "pygments_lexer": "ipython3",
   "version": "3.8.2"
  }
 },
 "nbformat": 4,
 "nbformat_minor": 5
}
