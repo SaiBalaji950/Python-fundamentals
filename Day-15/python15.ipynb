{
 "cells": [
  {
   "cell_type": "raw",
   "id": "ab4ffb78-1fb5-4afa-a6a4-34112db6f2d4",
   "metadata": {},
   "source": [
    "# Files & Directories\n",
    "\"\"\"\n",
    "We can work on our file/directory by creting, removing, checking & searching\n",
    "for file/directory using module called 'pathlib' which will provide\n",
    "object-oriented filesystem paths.\n",
    "We basically have 2 ways. They are :\n",
    "1. Absolute Path - Way of working with the path from the root of our Hard disk.\n",
    "   Example : (C:\\'ProgramFiles\\'....)\n",
    "2. Relative Path - Way of working with the path from our current directory we\n",
    "   are working on.\n",
    "Mostly we use Relative Path when we are working with files/directories.\n",
    "\"\"\""
   ]
  },
  {
   "cell_type": "code",
   "execution_count": 1,
   "id": "bb82565b-7c55-4033-82ce-97cbf895c845",
   "metadata": {},
   "outputs": [
    {
     "name": "stdout",
     "output_type": "stream",
     "text": [
      "False\n",
      "None\n",
      "None\n",
      "<generator object Path.glob at 0x000001DB0D0AE820>\n",
      "example.txt\n",
      "requirements.txt\n"
     ]
    }
   ],
   "source": [
    "from pathlib import Path\n",
    "path=Path('day-15')\n",
    "print(path.exists())\n",
    "path=Path('MKDIR')\n",
    "print(path.mkdir())\n",
    "print(path.rmdir())\n",
    "path=Path()\n",
    "print(path.glob('*.py'))\n",
    "path=Path()\n",
    "for file in path.glob('*.txt'):\n",
    "    print(file)"
   ]
  },
  {
   "cell_type": "raw",
   "id": "14f56980-04e0-49d9-a80c-5f9a7992e33d",
   "metadata": {},
   "source": [
    "# File Handling\n",
    "\"\"\"\n",
    "Python supports File Handling by allowing users to handle files. i.e, To read &\n",
    "write a file.\n",
    "Using python built-in method called open() we can open a specific file we want.\n",
    "open() - It takes 2 arguements : 1. file name 2. File Mode (Optional)\n",
    "File Modes : By Default Python considers 'r' which is of read mode.\n",
    "1. 'r' - for reading an existing file.\n",
    "2. 'w' - for writing into an existing file if file not exists it will create a\n",
    "         new one.\n",
    "3. 'a' - for appending new information into an existing file.  It won't\n",
    "         override existing data.\n",
    "4. 'r+' -  To read and write data into the file. This mode does not override\n",
    "           the existing data, but you can modify the data starting from the\n",
    "           beginning of the file.\n",
    "5. 'w+' - To write and read data. It overwrites the previous file if one\n",
    "          exists, it will truncate the file to zero length or create a file if\n",
    "          it does not exist.\n",
    "6. 'a+' - To append and read data from the file. It won't override existing\n",
    "          data.\n",
    "\"\"\""
   ]
  },
  {
   "cell_type": "code",
   "execution_count": 2,
   "id": "dfee649c-840a-4c3c-ac10-a94b7687ab77",
   "metadata": {},
   "outputs": [
    {
     "name": "stdout",
     "output_type": "stream",
     "text": [
      "this is a file handling demo text file\n"
     ]
    }
   ],
   "source": [
    "# 1. Python File Open\n",
    "# Working in Read mode\n",
    "# Working of open() function :\n",
    "a=open('demo.txt')\n",
    "for b in a:\n",
    "    print(b)"
   ]
  },
  {
   "cell_type": "code",
   "execution_count": 3,
   "id": "e9c54cee-6cbc-4f64-afcc-fe80b0e143be",
   "metadata": {},
   "outputs": [
    {
     "name": "stdout",
     "output_type": "stream",
     "text": [
      "this is a file handling demo text file\n"
     ]
    }
   ],
   "source": [
    "# Example-2 :\n",
    "#\"\"\"To extract a string that contains all characters in the Python file we can use file.read(). \"\"\"\n",
    "a=open('demo.txt','r')\n",
    "print(a.read())"
   ]
  },
  {
   "cell_type": "code",
   "execution_count": 4,
   "id": "822399f3-22c7-469f-a677-7c3cb94e0163",
   "metadata": {},
   "outputs": [
    {
     "name": "stdout",
     "output_type": "stream",
     "text": [
      "this is a file handling demo text file\n"
     ]
    }
   ],
   "source": [
    "with open('demo.txt','r') as f:\n",
    "    a=f.read()\n",
    "print(a)"
   ]
  },
  {
   "cell_type": "code",
   "execution_count": 6,
   "id": "7ba3cd01-0efd-4747-abd8-00ac3979c302",
   "metadata": {},
   "outputs": [
    {
     "name": "stdout",
     "output_type": "stream",
     "text": [
      "this \n",
      "is a file \n"
     ]
    }
   ],
   "source": [
    "# Example-4 :\n",
    "#\"\"\"Another way to read a file is to call a certain number of characters.To read the first five characters of stored data and return it as a string.\"\"\"\n",
    "a=open('demo.txt','r')\n",
    "print(a.read(5))\n",
    "print(a.read(10))"
   ]
  },
  {
   "cell_type": "code",
   "execution_count": 7,
   "id": "e068f319-9ac2-46d7-9927-5bc315f9e30e",
   "metadata": {},
   "outputs": [
    {
     "name": "stdout",
     "output_type": "stream",
     "text": [
      "['this is a file handling demo text file']\n"
     ]
    }
   ],
   "source": [
    "# Example-5 :\n",
    "#\"\"\"We can also split lines while reading files in Python. The split() functionsplits the variable when space is encountered. \n",
    "#You can also split using any characters as you wish.\"\"\"\n",
    "with open('demo.txt','r') as a:\n",
    "    b=a.readlines()\n",
    "    for c in b:\n",
    "        d=c.split()\n",
    "    print(b)"
   ]
  },
  {
   "cell_type": "code",
   "execution_count": 16,
   "id": "8f69d896-9224-4257-815b-3164baba59e2",
   "metadata": {},
   "outputs": [],
   "source": [
    "# 2. Creating a File using the write() Function.\n",
    "# Working in Write mode\n",
    "with open('new.py','w') as a:\n",
    "    b=a.write(\"Hello Balaji\")"
   ]
  },
  {
   "cell_type": "code",
   "execution_count": 17,
   "id": "15f8dcc1-03ec-4cf0-87dc-f564079ded4f",
   "metadata": {},
   "outputs": [
    {
     "name": "stdout",
     "output_type": "stream",
     "text": [
      "17\n"
     ]
    }
   ],
   "source": [
    "b=open('new.txt','a')\n",
    "b.write(\"appended new file\")\n",
    "c=b.tell()\n",
    "print(c)\n",
    "b.close()"
   ]
  },
  {
   "cell_type": "raw",
   "id": "f8913d68-3f35-4576-bd33-4e4bb9efb32c",
   "metadata": {},
   "source": [
    "\"\"\"\n",
    "There are also various other commands in Python file handling that are used to\n",
    "handle various tasks:\n",
    "\n",
    "1. rstrip(): This function strips each line of a file off spaces from the\n",
    "             right-hand side.\n",
    "2. lstrip(): This function strips each line of a file off spaces from the\n",
    "             left-hand side.\n",
    "It is designed to provide much cleaner syntax and exception handling when you\n",
    "are working with code.\n",
    "\n",
    "In Python, files can broadly be categorized into two types based on their mode\n",
    "of operation:\n",
    "\n",
    "1. Text Files: These store data in plain text format. Examples include .txt\n",
    "   files.\n",
    "2. Binary Files: These store data in binary format, which is not\n",
    "   human-readable. Examples include images, videos, and executable files.\n",
    "\n",
    "\n",
    "The four primary functions used for file handling in Python are:\n",
    "\n",
    "1. open(): Opens a file and returns a file object.\n",
    "2. read(): Reads data from a file.\n",
    "3. write(): Writes data to a file.\n",
    "4. close(): Closes the file, releasing its resources.\n",
    "5. tell(): returns the current position of the file pointer (cursor) within\n",
    "   the file.\n",
    "\"\"\""
   ]
  },
  {
   "cell_type": "code",
   "execution_count": 31,
   "id": "317829ac-3fe5-4173-b1f4-43f761c0a049",
   "metadata": {},
   "outputs": [
    {
     "name": "stdout",
     "output_type": "stream",
     "text": [
      "FileBalaji.txtcreated Successfully\n",
      "Hello Balaji\n",
      "\n",
      "text appended to fileBalaji.txtSuccessfully\n",
      "Hello Balaji\n",
      "this is additional file\n",
      "\n",
      "filename Balaji.txtwas renamed to new_Balaji.txtSuccessfully\n",
      "Hello Balaji\n",
      "this is additional file\n",
      "\n",
      "file was deleted new_Balaji.txtsuccessfully\n"
     ]
    }
   ],
   "source": [
    "import os\n",
    "def a(file):\n",
    "    try:\n",
    "        with open(file,'w') as f:\n",
    "            f.write(\"Hello Balaji\\n\")\n",
    "        print('File' +file+ 'created Successfully')\n",
    "    except IOError:\n",
    "        print(\"file was not created\",file)\n",
    "def b(file):\n",
    "    try:\n",
    "        with open(file,'r') as f:\n",
    "            B=f.read()\n",
    "        print(B)\n",
    "    except IOError:\n",
    "        print(\"file not reads\",file)\n",
    "def c(file,text):\n",
    "    try:\n",
    "        with open(file,'a') as f:\n",
    "            f.write(text)\n",
    "        print('text appended to file'+file+ 'Successfully')\n",
    "    except IOError:\n",
    "        print(\"File was not appended\",file)\n",
    "def d(file,new_file):\n",
    "    try:\n",
    "        os.rename(file,new_file)\n",
    "        print('filename ' + file + 'was renamed to ' + new_file + 'Successfully')\n",
    "    except IOError: \n",
    "        print('File was not renamed',file)\n",
    "def e(file):\n",
    "    try:\n",
    "        os.remove(file)\n",
    "        print('file was deleted '+file+ 'successfully')\n",
    "    except IOError:\n",
    "        print('file was not deleted',file)\n",
    "if __name__=='__main__':\n",
    "    file='Balaji.txt'\n",
    "    new_file='new_Balaji.txt'\n",
    "    a(file)\n",
    "    b(file)\n",
    "    c(file,'this is additional file\\n')\n",
    "    b(file)\n",
    "    d(file,new_file)\n",
    "    b(new_file)\n",
    "    e(new_file)"
   ]
  }
 ],
 "metadata": {
  "kernelspec": {
   "display_name": "Python 3 (ipykernel)",
   "language": "python",
   "name": "python3"
  },
  "language_info": {
   "codemirror_mode": {
    "name": "ipython",
    "version": 3
   },
   "file_extension": ".py",
   "mimetype": "text/x-python",
   "name": "python",
   "nbconvert_exporter": "python",
   "pygments_lexer": "ipython3",
   "version": "3.8.2"
  }
 },
 "nbformat": 4,
 "nbformat_minor": 5
}
