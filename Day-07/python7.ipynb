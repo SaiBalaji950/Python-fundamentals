{
 "cells": [
  {
   "cell_type": "code",
   "execution_count": 1,
   "id": "6783bbc9-3f3b-4a4c-814d-f3629edee5ac",
   "metadata": {},
   "outputs": [
    {
     "name": "stdin",
     "output_type": "stream",
     "text": [
      "Enter Decimal Number: 10\n"
     ]
    },
    {
     "name": "stdout",
     "output_type": "stream",
     "text": [
      "Quotient Remaider Binary\n",
      "    5       0           0\n",
      "    2       1          10\n",
      "    1       0         010\n",
      "    0       1        1010\n",
      "Binary Number : 1010\n"
     ]
    }
   ],
   "source": [
    "a=int(input(\"Enter Decimal Number:\"))\n",
    "if(a==0):\n",
    "    print(0)\n",
    "\n",
    "else:\n",
    "    print(\"Quotient Remaider Binary\")\n",
    "    b=\"\"\n",
    "    while(a>0):\n",
    "        remainder=a % 2\n",
    "        a=a // 2\n",
    "        b=str(remainder)+b\n",
    "        print(\"%5d%8d%12s\" % (a,remainder,b))\n",
    "print('Binary Number :',b)"
   ]
  },
  {
   "cell_type": "code",
   "execution_count": 3,
   "id": "0797f9dd-bf4d-44be-b0d8-fb77d66572e5",
   "metadata": {},
   "outputs": [
    {
     "name": "stdin",
     "output_type": "stream",
     "text": [
      "Enter Decimal Number: 103\n"
     ]
    },
    {
     "name": "stdout",
     "output_type": "stream",
     "text": [
      "Quotient Remaider Binary\n",
      "   51       1           1\n",
      "   25       1          11\n",
      "   12       1         111\n",
      "    6       0        0111\n",
      "    3       0       00111\n",
      "    1       1      100111\n",
      "    0       1     1100111\n",
      "Binary Number : 1100111\n"
     ]
    }
   ],
   "source": [
    "a=int(input(\"Enter Decimal Number:\"))\n",
    "if(a==0):\n",
    "    print(0)\n",
    "\n",
    "else:\n",
    "    print(\"Quotient Remaider Binary\")\n",
    "    b=\"\"\n",
    "    while(a>0):\n",
    "        remainder=a % 2\n",
    "        a=a // 2\n",
    "        b=str(remainder)+b\n",
    "        print(\"%5d%8d%12s\" % (a,remainder,b))\n",
    "print('Binary Number :',b)"
   ]
  },
  {
   "cell_type": "code",
   "execution_count": 7,
   "id": "6ab84b88-0b7a-4fe0-afc7-a29903316db9",
   "metadata": {},
   "outputs": [
    {
     "name": "stdout",
     "output_type": "stream",
     "text": [
      "Balaji is a good boy\n",
      "balaji is a good boy\n"
     ]
    }
   ],
   "source": [
    "a=\"balaji is a good boy\"\n",
    "print(a.capitalize())\n",
    "b=\"Balaji Is A Good Boy\"\n",
    "print(b.casefold())"
   ]
  },
  {
   "cell_type": "code",
   "execution_count": 9,
   "id": "dd64c8dc-9d8c-411f-878e-78ab2aaff210",
   "metadata": {},
   "outputs": [
    {
     "name": "stdout",
     "output_type": "stream",
     "text": [
      "a is correct\n"
     ]
    }
   ],
   "source": [
    "a=\"Balaji\"\n",
    "b=\"balaji\"\n",
    "if a.casefold()==b.casefold():\n",
    "    print('a is correct')\n",
    "else:\n",
    "    print('b is correct')"
   ]
  },
  {
   "cell_type": "code",
   "execution_count": 14,
   "id": "5e2e1373-07ec-4286-8bc0-094cf7721689",
   "metadata": {},
   "outputs": [
    {
     "name": "stdout",
     "output_type": "stream",
     "text": [
      "        Engineering         \n",
      "                                                                     Engineering                                                                      \n",
      "aaaaaaaaaaaaaaaaaaaEngineeringaaaaaaaaaaaaaaaaaaaa\n",
      "bbbbEngineeringbbbbb\n"
     ]
    }
   ],
   "source": [
    "#center\n",
    "a='Engineering'\n",
    "print(a.center(28))\n",
    "print(a.center(150))\n",
    "print(a.center(50,'a'))\n",
    "print(a.center(20,'b'))"
   ]
  },
  {
   "cell_type": "code",
   "execution_count": 15,
   "id": "d188e729-500e-4be2-b395-628344b9b0ea",
   "metadata": {},
   "outputs": [
    {
     "name": "stdout",
     "output_type": "stream",
     "text": [
      "1\n",
      "3\n",
      "1\n"
     ]
    }
   ],
   "source": [
    "#count\n",
    "a='I am good Boy and I am innocent and is am i Wrong ?'\n",
    "print(a.count('good'))\n",
    "print(a.count('am'))\n",
    "print(a.count('?'))"
   ]
  },
  {
   "cell_type": "code",
   "execution_count": null,
   "id": "e6041bba-b9d9-45cf-a75a-220e7d88034d",
   "metadata": {},
   "outputs": [],
   "source": [
    "# 5. encode() - Returns an encoded version of the string\n",
    "\"\"\" The encode() method encodes the string, using the specified encoding.\n",
    "If no encoding is specified, UTF-8 will be used.\n",
    "Syntax : string.encode(encoding=encoding, errors=errors)\n",
    "1. encoding - Optional. A string specifying the encoding to use.\n",
    "Default is UTF-8.\n",
    "2. errors - Optional. A string specifying the error method.\n",
    "Legal values are :\n",
    " i) 'backslashreplace' - Uses a backslash instead of the character that\n",
    "could not be encoded.\n",
    " ii) 'ignore' - Ignores the characters that cannot be encoded.\n",
    " iii) 'namereplace' - Replaces the character with a text explaining the\n",
    "character.\n",
    " iv) 'strict' - Default, raises an error on failure.\n",
    " v) 'replace' - Replaces the character with a questionmark.\n",
    " vi) 'xmlcharrefreplace' - Replaces the character with an xml character. \"\"\""
   ]
  },
  {
   "cell_type": "code",
   "execution_count": 16,
   "id": "fbdd4293-6296-43d5-babc-60c0154ee8cf",
   "metadata": {},
   "outputs": [
    {
     "name": "stdout",
     "output_type": "stream",
     "text": [
      "b'My Name is Vennelakanti Sai Balaji'\n",
      "b'My Name is Vennelakanti Sai Balaji'\n",
      "b'My Name is Vennelakanti Sai Balaji'\n",
      "b'My Name is Vennelakanti Sai Balaji'\n",
      "b'My Name is Vennelakanti Sai Balaji'\n",
      "b'My Name is Vennelakanti Sai Balaji'\n"
     ]
    }
   ],
   "source": [
    "a='My Name is Vennelakanti Sai Balaji'\n",
    "print(a.encode(encoding='ascii',errors='backlashreplace'))\n",
    "print(a.encode(encoding='ascii',errors='ignore'))\n",
    "print(a.encode(encoding='ascii',errors='namereplace'))\n",
    "print(a.encode(encoding='ascii',errors='strict'))\n",
    "print(a.encode(encoding='ascii',errors='replace'))\n",
    "print(a.encode(encoding='ascii',errors='xmlcharrefreplace'))"
   ]
  },
  {
   "cell_type": "code",
   "execution_count": null,
   "id": "756b999f-f356-4064-9fcc-8d9dfc7bc2ef",
   "metadata": {},
   "outputs": [],
   "source": [
    "# 6. endswith() - Returns True if the string ends with the specified value,\n",
    "# Otherwise False\n",
    "\"\"\" Syntax : string.endswith(value, start, end)\n",
    " 1. value - Required. The value to check if the string ends with.\n",
    " 2. start - Optional. An integer specifying at which position to start\n",
    "the search.\n",
    " 3. end - Optional. An integer specifying at which position to end the search.\n",
    "\"\"\""
   ]
  },
  {
   "cell_type": "code",
   "execution_count": 17,
   "id": "643ac907-ee87-4921-82db-f8bfeb03e126",
   "metadata": {},
   "outputs": [
    {
     "name": "stdout",
     "output_type": "stream",
     "text": [
      "True\n",
      "False\n"
     ]
    }
   ],
   "source": [
    "a='balaji'\n",
    "print(a.endswith('ji'))\n",
    "print(a.endswith('b'))"
   ]
  },
  {
   "cell_type": "code",
   "execution_count": null,
   "id": "7059210b-8728-48a6-8283-bb7d76653e75",
   "metadata": {},
   "outputs": [],
   "source": [
    "expandtabs() - Sets the tab size to the number of specified number of\n",
    "# whitespaces.\n",
    "\"\"\" string.exandtabs(tabsize)\n",
    "tabsize - Optional. A number specifying the tabsize.\n",
    "Default tabsize is 8. "
   ]
  },
  {
   "cell_type": "code",
   "execution_count": 19,
   "id": "c3ab8957-7aef-438b-91a6-ba75e7bfc791",
   "metadata": {},
   "outputs": [
    {
     "name": "stdout",
     "output_type": "stream",
     "text": [
      "b       a       l       a       j       i\n",
      "b a l a j i\n",
      "b         a         l         a         j         i\n",
      "b              a              l              a              j              i\n"
     ]
    }
   ],
   "source": [
    "a='b\\ta\\tl\\ta\\tj\\ti'\n",
    "print(a.expandtabs())\n",
    "print(a.expandtabs(2))\n",
    "print(a.expandtabs(10))\n",
    "print(a.expandtabs(15))"
   ]
  },
  {
   "cell_type": "code",
   "execution_count": null,
   "id": "6784c2b0-5230-4d17-a83c-3669f3fadb08",
   "metadata": {},
   "outputs": [],
   "source": [
    "# 8. find() - Searches the string  for a specified value and returns the\n",
    "# position of where it was found.\n",
    "\"\"\" The find() method finds the first occurrence of the specified value.\n",
    "The find() method returns -1 if the value is not found.\n",
    "The find() method is almost the same as the index() method, the only\n",
    "difference is that the index() method raises an exception if the value\n",
    "is not found.\n",
    "Syntax : string.find(value, start, end)\n",
    "1. value - Required. The value to search for.\n",
    "2. start - Optional. Where to start the search. Default is 0.\n",
    "3. end - Optional. Where to end the search. Default is the end of the string."
   ]
  },
  {
   "cell_type": "code",
   "execution_count": 28,
   "id": "201ca1c0-33ff-49fd-a3bb-117e1563dcf9",
   "metadata": {},
   "outputs": [
    {
     "name": "stdout",
     "output_type": "stream",
     "text": [
      "1\n",
      "1\n",
      "5\n",
      "7\n"
     ]
    }
   ],
   "source": [
    "a='sai balaji'\n",
    "print(a.find('a'))\n",
    "print(a.find('a',0,8))\n",
    "print(a.find('a',3,8))\n",
    "print(a.find('a',6,8))"
   ]
  },
  {
   "cell_type": "code",
   "execution_count": null,
   "id": "2a8e21b1-ad1c-4b6f-b240-93d35c5cb5cc",
   "metadata": {},
   "outputs": [],
   "source": [
    " 9. index() - Searches the string for a specified value and returns the\n",
    "# position of where it was found.\n",
    "\"\"\" The index() method finds the first occurrence of the specified value.\n",
    "The index() method raises an exception if the value is not found.\n",
    "The index() method is almost the same as the find() method, the only difference\n",
    "is that the find() method returns -1 if the value is not found.\n",
    "Syntax : string.index(value, start, end)\n",
    "1. value - Required. The value to search for.\n",
    "2. start - Optional. Where to start the search. Default is 0.\n",
    "3. end - Optional. Where to end the search. Default is to the end of the\n",
    "string. \"\"\""
   ]
  },
  {
   "cell_type": "code",
   "execution_count": 29,
   "id": "a0c5b42c-f0ca-4238-a2e7-9d73df700fda",
   "metadata": {},
   "outputs": [
    {
     "name": "stdout",
     "output_type": "stream",
     "text": [
      "1\n",
      "7\n"
     ]
    }
   ],
   "source": [
    "a='sai balaji'\n",
    "print(a.index('a'))\n",
    "print(a.index('a',6,8))"
   ]
  },
  {
   "cell_type": "code",
   "execution_count": null,
   "id": "cd73a983-5359-42fa-b460-a047914e65e9",
   "metadata": {},
   "outputs": [],
   "source": [
    " isalnum() - Returns True if all characters in the string are\n",
    "# alphanumeric (combination of both alphabets & numbers).\n",
    "\"\"\" The isalnum() method returns True if all the characters are alphanumeric,\n",
    "meaning alphabet letter (a-z) and numbers (0-9).\n",
    "Example of characters that are not alphanumeric:(space)!#%&? etc.,\n",
    "Syntax : string.isalnum() \"\"\""
   ]
  },
  {
   "cell_type": "code",
   "execution_count": 40,
   "id": "bfe1071b-97dd-433a-84c9-71e525523090",
   "metadata": {},
   "outputs": [
    {
     "name": "stdout",
     "output_type": "stream",
     "text": [
      "True\n",
      "False\n",
      "False\n"
     ]
    }
   ],
   "source": [
    "a='balaji950'\n",
    "print(a.isalnum())\n",
    "b='balaji 950'\n",
    "print(b.isalnum())\n",
    "c='balaji@950'\n",
    "print(c.isalnum())"
   ]
  },
  {
   "cell_type": "code",
   "execution_count": null,
   "id": "ad48519e-a5e2-40bb-a897-cd0551b65c86",
   "metadata": {},
   "outputs": [],
   "source": [
    "11. isalpha() - Returns True if all characters in the string are in the\n",
    "# alphabet.\n",
    "\"\"\" The isalpha() method returns True if all the characters are alphabet\n",
    "letters(a-z).\n",
    "Example of characters that are not alphabet letters:(space)!#%&? etc.,\n",
    "Syntax : string.alpha() \"\"\""
   ]
  },
  {
   "cell_type": "code",
   "execution_count": 41,
   "id": "704bf950-682d-411c-8eb2-7f91bf2c4aff",
   "metadata": {},
   "outputs": [
    {
     "name": "stdout",
     "output_type": "stream",
     "text": [
      "True\n",
      "False\n"
     ]
    }
   ],
   "source": [
    "a='balaji'\n",
    "print(a.isalpha())\n",
    "b='balaji 950'\n",
    "print(b.isalpha())"
   ]
  },
  {
   "cell_type": "code",
   "execution_count": null,
   "id": "f9c9c210-7db0-4f2f-8b20-a1bba8f6bde4",
   "metadata": {},
   "outputs": [],
   "source": [
    "# 12. isdecimal() - Returns True if all characters in the string are decimals\n",
    "\"\"\" The isdecimal() method returns True if all the characters are decimals(0-9)\n",
    "This method is used on unicode objects.\n",
    "Syntax : string.isdecimal() \"\"\""
   ]
  },
  {
   "cell_type": "code",
   "execution_count": 44,
   "id": "11b1edb7-3adb-411f-854f-eebe479ed6d2",
   "metadata": {},
   "outputs": [
    {
     "name": "stdout",
     "output_type": "stream",
     "text": [
      "True\n"
     ]
    }
   ],
   "source": [
    "a='10'\n",
    "print(a.isdecimal())"
   ]
  },
  {
   "cell_type": "code",
   "execution_count": 45,
   "id": "fd983fb0-edea-4de0-9ab4-a0870bc21cab",
   "metadata": {},
   "outputs": [
    {
     "name": "stdout",
     "output_type": "stream",
     "text": [
      "True\n"
     ]
    }
   ],
   "source": [
    "word_decimal = \"\\u0033\"\n",
    "print(word_decimal.isdecimal())  "
   ]
  },
  {
   "cell_type": "code",
   "execution_count": null,
   "id": "f25c3f20-2cf9-40ad-aefc-c496f050d10f",
   "metadata": {},
   "outputs": [],
   "source": [
    "# 13. isdigit() - Returns True if all characters in the string are digits\n",
    "\"\"\" The isdigit() method returns True if all the characters are digits,\n",
    "Otherwise False.\n",
    "Exponents like ² are also considered to be a digit.\n",
    "Syntax : string.isdigit() \"\"\""
   ]
  },
  {
   "cell_type": "code",
   "execution_count": 47,
   "id": "3e4611d3-c879-461a-99f5-90dbdccd892c",
   "metadata": {},
   "outputs": [
    {
     "name": "stdout",
     "output_type": "stream",
     "text": [
      "True\n",
      "True\n"
     ]
    }
   ],
   "source": [
    "zero_unicode = \"\\u0030\"             \n",
    "square_unicode = \"\\u00B2\"           \n",
    "print(zero_unicode.isdigit())       \n",
    "print(square_unicode.isdigit())     "
   ]
  },
  {
   "cell_type": "code",
   "execution_count": 49,
   "id": "fe60f1cf-5f63-430f-ba67-aee452930b00",
   "metadata": {},
   "outputs": [
    {
     "name": "stdout",
     "output_type": "stream",
     "text": [
      "True\n",
      "False\n"
     ]
    }
   ],
   "source": [
    "a='10'\n",
    "print(a.isdigit())\n",
    "b='sai'\n",
    "print(b.isdigit())"
   ]
  },
  {
   "cell_type": "code",
   "execution_count": null,
   "id": "fb7146a8-9c5b-4c65-a5cb-d71606ca25fc",
   "metadata": {},
   "outputs": [],
   "source": [
    "14. isidentifier() - Returns True if the string is an identifier\n",
    "\"\"\" A string is considered a valid identifier if it only contains alphanumeric\n",
    "letters (a-z) and (0-9) or underscores (_).\n",
    "A valid identifier cannot start with a number, or contain any spaces.\n",
    "Syntax : string.isidentifier() \"\"\""
   ]
  },
  {
   "cell_type": "code",
   "execution_count": 51,
   "id": "4c543c8a-e28f-4822-8d0c-68a7688bde18",
   "metadata": {},
   "outputs": [
    {
     "name": "stdout",
     "output_type": "stream",
     "text": [
      "True\n",
      "False\n",
      "True\n",
      "False\n"
     ]
    }
   ],
   "source": [
    "a='balaji123'\n",
    "b='123balaji'\n",
    "c='sai_balaji'\n",
    "d=' saibalaji'\n",
    "print(a.isidentifier())\n",
    "print(b.isidentifier())\n",
    "print(c.isidentifier())\n",
    "print(d.isidentifier())"
   ]
  },
  {
   "cell_type": "code",
   "execution_count": null,
   "id": "f3e514ef-93f9-49bc-a04d-acb2e3e4ff48",
   "metadata": {},
   "outputs": [],
   "source": [
    "# 15. islower() - Returns True if all characters in the string are lower case\n",
    "\"\"\" The islower() method returns True if all the characters are in lower case\n",
    "Otherwise False.\n",
    "Numbers, Symbols and Spaces are not checked, only alphabet characters.\n",
    "Syntax : string.islower() \"\"\""
   ]
  },
  {
   "cell_type": "code",
   "execution_count": 53,
   "id": "0b8c4b5c-6cc2-4823-a8f4-3c7344173210",
   "metadata": {},
   "outputs": [
    {
     "name": "stdout",
     "output_type": "stream",
     "text": [
      "True\n",
      "False\n"
     ]
    }
   ],
   "source": [
    "a='balaji'\n",
    "print(a.islower())\n",
    "b='Balaji'\n",
    "print(b.islower())"
   ]
  },
  {
   "cell_type": "code",
   "execution_count": null,
   "id": "27b4264d-8093-44a2-b3ff-1ddcf18a9de5",
   "metadata": {},
   "outputs": [],
   "source": [
    "# 16. isnumeric() - Returns True if all the characters in the string\n",
    "# are numeric, Otherwise False.\n",
    "\"\"\" The isnumeric() method returns True if all the characters are numeric\n",
    "(0-9), Otherwise False.\n",
    "Exponents, like ² and ¾ are also considered to be numeric values.\n",
    "Syntax : string.numeric() \"\"\""
   ]
  },
  {
   "cell_type": "code",
   "execution_count": 54,
   "id": "671f6f80-81fd-4621-acd8-36656025dcf1",
   "metadata": {},
   "outputs": [
    {
     "name": "stdout",
     "output_type": "stream",
     "text": [
      "True\n",
      "True\n",
      "False\n"
     ]
    }
   ],
   "source": [
    "x = \"\\u0030\"        # Unicode for 0\n",
    "y = \"\\u00B2\"        # Unicode for ²\n",
    "z = \"10km2\"\n",
    "print(x.isnumeric())                    # True\n",
    "print(y.isnumeric())                    # True\n",
    "print(z.isnumeric())                    # False"
   ]
  },
  {
   "cell_type": "code",
   "execution_count": 57,
   "id": "73e8d2f9-05f4-4a10-9657-9c27930de2b3",
   "metadata": {},
   "outputs": [
    {
     "name": "stdout",
     "output_type": "stream",
     "text": [
      "True\n",
      "True\n",
      "False\n"
     ]
    }
   ],
   "source": [
    "a='16'\n",
    "b='81'\n",
    "d='8z'\n",
    "print(a.isnumeric())\n",
    "print(b.isnumeric())\n",
    "print(d.isnumeric())"
   ]
  },
  {
   "cell_type": "code",
   "execution_count": null,
   "id": "f2271753-cf5a-4ec2-9951-49d5a1c3455e",
   "metadata": {},
   "outputs": [],
   "source": [
    "# 17. isprintable()- Returns True if all characters in the string are printable\n",
    "\"\"\" The isprintable() method returns True if all the characters are printable,\n",
    "Otherwise False.\n",
    "Example of non-printable character can be carriage return and line feed.\n",
    "Syntax : string.isprintable() \"\"\""
   ]
  },
  {
   "cell_type": "code",
   "execution_count": 60,
   "id": "e4cce8b7-4090-4f7d-b266-e470c0e964d4",
   "metadata": {},
   "outputs": [
    {
     "name": "stdout",
     "output_type": "stream",
     "text": [
      "True\n",
      "False\n"
     ]
    }
   ],
   "source": [
    "a='balaji!'\n",
    "b='b\\na\\t'\n",
    "print(a.isprintable())\n",
    "print(b.isprintable())"
   ]
  },
  {
   "cell_type": "code",
   "execution_count": null,
   "id": "1cce6e42-9be9-4f58-8109-ddafc5d42a20",
   "metadata": {},
   "outputs": [],
   "source": [
    "8. isspace() - Returns True if all characters in the string are whitespaces\n",
    "\"\"\" The isspace() method returns True if all the characters in a string are\n",
    "whitespaces, Otherwise False.\n",
    "Syntax : string.isspace() \"\"\""
   ]
  },
  {
   "cell_type": "code",
   "execution_count": 79,
   "id": "b36902a0-6b38-4d0e-9fc0-56c7af711ff3",
   "metadata": {},
   "outputs": [
    {
     "name": "stdout",
     "output_type": "stream",
     "text": [
      "False\n"
     ]
    }
   ],
   "source": [
    "a='sai balaji'\n",
    "print(a.isspace())"
   ]
  },
  {
   "cell_type": "code",
   "execution_count": 78,
   "id": "3cfa0354-da3e-4133-a31c-e75d4eff92c9",
   "metadata": {},
   "outputs": [
    {
     "name": "stdout",
     "output_type": "stream",
     "text": [
      "True\n"
     ]
    }
   ],
   "source": [
    "a = \" \"\n",
    "print(a.isspace()) "
   ]
  },
  {
   "cell_type": "code",
   "execution_count": 81,
   "id": "2d1a6d9f-cb83-4dfe-ad7f-30fd2a47d5a0",
   "metadata": {},
   "outputs": [
    {
     "name": "stdout",
     "output_type": "stream",
     "text": [
      "True\n"
     ]
    }
   ],
   "source": [
    "a=' '\n",
    "print(a.isspace())"
   ]
  },
  {
   "cell_type": "code",
   "execution_count": null,
   "id": "94d79e5f-97c5-48a2-95e0-c484173b3a2c",
   "metadata": {},
   "outputs": [],
   "source": [
    "# 19. istitle() - Returns True if the string follows the rules of a title\n",
    "\"\"\" The istitle() method returns True if all words in the string start with a\n",
    "upper case letter, and the rest of the word are lower case letters,\n",
    "Otherwise False.\n",
    "Symbols and numbers are ignored.\n",
    "Syntax : string.istitle() \"\"\""
   ]
  },
  {
   "cell_type": "code",
   "execution_count": 85,
   "id": "697594c1-7dac-42c5-84de-e9935aec27c9",
   "metadata": {},
   "outputs": [
    {
     "name": "stdout",
     "output_type": "stream",
     "text": [
      "True\n",
      "False\n"
     ]
    }
   ],
   "source": [
    "a='Balaji'\n",
    "print(a.istitle())\n",
    "b='balaji'\n",
    "print(b.istitle())"
   ]
  },
  {
   "cell_type": "code",
   "execution_count": null,
   "id": "f062ca78-290a-4c1a-a35b-ba77be3d4726",
   "metadata": {},
   "outputs": [],
   "source": [
    "# 20. isupper() - Returns True if all characters in the string are uppercase\n",
    "\"\"\" The isupper() method returns True if all the characters are in upper case,\n",
    "Othewise False.\n",
    "Numbers, Symbols & Spaces are not checked, only alphabet characters.\n",
    "Syntax : string.isupper() \"\"\""
   ]
  },
  {
   "cell_type": "code",
   "execution_count": 87,
   "id": "7d74a1fd-d7f9-4752-8b6e-d5594bb65865",
   "metadata": {},
   "outputs": [
    {
     "name": "stdout",
     "output_type": "stream",
     "text": [
      "True\n",
      "False\n"
     ]
    }
   ],
   "source": [
    "a='BALAJI'\n",
    "print(a.isupper())\n",
    "a='balaji'\n",
    "print(a.isupper())"
   ]
  },
  {
   "cell_type": "code",
   "execution_count": 89,
   "id": "5735f8aa-8514-4c0a-85b9-5707073d4cf6",
   "metadata": {},
   "outputs": [
    {
     "name": "stdout",
     "output_type": "stream",
     "text": [
      "True\n"
     ]
    }
   ],
   "source": [
    "a='SAI_BALAJI'\n",
    "print(a.isupper())"
   ]
  },
  {
   "cell_type": "code",
   "execution_count": null,
   "id": "03572b1b-b903-40bc-9f6a-c2963c8432e7",
   "metadata": {},
   "outputs": [],
   "source": [
    "# 21. join() - Joins the elements of an iterable to the end of the string\n",
    "\"\"\" The join() method takes all items in an iterable and joins them into\n",
    "one string.\n",
    "A string must be specified as the separator.\n",
    "Syntax : string.join(iterable)\n",
    "iterable - Required. Any iterable object where all the returned values\n",
    " are strings.\"\"\""
   ]
  },
  {
   "cell_type": "code",
   "execution_count": 92,
   "id": "03b2f249-032e-49a3-9054-cf8926b5a978",
   "metadata": {},
   "outputs": [
    {
     "name": "stdout",
     "output_type": "stream",
     "text": [
      "balaji,sai,vennelakanti\n"
     ]
    }
   ],
   "source": [
    "a=('balaji','sai','vennelakanti')\n",
    "print(','.join(a))"
   ]
  },
  {
   "cell_type": "code",
   "execution_count": null,
   "id": "973f6f60-6efe-465d-8837-f6954efc6638",
   "metadata": {},
   "outputs": [],
   "source": [
    "# 22. ljust() - Returns a left justified version of the string\n",
    "\"\"\" The ljust() method will left align the string, using a specified\n",
    "character (space is default) as the fill character.\n",
    "Syntax : string.ljust(length, character)\n",
    "1. length - Required. The length of the returned string.\n",
    "2. Optional - A character to fill the missing space (to the right of the\n",
    "string). Default is ' ' (space). \"\"\""
   ]
  },
  {
   "cell_type": "code",
   "execution_count": 95,
   "id": "caedac5b-7293-4ac8-96df-f276394056f4",
   "metadata": {},
   "outputs": [
    {
     "name": "stdout",
     "output_type": "stream",
     "text": [
      "mahesh babu               is Super Star Forever\n"
     ]
    }
   ],
   "source": [
    "a='mahesh babu'\n",
    "print(a.ljust(25),\"is Super Star Forever\")"
   ]
  },
  {
   "cell_type": "code",
   "execution_count": null,
   "id": "1fd30ce2-7638-4e94-8159-59c5320c12ce",
   "metadata": {},
   "outputs": [],
   "source": [
    "# 23. lower() - Converts a string into lower case\n",
    "\"\"\" The lower() method returns a string where all characters are lowercase.\n",
    "Symbols and Numbers are ignored.\n",
    "Syntax : string.lower() \"\"\""
   ]
  },
  {
   "cell_type": "code",
   "execution_count": 96,
   "id": "7d5f0ed9-9802-4644-9426-df5b98abf38b",
   "metadata": {},
   "outputs": [
    {
     "name": "stdout",
     "output_type": "stream",
     "text": [
      "balaji\n"
     ]
    }
   ],
   "source": [
    "a='BALAJI'\n",
    "print(a.lower())"
   ]
  },
  {
   "cell_type": "code",
   "execution_count": null,
   "id": "f088d3e3-da38-486a-944e-c842408a8df6",
   "metadata": {},
   "outputs": [],
   "source": [
    "# 24. replace() - Returns a string where a specified value is replaced with a\n",
    "# specified value.\n",
    "\"\"\" The replace() method replaces a specified phrase with another specified\n",
    "phrase.\n",
    "Note : All occurrences of the specified phrase will be replaced, if nothing\n",
    "else is specified.\n",
    "Syntax : string.replace(oldValue, newValue, count)\n",
    "1. oldValue - Required. The string to search for.\n",
    "2. newValue - Required. The string to replace the old value with.\n",
    "3. count - Optional. A number specifying how many occurrences of the old value\n",
    "you want to replace. Default is all occurrences. \"\"\""
   ]
  },
  {
   "cell_type": "code",
   "execution_count": 98,
   "id": "2ac55d37-01f5-475c-bafc-b7c8bef4e645",
   "metadata": {},
   "outputs": [
    {
     "name": "stdout",
     "output_type": "stream",
     "text": [
      "Mahesh Babu is Global Super Star\n"
     ]
    }
   ],
   "source": [
    "a='Mahesh Babu is Super Star'\n",
    "print(a.replace('Super','Global Super'))"
   ]
  },
  {
   "cell_type": "code",
   "execution_count": 1,
   "id": "921f03f5-1445-4ddb-b6e6-70871a9dc784",
   "metadata": {},
   "outputs": [
    {
     "name": "stdout",
     "output_type": "stream",
     "text": [
      "A is Suffered with Cancer\n"
     ]
    }
   ],
   "source": [
    "a='A is Suffered with sadism'\n",
    "print(a.replace('sadism', 'Cancer'))"
   ]
  },
  {
   "cell_type": "code",
   "execution_count": null,
   "id": "43db3cd5-7b14-4219-b26c-006447fd3304",
   "metadata": {},
   "outputs": [],
   "source": [
    "25. split() - Splits the string at the specified separator, and\n",
    "# returns a list.\n",
    "\"\"\" The split() method splits a string into a list.\n",
    "You can specify the separator, default separator is any whitespace.\n",
    "Note : When maxsplit is specified, the list will contain the specified number\n",
    "of elements plus one.\n",
    "Syntax : string.split(separator, maxsplit)\n",
    "1. separator - Optional. Specifies the separator to use when splitting the\n",
    "string. By default any whitespace is a separator.\n",
    "2. maxsplit - Optional. Specifies how many splits to do. Default value is -1,\n",
    "which is 'all occurrences'. \"\"\""
   ]
  },
  {
   "cell_type": "code",
   "execution_count": 2,
   "id": "9c2071b2-022c-4414-900d-f841f585ef1b",
   "metadata": {},
   "outputs": [
    {
     "name": "stdout",
     "output_type": "stream",
     "text": [
      "['A', 'is', 'a', 'cancer', 'patient']\n"
     ]
    }
   ],
   "source": [
    "a='A is a cancer patient'\n",
    "print(a.split())"
   ]
  },
  {
   "cell_type": "code",
   "execution_count": null,
   "id": "7a1fb8b0-7af7-40c9-b987-29aa6d2448e4",
   "metadata": {},
   "outputs": [],
   "source": [
    "# 26. startswith() - Returns True if the string starts with the specified value\n",
    "\"\"\" The startswith() method returns True if the string starts with the\n",
    "specified value, Otherwise False.\n",
    "Syntax : string.startswith(value, start, end)\n",
    "1. value - Required. The value to check if the string starts with.\n",
    "2. start - Optional. An integer specifying at which position to start\n",
    " the search.\n",
    "3. end - Optional. An integer specifying at which position to end the search."
   ]
  },
  {
   "cell_type": "code",
   "execution_count": 105,
   "id": "2bbd4657-8bee-4a37-a681-e589648cd5aa",
   "metadata": {},
   "outputs": [
    {
     "name": "stdout",
     "output_type": "stream",
     "text": [
      "True\n",
      "False\n"
     ]
    }
   ],
   "source": [
    "a='welcome to my world'\n",
    "print(a.startswith('welcome'))\n",
    "print(a.startswith('wel',0,1))"
   ]
  },
  {
   "cell_type": "code",
   "execution_count": null,
   "id": "603fa6b9-6714-4313-b79f-15e92202125c",
   "metadata": {},
   "outputs": [],
   "source": [
    "# 27. strip() - Returns a trimmed version of the string\n",
    "\"\"\" The strip() method removes any leading (spaces at the beginning) and\n",
    "trailing (spaces at the end) characters (space is the default leading\n",
    "character to remove).\n",
    "Syntax : string.strip(characters)\n",
    "characters - Optional. A set of characters to remove as leading/trailing\n",
    "characters.\"\"\""
   ]
  },
  {
   "cell_type": "code",
   "execution_count": 107,
   "id": "5f81e13d-ede1-4fda-a95f-aefad08eabea",
   "metadata": {},
   "outputs": [
    {
     "name": "stdout",
     "output_type": "stream",
     "text": [
      "Mahesh Babu is Global Super Star\n",
      "all of banana is my favourite\n"
     ]
    }
   ],
   "source": [
    "a='Mahesh Babu  '\n",
    "print(a.strip(),\"is Global Super Star\")\n",
    "b='     banana    '\n",
    "print('all of',b.strip(),'is my favourite')"
   ]
  },
  {
   "cell_type": "code",
   "execution_count": null,
   "id": "7bcd9f0f-77eb-4796-8dab-8bd00fe6d6c6",
   "metadata": {},
   "outputs": [],
   "source": [
    "# 28. swapcase() - Swaps cases, lowercases becomes upper case and vice versa\n",
    "\"\"\" The swapcase() method returns a string where all the upper case letters are\n",
    "lower case and vice versa.\n",
    "Syntax : string.swapcase() \"\"\""
   ]
  },
  {
   "cell_type": "code",
   "execution_count": 109,
   "id": "29754ba6-2d06-401a-a375-bca5c839db93",
   "metadata": {},
   "outputs": [
    {
     "name": "stdout",
     "output_type": "stream",
     "text": [
      "wELCOME TO MY wORLD\n",
      "BALAJI\n"
     ]
    }
   ],
   "source": [
    "a=\"Welcome to my World\"\n",
    "print(a.swapcase())\n",
    "b='balaji'\n",
    "print(b.swapcase())"
   ]
  },
  {
   "cell_type": "code",
   "execution_count": null,
   "id": "cdb21366-ba1a-4122-9651-f5a4cdf7ff7b",
   "metadata": {},
   "outputs": [],
   "source": [
    "# 29. title() - Converts the first character of each word to upper case\n",
    "\"\"\" The title() method returns a string where the first character in every\n",
    "word is uppercase. Like a header, or title.\n",
    "If the word contains a number or a symbol, the first letter after that will be\n",
    "converted to upper case."
   ]
  },
  {
   "cell_type": "code",
   "execution_count": 110,
   "id": "9785ccb3-6222-455e-aebe-22f533abe08e",
   "metadata": {},
   "outputs": [
    {
     "name": "stdout",
     "output_type": "stream",
     "text": [
      "Sai Balaji Is Bad Human\n"
     ]
    }
   ],
   "source": [
    "a=\"sai balaji is bad human\"\n",
    "print(a.title())"
   ]
  },
  {
   "cell_type": "raw",
   "id": "2d7717a6-b84e-4666-9c40-39950d24be5e",
   "metadata": {},
   "source": [
    "# 30. upper() - Converts a string into upper case\n",
    "\"\"\" The upper() method returns a string where all characters are in upper case.\n",
    "Symbols and Numbers are ignored.\n",
    "Syntax : string.upper() \"\"\""
   ]
  },
  {
   "cell_type": "code",
   "execution_count": 111,
   "id": "a9368696-c474-41f1-9848-6dac9be635fa",
   "metadata": {},
   "outputs": [
    {
     "name": "stdout",
     "output_type": "stream",
     "text": [
      "BALAJI\n"
     ]
    }
   ],
   "source": [
    "a='balaji'\n",
    "print(a.upper())"
   ]
  },
  {
   "cell_type": "code",
   "execution_count": null,
   "id": "26cf89e3-0e9d-45b0-b9ec-0434d4853ab2",
   "metadata": {},
   "outputs": [],
   "source": [
    "# 31. rfind() - Searches the string for a specified value and returns the last\n",
    "# position of where it was found.\n",
    "\"\"\" The rfind() method finds the last occurrence of the specified value.\n",
    "The rfind() method returns -1 if the value is not found.\n",
    "The rfind() method is almost the same as the rindex() method.\n",
    "Syntax : string.rfind(value, start, end)\n",
    "1. value - Required. The value to search for.\n",
    "2. start - Optional. Where to start the search. Default is 0.\n",
    "3. end - Optional. Where to end the search. Default is to the end of the\n",
    " string. \"\"\""
   ]
  },
  {
   "cell_type": "code",
   "execution_count": 113,
   "id": "a3283ae4-ba95-4739-a2c0-06ecc79cd6d9",
   "metadata": {},
   "outputs": [
    {
     "name": "stdout",
     "output_type": "stream",
     "text": [
      "8\n",
      "15\n",
      "4\n",
      "9\n"
     ]
    }
   ],
   "source": [
    "a=\"Welcome To My World\"\n",
    "print(a.rfind('To'))\n",
    "print(a.rfind('o',2,16))\n",
    "print(a.rfind('o',2,5))\n",
    "print(a.rfind('o',2,11))"
   ]
  },
  {
   "cell_type": "code",
   "execution_count": null,
   "id": "40035e8a-0c6e-4bac-844e-5b0d10756b4b",
   "metadata": {},
   "outputs": [],
   "source": [
    "# 32. rindex() - Searches the string for a specified value and returns the last\n",
    "# position of where it was found.\n",
    "\"\"\" The rindex() method finds the last occurrences of the specified value.\n",
    "The rindex() method raises an exception if the value is not found.\n",
    "The rindex() method is almost the same as the rfind() method.\n",
    "Syntax : string.rindex(value, start, end)\n",
    "1. value - Required. The value to search for.\n",
    "2. start - Optional. Where to start the search. Default is 0.\n",
    "3. end - Optional. Where to end the search. Default is to the end of the string\n",
    "\"\"\""
   ]
  },
  {
   "cell_type": "code",
   "execution_count": 114,
   "id": "0e93e0f2-1717-4614-9909-22b0d5df4218",
   "metadata": {},
   "outputs": [
    {
     "name": "stdout",
     "output_type": "stream",
     "text": [
      "8\n",
      "15\n",
      "4\n",
      "9\n"
     ]
    }
   ],
   "source": [
    "a=\"Welcome To My World\"\n",
    "print(a.rindex('To'))\n",
    "print(a.rindex('o',2,16))\n",
    "print(a.rindex('o',2,5))\n",
    "print(a.rindex('o',2,11))"
   ]
  },
  {
   "cell_type": "code",
   "execution_count": null,
   "id": "d5795d3a-919b-4dc8-a5e0-daa075f65c5c",
   "metadata": {},
   "outputs": [],
   "source": [
    "# 33. rjust() - Returns a right justified version of the string\n",
    "\"\"\" The rjust() method will right align the string, using a specified character\n",
    "(space is default) as the fill character.\n",
    "Syntax : string.rjust(length, character)\n",
    "1. length - Required. The length of the returned string.\n",
    "2. character - Optional. A character to fill the missing space (to the left of\n",
    "the string). Default is ' ' (space). \"\"\""
   ]
  },
  {
   "cell_type": "code",
   "execution_count": 119,
   "id": "e19f2959-320b-49b0-9743-55404ca46c6d",
   "metadata": {},
   "outputs": [
    {
     "name": "stdout",
     "output_type": "stream",
     "text": [
      "Mahesh Babu   is my die-hard fan\n",
      "            Mahesh Babu   is my die-hard fan\n",
      "                                                                        Mahesh Babu   is my die-hard fan\n"
     ]
    }
   ],
   "source": [
    "a='Mahesh Babu  '\n",
    "print(a.rjust(5),'is my die-hard fan')\n",
    "print(a.rjust(25),'is my die-hard fan')\n",
    "print(a.rjust(85),'is my die-hard fan')"
   ]
  },
  {
   "cell_type": "code",
   "execution_count": null,
   "id": "0f2dbc36-7049-4faa-91ea-fe3a37f3a311",
   "metadata": {},
   "outputs": [],
   "source": [
    "# 34. rsplit() - Splits the string at the specified separator, and\n",
    "# returns a list\n",
    "\"\"\" The rsplit() method splits a string into a list, starting from the right.\n",
    "If no 'max' is specified, this method will return the same as the\n",
    "split() method.\n",
    "Note : When maxsplit is specified, the list will contain the specified number\n",
    "of elements plus one.\n",
    "Syntax : string.rsplit(separator, maxsplit)\n",
    "1. separator - Optional. Specifies the separator to use when splitting the\n",
    " string. By default any whitespace is a separator.\n",
    "2. maxsplit - Optional. Specifies how many splits to do. Default value is -1,\n",
    " which is 'all occurrences'. \"\"\""
   ]
  },
  {
   "cell_type": "code",
   "execution_count": 3,
   "id": "5a8989fa-5624-443e-a91b-b126811e9837",
   "metadata": {},
   "outputs": [
    {
     "name": "stdout",
     "output_type": "stream",
     "text": [
      "['A', 'is', 'cancer', 'patient']\n"
     ]
    }
   ],
   "source": [
    "a='A is cancer patient'\n",
    "print(a.rsplit())"
   ]
  },
  {
   "cell_type": "code",
   "execution_count": null,
   "id": "a03a4810-c168-4a55-bbae-b5c79dd3cc95",
   "metadata": {},
   "outputs": [],
   "source": [
    "# 35. rstrip() - Returns a right trim version of the string\n",
    "\"\"\" The rstrip() method removes any trailing characters (characters at the end\n",
    "of a string), space is the default trailing character to remove.\n",
    "Syntax : string.rstrip(characters)\n",
    "characters - Optional. A set of characters to remove as trailing characters.\"\"\""
   ]
  },
  {
   "cell_type": "code",
   "execution_count": 121,
   "id": "a154c128-49b4-4105-8588-6ca1cfb26334",
   "metadata": {},
   "outputs": [
    {
     "name": "stdout",
     "output_type": "stream",
     "text": [
      "of all    banana is my favourite\n"
     ]
    }
   ],
   "source": [
    "a='   banana   '\n",
    "print('of all',a.rstrip(),'is my favourite')"
   ]
  },
  {
   "cell_type": "code",
   "execution_count": null,
   "id": "a8705136-5873-4dbf-8047-f88ca0c8471b",
   "metadata": {},
   "outputs": [],
   "source": [
    "# 36. splitlines() - Splits the string at line breaks and returns a list\n",
    "\"\"\" The splitlines() method splits a string into a list. The splitting is done\n",
    "at line breaks.\n",
    "Syntax : string.splilines(keeplinebreaks) \"\"\""
   ]
  },
  {
   "cell_type": "code",
   "execution_count": 122,
   "id": "634bfde2-1ef1-47d9-8374-10366054d67c",
   "metadata": {},
   "outputs": [
    {
     "name": "stdout",
     "output_type": "stream",
     "text": [
      "['sai\\n', 'balaji']\n"
     ]
    }
   ],
   "source": [
    "a='sai\\nbalaji'\n",
    "print(a.splitlines(True))"
   ]
  },
  {
   "cell_type": "code",
   "execution_count": null,
   "id": "ab006cab-8283-4aae-9467-45597c0fe5ff",
   "metadata": {},
   "outputs": [],
   "source": [
    "# 37. translate() - Returns a translated string\n",
    "\"\"\" The translate() method returns a string where some specified characters are\n",
    "replaced with the character described in a dictionary, or in a mapping table.\n",
    "Use the maketrans() method to create a mapping table.\n",
    "If a character is not specified in the dictionary/table, the character will not\n",
    "be replaced.\n",
    "If you use a dictionary, you must use ascii codes instead of characters.\n",
    "Syntax : string.translate(table)\n",
    "table - Required. Either a dictionary, or a mapping table describing how to\n",
    " perform the replace. \"\"\""
   ]
  },
  {
   "cell_type": "code",
   "execution_count": 129,
   "id": "69756a1c-002d-4b5f-9c0e-a809811b0d71",
   "metadata": {},
   "outputs": [
    {
     "name": "stdout",
     "output_type": "stream",
     "text": [
      "Hello good\n"
     ]
    }
   ],
   "source": [
    "a='Hello food'\n",
    "b=a.maketrans('f','g')\n",
    "print(a.translate(b))"
   ]
  },
  {
   "cell_type": "code",
   "execution_count": null,
   "id": "c3e8dcfc-c587-4163-97b5-d2f22f7af8ec",
   "metadata": {},
   "outputs": [],
   "source": [
    "# 38. zfill() - Fills the string with a specified number of 0 values\n",
    "# at the beginning\n",
    "\"\"\" The zfill() method adds zero(s) at the beginning of the string, untill\n",
    "it reaches the specified length.\n",
    "If the value of the len parameter is less than the length of the string, no\n",
    "filling is done.\n",
    "Syntax : string.zfill(len)\n",
    "len - Required. A number specifying the position of the element you want\n",
    "to remove. \"\"\""
   ]
  },
  {
   "cell_type": "code",
   "execution_count": 132,
   "id": "5d7db68a-2019-44b3-8736-bb5a4f20e0cc",
   "metadata": {},
   "outputs": [
    {
     "name": "stdout",
     "output_type": "stream",
     "text": [
      "0000000020\n",
      "000000000000000000000000000020\n"
     ]
    }
   ],
   "source": [
    "a='20'\n",
    "print(a.zfill(10))\n",
    "print(a.zfill(30))"
   ]
  }
 ],
 "metadata": {
  "kernelspec": {
   "display_name": "Python 3 (ipykernel)",
   "language": "python",
   "name": "python3"
  },
  "language_info": {
   "codemirror_mode": {
    "name": "ipython",
    "version": 3
   },
   "file_extension": ".py",
   "mimetype": "text/x-python",
   "name": "python",
   "nbconvert_exporter": "python",
   "pygments_lexer": "ipython3",
   "version": "3.8.2"
  }
 },
 "nbformat": 4,
 "nbformat_minor": 5
}
