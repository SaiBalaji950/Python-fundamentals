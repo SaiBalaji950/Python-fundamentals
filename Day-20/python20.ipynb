{
 "cells": [
  {
   "cell_type": "raw",
   "id": "47ca6fe9-3666-4a63-b73c-9972ba31b1aa",
   "metadata": {},
   "source": [
    "# Iterators in Python\n",
    "\"\"\"\n",
    "An iterator in Python is an object that is used to iterate over iterable\n",
    "objects like lists, tuples, dicts & sets.\n",
    "    The Python iterators object is initialized using the iter() method. It uses\n",
    "the next() method for iteration.\n",
    "1. __iter__() : The iter() method is called for the initialization of an\n",
    "                iterator.\n",
    "2. __next__() : The next() method returns the next value for the  iterable.\n",
    "                When we use a for loop to traverse any iterable object,\n",
    "                internally it uses the iter() method to get an iterator object,\n",
    "                which further uses the next() method to iterate over. This\n",
    "                method raises a 'StopIteration' to signal the end of the\n",
    "                iteration."
   ]
  },
  {
   "cell_type": "code",
   "execution_count": 1,
   "id": "acb6f628-3d54-4795-b1d2-0c04a0991634",
   "metadata": {},
   "outputs": [
    {
     "name": "stdout",
     "output_type": "stream",
     "text": [
      "b\n",
      "a\n",
      "l\n",
      "a\n",
      "j\n",
      "i\n"
     ]
    }
   ],
   "source": [
    "a='balaji'\n",
    "b=iter(a)\n",
    "print(next(b))\n",
    "print(next(b))\n",
    "print(next(b))\n",
    "print(next(b))\n",
    "print(next(b))\n",
    "print(next(b))"
   ]
  },
  {
   "cell_type": "code",
   "execution_count": 4,
   "id": "abc48c3f-6d73-4550-b8f4-5605f3a0e222",
   "metadata": {},
   "outputs": [
    {
     "name": "stdout",
     "output_type": "stream",
     "text": [
      "10\n",
      "11\n",
      "12\n",
      "13\n",
      "14\n",
      "15\n"
     ]
    }
   ],
   "source": [
    "class a:\n",
    "    def __init__(self,limit):\n",
    "        self.limit=limit\n",
    "    def __iter__(self):\n",
    "        self.b=10\n",
    "        return self\n",
    "    def __next__(self):\n",
    "        b=self.b\n",
    "        if b >self.limit:\n",
    "            raise StopIteration\n",
    "        self.b=b+1\n",
    "        return b\n",
    "for c in a(15):\n",
    "    print(c)\n",
    "for c in a(5):\n",
    "    print(c)"
   ]
  },
  {
   "cell_type": "code",
   "execution_count": 5,
   "id": "22fa76a2-344d-4a0c-906c-6c98998cc61c",
   "metadata": {},
   "outputs": [
    {
     "name": "stdout",
     "output_type": "stream",
     "text": [
      "Iteration List: ['sai balaji', 21, 'Graduate']\n",
      "sai balaji\n",
      "21\n",
      "Graduate\n"
     ]
    }
   ],
   "source": [
    "# Iterating over built-in iterable using iter() method :\n",
    "# To traverse over the built-in iterable like list, tuple, dict etc.,\n",
    "\n",
    "# 1. Iterating over a list :\n",
    "a=['sai balaji',21,'Graduate']\n",
    "print(\"Iteration List:\",a)\n",
    "for b in a:\n",
    "    print(b)"
   ]
  },
  {
   "cell_type": "code",
   "execution_count": 7,
   "id": "f02283c3-fb62-4f15-bc3c-a3e6b385a9af",
   "metadata": {},
   "outputs": [
    {
     "name": "stdout",
     "output_type": "stream",
     "text": [
      "Iteration of tuple: ('sai balaji', 21, 'Graduate')\n",
      "sai balaji\n",
      "21\n",
      "Graduate\n"
     ]
    }
   ],
   "source": [
    "# 2. Iterating over a tuple (immutable) :\n",
    "a=('sai balaji',21,'Graduate')\n",
    "print(\"Iteration of tuple:\",a)\n",
    "for b in a:\n",
    "    print(b)"
   ]
  },
  {
   "cell_type": "code",
   "execution_count": 8,
   "id": "dc69cc8e-5e02-419c-b49b-da235c284ffe",
   "metadata": {},
   "outputs": [
    {
     "name": "stdout",
     "output_type": "stream",
     "text": [
      "Iteration of string: sai balaji\n",
      "s\n",
      "a\n",
      "i\n",
      " \n",
      "b\n",
      "a\n",
      "l\n",
      "a\n",
      "j\n",
      "i\n"
     ]
    }
   ],
   "source": [
    "# 3. Iterating over a String :\n",
    "a='sai balaji'\n",
    "print(\"Iteration of string:\",a)\n",
    "for b in a:\n",
    "    print(b)"
   ]
  },
  {
   "cell_type": "code",
   "execution_count": 14,
   "id": "c93ec62b-9d33-4b4f-9f14-d3a588ce7017",
   "metadata": {},
   "outputs": [
    {
     "name": "stdout",
     "output_type": "stream",
     "text": [
      "Dictionary Iteration\n",
      "1 vennelakanti sai balaji\n",
      "2 21\n",
      "3 Graduate\n"
     ]
    }
   ],
   "source": [
    "print(\"Dictionary Iteration\")\n",
    "a=dict()\n",
    "a[1]='vennelakanti sai balaji'\n",
    "a[2]=21\n",
    "a[3]='Graduate'\n",
    "for b in a:\n",
    "    print(\"%s %s\" %(b,a[b]))"
   ]
  },
  {
   "cell_type": "code",
   "execution_count": 15,
   "id": "3510b801-cdab-48c7-8cad-8b94c3ea4a62",
   "metadata": {},
   "outputs": [
    {
     "name": "stdout",
     "output_type": "stream",
     "text": [
      "Dictionary Iteration :\n",
      "xyz  123 \n",
      "abc  345 \n"
     ]
    }
   ],
   "source": [
    "print(\"Dictionary Iteration :\")\n",
    "d = dict()\n",
    "\n",
    "d['xyz'] = 123\n",
    "d['abc'] = 345\n",
    "\n",
    "for i in d:\n",
    "    print(\"%s  %d \" % (i, d[i]))"
   ]
  },
  {
   "cell_type": "raw",
   "id": "62544a01-158b-4e3e-8b6d-191454d35371",
   "metadata": {},
   "source": [
    "# Iterables Vs Iterators :\n",
    "\"\"\"\n",
    "Iterables and Iterators are different. Main difference between them is,\n",
    "iterable cannot save the state of the iteration, whereas in iterators the state\n",
    "of the current iteration gets saved.\n",
    "\n",
    "Note : Every iterator is also an iterable, but not every iterable is an\n",
    "       iterator.\n",
    "\"\"\""
   ]
  },
  {
   "cell_type": "code",
   "execution_count": 16,
   "id": "dc121e72-303c-46c9-8f6a-9b9449c638a0",
   "metadata": {},
   "outputs": [
    {
     "name": "stdout",
     "output_type": "stream",
     "text": [
      "a\n",
      "b\n",
      "c\n",
      "d\n",
      "e\n"
     ]
    }
   ],
   "source": [
    "# 1. Iterating on an Iterable : Iterating on each item of the iterable\n",
    "a=('a','b','c','d','e')\n",
    "for b in a:\n",
    "    print(b)"
   ]
  },
  {
   "cell_type": "code",
   "execution_count": 17,
   "id": "6e3dfd70-88f1-4864-a209-02cf992da28e",
   "metadata": {},
   "outputs": [
    {
     "name": "stdout",
     "output_type": "stream",
     "text": [
      "Inside Loop :\n",
      "a\n",
      "b\n",
      "c\n",
      "Outside Loop :\n",
      "d\n",
      "e\n"
     ]
    }
   ],
   "source": [
    "# 2. Iterating on an Iterator :\n",
    "a=('a','b','c','d','e')\n",
    "b=iter(a)\n",
    "print(\"Inside Loop :\")\n",
    "for c,d in enumerate(b):\n",
    "    print(d)\n",
    "    if c==2:\n",
    "        break\n",
    "print(\"Outside Loop :\")\n",
    "print(next(b))\n",
    "print(next(b))"
   ]
  },
  {
   "cell_type": "raw",
   "id": "e6b9d83f-5c19-4361-a117-4157e3d3c317",
   "metadata": {},
   "source": [
    "# Getting StopIteration Error while using iterator\n",
    "\"\"\"\n",
    "Iterable in Python can be iterated over multiple times, but iterators raise\n",
    "'StopIteration' Error when all items are already iterated. Here, we are trying\n",
    "to get the next element from the iterator after the completion of the for loop.\n",
    "Since the iterator is already exhausted, it raises a 'StopIteration' Exception.\n",
    "Whereas, using an iterable, we can iterate on multiple times using for loop or\n",
    "can get items using indexing.\n",
    "\"\"\""
   ]
  },
  {
   "cell_type": "code",
   "execution_count": 19,
   "id": "35cd084f-3252-4e37-98f1-9f1545ecba6a",
   "metadata": {},
   "outputs": [
    {
     "name": "stdout",
     "output_type": "stream",
     "text": [
      "a Loop1\n",
      "1,2,3,4,5,\n",
      "a Loop2\n",
      "1,2,3,4,5,\n",
      "Iterating an operator\n",
      "1,2,3,4,5,\n",
      "Outside Loop\n"
     ]
    },
    {
     "ename": "StopIteration",
     "evalue": "",
     "output_type": "error",
     "traceback": [
      "\u001b[1;31m---------------------------------------------------------------------------\u001b[0m",
      "\u001b[1;31mStopIteration\u001b[0m                             Traceback (most recent call last)",
      "Cell \u001b[1;32mIn[19], line 13\u001b[0m\n\u001b[0;32m     11\u001b[0m     \u001b[38;5;28mprint\u001b[39m(c,end\u001b[38;5;241m=\u001b[39m\u001b[38;5;124m\"\u001b[39m\u001b[38;5;124m,\u001b[39m\u001b[38;5;124m\"\u001b[39m)\n\u001b[0;32m     12\u001b[0m \u001b[38;5;28mprint\u001b[39m(\u001b[38;5;124m\"\u001b[39m\u001b[38;5;130;01m\\n\u001b[39;00m\u001b[38;5;124mOutside Loop\u001b[39m\u001b[38;5;124m\"\u001b[39m)\n\u001b[1;32m---> 13\u001b[0m \u001b[38;5;28mprint\u001b[39m(\u001b[38;5;28;43mnext\u001b[39;49m\u001b[43m(\u001b[49m\u001b[43mb\u001b[49m\u001b[43m)\u001b[49m)\n",
      "\u001b[1;31mStopIteration\u001b[0m: "
     ]
    }
   ],
   "source": [
    "a=(1,2,3,4,5)\n",
    "b=iter(a)\n",
    "print(\"a Loop1\")\n",
    "for c in a:\n",
    "    print(c,end=\",\")\n",
    "print(\"\\na Loop2\")\n",
    "for c in a:\n",
    "    print(c,end=\",\")\n",
    "print(\"\\nIterating an operator\")\n",
    "for c in b:\n",
    "    print(c,end=\",\")\n",
    "print(\"\\nOutside Loop\")\n",
    "print(next(b))"
   ]
  },
  {
   "cell_type": "raw",
   "id": "f1cbcbce-77eb-4571-81de-f07721b42b38",
   "metadata": {},
   "source": [
    "# Generators in Python\n",
    "\"\"\"\n",
    "A Generator in Python is a function that returns an iterator using the 'yield'\n",
    "keyword.\n",
    "\n",
    "Generator Function in Python : A generator function in Python is defined like a\n",
    "normal function, but whenever it needs to generate a value, it does so with the\n",
    "'yield keyword' rather than return. If the body of a def contains yield, the\n",
    "function automatically becomes a Python generator function.\n",
    "\"\"\"\n",
    "\n",
    "# To create a Generator\n",
    "\"\"\"\n",
    "To create a Simple Generator in Python.\n",
    "Syntax : def function_name():\n",
    "             yield statement\n",
    "\"\"\""
   ]
  },
  {
   "cell_type": "code",
   "execution_count": 21,
   "id": "204ab6a9-62be-4c66-b94f-6b249a3e102b",
   "metadata": {},
   "outputs": [
    {
     "name": "stdout",
     "output_type": "stream",
     "text": [
      "1\n",
      "2\n",
      "3\n"
     ]
    }
   ],
   "source": [
    "def a():\n",
    "    yield 1\n",
    "    yield 2\n",
    "    yield 3\n",
    "for b in a():\n",
    "    print(b)"
   ]
  },
  {
   "cell_type": "raw",
   "id": "34a6cf34-b929-456f-89cc-54523fc4d077",
   "metadata": {},
   "source": [
    "# Generator Object\n",
    "\"\"\"\n",
    "Generator function return a generators object that is iterable, i.e, Generator\n",
    "function can be used as an 'Iterator'. Generator objects are used either by\n",
    "calling the next() method of the generator object or using the generator object\n",
    "in a \"for in\" loop.\n",
    "\"\"\"\n",
    "\n",
    "\n",
    "# To create a simple generator function in Python to generate objects using the\n",
    "# \"next()\" function."
   ]
  },
  {
   "cell_type": "code",
   "execution_count": 23,
   "id": "623ae29c-cc95-4fbf-9c48-0bc627a5dbdd",
   "metadata": {},
   "outputs": [
    {
     "name": "stdout",
     "output_type": "stream",
     "text": [
      "1\n",
      "2\n",
      "3\n",
      "4\n"
     ]
    }
   ],
   "source": [
    "def a():\n",
    "    yield 1\n",
    "    yield 2\n",
    "    yield 3\n",
    "    yield 4\n",
    "    yield 5\n",
    "b=a()\n",
    "print(next(b))\n",
    "print(next(b))\n",
    "print(next(b))\n",
    "print(next(b))\n",
    "print(next(b))"
   ]
  },
  {
   "cell_type": "code",
   "execution_count": 25,
   "id": "e08e6373-de4e-490f-95d5-5ea5f405cd9a",
   "metadata": {},
   "outputs": [
    {
     "name": "stdout",
     "output_type": "stream",
     "text": [
      "0\n",
      "1\n",
      "1\n",
      "2\n",
      "3\n",
      "in Loop\n",
      "0\n",
      "1\n",
      "1\n",
      "2\n",
      "3\n"
     ]
    }
   ],
   "source": [
    "# To create 2 generators for Fibonacci Numbers, first simple generator and\n",
    "# second generator using a for loop.\n",
    "def a(limit):\n",
    "    b,c=0,1\n",
    "    while b<limit:\n",
    "        yield b\n",
    "        b,c=c,b+c\n",
    "d=a(5)\n",
    "print(next(d))\n",
    "print(next(d))\n",
    "print(next(d))\n",
    "print(next(d))\n",
    "print(next(d))\n",
    "print(\"in Loop\")\n",
    "for e in a(5):\n",
    "    print(e)"
   ]
  },
  {
   "cell_type": "raw",
   "id": "8d9217c4-b0e6-4d59-a8b0-417d6b98dffb",
   "metadata": {},
   "source": [
    "# Generator Expression\n",
    "\"\"\"\n",
    "Python Generator Expression is another way of writing the generator function.\n",
    "It uses the Python \"list comprehension\" technique but instead of storing the\n",
    "elements in a list in memory. It creates generator object.\n",
    "Syntax : (expression for item in iterable)\n",
    "\"\"\"\n",
    "\n",
    "# Example :\n",
    "\"\"\"\n",
    "To create a generator object that will print the multiple of 5 between the\n",
    "range of 0 to 5. Which are also divisible by 2.\n",
    "\"\"\""
   ]
  },
  {
   "cell_type": "code",
   "execution_count": 26,
   "id": "662881a9-7042-483f-9e00-0e1e737a8ba9",
   "metadata": {},
   "outputs": [
    {
     "name": "stdout",
     "output_type": "stream",
     "text": [
      "0\n",
      "10\n",
      "20\n"
     ]
    }
   ],
   "source": [
    "a=(b*5 for b in range(5) if b%2==0)\n",
    "for c in a:\n",
    "    print(c)"
   ]
  },
  {
   "cell_type": "raw",
   "id": "4d224ee6-14ef-4a5d-aaa9-21d4679b9584",
   "metadata": {},
   "source": [
    "# Decorators in Python\n",
    "\"\"\"\n",
    "Decorator is a Higher Order Function that takes another function as an\n",
    "arguement, adds some functionality & returns a new function. It allows\n",
    "modifying/extending bahaviour of functions/methods.\n",
    "    Decorators are very powerful and useful tool in Python. Since it allows\n",
    "programmers to modify the behaviour of a function or class. Decorators allows\n",
    "us to wrap another function in order to extend the behaviour of the wrapped\n",
    "function, without permanently modifying it. But\n",
    "1. Decorators are used to modify the behaviour of function/class.\n",
    "2. Functions are taken as arguement into another function and then called\n",
    "   inside the wrapper function.\n",
    "\n",
    "Syntax for decorators:\n",
    "@decorator\n",
    "def hello_decorator():\n",
    "    print(\"Hello!\")\n",
    "''' Above Code is equivalent to -\n",
    "def hello_decorator():\n",
    "    print(\"Hello!\")\n",
    "\n",
    "hello_decorator = decorator(hello_decorator) '''\n",
    "In the above code, decorator is a callable function, that will add some code\n",
    "on the top of some another callable function, decorator function & return\n",
    "the wrapper function.\n",
    "\"\"\"\n",
    "\n",
    "\n",
    "# Decorator can modify the behaviour"
   ]
  },
  {
   "cell_type": "code",
   "execution_count": 33,
   "id": "bfbb9767-5a83-4bd1-a828-15ac7efd5e10",
   "metadata": {},
   "outputs": [
    {
     "name": "stdout",
     "output_type": "stream",
     "text": [
      "This is before execution\n",
      "This is inside the function\n",
      "This is after execution\n"
     ]
    }
   ],
   "source": [
    "def a(func):\n",
    "    def b():\n",
    "        print(\"This is before execution\")\n",
    "        func()\n",
    "        print(\"This is after execution\")\n",
    "    return b\n",
    "def c():\n",
    "    print(\"This is inside the function\")\n",
    "c=a(c)\n",
    "c()"
   ]
  },
  {
   "cell_type": "code",
   "execution_count": 35,
   "id": "b0067809-8a07-45a5-ae15-895e6d556d76",
   "metadata": {},
   "outputs": [
    {
     "name": "stdout",
     "output_type": "stream",
     "text": [
      "720\n",
      "Total time taken in : factorial 1.0077791213989258\n",
      "3628800\n",
      "Total time taken in : factorial 1.0049703121185303\n"
     ]
    }
   ],
   "source": [
    "# To easily find out the execution time of a function using decorator\n",
    "import time\n",
    "import math\n",
    "def a(func):\n",
    "    def b(*args,**kwargs):\n",
    "        begin=time.time()\n",
    "        func(*args,**kwargs)\n",
    "        end=time.time()\n",
    "        print(\"Total time taken in :\",func.__name__,end-begin)\n",
    "    return b\n",
    "@a\n",
    "def factorial(num):\n",
    "    time.sleep(1)\n",
    "    print(math.factorial(num))\n",
    "factorial(6)\n",
    "factorial(10)"
   ]
  },
  {
   "cell_type": "code",
   "execution_count": 41,
   "id": "37348ad3-d215-4d30-9a5e-8d7e30898d61",
   "metadata": {},
   "outputs": [
    {
     "name": "stdout",
     "output_type": "stream",
     "text": [
      "Before Execution\n",
      "Inside The Function\n",
      "After Execution\n",
      "Sum = 30\n"
     ]
    }
   ],
   "source": [
    "def a(func):\n",
    "    def b(*args, **kwargs):\n",
    "        print(\"Before Execution\")\n",
    "        c=func(*args, **kwargs)\n",
    "        print(\"After Execution\")\n",
    "        return c\n",
    "    return b\n",
    "@a\n",
    "def add(d,e):\n",
    "    print(\"Inside The Function\")\n",
    "    return d+e\n",
    "de,e=10,20\n",
    "print(\"Sum =\",add(d,e))"
   ]
  },
  {
   "cell_type": "code",
   "execution_count": 45,
   "id": "5f352c1d-ea14-4749-9ebe-a5418728fe30",
   "metadata": {},
   "outputs": [
    {
     "name": "stdout",
     "output_type": "stream",
     "text": [
      "400\n",
      "200\n"
     ]
    }
   ],
   "source": [
    "# Chaining Decorators : Decorating a function with multiple decorators\n",
    "def a1(func):\n",
    "    def b():\n",
    "        c=func()\n",
    "        return c*c\n",
    "    return b\n",
    "def a(func):\n",
    "    def b():\n",
    "        c=func()\n",
    "        return 2*c\n",
    "    return b\n",
    "@a1\n",
    "@a\n",
    "def c():\n",
    "    return 10\n",
    "@a\n",
    "@a1\n",
    "def d():\n",
    "    return 10\n",
    "print(c())\n",
    "print(d())"
   ]
  },
  {
   "cell_type": "raw",
   "id": "dbc71ad6-eb9a-44f9-a757-1533e053537f",
   "metadata": {},
   "source": [
    "\"\"\"\n",
    "The above example is similar to calling the function as -\n",
    "decor1(decor(num))\n",
    "decor(decor1(num2))\n",
    "\"\"\""
   ]
  }
 ],
 "metadata": {
  "kernelspec": {
   "display_name": "Python 3 (ipykernel)",
   "language": "python",
   "name": "python3"
  },
  "language_info": {
   "codemirror_mode": {
    "name": "ipython",
    "version": 3
   },
   "file_extension": ".py",
   "mimetype": "text/x-python",
   "name": "python",
   "nbconvert_exporter": "python",
   "pygments_lexer": "ipython3",
   "version": "3.8.2"
  }
 },
 "nbformat": 4,
 "nbformat_minor": 5
}
