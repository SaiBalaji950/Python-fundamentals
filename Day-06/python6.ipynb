{
 "cells": [
  {
   "cell_type": "code",
   "execution_count": 18,
   "id": "a86f12ef-e111-42d3-8a89-e29229111f08",
   "metadata": {},
   "outputs": [
    {
     "name": "stdout",
     "output_type": "stream",
     "text": [
      "Employee id: 1\n",
      "Employee name: balaji\n",
      "Employee salary: 10\n",
      "Employee id: 2\n",
      "Employee name: balaji\n",
      "Employee salary: 10\n",
      "Employee id: 3\n",
      "Employee name: chaithanya\n",
      "Employee salary: 200\n"
     ]
    }
   ],
   "source": [
    "def employeeDetails(eid=1,ename='balaji',esalary=10):\n",
    "    print('Employee id:',eid)\n",
    "    print('Employee name:',ename)\n",
    "    print('Employee salary:',esalary)\n",
    "employeeDetails()\n",
    "employeeDetails(2)\n",
    "employeeDetails(3,'chaithanya',200)"
   ]
  },
  {
   "cell_type": "code",
   "execution_count": 21,
   "id": "a9966525-8b75-4c49-873a-93374b454b7a",
   "metadata": {},
   "outputs": [
    {
     "name": "stdout",
     "output_type": "stream",
     "text": [
      "Hello\n",
      "Hello Balaji!\n",
      "Welcome to my World\n",
      "Hello chaithanya!\n",
      "Welcome to my World\n",
      "Bye\n"
     ]
    }
   ],
   "source": [
    "def a(name):\n",
    "    print(f\"Hello {name}!\")\n",
    "    print(\"Welcome to my World\")\n",
    "\n",
    "print(\"Hello\")\n",
    "a('Balaji')\n",
    "a('chaithanya')\n",
    "print(\"Bye\")"
   ]
  },
  {
   "cell_type": "code",
   "execution_count": 27,
   "id": "ac95f7c2-e9b7-460a-bce4-e30b425a5706",
   "metadata": {},
   "outputs": [
    {
     "name": "stdout",
     "output_type": "stream",
     "text": [
      "Hello\n",
      "Hello Vennelakanti Sai Balaji!\n",
      "Welcome to my World\n"
     ]
    }
   ],
   "source": [
    "def a(fname,lname):\n",
    "    print(f\"Hello {fname} {lname}!\")\n",
    "    print(\"Welcome to my World\")\n",
    "    \n",
    "print(\"Hello\")\n",
    "a(\"Vennelakanti\",\"Sai Balaji\")"
   ]
  },
  {
   "cell_type": "code",
   "execution_count": 28,
   "id": "e0501275-ebd7-44d8-8cb3-0d4325b816b1",
   "metadata": {},
   "outputs": [
    {
     "name": "stdout",
     "output_type": "stream",
     "text": [
      "30\n",
      "6.0\n",
      "saibalaji\n",
      "3.5\n"
     ]
    }
   ],
   "source": [
    "def add(a,b):\n",
    "    print(a+b)\n",
    "add(10,20)\n",
    "add(3.3,2.7)\n",
    "add(\"sai\",\"balaji\")\n",
    "add(1,2.5)"
   ]
  },
  {
   "cell_type": "code",
   "execution_count": 34,
   "id": "991ae756-7167-4661-a34c-f1cd2de32a95",
   "metadata": {},
   "outputs": [
    {
     "name": "stdout",
     "output_type": "stream",
     "text": [
      "id: 1\n",
      "name: sai\n",
      "id: 2\n",
      "name: balaji\n"
     ]
    }
   ],
   "source": [
    "def details(id,name):\n",
    "    print('id:',id)\n",
    "    print('name:',name)\n",
    "\n",
    "details(name='sai',id=1)\n",
    "details(id=2,name='balaji')"
   ]
  },
  {
   "cell_type": "code",
   "execution_count": 35,
   "id": "21c52845-35a0-41c7-b24d-e573f560efbf",
   "metadata": {},
   "outputs": [
    {
     "name": "stdout",
     "output_type": "stream",
     "text": [
      "hello vennelakanti Sai Balaji!\n",
      "Welcome\n",
      "Welcome\n",
      "hello v sb!\n",
      "Welcome\n"
     ]
    }
   ],
   "source": [
    "def a(fname,lname):\n",
    "    print(f\"hello {fname} {lname}!\")\n",
    "    print('Welcome')\n",
    "\n",
    "a(fname=\"vennelakanti\",lname=\"Sai Balaji\")\n",
    "print('Welcome')\n",
    "a(fname='v',lname='sb')"
   ]
  },
  {
   "cell_type": "code",
   "execution_count": 36,
   "id": "31354dad-117f-4f99-87f3-1c2ce77a7c02",
   "metadata": {},
   "outputs": [
    {
     "name": "stdout",
     "output_type": "stream",
     "text": [
      "variable: 10\n",
      "variable: 20\n",
      "variable: 30\n",
      "variable: 40\n",
      "variable: 50\n",
      "variable: balaji\n"
     ]
    }
   ],
   "source": [
    "def a(*var):\n",
    "    for i in var:\n",
    "        print(\"variable:\",i)\n",
    "\n",
    "a()\n",
    "a(10,20,30)\n",
    "a(40,50,'balaji')"
   ]
  },
  {
   "cell_type": "code",
   "execution_count": null,
   "id": "86a79dd4-6d6a-41db-9262-34b8c40f0f32",
   "metadata": {},
   "outputs": [],
   "source": [
    "#User Defined Functions - They are reusable code blocks, they only need to be\n",
    "# written once, then they can be used multiple times.\n",
    "# These functions are very useful, from writing common utilities to specific\n",
    "# business logic. The code is usually well organized, easy to maintain and\n",
    "# developer-friendly. The function can have diff types of arguements &\n",
    "# return value. To declare a function we need to use the keyword 'def'\n",
    "\n",
    "# There are two types of functions :\n",
    "# 1. Built-in Functions - Pre-defined functions\n",
    "# 2. User-defined Functions - defined by the users themselves"
   ]
  },
  {
   "cell_type": "code",
   "execution_count": 37,
   "id": "b4511487-1d76-46f3-b90a-9e83bfe42d9e",
   "metadata": {},
   "outputs": [
    {
     "name": "stdout",
     "output_type": "stream",
     "text": [
      "Hello Balaji !!\n",
      "Hello Balaji !!\n",
      "Hello Balaji !!\n"
     ]
    }
   ],
   "source": [
    "def display():\n",
    "    print(\"Hello Balaji !!\")\n",
    "display()\n",
    "display()\n",
    "display()"
   ]
  },
  {
   "cell_type": "code",
   "execution_count": 40,
   "id": "8874cfc6-ef7f-4f0c-b5c2-0304bc571b48",
   "metadata": {},
   "outputs": [
    {
     "name": "stdout",
     "output_type": "stream",
     "text": [
      "None\n"
     ]
    }
   ],
   "source": [
    "def display():\n",
    "    pass\n",
    "print(display())"
   ]
  },
  {
   "cell_type": "code",
   "execution_count": 1,
   "id": "9e10fc51-2064-43f4-8012-ac7a332f5061",
   "metadata": {},
   "outputs": [
    {
     "name": "stdout",
     "output_type": "stream",
     "text": [
      "Happy Birthday Sai\n",
      "Happy Birthday Balaji\n"
     ]
    }
   ],
   "source": [
    "def a(name):\n",
    "    print(\"Happy Birthday\",name)\n",
    "    \n",
    "a(\"Sai\")\n",
    "a(\"Balaji\")"
   ]
  },
  {
   "cell_type": "code",
   "execution_count": 2,
   "id": "a157f169-e84c-477f-ab8b-b28fc919db31",
   "metadata": {},
   "outputs": [
    {
     "name": "stdout",
     "output_type": "stream",
     "text": [
      "welcome Balaji \n",
      "Welcome Balu\n"
     ]
    }
   ],
   "source": [
    "def Outer_function():\n",
    "    print(\"welcome Balaji \")\n",
    "    def inner_function():\n",
    "        print(\"Welcome Balu\")\n",
    "    inner_function()\n",
    "Outer_function()"
   ]
  },
  {
   "cell_type": "code",
   "execution_count": 3,
   "id": "bfd832b8-f276-4e7c-a992-5a8ee6635c8b",
   "metadata": {},
   "outputs": [
    {
     "name": "stdout",
     "output_type": "stream",
     "text": [
      "outer a\n",
      "inner b\n"
     ]
    }
   ],
   "source": [
    "def outer():\n",
    "    a='outer a'\n",
    "    print(a)\n",
    "    def inner():\n",
    "        nonlocal a\n",
    "        a='inner b'\n",
    "        print(a)\n",
    "    inner()\n",
    "outer() "
   ]
  },
  {
   "cell_type": "code",
   "execution_count": 4,
   "id": "9da4302b-cd40-4ea3-824e-59e8641ba4bf",
   "metadata": {},
   "outputs": [
    {
     "name": "stdout",
     "output_type": "stream",
     "text": [
      "outer balu\n",
      "sai balaji\n",
      "Vennelakanti Sai Balaji\n",
      "inner balaji\n"
     ]
    }
   ],
   "source": [
    "name='sai balaji'\n",
    "def outer():\n",
    "    a='outer balu'\n",
    "    print(a)\n",
    "    def inner():\n",
    "        nonlocal a\n",
    "        a='inner balaji'\n",
    "        global name\n",
    "        print(name)\n",
    "        name='Vennelakanti Sai Balaji'\n",
    "        print(name)\n",
    "        print(a)\n",
    "    inner()\n",
    "outer()"
   ]
  },
  {
   "cell_type": "code",
   "execution_count": null,
   "id": "eb720cf1-c7ff-4b79-8c69-d128d5b0b36c",
   "metadata": {},
   "outputs": [],
   "source": [
    "# Arbitrary Keyword Arguements :\n",
    "\"\"\"\n",
    "In Python Arbitrary Keyword Arguments, *args, and **kwargs can pass a variable\n",
    "number of arguments to a function using special symbols. There are two special\n",
    "symbols:\n",
    "1. *args in Python (Non-Keyword Arguements)\n",
    "2. **kwargs in Python (Keyword Arguements)\n",
    "\"\"\"\n",
    "\n"
   ]
  },
  {
   "cell_type": "code",
   "execution_count": 5,
   "id": "8589d6b3-095f-4604-9f16-1cb4d3fbf4df",
   "metadata": {},
   "outputs": [
    {
     "name": "stdout",
     "output_type": "stream",
     "text": [
      "Hello, Welcome to Programming "
     ]
    }
   ],
   "source": [
    "def a(*args):\n",
    "    for b in args:\n",
    "        print(b,end=\" \")\n",
    "a(\"Hello,\",\"Welcome\",\"to\",\"Programming\")"
   ]
  },
  {
   "cell_type": "code",
   "execution_count": 7,
   "id": "ffc7111c-1d6d-4cf0-817f-2872a59ffec1",
   "metadata": {},
   "outputs": [
    {
     "name": "stdout",
     "output_type": "stream",
     "text": [
      "fname==Vennelakanti\n",
      "lname==sai balaji\n",
      "age==21\n"
     ]
    }
   ],
   "source": [
    "def a(**kwargs):\n",
    "    for b,c in kwargs.items():\n",
    "        print(\"%s==%s\" %(b,c))\n",
    "a(fname=\"Vennelakanti\",lname='sai balaji',age=21)"
   ]
  },
  {
   "cell_type": "code",
   "execution_count": null,
   "id": "4ab3527d-9be3-4171-8f4d-c8127b5e428b",
   "metadata": {},
   "outputs": [],
   "source": [
    "# First Class Functions in Python\n",
    "\"\"\"\n",
    "A programming language is said to support First Class functions if it treats\n",
    "functions as first-class objects. Python supports the concept of First class\n",
    "functions.\n",
    "Properties of First Class Functions :\n",
    "1. A function is an instance of the Object type.\n",
    "2. You can store the function in a variable.\n",
    "3. You can pass the function as a parameter to another function.\n",
    "4. You can return the function from a function.\n",
    "5. You can store them in data structures such as hash tables, lists, ... etc.,\n",
    "\"\"\"\n",
    "\n",
    "# 1. Functions are Objects :\n",
    "\"\"\"\n",
    "Python functions are first class objects. In the example below, we are\n",
    "assigning function to a variable. This assignment doesn't call the function.\n",
    "It takes the function object referenced by shout and creates a second name\n",
    "pointing to it, yell.\n",
    "\"\"\"\n",
    "# 2. Functions can be Passed as arguements to other Functions :\n",
    "\"\"\"\n",
    "Because functions are Objects. We can pass them an arguements to other\n",
    "functions. Functions that can accept other functions as arguements are also\n",
    "called \"Higher-order Functions\". In the below example, we have created a\n",
    "function \"greet\" which takes a function as an arguement.\n",
    "\"\"\""
   ]
  },
  {
   "cell_type": "code",
   "execution_count": 1,
   "id": "a48dca8b-f6a8-4f5e-a5c6-cb5596283719",
   "metadata": {},
   "outputs": [
    {
     "name": "stdout",
     "output_type": "stream",
     "text": [
      "BALAJI\n",
      "BALAJI\n"
     ]
    }
   ],
   "source": [
    "def a(A):\n",
    "    return A.upper()\n",
    "print(a(\"Balaji\"))\n",
    "yell=a\n",
    "print(yell(\"Balaji\"))"
   ]
  },
  {
   "cell_type": "code",
   "execution_count": 5,
   "id": "36fb59b4-488f-4fd5-8fc8-5472d51d1c69",
   "metadata": {},
   "outputs": [
    {
     "name": "stdout",
     "output_type": "stream",
     "text": [
      "HELLO EVERYONE\n",
      "hello everyone\n"
     ]
    }
   ],
   "source": [
    "def a(A):\n",
    "    return A.upper()\n",
    "def b(B):\n",
    "    return B.lower()\n",
    "def c(C):\n",
    "    d=C(\"Hello Everyone\")\n",
    "    print(d)\n",
    "c(a)\n",
    "c(b)"
   ]
  },
  {
   "cell_type": "code",
   "execution_count": null,
   "id": "037b4893-99b9-4b0d-be5e-ee289f6ca3d5",
   "metadata": {},
   "outputs": [],
   "source": [
    "# 3. Functions can return another Function :\n",
    "\"\"\"\n",
    "Because functions are Objects. We can return a function from another function.\n",
    "In the below example, the 'create_adder' function returns 'adder' function.\n",
    "\"\"\""
   ]
  },
  {
   "cell_type": "code",
   "execution_count": 7,
   "id": "b8c9e4ae-5cca-456a-80fc-bb01e5a78eb4",
   "metadata": {},
   "outputs": [
    {
     "name": "stdout",
     "output_type": "stream",
     "text": [
      "200\n"
     ]
    }
   ],
   "source": [
    "def a(A):\n",
    "    def b(B):\n",
    "        return A+B\n",
    "    return b\n",
    "c=a(100)\n",
    "print(c(100))"
   ]
  },
  {
   "cell_type": "code",
   "execution_count": null,
   "id": "425e0a9d-7a13-4a08-a8ca-998abf9a831f",
   "metadata": {},
   "outputs": [],
   "source": [
    "# Python Inner Functions\n",
    "\"\"\"\n",
    "A Function which is defined inside another function is known as 'Inner\n",
    "Functions' or 'Nested Functions'.\n",
    "Nested Functions are able to access variables of the enclosing scope. Inner\n",
    "functions are used so that they can be protected from everything happening\n",
    "outside the function. This process is also known as Encapsulation.\n",
    "\"\"\"\n"
   ]
  },
  {
   "cell_type": "code",
   "execution_count": 14,
   "id": "12d2bd9c-a231-4c4b-837d-9b456fd81118",
   "metadata": {},
   "outputs": [
    {
     "name": "stdout",
     "output_type": "stream",
     "text": [
      "Hi Balaji\n"
     ]
    }
   ],
   "source": [
    "def a(text):\n",
    "    text=text\n",
    "    def b():\n",
    "        print(text)\n",
    "    b()\n",
    "if __name__=='__main__':\n",
    "    a('Hi Balaji')"
   ]
  },
  {
   "cell_type": "code",
   "execution_count": null,
   "id": "b1b5d822-262b-4069-a06c-2555f84a4f81",
   "metadata": {},
   "outputs": [],
   "source": [
    "# Scope of Variable in Nested Function :\n",
    "\"\"\"\n",
    "The location where we can find a variable and also access it if required is\n",
    "called the scope of a variable. It is known how to access a \"global variable\"\n",
    "inside a function.\n",
    "\"\"\""
   ]
  },
  {
   "cell_type": "code",
   "execution_count": 15,
   "id": "7c3d1db9-30cf-43f4-a0cf-7ebd78ccf968",
   "metadata": {},
   "outputs": [
    {
     "name": "stdout",
     "output_type": "stream",
     "text": [
      "Sai Balaji is cool\n"
     ]
    }
   ],
   "source": [
    "def a():\n",
    "    b=\"Sai Balaji is cool\"\n",
    "    def c():\n",
    "        print(b)\n",
    "    c()\n",
    "a()"
   ]
  },
  {
   "cell_type": "code",
   "execution_count": 18,
   "id": "4cbe87c1-f58f-425f-b17a-7ac63926e7ec",
   "metadata": {},
   "outputs": [
    {
     "name": "stdout",
     "output_type": "stream",
     "text": [
      "Not at all Sai Balaji is angry man but trying and looking as\n",
      "Sai Balaji is cool\n"
     ]
    }
   ],
   "source": [
    "def a():\n",
    "    b=\"Sai Balaji is cool\"\n",
    "    def c():\n",
    "        b=\"Not at all Sai Balaji is angry man but trying and looking as\"\n",
    "        print(b)\n",
    "    c()\n",
    "    print(b)\n",
    "a()"
   ]
  },
  {
   "cell_type": "code",
   "execution_count": null,
   "id": "cb848263-a41e-4fda-91bc-1a3392f9a0d7",
   "metadata": {},
   "outputs": [],
   "source": [
    "\"\"\"\n",
    "In the above program, Variable of the outer function is not changed. It can be\n",
    "changed. There are many ways to change the value of the variable of the outer\n",
    "Function.\n",
    "\"\"\"\n",
    "# 1. Using an Iterable :"
   ]
  },
  {
   "cell_type": "code",
   "execution_count": 7,
   "id": "15981751-c2fc-4b5b-ad26-8736829dad6e",
   "metadata": {},
   "outputs": [
    {
     "name": "stdout",
     "output_type": "stream",
     "text": [
      "['Not at all Sai Balaji is angry man ']\n",
      "['Not at all Sai Balaji is angry man ']\n"
     ]
    }
   ],
   "source": [
    "def a():\n",
    "    b=['Sai Balaji is Cool']\n",
    "    def c():\n",
    "        b[0]='Not at all Sai Balaji is angry man '\n",
    "        print(b)\n",
    "    c()\n",
    "    print(b)\n",
    "a()"
   ]
  },
  {
   "cell_type": "code",
   "execution_count": 6,
   "id": "4ebf1d63-10aa-4e9f-a259-8e5de687c9d0",
   "metadata": {},
   "outputs": [
    {
     "name": "stdout",
     "output_type": "stream",
     "text": [
      "['Not at all Sai Balaji is angry man ']\n",
      "['Not at all Sai Balaji is angry man ']\n"
     ]
    }
   ],
   "source": [
    "def a():\n",
    "    b=['Sai Balaji is Cool']\n",
    "    def c():\n",
    "        nonlocal b\n",
    "        b[0]='Not at all Sai Balaji is angry man '\n",
    "        print(b)\n",
    "    c()\n",
    "    print(b)\n",
    "a()"
   ]
  },
  {
   "cell_type": "code",
   "execution_count": 23,
   "id": "4c76f903-4887-4d6e-a82c-eb8233e3b55f",
   "metadata": {},
   "outputs": [
    {
     "name": "stdout",
     "output_type": "stream",
     "text": [
      "Not at all Sai Balaji is angry man but trying and looking as\n",
      "Not at all Sai Balaji is angry man but trying and looking as\n"
     ]
    }
   ],
   "source": [
    "def a():\n",
    "    a.s='Sai Balaji is Cool'\n",
    "    def c():\n",
    "        a.s='Not at all Sai Balaji is angry man but trying and looking as'\n",
    "        print(a.s)\n",
    "    c()\n",
    "    print(a.s)\n",
    "a()"
   ]
  },
  {
   "cell_type": "code",
   "execution_count": null,
   "id": "7a6d148e-0972-47a7-8490-0751990aabe5",
   "metadata": {},
   "outputs": [],
   "source": [
    "# Python Closures\n",
    "\"\"\"\n",
    "A Closure is a function object that remembers values in enclosing scopes even\n",
    "if they are not present in memory.\n",
    "1. It is a record that stores a function together with an environment: a\n",
    "   mapping associating each free variable of the function (Variables that are\n",
    "   used locally, but defined in an enclosing scope) with the value or reference\n",
    "   to which the name was bound when the closure was created.\n",
    "2. A closure (unlike a plain function) - allows the function to access those\n",
    "   captured variables through the closure's copies of their values or\n",
    "   reference, even when the function is invoked outside their scope.\n",
    "\"\"\""
   ]
  },
  {
   "cell_type": "code",
   "execution_count": 25,
   "id": "b531dccb-3084-496d-994b-8b08a3318c24",
   "metadata": {},
   "outputs": [
    {
     "name": "stdout",
     "output_type": "stream",
     "text": [
      "Hi Balaji\n"
     ]
    }
   ],
   "source": [
    "def a(text):\n",
    "    text=text\n",
    "    def b():\n",
    "        print(text)\n",
    "    return b\n",
    "if __name__=='__main__':\n",
    "    c=a('Hi Balaji')\n",
    "    c()"
   ]
  },
  {
   "cell_type": "code",
   "execution_count": null,
   "id": "f28f209d-faa1-47e0-a9dc-10ef6f291f1c",
   "metadata": {},
   "outputs": [],
   "source": [
    "\"\"\"\n",
    "As observed, 'closures' help to invoke function outside their scope.\n",
    "    The function innerFunction has its scope only inside the outerFunction. But\n",
    "with the use of closures we can easily extend its scope to invoke a function\n",
    "outside its scope.\n",
    "\"\"\""
   ]
  },
  {
   "cell_type": "code",
   "execution_count": 31,
   "id": "48e6b785-1b5f-4ed0-832c-51847625bf8c",
   "metadata": {},
   "outputs": [
    {
     "name": "stdout",
     "output_type": "stream",
     "text": [
      "30\n",
      "4\n",
      "10\n",
      "0\n",
      "25\n",
      "0\n",
      "2.0\n",
      "5.0\n"
     ]
    }
   ],
   "source": [
    "import logging\n",
    "logging.basicConfig(filename='a.log',level=logging.INFO)\n",
    "def a(func):\n",
    "    def b(*args):\n",
    "        logging.info(\n",
    "            'Running \"{}\" with arguements {}'.\n",
    "            format(func.__name__,args))\n",
    "        print(func(*args))\n",
    "    return b\n",
    "def add(x,y):\n",
    "    return x+y\n",
    "def sub(x,y):\n",
    "    return x-y\n",
    "def mul(x,y):\n",
    "    return x*y\n",
    "def div(x,y):\n",
    "    return x/y\n",
    "c=a(add)\n",
    "d=a(sub)\n",
    "e=a(mul)\n",
    "f=a(div)\n",
    "c(10,20)\n",
    "c(2,2)\n",
    "d(20,10)\n",
    "d(2,2)\n",
    "e(5,5)\n",
    "e(5,0)\n",
    "f(10,5)\n",
    "f(10,2)"
   ]
  }
 ],
 "metadata": {
  "kernelspec": {
   "display_name": "Python 3 (ipykernel)",
   "language": "python",
   "name": "python3"
  },
  "language_info": {
   "codemirror_mode": {
    "name": "ipython",
    "version": 3
   },
   "file_extension": ".py",
   "mimetype": "text/x-python",
   "name": "python",
   "nbconvert_exporter": "python",
   "pygments_lexer": "ipython3",
   "version": "3.8.2"
  }
 },
 "nbformat": 4,
 "nbformat_minor": 5
}
