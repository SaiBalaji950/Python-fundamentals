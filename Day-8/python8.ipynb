{
 "cells": [
  {
   "cell_type": "raw",
   "id": "c7ceff5f-4524-4539-8c35-fa1f9deed3b4",
   "metadata": {},
   "source": [
    "# Accessing List Data - The list items are accessed by referring to the\n",
    "# index number.\n",
    "\"\"\" Negative indexing means beginning from the end, -1 refers to the\n",
    "last element, -2 refers to the second last item etc.,\n",
    "A range of indexes can be specified by specifying where to start and where\n",
    "to end the range. When specifying a range, the return value will be a new\n",
    "list with the specified items.\n",
    "Note : The search will start at index 2 (included) and end at index 5 (not\n",
    "included).\n",
    "By leaving out the start value, the range will start at the first item.\n",
    "By leaving out the end value, the range will go on to the end of the list. \"\"\""
   ]
  },
  {
   "cell_type": "code",
   "execution_count": 7,
   "id": "17f9c6f1-89dc-4392-8f6d-f44a3feddca8",
   "metadata": {},
   "outputs": [
    {
     "name": "stdout",
     "output_type": "stream",
     "text": [
      "vennelakanti\n",
      "['vennelakanti']\n",
      "['vennelakanti', 'sai']\n",
      "['vennelakanti', 'sai']\n",
      "['vennelakanti', 'sai', 'balaji']\n",
      "['vennelakanti', 'sai', 'balaji']\n"
     ]
    }
   ],
   "source": [
    "a=['vennelakanti','sai','balaji']\n",
    "print(a[0])\n",
    "print(a[0:1])\n",
    "print(a[0:2])\n",
    "print(a[-3:-1])\n",
    "print(a[0:])\n",
    "print(a[-3:])"
   ]
  },
  {
   "cell_type": "code",
   "execution_count": 12,
   "id": "395c0d6b-9e17-48e0-9689-42ea9d6bbb41",
   "metadata": {},
   "outputs": [
    {
     "name": "stdout",
     "output_type": "stream",
     "text": [
      "[1, 2, 3, 4, 5, 6, 7, 8, 9, 10]\n",
      "[1, 2, 3, 4]\n",
      "[1, 2, 3, 4, 5, 6, 7, 8, 9]\n",
      "[1, 2, 3, 4, 5, 6, 7, 8, 9, 10]\n",
      "[1]\n",
      "[4, 5, 6, 7]\n"
     ]
    }
   ],
   "source": [
    "a=[1,2,3,4,5,6,7,8,9,10]\n",
    "print(a[:])\n",
    "print(a[:4])\n",
    "print(a[:-1])\n",
    "print(a[0:])\n",
    "print(a[:-9])\n",
    "print(a[-7:-3])"
   ]
  },
  {
   "cell_type": "code",
   "execution_count": 4,
   "id": "91ffcdd7-c1a3-457c-92c8-8f41a8d8183f",
   "metadata": {},
   "outputs": [
    {
     "name": "stdout",
     "output_type": "stream",
     "text": [
      "yes 123 is in a\n"
     ]
    }
   ],
   "source": [
    "a=['balaji','sai','vennelakanti',123]\n",
    "if(123 in a):\n",
    "    print(\"yes 123 is in a\")\n",
    "if(143 in a):\n",
    "    print(\"True\")"
   ]
  },
  {
   "cell_type": "code",
   "execution_count": 5,
   "id": "52cf8ca9-69a6-44ba-a412-0e572f35f9c0",
   "metadata": {},
   "outputs": [
    {
     "name": "stdout",
     "output_type": "stream",
     "text": [
      "['vennelakanti', 'sai', 'balaji']\n"
     ]
    }
   ],
   "source": [
    "a=['vennelakanti','balaji','sai']\n",
    "a[1]='sai'\n",
    "a[2]='balaji'\n",
    "print(a)"
   ]
  },
  {
   "cell_type": "code",
   "execution_count": 6,
   "id": "58c4cfbb-0e70-44db-8fd0-1093d0c6646d",
   "metadata": {},
   "outputs": [
    {
     "name": "stdout",
     "output_type": "stream",
     "text": [
      "['vennelakanti', ['veera venkata satya narayana naga', 'sai'], 'balaji']\n"
     ]
    }
   ],
   "source": [
    "a=['vennelakanti','sai','balaji']\n",
    "a[1]=['veera venkata satya narayana naga','sai']\n",
    "print(a)"
   ]
  },
  {
   "cell_type": "code",
   "execution_count": 13,
   "id": "b13e0d53-f0d8-454e-babd-f4b7d83ec69e",
   "metadata": {},
   "outputs": [
    {
     "name": "stdout",
     "output_type": "stream",
     "text": [
      "['vennelakanti', 'veera', 'venkata', 'satya', 'narayana', 'naga', 'sai', 'balaji']\n"
     ]
    }
   ],
   "source": [
    "a=['vennelakanti','sai','balaji']\n",
    "a[0:1]=['vennelakanti','veera','venkata','satya','narayana','naga']\n",
    "print(a)"
   ]
  },
  {
   "cell_type": "raw",
   "id": "fa24b05d-4c07-450d-976a-2453465ad317",
   "metadata": {},
   "source": [
    "LIST METHODS\n",
    "# 1. append() - Adds an element at the end of the list\n",
    "\"\"\" The append() method appends an element at the end of the list.\n",
    "Syntax : list.append(element)\n",
    "element - Required. An element of any type (string, number, object etc.,) \"\"\"\n",
    "# Example-1 : Add an element to the fruits list."
   ]
  },
  {
   "cell_type": "code",
   "execution_count": 21,
   "id": "9b72161a-c8c5-4adc-b71c-0420cdc19069",
   "metadata": {},
   "outputs": [
    {
     "name": "stdout",
     "output_type": "stream",
     "text": [
      "['vennelakanti', 'sai', 'balaji']\n"
     ]
    }
   ],
   "source": [
    "a=['vennelakanti','sai']\n",
    "a.append('balaji')\n",
    "print(a)"
   ]
  },
  {
   "cell_type": "code",
   "execution_count": 23,
   "id": "82984cb3-ba89-4742-82f4-5152c7db840f",
   "metadata": {},
   "outputs": [
    {
     "name": "stdout",
     "output_type": "stream",
     "text": [
      "['vennelakanti', 'sai', 'balaji']\n"
     ]
    }
   ],
   "source": [
    "a=['vennelakanti','sai']\n",
    "b='balaji'\n",
    "a.append(b)\n",
    "print(a)"
   ]
  },
  {
   "cell_type": "raw",
   "id": "8dcf442c-23a4-452b-a49a-8794a02ec3cd",
   "metadata": {},
   "source": [
    "# 2. clear() - Removes all the elements from the list\n",
    "\"\"\" The clear() method removes all the elements from a list.\n",
    "Syntax : list.clear() \"\"\""
   ]
  },
  {
   "cell_type": "code",
   "execution_count": 24,
   "id": "7d3d49cd-59ee-4001-bd96-5d58f5edcd10",
   "metadata": {},
   "outputs": [
    {
     "name": "stdout",
     "output_type": "stream",
     "text": [
      "[]\n"
     ]
    }
   ],
   "source": [
    "a=['sai','balaji']\n",
    "a.clear()\n",
    "print(a)"
   ]
  },
  {
   "cell_type": "raw",
   "id": "84f5bdbf-305b-4dd7-aaa2-409a3add5c94",
   "metadata": {},
   "source": [
    "# 3. copy() - Returns a copy of the list\n",
    "\"\"\" The copy() method returns a copy of the specified list.\n",
    "Syntax : list.copy() \"\"\""
   ]
  },
  {
   "cell_type": "code",
   "execution_count": 25,
   "id": "e05b84a4-c0ba-440a-a271-7d1d78e9a0b4",
   "metadata": {},
   "outputs": [
    {
     "name": "stdout",
     "output_type": "stream",
     "text": [
      "['vennelakanti', 'sai', 'balaji']\n"
     ]
    }
   ],
   "source": [
    "a=['vennelakanti','sai','balaji']\n",
    "b=a.copy()\n",
    "print(b)"
   ]
  },
  {
   "cell_type": "raw",
   "id": "8a82ee57-39c9-4960-8613-10a9b3972a39",
   "metadata": {},
   "source": [
    "# 4. count() - Returns the number of elements with the specified value\n",
    "\"\"\" The count() method returns the number of elements with the specified value.\n",
    "Syntax : list.count(value)\n",
    "value - Required. Any type (string, number, list, tuple, etc.,). The value to\n",
    "search for. \"\"\""
   ]
  },
  {
   "cell_type": "code",
   "execution_count": 26,
   "id": "62d0a64c-029f-4b1a-9ac3-a44321601abd",
   "metadata": {},
   "outputs": [
    {
     "name": "stdout",
     "output_type": "stream",
     "text": [
      "1\n",
      "7\n",
      "1\n"
     ]
    }
   ],
   "source": [
    "a=['vennelakanti','sai','balaji',1,2,3,4,5,5,5,5,5,5,5,6,]\n",
    "print(a.count('balaji'))\n",
    "print(a.count(5))\n",
    "print(a.count('sai'))"
   ]
  },
  {
   "cell_type": "raw",
   "id": "3da9d21d-b9b5-423a-abb8-95f1d8cbd733",
   "metadata": {},
   "source": [
    "# 5. extend() - Adds the elements of a list (or any iterable), to the end of\n",
    "# the current list.\n",
    "\"\"\" The extend() method adds the specified list elements (or any iterable) to\n",
    "the end of the current list.\n",
    "Syntax : list.extend(iterable)\n",
    "iterable - Required. Any iterable (list, set, tuple, etc.,) \"\"\""
   ]
  },
  {
   "cell_type": "code",
   "execution_count": 29,
   "id": "46a25b24-0b4c-40d1-aa29-bab3346b8f29",
   "metadata": {},
   "outputs": [
    {
     "name": "stdout",
     "output_type": "stream",
     "text": [
      "['veenelakanti', 'veera', 'venakta', 'satya', 'narayana', 'naga', 'sai', 'balaji']\n",
      "['veenelakanti', 'veera', 'venakta', 'satya', 'narayana', 'naga', 'sai', 'balaji', 1, 2, 3, 4, 5]\n"
     ]
    }
   ],
   "source": [
    "a=['veenelakanti','veera','venakta','satya','narayana']\n",
    "b=['naga','sai','balaji']\n",
    "a.extend(b)\n",
    "print(a)\n",
    "c=(1,2,3,4,5)\n",
    "a.extend(c)\n",
    "print(a)"
   ]
  },
  {
   "cell_type": "raw",
   "id": "5c569661-4fb6-4861-bae1-6136fb9620e7",
   "metadata": {},
   "source": [
    "# 6. index() - Returns the index of the first element with the specified value\n",
    "\"\"\" The index() method returns the position at the first occurrence of the\n",
    "specified value.\n",
    "Note : The index() method only returns the first occurrence of the value.\n",
    "Syntax : list.index(element)\n",
    "element - Required. Any type (string, number, list, etc.,). The element to\n",
    "search for. \"\"\""
   ]
  },
  {
   "cell_type": "code",
   "execution_count": 34,
   "id": "07bca863-77f2-4619-bbf5-ba936e20ce6a",
   "metadata": {},
   "outputs": [
    {
     "name": "stdout",
     "output_type": "stream",
     "text": [
      "0\n",
      "7\n"
     ]
    }
   ],
   "source": [
    "a=['vennelakanti','sai','balaji',1,2,3,4,5]\n",
    "print(a.index('vennelakanti'))\n",
    "print(a.index(5))"
   ]
  },
  {
   "cell_type": "raw",
   "id": "aa15ac39-f56b-4131-ae4f-91bf0c505a21",
   "metadata": {},
   "source": [
    "# 7. insert() - Adds an element at the specified position\n",
    "\"\"\" The insert() method is to insert a new list item, without replacing any of\n",
    "the existing values, we can use the insert() method.\n",
    "The insert() method inserts an item at the specified index.\n",
    "Syntax : list.insert(position, element)\n",
    "1. position - Required. A number specifying in which position to insert\n",
    "the value.\n",
    "2. element - Required. An element of any type (string, number, object etc.,)\n",
    "\"\"\""
   ]
  },
  {
   "cell_type": "code",
   "execution_count": 38,
   "id": "02482543-dea8-40ce-9641-83f2e16d4c2a",
   "metadata": {},
   "outputs": [
    {
     "name": "stdout",
     "output_type": "stream",
     "text": [
      "['vennelakanti', 'sai', 'balaji']\n"
     ]
    }
   ],
   "source": [
    "a=['vennelakanti','balaji']\n",
    "a.insert(1,'sai')\n",
    "print(a)"
   ]
  },
  {
   "cell_type": "raw",
   "id": "6b66c6ef-15a6-47db-a824-cd56745a6491",
   "metadata": {},
   "source": [
    "# 8. pop() - Removes the element at the specified position\n",
    "\"\"\" The pop() method removes the element at the specified position.\n",
    "Note : The pop() method returns removed value.\n",
    "Syntax : list.pop(position)\n",
    "position - Optional. A number specifying the position of the element you want\n",
    "to remove, default value is -1, which returns the last item. \"\"\""
   ]
  },
  {
   "cell_type": "code",
   "execution_count": 39,
   "id": "c0042615-0fb8-416c-9d04-0b0e36f529bc",
   "metadata": {},
   "outputs": [
    {
     "name": "stdout",
     "output_type": "stream",
     "text": [
      "['vennelakanti', 'sai', 'balaji']\n"
     ]
    }
   ],
   "source": [
    "a=['vennelakanti','sai','satya','balaji']\n",
    "a.pop(2)\n",
    "print(a)"
   ]
  },
  {
   "cell_type": "code",
   "execution_count": 40,
   "id": "84b003ad-e13c-464d-9815-63faf04f46db",
   "metadata": {},
   "outputs": [
    {
     "name": "stdout",
     "output_type": "stream",
     "text": [
      "satya\n"
     ]
    }
   ],
   "source": [
    "#Return the removed element\n",
    "a=['vennelakanti','sai','satya','balaji']\n",
    "b=a.pop(2)\n",
    "print(b)"
   ]
  },
  {
   "cell_type": "raw",
   "id": "33cada7b-2cec-4f6d-9d68-0e77c2d09420",
   "metadata": {},
   "source": [
    "# 9. remove() - Removes the first item with the specified value\n",
    "\"\"\" The remove() method removes the first occurrence of the element with the\n",
    "specified value.\n",
    "Syntax : list.remove(element)\n",
    "element - Required. Any type (string, number, list, etc.,).\n",
    "The element you want to remove. \"\"\""
   ]
  },
  {
   "cell_type": "code",
   "execution_count": 41,
   "id": "526c1c07-49d2-445a-a03e-c0f9a570eaaf",
   "metadata": {},
   "outputs": [
    {
     "name": "stdout",
     "output_type": "stream",
     "text": [
      "['vennelakanti', 'sai', 'balaji']\n"
     ]
    }
   ],
   "source": [
    "a=['vennelakanti','sai','satya','balaji']\n",
    "a.remove('satya')\n",
    "print(a)"
   ]
  },
  {
   "cell_type": "raw",
   "id": "3d02bd58-d0f0-4dfe-bbbf-3b511c688e0f",
   "metadata": {},
   "source": [
    "# 10. reverse() - Reverses the order of list.\n",
    "\"\"\" The reverse() method reverses the sorting order of the elements.\n",
    "Syntax : list.reverse() \"\"\""
   ]
  },
  {
   "cell_type": "code",
   "execution_count": 42,
   "id": "d3b6483f-b555-449d-b2ff-77af3b73aebe",
   "metadata": {},
   "outputs": [
    {
     "name": "stdout",
     "output_type": "stream",
     "text": [
      "['vennelakanti', 'sai', 'balaji']\n"
     ]
    }
   ],
   "source": [
    "a=['balaji','sai','vennelakanti']\n",
    "a.reverse()\n",
    "print(a)"
   ]
  },
  {
   "cell_type": "raw",
   "id": "df5d10c5-3e53-4e17-975e-ba49649f5e80",
   "metadata": {},
   "source": [
    "# 11. sort() - Sorts the list\n",
    "\"\"\" The sort() method sorts List Alphanumerically. List Objects have a sort()\n",
    "method that will sort the list alphanumerically, ascending, by default.\n",
    "To sort descending, use the keyword arguement reverse = True.\n",
    "Syntax : list.sort() - for ascending.\n",
    "list.sort(reverse = True) - for descending. \"\"\""
   ]
  },
  {
   "cell_type": "code",
   "execution_count": 47,
   "id": "35801ac7-0f34-470d-a33b-45661523af0c",
   "metadata": {},
   "outputs": [
    {
     "name": "stdout",
     "output_type": "stream",
     "text": [
      "[0, 1, 2, 3, 4, 5, 6, 7, 8, 9, 10]\n",
      "[10, 9, 8, 7, 6, 5, 4, 3, 2, 1, 0]\n"
     ]
    }
   ],
   "source": [
    "a=[10,9,8,7,6,5,4,3,2,1,0]\n",
    "a.sort()\n",
    "print(a)\n",
    "a.sort(reverse=True)\n",
    "print(a)"
   ]
  },
  {
   "cell_type": "code",
   "execution_count": 46,
   "id": "b3235d2a-8016-4ce4-ac42-3536f29b4795",
   "metadata": {},
   "outputs": [
    {
     "name": "stdout",
     "output_type": "stream",
     "text": [
      "['balaji', 'sai', 'vennelakanti']\n"
     ]
    }
   ],
   "source": [
    "a=['vennelakanti','sai','balaji']\n",
    "a.sort()\n",
    "print(a)"
   ]
  },
  {
   "cell_type": "code",
   "execution_count": 48,
   "id": "7738013b-6919-4a6c-bf83-debe533b8cfd",
   "metadata": {},
   "outputs": [
    {
     "name": "stdout",
     "output_type": "stream",
     "text": [
      "['mahesh babu', 'chiranjeevi', 'chaithanya', 'balakrishna']\n"
     ]
    }
   ],
   "source": [
    "a=['chiranjeevi','balakrishna','chaithanya','mahesh babu']\n",
    "a.sort(reverse=True)\n",
    "print(a)"
   ]
  },
  {
   "cell_type": "raw",
   "id": "cc2e71de-d4a7-457f-b502-4a67b0799817",
   "metadata": {},
   "source": [
    "\"\"\" Customize Sort Function : We can also customize  you own function by using\n",
    "the keyword arguement key = function.\n",
    "The function will return a number that will be used to sort the list (the\n",
    "lowest number first).\n",
    "\"\"\"\n",
    "\"\"\" Note : By default the sort() method is case sensitive, resulting in all\n",
    "capital letters being sorted after lower case letter. \"\"\"\n",
    "\"\"\" Case Insensitive Sort : We can use built-in functions as key functions\n",
    "when sorting a list. So if you want a case-insensitive sort function, use\n",
    "str.lower as a key function. \"\"\""
   ]
  },
  {
   "cell_type": "code",
   "execution_count": 55,
   "id": "90aead01-02c0-42b9-a164-e0556764b913",
   "metadata": {},
   "outputs": [
    {
     "name": "stdout",
     "output_type": "stream",
     "text": [
      "[50, 63, 75, 87, 100]\n"
     ]
    }
   ],
   "source": [
    "def a(num):\n",
    "    return abs(num-20)\n",
    "    \n",
    "b=[100,75,50,63,87]\n",
    "b.sort(key=a)\n",
    "print(b)"
   ]
  },
  {
   "cell_type": "code",
   "execution_count": 57,
   "id": "2080e7f9-9e84-49a2-8b7b-9001a3ae6868",
   "metadata": {},
   "outputs": [
    {
     "name": "stdout",
     "output_type": "stream",
     "text": [
      "['Good', 'Sai', 'Vennelakanti', 'balaji']\n"
     ]
    }
   ],
   "source": [
    "#\"\"\" Note : By default the sort() method is case sensitive, resulting in all capital letters being sorted after lower case letter. \"\"\"\n",
    "a=['Vennelakanti','Sai','balaji','Good']\n",
    "a.sort()\n",
    "print(a)"
   ]
  },
  {
   "cell_type": "code",
   "execution_count": 59,
   "id": "448bc7b0-5ba4-40ab-8b51-9132a6aed447",
   "metadata": {},
   "outputs": [
    {
     "name": "stdout",
     "output_type": "stream",
     "text": [
      "['balaji', 'Good', 'Sai', 'Vennelakanti']\n"
     ]
    }
   ],
   "source": [
    "#\"\"\" Case Insensitive Sort : We can use built-in functions as key functions when sorting a list. So if you want a case-insensitive sort function, use\n",
    "#str.lower as a key function. \"\"\"\n",
    "a=['Vennelakanti','Sai','balaji','Good']\n",
    "a.sort(key=str.lower)\n",
    "print(a)"
   ]
  }
 ],
 "metadata": {
  "kernelspec": {
   "display_name": "Python 3 (ipykernel)",
   "language": "python",
   "name": "python3"
  },
  "language_info": {
   "codemirror_mode": {
    "name": "ipython",
    "version": 3
   },
   "file_extension": ".py",
   "mimetype": "text/x-python",
   "name": "python",
   "nbconvert_exporter": "python",
   "pygments_lexer": "ipython3",
   "version": "3.8.2"
  }
 },
 "nbformat": 4,
 "nbformat_minor": 5
}
