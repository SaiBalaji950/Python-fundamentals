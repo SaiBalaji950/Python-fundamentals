{
 "cells": [
  {
   "cell_type": "code",
   "execution_count": 11,
   "id": "5ef2e7be-7daf-436f-8371-10822cbc926c",
   "metadata": {},
   "outputs": [
    {
     "name": "stdout",
     "output_type": "stream",
     "text": [
      "*****\n",
      "****\n",
      "***\n",
      "**\n",
      "*\n"
     ]
    }
   ],
   "source": [
    "a=5\n",
    "i=a\n",
    "while i>0:\n",
    "    print('*'*i)\n",
    "    i-=1"
   ]
  },
  {
   "cell_type": "code",
   "execution_count": 15,
   "id": "b2cf3a36-fb7d-45a6-ab3a-cc687b03075e",
   "metadata": {},
   "outputs": [
    {
     "name": "stdout",
     "output_type": "stream",
     "text": [
      "*\n",
      "**\n",
      "***\n",
      "****\n",
      "*****\n"
     ]
    }
   ],
   "source": [
    "a=1\n",
    "while (a<=5):\n",
    "    print('*'*a)\n",
    "    a+=1"
   ]
  },
  {
   "cell_type": "code",
   "execution_count": 21,
   "id": "122c23a1-ff3d-4c86-b7a6-f29853762ab0",
   "metadata": {},
   "outputs": [
    {
     "name": "stdout",
     "output_type": "stream",
     "text": [
      "**\n",
      "****\n",
      "******\n",
      "********\n",
      "**********\n"
     ]
    }
   ],
   "source": [
    "a=2\n",
    "while (a<=10):\n",
    "    print('*'*a)\n",
    "    a+=2"
   ]
  },
  {
   "cell_type": "code",
   "execution_count": 22,
   "id": "af17f6dd-6f0b-4c5f-ba6d-20671dd8d942",
   "metadata": {},
   "outputs": [
    {
     "name": "stdout",
     "output_type": "stream",
     "text": [
      "0\n",
      "2\n",
      "4\n",
      "break\n"
     ]
    }
   ],
   "source": [
    "a=0\n",
    "while (a<5):\n",
    "    print(a)\n",
    "    a+=2\n",
    "else:\n",
    "    print('break')"
   ]
  },
  {
   "cell_type": "code",
   "execution_count": 43,
   "id": "dff997fb-14df-4766-9292-aab5941be271",
   "metadata": {},
   "outputs": [
    {
     "name": "stdout",
     "output_type": "stream",
     "text": [
      "10\n",
      "11\n",
      "12\n",
      "13\n",
      "14\n",
      "break\n"
     ]
    }
   ],
   "source": [
    "a=10\n",
    "while (a<15):\n",
    "        print(a)\n",
    "        a+=1\n",
    "        if(a==5):\n",
    "            break\n",
    "else:\n",
    "    print('break')"
   ]
  },
  {
   "cell_type": "code",
   "execution_count": 50,
   "id": "cfeeb91c-0bdc-42b4-97cf-9102f10da107",
   "metadata": {},
   "outputs": [
    {
     "name": "stdout",
     "output_type": "stream",
     "text": [
      "30\n",
      "29\n",
      "28\n",
      "27\n",
      "26\n",
      "25\n",
      "24\n",
      "23\n",
      "break\n",
      "break\n"
     ]
    }
   ],
   "source": [
    "a=30\n",
    "while (a>22):\n",
    "        print(a)\n",
    "        a-=1\n",
    "        if(a==22):\n",
    "           print('break')\n",
    "else:\n",
    "    print('break')"
   ]
  },
  {
   "cell_type": "raw",
   "id": "ab0d448b-da8c-4e9e-86b3-955230c308ef",
   "metadata": {},
   "source": [
    "CONTROL STATEMENTS - BREAK,CONTINUE,PASS"
   ]
  },
  {
   "cell_type": "code",
   "execution_count": 53,
   "id": "948d8816-fe62-47aa-8c75-1493e2dc8dcd",
   "metadata": {},
   "outputs": [
    {
     "name": "stdout",
     "output_type": "stream",
     "text": [
      "25\n",
      "26\n",
      "27\n",
      "28\n",
      "29\n",
      "30\n",
      "31\n"
     ]
    }
   ],
   "source": [
    "#break for 'for loop'\n",
    "for i in range(25,35):\n",
    "    if(i==32):\n",
    "        break\n",
    "    print(i)"
   ]
  },
  {
   "cell_type": "code",
   "execution_count": 59,
   "id": "6ad6d942-c590-4370-8b1a-4762a2372729",
   "metadata": {},
   "outputs": [
    {
     "name": "stdin",
     "output_type": "stream",
     "text": [
      "Enter:hello balaji\n"
     ]
    },
    {
     "name": "stdout",
     "output_type": "stream",
     "text": [
      "wrong input\n"
     ]
    },
    {
     "name": "stdin",
     "output_type": "stream",
     "text": [
      "Enter:hello hello\n"
     ]
    },
    {
     "name": "stdout",
     "output_type": "stream",
     "text": [
      "correct input\n"
     ]
    }
   ],
   "source": [
    "#break for while loop\n",
    "while 1:\n",
    "    n=input(\"Enter:\" 'hello' )\n",
    "    if n.strip()=='hello':\n",
    "        print('correct input')\n",
    "        break\n",
    "    else:\n",
    "        print('wrong input')"
   ]
  },
  {
   "cell_type": "code",
   "execution_count": 61,
   "id": "5ab762bc-1a32-4d6c-992f-95aa7ecf5abf",
   "metadata": {},
   "outputs": [
    {
     "name": "stdout",
     "output_type": "stream",
     "text": [
      "b\n",
      "a\n",
      "l\n",
      "a\n",
      "j\n",
      "i\n"
     ]
    }
   ],
   "source": [
    "#pass\n",
    "for i in 'balaji':\n",
    "    if i in 'j':\n",
    "        pass\n",
    "    print(i)\n",
    "    "
   ]
  },
  {
   "cell_type": "code",
   "execution_count": 62,
   "id": "a8ffa772-4d7c-420a-a97c-c90c1ab805dc",
   "metadata": {},
   "outputs": [
    {
     "name": "stdout",
     "output_type": "stream",
     "text": [
      "25\n",
      "26\n",
      "27\n",
      "28\n",
      "29\n",
      "30\n",
      "31\n",
      "33\n",
      "34\n"
     ]
    }
   ],
   "source": [
    "#continue for 'for loop'\n",
    "for i in range(25,35):\n",
    "    if(i==32):\n",
    "        continue\n",
    "    print(i)"
   ]
  },
  {
   "cell_type": "code",
   "execution_count": 75,
   "id": "d208403f-4b15-485d-9c9e-bb1d5348a723",
   "metadata": {},
   "outputs": [
    {
     "name": "stdin",
     "output_type": "stream",
     "text": [
      "Enter Some name (To stop enter 'exit'):  balaji\n"
     ]
    },
    {
     "name": "stdout",
     "output_type": "stream",
     "text": [
      "You entered a Good name...\n"
     ]
    },
    {
     "name": "stdin",
     "output_type": "stream",
     "text": [
      "Enter Some name (To stop enter 'exit'):  exit\n"
     ]
    }
   ],
   "source": [
    "while True:\n",
    "    n = input(\"Enter Some name (To stop enter 'exit'): \")\n",
    "    if (n == 'exit'):\n",
    "        break\n",
    "    elif (len(n) < 3):\n",
    "        print('Name is very small...')\n",
    "    print('You entered a Good name...')"
   ]
  }
 ],
 "metadata": {
  "kernelspec": {
   "display_name": "Python 3 (ipykernel)",
   "language": "python",
   "name": "python3"
  },
  "language_info": {
   "codemirror_mode": {
    "name": "ipython",
    "version": 3
   },
   "file_extension": ".py",
   "mimetype": "text/x-python",
   "name": "python",
   "nbconvert_exporter": "python",
   "pygments_lexer": "ipython3",
   "version": "3.8.2"
  }
 },
 "nbformat": 4,
 "nbformat_minor": 5
}
