{
 "cells": [
  {
   "cell_type": "raw",
   "id": "d5303c25-ac0f-4685-9029-35a79e337980",
   "metadata": {},
   "source": [
    "Conditional Statements-if, if-else, elif"
   ]
  },
  {
   "cell_type": "code",
   "execution_count": 8,
   "id": "97687bc4-763c-46f5-aac3-5150382843da",
   "metadata": {},
   "outputs": [
    {
     "name": "stdout",
     "output_type": "stream",
     "text": [
      "10 is less than 15\n"
     ]
    }
   ],
   "source": [
    "#if statement\n",
    "i=10\n",
    "if(i>15):\n",
    "    {\n",
    "    print('False')\n",
    "    }\n",
    "print('10 is less than 15')"
   ]
  },
  {
   "cell_type": "code",
   "execution_count": 9,
   "id": "cf53db18-b8e4-48de-8d48-8bf4111781cf",
   "metadata": {},
   "outputs": [
    {
     "name": "stdout",
     "output_type": "stream",
     "text": [
      "True\n",
      "Balaji Age is 21\n"
     ]
    }
   ],
   "source": [
    "i=21\n",
    "if(i>20):\n",
    "    {\n",
    "        print('True')\n",
    "    }\n",
    "print('Balaji Age is 21')    "
   ]
  },
  {
   "cell_type": "code",
   "execution_count": 16,
   "id": "acdb3b6e-0f29-41d7-bd1c-5ec6894811d5",
   "metadata": {},
   "outputs": [
    {
     "name": "stdout",
     "output_type": "stream",
     "text": [
      "Starting Day is Sunday\n"
     ]
    }
   ],
   "source": [
    "day='Sunday'\n",
    "if(day=='Monday'):\n",
    "    {\n",
    "        print('True')\n",
    "    }\n",
    "print('Starting Day is Sunday')"
   ]
  },
  {
   "cell_type": "code",
   "execution_count": 19,
   "id": "5f85343e-2770-472d-aff4-1c3e1fafa065",
   "metadata": {},
   "outputs": [
    {
     "name": "stdout",
     "output_type": "stream",
     "text": [
      "i is an even\n",
      "i is an even number\n"
     ]
    }
   ],
   "source": [
    "#nested-if statement\n",
    "i=10\n",
    "if(i>0):\n",
    "    if((i%2)==0):\n",
    "            print('i is an even')\n",
    "        \n",
    "print('i is an even number')"
   ]
  },
  {
   "cell_type": "code",
   "execution_count": 21,
   "id": "ce6d89ef-79cb-4cf7-967c-13f1679f8736",
   "metadata": {},
   "outputs": [
    {
     "name": "stdout",
     "output_type": "stream",
     "text": [
      "i is an odd\n"
     ]
    }
   ],
   "source": [
    "i=11\n",
    "if(i>0):\n",
    "    if((i%2)!=0):\n",
    "        print('i is an odd')"
   ]
  },
  {
   "cell_type": "code",
   "execution_count": 22,
   "id": "e2d3752b-a427-4ec9-a061-586f38a42920",
   "metadata": {},
   "outputs": [
    {
     "name": "stdout",
     "output_type": "stream",
     "text": [
      "False\n"
     ]
    }
   ],
   "source": [
    "#if-else statement\n",
    "i=10\n",
    "if(i>20):\n",
    "    print('True')\n",
    "else:\n",
    "    print('False')"
   ]
  },
  {
   "cell_type": "code",
   "execution_count": 23,
   "id": "4f2a28b3-7de9-4c9e-beee-5cdcca2c34ec",
   "metadata": {},
   "outputs": [
    {
     "name": "stdout",
     "output_type": "stream",
     "text": [
      "10 is greater than True\n"
     ]
    }
   ],
   "source": [
    "i=10\n",
    "if(i>20):\n",
    "    print('True')\n",
    "else:\n",
    "    print('10 is greater than True')"
   ]
  },
  {
   "cell_type": "code",
   "execution_count": 24,
   "id": "c2cb03de-2a2a-456e-b333-e90365d6d266",
   "metadata": {},
   "outputs": [
    {
     "name": "stdout",
     "output_type": "stream",
     "text": [
      "Balajis age is 100000000\n"
     ]
    }
   ],
   "source": [
    "age=21\n",
    "if(age>20):\n",
    "    print('Balajis age is 100000000')\n",
    "else:\n",
    "    print('Balajis age is 21')"
   ]
  },
  {
   "cell_type": "code",
   "execution_count": 25,
   "id": "570eebf5-b459-48ac-92a5-3d2143f853b2",
   "metadata": {},
   "outputs": [
    {
     "name": "stdout",
     "output_type": "stream",
     "text": [
      "now i is 23\n"
     ]
    }
   ],
   "source": [
    "#elif statement\n",
    "i=23\n",
    "if(i==2):\n",
    "    print('i is 23')\n",
    "elif(i==20):\n",
    "    print('i is 23')\n",
    "elif(i==23):\n",
    "    print('now i is 23')\n",
    "else:\n",
    "    print('there is no i')"
   ]
  },
  {
   "cell_type": "code",
   "execution_count": 32,
   "id": "698fcc0a-a564-49dc-98c6-1ca4b6f33802",
   "metadata": {},
   "outputs": [
    {
     "name": "stdin",
     "output_type": "stream",
     "text": [
      "Enter Your Marks 120\n"
     ]
    },
    {
     "name": "stdout",
     "output_type": "stream",
     "text": [
      "its over\n"
     ]
    }
   ],
   "source": [
    "a=100\n",
    "b=int(input('Enter Your Marks'))\n",
    "if(b==a):\n",
    "    print('you got 100')\n",
    "elif(b<=a):\n",
    "    print('nice attempt')\n",
    "else:\n",
    "    print('its over')"
   ]
  },
  {
   "cell_type": "code",
   "execution_count": 33,
   "id": "ec45a341-4845-476b-9c27-b710f37831bf",
   "metadata": {},
   "outputs": [
    {
     "name": "stdin",
     "output_type": "stream",
     "text": [
      "Enter Your Marks 50\n"
     ]
    },
    {
     "name": "stdout",
     "output_type": "stream",
     "text": [
      "nice attempt\n"
     ]
    }
   ],
   "source": [
    "a=100\n",
    "b=int(input('Enter Your Marks'))\n",
    "if(b==a):\n",
    "    print('you got 100')\n",
    "elif(b<=a):\n",
    "    print('nice attempt')\n",
    "else:\n",
    "    print('its over')"
   ]
  },
  {
   "cell_type": "code",
   "execution_count": 34,
   "id": "0a55c318-0027-423f-b290-0507c8ee6966",
   "metadata": {},
   "outputs": [
    {
     "name": "stdin",
     "output_type": "stream",
     "text": [
      "Enter Your Marks 100\n"
     ]
    },
    {
     "name": "stdout",
     "output_type": "stream",
     "text": [
      "you got 100\n"
     ]
    }
   ],
   "source": [
    "a=100\n",
    "b=int(input('Enter Your Marks'))\n",
    "if(b==a):\n",
    "    print('you got 100')\n",
    "elif(b<=a):\n",
    "    print('nice attempt')\n",
    "else:\n",
    "    print('its over')"
   ]
  },
  {
   "cell_type": "code",
   "execution_count": 36,
   "id": "f209b7de-073a-41d6-b19e-ad605ee8ef93",
   "metadata": {},
   "outputs": [
    {
     "name": "stdout",
     "output_type": "stream",
     "text": [
      "Balajis Age is 100000\n"
     ]
    }
   ],
   "source": [
    "age=21\n",
    "if(age>100):\n",
    "    print('Balajis Age is 100000000')\n",
    "elif(age>20):\n",
    "    print('Balajis Age is 100000')\n",
    "elif(age==21):\n",
    "    print('Balaji Age is 21')\n",
    "else:\n",
    "    print('Balaji is elder than world')"
   ]
  },
  {
   "cell_type": "code",
   "execution_count": 38,
   "id": "773d983f-aa6f-4d25-9fd2-e4f3ae299355",
   "metadata": {},
   "outputs": [
    {
     "name": "stdout",
     "output_type": "stream",
     "text": [
      "Balaji Age is 21\n"
     ]
    }
   ],
   "source": [
    "age=21\n",
    "if(age>100):\n",
    "    print('Balajis Age is 100000000')\n",
    "elif(age==21):\n",
    "    print('Balaji Age is 21')\n",
    "elif(age>20):\n",
    "    print('Balajis Age is 100000')\n",
    "else:\n",
    "    print('Balaji is elder than world')"
   ]
  },
  {
   "cell_type": "code",
   "execution_count": 39,
   "id": "94833039-e6cd-456f-a7e4-deefc8874512",
   "metadata": {},
   "outputs": [
    {
     "name": "stdin",
     "output_type": "stream",
     "text": [
      "Enter your age 120\n"
     ]
    },
    {
     "name": "stdout",
     "output_type": "stream",
     "text": [
      "your age is : 120\n"
     ]
    }
   ],
   "source": [
    "a=int(input(\"Enter your age\"))\n",
    "if(a>100):\n",
    "    print('your age is :',a)\n",
    "elif(a==100):\n",
    "    print('your age is :',a)\n",
    "else:\n",
    "    print('your age is greater than world')"
   ]
  },
  {
   "cell_type": "code",
   "execution_count": 40,
   "id": "6479fdd3-50ec-42f6-8102-caea2d0bc4d2",
   "metadata": {},
   "outputs": [
    {
     "name": "stdin",
     "output_type": "stream",
     "text": [
      "Enter your age 50\n"
     ]
    },
    {
     "name": "stdout",
     "output_type": "stream",
     "text": [
      "your age is greater than world\n"
     ]
    }
   ],
   "source": [
    "a=int(input(\"Enter your age\"))\n",
    "if(a>100):\n",
    "    print('your age is :',a)\n",
    "elif(a==100):\n",
    "    print('your age is :',a)\n",
    "else:\n",
    "    print('your age is greater than world')"
   ]
  }
 ],
 "metadata": {
  "kernelspec": {
   "display_name": "Python 3 (ipykernel)",
   "language": "python",
   "name": "python3"
  },
  "language_info": {
   "codemirror_mode": {
    "name": "ipython",
    "version": 3
   },
   "file_extension": ".py",
   "mimetype": "text/x-python",
   "name": "python",
   "nbconvert_exporter": "python",
   "pygments_lexer": "ipython3",
   "version": "3.8.2"
  }
 },
 "nbformat": 4,
 "nbformat_minor": 5
}
