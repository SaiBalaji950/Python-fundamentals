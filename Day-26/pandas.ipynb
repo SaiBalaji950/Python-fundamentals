{
 "cells": [
  {
   "cell_type": "code",
   "execution_count": null,
   "id": "927e846a-8903-40ab-9007-4ef5b9e4e91b",
   "metadata": {},
   "outputs": [],
   "source": [
    "Pandas is a popular Python library for data analysis. It is not directly related to Machine Learning. \n",
    "As we know that the dataset must be prepared before training. In this case, Pandas comes handy as it was developed \n",
    "specifically for data extraction and preparation. \n",
    "It provides high-level data structures and wide variety tools for data analysis.\n",
    "It provides many inbuilt methods for grouping, combining and filtering data."
   ]
  },
  {
   "cell_type": "code",
   "execution_count": 1,
   "id": "627c7dbf-e70d-4ea8-b8dc-8aa6dcced659",
   "metadata": {},
   "outputs": [
    {
     "name": "stdout",
     "output_type": "stream",
     "text": [
      "        Names  Age Course Internship completed\n",
      "0  Sai Balaji   21    cse                  Yes\n",
      "1  Chaithanya   20    csm                  Yes\n",
      "2     Upendra   21    csd                   No\n"
     ]
    }
   ],
   "source": [
    "import pandas as pd\n",
    "a={'Names':['Sai Balaji','Chaithanya','Upendra'],\"Age\":[21,20,21],\"Course\":['cse','csm','csd'],\"Internship completed\":['Yes','Yes','No']}\n",
    "b=pd.DataFrame(a)\n",
    "print(b)"
   ]
  },
  {
   "cell_type": "code",
   "execution_count": 2,
   "id": "9cb0b37f-07f6-4158-abba-23cc05f0741e",
   "metadata": {},
   "outputs": [
    {
     "name": "stdout",
     "output_type": "stream",
     "text": [
      "        Names  Age Blood Group Cancer-test Report\n",
      "0  Sai Balaji   21          B+           Positive\n",
      "1  Chaithanya   20          O+           Negative\n",
      "2     Upendra   21          B-           Negative\n"
     ]
    }
   ],
   "source": [
    "import pandas as pd\n",
    "a={'Names':['Sai Balaji','Chaithanya','Upendra'],\"Age\":[21,20,21],\"Blood Group\":['B+','O+','B-'],\"Cancer-test Report\":['Positive','Negative','Negative']}\n",
    "b=pd.DataFrame(a)\n",
    "print(b)"
   ]
  },
  {
   "cell_type": "code",
   "execution_count": 2,
   "id": "b550eda7-4cc3-4cec-a57a-077bffa1917a",
   "metadata": {},
   "outputs": [],
   "source": [
    "import pandas as pd\n",
    "a={'Names':['Sai Balaji','Chaithanya','Upendra'],\"Age\":[21,20,21],\"Course\":['cse','csm','csd'],\"Internship completed\":['Yes','Yes','No']}\n",
    "b=pd.DataFrame(a)\n",
    "b.to_csv('output.csv',index=False)                #IMPORTING CSV FILE"
   ]
  },
  {
   "cell_type": "code",
   "execution_count": 5,
   "id": "f75be7eb-d025-4f87-a411-a490b4b6de57",
   "metadata": {},
   "outputs": [],
   "source": [
    "import csv\n",
    "a=[['Names','Age','Course','Internship completed'],\n",
    "   ['Sai Balaji',21,'cse','Yes'],\n",
    "   ['Chaithanya',20,'csm','Yes'],\n",
    "   ['Upendra',21,'csd','No']]\n",
    "with open('output.csv','w',newline='')as file:\n",
    "    writer=csv.writer(file)\n",
    "    writer.writerows(a)"
   ]
  },
  {
   "cell_type": "code",
   "execution_count": 6,
   "id": "901958b0-8738-4eea-87e4-02665263fde3",
   "metadata": {},
   "outputs": [
    {
     "name": "stdout",
     "output_type": "stream",
     "text": [
      "        Names  Age Course Internship completed\n",
      "0  Sai Balaji   21    cse                  Yes\n",
      "1  Chaithanya   20    csm                  Yes\n",
      "2     Upendra   21    csd                   No\n"
     ]
    }
   ],
   "source": [
    "import pandas as pd\n",
    "c=pd.read_csv('output.csv')\n",
    "print(c.to_string())"
   ]
  },
  {
   "cell_type": "code",
   "execution_count": 7,
   "id": "a9946ddd-21a5-43fe-a908-4dd59ec135da",
   "metadata": {},
   "outputs": [
    {
     "name": "stdout",
     "output_type": "stream",
     "text": [
      "        Names  Age Course Internship completed\n",
      "0  Sai Balaji   21    cse                  Yes\n",
      "1  Chaithanya   20    csm                  Yes\n",
      "2     Upendra   21    csd                   No\n"
     ]
    }
   ],
   "source": [
    "import pandas as pd\n",
    "c=pd.read_csv('output.csv')\n",
    "print(c.head())"
   ]
  },
  {
   "cell_type": "code",
   "execution_count": 8,
   "id": "276404e9-75c1-47c4-ae93-76517014c72f",
   "metadata": {},
   "outputs": [
    {
     "name": "stdout",
     "output_type": "stream",
     "text": [
      "Entire DataFrame:\n",
      "        Names  Age Course Internship completed\n",
      "0  Sai Balaji   21    cse                  Yes\n",
      "1  Chaithanya   20    csm                  Yes\n",
      "2     Upendra   21    csd                   No\n",
      "\n",
      "First few rows:\n",
      "        Names  Age Course Internship completed\n",
      "0  Sai Balaji   21    cse                  Yes\n",
      "1  Chaithanya   20    csm                  Yes\n",
      "2     Upendra   21    csd                   No\n",
      "\n",
      "Last few rows:\n",
      "        Names  Age Course Internship completed\n",
      "0  Sai Balaji   21    cse                  Yes\n",
      "1  Chaithanya   20    csm                  Yes\n",
      "2     Upendra   21    csd                   No\n",
      "\n",
      "DataFrame info:\n",
      "<class 'pandas.core.frame.DataFrame'>\n",
      "RangeIndex: 3 entries, 0 to 2\n",
      "Data columns (total 4 columns):\n",
      " #   Column                Non-Null Count  Dtype \n",
      "---  ------                --------------  ----- \n",
      " 0   Names                 3 non-null      object\n",
      " 1   Age                   3 non-null      int64 \n",
      " 2   Course                3 non-null      object\n",
      " 3   Internship completed  3 non-null      object\n",
      "dtypes: int64(1), object(3)\n",
      "memory usage: 224.0+ bytes\n",
      "None\n",
      "\n",
      "Statistical summary:\n",
      "             Age\n",
      "count   3.000000\n",
      "mean   20.666667\n",
      "std     0.577350\n",
      "min    20.000000\n",
      "25%    20.500000\n",
      "50%    21.000000\n",
      "75%    21.000000\n",
      "max    21.000000\n"
     ]
    }
   ],
   "source": [
    "import pandas as pd\n",
    "\n",
    "# Read the CSV file\n",
    "df = pd.read_csv('output.csv')\n",
    "\n",
    "# Print the entire DataFrame\n",
    "print(\"Entire DataFrame:\")\n",
    "print(df.to_string())  # to_string() prints the entire DataFrame\n",
    "\n",
    "# Print the first few rows (default is 5)\n",
    "print(\"\\nFirst few rows:\")\n",
    "print(df.head())\n",
    "\n",
    "# Print the last few rows (default is 5)\n",
    "print(\"\\nLast few rows:\")\n",
    "print(df.tail())\n",
    "\n",
    "# Print summary information about the DataFrame\n",
    "print(\"\\nDataFrame info:\")\n",
    "print(df.info())\n",
    "\n",
    "# Print statistical summary of the DataFrame\n",
    "print(\"\\nStatistical summary:\")\n",
    "print(df.describe())"
   ]
  },
  {
   "cell_type": "code",
   "execution_count": 9,
   "id": "af17a426-c41e-4a96-b520-f3f52714a9ee",
   "metadata": {},
   "outputs": [
    {
     "name": "stdout",
     "output_type": "stream",
     "text": [
      "2.0.3\n"
     ]
    }
   ],
   "source": [
    "import pandas as pd\n",
    "print(pd.__version__)"
   ]
  },
  {
   "cell_type": "code",
   "execution_count": null,
   "id": "e6daa6c6-961a-46d0-8a34-7f91bb0885f6",
   "metadata": {},
   "outputs": [],
   "source": [
    "What is a Series?\n",
    "A Pandas Series is like a column in a table.\n",
    "\n",
    "It is a one-dimensional array holding data of any type."
   ]
  },
  {
   "cell_type": "code",
   "execution_count": 13,
   "id": "5adfde3a-2abb-4e7e-a3ce-f03b38476545",
   "metadata": {},
   "outputs": [
    {
     "ename": "AttributeError",
     "evalue": "module 'pandas' has no attribute 'series'",
     "output_type": "error",
     "traceback": [
      "\u001b[1;31m---------------------------------------------------------------------------\u001b[0m",
      "\u001b[1;31mAttributeError\u001b[0m                            Traceback (most recent call last)",
      "Cell \u001b[1;32mIn[13], line 3\u001b[0m\n\u001b[0;32m      1\u001b[0m \u001b[38;5;28;01mimport\u001b[39;00m \u001b[38;5;21;01mpandas\u001b[39;00m \u001b[38;5;28;01mas\u001b[39;00m \u001b[38;5;21;01mpd\u001b[39;00m\n\u001b[0;32m      2\u001b[0m a\u001b[38;5;241m=\u001b[39m[\u001b[38;5;241m12\u001b[39m,\u001b[38;5;241m3\u001b[39m,\u001b[38;5;241m36\u001b[39m]\n\u001b[1;32m----> 3\u001b[0m b\u001b[38;5;241m=\u001b[39m\u001b[43mpd\u001b[49m\u001b[38;5;241;43m.\u001b[39;49m\u001b[43mseries\u001b[49m(a)\n\u001b[0;32m      4\u001b[0m \u001b[38;5;28mprint\u001b[39m(b)\n",
      "\u001b[1;31mAttributeError\u001b[0m: module 'pandas' has no attribute 'series'"
     ]
    }
   ],
   "source": [
    "import pandas as pd\n",
    "a=[12,3,36]\n",
    "b=pd.series(a)\n",
    "print(b)"
   ]
  },
  {
   "cell_type": "code",
   "execution_count": 14,
   "id": "165e9ed5-d603-431f-863e-bed5965b6f7f",
   "metadata": {},
   "outputs": [
    {
     "name": "stdout",
     "output_type": "stream",
     "text": [
      "0    12\n",
      "1     3\n",
      "2    36\n",
      "dtype: int64\n"
     ]
    }
   ],
   "source": [
    "import pandas as pd\n",
    "a=[12,3,36]\n",
    "b=pd.Series(a)\n",
    "print(b)"
   ]
  },
  {
   "cell_type": "code",
   "execution_count": null,
   "id": "89fcf599-38c9-4ef8-9744-e2e24d198e86",
   "metadata": {},
   "outputs": [],
   "source": [
    "Labels\n",
    "If nothing else is specified, the values are labeled with their index number. First value has index 0, second value has index 1 etc.\n",
    "\n",
    "This label can be used to access a specified value.\n",
    "Labels\n",
    "If nothing else is specified, the values are labeled with their index number. First value has index 0, second value has index 1 etc.\n",
    "\n",
    "This label can be used to access a specified value."
   ]
  },
  {
   "cell_type": "code",
   "execution_count": 17,
   "id": "80852485-9aa9-4b42-9668-a11489a3f31b",
   "metadata": {},
   "outputs": [
    {
     "name": "stdout",
     "output_type": "stream",
     "text": [
      "a    12\n",
      "b     3\n",
      "c    36\n",
      "dtype: int64\n"
     ]
    }
   ],
   "source": [
    "import pandas as pd\n",
    "a=[12,3,36]\n",
    "b=pd.Series(a,index=['a','b','c'])\n",
    "print(b)"
   ]
  },
  {
   "cell_type": "code",
   "execution_count": null,
   "id": "8100ed94-2c3c-4811-ace7-65a777382f3b",
   "metadata": {},
   "outputs": [],
   "source": [
    "Key/Value Objects as Series\n",
    "You can also use a key/value object, like a dictionary, when creating a Series."
   ]
  },
  {
   "cell_type": "code",
   "execution_count": 19,
   "id": "8ff52b2a-6189-4a39-992f-0ecc8eca2e6b",
   "metadata": {},
   "outputs": [
    {
     "name": "stdout",
     "output_type": "stream",
     "text": [
      "Name          Vennelakanti Sai Balaji\n",
      "age                                21\n",
      "Experience                    Fresher\n",
      "dtype: object\n"
     ]
    }
   ],
   "source": [
    "import pandas as pd\n",
    "a={'Name':'Vennelakanti Sai Balaji','age':21,'Experience':'Fresher'}\n",
    "b=pd.Series(a)\n",
    "print(b)"
   ]
  },
  {
   "cell_type": "code",
   "execution_count": 21,
   "id": "56d85764-f744-4c0e-a8a6-1d42693e640c",
   "metadata": {},
   "outputs": [
    {
     "name": "stdout",
     "output_type": "stream",
     "text": [
      "Name    Vennelakanti Sai Balaji\n",
      "age                          21\n",
      "dtype: object\n"
     ]
    }
   ],
   "source": [
    "import pandas as pd\n",
    "a={'Name':'Vennelakanti Sai Balaji','age':21,'Experience':'Fresher'}\n",
    "b=pd.Series(a,index=['Name','age'])\n",
    "print(b)"
   ]
  },
  {
   "cell_type": "code",
   "execution_count": null,
   "id": "d679adc7-0b17-4ffa-85fe-5cbb3211aae4",
   "metadata": {},
   "outputs": [],
   "source": [
    "DataFrames\n",
    "Data sets in Pandas are usually multi-dimensional tables, called DataFrames.\n",
    "\n",
    "Series is like a column, a DataFrame is the whole table."
   ]
  },
  {
   "cell_type": "code",
   "execution_count": 22,
   "id": "5c636578-a36c-4e79-8b88-764b7182742d",
   "metadata": {},
   "outputs": [
    {
     "name": "stdout",
     "output_type": "stream",
     "text": [
      "        Names  Age Course Internship completed\n",
      "0  Sai Balaji   21    cse                  Yes\n",
      "1  Chaithanya   20    csm                  Yes\n",
      "2     Upendra   21    csd                   No\n"
     ]
    }
   ],
   "source": [
    "import pandas as pd\n",
    "a={'Names':['Sai Balaji','Chaithanya','Upendra'],\"Age\":[21,20,21],\"Course\":['cse','csm','csd'],\"Internship completed\":['Yes','Yes','No']}\n",
    "b=pd.DataFrame(a)\n",
    "print(b)"
   ]
  },
  {
   "cell_type": "code",
   "execution_count": null,
   "id": "8a20b855-97ec-4ca9-b292-a6567b89246c",
   "metadata": {},
   "outputs": [],
   "source": [
    "Locate Row\n",
    "As you can see from the result above, the DataFrame is like a table with rows and columns.\n",
    "\n",
    "Pandas use the loc attribute to return one or more specified row(s)"
   ]
  },
  {
   "cell_type": "code",
   "execution_count": 24,
   "id": "de8cac65-7036-430b-8449-0e8ba885dc57",
   "metadata": {},
   "outputs": [
    {
     "name": "stdout",
     "output_type": "stream",
     "text": [
      "Names                   Sai Balaji\n",
      "Age                             21\n",
      "Course                         cse\n",
      "Internship completed           Yes\n",
      "Name: 0, dtype: object\n"
     ]
    }
   ],
   "source": [
    "#Continuation for above program\n",
    "print(b.loc[0])"
   ]
  },
  {
   "cell_type": "code",
   "execution_count": 25,
   "id": "9c40185e-0758-4576-85e8-e1ecff3735e9",
   "metadata": {},
   "outputs": [
    {
     "name": "stdout",
     "output_type": "stream",
     "text": [
      "Names                   Chaithanya\n",
      "Age                             20\n",
      "Course                         csm\n",
      "Internship completed           Yes\n",
      "Name: 1, dtype: object\n"
     ]
    }
   ],
   "source": [
    "print(b.loc[1])"
   ]
  },
  {
   "cell_type": "code",
   "execution_count": 26,
   "id": "ede34c7c-b08d-4c94-966f-adb2846ff830",
   "metadata": {},
   "outputs": [
    {
     "name": "stdout",
     "output_type": "stream",
     "text": [
      "Names                   Upendra\n",
      "Age                          21\n",
      "Course                      csd\n",
      "Internship completed         No\n",
      "Name: 2, dtype: object\n"
     ]
    }
   ],
   "source": [
    "print(b.loc[2])"
   ]
  },
  {
   "cell_type": "code",
   "execution_count": 27,
   "id": "a8bb6f7f-46e4-4689-9f29-91a72f0f4b6c",
   "metadata": {},
   "outputs": [
    {
     "name": "stdout",
     "output_type": "stream",
     "text": [
      "        Names  Age Course Internship completed\n",
      "a  Sai Balaji   21    cse                  Yes\n",
      "b  Chaithanya   20    csm                  Yes\n",
      "c     Upendra   21    csd                   No\n"
     ]
    }
   ],
   "source": [
    "import pandas as pd\n",
    "a={'Names':['Sai Balaji','Chaithanya','Upendra'],\"Age\":[21,20,21],\"Course\":['cse','csm','csd'],\"Internship completed\":['Yes','Yes','No']}\n",
    "b=pd.DataFrame(a,index=['a','b','c'])\n",
    "print(b)"
   ]
  },
  {
   "cell_type": "code",
   "execution_count": 30,
   "id": "5d9f4e54-c1be-4887-8ee4-2456586fb537",
   "metadata": {},
   "outputs": [
    {
     "name": "stdout",
     "output_type": "stream",
     "text": [
      "Names                   Sai Balaji\n",
      "Age                             21\n",
      "Course                         cse\n",
      "Internship completed           Yes\n",
      "Name: a, dtype: object\n"
     ]
    }
   ],
   "source": [
    "print(b.loc['a'])"
   ]
  },
  {
   "cell_type": "code",
   "execution_count": 31,
   "id": "0717f807-634c-4414-bb7b-d1bafe209a96",
   "metadata": {},
   "outputs": [
    {
     "name": "stdout",
     "output_type": "stream",
     "text": [
      "Names                   Chaithanya\n",
      "Age                             20\n",
      "Course                         csm\n",
      "Internship completed           Yes\n",
      "Name: b, dtype: object\n"
     ]
    }
   ],
   "source": [
    "print(b.loc['b'])"
   ]
  },
  {
   "cell_type": "code",
   "execution_count": 32,
   "id": "7c880cae-7df2-4d0d-a69d-ab021d81a8d1",
   "metadata": {},
   "outputs": [
    {
     "name": "stdout",
     "output_type": "stream",
     "text": [
      "Names                   Upendra\n",
      "Age                          21\n",
      "Course                      csd\n",
      "Internship completed         No\n",
      "Name: c, dtype: object\n"
     ]
    }
   ],
   "source": [
    "print(b.loc['c'])"
   ]
  },
  {
   "cell_type": "code",
   "execution_count": null,
   "id": "ce2b9abe-768a-4702-b6d2-92eeb062a2ef",
   "metadata": {},
   "outputs": [],
   "source": [
    "Read CSV Files\n",
    "A simple way to store big data sets is to use CSV files (comma separated files).\n",
    "\n",
    "CSV files contains plain text and is a well know format that can be read by everyone including Pandas.\n",
    "\n",
    "In our examples we will be using a CSV file called 'data.csv'."
   ]
  },
  {
   "cell_type": "code",
   "execution_count": 33,
   "id": "69be8d18-fc0d-4a72-820a-14729eeb55f7",
   "metadata": {},
   "outputs": [
    {
     "name": "stdout",
     "output_type": "stream",
     "text": [
      "        Names  Age Course Internship completed\n",
      "0  Sai Balaji   21    cse                  Yes\n",
      "1  Chaithanya   20    csm                  Yes\n",
      "2     Upendra   21    csd                   No\n"
     ]
    }
   ],
   "source": [
    "import pandas as pd\n",
    "a=pd.read_csv('output.csv')\n",
    "print(a)                                    #Print the DataFrame without the to_string() method:"
   ]
  },
  {
   "cell_type": "code",
   "execution_count": 34,
   "id": "d0c03f5d-3f1c-4222-a497-f79fda5088ea",
   "metadata": {},
   "outputs": [
    {
     "name": "stdout",
     "output_type": "stream",
     "text": [
      "        Names  Age Course Internship completed\n",
      "0  Sai Balaji   21    cse                  Yes\n",
      "1  Chaithanya   20    csm                  Yes\n",
      "2     Upendra   21    csd                   No\n"
     ]
    }
   ],
   "source": [
    "import pandas as pd\n",
    "a=pd.read_csv('output.csv')\n",
    "print(a.to_string())    "
   ]
  },
  {
   "cell_type": "code",
   "execution_count": null,
   "id": "003042c4-64c6-4c4c-99ff-0c4bef258892",
   "metadata": {},
   "outputs": [],
   "source": [
    "max_rows\n",
    "The number of rows returned is defined in Pandas option settings.\n",
    "\n",
    "You can check your system's maximum rows with the pd.options.display.max_rows statement."
   ]
  },
  {
   "cell_type": "code",
   "execution_count": 35,
   "id": "d3ed1269-79ff-47c4-bb2e-7551526f1bd0",
   "metadata": {},
   "outputs": [
    {
     "name": "stdout",
     "output_type": "stream",
     "text": [
      "60\n"
     ]
    }
   ],
   "source": [
    "import pandas as pd\n",
    "print(pd.options.display.max_rows)"
   ]
  },
  {
   "cell_type": "code",
   "execution_count": 37,
   "id": "ea4f75b6-4929-46f9-a94d-f5d7c394d91e",
   "metadata": {},
   "outputs": [
    {
     "name": "stdout",
     "output_type": "stream",
     "text": [
      "        Names  Age Course Internship completed\n",
      "0  Sai Balaji   21    cse                  Yes\n",
      "1  Chaithanya   20    csm                  Yes\n",
      "2     Upendra   21    csd                   No\n"
     ]
    }
   ],
   "source": [
    "import pandas as pd\n",
    "pd.options.display.max_rows=9999999\n",
    "b=pd.read_csv('output.csv')\n",
    "print(b)"
   ]
  },
  {
   "cell_type": "code",
   "execution_count": 40,
   "id": "b6ccc33d-7162-4485-9313-fa9a0efc363b",
   "metadata": {},
   "outputs": [
    {
     "name": "stdout",
     "output_type": "stream",
     "text": [
      "        Names  Age Course Internship completed Blood Group\n",
      "0  Sai Balaji   21    cse                  Yes          B+\n",
      "1  Chaithanya   20    csm                  Yes          O+\n",
      "2     Upendra   21    csd                   No          B-\n"
     ]
    }
   ],
   "source": [
    "#ADDING ELEMEMENTS\n",
    "import pandas as pd\n",
    "a={'Names':['Sai Balaji','Chaithanya','Upendra'],\"Age\":[21,20,21],\"Course\":['cse','csm','csd'],\"Internship completed\":['Yes','Yes','No']}\n",
    "b=pd.DataFrame(a)\n",
    "c={'Blood Group':['B+','O+','B-']}\n",
    "b['Blood Group'] = c['Blood Group']\n",
    "print(b.to_string())"
   ]
  },
  {
   "cell_type": "code",
   "execution_count": null,
   "id": "fa747013-a9b3-4272-9fe0-868de4d30e31",
   "metadata": {},
   "outputs": [],
   "source": [
    "Read JSON\n",
    "Big data sets are often stored, or extracted as JSON.\n",
    "\n",
    "JSON is plain text, but has the format of an object, and is well known in the world of programming, including Pandas.\n",
    "\n",
    "In our examples we will be using a JSON file called 'data.json'.\n",
    "JSON-JavaScript Object Notation\n",
    "Open data.json."
   ]
  },
  {
   "cell_type": "code",
   "execution_count": 41,
   "id": "061e03d0-6a29-493a-9f00-c19c47f3831f",
   "metadata": {},
   "outputs": [
    {
     "ename": "FileNotFoundError",
     "evalue": "File output.json does not exist",
     "output_type": "error",
     "traceback": [
      "\u001b[1;31m---------------------------------------------------------------------------\u001b[0m",
      "\u001b[1;31mFileNotFoundError\u001b[0m                         Traceback (most recent call last)",
      "Cell \u001b[1;32mIn[41], line 2\u001b[0m\n\u001b[0;32m      1\u001b[0m \u001b[38;5;28;01mimport\u001b[39;00m \u001b[38;5;21;01mpandas\u001b[39;00m \u001b[38;5;28;01mas\u001b[39;00m \u001b[38;5;21;01mpd\u001b[39;00m\n\u001b[1;32m----> 2\u001b[0m b\u001b[38;5;241m=\u001b[39m\u001b[43mpd\u001b[49m\u001b[38;5;241;43m.\u001b[39;49m\u001b[43mread_json\u001b[49m\u001b[43m(\u001b[49m\u001b[38;5;124;43m'\u001b[39;49m\u001b[38;5;124;43moutput.json\u001b[39;49m\u001b[38;5;124;43m'\u001b[39;49m\u001b[43m)\u001b[49m\n\u001b[0;32m      3\u001b[0m \u001b[38;5;28mprint\u001b[39m(b\u001b[38;5;241m.\u001b[39mto_string())\n",
      "File \u001b[1;32mc:\\users\\dell\\appdata\\local\\programs\\python\\python38\\lib\\site-packages\\pandas\\io\\json\\_json.py:760\u001b[0m, in \u001b[0;36mread_json\u001b[1;34m(path_or_buf, orient, typ, dtype, convert_axes, convert_dates, keep_default_dates, precise_float, date_unit, encoding, encoding_errors, lines, chunksize, compression, nrows, storage_options, dtype_backend, engine)\u001b[0m\n\u001b[0;32m    757\u001b[0m \u001b[38;5;28;01mif\u001b[39;00m convert_axes \u001b[38;5;129;01mis\u001b[39;00m \u001b[38;5;28;01mNone\u001b[39;00m \u001b[38;5;129;01mand\u001b[39;00m orient \u001b[38;5;241m!=\u001b[39m \u001b[38;5;124m\"\u001b[39m\u001b[38;5;124mtable\u001b[39m\u001b[38;5;124m\"\u001b[39m:\n\u001b[0;32m    758\u001b[0m     convert_axes \u001b[38;5;241m=\u001b[39m \u001b[38;5;28;01mTrue\u001b[39;00m\n\u001b[1;32m--> 760\u001b[0m json_reader \u001b[38;5;241m=\u001b[39m \u001b[43mJsonReader\u001b[49m\u001b[43m(\u001b[49m\n\u001b[0;32m    761\u001b[0m \u001b[43m    \u001b[49m\u001b[43mpath_or_buf\u001b[49m\u001b[43m,\u001b[49m\n\u001b[0;32m    762\u001b[0m \u001b[43m    \u001b[49m\u001b[43morient\u001b[49m\u001b[38;5;241;43m=\u001b[39;49m\u001b[43morient\u001b[49m\u001b[43m,\u001b[49m\n\u001b[0;32m    763\u001b[0m \u001b[43m    \u001b[49m\u001b[43mtyp\u001b[49m\u001b[38;5;241;43m=\u001b[39;49m\u001b[43mtyp\u001b[49m\u001b[43m,\u001b[49m\n\u001b[0;32m    764\u001b[0m \u001b[43m    \u001b[49m\u001b[43mdtype\u001b[49m\u001b[38;5;241;43m=\u001b[39;49m\u001b[43mdtype\u001b[49m\u001b[43m,\u001b[49m\n\u001b[0;32m    765\u001b[0m \u001b[43m    \u001b[49m\u001b[43mconvert_axes\u001b[49m\u001b[38;5;241;43m=\u001b[39;49m\u001b[43mconvert_axes\u001b[49m\u001b[43m,\u001b[49m\n\u001b[0;32m    766\u001b[0m \u001b[43m    \u001b[49m\u001b[43mconvert_dates\u001b[49m\u001b[38;5;241;43m=\u001b[39;49m\u001b[43mconvert_dates\u001b[49m\u001b[43m,\u001b[49m\n\u001b[0;32m    767\u001b[0m \u001b[43m    \u001b[49m\u001b[43mkeep_default_dates\u001b[49m\u001b[38;5;241;43m=\u001b[39;49m\u001b[43mkeep_default_dates\u001b[49m\u001b[43m,\u001b[49m\n\u001b[0;32m    768\u001b[0m \u001b[43m    \u001b[49m\u001b[43mprecise_float\u001b[49m\u001b[38;5;241;43m=\u001b[39;49m\u001b[43mprecise_float\u001b[49m\u001b[43m,\u001b[49m\n\u001b[0;32m    769\u001b[0m \u001b[43m    \u001b[49m\u001b[43mdate_unit\u001b[49m\u001b[38;5;241;43m=\u001b[39;49m\u001b[43mdate_unit\u001b[49m\u001b[43m,\u001b[49m\n\u001b[0;32m    770\u001b[0m \u001b[43m    \u001b[49m\u001b[43mencoding\u001b[49m\u001b[38;5;241;43m=\u001b[39;49m\u001b[43mencoding\u001b[49m\u001b[43m,\u001b[49m\n\u001b[0;32m    771\u001b[0m \u001b[43m    \u001b[49m\u001b[43mlines\u001b[49m\u001b[38;5;241;43m=\u001b[39;49m\u001b[43mlines\u001b[49m\u001b[43m,\u001b[49m\n\u001b[0;32m    772\u001b[0m \u001b[43m    \u001b[49m\u001b[43mchunksize\u001b[49m\u001b[38;5;241;43m=\u001b[39;49m\u001b[43mchunksize\u001b[49m\u001b[43m,\u001b[49m\n\u001b[0;32m    773\u001b[0m \u001b[43m    \u001b[49m\u001b[43mcompression\u001b[49m\u001b[38;5;241;43m=\u001b[39;49m\u001b[43mcompression\u001b[49m\u001b[43m,\u001b[49m\n\u001b[0;32m    774\u001b[0m \u001b[43m    \u001b[49m\u001b[43mnrows\u001b[49m\u001b[38;5;241;43m=\u001b[39;49m\u001b[43mnrows\u001b[49m\u001b[43m,\u001b[49m\n\u001b[0;32m    775\u001b[0m \u001b[43m    \u001b[49m\u001b[43mstorage_options\u001b[49m\u001b[38;5;241;43m=\u001b[39;49m\u001b[43mstorage_options\u001b[49m\u001b[43m,\u001b[49m\n\u001b[0;32m    776\u001b[0m \u001b[43m    \u001b[49m\u001b[43mencoding_errors\u001b[49m\u001b[38;5;241;43m=\u001b[39;49m\u001b[43mencoding_errors\u001b[49m\u001b[43m,\u001b[49m\n\u001b[0;32m    777\u001b[0m \u001b[43m    \u001b[49m\u001b[43mdtype_backend\u001b[49m\u001b[38;5;241;43m=\u001b[39;49m\u001b[43mdtype_backend\u001b[49m\u001b[43m,\u001b[49m\n\u001b[0;32m    778\u001b[0m \u001b[43m    \u001b[49m\u001b[43mengine\u001b[49m\u001b[38;5;241;43m=\u001b[39;49m\u001b[43mengine\u001b[49m\u001b[43m,\u001b[49m\n\u001b[0;32m    779\u001b[0m \u001b[43m\u001b[49m\u001b[43m)\u001b[49m\n\u001b[0;32m    781\u001b[0m \u001b[38;5;28;01mif\u001b[39;00m chunksize:\n\u001b[0;32m    782\u001b[0m     \u001b[38;5;28;01mreturn\u001b[39;00m json_reader\n",
      "File \u001b[1;32mc:\\users\\dell\\appdata\\local\\programs\\python\\python38\\lib\\site-packages\\pandas\\io\\json\\_json.py:861\u001b[0m, in \u001b[0;36mJsonReader.__init__\u001b[1;34m(self, filepath_or_buffer, orient, typ, dtype, convert_axes, convert_dates, keep_default_dates, precise_float, date_unit, encoding, lines, chunksize, compression, nrows, storage_options, encoding_errors, dtype_backend, engine)\u001b[0m\n\u001b[0;32m    859\u001b[0m     \u001b[38;5;28mself\u001b[39m\u001b[38;5;241m.\u001b[39mdata \u001b[38;5;241m=\u001b[39m filepath_or_buffer\n\u001b[0;32m    860\u001b[0m \u001b[38;5;28;01melif\u001b[39;00m \u001b[38;5;28mself\u001b[39m\u001b[38;5;241m.\u001b[39mengine \u001b[38;5;241m==\u001b[39m \u001b[38;5;124m\"\u001b[39m\u001b[38;5;124mujson\u001b[39m\u001b[38;5;124m\"\u001b[39m:\n\u001b[1;32m--> 861\u001b[0m     data \u001b[38;5;241m=\u001b[39m \u001b[38;5;28;43mself\u001b[39;49m\u001b[38;5;241;43m.\u001b[39;49m\u001b[43m_get_data_from_filepath\u001b[49m\u001b[43m(\u001b[49m\u001b[43mfilepath_or_buffer\u001b[49m\u001b[43m)\u001b[49m\n\u001b[0;32m    862\u001b[0m     \u001b[38;5;28mself\u001b[39m\u001b[38;5;241m.\u001b[39mdata \u001b[38;5;241m=\u001b[39m \u001b[38;5;28mself\u001b[39m\u001b[38;5;241m.\u001b[39m_preprocess_data(data)\n",
      "File \u001b[1;32mc:\\users\\dell\\appdata\\local\\programs\\python\\python38\\lib\\site-packages\\pandas\\io\\json\\_json.py:917\u001b[0m, in \u001b[0;36mJsonReader._get_data_from_filepath\u001b[1;34m(self, filepath_or_buffer)\u001b[0m\n\u001b[0;32m    909\u001b[0m     filepath_or_buffer \u001b[38;5;241m=\u001b[39m \u001b[38;5;28mself\u001b[39m\u001b[38;5;241m.\u001b[39mhandles\u001b[38;5;241m.\u001b[39mhandle\n\u001b[0;32m    910\u001b[0m \u001b[38;5;28;01melif\u001b[39;00m (\n\u001b[0;32m    911\u001b[0m     \u001b[38;5;28misinstance\u001b[39m(filepath_or_buffer, \u001b[38;5;28mstr\u001b[39m)\n\u001b[0;32m    912\u001b[0m     \u001b[38;5;129;01mand\u001b[39;00m filepath_or_buffer\u001b[38;5;241m.\u001b[39mlower()\u001b[38;5;241m.\u001b[39mendswith(\n\u001b[1;32m   (...)\u001b[0m\n\u001b[0;32m    915\u001b[0m     \u001b[38;5;129;01mand\u001b[39;00m \u001b[38;5;129;01mnot\u001b[39;00m file_exists(filepath_or_buffer)\n\u001b[0;32m    916\u001b[0m ):\n\u001b[1;32m--> 917\u001b[0m     \u001b[38;5;28;01mraise\u001b[39;00m \u001b[38;5;167;01mFileNotFoundError\u001b[39;00m(\u001b[38;5;124mf\u001b[39m\u001b[38;5;124m\"\u001b[39m\u001b[38;5;124mFile \u001b[39m\u001b[38;5;132;01m{\u001b[39;00mfilepath_or_buffer\u001b[38;5;132;01m}\u001b[39;00m\u001b[38;5;124m does not exist\u001b[39m\u001b[38;5;124m\"\u001b[39m)\n\u001b[0;32m    919\u001b[0m \u001b[38;5;28;01mreturn\u001b[39;00m filepath_or_buffer\n",
      "\u001b[1;31mFileNotFoundError\u001b[0m: File output.json does not exist"
     ]
    }
   ],
   "source": [
    "import pandas as pd\n",
    "b=pd.read_json('output.json')\n",
    "print(b.to_string())"
   ]
  },
  {
   "cell_type": "code",
   "execution_count": 43,
   "id": "74b07135-a14b-47b3-8592-d03b42954372",
   "metadata": {},
   "outputs": [
    {
     "name": "stdout",
     "output_type": "stream",
     "text": [
      "         Name  Age Course Internhip Completed Blood Group\n",
      "0  Sai Balaji   21    cse                 Yes          B+\n",
      "1  Chaithanya   20    csm                 Yes          O+\n",
      "2     Upendra   21    csd                  No          B-\n"
     ]
    }
   ],
   "source": [
    "#creating file\n",
    "import pandas as pd\n",
    "a={\n",
    "    'Name':['Sai Balaji','Chaithanya','Upendra'],\n",
    "    'Age':[21,20,21],\n",
    "    'Course':['cse','csm','csd'],\n",
    "    'Internhip Completed':['Yes','Yes','No'],\n",
    "    'Blood Group':['B+','O+','B-']\n",
    "}\n",
    "b=pd.DataFrame(a)\n",
    "print(b.to_string())\n",
    "b.to_json('output.json', orient='records', lines=True)"
   ]
  },
  {
   "cell_type": "code",
   "execution_count": 45,
   "id": "89027010-f998-4f7a-913f-70f3af1c4388",
   "metadata": {},
   "outputs": [
    {
     "name": "stdout",
     "output_type": "stream",
     "text": [
      "         Name  Age Course Internhip Completed Blood Group\n",
      "0  Sai Balaji   21    cse                 Yes          B+\n",
      "1  Chaithanya   20    csm                 Yes          O+\n",
      "2     Upendra   21    csd                  No          B-\n"
     ]
    }
   ],
   "source": [
    "import pandas as pd\n",
    "b=pd.read_json('output.json',orient='records',lines=True)\n",
    "print(b.to_string())"
   ]
  },
  {
   "cell_type": "code",
   "execution_count": null,
   "id": "9bea1140-c31d-4b71-8415-d7194ed25af0",
   "metadata": {},
   "outputs": [],
   "source": [
    "Viewing the Data\n",
    "One of the most used method for getting a quick overview of the DataFrame, is the head() method.\n",
    "\n",
    "The head() method returns the headers and a specified number of rows, starting from the top."
   ]
  },
  {
   "cell_type": "code",
   "execution_count": 47,
   "id": "8aa07fb6-215d-49e5-8e5e-2a5fa4b2cba3",
   "metadata": {},
   "outputs": [
    {
     "name": "stdout",
     "output_type": "stream",
     "text": [
      "        Names  Age Course Internship completed\n",
      "0  Sai Balaji   21    cse                  Yes\n",
      "1  Chaithanya   20    csm                  Yes\n",
      "2     Upendra   21    csd                   No\n"
     ]
    }
   ],
   "source": [
    "import pandas as pd\n",
    "b=pd.read_csv('output.csv')\n",
    "print(b.head())"
   ]
  },
  {
   "cell_type": "code",
   "execution_count": 48,
   "id": "1f052e4d-0159-4cf8-a6f3-9e00c44801c8",
   "metadata": {},
   "outputs": [
    {
     "name": "stdout",
     "output_type": "stream",
     "text": [
      "        Names  Age Course Internship completed\n",
      "0  Sai Balaji   21    cse                  Yes\n",
      "1  Chaithanya   20    csm                  Yes\n",
      "2     Upendra   21    csd                   No\n"
     ]
    }
   ],
   "source": [
    "import pandas as pd\n",
    "b=pd.read_csv('output.csv')\n",
    "print(b.head(5))"
   ]
  },
  {
   "cell_type": "code",
   "execution_count": null,
   "id": "a60078c4-6b74-41f6-b09d-4844f0e8d71c",
   "metadata": {},
   "outputs": [],
   "source": [
    "There is also a tail() method for viewing the last rows of the DataFrame.\n",
    "\n",
    "The tail() method returns the headers and a specified number of rows, starting from the bottom.\n",
    "Null Values\n",
    "The info() method also tells us how many Non-Null values there are present in each column, \n",
    "and in our data set it seems like there are 164 of 169 Non-Null values in the \"Calories\" column.\n",
    "\n",
    "Which means that there are 5 rows with no value at all, in the \"Calories\" column, for whatever reason.\n",
    "\n",
    "Empty values, or Null values, can be bad when analyzing data, and you should consider removing rows with empty values. \n",
    "This is a step towards what is called cleaning data, and you will learn more about that in the next chapters."
   ]
  },
  {
   "cell_type": "code",
   "execution_count": 49,
   "id": "57c021d4-02fb-4cca-a5bf-320512edbeef",
   "metadata": {},
   "outputs": [
    {
     "name": "stdout",
     "output_type": "stream",
     "text": [
      "        Names  Age Course Internship completed\n",
      "0  Sai Balaji   21    cse                  Yes\n",
      "1  Chaithanya   20    csm                  Yes\n",
      "2     Upendra   21    csd                   No\n"
     ]
    }
   ],
   "source": [
    "print(b.tail())"
   ]
  },
  {
   "cell_type": "code",
   "execution_count": 50,
   "id": "ac4c509b-c0ac-46cd-992a-937ecdcd8c2a",
   "metadata": {},
   "outputs": [
    {
     "name": "stdout",
     "output_type": "stream",
     "text": [
      "<class 'pandas.core.frame.DataFrame'>\n",
      "RangeIndex: 3 entries, 0 to 2\n",
      "Data columns (total 4 columns):\n",
      " #   Column                Non-Null Count  Dtype \n",
      "---  ------                --------------  ----- \n",
      " 0   Names                 3 non-null      object\n",
      " 1   Age                   3 non-null      int64 \n",
      " 2   Course                3 non-null      object\n",
      " 3   Internship completed  3 non-null      object\n",
      "dtypes: int64(1), object(3)\n",
      "memory usage: 224.0+ bytes\n",
      "None\n"
     ]
    }
   ],
   "source": [
    "print(b.info())"
   ]
  },
  {
   "cell_type": "code",
   "execution_count": null,
   "id": "813e1d6b-f515-46dd-a8fb-458f3d433b63",
   "metadata": {},
   "outputs": [],
   "source": [
    "Data Cleaning\n",
    "Data cleaning means fixing bad data in your data set.\n",
    "\n",
    "Bad data could be:\n",
    "\n",
    "Empty cells\n",
    "Data in wrong format\n",
    "Wrong data\n",
    "Duplicates"
   ]
  },
  {
   "cell_type": "code",
   "execution_count": null,
   "id": "73bcb676-240c-4960-912b-c69e741e709d",
   "metadata": {},
   "outputs": [],
   "source": [
    "Empty Cells\n",
    "Empty cells can potentially give you a wrong result when you analyze data.\n",
    "\n",
    "Remove Rows\n",
    "One way to deal with empty cells is to remove rows that contain empty cells.\n",
    "\n",
    "This is usually OK, since data sets can be very big, and removing a few rows will not have a big impact on the result."
   ]
  },
  {
   "cell_type": "code",
   "execution_count": 51,
   "id": "924c76ce-bf39-428a-80f1-7f2c9b7fd341",
   "metadata": {},
   "outputs": [
    {
     "name": "stdout",
     "output_type": "stream",
     "text": [
      "        Names  Age Course Internship completed\n",
      "0  Sai Balaji   21    cse                  Yes\n",
      "1  Chaithanya   20    csm                  Yes\n",
      "2     Upendra   21    csd                   No\n"
     ]
    }
   ],
   "source": [
    "import pandas as pd\n",
    "b=pd.read_csv('output.csv')\n",
    "c=b.dropna()\n",
    "print(c.to_string())"
   ]
  },
  {
   "cell_type": "code",
   "execution_count": 55,
   "id": "80e1b532-012a-4c15-a7e3-ef0848d4acfe",
   "metadata": {},
   "outputs": [
    {
     "name": "stdout",
     "output_type": "stream",
     "text": [
      "        Names  Age Course Internship completed Blood Group bonding\n",
      "0  Sai Balaji   21    cse                  Yes          B+        \n",
      "1  Chaithanya   20    csm                  Yes          O+        \n",
      "2     Upendra   21    csd                   No          B-        \n"
     ]
    }
   ],
   "source": [
    "import pandas as pd\n",
    "a={'Names':['Sai Balaji','Chaithanya','Upendra'],\"Age\":[21,20,21],\"Course\":['cse','csm','csd'],\"Internship completed\":['Yes','Yes','No'],\n",
    "   'Blood Group':['B+','O+','B-'],'bonding':['']*3}\n",
    "b=pd.DataFrame(a)\n",
    "print(b)\n",
    "b.to_csv('output_csv',index=False)"
   ]
  },
  {
   "cell_type": "code",
   "execution_count": 56,
   "id": "3c59ec05-947f-4fd3-8c17-26fa949da5a0",
   "metadata": {},
   "outputs": [
    {
     "name": "stdout",
     "output_type": "stream",
     "text": [
      "        Names  Age Course Internship completed\n",
      "0  Sai Balaji   21    cse                  Yes\n",
      "1  Chaithanya   20    csm                  Yes\n",
      "2     Upendra   21    csd                   No\n"
     ]
    }
   ],
   "source": [
    "import pandas as pd\n",
    "b=pd.read_csv('output.csv')\n",
    "c=b.dropna()\n",
    "print(c.to_string())"
   ]
  },
  {
   "cell_type": "code",
   "execution_count": null,
   "id": "95ce9def-d963-4f12-ae30-62f614601386",
   "metadata": {},
   "outputs": [],
   "source": [
    "in above program observe the output there is no bonding in output.\n",
    "because dropna() removes the empty object."
   ]
  },
  {
   "cell_type": "code",
   "execution_count": 57,
   "id": "a47cc3f1-7a03-433a-9336-1361c6a441c7",
   "metadata": {},
   "outputs": [
    {
     "name": "stdout",
     "output_type": "stream",
     "text": [
      "        Names  Age Course Internship completed\n",
      "0  Sai Balaji   21    cse                  Yes\n",
      "1  Chaithanya   20    csm                  Yes\n",
      "2     Upendra   21    csd                   No\n"
     ]
    }
   ],
   "source": [
    "import pandas as pd\n",
    "b=pd.read_csv('output.csv')\n",
    "b.dropna(inplace=True)\n",
    "print(b.to_string())"
   ]
  },
  {
   "cell_type": "code",
   "execution_count": null,
   "id": "2733e956-e2f5-4a4f-b5f5-4b7e2baf86c0",
   "metadata": {},
   "outputs": [],
   "source": [
    "fillna() fills the empty object."
   ]
  },
  {
   "cell_type": "code",
   "execution_count": 64,
   "id": "62ac9f32-68dd-44d5-8162-8964489e1601",
   "metadata": {},
   "outputs": [
    {
     "name": "stdout",
     "output_type": "stream",
     "text": [
      "        Names  Age Course Internship completed\n",
      "0  Sai Balaji   21    cse                  Yes\n",
      "1  Chaithanya   20    csm                  Yes\n",
      "2     Upendra   21    csd                   No\n"
     ]
    }
   ],
   "source": [
    "import pandas as pd\n",
    "b=pd.read_csv('output.csv')\n",
    "b.fillna(1000,inplace=True)\n",
    "print(b)"
   ]
  },
  {
   "cell_type": "code",
   "execution_count": null,
   "id": "aa74289c-76f4-4f28-907e-2c49751192d9",
   "metadata": {},
   "outputs": [],
   "source": [
    "Replace Only For Specified Columns\n",
    "The example above replaces all empty cells in the whole Data Frame.\n",
    "\n",
    "To only replace empty values for one column, specify the column name for the DataFrame:"
   ]
  },
  {
   "cell_type": "code",
   "execution_count": 66,
   "id": "e22899df-b79a-4b76-a16c-36a8ca0e0021",
   "metadata": {},
   "outputs": [
    {
     "ename": "KeyError",
     "evalue": "'bonding'",
     "output_type": "error",
     "traceback": [
      "\u001b[1;31m---------------------------------------------------------------------------\u001b[0m",
      "\u001b[1;31mKeyError\u001b[0m                                  Traceback (most recent call last)",
      "File \u001b[1;32mc:\\users\\dell\\appdata\\local\\programs\\python\\python38\\lib\\site-packages\\pandas\\core\\indexes\\base.py:3653\u001b[0m, in \u001b[0;36mIndex.get_loc\u001b[1;34m(self, key)\u001b[0m\n\u001b[0;32m   3652\u001b[0m \u001b[38;5;28;01mtry\u001b[39;00m:\n\u001b[1;32m-> 3653\u001b[0m     \u001b[38;5;28;01mreturn\u001b[39;00m \u001b[38;5;28;43mself\u001b[39;49m\u001b[38;5;241;43m.\u001b[39;49m\u001b[43m_engine\u001b[49m\u001b[38;5;241;43m.\u001b[39;49m\u001b[43mget_loc\u001b[49m\u001b[43m(\u001b[49m\u001b[43mcasted_key\u001b[49m\u001b[43m)\u001b[49m\n\u001b[0;32m   3654\u001b[0m \u001b[38;5;28;01mexcept\u001b[39;00m \u001b[38;5;167;01mKeyError\u001b[39;00m \u001b[38;5;28;01mas\u001b[39;00m err:\n",
      "File \u001b[1;32mc:\\users\\dell\\appdata\\local\\programs\\python\\python38\\lib\\site-packages\\pandas\\_libs\\index.pyx:147\u001b[0m, in \u001b[0;36mpandas._libs.index.IndexEngine.get_loc\u001b[1;34m()\u001b[0m\n",
      "File \u001b[1;32mc:\\users\\dell\\appdata\\local\\programs\\python\\python38\\lib\\site-packages\\pandas\\_libs\\index.pyx:176\u001b[0m, in \u001b[0;36mpandas._libs.index.IndexEngine.get_loc\u001b[1;34m()\u001b[0m\n",
      "File \u001b[1;32mpandas\\_libs\\hashtable_class_helper.pxi:7080\u001b[0m, in \u001b[0;36mpandas._libs.hashtable.PyObjectHashTable.get_item\u001b[1;34m()\u001b[0m\n",
      "File \u001b[1;32mpandas\\_libs\\hashtable_class_helper.pxi:7088\u001b[0m, in \u001b[0;36mpandas._libs.hashtable.PyObjectHashTable.get_item\u001b[1;34m()\u001b[0m\n",
      "\u001b[1;31mKeyError\u001b[0m: 'bonding'",
      "\nThe above exception was the direct cause of the following exception:\n",
      "\u001b[1;31mKeyError\u001b[0m                                  Traceback (most recent call last)",
      "Cell \u001b[1;32mIn[66], line 3\u001b[0m\n\u001b[0;32m      1\u001b[0m \u001b[38;5;28;01mimport\u001b[39;00m \u001b[38;5;21;01mpandas\u001b[39;00m \u001b[38;5;28;01mas\u001b[39;00m \u001b[38;5;21;01mpd\u001b[39;00m\n\u001b[0;32m      2\u001b[0m b\u001b[38;5;241m=\u001b[39mpd\u001b[38;5;241m.\u001b[39mread_csv(\u001b[38;5;124m'\u001b[39m\u001b[38;5;124moutput.csv\u001b[39m\u001b[38;5;124m'\u001b[39m)\n\u001b[1;32m----> 3\u001b[0m \u001b[43mb\u001b[49m\u001b[43m[\u001b[49m\u001b[38;5;124;43m'\u001b[39;49m\u001b[38;5;124;43mbonding\u001b[39;49m\u001b[38;5;124;43m'\u001b[39;49m\u001b[43m]\u001b[49m\u001b[38;5;241m.\u001b[39mfillna(\u001b[38;5;241m5\u001b[39m,inplace\u001b[38;5;241m=\u001b[39m\u001b[38;5;28;01mTrue\u001b[39;00m)\n\u001b[0;32m      4\u001b[0m \u001b[38;5;28mprint\u001b[39m(b)\n",
      "File \u001b[1;32mc:\\users\\dell\\appdata\\local\\programs\\python\\python38\\lib\\site-packages\\pandas\\core\\frame.py:3761\u001b[0m, in \u001b[0;36mDataFrame.__getitem__\u001b[1;34m(self, key)\u001b[0m\n\u001b[0;32m   3759\u001b[0m \u001b[38;5;28;01mif\u001b[39;00m \u001b[38;5;28mself\u001b[39m\u001b[38;5;241m.\u001b[39mcolumns\u001b[38;5;241m.\u001b[39mnlevels \u001b[38;5;241m>\u001b[39m \u001b[38;5;241m1\u001b[39m:\n\u001b[0;32m   3760\u001b[0m     \u001b[38;5;28;01mreturn\u001b[39;00m \u001b[38;5;28mself\u001b[39m\u001b[38;5;241m.\u001b[39m_getitem_multilevel(key)\n\u001b[1;32m-> 3761\u001b[0m indexer \u001b[38;5;241m=\u001b[39m \u001b[38;5;28;43mself\u001b[39;49m\u001b[38;5;241;43m.\u001b[39;49m\u001b[43mcolumns\u001b[49m\u001b[38;5;241;43m.\u001b[39;49m\u001b[43mget_loc\u001b[49m\u001b[43m(\u001b[49m\u001b[43mkey\u001b[49m\u001b[43m)\u001b[49m\n\u001b[0;32m   3762\u001b[0m \u001b[38;5;28;01mif\u001b[39;00m is_integer(indexer):\n\u001b[0;32m   3763\u001b[0m     indexer \u001b[38;5;241m=\u001b[39m [indexer]\n",
      "File \u001b[1;32mc:\\users\\dell\\appdata\\local\\programs\\python\\python38\\lib\\site-packages\\pandas\\core\\indexes\\base.py:3655\u001b[0m, in \u001b[0;36mIndex.get_loc\u001b[1;34m(self, key)\u001b[0m\n\u001b[0;32m   3653\u001b[0m     \u001b[38;5;28;01mreturn\u001b[39;00m \u001b[38;5;28mself\u001b[39m\u001b[38;5;241m.\u001b[39m_engine\u001b[38;5;241m.\u001b[39mget_loc(casted_key)\n\u001b[0;32m   3654\u001b[0m \u001b[38;5;28;01mexcept\u001b[39;00m \u001b[38;5;167;01mKeyError\u001b[39;00m \u001b[38;5;28;01mas\u001b[39;00m err:\n\u001b[1;32m-> 3655\u001b[0m     \u001b[38;5;28;01mraise\u001b[39;00m \u001b[38;5;167;01mKeyError\u001b[39;00m(key) \u001b[38;5;28;01mfrom\u001b[39;00m \u001b[38;5;21;01merr\u001b[39;00m\n\u001b[0;32m   3656\u001b[0m \u001b[38;5;28;01mexcept\u001b[39;00m \u001b[38;5;167;01mTypeError\u001b[39;00m:\n\u001b[0;32m   3657\u001b[0m     \u001b[38;5;66;03m# If we have a listlike key, _check_indexing_error will raise\u001b[39;00m\n\u001b[0;32m   3658\u001b[0m     \u001b[38;5;66;03m#  InvalidIndexError. Otherwise we fall through and re-raise\u001b[39;00m\n\u001b[0;32m   3659\u001b[0m     \u001b[38;5;66;03m#  the TypeError.\u001b[39;00m\n\u001b[0;32m   3660\u001b[0m     \u001b[38;5;28mself\u001b[39m\u001b[38;5;241m.\u001b[39m_check_indexing_error(key)\n",
      "\u001b[1;31mKeyError\u001b[0m: 'bonding'"
     ]
    }
   ],
   "source": [
    "import pandas as pd\n",
    "b=pd.read_csv('output.csv')\n",
    "b['bonding'].fillna(5,inplace=True)\n",
    "print(b)"
   ]
  },
  {
   "cell_type": "code",
   "execution_count": 73,
   "id": "74b31a8f-10ec-41a4-ac0b-b32d4c24ea74",
   "metadata": {},
   "outputs": [
    {
     "name": "stdout",
     "output_type": "stream",
     "text": [
      "        Names  Age Course Internship completed Blood Group bonding\n",
      "0  Sai Balaji   21    cse                  Yes          B+    None\n",
      "1  Chaithanya   20    csm                  Yes          O+    None\n",
      "2     Upendra   21    csd                   No          B-    None\n"
     ]
    }
   ],
   "source": [
    "import pandas as pd\n",
    "a={'Names':['Sai Balaji','Chaithanya','Upendra'],\"Age\":[21,20,21],\"Course\":['cse','csm','csd'],\"Internship completed\":['Yes','Yes','No'],\n",
    "   'Blood Group':['B+','O+','B-'],'bonding':[None,None,None]}\n",
    "b=pd.DataFrame(a)\n",
    "print(b)\n",
    "b.to_csv('output_csv',index=False)"
   ]
  },
  {
   "cell_type": "code",
   "execution_count": 75,
   "id": "eefa638d-0d38-436f-889c-fd917d812f9a",
   "metadata": {},
   "outputs": [
    {
     "name": "stdout",
     "output_type": "stream",
     "text": [
      "        Names  Age Course Internship completed  bonding\n",
      "0  Sai Balaji   21    cse                  Yes  friends\n",
      "1  Chaithanya   20    csm                  Yes  friends\n",
      "2     Upendra   21    csd                   No  friends\n"
     ]
    }
   ],
   "source": [
    "import pandas as pd\n",
    "b=pd.read_csv('output.csv')\n",
    "if 'bonding' not in b.columns:\n",
    "    b['bonding'] = None\n",
    "b['bonding'].fillna('friends',inplace=True)\n",
    "print(b.to_string())"
   ]
  },
  {
   "cell_type": "code",
   "execution_count": 78,
   "id": "060206f6-852e-4d7f-bbf8-1bebdb0ea7d4",
   "metadata": {},
   "outputs": [
    {
     "name": "stdout",
     "output_type": "stream",
     "text": [
      "        Names  Age Course Internship completed bonding\n",
      "0  Sai Balaji   21    cse                  Yes    None\n",
      "1  Chaithanya   20    csm                  Yes    None\n",
      "2     Upendra   21    csd                   No    None\n"
     ]
    }
   ],
   "source": [
    "import pandas as pd\n",
    "b=pd.read_csv('output.csv')\n",
    "b['bonding']=b.fillna('friends',inplace=True)\n",
    "print(b.to_string())"
   ]
  },
  {
   "cell_type": "code",
   "execution_count": 11,
   "id": "b6282a94-4d61-4161-b4a6-226dfa6e3db6",
   "metadata": {},
   "outputs": [
    {
     "name": "stdout",
     "output_type": "stream",
     "text": [
      "        Names  Age Course Internship completed Blood Group  Marks\n",
      "0  Sai Balaji   21    cse                  Yes          B+   50.0\n",
      "1  Chaithanya   20    csm                  Yes          O+    NaN\n",
      "2     Upendra   21    csd                   No          B-  100.0\n"
     ]
    }
   ],
   "source": [
    "import pandas as pd\n",
    "a={'Names':['Sai Balaji','Chaithanya','Upendra'],\n",
    "   \"Age\":[21,20,21],\n",
    "   \"Course\":['cse','csm','csd'],\n",
    "   \"Internship completed\":['Yes','Yes','No'],\n",
    "   'Blood Group':['B+','O+','B-'],\n",
    "   'Marks':[50,None,100]\n",
    "  }\n",
    "b=pd.DataFrame(a)\n",
    "print(b)\n",
    "b.to_csv('output.csv',index=False)"
   ]
  },
  {
   "cell_type": "code",
   "execution_count": 12,
   "id": "ecfc500d-0a88-4407-bc15-9d289bd13c8a",
   "metadata": {},
   "outputs": [
    {
     "name": "stdout",
     "output_type": "stream",
     "text": [
      "        Names  Age Course Internship completed Blood Group  Marks\n",
      "0  Sai Balaji   21    cse                  Yes          B+   50.0\n",
      "1  Chaithanya   20    csm                  Yes          O+   75.0\n",
      "2     Upendra   21    csd                   No          B-  100.0\n"
     ]
    }
   ],
   "source": [
    "import pandas as pd\n",
    "b=pd.read_csv('output.csv')\n",
    "c=b['Marks'].mean()\n",
    "b['Marks'].fillna(c,inplace=True)\n",
    "print(b.to_string())"
   ]
  },
  {
   "cell_type": "code",
   "execution_count": 13,
   "id": "9aae7dcb-3fcd-4701-ab66-3025a2488395",
   "metadata": {},
   "outputs": [
    {
     "name": "stdout",
     "output_type": "stream",
     "text": [
      "        Names  Age Course Internship completed Blood Group  Marks\n",
      "0  Sai Balaji   21    cse                  Yes          B+   50.0\n",
      "1  Chaithanya   20    csm                  Yes          O+   75.0\n",
      "2     Upendra   21    csd                   No          B-  100.0\n"
     ]
    }
   ],
   "source": [
    "import pandas as pd\n",
    "b=pd.read_csv('output.csv')\n",
    "c=b['Marks'].median()\n",
    "b['Marks'].fillna(c,inplace=True)\n",
    "print(b.to_string())"
   ]
  },
  {
   "cell_type": "code",
   "execution_count": null,
   "id": "31c748e3-8143-42f0-8051-d7a5be2a46e3",
   "metadata": {},
   "outputs": [],
   "source": [
    "Data of Wrong Format\n",
    "Cells with data of wrong format can make it difficult, or even impossible, to analyze data.\n",
    "\n",
    "To fix it, you have two options: remove the rows, or convert all cells in the columns into the same format."
   ]
  },
  {
   "cell_type": "code",
   "execution_count": 36,
   "id": "2e8fc3ab-6d52-40f1-8082-5040e368405a",
   "metadata": {},
   "outputs": [
    {
     "name": "stdout",
     "output_type": "stream",
     "text": [
      "        Names  Age Course Internship completed Blood Group  Marks  Time-Entry\n",
      "0  Sai Balaji   21    cse                  Yes          B+     50  2024-07-29\n",
      "1  Chaithanya   20    csm                  Yes          O+     75  2024-07-28\n",
      "2     Upendra   21    csd                   No          B-    100        None\n"
     ]
    }
   ],
   "source": [
    "import pandas as pd\n",
    "a={'Names':['Sai Balaji','Chaithanya','Upendra'],\n",
    "   \"Age\":[21,20,21],\n",
    "   \"Course\":['cse','csm','csd'],\n",
    "   \"Internship completed\":['Yes','Yes','No'],\n",
    "   'Blood Group':['B+','O+','B-'],\n",
    "   'Marks':[50,75,100],\n",
    "   'Time-Entry':['2024-07-29','2024-07-28',None]\n",
    "  }\n",
    "b=pd.DataFrame(a)\n",
    "print(b)\n",
    "b.to_csv('output.csv',index=False)"
   ]
  },
  {
   "cell_type": "code",
   "execution_count": 37,
   "id": "f4b770aa-c386-4ba5-bc6f-6dbf0cd82eb9",
   "metadata": {},
   "outputs": [
    {
     "name": "stdout",
     "output_type": "stream",
     "text": [
      "        Names  Age Course Internship completed Blood Group  Marks Time-Entry\n",
      "0  Sai Balaji   21    cse                  Yes          B+     50 2024-07-29\n",
      "1  Chaithanya   20    csm                  Yes          O+     75 2024-07-28\n",
      "2     Upendra   21    csd                   No          B-    100        NaT\n"
     ]
    }
   ],
   "source": [
    "import pandas as pd\n",
    "b=pd.read_csv('output.csv')\n",
    "b['Time-Entry']=pd.to_datetime(b['Time-Entry'])\n",
    "print(b.to_string())"
   ]
  },
  {
   "cell_type": "code",
   "execution_count": null,
   "id": "7cfef34a-cccc-49a9-8953-de1b884003e3",
   "metadata": {},
   "outputs": [],
   "source": [
    "Wrong Data\n",
    "\"Wrong data\" does not have to be \"empty cells\" or \"wrong format\", it can just be wrong, like if someone registered \"199\" instead of \"1.99\".\n",
    "\n",
    "Sometimes you can spot wrong data by looking at the data set, because you have an expectation of what it should be.\n",
    "\n",
    "If you take a look at our data set, you can see that in row 7, the duration is 450, but for all the other rows the duration is between 30 and 60.\n",
    "\n",
    "It doesn't have to be wrong, but taking in consideration that this is the data set of someone's workout sessions,\n",
    "we conclude with the fact that this person did not work out in 450 minutes."
   ]
  },
  {
   "cell_type": "code",
   "execution_count": 38,
   "id": "7c7fc1a4-f140-48b9-a33e-32f0ec9e07a4",
   "metadata": {},
   "outputs": [
    {
     "name": "stdout",
     "output_type": "stream",
     "text": [
      "        Names   Age Course Internship completed Blood Group  Marks Time-Entry\n",
      "0  Sai Balaji  21.0    cse                  Yes          B+   50.0 2024-07-29\n",
      "1  Chaithanya  20.0    csm                  Yes          O+   75.0 2024-07-28\n",
      "2     Upendra  21.0    csd                   No          B-  100.0        NaT\n",
      "3         NaN   NaN    NaN                  NaN         NaN    NaN 2024-07-27\n"
     ]
    }
   ],
   "source": [
    "b.loc[3,'Time-Entry']='2024-07-27'\n",
    "print(b)"
   ]
  },
  {
   "cell_type": "code",
   "execution_count": 25,
   "id": "a3c9213f-9efe-4365-9388-abb088e4f8b3",
   "metadata": {},
   "outputs": [
    {
     "name": "stdout",
     "output_type": "stream",
     "text": [
      "0    False\n",
      "1    False\n",
      "2    False\n",
      "7    False\n",
      "3     True\n",
      "dtype: bool\n"
     ]
    }
   ],
   "source": [
    "print(b.duplicated())"
   ]
  },
  {
   "cell_type": "code",
   "execution_count": 26,
   "id": "e274eff4-90fc-4591-85d7-e167c57a8c86",
   "metadata": {},
   "outputs": [
    {
     "name": "stdout",
     "output_type": "stream",
     "text": [
      "None\n"
     ]
    }
   ],
   "source": [
    "print(b.drop_duplicates(inplace=True))"
   ]
  },
  {
   "cell_type": "code",
   "execution_count": 39,
   "id": "37742b3b-b187-4805-bd97-c32154b59141",
   "metadata": {},
   "outputs": [
    {
     "data": {
      "image/png": "[encoded data removed]",
      "text/plain": [
       "<Figure size 640x480 with 1 Axes>"
      ]
     },
     "metadata": {},
     "output_type": "display_data"
    }
   ],
   "source": [
    "import pandas as pd\n",
    "import matplotlib.pyplot as plt\n",
    "b=pd.read_csv('output.csv')\n",
    "b.plot()\n",
    "plt.show()"
   ]
  },
  {
   "cell_type": "code",
   "execution_count": 40,
   "id": "4f00c8de-2958-440e-9875-bb6a1fc6adb7",
   "metadata": {},
   "outputs": [
    {
     "data": {
      "image/png": "[encoded data removed]",
      "text/plain": [
       "<Figure size 640x480 with 1 Axes>"
      ]
     },
     "metadata": {},
     "output_type": "display_data"
    }
   ],
   "source": [
    "import pandas as pd\n",
    "import matplotlib.pyplot as plt\n",
    "b=pd.read_csv('output.csv')\n",
    "plt.bar(b['Names'],b['Marks'])\n",
    "plt.xlabel('Names')\n",
    "plt.ylabel('Marks')\n",
    "plt.show()"
   ]
  },
  {
   "cell_type": "code",
   "execution_count": 42,
   "id": "9dcf57a2-fed1-448e-8e82-bad84723e22f",
   "metadata": {},
   "outputs": [
    {
     "ename": "ValueError",
     "evalue": "could not convert string to float: 'Sai Balaji'",
     "output_type": "error",
     "traceback": [
      "\u001b[1;31m---------------------------------------------------------------------------\u001b[0m",
      "\u001b[1;31mValueError\u001b[0m                                Traceback (most recent call last)",
      "Cell \u001b[1;32mIn[42], line 4\u001b[0m\n\u001b[0;32m      2\u001b[0m \u001b[38;5;28;01mimport\u001b[39;00m \u001b[38;5;21;01mmatplotlib\u001b[39;00m\u001b[38;5;21;01m.\u001b[39;00m\u001b[38;5;21;01mpyplot\u001b[39;00m \u001b[38;5;28;01mas\u001b[39;00m \u001b[38;5;21;01mplt\u001b[39;00m\n\u001b[0;32m      3\u001b[0m b\u001b[38;5;241m=\u001b[39mpd\u001b[38;5;241m.\u001b[39mread_csv(\u001b[38;5;124m'\u001b[39m\u001b[38;5;124moutput.csv\u001b[39m\u001b[38;5;124m'\u001b[39m)\n\u001b[1;32m----> 4\u001b[0m \u001b[43mplt\u001b[49m\u001b[38;5;241;43m.\u001b[39;49m\u001b[43mpie\u001b[49m\u001b[43m(\u001b[49m\u001b[43mb\u001b[49m\u001b[43m[\u001b[49m\u001b[38;5;124;43m'\u001b[39;49m\u001b[38;5;124;43mNames\u001b[39;49m\u001b[38;5;124;43m'\u001b[39;49m\u001b[43m]\u001b[49m\u001b[43m,\u001b[49m\u001b[43mb\u001b[49m\u001b[43m[\u001b[49m\u001b[38;5;124;43m'\u001b[39;49m\u001b[38;5;124;43mMarks\u001b[39;49m\u001b[38;5;124;43m'\u001b[39;49m\u001b[43m]\u001b[49m\u001b[43m)\u001b[49m\n\u001b[0;32m      5\u001b[0m plt\u001b[38;5;241m.\u001b[39mshow()\n",
      "File \u001b[1;32mc:\\users\\dell\\appdata\\local\\programs\\python\\python38\\lib\\site-packages\\matplotlib\\pyplot.py:2799\u001b[0m, in \u001b[0;36mpie\u001b[1;34m(x, explode, labels, colors, autopct, pctdistance, shadow, labeldistance, startangle, radius, counterclock, wedgeprops, textprops, center, frame, rotatelabels, normalize, hatch, data)\u001b[0m\n\u001b[0;32m   2792\u001b[0m \u001b[38;5;129m@_copy_docstring_and_deprecators\u001b[39m(Axes\u001b[38;5;241m.\u001b[39mpie)\n\u001b[0;32m   2793\u001b[0m \u001b[38;5;28;01mdef\u001b[39;00m \u001b[38;5;21mpie\u001b[39m(\n\u001b[0;32m   2794\u001b[0m         x, explode\u001b[38;5;241m=\u001b[39m\u001b[38;5;28;01mNone\u001b[39;00m, labels\u001b[38;5;241m=\u001b[39m\u001b[38;5;28;01mNone\u001b[39;00m, colors\u001b[38;5;241m=\u001b[39m\u001b[38;5;28;01mNone\u001b[39;00m, autopct\u001b[38;5;241m=\u001b[39m\u001b[38;5;28;01mNone\u001b[39;00m,\n\u001b[1;32m   (...)\u001b[0m\n\u001b[0;32m   2797\u001b[0m         textprops\u001b[38;5;241m=\u001b[39m\u001b[38;5;28;01mNone\u001b[39;00m, center\u001b[38;5;241m=\u001b[39m(\u001b[38;5;241m0\u001b[39m, \u001b[38;5;241m0\u001b[39m), frame\u001b[38;5;241m=\u001b[39m\u001b[38;5;28;01mFalse\u001b[39;00m,\n\u001b[0;32m   2798\u001b[0m         rotatelabels\u001b[38;5;241m=\u001b[39m\u001b[38;5;28;01mFalse\u001b[39;00m, \u001b[38;5;241m*\u001b[39m, normalize\u001b[38;5;241m=\u001b[39m\u001b[38;5;28;01mTrue\u001b[39;00m, hatch\u001b[38;5;241m=\u001b[39m\u001b[38;5;28;01mNone\u001b[39;00m, data\u001b[38;5;241m=\u001b[39m\u001b[38;5;28;01mNone\u001b[39;00m):\n\u001b[1;32m-> 2799\u001b[0m     \u001b[38;5;28;01mreturn\u001b[39;00m \u001b[43mgca\u001b[49m\u001b[43m(\u001b[49m\u001b[43m)\u001b[49m\u001b[38;5;241;43m.\u001b[39;49m\u001b[43mpie\u001b[49m\u001b[43m(\u001b[49m\n\u001b[0;32m   2800\u001b[0m \u001b[43m        \u001b[49m\u001b[43mx\u001b[49m\u001b[43m,\u001b[49m\u001b[43m \u001b[49m\u001b[43mexplode\u001b[49m\u001b[38;5;241;43m=\u001b[39;49m\u001b[43mexplode\u001b[49m\u001b[43m,\u001b[49m\u001b[43m \u001b[49m\u001b[43mlabels\u001b[49m\u001b[38;5;241;43m=\u001b[39;49m\u001b[43mlabels\u001b[49m\u001b[43m,\u001b[49m\u001b[43m \u001b[49m\u001b[43mcolors\u001b[49m\u001b[38;5;241;43m=\u001b[39;49m\u001b[43mcolors\u001b[49m\u001b[43m,\u001b[49m\n\u001b[0;32m   2801\u001b[0m \u001b[43m        \u001b[49m\u001b[43mautopct\u001b[49m\u001b[38;5;241;43m=\u001b[39;49m\u001b[43mautopct\u001b[49m\u001b[43m,\u001b[49m\u001b[43m \u001b[49m\u001b[43mpctdistance\u001b[49m\u001b[38;5;241;43m=\u001b[39;49m\u001b[43mpctdistance\u001b[49m\u001b[43m,\u001b[49m\u001b[43m \u001b[49m\u001b[43mshadow\u001b[49m\u001b[38;5;241;43m=\u001b[39;49m\u001b[43mshadow\u001b[49m\u001b[43m,\u001b[49m\n\u001b[0;32m   2802\u001b[0m \u001b[43m        \u001b[49m\u001b[43mlabeldistance\u001b[49m\u001b[38;5;241;43m=\u001b[39;49m\u001b[43mlabeldistance\u001b[49m\u001b[43m,\u001b[49m\u001b[43m \u001b[49m\u001b[43mstartangle\u001b[49m\u001b[38;5;241;43m=\u001b[39;49m\u001b[43mstartangle\u001b[49m\u001b[43m,\u001b[49m\n\u001b[0;32m   2803\u001b[0m \u001b[43m        \u001b[49m\u001b[43mradius\u001b[49m\u001b[38;5;241;43m=\u001b[39;49m\u001b[43mradius\u001b[49m\u001b[43m,\u001b[49m\u001b[43m \u001b[49m\u001b[43mcounterclock\u001b[49m\u001b[38;5;241;43m=\u001b[39;49m\u001b[43mcounterclock\u001b[49m\u001b[43m,\u001b[49m\n\u001b[0;32m   2804\u001b[0m \u001b[43m        \u001b[49m\u001b[43mwedgeprops\u001b[49m\u001b[38;5;241;43m=\u001b[39;49m\u001b[43mwedgeprops\u001b[49m\u001b[43m,\u001b[49m\u001b[43m \u001b[49m\u001b[43mtextprops\u001b[49m\u001b[38;5;241;43m=\u001b[39;49m\u001b[43mtextprops\u001b[49m\u001b[43m,\u001b[49m\u001b[43m \u001b[49m\u001b[43mcenter\u001b[49m\u001b[38;5;241;43m=\u001b[39;49m\u001b[43mcenter\u001b[49m\u001b[43m,\u001b[49m\n\u001b[0;32m   2805\u001b[0m \u001b[43m        \u001b[49m\u001b[43mframe\u001b[49m\u001b[38;5;241;43m=\u001b[39;49m\u001b[43mframe\u001b[49m\u001b[43m,\u001b[49m\u001b[43m \u001b[49m\u001b[43mrotatelabels\u001b[49m\u001b[38;5;241;43m=\u001b[39;49m\u001b[43mrotatelabels\u001b[49m\u001b[43m,\u001b[49m\u001b[43m \u001b[49m\u001b[43mnormalize\u001b[49m\u001b[38;5;241;43m=\u001b[39;49m\u001b[43mnormalize\u001b[49m\u001b[43m,\u001b[49m\n\u001b[0;32m   2806\u001b[0m \u001b[43m        \u001b[49m\u001b[43mhatch\u001b[49m\u001b[38;5;241;43m=\u001b[39;49m\u001b[43mhatch\u001b[49m\u001b[43m,\u001b[49m\u001b[43m \u001b[49m\u001b[38;5;241;43m*\u001b[39;49m\u001b[38;5;241;43m*\u001b[39;49m\u001b[43m(\u001b[49m\u001b[43m{\u001b[49m\u001b[38;5;124;43m\"\u001b[39;49m\u001b[38;5;124;43mdata\u001b[39;49m\u001b[38;5;124;43m\"\u001b[39;49m\u001b[43m:\u001b[49m\u001b[43m \u001b[49m\u001b[43mdata\u001b[49m\u001b[43m}\u001b[49m\u001b[43m \u001b[49m\u001b[38;5;28;43;01mif\u001b[39;49;00m\u001b[43m \u001b[49m\u001b[43mdata\u001b[49m\u001b[43m \u001b[49m\u001b[38;5;129;43;01mis\u001b[39;49;00m\u001b[43m \u001b[49m\u001b[38;5;129;43;01mnot\u001b[39;49;00m\u001b[43m \u001b[49m\u001b[38;5;28;43;01mNone\u001b[39;49;00m\u001b[43m \u001b[49m\u001b[38;5;28;43;01melse\u001b[39;49;00m\u001b[43m \u001b[49m\u001b[43m{\u001b[49m\u001b[43m}\u001b[49m\u001b[43m)\u001b[49m\u001b[43m)\u001b[49m\n",
      "File \u001b[1;32mc:\\users\\dell\\appdata\\local\\programs\\python\\python38\\lib\\site-packages\\matplotlib\\__init__.py:1474\u001b[0m, in \u001b[0;36m_preprocess_data.<locals>.inner\u001b[1;34m(ax, data, *args, **kwargs)\u001b[0m\n\u001b[0;32m   1471\u001b[0m \u001b[38;5;129m@functools\u001b[39m\u001b[38;5;241m.\u001b[39mwraps(func)\n\u001b[0;32m   1472\u001b[0m \u001b[38;5;28;01mdef\u001b[39;00m \u001b[38;5;21minner\u001b[39m(ax, \u001b[38;5;241m*\u001b[39margs, data\u001b[38;5;241m=\u001b[39m\u001b[38;5;28;01mNone\u001b[39;00m, \u001b[38;5;241m*\u001b[39m\u001b[38;5;241m*\u001b[39mkwargs):\n\u001b[0;32m   1473\u001b[0m     \u001b[38;5;28;01mif\u001b[39;00m data \u001b[38;5;129;01mis\u001b[39;00m \u001b[38;5;28;01mNone\u001b[39;00m:\n\u001b[1;32m-> 1474\u001b[0m         \u001b[38;5;28;01mreturn\u001b[39;00m \u001b[43mfunc\u001b[49m\u001b[43m(\u001b[49m\u001b[43max\u001b[49m\u001b[43m,\u001b[49m\u001b[43m \u001b[49m\u001b[38;5;241;43m*\u001b[39;49m\u001b[38;5;28;43mmap\u001b[39;49m\u001b[43m(\u001b[49m\u001b[43msanitize_sequence\u001b[49m\u001b[43m,\u001b[49m\u001b[43m \u001b[49m\u001b[43margs\u001b[49m\u001b[43m)\u001b[49m\u001b[43m,\u001b[49m\u001b[43m \u001b[49m\u001b[38;5;241;43m*\u001b[39;49m\u001b[38;5;241;43m*\u001b[39;49m\u001b[43mkwargs\u001b[49m\u001b[43m)\u001b[49m\n\u001b[0;32m   1476\u001b[0m     bound \u001b[38;5;241m=\u001b[39m new_sig\u001b[38;5;241m.\u001b[39mbind(ax, \u001b[38;5;241m*\u001b[39margs, \u001b[38;5;241m*\u001b[39m\u001b[38;5;241m*\u001b[39mkwargs)\n\u001b[0;32m   1477\u001b[0m     auto_label \u001b[38;5;241m=\u001b[39m (bound\u001b[38;5;241m.\u001b[39marguments\u001b[38;5;241m.\u001b[39mget(label_namer)\n\u001b[0;32m   1478\u001b[0m                   \u001b[38;5;129;01mor\u001b[39;00m bound\u001b[38;5;241m.\u001b[39mkwargs\u001b[38;5;241m.\u001b[39mget(label_namer))\n",
      "File \u001b[1;32mc:\\users\\dell\\appdata\\local\\programs\\python\\python38\\lib\\site-packages\\matplotlib\\axes\\_axes.py:3183\u001b[0m, in \u001b[0;36mAxes.pie\u001b[1;34m(self, x, explode, labels, colors, autopct, pctdistance, shadow, labeldistance, startangle, radius, counterclock, wedgeprops, textprops, center, frame, rotatelabels, normalize, hatch)\u001b[0m\n\u001b[0;32m   3180\u001b[0m \u001b[38;5;28mself\u001b[39m\u001b[38;5;241m.\u001b[39mset_aspect(\u001b[38;5;124m'\u001b[39m\u001b[38;5;124mequal\u001b[39m\u001b[38;5;124m'\u001b[39m)\n\u001b[0;32m   3181\u001b[0m \u001b[38;5;66;03m# The use of float32 is \"historical\", but can't be changed without\u001b[39;00m\n\u001b[0;32m   3182\u001b[0m \u001b[38;5;66;03m# regenerating the test baselines.\u001b[39;00m\n\u001b[1;32m-> 3183\u001b[0m x \u001b[38;5;241m=\u001b[39m \u001b[43mnp\u001b[49m\u001b[38;5;241;43m.\u001b[39;49m\u001b[43masarray\u001b[49m\u001b[43m(\u001b[49m\u001b[43mx\u001b[49m\u001b[43m,\u001b[49m\u001b[43m \u001b[49m\u001b[43mnp\u001b[49m\u001b[38;5;241;43m.\u001b[39;49m\u001b[43mfloat32\u001b[49m\u001b[43m)\u001b[49m\n\u001b[0;32m   3184\u001b[0m \u001b[38;5;28;01mif\u001b[39;00m x\u001b[38;5;241m.\u001b[39mndim \u001b[38;5;241m>\u001b[39m \u001b[38;5;241m1\u001b[39m:\n\u001b[0;32m   3185\u001b[0m     \u001b[38;5;28;01mraise\u001b[39;00m \u001b[38;5;167;01mValueError\u001b[39;00m(\u001b[38;5;124m\"\u001b[39m\u001b[38;5;124mx must be 1D\u001b[39m\u001b[38;5;124m\"\u001b[39m)\n",
      "File \u001b[1;32mc:\\users\\dell\\appdata\\local\\programs\\python\\python38\\lib\\site-packages\\pandas\\core\\series.py:917\u001b[0m, in \u001b[0;36mSeries.__array__\u001b[1;34m(self, dtype)\u001b[0m\n\u001b[0;32m    870\u001b[0m \u001b[38;5;250m\u001b[39m\u001b[38;5;124;03m\"\"\"\u001b[39;00m\n\u001b[0;32m    871\u001b[0m \u001b[38;5;124;03mReturn the values as a NumPy array.\u001b[39;00m\n\u001b[0;32m    872\u001b[0m \n\u001b[1;32m   (...)\u001b[0m\n\u001b[0;32m    914\u001b[0m \u001b[38;5;124;03m      dtype='datetime64[ns]')\u001b[39;00m\n\u001b[0;32m    915\u001b[0m \u001b[38;5;124;03m\"\"\"\u001b[39;00m\n\u001b[0;32m    916\u001b[0m values \u001b[38;5;241m=\u001b[39m \u001b[38;5;28mself\u001b[39m\u001b[38;5;241m.\u001b[39m_values\n\u001b[1;32m--> 917\u001b[0m arr \u001b[38;5;241m=\u001b[39m \u001b[43mnp\u001b[49m\u001b[38;5;241;43m.\u001b[39;49m\u001b[43masarray\u001b[49m\u001b[43m(\u001b[49m\u001b[43mvalues\u001b[49m\u001b[43m,\u001b[49m\u001b[43m \u001b[49m\u001b[43mdtype\u001b[49m\u001b[38;5;241;43m=\u001b[39;49m\u001b[43mdtype\u001b[49m\u001b[43m)\u001b[49m\n\u001b[0;32m    918\u001b[0m \u001b[38;5;28;01mif\u001b[39;00m using_copy_on_write() \u001b[38;5;129;01mand\u001b[39;00m astype_is_view(values\u001b[38;5;241m.\u001b[39mdtype, arr\u001b[38;5;241m.\u001b[39mdtype):\n\u001b[0;32m    919\u001b[0m     arr \u001b[38;5;241m=\u001b[39m arr\u001b[38;5;241m.\u001b[39mview()\n",
      "\u001b[1;31mValueError\u001b[0m: could not convert string to float: 'Sai Balaji'"
     ]
    },
    {
     "data": {
      "image/png": "[encoded data removed]",
      "text/plain": [
       "<Figure size 640x480 with 1 Axes>"
      ]
     },
     "metadata": {},
     "output_type": "display_data"
    }
   ],
   "source": [
    "import pandas as pd\n",
    "import matplotlib.pyplot as plt\n",
    "b = pd.read_csv('output.csv')\n",
    "sizes = b['Marks'].dropna()  \n",
    "labels = b['Names']         # Labels for the pie slices\n",
    "\n",
    "# Plot a pie chart\n",
    "plt.pie(sizes, labels=labels, autopct='%1.1f%%', startangle=140)\n",
    "\n",
    "# Title of the plot\n",
    "plt.title('Distribution of Marks')\n",
    "\n",
    "# Show the plot\n",
    "plt.show()\n"
   ]
  }
 ],
 "metadata": {
  "kernelspec": {
   "display_name": "Python 3 (ipykernel)",
   "language": "python",
   "name": "python3"
  },
  "language_info": {
   "codemirror_mode": {
    "name": "ipython",
    "version": 3
   },
   "file_extension": ".py",
   "mimetype": "text/x-python",
   "name": "python",
   "nbconvert_exporter": "python",
   "pygments_lexer": "ipython3",
   "version": "3.8.2"
  }
 },
 "nbformat": 4,
 "nbformat_minor": 5
}
