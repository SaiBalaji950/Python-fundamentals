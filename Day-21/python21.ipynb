{
 "cells": [
  {
   "cell_type": "raw",
   "id": "228bf5eb-0a74-4c16-a443-a59596a4e04e",
   "metadata": {},
   "source": [
    "Polymorphism\n",
    "The word polymorphism means having many forms. In programming, polymorphism means the same function name (but different signatures) \n",
    "being used for different types. The key difference is the data types and number of arguments used in function."
   ]
  },
  {
   "cell_type": "code",
   "execution_count": 3,
   "id": "9888fc41-a0ba-4ad6-93ea-59b0b5ba504c",
   "metadata": {},
   "outputs": [
    {
     "name": "stdout",
     "output_type": "stream",
     "text": [
      "10\n",
      "6\n"
     ]
    }
   ],
   "source": [
    "print(len('Sai Balaji'))\n",
    "print(len([1,2,3,45,65,89]))"
   ]
  },
  {
   "cell_type": "code",
   "execution_count": 4,
   "id": "f80974c1-bca2-401d-b241-fab5ecf679cc",
   "metadata": {},
   "outputs": [
    {
     "ename": "TypeError",
     "evalue": "add() missing 1 required positional argument: 'z'",
     "output_type": "error",
     "traceback": [
      "\u001b[1;31m---------------------------------------------------------------------------\u001b[0m",
      "\u001b[1;31mTypeError\u001b[0m                                 Traceback (most recent call last)",
      "Cell \u001b[1;32mIn[4], line 4\u001b[0m\n\u001b[0;32m      2\u001b[0m \u001b[38;5;28;01mdef\u001b[39;00m \u001b[38;5;21madd\u001b[39m(x,y,z):\n\u001b[0;32m      3\u001b[0m     \u001b[38;5;28;01mreturn\u001b[39;00m x\u001b[38;5;241m+\u001b[39my\u001b[38;5;241m+\u001b[39mz\n\u001b[1;32m----> 4\u001b[0m \u001b[38;5;28mprint\u001b[39m(\u001b[43madd\u001b[49m\u001b[43m(\u001b[49m\u001b[38;5;241;43m2\u001b[39;49m\u001b[43m,\u001b[49m\u001b[38;5;241;43m2\u001b[39;49m\u001b[43m)\u001b[49m)\n\u001b[0;32m      5\u001b[0m \u001b[38;5;28mprint\u001b[39m(add(\u001b[38;5;241m2\u001b[39m,\u001b[38;5;241m2\u001b[39m,\u001b[38;5;241m2\u001b[39m))\n",
      "\u001b[1;31mTypeError\u001b[0m: add() missing 1 required positional argument: 'z'"
     ]
    }
   ],
   "source": [
    "#Examples of user-defined polymorphic functions: \n",
    "def add(x,y,z):\n",
    "    return x+y+z\n",
    "print(add(2,2))\n",
    "print(add(2,2,2))"
   ]
  },
  {
   "cell_type": "code",
   "execution_count": 5,
   "id": "697afafd-e336-4670-8d09-2521def5483a",
   "metadata": {},
   "outputs": [
    {
     "name": "stdout",
     "output_type": "stream",
     "text": [
      "4\n",
      "6\n"
     ]
    }
   ],
   "source": [
    "#Examples of user-defined polymorphic functions: \n",
    "def add(x,y,z=0):\n",
    "    return x+y+z\n",
    "print(add(2,2))\n",
    "print(add(2,2,2))"
   ]
  },
  {
   "cell_type": "code",
   "execution_count": 11,
   "id": "3277aab3-0340-442d-b2f8-1979fdf122f1",
   "metadata": {},
   "outputs": [
    {
     "name": "stdout",
     "output_type": "stream",
     "text": [
      "Balaji is looking outside very relax\n",
      "But he feels very Angry\n",
      "Because he frustates as cr due to two persons\n",
      "His Inner feeling is to beat them\n",
      "Due to certificates he wants to stop himself and he has a character\n",
      "Due to that Character he leaves both and came out\n"
     ]
    }
   ],
   "source": [
    "class Balaji():\n",
    "    def a(self):\n",
    "        print(\"Balaji is looking outside very relax\")\n",
    "    def b(self):\n",
    "        print(\"But he feels very Angry\")\n",
    "    def c(self):\n",
    "        print(\"Because he frustates as cr due to two persons\")\n",
    "class Balu():\n",
    "    def a(self):\n",
    "        print(\"His Inner feeling is to beat them\")\n",
    "    def b(self):\n",
    "        print(\"Due to certificates he wants to stop himself and he has a character\")\n",
    "    def c(self):\n",
    "        print(\"Due to that Character he leaves both and came out\")\n",
    "d=Balaji()\n",
    "e=Balu()\n",
    "for f in (d,e):\n",
    "    f.a()\n",
    "    f.b()\n",
    "    f.c()"
   ]
  },
  {
   "cell_type": "raw",
   "id": "9547f573-48f2-4633-ada4-04ed45202b7c",
   "metadata": {},
   "source": [
    "Polymorphism with Inheritance: \n",
    "\n",
    "In Python, Polymorphism lets us define methods in the child class that have the same name as the methods in the parent class. \n",
    "In inheritance, the child class inherits the methods from the parent class. \n",
    "However, it is possible to modify a method in a child class that it has inherited from the parent class. \n",
    "This is particularly useful in cases where the method inherited from the parent class doesn’t quite fit the child class. \n",
    "In such cases, we re-implement the method in the child class. \n",
    "This process of re-implementing a method in the child class is known as Method Overriding.  "
   ]
  },
  {
   "cell_type": "code",
   "execution_count": 14,
   "id": "3e791453-3473-49f7-a9bf-ff14c18109a2",
   "metadata": {},
   "outputs": [
    {
     "name": "stdout",
     "output_type": "stream",
     "text": [
      "Lets rock job and after business\n",
      "Hello World\n",
      "My Name is Vennelakanti Sai Balaji\n",
      "I am Recently Completed my Btech in one of the comedy college that is riet college\n",
      "Present We are seeing the world and our software market is very down\n",
      "But Trying is not at all wrong and one day we can reach it\n",
      "Job will come definitely\n",
      "But Future our retirement what we Have\n",
      "Now Balu will give Fantastic idea\n",
      "The Idea is our software engineers after retirement continue with panipoori Business,\n",
      " we will earn 3000 per day not only panipoori businesss any other business\n",
      "This idea works definitely\n"
     ]
    }
   ],
   "source": [
    "class Balaji():\n",
    "    def a(self):\n",
    "        print(\"Hello World\")\n",
    "    def b(self):\n",
    "        print(\"My Name is Vennelakanti Sai Balaji\")\n",
    "    def c(self):\n",
    "        print(\"I am Recently Completed my Btech in one of the comedy college that is riet college\")\n",
    "class Sai_Balaji():\n",
    "    def a(self):\n",
    "        print(\"Present We are seeing the world and our software market is very down\")\n",
    "    def b(self):\n",
    "        print(\"But Trying is not at all wrong and one day we can reach it\")\n",
    "    def c(self):\n",
    "        print(\"Job will come definitely\")\n",
    "class Balu():\n",
    "    def a(self):\n",
    "        print(\"But Future our retirement what we Have\")\n",
    "    def b(self):\n",
    "        print(\"Now Balu will give Fantastic idea\")\n",
    "    def c(self):\n",
    "        print(\"The Idea is our software engineers after retirement continue with panipoori Business,\\n we will earn 3000 per day not only panipoori businesss any other business\")\n",
    "    def d(self):\n",
    "        print(\"This idea works definitely\")\n",
    "print(\"Lets rock job and after business\")\n",
    "e=Balaji()\n",
    "f=Sai_Balaji()\n",
    "g=Balu()\n",
    "e.a()\n",
    "e.b()\n",
    "e.c()\n",
    "f.a()\n",
    "f.b()\n",
    "f.c()\n",
    "g.a()\n",
    "g.b()\n",
    "g.c()\n",
    "g.d()"
   ]
  },
  {
   "cell_type": "raw",
   "id": "ae966eb8-a565-4dc2-a01e-6d509fd32125",
   "metadata": {},
   "source": [
    "Polymorphism with a Function and objects: \n",
    "\n",
    "It is also possible to create a function that can take any object, allowing for polymorphism. \n",
    "In this example, let’s create a function called “func()” which will take an object which we will name “obj”. \n",
    "Though we are using the name ‘obj’, any instantiated object will be able to be called into this function. \n",
    "Next, let’s give the function something to do that uses the ‘obj’ object we passed to it. \n",
    "In this case, let’s call the three methods, viz., capital(), language() and type(), each of which is defined in the two classes ‘India’ and ‘USA’. \n",
    "Next, let’s create instantiations of both the ‘India’ and ‘USA’ classes if we don’t have them already. \n",
    "With those, we can call their action using the same func() function: "
   ]
  },
  {
   "cell_type": "code",
   "execution_count": 17,
   "id": "c9b219fb-34ba-4ed3-911c-c04d8074bc53",
   "metadata": {},
   "outputs": [
    {
     "name": "stdout",
     "output_type": "stream",
     "text": [
      "Balaji is looking outside very relax\n",
      "But he feels very Angry\n",
      "Because he frustates as cr due to two persons\n",
      "His Inner feeling is to beat them\n",
      "Due to certificates he wants to stop himself and he has a character\n",
      "Due to that Character he leaves both and came out\n"
     ]
    }
   ],
   "source": [
    "class Balaji():\n",
    "    def a(self):\n",
    "        print(\"Balaji is looking outside very relax\")\n",
    "    def b(self):\n",
    "        print(\"But he feels very Angry\")\n",
    "    def c(self):\n",
    "        print(\"Because he frustates as cr due to two persons\")\n",
    "class Balu():\n",
    "    def a(self):\n",
    "        print(\"His Inner feeling is to beat them\")\n",
    "    def b(self):\n",
    "        print(\"Due to certificates he wants to stop himself and he has a character\")\n",
    "    def c(self):\n",
    "        print(\"Due to that Character he leaves both and came out\")\n",
    "def d(e):\n",
    "    e.a()\n",
    "    e.b()\n",
    "    e.c()\n",
    "f=Balaji()\n",
    "g=Balu()\n",
    "d(f)\n",
    "d(g)"
   ]
  },
  {
   "cell_type": "code",
   "execution_count": null,
   "id": "4e430628-2888-488c-baef-456750043b42",
   "metadata": {},
   "outputs": [
    {
     "name": "stdout",
     "output_type": "stream",
     "text": [
      "Adi Kadhu abba nenu money minded kadhu dabbulu kattesthe meeku ibbandi undadu kadha asala mee ideology andukolekapothunna \n",
      " nenu emaina ibbandi peduthunnnanna cheppandi abba naa previous batch ni vere range theesukuvella naa youtube videos chudandi,\n",
      " but the truth is fake videos\n",
      "None\n",
      "fees kattali kadha thondaraga phone cheyandi mee parents ki ninna two days ki permission theesukunnaru ninna eeroju tho two days ayipoyi\n",
      "None\n"
     ]
    }
   ],
   "source": [
    "#polymorphism in Python using inheritance and method overriding:\n",
    "class Animal():\n",
    "    def a(self):\n",
    "        raise NotFoundError(\"subclass must implement this method\")\n",
    "class Ravikiran(Animal):\n",
    "    def a(self):\n",
    "        print(\"Adi Kadhu abba nenu money minded kadhu dabbulu kattesthe meeku ibbandi undadu kadha asala mee ideology andukolekapothunna \\n nenu emaina ibbandi peduthunnnanna cheppandi abba naa previous batch ni vere range theesukuvella naa youtube videos \\nchudandi, but the truth is fake videos\")\n",
    "class Haritha(Animal):\n",
    "    def a(self):\n",
    "        print(\"fees kattali kadha thondaraga phone cheyandi mee parents ki ninna two days ki permission theesukunnaru \\nninna eeroju tho two days ayipoyi\")\n",
    "animals=[Ravikiran(),Haritha()]\n",
    "for b in animals:\n",
    "    print(b.a())"
   ]
  },
  {
   "cell_type": "code",
   "execution_count": null,
   "id": "cd56577a-ddc9-4607-b1d0-63ec7aba7de7",
   "metadata": {},
   "outputs": [],
   "source": []
  }
 ],
 "metadata": {
  "kernelspec": {
   "display_name": "Python 3 (ipykernel)",
   "language": "python",
   "name": "python3"
  },
  "language_info": {
   "codemirror_mode": {
    "name": "ipython",
    "version": 3
   },
   "file_extension": ".py",
   "mimetype": "text/x-python",
   "name": "python",
   "nbconvert_exporter": "python",
   "pygments_lexer": "ipython3",
   "version": "3.8.2"
  }
 },
 "nbformat": 4,
 "nbformat_minor": 5
}
