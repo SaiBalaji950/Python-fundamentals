{
 "cells": [
  {
   "cell_type": "code",
   "execution_count": null,
   "id": "2c4d1081-2911-45d9-b25c-8c811cb160bf",
   "metadata": {},
   "outputs": [],
   "source": [
    "SciPy is a scientific computation library that uses NumPy underneath.\n",
    "\n",
    "SciPy stands for Scientific Python.\n",
    "    It provides more utility functions for optimization, stats and signal processing.\n",
    "\n",
    "Like NumPy, SciPy is open source so we can use it freely.\n",
    "\n",
    "SciPy was created by NumPy's creator Travis Olliphant."
   ]
  },
  {
   "cell_type": "code",
   "execution_count": 1,
   "id": "077278f7-46b3-478c-9573-48650de6fa98",
   "metadata": {},
   "outputs": [
    {
     "name": "stdout",
     "output_type": "stream",
     "text": [
      "0.001\n"
     ]
    }
   ],
   "source": [
    "from scipy import constants\n",
    "print(constants.liter)"
   ]
  },
  {
   "cell_type": "code",
   "execution_count": 2,
   "id": "e4c12495-c301-4099-9831-b694b5e0600f",
   "metadata": {},
   "outputs": [
    {
     "name": "stdout",
     "output_type": "stream",
     "text": [
      "1.10.1\n"
     ]
    }
   ],
   "source": [
    "import scipy \n",
    "print(scipy.__version__)"
   ]
  },
  {
   "cell_type": "code",
   "execution_count": null,
   "id": "c8dca789-250e-4ffc-b77d-c36e610040fd",
   "metadata": {},
   "outputs": [],
   "source": [
    "Constants in SciPy\n",
    "As SciPy is more focused on scientific implementations, it provides many built-in scientific constants.\n",
    "\n",
    "These constants can be helpful when you are working with Data Science."
   ]
  },
  {
   "cell_type": "code",
   "execution_count": 3,
   "id": "3b96f9de-0090-495f-977e-faae27783462",
   "metadata": {},
   "outputs": [
    {
     "name": "stdout",
     "output_type": "stream",
     "text": [
      "3.141592653589793\n"
     ]
    }
   ],
   "source": [
    "from scipy import constants\n",
    "print(constants.pi)"
   ]
  },
  {
   "cell_type": "code",
   "execution_count": 4,
   "id": "c75e462a-04ac-4e4b-acd4-aaf62bf717c1",
   "metadata": {},
   "outputs": [
    {
     "name": "stdout",
     "output_type": "stream",
     "text": [
      "['Avogadro', 'Boltzmann', 'Btu', 'Btu_IT', 'Btu_th', 'ConstantWarning', 'G', 'Julian_year', 'N_A', 'Planck', 'R', 'Rydberg', 'Stefan_Boltzmann', 'Wien', '__all__', '__builtins__', '__cached__', '__doc__', '__file__', '__loader__', '__name__', '__package__', '__path__', '__spec__', '_codata', '_constants', '_obsolete_constants', 'acre', 'alpha', 'angstrom', 'arcmin', 'arcminute', 'arcsec', 'arcsecond', 'astronomical_unit', 'atm', 'atmosphere', 'atomic_mass', 'atto', 'au', 'bar', 'barrel', 'bbl', 'blob', 'c', 'calorie', 'calorie_IT', 'calorie_th', 'carat', 'centi', 'codata', 'constants', 'convert_temperature', 'day', 'deci', 'degree', 'degree_Fahrenheit', 'deka', 'dyn', 'dyne', 'e', 'eV', 'electron_mass', 'electron_volt', 'elementary_charge', 'epsilon_0', 'erg', 'exa', 'exbi', 'femto', 'fermi', 'find', 'fine_structure', 'fluid_ounce', 'fluid_ounce_US', 'fluid_ounce_imp', 'foot', 'g', 'gallon', 'gallon_US', 'gallon_imp', 'gas_constant', 'gibi', 'giga', 'golden', 'golden_ratio', 'grain', 'gram', 'gravitational_constant', 'h', 'hbar', 'hectare', 'hecto', 'horsepower', 'hour', 'hp', 'inch', 'k', 'kgf', 'kibi', 'kilo', 'kilogram_force', 'kmh', 'knot', 'lambda2nu', 'lb', 'lbf', 'light_year', 'liter', 'litre', 'long_ton', 'm_e', 'm_n', 'm_p', 'm_u', 'mach', 'mebi', 'mega', 'metric_ton', 'micro', 'micron', 'mil', 'mile', 'milli', 'minute', 'mmHg', 'mph', 'mu_0', 'nano', 'nautical_mile', 'neutron_mass', 'nu2lambda', 'ounce', 'oz', 'parsec', 'pebi', 'peta', 'physical_constants', 'pi', 'pico', 'point', 'pound', 'pound_force', 'precision', 'proton_mass', 'psi', 'pt', 'short_ton', 'sigma', 'slinch', 'slug', 'speed_of_light', 'speed_of_sound', 'stone', 'survey_foot', 'survey_mile', 'tebi', 'tera', 'test', 'ton_TNT', 'torr', 'troy_ounce', 'troy_pound', 'u', 'unit', 'value', 'week', 'yard', 'year', 'yobi', 'yocto', 'yotta', 'zebi', 'zepto', 'zero_Celsius', 'zetta']\n"
     ]
    }
   ],
   "source": [
    "from scipy import constants\n",
    "print(dir(constants))"
   ]
  },
  {
   "cell_type": "code",
   "execution_count": null,
   "id": "aa72993b-80fe-4958-959b-05290468b885",
   "metadata": {},
   "outputs": [],
   "source": [
    "Unit Categories\n",
    "The units are placed under these categories:\n",
    "\n",
    "Metric\n",
    "Binary\n",
    "Mass\n",
    "Angle\n",
    "Time\n",
    "Length\n",
    "Pressure\n",
    "Volume\n",
    "Speed\n",
    "Temperature\n",
    "Energy\n",
    "Power\n",
    "Force"
   ]
  },
  {
   "cell_type": "code",
   "execution_count": 6,
   "id": "fcbbd1ad-0196-4e91-b9e2-33060ca1edc7",
   "metadata": {},
   "outputs": [
    {
     "name": "stdout",
     "output_type": "stream",
     "text": [
      "0.001\n"
     ]
    }
   ],
   "source": [
    "from scipy import constants\n",
    "print(constants.gram)"
   ]
  },
  {
   "cell_type": "code",
   "execution_count": 8,
   "id": "c453be70-afea-4b97-96c9-71ac496c9781",
   "metadata": {},
   "outputs": [
    {
     "name": "stdout",
     "output_type": "stream",
     "text": [
      "3600.0\n"
     ]
    }
   ],
   "source": [
    "from scipy import constants\n",
    "print(constants.hour)"
   ]
  },
  {
   "cell_type": "code",
   "execution_count": 9,
   "id": "3a14ec7d-4f42-4875-82a4-ed7ad58ea00f",
   "metadata": {},
   "outputs": [
    {
     "name": "stdout",
     "output_type": "stream",
     "text": [
      "1e+24\n",
      "1e+21\n",
      "1e+18\n",
      "1000000000000000.0\n",
      "1000000000000.0\n",
      "1000000000.0\n",
      "1000000.0\n",
      "1000.0\n",
      "100.0\n",
      "10.0\n",
      "0.1\n",
      "0.01\n",
      "0.001\n",
      "1e-06\n",
      "1e-09\n",
      "1e-12\n",
      "1e-15\n",
      "1e-18\n",
      "1e-21\n"
     ]
    }
   ],
   "source": [
    "#Let us consider some metric examples\n",
    "from scipy import constants\n",
    "\n",
    "print(constants.yotta)    \n",
    "print(constants.zetta)    \n",
    "print(constants.exa)      \n",
    "print(constants.peta)     \n",
    "print(constants.tera)     \n",
    "print(constants.giga)     \n",
    "print(constants.mega)     \n",
    "print(constants.kilo)     \n",
    "print(constants.hecto)    \n",
    "print(constants.deka)     \n",
    "print(constants.deci)     \n",
    "print(constants.centi)    \n",
    "print(constants.milli)    \n",
    "print(constants.micro)    \n",
    "print(constants.nano)     \n",
    "print(constants.pico)     \n",
    "print(constants.femto)    \n",
    "print(constants.atto)     \n",
    "print(constants.zepto) "
   ]
  },
  {
   "cell_type": "code",
   "execution_count": 10,
   "id": "9594b14f-a11d-46b0-8dc7-31e680275f59",
   "metadata": {},
   "outputs": [
    {
     "name": "stdout",
     "output_type": "stream",
     "text": [
      "1024\n",
      "1048576\n",
      "1073741824\n",
      "1099511627776\n",
      "1125899906842624\n",
      "1152921504606846976\n",
      "1180591620717411303424\n",
      "1208925819614629174706176\n"
     ]
    }
   ],
   "source": [
    "#Binary\n",
    "from scipy import constants\n",
    "print(constants.kibi)    \n",
    "print(constants.mebi)    \n",
    "print(constants.gibi)    \n",
    "print(constants.tebi)    \n",
    "print(constants.pebi)    \n",
    "print(constants.exbi)    \n",
    "print(constants.zebi)    \n",
    "print(constants.yobi) "
   ]
  },
  {
   "cell_type": "code",
   "execution_count": 11,
   "id": "1a902e01-4d56-4826-9ce3-58a5443d1f9f",
   "metadata": {},
   "outputs": [
    {
     "name": "stdout",
     "output_type": "stream",
     "text": [
      "0.001\n",
      "1000.0\n",
      "6.479891e-05\n",
      "0.45359236999999997\n",
      "0.45359236999999997\n",
      "0.028349523124999998\n",
      "0.028349523124999998\n",
      "6.3502931799999995\n",
      "1016.0469088\n",
      "907.1847399999999\n",
      "0.031103476799999998\n",
      "0.37324172159999996\n",
      "0.0002\n",
      "1.6605390666e-27\n",
      "1.6605390666e-27\n",
      "1.6605390666e-27\n"
     ]
    }
   ],
   "source": [
    "from scipy import constants\n",
    "\n",
    "print(constants.gram)       \n",
    "print(constants.metric_ton) \n",
    "print(constants.grain)      \n",
    "print(constants.lb)         \n",
    "print(constants.pound)      \n",
    "print(constants.oz)         \n",
    "print(constants.ounce)     \n",
    "print(constants.stone)      \n",
    "print(constants.long_ton)   \n",
    "print(constants.short_ton) \n",
    "print(constants.troy_ounce)\n",
    "print(constants.troy_pound) \n",
    "print(constants.carat)      \n",
    "print(constants.atomic_mass)\n",
    "print(constants.m_u)        \n",
    "print(constants.u)          "
   ]
  },
  {
   "cell_type": "code",
   "execution_count": 12,
   "id": "5d1d7e30-c9d4-408b-80e0-7dff6e9e0d64",
   "metadata": {},
   "outputs": [
    {
     "name": "stdout",
     "output_type": "stream",
     "text": [
      "0.017453292519943295\n",
      "0.0002908882086657216\n",
      "0.0002908882086657216\n",
      "4.84813681109536e-06\n",
      "4.84813681109536e-06\n"
     ]
    }
   ],
   "source": [
    "from scipy import constants\n",
    "\n",
    "print(constants.degree)     \n",
    "print(constants.arcmin)     \n",
    "print(constants.arcminute)  \n",
    "print(constants.arcsec)     \n",
    "print(constants.arcsecond)  "
   ]
  },
  {
   "cell_type": "code",
   "execution_count": 13,
   "id": "ef382927-9354-4175-a072-8fb81e0a24ad",
   "metadata": {},
   "outputs": [
    {
     "name": "stdout",
     "output_type": "stream",
     "text": [
      "60.0\n",
      "3600.0\n",
      "86400.0\n",
      "604800.0\n",
      "31536000.0\n",
      "31557600.0\n"
     ]
    }
   ],
   "source": [
    "from scipy import constants\n",
    "\n",
    "print(constants.minute)      \n",
    "print(constants.hour)        \n",
    "print(constants.day)         \n",
    "print(constants.week)        \n",
    "print(constants.year)        \n",
    "print(constants.Julian_year)"
   ]
  },
  {
   "cell_type": "code",
   "execution_count": null,
   "id": "95a951c2-d936-48be-8133-f4030b9d6ba1",
   "metadata": {},
   "outputs": [],
   "source": [
    "Optimizers in SciPy\n",
    "Optimizers are a set of procedures defined in SciPy that either find the minimum value of a function, or the root of an equation.\n",
    "Roots of an Equation\n",
    "NumPy is capable of finding roots for polynomials and linear equations, but it can not find roots for non linear equations, like this one:\n",
    "\n",
    "x + cos(x)\n",
    "\n",
    "For that you can use SciPy's optimize.root function.\n",
    "\n",
    "This function takes two required arguments:\n",
    "\n",
    "fun - a function representing an equation.\n",
    "\n",
    "x0 - an initial guess for the root.\n",
    "\n",
    "The function returns an object with information regarding the solution.\n",
    "\n",
    "The actual solution is given under attribute x of the returned object:"
   ]
  },
  {
   "cell_type": "code",
   "execution_count": 14,
   "id": "dd41c059-3e7b-4800-9e3a-8073c024d58b",
   "metadata": {},
   "outputs": [
    {
     "name": "stdout",
     "output_type": "stream",
     "text": [
      "[-0.73908513]\n"
     ]
    }
   ],
   "source": [
    "from scipy.optimize import root\n",
    "from math import cos\n",
    "def a(x):\n",
    "    return x+cos(x)\n",
    "b=root(a,30)\n",
    "print(b.x)"
   ]
  },
  {
   "cell_type": "code",
   "execution_count": null,
   "id": "27423eae-68ed-452e-9965-78df7df6ceb7",
   "metadata": {},
   "outputs": [],
   "source": [
    "Finding Minima\n",
    "We can use scipy.optimize.minimize() function to minimize the function.\n",
    "\n",
    "The minimize() function takes the following arguments:\n",
    "\n",
    "fun - a function representing an equation.\n",
    "\n",
    "x0 - an initial guess for the root.\n",
    "\n",
    "method - name of the method to use. Legal values:\n",
    "    'CG'\n",
    "    'BFGS'\n",
    "    'Newton-CG'\n",
    "    'L-BFGS-B'\n",
    "    'TNC'\n",
    "    'COBYLA'\n",
    "    'SLSQP'\n",
    "\n",
    "callback - function called after each iteration of optimization.\n",
    "\n",
    "options - a dictionary defining extra params:\n",
    "\n",
    "{\n",
    "     \"disp\": boolean - print detailed description\n",
    "     \"gtol\": number - the tolerance of the error\n",
    "  }"
   ]
  },
  {
   "cell_type": "code",
   "execution_count": 15,
   "id": "8c455a24-80b2-4f0c-aef1-e855ec3c93c5",
   "metadata": {},
   "outputs": [
    {
     "name": "stdout",
     "output_type": "stream",
     "text": [
      " message: Optimization terminated successfully.\n",
      " success: True\n",
      "  status: 0\n",
      "     fun: 1.75\n",
      "       x: [-5.000e-01]\n",
      "     nit: 2\n",
      "     jac: [ 2.980e-08]\n",
      "    nfev: 10\n",
      "    njev: 5\n"
     ]
    }
   ],
   "source": [
    "from scipy.optimize import minimize\n",
    "def a(x):\n",
    "    return x**2+x+2\n",
    "b=minimize(a,0,method='CG')\n",
    "print(b)"
   ]
  },
  {
   "cell_type": "code",
   "execution_count": 16,
   "id": "af3f6deb-0e9d-4156-a706-7503d9ce4948",
   "metadata": {},
   "outputs": [
    {
     "name": "stdout",
     "output_type": "stream",
     "text": [
      " message: Optimization terminated successfully\n",
      " success: True\n",
      "  status: 0\n",
      "     fun: 1.75\n",
      "       x: [-5.000e-01]\n",
      "     nit: 2\n",
      "     jac: [ 1.490e-08]\n",
      "    nfev: 5\n",
      "    njev: 2\n"
     ]
    }
   ],
   "source": [
    "from scipy.optimize import minimize\n",
    "def a(x):\n",
    "    return x**2+x+2\n",
    "b=minimize(a,0,method='SLSQP')\n",
    "print(b)"
   ]
  },
  {
   "cell_type": "code",
   "execution_count": 17,
   "id": "b466c365-3de1-4896-8832-dc80a3509a9f",
   "metadata": {},
   "outputs": [
    {
     "name": "stdout",
     "output_type": "stream",
     "text": [
      "  message: Optimization terminated successfully.\n",
      "  success: True\n",
      "   status: 0\n",
      "      fun: 1.75\n",
      "        x: [-5.000e-01]\n",
      "      nit: 2\n",
      "      jac: [ 0.000e+00]\n",
      " hess_inv: [[ 5.000e-01]]\n",
      "     nfev: 8\n",
      "     njev: 4\n"
     ]
    }
   ],
   "source": [
    "from scipy.optimize import minimize\n",
    "def a(x):\n",
    "    return x**2+x+2\n",
    "b=minimize(a,0,method='BfGS')\n",
    "print(b)"
   ]
  },
  {
   "cell_type": "code",
   "execution_count": 18,
   "id": "ea071f09-4763-4386-a15d-0558d1c4e677",
   "metadata": {},
   "outputs": [
    {
     "name": "stdout",
     "output_type": "stream",
     "text": [
      " message: Optimization terminated successfully.\n",
      " success: True\n",
      "  status: 1\n",
      "     fun: 1.75000001\n",
      "       x: [-5.001e-01]\n",
      "    nfev: 18\n",
      "   maxcv: 0.0\n"
     ]
    }
   ],
   "source": [
    "from scipy.optimize import minimize\n",
    "def a(x):\n",
    "    return x**2+x+2\n",
    "b=minimize(a,0,method='COBYLA')\n",
    "print(b)"
   ]
  },
  {
   "cell_type": "code",
   "execution_count": 19,
   "id": "bc3c34c9-7e60-4277-80e5-1e224b000545",
   "metadata": {},
   "outputs": [
    {
     "name": "stdout",
     "output_type": "stream",
     "text": [
      " message: Local minimum reached (|pg| ~= 0)\n",
      " success: True\n",
      "  status: 0\n",
      "     fun: 1.75\n",
      "       x: [-5.000e-01]\n",
      "     nit: 1\n",
      "     jac: [ 2.220e-08]\n",
      "    nfev: 8\n"
     ]
    }
   ],
   "source": [
    "from scipy.optimize import minimize\n",
    "def a(x):\n",
    "    return x**2+x+2\n",
    "b=minimize(a,0,method='TNC')\n",
    "print(b)"
   ]
  },
  {
   "cell_type": "code",
   "execution_count": null,
   "id": "fb34d842-7914-414c-93f5-bd9a17f86b79",
   "metadata": {},
   "outputs": [],
   "source": [
    "What is Sparse Data\n",
    "Sparse data is data that has mostly unused elements (elements that don't carry any information ).\n",
    "\n",
    "It can be an array like this one:\n",
    "\n",
    "[1, 0, 2, 0, 0, 3, 0, 0, 0, 0, 0, 0]\n",
    "How to Work With Sparse Data\n",
    "SciPy has a module, scipy.sparse that provides functions to deal with sparse data.\n",
    "\n",
    "There are primarily two types of sparse matrices that we use:\n",
    "\n",
    "CSC - Compressed Sparse Column. For efficient arithmetic, fast column slicing.\n",
    "\n",
    "CSR - Compressed Sparse Row. For fast row slicing, faster matrix vector products\n",
    "\n",
    "We will use the CSR matrix in this tutorial."
   ]
  },
  {
   "cell_type": "code",
   "execution_count": 20,
   "id": "ddb1166a-8ba5-4f22-97c1-5407297fe758",
   "metadata": {},
   "outputs": [
    {
     "name": "stdout",
     "output_type": "stream",
     "text": [
      "  (0, 0)\t1\n",
      "  (0, 2)\t2\n",
      "  (0, 4)\t2\n",
      "  (0, 5)\t3\n",
      "  (0, 10)\t7\n",
      "  (0, 11)\t1\n",
      "  (0, 12)\t5\n"
     ]
    }
   ],
   "source": [
    "import numpy as np\n",
    "from scipy.sparse import csr_matrix\n",
    "a=np.array([1,0,2,0,2,3,0,0,0,0,7,1,5,0,0])\n",
    "print(csr_matrix(a))"
   ]
  },
  {
   "cell_type": "code",
   "execution_count": 21,
   "id": "71a9b0e6-68cb-46fa-9010-639d720fb2ba",
   "metadata": {},
   "outputs": [
    {
     "name": "stdout",
     "output_type": "stream",
     "text": [
      "[1 1 2]\n"
     ]
    }
   ],
   "source": [
    "import numpy as np\n",
    "from scipy.sparse import csr_matrix\n",
    "\n",
    "arr = np.array([[0, 0, 0], [0, 0, 1], [1, 0, 2]])\n",
    "\n",
    "print(csr_matrix(arr).data)"
   ]
  },
  {
   "cell_type": "code",
   "execution_count": 22,
   "id": "1a41493a-25b3-413d-ae9a-1897ce247f5f",
   "metadata": {},
   "outputs": [
    {
     "name": "stdout",
     "output_type": "stream",
     "text": [
      "3\n"
     ]
    }
   ],
   "source": [
    "import numpy as np\n",
    "from scipy.sparse import csr_matrix\n",
    "\n",
    "arr = np.array([[0, 0, 0], [0, 0, 1], [1, 0, 2]])\n",
    "\n",
    "print(csr_matrix(arr).count_nonzero())"
   ]
  },
  {
   "cell_type": "code",
   "execution_count": 24,
   "id": "4e4e333a-b348-47ef-a97e-a324241feadf",
   "metadata": {},
   "outputs": [
    {
     "name": "stdout",
     "output_type": "stream",
     "text": [
      "  (0, 0)\t1\n",
      "  (0, 2)\t2\n",
      "  (0, 4)\t2\n",
      "  (0, 5)\t3\n",
      "  (0, 10)\t7\n",
      "  (0, 11)\t1\n",
      "  (0, 12)\t5\n"
     ]
    }
   ],
   "source": [
    "import numpy as np\n",
    "from scipy.sparse import csr_matrix\n",
    "a=np.array([1,0,2,0,2,3,0,0,0,0,7,1,5,0,0])\n",
    "b=csr_matrix(a)\n",
    "b.eliminate_zeros()\n",
    "print(b)"
   ]
  },
  {
   "cell_type": "code",
   "execution_count": 25,
   "id": "8383c901-d039-43f8-a8c2-c8dc12688e95",
   "metadata": {},
   "outputs": [
    {
     "name": "stdout",
     "output_type": "stream",
     "text": [
      "  (0, 0)\t1\n",
      "  (0, 2)\t2\n",
      "  (0, 4)\t2\n",
      "  (0, 5)\t3\n",
      "  (0, 10)\t7\n",
      "  (0, 11)\t1\n",
      "  (0, 12)\t5\n"
     ]
    }
   ],
   "source": [
    "import numpy as np\n",
    "from scipy.sparse import csr_matrix\n",
    "a=np.array([1,0,2,0,2,3,0,0,0,0,7,1,5,0,0])\n",
    "b=csr_matrix(a).tocsc()\n",
    "print(b)"
   ]
  },
  {
   "cell_type": "code",
   "execution_count": null,
   "id": "f3a4faab-623b-40f1-aaae-8965d993896b",
   "metadata": {},
   "outputs": [],
   "source": [
    "Working with Graphs\n",
    "Graphs are an essential data structure.\n",
    "\n",
    "SciPy provides us with the module scipy.sparse.csgraph for working with such data structures."
   ]
  },
  {
   "cell_type": "code",
   "execution_count": 26,
   "id": "84c51804-c533-4512-abed-68be53ac28a4",
   "metadata": {},
   "outputs": [
    {
     "name": "stdout",
     "output_type": "stream",
     "text": [
      "(1, array([0, 0, 0]))\n"
     ]
    }
   ],
   "source": [
    "import numpy as np\n",
    "from scipy.sparse.csgraph import connected_components\n",
    "from scipy.sparse import csr_matrix\n",
    "a=np.array([[1,2,3],[4,5,6],[7,8,9]])\n",
    "b=csr_matrix(a)\n",
    "print(connected_components(b))"
   ]
  },
  {
   "cell_type": "code",
   "execution_count": null,
   "id": "9b2e5af3-6a66-4b3d-926a-8f83c6057755",
   "metadata": {},
   "outputs": [],
   "source": [
    "Dijkstra\n",
    "Use the dijkstra method to find the shortest path in a graph from one element to another.\n",
    "\n",
    "It takes following arguments:\n",
    "\n",
    "return_predecessors: boolean (True to return whole path of traversal otherwise False).\n",
    "indices: index of the element to return all paths from that element only.\n",
    "limit: max weight of path."
   ]
  },
  {
   "cell_type": "code",
   "execution_count": 27,
   "id": "3a07999c-24bf-4b72-80aa-0c443f775ef6",
   "metadata": {},
   "outputs": [
    {
     "name": "stdout",
     "output_type": "stream",
     "text": [
      "(array([0., 2., 3.]), array([-9999,     0,     0]))\n"
     ]
    }
   ],
   "source": [
    "import numpy as np\n",
    "from scipy.sparse.csgraph import dijkstra\n",
    "from scipy.sparse import csr_matrix\n",
    "a=np.array([[1,2,3],[4,5,6],[7,8,9]])\n",
    "b=csr_matrix(a)\n",
    "print(dijkstra(b,return_predecessors=True, indices=0))"
   ]
  },
  {
   "cell_type": "code",
   "execution_count": null,
   "id": "5b61a5b2-abe5-43fd-95bb-d8783a9babf4",
   "metadata": {},
   "outputs": [],
   "source": [
    "Use the floyd_warshall() method to find shortest path between all pairs of elements."
   ]
  },
  {
   "cell_type": "code",
   "execution_count": 28,
   "id": "0c36f282-e1bd-4147-9020-2f9fa3237a6b",
   "metadata": {},
   "outputs": [
    {
     "name": "stdout",
     "output_type": "stream",
     "text": [
      "(array([[0., 2., 3.],\n",
      "       [4., 0., 6.],\n",
      "       [7., 8., 0.]]), array([[-9999,     0,     0],\n",
      "       [    1, -9999,     1],\n",
      "       [    2,     2, -9999]]))\n"
     ]
    }
   ],
   "source": [
    "import numpy as np\n",
    "from scipy.sparse.csgraph import floyd_warshall\n",
    "from scipy.sparse import csr_matrix\n",
    "a=np.array([[1,2,3],[4,5,6],[7,8,9]])\n",
    "b=csr_matrix(a)\n",
    "print(floyd_warshall(b,return_predecessors=True))"
   ]
  },
  {
   "cell_type": "code",
   "execution_count": null,
   "id": "d44ae91f-0af2-4cd0-80aa-382401b4b586",
   "metadata": {},
   "outputs": [],
   "source": [
    "Bellman Ford\n",
    "The bellman_ford() method can also find the shortest path between all pairs of elements, but this method can handle negative weights as well."
   ]
  },
  {
   "cell_type": "code",
   "execution_count": 29,
   "id": "c3a9362d-1dc0-442d-b58b-6b0cc738007b",
   "metadata": {},
   "outputs": [
    {
     "name": "stdout",
     "output_type": "stream",
     "text": [
      "(array([4., 0., 6.]), array([    1, -9999,     1]))\n"
     ]
    }
   ],
   "source": [
    "import numpy as np\n",
    "from scipy.sparse.csgraph import bellman_ford\n",
    "from scipy.sparse import csr_matrix\n",
    "a=np.array([[1,2,3],[4,5,6],[7,8,9]])\n",
    "b=csr_matrix(a)\n",
    "print(bellman_ford(b,return_predecessors=True,indices=True))"
   ]
  },
  {
   "cell_type": "code",
   "execution_count": null,
   "id": "dcce8030-ab9f-43d9-9df7-6cf4f76964ee",
   "metadata": {},
   "outputs": [],
   "source": [
    "The depth_first_order() method returns a depth first traversal from a node.\n",
    "\n",
    "This function takes following arguments:\n",
    "\n",
    "the graph.\n",
    "the starting element to traverse graph from."
   ]
  },
  {
   "cell_type": "code",
   "execution_count": 30,
   "id": "f1ae0121-eebe-4469-8d9e-e5668fb2b6f6",
   "metadata": {},
   "outputs": [
    {
     "name": "stdout",
     "output_type": "stream",
     "text": [
      "(array([1, 0, 2]), array([    1, -9999,     0]))\n"
     ]
    }
   ],
   "source": [
    "import numpy as np\n",
    "from scipy.sparse.csgraph import depth_first_order\n",
    "from scipy.sparse import csr_matrix\n",
    "a=np.array([[1,2,3],[4,5,6],[7,8,9]])\n",
    "b=csr_matrix(a)\n",
    "print(depth_first_order(b,1))"
   ]
  },
  {
   "cell_type": "code",
   "execution_count": null,
   "id": "34dc5cfa-3299-40a6-9abc-a43b80fcfb7d",
   "metadata": {},
   "outputs": [],
   "source": [
    "Breadth First Order\n",
    "The breadth_first_order() method returns a breadth first traversal from a node.\n",
    "\n",
    "This function takes following arguments:\n",
    "\n",
    "the graph.\n",
    "the starting element to traverse graph from."
   ]
  },
  {
   "cell_type": "code",
   "execution_count": 31,
   "id": "b1b1bf34-8f89-4fbb-b15f-3089c0a93726",
   "metadata": {},
   "outputs": [
    {
     "name": "stdout",
     "output_type": "stream",
     "text": [
      "(array([1, 0, 2]), array([    1, -9999,     1]))\n"
     ]
    }
   ],
   "source": [
    "import numpy as np\n",
    "from scipy.sparse.csgraph import breadth_first_order\n",
    "from scipy.sparse import csr_matrix\n",
    "a=np.array([[1,2,3],[4,5,6],[7,8,9]])\n",
    "b=csr_matrix(a)\n",
    "print(breadth_first_order(b,1))"
   ]
  },
  {
   "cell_type": "code",
   "execution_count": null,
   "id": "465c4bed-0452-4f07-88a6-913e23cf4652",
   "metadata": {},
   "outputs": [],
   "source": [
    "Working with Spatial Data\n",
    "Spatial data refers to data that is represented in a geometric space.\n",
    "\n",
    "E.g. points on a coordinate system.\n",
    "\n",
    "We deal with spatial data problems on many tasks.\n",
    "\n",
    "E.g. finding if a point is inside a boundary or not.\n",
    "\n",
    "SciPy provides us with the module scipy.spatial, which has functions for working with spatial data.\n",
    "\n",
    "Triangulation\n",
    "A Triangulation of a polygon is to divide the polygon into multiple triangles with which we can compute an area of the polygon.\n",
    "\n",
    "A Triangulation with points means creating surface composed triangles in which all of the given points are\n",
    "on at least one vertex of any triangle in the surface.\n",
    "\n",
    "One method to generate these triangulations through points is the Delaunay() Triangulation."
   ]
  },
  {
   "cell_type": "code",
   "execution_count": 10,
   "id": "3a1fe61c-a93f-4ede-b325-b022ad8fd95f",
   "metadata": {},
   "outputs": [
    {
     "data": {
      "image/png": "[encoded data removed]",
      "text/plain": [
       "<Figure size 640x480 with 1 Axes>"
      ]
     },
     "metadata": {},
     "output_type": "display_data"
    }
   ],
   "source": [
    "import numpy as np\n",
    "import matplotlib.pyplot as plt\n",
    "from scipy.spatial import Delaunay\n",
    "a=np.array([[1,2],[3,4],[5,6],[7,8],[9,0]])\n",
    "b=Delaunay(a)\n",
    "plt.triplot(a[:,0],a[:,1],b.simplices)\n",
    "plt.scatter(a[:,0],a[:,1],color='r')\n",
    "plt.show()"
   ]
  },
  {
   "cell_type": "code",
   "execution_count": 11,
   "id": "cae3e08b-23a4-4892-83ea-bf51678bd78b",
   "metadata": {},
   "outputs": [
    {
     "data": {
      "image/png": "[encoded data removed]",
      "text/plain": [
       "<Figure size 640x480 with 1 Axes>"
      ]
     },
     "metadata": {},
     "output_type": "display_data"
    }
   ],
   "source": [
    "import numpy as np\n",
    "import matplotlib.pyplot as plt\n",
    "from scipy.spatial import Delaunay\n",
    "a=np.array([[2,4],[3,4],[3,0],[2,2],[4,1]])\n",
    "b=Delaunay(a)\n",
    "plt.triplot(a[:,0],a[:,1],b.simplices)\n",
    "plt.scatter(a[:,0],a[:,1],color='r')\n",
    "plt.show()"
   ]
  },
  {
   "cell_type": "code",
   "execution_count": null,
   "id": "59bf6f9d-5cd4-4c2e-82f3-125b55d3b900",
   "metadata": {},
   "outputs": [],
   "source": [
    "Convex Hull\n",
    "A convex hull is the smallest polygon that covers all of the given points.\n",
    "\n",
    "Use the ConvexHull() method to create a Convex Hull."
   ]
  },
  {
   "cell_type": "code",
   "execution_count": 12,
   "id": "d94bb909-53ff-4fb7-99f1-5fbb0e13618c",
   "metadata": {},
   "outputs": [
    {
     "data": {
      "image/png": "[encoded data removed]",
      "text/plain": [
       "<Figure size 640x480 with 1 Axes>"
      ]
     },
     "metadata": {},
     "output_type": "display_data"
    }
   ],
   "source": [
    "import numpy as np\n",
    "import matplotlib.pyplot as plt\n",
    "from scipy.spatial import ConvexHull\n",
    "a=np.array([[1,2],[3,4],[5,6],[7,8],[9,0]])\n",
    "b=Delaunay(a)\n",
    "c=b.simplices\n",
    "plt.scatter(a[:,0],a[:,1],color='r')\n",
    "for d in c:\n",
    "    plt.plot(a[d,0],a[d,1],'k-')\n",
    "plt.show()"
   ]
  },
  {
   "cell_type": "code",
   "execution_count": null,
   "id": "c2cfb55f-426b-4cc0-9884-3c0657c48374",
   "metadata": {},
   "outputs": [],
   "source": [
    "KDTrees\n",
    "KDTrees are a datastructure optimized for nearest neighbor queries.\n",
    "\n",
    "E.g. in a set of points using KDTrees we can efficiently ask which points are nearest to a certain given point.\n",
    "\n",
    "The KDTree() method returns a KDTree object.\n",
    "\n",
    "The query() method returns the distance to the nearest neighbor and the location of the neighbors."
   ]
  },
  {
   "cell_type": "code",
   "execution_count": 13,
   "id": "ab61e934-c0cf-4e5d-bbba-c8e819f6f098",
   "metadata": {},
   "outputs": [
    {
     "name": "stdout",
     "output_type": "stream",
     "text": [
      "(1.0, 0)\n"
     ]
    }
   ],
   "source": [
    "from scipy.spatial import KDTree\n",
    "a=[(1,2),(2,-2),(1,-1),(2,4),(4,-4)]\n",
    "b=KDTree(a)\n",
    "c=b.query((1,1))\n",
    "print(c)"
   ]
  },
  {
   "cell_type": "code",
   "execution_count": 14,
   "id": "0b73e4c8-e43e-4652-9f16-3a5e0743c468",
   "metadata": {},
   "outputs": [
    {
     "name": "stdout",
     "output_type": "stream",
     "text": [
      "(2.0, 0)\n"
     ]
    }
   ],
   "source": [
    "from scipy.spatial import KDTree\n",
    "\n",
    "points = [(1, -1), (2, 3), (-2, 3), (2, -3)]\n",
    "\n",
    "kdtree = KDTree(points)\n",
    "\n",
    "res = kdtree.query((1, 1))\n",
    "\n",
    "print(res)"
   ]
  },
  {
   "cell_type": "code",
   "execution_count": null,
   "id": "225b604e-aae9-4b71-a06a-c4b6be25ac16",
   "metadata": {},
   "outputs": [],
   "source": [
    "Distance Matrix\n",
    "There are many Distance Metrics used to find various types of distances between two points in data science, Euclidean distsance, cosine distsance etc.\n",
    "\n",
    "The distance between two vectors may not only be the length of straight line between them, \n",
    "it can also be the angle between them from origin, or number of unit steps required etc.\n",
    "\n",
    "Many of the Machine Learning algorithm's performance depends greatly on distance metrices. E.g. \"K Nearest Neighbors\", or \"K Means\" etc.\n",
    "\n",
    "Let us look at some of the Distance Metrices:\n",
    "\n",
    "Euclidean Distance\n",
    "Find the euclidean distance between given points."
   ]
  },
  {
   "cell_type": "code",
   "execution_count": 16,
   "id": "6d153ec0-8eb5-420a-b2f2-8dfa94dd8fd2",
   "metadata": {},
   "outputs": [
    {
     "name": "stdout",
     "output_type": "stream",
     "text": [
      "9.486832980505138\n"
     ]
    }
   ],
   "source": [
    "from scipy.spatial.distance import euclidean\n",
    "a=(1,2)\n",
    "b=(10,5)\n",
    "c=euclidean(a,b)\n",
    "print(c)"
   ]
  },
  {
   "cell_type": "code",
   "execution_count": null,
   "id": "67492764-8d10-4ef0-a35f-d9febf8d7f3a",
   "metadata": {},
   "outputs": [],
   "source": [
    "Cityblock Distance (Manhattan Distance)\n",
    "Is the distance computed using 4 degrees of movement."
   ]
  },
  {
   "cell_type": "code",
   "execution_count": 17,
   "id": "b5c27c11-7fde-409e-bc34-2df486c1a76c",
   "metadata": {},
   "outputs": [
    {
     "name": "stdout",
     "output_type": "stream",
     "text": [
      "12\n"
     ]
    }
   ],
   "source": [
    "from scipy.spatial.distance import cityblock\n",
    "a=(1,2)\n",
    "b=(10,5)\n",
    "c=cityblock(a,b)\n",
    "print(c)"
   ]
  },
  {
   "cell_type": "code",
   "execution_count": null,
   "id": "8e3bb5b9-8c34-4161-aec5-d6d77d9ff3ba",
   "metadata": {},
   "outputs": [],
   "source": [
    "Cosine Distance\n",
    "Is the value of cosine angle between the two points A and B."
   ]
  },
  {
   "cell_type": "code",
   "execution_count": 18,
   "id": "d5752b0c-5fef-43fd-819e-86e901396a32",
   "metadata": {},
   "outputs": [
    {
     "name": "stdout",
     "output_type": "stream",
     "text": [
      "0.19999999999999996\n"
     ]
    }
   ],
   "source": [
    "from scipy.spatial.distance import cosine\n",
    "a=(1,2)\n",
    "b=(10,5)\n",
    "c=cosine(a,b)\n",
    "print(c)"
   ]
  },
  {
   "cell_type": "code",
   "execution_count": null,
   "id": "45136466-9e9d-42f3-9bef-fc2850af78ae",
   "metadata": {},
   "outputs": [],
   "source": [
    "Hamming Distance\n",
    "Is the proportion of bits where two bits are different.\n",
    "\n",
    "It's a way to measure distance for binary sequences."
   ]
  },
  {
   "cell_type": "code",
   "execution_count": 19,
   "id": "eae94fd8-8974-4dc2-bfa9-caf95c5e06f9",
   "metadata": {},
   "outputs": [
    {
     "name": "stdout",
     "output_type": "stream",
     "text": [
      "1.0\n"
     ]
    }
   ],
   "source": [
    "from scipy.spatial.distance import hamming\n",
    "a=[True,False,True]\n",
    "b=[False,True,False]\n",
    "c=hamming(a,b)\n",
    "print(c)"
   ]
  },
  {
   "cell_type": "code",
   "execution_count": 20,
   "id": "2a846460-3020-43d7-ba5b-e1aadd958833",
   "metadata": {},
   "outputs": [
    {
     "name": "stdout",
     "output_type": "stream",
     "text": [
      "0.6666666666666666\n"
     ]
    }
   ],
   "source": [
    "from scipy.spatial.distance import hamming\n",
    "\n",
    "p1 = (True, False, True)\n",
    "p2 = (False, True, True)\n",
    "\n",
    "res = hamming(p1, p2)\n",
    "\n",
    "print(res)"
   ]
  },
  {
   "cell_type": "code",
   "execution_count": null,
   "id": "bc19399a-8252-49b2-8d16-2d1e954f0e74",
   "metadata": {},
   "outputs": [],
   "source": [
    "Working With Matlab Arrays\n",
    "We know that NumPy provides us with methods to persist the data in readable formats for Python. \n",
    "But SciPy provides us with interoperability with Matlab as well.\n",
    "\n",
    "SciPy provides us with the module scipy.io, which has functions for working with Matlab arrays.\n",
    "\n",
    "Exporting Data in Matlab Format\n",
    "The savemat() function allows us to export data in Matlab format.\n",
    "\n",
    "The method takes the following parameters:\n",
    "\n",
    "filename - the file name for saving data.\n",
    "mdict - a dictionary containing the data.\n",
    "do_compression - a boolean value that specifies whether to compress the result or not. Default False."
   ]
  },
  {
   "cell_type": "code",
   "execution_count": 23,
   "id": "116c8d8b-62da-4cc3-8b2c-cbabc34becd6",
   "metadata": {},
   "outputs": [
    {
     "name": "stdout",
     "output_type": "stream",
     "text": [
      "[0 1 2 3 4]\n"
     ]
    }
   ],
   "source": [
    "from scipy import io\n",
    "import numpy as np\n",
    "a=np.arange(5)\n",
    "io.savemat('a.mat',{\"vec\":a})\n",
    "print(a)"
   ]
  },
  {
   "cell_type": "code",
   "execution_count": null,
   "id": "61570962-0f9d-42c3-8b4f-ebafe364f814",
   "metadata": {},
   "outputs": [],
   "source": [
    "Import Data from Matlab Format\n",
    "The loadmat() function allows us to import data from a Matlab file.\n",
    "\n",
    "The function takes one required parameter:\n",
    "\n",
    "filename - the file name of the saved data.\n",
    "\n",
    "It will return a structured array whose keys are the variable names, and the corresponding values are the variable values"
   ]
  },
  {
   "cell_type": "code",
   "execution_count": 24,
   "id": "47f3cd28-725e-41f1-9b30-847439e447ab",
   "metadata": {},
   "outputs": [
    {
     "name": "stdout",
     "output_type": "stream",
     "text": [
      "{'__header__': b'MATLAB 5.0 MAT-file Platform: nt, Created on: Tue Jul 30 19:09:56 2024', '__version__': '1.0', '__globals__': [], 'vec': array([[0, 1, 2, 3, 4, 5, 6, 7, 8, 9]])}\n"
     ]
    }
   ],
   "source": [
    "from scipy import io\n",
    "import numpy as np\n",
    "a=np.array([0,1,2,3,4,5,6,7,8,9])\n",
    "io.savemat('a.mat',{\"vec\":a})\n",
    "b=io.loadmat('a.mat')\n",
    "print(b)"
   ]
  },
  {
   "cell_type": "code",
   "execution_count": 25,
   "id": "4aa0a00b-6493-48dc-b038-1893800b9ef1",
   "metadata": {},
   "outputs": [
    {
     "name": "stdout",
     "output_type": "stream",
     "text": [
      "[[0 1 2 3 4 5 6 7 8 9]]\n"
     ]
    }
   ],
   "source": [
    "print(b[\"vec\"])"
   ]
  },
  {
   "cell_type": "code",
   "execution_count": 27,
   "id": "03b48881-60de-4e7d-aabd-b80ab6f49902",
   "metadata": {},
   "outputs": [
    {
     "name": "stdout",
     "output_type": "stream",
     "text": [
      "[0 1 2 3 4 5 6 7 8 9]\n"
     ]
    }
   ],
   "source": [
    "b=io.loadmat('a.mat',squeeze_me=True)\n",
    "print(b[\"vec\"])"
   ]
  },
  {
   "cell_type": "code",
   "execution_count": null,
   "id": "d7c27097-f2c9-4e09-bd40-388e79cc8a1d",
   "metadata": {},
   "outputs": [],
   "source": [
    "What is Interpolation?\n",
    "Interpolation is a method for generating points between given points.\n",
    "\n",
    "For example: for points 1 and 2, we may interpolate and find points 1.33 and 1.66.\n",
    "\n",
    "Interpolation has many usage, in Machine Learning we often deal with missing data in a dataset, interpolation is often used to substitute those values.\n",
    "\n",
    "This method of filling values is called imputation.\n",
    "\n",
    "Apart from imputation, interpolation is often used where we need to smooth the discrete points in a dataset.\n",
    "\n",
    "How to Implement it in SciPy?\n",
    "SciPy provides us with a module called scipy.interpolate which has many functions to deal with interpolation:\n",
    "\n",
    "1D Interpolation\n",
    "The function interp1d() is used to interpolate a distribution with 1 variable.\n",
    "\n",
    "It takes x and y points and returns a callable function that can be called with new x and returns corresponding y."
   ]
  },
  {
   "cell_type": "code",
   "execution_count": 32,
   "id": "e7ae90fe-ca3e-4063-8d39-3433d7555abe",
   "metadata": {},
   "outputs": [
    {
     "name": "stdout",
     "output_type": "stream",
     "text": [
      "[3.2 3.4 3.6 3.8 4.  4.2 4.4 4.6 4.8]\n"
     ]
    }
   ],
   "source": [
    "from scipy.interpolate import interp1d\n",
    "import numpy as np\n",
    "a=np.arange(10)\n",
    "b=2*a+1\n",
    "c=interp1d(a,b)\n",
    "d=c(np.arange(1.1,2,0.1))\n",
    "print(d)"
   ]
  },
  {
   "cell_type": "code",
   "execution_count": null,
   "id": "abc76752-6ac2-4920-ae8b-c1bc768d6003",
   "metadata": {},
   "outputs": [],
   "source": [
    "Spline Interpolation\n",
    "In 1D interpolation the points are fitted for a single curve whereas in Spline interpolation\n",
    "the points are fitted against a piecewise function defined with polynomials called splines.\n",
    "\n",
    "The UnivariateSpline() function takes xs and ys and produce a callable funciton that can be called with new xs."
   ]
  },
  {
   "cell_type": "code",
   "execution_count": 33,
   "id": "3ce538bf-f0ec-46db-8aa0-7439fdadea65",
   "metadata": {},
   "outputs": [
    {
     "name": "stdout",
     "output_type": "stream",
     "text": [
      "[2.5931152  2.80888088 3.04402354 3.29858925 3.57262408 3.8661741\n",
      " 4.1792854  4.51200403 4.86437608]\n"
     ]
    }
   ],
   "source": [
    "from scipy.interpolate import UnivariateSpline\n",
    "import numpy as np\n",
    "a=np.arange(10)\n",
    "b=a**2+np.sin(a)+1\n",
    "c=UnivariateSpline(a,b)\n",
    "d=c(np.arange(1.1,2,0.1))\n",
    "print(d)"
   ]
  },
  {
   "cell_type": "code",
   "execution_count": null,
   "id": "7237a6b3-f432-498b-a7c9-ab6dec3c5aed",
   "metadata": {},
   "outputs": [],
   "source": [
    "Interpolation with Radial Basis Function\n",
    "Radial basis function is a function that is defined corresponding to a fixed reference point.\n",
    "\n",
    "The Rbf() function also takes xs and ys as arguments and produces a callable function that can be called with new xs."
   ]
  },
  {
   "cell_type": "code",
   "execution_count": 34,
   "id": "32c355c5-771d-41e6-9f3b-b5c3e3731996",
   "metadata": {},
   "outputs": [
    {
     "name": "stdout",
     "output_type": "stream",
     "text": [
      "[3.15141622 3.45703697 3.75772563 4.05453815 4.349719   4.64623394\n",
      " 4.94736277 5.25636216 5.57619081]\n"
     ]
    }
   ],
   "source": [
    "from scipy.interpolate import Rbf\n",
    "import numpy as np\n",
    "a=np.arange(10)\n",
    "b=a**2+np.sin(a)+1\n",
    "c=Rbf(a,b)\n",
    "d=c(np.arange(1.1,2,0.1))\n",
    "print(d)"
   ]
  },
  {
   "cell_type": "code",
   "execution_count": null,
   "id": "a5567a63-6692-4f17-a27c-293e9cfce99c",
   "metadata": {},
   "outputs": [],
   "source": [
    "What is Statistical Significance Test?\n",
    "In statistics, statistical significance means that the result that was produced has a reason behind it, it was not produced randomly, or by chance.\n",
    "\n",
    "SciPy provides us with a module called scipy.stats, which has functions for performing statistical significance tests.\n",
    "\n",
    "Here are some techniques and keywords that are important when performing such tests:\n",
    "\n",
    "Hypothesis in Statistics\n",
    "Hypothesis is an assumption about a parameter in population.\n",
    "\n",
    "Null Hypothesis\n",
    "It assumes that the observation is not statistically significant.\n",
    "\n",
    "Alternate Hypothesis\n",
    "It assumes that the observations are due to some reason.\n",
    "\n",
    "It's alternate to Null Hypothesis.\n",
    "\n",
    "Example:\n",
    "\n",
    "For an assessment of a student we would take:\n",
    "\n",
    "\"student is worse than average\" - as a null hypothesis, and:\n",
    "\n",
    "\"student is better than average\" - as an alternate hypothesis.\n",
    "\n",
    "One tailed test\n",
    "When our hypothesis is testing for one side of the value only, it is called \"one tailed test\".\n",
    "Example:\n",
    "\n",
    "For the null hypothesis:\n",
    "\n",
    "\"the mean is equal to k\", we can have alternate hypothesis:\n",
    "\n",
    "\"the mean is less than k\", or:\n",
    "\n",
    "\"the mean is greater than k\"\n",
    "\n",
    "Two tailed test\n",
    "When our hypothesis is testing for both side of the values.\n",
    "\n",
    "Example:\n",
    "\n",
    "For the null hypothesis:\n",
    "\n",
    "\"the mean is equal to k\", we can have alternate hypothesis:\n",
    "\n",
    "\"the mean is not equal to k\"\n",
    "\n",
    "In this case the mean is less than, or greater than k, and both sides are to be checked.\n",
    "\n",
    "Alpha value\n",
    "Alpha value is the level of significance.\n",
    "\n",
    "Example:\n",
    "\n",
    "How close to extremes the data must be for null hypothesis to be rejected.\n",
    "\n",
    "It is usually taken as 0.01, 0.05, or 0.1.\n",
    "\n",
    "P value\n",
    "P value tells how close to extreme the data actually is.\n",
    "\n",
    "P value and alpha values are compared to establish the statistical significance.\n",
    "\n",
    "If p value <= alpha we reject the null hypothesis and say that the data is statistically significant. otherwise we accept the null hypothesis.\n",
    "\n",
    "ADVERTISEMENT\n",
    "\n",
    "T-Test\n",
    "T-tests are used to determine if there is significant deference between means of two variables and lets us know if they belong to the same distribution.\n",
    "\n",
    "It is a two tailed test.\n",
    "\n",
    "The function ttest_ind() takes two samples of same size and produces a tuple of t-statistic and p-value."
   ]
  },
  {
   "cell_type": "code",
   "execution_count": 35,
   "id": "6bba2383-679a-4a51-8ed0-d2b5ba9cb230",
   "metadata": {},
   "outputs": [
    {
     "name": "stdout",
     "output_type": "stream",
     "text": [
      "Ttest_indResult(statistic=-0.9188340105005154, pvalue=0.3703317726169234)\n"
     ]
    }
   ],
   "source": [
    "import numpy as np\n",
    "from scipy.stats import ttest_ind\n",
    "a=np.random.normal(size=(10))\n",
    "b=np.random.normal(size=(10))\n",
    "c=ttest_ind(a,b)\n",
    "print(c)"
   ]
  },
  {
   "cell_type": "code",
   "execution_count": 36,
   "id": "aaa7382a-7235-49be-b003-a02cc43a4e1a",
   "metadata": {},
   "outputs": [
    {
     "name": "stdout",
     "output_type": "stream",
     "text": [
      "0.3703317726169234\n"
     ]
    }
   ],
   "source": [
    "#if you want to return only the p-value, use the pvalue property:\n",
    "c=ttest_ind(a,b).pvalue\n",
    "print(c)"
   ]
  },
  {
   "cell_type": "code",
   "execution_count": null,
   "id": "4ce55a25-4c3a-4a56-b002-e250c6cf8ac7",
   "metadata": {},
   "outputs": [],
   "source": [
    "KS-Test\n",
    "KS test is used to check if given values follow a distribution.\n",
    "\n",
    "The function takes the value to be tested, and the CDF as two parameters.\n",
    "\n",
    "A CDF can be either a string or a callable function that returns the probability.\n",
    "\n",
    "It can be used as a one tailed or two tailed test.\n",
    "\n",
    "By default it is two tailed. We can pass parameter alternative as a string of one of two-sided, less, or greater."
   ]
  },
  {
   "cell_type": "code",
   "execution_count": 37,
   "id": "c5d39651-c402-46db-bd25-767eb1b41548",
   "metadata": {},
   "outputs": [
    {
     "name": "stdout",
     "output_type": "stream",
     "text": [
      "KstestResult(statistic=0.07544164459034158, pvalue=0.5929583518264625, statistic_location=-0.7876810560206737, statistic_sign=-1)\n"
     ]
    }
   ],
   "source": [
    "import numpy as np\n",
    "from scipy.stats import kstest\n",
    "a=np.random.normal(size=(100))\n",
    "b=kstest(a,\"norm\")\n",
    "print(b)"
   ]
  },
  {
   "cell_type": "code",
   "execution_count": null,
   "id": "17f77a9d-5cfe-4a82-b3e8-ebdc3fa1be23",
   "metadata": {},
   "outputs": [],
   "source": [
    "Statistical Description of Data\n",
    "In order to see a summary of values in an array, we can use the describe() function.\n",
    "\n",
    "It returns the following description:\n",
    "\n",
    "number of observations (nobs)\n",
    "minimum and maximum values = minmax\n",
    "mean\n",
    "variance\n",
    "skewness\n",
    "kurtosis"
   ]
  },
  {
   "cell_type": "code",
   "execution_count": 38,
   "id": "b411c1ef-2020-4c07-ae7e-e9816b1799c2",
   "metadata": {},
   "outputs": [
    {
     "name": "stdout",
     "output_type": "stream",
     "text": [
      "DescribeResult(nobs=100, minmax=(-2.839194126733242, 2.2503434110758955), mean=0.048120751560599515, variance=1.0152169491994558, skewness=0.0564539596583525, kurtosis=-0.22742860539100596)\n"
     ]
    }
   ],
   "source": [
    "import numpy as np\n",
    "from scipy.stats import describe\n",
    "a=np.random.normal(size=(100))\n",
    "b=describe(a)\n",
    "print(b)"
   ]
  },
  {
   "cell_type": "code",
   "execution_count": null,
   "id": "4e5e82d6-82cb-4e83-a7c6-11f80a54789f",
   "metadata": {},
   "outputs": [],
   "source": [
    "Normality Tests (Skewness and Kurtosis)\n",
    "Normality tests are based on the skewness and kurtosis.\n",
    "\n",
    "The normaltest() function returns p value for the null hypothesis:\n",
    "\n",
    "\"x comes from a normal distribution\".\n",
    "\n",
    "Skewness:\n",
    "A measure of symmetry in data.\n",
    "\n",
    "For normal distributions it is 0.\n",
    "\n",
    "If it is negative, it means the data is skewed left.\n",
    "\n",
    "If it is positive it means the data is skewed right.\n",
    "\n",
    "Kurtosis:\n",
    "A measure of whether the data is heavy or lightly tailed to a normal distribution.\n",
    "\n",
    "Positive kurtosis means heavy tailed.\n",
    "\n",
    "Negative kurtosis means lightly tailed."
   ]
  },
  {
   "cell_type": "code",
   "execution_count": 39,
   "id": "5112cee2-1527-4c98-a0eb-5a3a6de6ab77",
   "metadata": {},
   "outputs": [
    {
     "name": "stdout",
     "output_type": "stream",
     "text": [
      "0.007936065348514945\n",
      "-0.7177568306467075\n"
     ]
    }
   ],
   "source": [
    "import numpy as np\n",
    "from scipy.stats import skew,kurtosis\n",
    "a=np.random.normal(size=(100))\n",
    "print(skew(a))\n",
    "print(kurtosis(a))"
   ]
  },
  {
   "cell_type": "code",
   "execution_count": 40,
   "id": "e0fb8e09-0d2e-4444-adc1-aad8bdaf1e99",
   "metadata": {},
   "outputs": [
    {
     "name": "stdout",
     "output_type": "stream",
     "text": [
      "NormaltestResult(statistic=0.07209357101824873, pvalue=0.9645951633515969)\n"
     ]
    }
   ],
   "source": [
    "import numpy as np\n",
    "from scipy.stats import normaltest\n",
    "a=np.random.normal(size=(100))\n",
    "print(normaltest(a))"
   ]
  },
  {
   "cell_type": "code",
   "execution_count": 44,
   "id": "3cbd68e4-94b1-482c-9e39-119cefe40a69",
   "metadata": {},
   "outputs": [
    {
     "ename": "AttributeError",
     "evalue": "module 'scipy.ndimage' has no attribute 'imread'",
     "output_type": "error",
     "traceback": [
      "\u001b[1;31m---------------------------------------------------------------------------\u001b[0m",
      "\u001b[1;31mAttributeError\u001b[0m                            Traceback (most recent call last)",
      "Cell \u001b[1;32mIn[44], line 5\u001b[0m\n\u001b[0;32m      2\u001b[0m \u001b[38;5;28;01mimport\u001b[39;00m \u001b[38;5;21;01mmatplotlib\u001b[39;00m\u001b[38;5;21;01m.\u001b[39;00m\u001b[38;5;21;01mpyplot\u001b[39;00m \u001b[38;5;28;01mas\u001b[39;00m \u001b[38;5;21;01mplt\u001b[39;00m\n\u001b[0;32m      4\u001b[0m \u001b[38;5;66;03m# Replace backslashes with forward slashes\u001b[39;00m\n\u001b[1;32m----> 5\u001b[0m a \u001b[38;5;241m=\u001b[39m \u001b[43mndimage\u001b[49m\u001b[38;5;241;43m.\u001b[39;49m\u001b[43mimread\u001b[49m(\u001b[38;5;124m\"\u001b[39m\u001b[38;5;124mC:/Users/DELL/OneDrive/Pictures/WhatsApp Image 2023-05-20 at 19.11.11.jpg\u001b[39m\u001b[38;5;124m\"\u001b[39m)\n\u001b[0;32m      6\u001b[0m plt\u001b[38;5;241m.\u001b[39mimshow(a)\n\u001b[0;32m      7\u001b[0m plt\u001b[38;5;241m.\u001b[39maxis(\u001b[38;5;124m'\u001b[39m\u001b[38;5;124moff\u001b[39m\u001b[38;5;124m'\u001b[39m)\n",
      "\u001b[1;31mAttributeError\u001b[0m: module 'scipy.ndimage' has no attribute 'imread'"
     ]
    }
   ],
   "source": [
    "from scipy import ndimage\n",
    "import matplotlib.pyplot as plt\n",
    "\n",
    "# Replace backslashes with forward slashes\n",
    "a = ndimage.imread(\"C:/Users/DELL/OneDrive/Pictures/WhatsApp Image 2023-05-20 at 19.11.11.jpg\")\n",
    "plt.imshow(a)\n",
    "plt.axis('off')\n",
    "plt.show()\n"
   ]
  },
  {
   "cell_type": "code",
   "execution_count": 47,
   "id": "989f0368-650f-4899-8eb7-f688ea6fb5d4",
   "metadata": {},
   "outputs": [
    {
     "name": "stderr",
     "output_type": "stream",
     "text": [
      "C:\\Users\\DELL\\AppData\\Local\\Temp\\ipykernel_29672\\2084362100.py:3: DeprecationWarning: Starting with ImageIO v3 the behavior of this function will switch to that of iio.v3.imread. To keep the current behavior (and make this warning disappear) use `import imageio.v2 as imageio` or call `imageio.v2.imread` directly.\n",
      "  a = imageio.imread(r\"C:\\Users\\DELL\\OneDrive\\Pictures\\WhatsApp Image 2023-05-20 at 19.11.11.jpg\")\n"
     ]
    },
    {
     "data": {
      "image/png": "[encoded data removed]",
      "text/plain": [
       "<Figure size 640x480 with 1 Axes>"
      ]
     },
     "metadata": {},
     "output_type": "display_data"
    }
   ],
   "source": [
    "import imageio\n",
    "import matplotlib.pyplot as plt\n",
    "a = imageio.imread(r\"C:\\Users\\DELL\\OneDrive\\Pictures\\WhatsApp Image 2023-05-20 at 19.11.11.jpg\")\n",
    "plt.imshow(a)\n",
    "plt.axis('off')\n",
    "plt.show()"
   ]
  },
  {
   "cell_type": "code",
   "execution_count": null,
   "id": "848b59fa-7449-4428-ba89-e1376ba3b971",
   "metadata": {},
   "outputs": [],
   "source": [
    "Scikit-learn is one of the most popular ML libraries for classical ML algorithms. \n",
    "It is built on top of two basic Python libraries, viz., NumPy and SciPy. \n",
    "Scikit-learn supports most of the supervised and unsupervised learning algorithms. \n",
    "Scikit-learn can also be used for data-mining and data-analysis, which makes it a great tool who is starting out with ML. "
   ]
  },
  {
   "cell_type": "code",
   "execution_count": 53,
   "id": "ea532f9c-3467-408d-a8ac-746aeee40f20",
   "metadata": {},
   "outputs": [
    {
     "name": "stdout",
     "output_type": "stream",
     "text": [
      "DecisionTreeClassifier()\n",
      "              precision    recall  f1-score   support\n",
      "\n",
      "           0       1.00      1.00      1.00        19\n",
      "           1       1.00      1.00      1.00        13\n",
      "           2       1.00      1.00      1.00        13\n",
      "\n",
      "    accuracy                           1.00        45\n",
      "   macro avg       1.00      1.00      1.00        45\n",
      "weighted avg       1.00      1.00      1.00        45\n",
      "\n",
      "[[19  0  0]\n",
      " [ 0 13  0]\n",
      " [ 0  0 13]]\n"
     ]
    }
   ],
   "source": [
    "from sklearn import datasets\n",
    "from sklearn import metrics\n",
    "from sklearn.tree import DecisionTreeClassifier\n",
    "from sklearn.model_selection import train_test_split\n",
    "a=datasets.load_iris()\n",
    "b=a.data\n",
    "c=a.target\n",
    "b_train,b_test,c_train,c_test=train_test_split(b,c,test_size=0.3,random_state=42)\n",
    "d=DecisionTreeClassifier()\n",
    "d.fit(b_train,c_train)\n",
    "e=d.predict(b_test)\n",
    "print(d)\n",
    "print(metrics.classification_report(c_test,e))\n",
    "print(metrics.confusion_matrix(c_test,e))"
   ]
  },
  {
   "cell_type": "code",
   "execution_count": null,
   "id": "b7523ad7-c11b-4ca6-aca2-003e7f577fcb",
   "metadata": {},
   "outputs": [],
   "source": [
    "We all know that Machine Learning is basically mathematics and statistics. 4\n",
    "Theano is a popular python library that is used to define, evaluate and optimize mathematical\n",
    "expressions involving multi-dimensional arrays in an efficient manner. It is achieved by optimizing the utilization of CPU and GPU. \n",
    "It is extensively used for unit-testing and self-verification to detect and diagnose different types of errors. \n",
    "Theano is a very powerful library that has been used in large-scale \n",
    "computationally intensive scientific projects for a long time but is simple and approachable enough to be used by individuals for their own projects. "
   ]
  },
  {
   "cell_type": "code",
   "execution_count": null,
   "id": "7da1fd97-f1a2-4751-b086-d1b082b01c81",
   "metadata": {},
   "outputs": [],
   "source": [
    "present theano version is not supporting"
   ]
  },
  {
   "cell_type": "code",
   "execution_count": null,
   "id": "fe006b10-dee0-46be-ae5f-0147a5712723",
   "metadata": {},
   "outputs": [],
   "source": [
    "TensorFlow is a very popular open-source library for high performance numerical computation developed by the Google Brain team in Google. \n",
    "As the name suggests, Tensorflow is a framework that involves defining and running computations involving tensors. \n",
    "It can train and run deep neural networks that can be used to develop several AI applications. \n",
    "TensorFlow is widely used in the field of deep learning research and application. "
   ]
  },
  {
   "cell_type": "code",
   "execution_count": 64,
   "id": "65afe031-f7c0-4377-b7d7-5a28ae85d292",
   "metadata": {},
   "outputs": [
    {
     "name": "stdout",
     "output_type": "stream",
     "text": [
      "tf.Tensor([ 3  7 11 15 19], shape=(5,), dtype=int32)\n"
     ]
    }
   ],
   "source": [
    "import tensorflow as tf\n",
    "a=tf.constant([1,3,5,7,9])\n",
    "b=tf.constant([2,4,6,8,10])\n",
    "c=tf.add(a,b)\n",
    "print(c)"
   ]
  },
  {
   "cell_type": "code",
   "execution_count": 65,
   "id": "704237cf-8647-460c-afb0-25863e599fde",
   "metadata": {},
   "outputs": [
    {
     "name": "stdout",
     "output_type": "stream",
     "text": [
      "tf.Tensor([-1 -1 -1 -1 -1], shape=(5,), dtype=int32)\n"
     ]
    }
   ],
   "source": [
    "import tensorflow as tf\n",
    "a=tf.constant([1,3,5,7,9])\n",
    "b=tf.constant([2,4,6,8,10])\n",
    "c=tf.subtract(a,b)\n",
    "print(c)"
   ]
  },
  {
   "cell_type": "code",
   "execution_count": 66,
   "id": "38b412b1-6928-40b1-a0c5-989fcc50bc29",
   "metadata": {},
   "outputs": [
    {
     "name": "stdout",
     "output_type": "stream",
     "text": [
      "tf.Tensor([ 2 12 30 56 90], shape=(5,), dtype=int32)\n"
     ]
    }
   ],
   "source": [
    "import tensorflow as tf\n",
    "a=tf.constant([1,3,5,7,9])\n",
    "b=tf.constant([2,4,6,8,10])\n",
    "c=tf.multiply(a,b)\n",
    "print(c)"
   ]
  },
  {
   "cell_type": "code",
   "execution_count": null,
   "id": "6ea548b1-5f22-4b70-afe0-e65680544387",
   "metadata": {},
   "outputs": [],
   "source": [
    "It provides many inbuilt methods for groping, combining and filtering data.\n",
    "\n",
    "Keras is a very popular Machine Learning library for Python. \n",
    "It is a high-level neural networks API capable of running on top of TensorFlow, CNTK, or Theano.\n",
    "It can run seamlessly on both CPU and GPU. Keras makes it really for ML beginners to build and design a Neural Network. \n",
    "One of the best thing about Keras is that it allows for easy and fast prototyping."
   ]
  },
  {
   "cell_type": "code",
   "execution_count": null,
   "id": "656c55de-f23d-4736-90da-7eac5aa6a59f",
   "metadata": {},
   "outputs": [],
   "source": [
    "PyTorch is a popular open-source Machine Learning library for Python based on Torch, which is an open-source Machine Learning library\n",
    "that is implemented in C with a wrapper in Lua. It has an extensive choice of tools and libraries \n",
    "that support Computer Vision, Natural Language Processing(NLP), and many more ML programs. \n",
    "It allows developers to perform computations on Tensors with GPU acceleration and also helps in creating computational graphs. "
   ]
  },
  {
   "cell_type": "code",
   "execution_count": null,
   "id": "2e3a63c1-8073-4ba6-b6c3-218068267ec2",
   "metadata": {},
   "outputs": [],
   "source": []
  }
 ],
 "metadata": {
  "kernelspec": {
   "display_name": "Python 3 (ipykernel)",
   "language": "python",
   "name": "python3"
  },
  "language_info": {
   "codemirror_mode": {
    "name": "ipython",
    "version": 3
   },
   "file_extension": ".py",
   "mimetype": "text/x-python",
   "name": "python",
   "nbconvert_exporter": "python",
   "pygments_lexer": "ipython3",
   "version": "3.8.2"
  }
 },
 "nbformat": 4,
 "nbformat_minor": 5
}
